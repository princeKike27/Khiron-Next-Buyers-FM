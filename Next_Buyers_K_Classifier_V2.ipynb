{
  "nbformat": 4,
  "nbformat_minor": 0,
  "metadata": {
    "colab": {
      "name": "Next-Buyers-K-Classifier_V2.ipynb",
      "provenance": [],
      "collapsed_sections": [],
      "toc_visible": true,
      "authorship_tag": "ABX9TyMOxhiLM1OGVsgVY+lHwU11",
      "include_colab_link": true
    },
    "kernelspec": {
      "name": "python3",
      "display_name": "Python 3"
    },
    "language_info": {
      "name": "python"
    }
  },
  "cells": [
    {
      "cell_type": "markdown",
      "metadata": {
        "id": "view-in-github",
        "colab_type": "text"
      },
      "source": [
        "<a href=\"https://colab.research.google.com/github/princeKike27/Next-Buyers-K-Classifier/blob/main/Next_Buyers_K_Classifier_V2.ipynb\" target=\"_parent\"><img src=\"https://colab.research.google.com/assets/colab-badge.svg\" alt=\"Open In Colab\"/></a>"
      ]
    },
    {
      "cell_type": "markdown",
      "metadata": {
        "id": "oWKTJQi_pfYa"
      },
      "source": [
        "# Next Buyers *K* Classifier\n",
        "\n",
        "For this project I analyzed data from patients that have been prescribed with FMs. By using a Logistic Regression Algorithm I created a next-buyers classifier that based on patient features like its age, sex, diagnosis, city and type of product will classify a patient as a buyer or non buyer.\n",
        "\n",
        "\n",
        "Throught the project you will be able to find:\n",
        "\n",
        "- Data cleaning and standardization.\n",
        "- Analysis of relevant features to build the model.\n",
        "- Logistic Regression Model for patient classification.\n",
        "- Analysis of model's performance.\n",
        "- Model testing.\n"
      ]
    },
    {
      "cell_type": "markdown",
      "metadata": {
        "id": "J_ripd1IpwiS"
      },
      "source": [
        "![purple-divider](https://user-images.githubusercontent.com/7065401/52071927-c1cd7100-2562-11e9-908a-dde91ba14e59.png)"
      ]
    },
    {
      "cell_type": "code",
      "metadata": {
        "id": "xD0eYhC6pZ5T"
      },
      "source": [
        "# import modules\n",
        "import pandas as pd\n",
        "import numpy as np\n",
        "import matplotlib.pyplot as plt\n",
        "import seaborn as sns"
      ],
      "execution_count": null,
      "outputs": []
    },
    {
      "cell_type": "code",
      "metadata": {
        "id": "udspsBPQqYww"
      },
      "source": [
        "# load data files\n",
        "\n",
        "# sales df\n",
        "df_sales = pd.read_csv(\n",
        "    'https://raw.githubusercontent.com/princeKike27/Khiron-Next-Buyers-FM/main/Compras_FMs.csv',\\\n",
        "    sep=';')\n",
        "\n",
        "# procedures df\n",
        "df_procedures = pd.read_csv(\n",
        "    'https://raw.githubusercontent.com/princeKike27/Next-Buyers-K-Classifier/main/Procedimientos_FMs_V2.csv',\\\n",
        "    sep=';')"
      ],
      "execution_count": null,
      "outputs": []
    },
    {
      "cell_type": "code",
      "metadata": {
        "colab": {
          "base_uri": "https://localhost:8080/",
          "height": 365
        },
        "id": "EoeVjChvvcs4",
        "outputId": "7887ab54-cd68-48ce-c899-c0ef13848063"
      },
      "source": [
        "# check procedures df\n",
        "df_procedures.head()"
      ],
      "execution_count": null,
      "outputs": [
        {
          "output_type": "execute_result",
          "data": {
            "text/html": [
              "<div>\n",
              "<style scoped>\n",
              "    .dataframe tbody tr th:only-of-type {\n",
              "        vertical-align: middle;\n",
              "    }\n",
              "\n",
              "    .dataframe tbody tr th {\n",
              "        vertical-align: top;\n",
              "    }\n",
              "\n",
              "    .dataframe thead th {\n",
              "        text-align: right;\n",
              "    }\n",
              "</style>\n",
              "<table border=\"1\" class=\"dataframe\">\n",
              "  <thead>\n",
              "    <tr style=\"text-align: right;\">\n",
              "      <th></th>\n",
              "      <th>Ingreso</th>\n",
              "      <th>DocPaciente</th>\n",
              "      <th>Fecha Nacimiento</th>\n",
              "      <th>Edad</th>\n",
              "      <th>Sexo</th>\n",
              "      <th>CiudadMunicipio</th>\n",
              "      <th>Diagnostico</th>\n",
              "      <th>CodigoDiagnostico</th>\n",
              "      <th>Plan</th>\n",
              "      <th>Tipo Plan</th>\n",
              "      <th>FechaIngreso</th>\n",
              "      <th>FechaFormulacion</th>\n",
              "      <th>CodProducto</th>\n",
              "      <th>Cantidad</th>\n",
              "      <th>DocMedico</th>\n",
              "      <th>NombreMedico</th>\n",
              "      <th>Especialidad</th>\n",
              "      <th>Plan/Servicio</th>\n",
              "      <th>Sede</th>\n",
              "      <th>Tipo Examen</th>\n",
              "    </tr>\n",
              "  </thead>\n",
              "  <tbody>\n",
              "    <tr>\n",
              "      <th>0</th>\n",
              "      <td>26928</td>\n",
              "      <td>19059029</td>\n",
              "      <td>13/09/1948</td>\n",
              "      <td>73</td>\n",
              "      <td>M</td>\n",
              "      <td>BOGOTÁ D.C.</td>\n",
              "      <td>NaN</td>\n",
              "      <td>NaN</td>\n",
              "      <td>PLAN PARTICULAR</td>\n",
              "      <td>Particular</td>\n",
              "      <td>2020-03-19</td>\n",
              "      <td>2020-03-19</td>\n",
              "      <td>fm001</td>\n",
              "      <td>1</td>\n",
              "      <td>53007921</td>\n",
              "      <td>XIOMARA  GARCIA</td>\n",
              "      <td>Neurologia</td>\n",
              "      <td>Neurologia</td>\n",
              "      <td>ZERENIA</td>\n",
              "      <td>NaN</td>\n",
              "    </tr>\n",
              "    <tr>\n",
              "      <th>1</th>\n",
              "      <td>26806</td>\n",
              "      <td>390646</td>\n",
              "      <td>1/08/1934</td>\n",
              "      <td>87</td>\n",
              "      <td>M</td>\n",
              "      <td>BOGOTÁ D.C.</td>\n",
              "      <td>NEURALGIA POSTHERPES ZOSTER(B02.2†)</td>\n",
              "      <td>G530</td>\n",
              "      <td>PLAN PARTICULAR</td>\n",
              "      <td>Particular</td>\n",
              "      <td>2020-03-19</td>\n",
              "      <td>2020-03-19</td>\n",
              "      <td>fm001</td>\n",
              "      <td>1</td>\n",
              "      <td>53013811</td>\n",
              "      <td>LENIS  RIVERA</td>\n",
              "      <td>Algesiólogo</td>\n",
              "      <td>Consulta Dolor y Cuidados Paliativos</td>\n",
              "      <td>ZERENIA</td>\n",
              "      <td>Primera vez</td>\n",
              "    </tr>\n",
              "    <tr>\n",
              "      <th>2</th>\n",
              "      <td>26846</td>\n",
              "      <td>41595666</td>\n",
              "      <td>20/09/1953</td>\n",
              "      <td>68</td>\n",
              "      <td>F</td>\n",
              "      <td>CAJICÁ</td>\n",
              "      <td>NaN</td>\n",
              "      <td>NaN</td>\n",
              "      <td>PLAN PARTICULAR</td>\n",
              "      <td>Particular</td>\n",
              "      <td>2020-03-19</td>\n",
              "      <td>2020-03-19</td>\n",
              "      <td>fm001</td>\n",
              "      <td>1</td>\n",
              "      <td>53007921</td>\n",
              "      <td>XIOMARA  GARCIA</td>\n",
              "      <td>Neurologia</td>\n",
              "      <td>Neurologia</td>\n",
              "      <td>ZERENIA</td>\n",
              "      <td>NaN</td>\n",
              "    </tr>\n",
              "    <tr>\n",
              "      <th>3</th>\n",
              "      <td>26861</td>\n",
              "      <td>41499724</td>\n",
              "      <td>20/08/1950</td>\n",
              "      <td>71</td>\n",
              "      <td>F</td>\n",
              "      <td>BOGOTÁ D.C.</td>\n",
              "      <td>NaN</td>\n",
              "      <td>NaN</td>\n",
              "      <td>PLAN PARTICULAR</td>\n",
              "      <td>Particular</td>\n",
              "      <td>2020-03-19</td>\n",
              "      <td>2020-03-19</td>\n",
              "      <td>fm001</td>\n",
              "      <td>1</td>\n",
              "      <td>53007921</td>\n",
              "      <td>XIOMARA  GARCIA</td>\n",
              "      <td>Neurologia</td>\n",
              "      <td>Neurologia</td>\n",
              "      <td>ZERENIA</td>\n",
              "      <td>NaN</td>\n",
              "    </tr>\n",
              "    <tr>\n",
              "      <th>4</th>\n",
              "      <td>26956</td>\n",
              "      <td>52863476</td>\n",
              "      <td>17/09/1981</td>\n",
              "      <td>40</td>\n",
              "      <td>F</td>\n",
              "      <td>BOGOTÁ D.C.</td>\n",
              "      <td>FIBROMIALGIA</td>\n",
              "      <td>M797</td>\n",
              "      <td>PLAN PARTICULAR</td>\n",
              "      <td>Particular</td>\n",
              "      <td>2020-03-19</td>\n",
              "      <td>2020-03-19</td>\n",
              "      <td>fm001</td>\n",
              "      <td>2</td>\n",
              "      <td>53013811</td>\n",
              "      <td>LENIS  RIVERA</td>\n",
              "      <td>Algesiólogo</td>\n",
              "      <td>Consulta Dolor y Cuidados Paliativos</td>\n",
              "      <td>ZERENIA</td>\n",
              "      <td>Primera vez</td>\n",
              "    </tr>\n",
              "  </tbody>\n",
              "</table>\n",
              "</div>"
            ],
            "text/plain": [
              "   Ingreso DocPaciente  ...     Sede  Tipo Examen\n",
              "0    26928    19059029  ...  ZERENIA          NaN\n",
              "1    26806      390646  ...  ZERENIA  Primera vez\n",
              "2    26846    41595666  ...  ZERENIA          NaN\n",
              "3    26861    41499724  ...  ZERENIA          NaN\n",
              "4    26956    52863476  ...  ZERENIA  Primera vez\n",
              "\n",
              "[5 rows x 20 columns]"
            ]
          },
          "metadata": {},
          "execution_count": 3
        }
      ]
    },
    {
      "cell_type": "code",
      "metadata": {
        "id": "Dh7XFg3-rhah",
        "colab": {
          "base_uri": "https://localhost:8080/",
          "height": 206
        },
        "outputId": "bd799356-91bd-4900-bfa2-50e4f1e9d3a7"
      },
      "source": [
        "# check sales df\n",
        "df_sales.head()"
      ],
      "execution_count": null,
      "outputs": [
        {
          "output_type": "execute_result",
          "data": {
            "text/html": [
              "<div>\n",
              "<style scoped>\n",
              "    .dataframe tbody tr th:only-of-type {\n",
              "        vertical-align: middle;\n",
              "    }\n",
              "\n",
              "    .dataframe tbody tr th {\n",
              "        vertical-align: top;\n",
              "    }\n",
              "\n",
              "    .dataframe thead th {\n",
              "        text-align: right;\n",
              "    }\n",
              "</style>\n",
              "<table border=\"1\" class=\"dataframe\">\n",
              "  <thead>\n",
              "    <tr style=\"text-align: right;\">\n",
              "      <th></th>\n",
              "      <th>ingreso</th>\n",
              "      <th>cedula</th>\n",
              "      <th>fecha_oc</th>\n",
              "    </tr>\n",
              "  </thead>\n",
              "  <tbody>\n",
              "    <tr>\n",
              "      <th>0</th>\n",
              "      <td>26806</td>\n",
              "      <td>390646</td>\n",
              "      <td>2020-03-19</td>\n",
              "    </tr>\n",
              "    <tr>\n",
              "      <th>1</th>\n",
              "      <td>26793</td>\n",
              "      <td>13352962</td>\n",
              "      <td>2020-03-19</td>\n",
              "    </tr>\n",
              "    <tr>\n",
              "      <th>2</th>\n",
              "      <td>26928</td>\n",
              "      <td>19059029</td>\n",
              "      <td>2020-03-19</td>\n",
              "    </tr>\n",
              "    <tr>\n",
              "      <th>3</th>\n",
              "      <td>26891</td>\n",
              "      <td>31259698</td>\n",
              "      <td>2020-03-19</td>\n",
              "    </tr>\n",
              "    <tr>\n",
              "      <th>4</th>\n",
              "      <td>26720</td>\n",
              "      <td>41453437</td>\n",
              "      <td>2020-03-19</td>\n",
              "    </tr>\n",
              "  </tbody>\n",
              "</table>\n",
              "</div>"
            ],
            "text/plain": [
              "   ingreso    cedula    fecha_oc\n",
              "0    26806    390646  2020-03-19\n",
              "1    26793  13352962  2020-03-19\n",
              "2    26928  19059029  2020-03-19\n",
              "3    26891  31259698  2020-03-19\n",
              "4    26720  41453437  2020-03-19"
            ]
          },
          "metadata": {},
          "execution_count": 4
        }
      ]
    },
    {
      "cell_type": "markdown",
      "metadata": {
        "id": "Rvqdvrzpv2jY"
      },
      "source": [
        "![purple-divider](https://user-images.githubusercontent.com/7065401/52071927-c1cd7100-2562-11e9-908a-dde91ba14e59.png)"
      ]
    },
    {
      "cell_type": "markdown",
      "metadata": {
        "id": "d02slko9v77v"
      },
      "source": [
        "## Procedures FMs"
      ]
    },
    {
      "cell_type": "code",
      "metadata": {
        "id": "Xid2wi95wAEG",
        "colab": {
          "base_uri": "https://localhost:8080/",
          "height": 365
        },
        "outputId": "c856a86d-32d5-46ca-aa1b-e2e159c86374"
      },
      "source": [
        "# procedures df\n",
        "df_procedures.head()"
      ],
      "execution_count": null,
      "outputs": [
        {
          "output_type": "execute_result",
          "data": {
            "text/html": [
              "<div>\n",
              "<style scoped>\n",
              "    .dataframe tbody tr th:only-of-type {\n",
              "        vertical-align: middle;\n",
              "    }\n",
              "\n",
              "    .dataframe tbody tr th {\n",
              "        vertical-align: top;\n",
              "    }\n",
              "\n",
              "    .dataframe thead th {\n",
              "        text-align: right;\n",
              "    }\n",
              "</style>\n",
              "<table border=\"1\" class=\"dataframe\">\n",
              "  <thead>\n",
              "    <tr style=\"text-align: right;\">\n",
              "      <th></th>\n",
              "      <th>Ingreso</th>\n",
              "      <th>DocPaciente</th>\n",
              "      <th>Fecha Nacimiento</th>\n",
              "      <th>Edad</th>\n",
              "      <th>Sexo</th>\n",
              "      <th>CiudadMunicipio</th>\n",
              "      <th>Diagnostico</th>\n",
              "      <th>CodigoDiagnostico</th>\n",
              "      <th>Plan</th>\n",
              "      <th>Tipo Plan</th>\n",
              "      <th>FechaIngreso</th>\n",
              "      <th>FechaFormulacion</th>\n",
              "      <th>CodProducto</th>\n",
              "      <th>Cantidad</th>\n",
              "      <th>DocMedico</th>\n",
              "      <th>NombreMedico</th>\n",
              "      <th>Especialidad</th>\n",
              "      <th>Plan/Servicio</th>\n",
              "      <th>Sede</th>\n",
              "      <th>Tipo Examen</th>\n",
              "    </tr>\n",
              "  </thead>\n",
              "  <tbody>\n",
              "    <tr>\n",
              "      <th>0</th>\n",
              "      <td>26928</td>\n",
              "      <td>19059029</td>\n",
              "      <td>13/09/1948</td>\n",
              "      <td>73</td>\n",
              "      <td>M</td>\n",
              "      <td>BOGOTÁ D.C.</td>\n",
              "      <td>NaN</td>\n",
              "      <td>NaN</td>\n",
              "      <td>PLAN PARTICULAR</td>\n",
              "      <td>Particular</td>\n",
              "      <td>2020-03-19</td>\n",
              "      <td>2020-03-19</td>\n",
              "      <td>fm001</td>\n",
              "      <td>1</td>\n",
              "      <td>53007921</td>\n",
              "      <td>XIOMARA  GARCIA</td>\n",
              "      <td>Neurologia</td>\n",
              "      <td>Neurologia</td>\n",
              "      <td>ZERENIA</td>\n",
              "      <td>NaN</td>\n",
              "    </tr>\n",
              "    <tr>\n",
              "      <th>1</th>\n",
              "      <td>26806</td>\n",
              "      <td>390646</td>\n",
              "      <td>1/08/1934</td>\n",
              "      <td>87</td>\n",
              "      <td>M</td>\n",
              "      <td>BOGOTÁ D.C.</td>\n",
              "      <td>NEURALGIA POSTHERPES ZOSTER(B02.2†)</td>\n",
              "      <td>G530</td>\n",
              "      <td>PLAN PARTICULAR</td>\n",
              "      <td>Particular</td>\n",
              "      <td>2020-03-19</td>\n",
              "      <td>2020-03-19</td>\n",
              "      <td>fm001</td>\n",
              "      <td>1</td>\n",
              "      <td>53013811</td>\n",
              "      <td>LENIS  RIVERA</td>\n",
              "      <td>Algesiólogo</td>\n",
              "      <td>Consulta Dolor y Cuidados Paliativos</td>\n",
              "      <td>ZERENIA</td>\n",
              "      <td>Primera vez</td>\n",
              "    </tr>\n",
              "    <tr>\n",
              "      <th>2</th>\n",
              "      <td>26846</td>\n",
              "      <td>41595666</td>\n",
              "      <td>20/09/1953</td>\n",
              "      <td>68</td>\n",
              "      <td>F</td>\n",
              "      <td>CAJICÁ</td>\n",
              "      <td>NaN</td>\n",
              "      <td>NaN</td>\n",
              "      <td>PLAN PARTICULAR</td>\n",
              "      <td>Particular</td>\n",
              "      <td>2020-03-19</td>\n",
              "      <td>2020-03-19</td>\n",
              "      <td>fm001</td>\n",
              "      <td>1</td>\n",
              "      <td>53007921</td>\n",
              "      <td>XIOMARA  GARCIA</td>\n",
              "      <td>Neurologia</td>\n",
              "      <td>Neurologia</td>\n",
              "      <td>ZERENIA</td>\n",
              "      <td>NaN</td>\n",
              "    </tr>\n",
              "    <tr>\n",
              "      <th>3</th>\n",
              "      <td>26861</td>\n",
              "      <td>41499724</td>\n",
              "      <td>20/08/1950</td>\n",
              "      <td>71</td>\n",
              "      <td>F</td>\n",
              "      <td>BOGOTÁ D.C.</td>\n",
              "      <td>NaN</td>\n",
              "      <td>NaN</td>\n",
              "      <td>PLAN PARTICULAR</td>\n",
              "      <td>Particular</td>\n",
              "      <td>2020-03-19</td>\n",
              "      <td>2020-03-19</td>\n",
              "      <td>fm001</td>\n",
              "      <td>1</td>\n",
              "      <td>53007921</td>\n",
              "      <td>XIOMARA  GARCIA</td>\n",
              "      <td>Neurologia</td>\n",
              "      <td>Neurologia</td>\n",
              "      <td>ZERENIA</td>\n",
              "      <td>NaN</td>\n",
              "    </tr>\n",
              "    <tr>\n",
              "      <th>4</th>\n",
              "      <td>26956</td>\n",
              "      <td>52863476</td>\n",
              "      <td>17/09/1981</td>\n",
              "      <td>40</td>\n",
              "      <td>F</td>\n",
              "      <td>BOGOTÁ D.C.</td>\n",
              "      <td>FIBROMIALGIA</td>\n",
              "      <td>M797</td>\n",
              "      <td>PLAN PARTICULAR</td>\n",
              "      <td>Particular</td>\n",
              "      <td>2020-03-19</td>\n",
              "      <td>2020-03-19</td>\n",
              "      <td>fm001</td>\n",
              "      <td>2</td>\n",
              "      <td>53013811</td>\n",
              "      <td>LENIS  RIVERA</td>\n",
              "      <td>Algesiólogo</td>\n",
              "      <td>Consulta Dolor y Cuidados Paliativos</td>\n",
              "      <td>ZERENIA</td>\n",
              "      <td>Primera vez</td>\n",
              "    </tr>\n",
              "  </tbody>\n",
              "</table>\n",
              "</div>"
            ],
            "text/plain": [
              "   Ingreso DocPaciente  ...     Sede  Tipo Examen\n",
              "0    26928    19059029  ...  ZERENIA          NaN\n",
              "1    26806      390646  ...  ZERENIA  Primera vez\n",
              "2    26846    41595666  ...  ZERENIA          NaN\n",
              "3    26861    41499724  ...  ZERENIA          NaN\n",
              "4    26956    52863476  ...  ZERENIA  Primera vez\n",
              "\n",
              "[5 rows x 20 columns]"
            ]
          },
          "metadata": {},
          "execution_count": 5
        }
      ]
    },
    {
      "cell_type": "code",
      "metadata": {
        "colab": {
          "base_uri": "https://localhost:8080/"
        },
        "id": "M3HmYQ8GP_Ca",
        "outputId": "21dbc938-c699-4e5d-f95e-5da474ab314e"
      },
      "source": [
        "# check shape of df\n",
        "df_procedures.shape"
      ],
      "execution_count": null,
      "outputs": [
        {
          "output_type": "execute_result",
          "data": {
            "text/plain": [
              "(35187, 20)"
            ]
          },
          "metadata": {},
          "execution_count": 6
        }
      ]
    },
    {
      "cell_type": "code",
      "metadata": {
        "colab": {
          "base_uri": "https://localhost:8080/"
        },
        "id": "j0JWwTRgQG4h",
        "outputId": "dc3d85c7-9be7-4f8d-a9ec-83af72121a6f"
      },
      "source": [
        "# check column types\n",
        "df_procedures.dtypes"
      ],
      "execution_count": null,
      "outputs": [
        {
          "output_type": "execute_result",
          "data": {
            "text/plain": [
              "Ingreso               int64\n",
              "DocPaciente          object\n",
              "Fecha Nacimiento     object\n",
              "Edad                  int64\n",
              "Sexo                 object\n",
              "CiudadMunicipio      object\n",
              "Diagnostico          object\n",
              "CodigoDiagnostico    object\n",
              "Plan                 object\n",
              "Tipo Plan            object\n",
              "FechaIngreso         object\n",
              "FechaFormulacion     object\n",
              "CodProducto          object\n",
              "Cantidad              int64\n",
              "DocMedico             int64\n",
              "NombreMedico         object\n",
              "Especialidad         object\n",
              "Plan/Servicio        object\n",
              "Sede                 object\n",
              "Tipo Examen          object\n",
              "dtype: object"
            ]
          },
          "metadata": {},
          "execution_count": 7
        }
      ]
    },
    {
      "cell_type": "code",
      "metadata": {
        "colab": {
          "base_uri": "https://localhost:8080/",
          "height": 510
        },
        "id": "1vKErZ2eQPbg",
        "outputId": "e640a80b-5f42-4dcd-a2f7-ec8a0a85ce43"
      },
      "source": [
        "# check for missing values\n",
        "import missingno as msg\n",
        "\n",
        "msg.matrix(df_procedures, figsize=(12, 6))"
      ],
      "execution_count": null,
      "outputs": [
        {
          "output_type": "execute_result",
          "data": {
            "text/plain": [
              "<matplotlib.axes._subplots.AxesSubplot at 0x7f3a307f2b10>"
            ]
          },
          "metadata": {},
          "execution_count": 8
        },
        {
          "output_type": "display_data",
          "data": {
            "image/png": "[encoded data removed]",
            "text/plain": [
              "<Figure size 864x432 with 2 Axes>"
            ]
          },
          "metadata": {
            "needs_background": "light"
          }
        }
      ]
    },
    {
      "cell_type": "code",
      "metadata": {
        "colab": {
          "base_uri": "https://localhost:8080/"
        },
        "id": "zqd1byUzQet-",
        "outputId": "07fa084d-6a4d-42e0-d6bb-d1823c6355ba"
      },
      "source": [
        "# find number of missing values in 'Diagnostico', 'CiudadMunicipio' and 'Tipo Examen'\n",
        "\n",
        "na_diagnostic = df_procedures['Diagnostico'].isna().sum()\n",
        "na_city = df_procedures['CiudadMunicipio'].isna().sum()\n",
        "na_exam = df_procedures['Tipo Examen'].isna().sum()\n",
        "\n",
        "print(f'Missing Values in Diagnostico: {na_diagnostic}')\n",
        "print(f'Missing Values in CiudadMunicipio: {na_city}')\n",
        "print(f'Missing Values in Tipo Examen: {na_exam}')"
      ],
      "execution_count": null,
      "outputs": [
        {
          "output_type": "stream",
          "name": "stdout",
          "text": [
            "Missing Values in Diagnostico: 6426\n",
            "Missing Values in CiudadMunicipio: 12\n",
            "Missing Values in Tipo Examen: 2076\n"
          ]
        }
      ]
    },
    {
      "cell_type": "code",
      "metadata": {
        "colab": {
          "base_uri": "https://localhost:8080/"
        },
        "id": "SJrYAEDBRQY3",
        "outputId": "30d94f9e-fa22-4db6-de00-10c0fbf85329"
      },
      "source": [
        "# drop na values of CiudadMunicipio\n",
        "df_procedures = df_procedures.dropna(subset=['CiudadMunicipio'])\n",
        "\n",
        "# check shape\n",
        "df_procedures.shape"
      ],
      "execution_count": null,
      "outputs": [
        {
          "output_type": "execute_result",
          "data": {
            "text/plain": [
              "(35175, 20)"
            ]
          },
          "metadata": {},
          "execution_count": 10
        }
      ]
    },
    {
      "cell_type": "markdown",
      "metadata": {
        "id": "9XxpgYVwYEK5"
      },
      "source": [
        "![green-divider](https://user-images.githubusercontent.com/7065401/52071924-c003ad80-2562-11e9-8297-1c6595f8a7ff.png)"
      ]
    },
    {
      "cell_type": "markdown",
      "metadata": {
        "id": "GxA9ms-XYKhA"
      },
      "source": [
        "### GroupBy of Relevant Features\n"
      ]
    },
    {
      "cell_type": "code",
      "metadata": {
        "colab": {
          "base_uri": "https://localhost:8080/",
          "height": 300
        },
        "id": "IMslvsgkqnu6",
        "outputId": "c9199069-7c48-40bf-e490-466ff0f4f2cf"
      },
      "source": [
        "# descriptive statistics\n",
        "df_procedures.describe()"
      ],
      "execution_count": null,
      "outputs": [
        {
          "output_type": "execute_result",
          "data": {
            "text/html": [
              "<div>\n",
              "<style scoped>\n",
              "    .dataframe tbody tr th:only-of-type {\n",
              "        vertical-align: middle;\n",
              "    }\n",
              "\n",
              "    .dataframe tbody tr th {\n",
              "        vertical-align: top;\n",
              "    }\n",
              "\n",
              "    .dataframe thead th {\n",
              "        text-align: right;\n",
              "    }\n",
              "</style>\n",
              "<table border=\"1\" class=\"dataframe\">\n",
              "  <thead>\n",
              "    <tr style=\"text-align: right;\">\n",
              "      <th></th>\n",
              "      <th>Ingreso</th>\n",
              "      <th>Edad</th>\n",
              "      <th>Cantidad</th>\n",
              "      <th>DocMedico</th>\n",
              "    </tr>\n",
              "  </thead>\n",
              "  <tbody>\n",
              "    <tr>\n",
              "      <th>count</th>\n",
              "      <td>35175.000000</td>\n",
              "      <td>35175.000000</td>\n",
              "      <td>35175.000000</td>\n",
              "      <td>3.517500e+04</td>\n",
              "    </tr>\n",
              "    <tr>\n",
              "      <th>mean</th>\n",
              "      <td>152043.356759</td>\n",
              "      <td>58.006880</td>\n",
              "      <td>1.349424</td>\n",
              "      <td>3.059769e+08</td>\n",
              "    </tr>\n",
              "    <tr>\n",
              "      <th>std</th>\n",
              "      <td>47764.906052</td>\n",
              "      <td>15.823454</td>\n",
              "      <td>0.754702</td>\n",
              "      <td>4.447034e+08</td>\n",
              "    </tr>\n",
              "    <tr>\n",
              "      <th>min</th>\n",
              "      <td>26720.000000</td>\n",
              "      <td>1.000000</td>\n",
              "      <td>1.000000</td>\n",
              "      <td>1.374997e+07</td>\n",
              "    </tr>\n",
              "    <tr>\n",
              "      <th>25%</th>\n",
              "      <td>117775.000000</td>\n",
              "      <td>48.000000</td>\n",
              "      <td>1.000000</td>\n",
              "      <td>1.906250e+07</td>\n",
              "    </tr>\n",
              "    <tr>\n",
              "      <th>50%</th>\n",
              "      <td>157978.000000</td>\n",
              "      <td>58.000000</td>\n",
              "      <td>1.000000</td>\n",
              "      <td>7.226080e+07</td>\n",
              "    </tr>\n",
              "    <tr>\n",
              "      <th>75%</th>\n",
              "      <td>191694.500000</td>\n",
              "      <td>69.000000</td>\n",
              "      <td>2.000000</td>\n",
              "      <td>1.017171e+09</td>\n",
              "    </tr>\n",
              "    <tr>\n",
              "      <th>max</th>\n",
              "      <td>225591.000000</td>\n",
              "      <td>101.000000</td>\n",
              "      <td>30.000000</td>\n",
              "      <td>1.235245e+09</td>\n",
              "    </tr>\n",
              "  </tbody>\n",
              "</table>\n",
              "</div>"
            ],
            "text/plain": [
              "             Ingreso          Edad      Cantidad     DocMedico\n",
              "count   35175.000000  35175.000000  35175.000000  3.517500e+04\n",
              "mean   152043.356759     58.006880      1.349424  3.059769e+08\n",
              "std     47764.906052     15.823454      0.754702  4.447034e+08\n",
              "min     26720.000000      1.000000      1.000000  1.374997e+07\n",
              "25%    117775.000000     48.000000      1.000000  1.906250e+07\n",
              "50%    157978.000000     58.000000      1.000000  7.226080e+07\n",
              "75%    191694.500000     69.000000      2.000000  1.017171e+09\n",
              "max    225591.000000    101.000000     30.000000  1.235245e+09"
            ]
          },
          "metadata": {},
          "execution_count": 11
        }
      ]
    },
    {
      "cell_type": "markdown",
      "metadata": {
        "id": "qXAB52j9mNUI"
      },
      "source": [
        "#### Number of FMs Prescriptions by Site"
      ]
    },
    {
      "cell_type": "code",
      "metadata": {
        "colab": {
          "base_uri": "https://localhost:8080/",
          "height": 426
        },
        "id": "pEDGwm8tYOWB",
        "outputId": "3042e813-ec6f-41e0-ecd5-41c345f48098"
      },
      "source": [
        "# FM procedures by sede\n",
        "fm_proced_sede = df_procedures.groupby(['Sede']).Cantidad.sum().reset_index()\n",
        "\n",
        "fm_proced_sede['%_Prescripciones'] = (fm_proced_sede.Cantidad / fm_proced_sede.Cantidad.sum()) * 100\n",
        "fm_proced_sede"
      ],
      "execution_count": null,
      "outputs": [
        {
          "output_type": "execute_result",
          "data": {
            "text/html": [
              "<div>\n",
              "<style scoped>\n",
              "    .dataframe tbody tr th:only-of-type {\n",
              "        vertical-align: middle;\n",
              "    }\n",
              "\n",
              "    .dataframe tbody tr th {\n",
              "        vertical-align: top;\n",
              "    }\n",
              "\n",
              "    .dataframe thead th {\n",
              "        text-align: right;\n",
              "    }\n",
              "</style>\n",
              "<table border=\"1\" class=\"dataframe\">\n",
              "  <thead>\n",
              "    <tr style=\"text-align: right;\">\n",
              "      <th></th>\n",
              "      <th>Sede</th>\n",
              "      <th>Cantidad</th>\n",
              "      <th>%_Prescripciones</th>\n",
              "    </tr>\n",
              "  </thead>\n",
              "  <tbody>\n",
              "    <tr>\n",
              "      <th>0</th>\n",
              "      <td>COUNTRY</td>\n",
              "      <td>3952</td>\n",
              "      <td>8.325960</td>\n",
              "    </tr>\n",
              "    <tr>\n",
              "      <th>1</th>\n",
              "      <td>PARKWAY</td>\n",
              "      <td>922</td>\n",
              "      <td>1.942443</td>\n",
              "    </tr>\n",
              "    <tr>\n",
              "      <th>2</th>\n",
              "      <td>ZERENIA</td>\n",
              "      <td>41362</td>\n",
              "      <td>87.140269</td>\n",
              "    </tr>\n",
              "    <tr>\n",
              "      <th>3</th>\n",
              "      <td>ZERENIA  - IBAGUE</td>\n",
              "      <td>106</td>\n",
              "      <td>0.223318</td>\n",
              "    </tr>\n",
              "    <tr>\n",
              "      <th>4</th>\n",
              "      <td>ZERENIA  - MEDELLÍN</td>\n",
              "      <td>420</td>\n",
              "      <td>0.884844</td>\n",
              "    </tr>\n",
              "    <tr>\n",
              "      <th>5</th>\n",
              "      <td>ZERENIA - ARMENIA</td>\n",
              "      <td>61</td>\n",
              "      <td>0.128513</td>\n",
              "    </tr>\n",
              "    <tr>\n",
              "      <th>6</th>\n",
              "      <td>ZERENIA - BARRANQUILLA</td>\n",
              "      <td>89</td>\n",
              "      <td>0.187503</td>\n",
              "    </tr>\n",
              "    <tr>\n",
              "      <th>7</th>\n",
              "      <td>ZERENIA - BUCARAMANGA</td>\n",
              "      <td>177</td>\n",
              "      <td>0.372898</td>\n",
              "    </tr>\n",
              "    <tr>\n",
              "      <th>8</th>\n",
              "      <td>ZERENIA - CALI</td>\n",
              "      <td>256</td>\n",
              "      <td>0.539333</td>\n",
              "    </tr>\n",
              "    <tr>\n",
              "      <th>9</th>\n",
              "      <td>ZERENIA - MANIZALES</td>\n",
              "      <td>3</td>\n",
              "      <td>0.006320</td>\n",
              "    </tr>\n",
              "    <tr>\n",
              "      <th>10</th>\n",
              "      <td>ZERENIA - PEREIRA</td>\n",
              "      <td>114</td>\n",
              "      <td>0.240172</td>\n",
              "    </tr>\n",
              "    <tr>\n",
              "      <th>11</th>\n",
              "      <td>ZERENIA - VALLEDUPAR</td>\n",
              "      <td>4</td>\n",
              "      <td>0.008427</td>\n",
              "    </tr>\n",
              "  </tbody>\n",
              "</table>\n",
              "</div>"
            ],
            "text/plain": [
              "                      Sede  Cantidad  %_Prescripciones\n",
              "0                  COUNTRY      3952          8.325960\n",
              "1                  PARKWAY       922          1.942443\n",
              "2                  ZERENIA     41362         87.140269\n",
              "3       ZERENIA  - IBAGUE        106          0.223318\n",
              "4      ZERENIA  - MEDELLÍN       420          0.884844\n",
              "5        ZERENIA - ARMENIA        61          0.128513\n",
              "6   ZERENIA - BARRANQUILLA        89          0.187503\n",
              "7    ZERENIA - BUCARAMANGA       177          0.372898\n",
              "8           ZERENIA - CALI       256          0.539333\n",
              "9      ZERENIA - MANIZALES         3          0.006320\n",
              "10       ZERENIA - PEREIRA       114          0.240172\n",
              "11    ZERENIA - VALLEDUPAR         4          0.008427"
            ]
          },
          "metadata": {},
          "execution_count": 12
        }
      ]
    },
    {
      "cell_type": "markdown",
      "metadata": {
        "id": "uDcTdlDWma-C"
      },
      "source": [
        "is_Zerenia is a relevant feature since 87.14% of FMs prescribed come from this clinic"
      ]
    },
    {
      "cell_type": "code",
      "metadata": {
        "colab": {
          "base_uri": "https://localhost:8080/",
          "height": 501
        },
        "id": "E85gmbCjbLw3",
        "outputId": "4bd3467c-f5e2-470d-adbb-70f2541cb288"
      },
      "source": [
        "# barplot of prescribed FMs per Sede\n",
        "\n",
        "f, ax = plt.subplots(figsize=(20,6))\n",
        "\n",
        "sns.barplot(x=fm_proced_sede.Sede, y=fm_proced_sede.Cantidad)\n",
        "# rotate x labels\n",
        "plt.xticks(rotation=45)\n",
        "plt.ylabel('Cantidad de FMs')\n",
        "\n",
        "plt.title('Cantidad de FMs Prescritas por Sede - Marzo 2020 a Septiembre 2021', pad=12)\n",
        "plt.show()"
      ],
      "execution_count": null,
      "outputs": [
        {
          "output_type": "display_data",
          "data": {
            "image/png": "[encoded data removed]",
            "text/plain": [
              "<Figure size 1440x432 with 1 Axes>"
            ]
          },
          "metadata": {
            "needs_background": "light"
          }
        }
      ]
    },
    {
      "cell_type": "markdown",
      "metadata": {
        "id": "Ml2Bt2dNmVsR"
      },
      "source": [
        "![green-divider](https://user-images.githubusercontent.com/7065401/52071924-c003ad80-2562-11e9-8297-1c6595f8a7ff.png)"
      ]
    },
    {
      "cell_type": "markdown",
      "metadata": {
        "id": "TKdZN_vpnQzw"
      },
      "source": [
        "#### Number of FMs Prescribed by Sex"
      ]
    },
    {
      "cell_type": "code",
      "metadata": {
        "colab": {
          "base_uri": "https://localhost:8080/",
          "height": 143
        },
        "id": "kYQWM6AQZ9Eu",
        "outputId": "80894944-6721-400c-8724-942da01a1e69"
      },
      "source": [
        "# FM procedures by sexo\n",
        "fm_proced_sex = df_procedures.groupby(['Sexo']).Cantidad.sum().reset_index()\n",
        "\n",
        "fm_proced_sex['%_Prescripciones'] = (fm_proced_sex.Cantidad / fm_proced_sex.Cantidad.sum()) * 100\n",
        "fm_proced_sex"
      ],
      "execution_count": null,
      "outputs": [
        {
          "output_type": "execute_result",
          "data": {
            "text/html": [
              "<div>\n",
              "<style scoped>\n",
              "    .dataframe tbody tr th:only-of-type {\n",
              "        vertical-align: middle;\n",
              "    }\n",
              "\n",
              "    .dataframe tbody tr th {\n",
              "        vertical-align: top;\n",
              "    }\n",
              "\n",
              "    .dataframe thead th {\n",
              "        text-align: right;\n",
              "    }\n",
              "</style>\n",
              "<table border=\"1\" class=\"dataframe\">\n",
              "  <thead>\n",
              "    <tr style=\"text-align: right;\">\n",
              "      <th></th>\n",
              "      <th>Sexo</th>\n",
              "      <th>Cantidad</th>\n",
              "      <th>%_Prescripciones</th>\n",
              "    </tr>\n",
              "  </thead>\n",
              "  <tbody>\n",
              "    <tr>\n",
              "      <th>0</th>\n",
              "      <td>F</td>\n",
              "      <td>33724</td>\n",
              "      <td>71.048751</td>\n",
              "    </tr>\n",
              "    <tr>\n",
              "      <th>1</th>\n",
              "      <td>I</td>\n",
              "      <td>1</td>\n",
              "      <td>0.002107</td>\n",
              "    </tr>\n",
              "    <tr>\n",
              "      <th>2</th>\n",
              "      <td>M</td>\n",
              "      <td>13741</td>\n",
              "      <td>28.949143</td>\n",
              "    </tr>\n",
              "  </tbody>\n",
              "</table>\n",
              "</div>"
            ],
            "text/plain": [
              "  Sexo  Cantidad  %_Prescripciones\n",
              "0    F     33724         71.048751\n",
              "1    I         1          0.002107\n",
              "2    M     13741         28.949143"
            ]
          },
          "metadata": {},
          "execution_count": 14
        }
      ]
    },
    {
      "cell_type": "markdown",
      "metadata": {
        "id": "3Ma1hQsRm5tj"
      },
      "source": [
        "The category 'I' of Sex is not going to be taken into account since Male(M) and Female(F) correspond to 99% of all patients prescribed "
      ]
    },
    {
      "cell_type": "code",
      "metadata": {
        "colab": {
          "base_uri": "https://localhost:8080/"
        },
        "id": "CZI-Kpz9luUN",
        "outputId": "92a37bc0-593f-4060-8787-eff9f73fdec7"
      },
      "source": [
        "# make dataframe without Sexo == I\n",
        "df_procedures = df_procedures[df_procedures['Sexo'] != 'I']\n",
        "\n",
        "df_procedures.Sexo.unique()"
      ],
      "execution_count": null,
      "outputs": [
        {
          "output_type": "execute_result",
          "data": {
            "text/plain": [
              "array(['M', 'F'], dtype=object)"
            ]
          },
          "metadata": {},
          "execution_count": 15
        }
      ]
    },
    {
      "cell_type": "code",
      "metadata": {
        "colab": {
          "base_uri": "https://localhost:8080/",
          "height": 404
        },
        "id": "t_PFf3bOc10a",
        "outputId": "7cf4278d-de53-45df-e648-381f44f1b821"
      },
      "source": [
        "# barplot of prescribed FMs per Sexo\n",
        "\n",
        "f, ax = plt.subplots(figsize=(12, 6))\n",
        "\n",
        "sns.barplot(x=fm_proced_sex.Sexo, y=fm_proced_sex.Cantidad)\n",
        "plt.ylabel('Cantidad de FMs')\n",
        "\n",
        "plt.title('Cantidad de FMs Prescritas por Sexo - Marzo 2020 a Septiembre 2021')\n",
        "plt.show()"
      ],
      "execution_count": null,
      "outputs": [
        {
          "output_type": "display_data",
          "data": {
            "image/png": "[encoded data removed]",
            "text/plain": [
              "<Figure size 864x432 with 1 Axes>"
            ]
          },
          "metadata": {
            "needs_background": "light"
          }
        }
      ]
    },
    {
      "cell_type": "markdown",
      "metadata": {
        "id": "HlAz4FIgnvpE"
      },
      "source": [
        "![green-divider](https://user-images.githubusercontent.com/7065401/52071924-c003ad80-2562-11e9-8297-1c6595f8a7ff.png)"
      ]
    },
    {
      "cell_type": "markdown",
      "metadata": {
        "id": "lHm-HBl_oxND"
      },
      "source": [
        "#### Number of FMs Prescribed by Service/Plan"
      ]
    },
    {
      "cell_type": "code",
      "metadata": {
        "colab": {
          "base_uri": "https://localhost:8080/",
          "height": 645
        },
        "id": "LC8nBGqgn1MJ",
        "outputId": "a9aa56f2-fbfe-4359-ed43-f2e0da567f25"
      },
      "source": [
        "# FMs prescribed by Plan/Servicio\n",
        "fm_proced_plan = df_procedures.groupby(['Plan/Servicio']).Cantidad.sum().reset_index()\n",
        "\n",
        "fm_proced_plan['%'] = (fm_proced_plan.Cantidad / fm_proced_plan.Cantidad.sum()) * 100\n",
        "fm_proced_plan"
      ],
      "execution_count": null,
      "outputs": [
        {
          "output_type": "execute_result",
          "data": {
            "text/html": [
              "<div>\n",
              "<style scoped>\n",
              "    .dataframe tbody tr th:only-of-type {\n",
              "        vertical-align: middle;\n",
              "    }\n",
              "\n",
              "    .dataframe tbody tr th {\n",
              "        vertical-align: top;\n",
              "    }\n",
              "\n",
              "    .dataframe thead th {\n",
              "        text-align: right;\n",
              "    }\n",
              "</style>\n",
              "<table border=\"1\" class=\"dataframe\">\n",
              "  <thead>\n",
              "    <tr style=\"text-align: right;\">\n",
              "      <th></th>\n",
              "      <th>Plan/Servicio</th>\n",
              "      <th>Cantidad</th>\n",
              "      <th>%</th>\n",
              "    </tr>\n",
              "  </thead>\n",
              "  <tbody>\n",
              "    <tr>\n",
              "      <th>0</th>\n",
              "      <td>Cannabis Medicinal</td>\n",
              "      <td>3068</td>\n",
              "      <td>6.463710</td>\n",
              "    </tr>\n",
              "    <tr>\n",
              "      <th>1</th>\n",
              "      <td>Consulta Dolor y Cuidados Paliativos</td>\n",
              "      <td>34449</td>\n",
              "      <td>72.577689</td>\n",
              "    </tr>\n",
              "    <tr>\n",
              "      <th>2</th>\n",
              "      <td>Dolor y Cuidados Paliativos Bloqueos</td>\n",
              "      <td>14</td>\n",
              "      <td>0.029495</td>\n",
              "    </tr>\n",
              "    <tr>\n",
              "      <th>3</th>\n",
              "      <td>Dolor y Cuidados Paliativos Lisis</td>\n",
              "      <td>1</td>\n",
              "      <td>0.002107</td>\n",
              "    </tr>\n",
              "    <tr>\n",
              "      <th>4</th>\n",
              "      <td>Fisioterapia</td>\n",
              "      <td>1</td>\n",
              "      <td>0.002107</td>\n",
              "    </tr>\n",
              "    <tr>\n",
              "      <th>5</th>\n",
              "      <td>Flete Formula Magistral</td>\n",
              "      <td>8</td>\n",
              "      <td>0.016855</td>\n",
              "    </tr>\n",
              "    <tr>\n",
              "      <th>6</th>\n",
              "      <td>Juntas Médicas</td>\n",
              "      <td>119</td>\n",
              "      <td>0.250711</td>\n",
              "    </tr>\n",
              "    <tr>\n",
              "      <th>7</th>\n",
              "      <td>Medicina Fisica y Rehabilitacion</td>\n",
              "      <td>6</td>\n",
              "      <td>0.012641</td>\n",
              "    </tr>\n",
              "    <tr>\n",
              "      <th>8</th>\n",
              "      <td>Medicina General</td>\n",
              "      <td>1</td>\n",
              "      <td>0.002107</td>\n",
              "    </tr>\n",
              "    <tr>\n",
              "      <th>9</th>\n",
              "      <td>Medicina General.</td>\n",
              "      <td>1495</td>\n",
              "      <td>3.149689</td>\n",
              "    </tr>\n",
              "    <tr>\n",
              "      <th>10</th>\n",
              "      <td>Medicina Interna</td>\n",
              "      <td>1</td>\n",
              "      <td>0.002107</td>\n",
              "    </tr>\n",
              "    <tr>\n",
              "      <th>11</th>\n",
              "      <td>Neurocirugia</td>\n",
              "      <td>233</td>\n",
              "      <td>0.490888</td>\n",
              "    </tr>\n",
              "    <tr>\n",
              "      <th>12</th>\n",
              "      <td>Neurologia</td>\n",
              "      <td>1697</td>\n",
              "      <td>3.575266</td>\n",
              "    </tr>\n",
              "    <tr>\n",
              "      <th>13</th>\n",
              "      <td>Neurología  Epilepsia</td>\n",
              "      <td>161</td>\n",
              "      <td>0.339197</td>\n",
              "    </tr>\n",
              "    <tr>\n",
              "      <th>14</th>\n",
              "      <td>Neurología  Movimientos Anormales</td>\n",
              "      <td>534</td>\n",
              "      <td>1.125040</td>\n",
              "    </tr>\n",
              "    <tr>\n",
              "      <th>15</th>\n",
              "      <td>Neurología Programación y Re programación de E...</td>\n",
              "      <td>30</td>\n",
              "      <td>0.063204</td>\n",
              "    </tr>\n",
              "    <tr>\n",
              "      <th>16</th>\n",
              "      <td>Neuropediatria</td>\n",
              "      <td>150</td>\n",
              "      <td>0.316022</td>\n",
              "    </tr>\n",
              "    <tr>\n",
              "      <th>17</th>\n",
              "      <td>Psiquiatria</td>\n",
              "      <td>5495</td>\n",
              "      <td>11.576951</td>\n",
              "    </tr>\n",
              "    <tr>\n",
              "      <th>18</th>\n",
              "      <td>Psiquiatria o Unidad de Salud Mental</td>\n",
              "      <td>2</td>\n",
              "      <td>0.004214</td>\n",
              "    </tr>\n",
              "  </tbody>\n",
              "</table>\n",
              "</div>"
            ],
            "text/plain": [
              "                                        Plan/Servicio  Cantidad          %\n",
              "0                                  Cannabis Medicinal      3068   6.463710\n",
              "1                Consulta Dolor y Cuidados Paliativos     34449  72.577689\n",
              "2                Dolor y Cuidados Paliativos Bloqueos        14   0.029495\n",
              "3                  Dolor y Cuidados Paliativos Lisis          1   0.002107\n",
              "4                                        Fisioterapia         1   0.002107\n",
              "5                             Flete Formula Magistral         8   0.016855\n",
              "6                                      Juntas Médicas       119   0.250711\n",
              "7                    Medicina Fisica y Rehabilitacion         6   0.012641\n",
              "8                                    Medicina General         1   0.002107\n",
              "9                                   Medicina General.      1495   3.149689\n",
              "10                                   Medicina Interna         1   0.002107\n",
              "11                                       Neurocirugia       233   0.490888\n",
              "12                                         Neurologia      1697   3.575266\n",
              "13                              Neurología  Epilepsia       161   0.339197\n",
              "14                  Neurología  Movimientos Anormales       534   1.125040\n",
              "15  Neurología Programación y Re programación de E...        30   0.063204\n",
              "16                                     Neuropediatria       150   0.316022\n",
              "17                                        Psiquiatria      5495  11.576951\n",
              "18               Psiquiatria o Unidad de Salud Mental         2   0.004214"
            ]
          },
          "metadata": {},
          "execution_count": 17
        }
      ]
    },
    {
      "cell_type": "markdown",
      "metadata": {
        "id": "rxCOuMfmq_pU"
      },
      "source": [
        " The most relevant Services on the number of FMs prescribed are:\n",
        " - is_Dolor_Paliativo >> 72.57% of FMs prescribed\n",
        " - is_Psiquiatria >> 11.58% of FMs prescribed\n",
        " - is_Cannabis >> 6.46% of FMs prescribed\n",
        " - is_Neurology >> 3.57% of FMs prescribed\n",
        "\n",
        "These Services correspond to 97.1% of FMs prescribed"
      ]
    },
    {
      "cell_type": "markdown",
      "metadata": {
        "id": "b1I58X8wwYIA"
      },
      "source": [
        "![green-divider](https://user-images.githubusercontent.com/7065401/52071924-c003ad80-2562-11e9-8297-1c6595f8a7ff.png)"
      ]
    },
    {
      "cell_type": "markdown",
      "metadata": {
        "id": "V7trZXziw0gT"
      },
      "source": [
        "#### Number of FMs Prescribed by Product Type"
      ]
    },
    {
      "cell_type": "code",
      "metadata": {
        "colab": {
          "base_uri": "https://localhost:8080/",
          "height": 206
        },
        "id": "-qYYRPSVxAsy",
        "outputId": "e1462c3c-b592-4166-d532-d2d40122d67e"
      },
      "source": [
        "# FMs prescribed by CodProducto\n",
        "fm_proced_prod = df_procedures.groupby(['CodProducto']).Cantidad.sum().reset_index()\n",
        "\n",
        "fm_proced_prod['%'] = (fm_proced_prod.Cantidad / fm_proced_prod.Cantidad.sum()) * 100\n",
        "fm_proced_prod"
      ],
      "execution_count": null,
      "outputs": [
        {
          "output_type": "execute_result",
          "data": {
            "text/html": [
              "<div>\n",
              "<style scoped>\n",
              "    .dataframe tbody tr th:only-of-type {\n",
              "        vertical-align: middle;\n",
              "    }\n",
              "\n",
              "    .dataframe tbody tr th {\n",
              "        vertical-align: top;\n",
              "    }\n",
              "\n",
              "    .dataframe thead th {\n",
              "        text-align: right;\n",
              "    }\n",
              "</style>\n",
              "<table border=\"1\" class=\"dataframe\">\n",
              "  <thead>\n",
              "    <tr style=\"text-align: right;\">\n",
              "      <th></th>\n",
              "      <th>CodProducto</th>\n",
              "      <th>Cantidad</th>\n",
              "      <th>%</th>\n",
              "    </tr>\n",
              "  </thead>\n",
              "  <tbody>\n",
              "    <tr>\n",
              "      <th>0</th>\n",
              "      <td>fm001</td>\n",
              "      <td>26989</td>\n",
              "      <td>56.860845</td>\n",
              "    </tr>\n",
              "    <tr>\n",
              "      <th>1</th>\n",
              "      <td>fm002</td>\n",
              "      <td>722</td>\n",
              "      <td>1.521121</td>\n",
              "    </tr>\n",
              "    <tr>\n",
              "      <th>2</th>\n",
              "      <td>fm003</td>\n",
              "      <td>17784</td>\n",
              "      <td>37.467608</td>\n",
              "    </tr>\n",
              "    <tr>\n",
              "      <th>3</th>\n",
              "      <td>fm004</td>\n",
              "      <td>1816</td>\n",
              "      <td>3.825977</td>\n",
              "    </tr>\n",
              "    <tr>\n",
              "      <th>4</th>\n",
              "      <td>fm005</td>\n",
              "      <td>154</td>\n",
              "      <td>0.324450</td>\n",
              "    </tr>\n",
              "  </tbody>\n",
              "</table>\n",
              "</div>"
            ],
            "text/plain": [
              "  CodProducto  Cantidad          %\n",
              "0       fm001     26989  56.860845\n",
              "1       fm002       722   1.521121\n",
              "2       fm003     17784  37.467608\n",
              "3       fm004      1816   3.825977\n",
              "4       fm005       154   0.324450"
            ]
          },
          "metadata": {},
          "execution_count": 18
        }
      ]
    },
    {
      "cell_type": "markdown",
      "metadata": {
        "id": "SAnRDRBFh4Cy"
      },
      "source": [
        "The most relevant product types on the number of FMs prescribed are:\n",
        "- fm001 >> 56.86% of FMs prescribed\n",
        "- fm003 >> 37.46% of FMs prescribed\n",
        "\n",
        "These two product types correspond to 94.3% of FMs prescribed"
      ]
    },
    {
      "cell_type": "markdown",
      "metadata": {
        "id": "SKZRvbBTiZDJ"
      },
      "source": [
        "![green-divider](https://user-images.githubusercontent.com/7065401/52071924-c003ad80-2562-11e9-8297-1c6595f8a7ff.png)"
      ]
    },
    {
      "cell_type": "markdown",
      "metadata": {
        "id": "Bou-SDhSi5Iz"
      },
      "source": [
        "#### Number of FMs Prescribed by FechaFormulacion"
      ]
    },
    {
      "cell_type": "code",
      "metadata": {
        "colab": {
          "base_uri": "https://localhost:8080/"
        },
        "id": "mY9FGSTvibm5",
        "outputId": "a573a346-aab1-4c9b-ea0c-393d8980da02"
      },
      "source": [
        "# convert FechaFormulacion to datetime\n",
        "df_procedures['FechaFormulacion'] = pd.to_datetime(df_procedures['FechaFormulacion'])\n",
        "\n",
        "# check that the change was made\n",
        "df_procedures.dtypes"
      ],
      "execution_count": null,
      "outputs": [
        {
          "output_type": "execute_result",
          "data": {
            "text/plain": [
              "Ingreso                       int64\n",
              "DocPaciente                  object\n",
              "Fecha Nacimiento             object\n",
              "Edad                          int64\n",
              "Sexo                         object\n",
              "CiudadMunicipio              object\n",
              "Diagnostico                  object\n",
              "CodigoDiagnostico            object\n",
              "Plan                         object\n",
              "Tipo Plan                    object\n",
              "FechaIngreso                 object\n",
              "FechaFormulacion     datetime64[ns]\n",
              "CodProducto                  object\n",
              "Cantidad                      int64\n",
              "DocMedico                     int64\n",
              "NombreMedico                 object\n",
              "Especialidad                 object\n",
              "Plan/Servicio                object\n",
              "Sede                         object\n",
              "Tipo Examen                  object\n",
              "dtype: object"
            ]
          },
          "metadata": {},
          "execution_count": 19
        }
      ]
    },
    {
      "cell_type": "code",
      "metadata": {
        "colab": {
          "base_uri": "https://localhost:8080/",
          "height": 365
        },
        "id": "2zQBeG1tjpcR",
        "outputId": "c66efc91-fa35-4640-c230-c123d4c14a1e"
      },
      "source": [
        "# create month and year column >> using pd.DatetimeIndex()\n",
        "df_procedures['Month'] = pd.DatetimeIndex(df_procedures['FechaFormulacion']).month\n",
        "df_procedures['Year'] = pd.DatetimeIndex(df_procedures['FechaFormulacion']).year\n",
        "\n",
        "df_procedures.head()"
      ],
      "execution_count": null,
      "outputs": [
        {
          "output_type": "execute_result",
          "data": {
            "text/html": [
              "<div>\n",
              "<style scoped>\n",
              "    .dataframe tbody tr th:only-of-type {\n",
              "        vertical-align: middle;\n",
              "    }\n",
              "\n",
              "    .dataframe tbody tr th {\n",
              "        vertical-align: top;\n",
              "    }\n",
              "\n",
              "    .dataframe thead th {\n",
              "        text-align: right;\n",
              "    }\n",
              "</style>\n",
              "<table border=\"1\" class=\"dataframe\">\n",
              "  <thead>\n",
              "    <tr style=\"text-align: right;\">\n",
              "      <th></th>\n",
              "      <th>Ingreso</th>\n",
              "      <th>DocPaciente</th>\n",
              "      <th>Fecha Nacimiento</th>\n",
              "      <th>Edad</th>\n",
              "      <th>Sexo</th>\n",
              "      <th>CiudadMunicipio</th>\n",
              "      <th>Diagnostico</th>\n",
              "      <th>CodigoDiagnostico</th>\n",
              "      <th>Plan</th>\n",
              "      <th>Tipo Plan</th>\n",
              "      <th>FechaIngreso</th>\n",
              "      <th>FechaFormulacion</th>\n",
              "      <th>CodProducto</th>\n",
              "      <th>Cantidad</th>\n",
              "      <th>DocMedico</th>\n",
              "      <th>NombreMedico</th>\n",
              "      <th>Especialidad</th>\n",
              "      <th>Plan/Servicio</th>\n",
              "      <th>Sede</th>\n",
              "      <th>Tipo Examen</th>\n",
              "      <th>Month</th>\n",
              "      <th>Year</th>\n",
              "    </tr>\n",
              "  </thead>\n",
              "  <tbody>\n",
              "    <tr>\n",
              "      <th>0</th>\n",
              "      <td>26928</td>\n",
              "      <td>19059029</td>\n",
              "      <td>13/09/1948</td>\n",
              "      <td>73</td>\n",
              "      <td>M</td>\n",
              "      <td>BOGOTÁ D.C.</td>\n",
              "      <td>NaN</td>\n",
              "      <td>NaN</td>\n",
              "      <td>PLAN PARTICULAR</td>\n",
              "      <td>Particular</td>\n",
              "      <td>2020-03-19</td>\n",
              "      <td>2020-03-19</td>\n",
              "      <td>fm001</td>\n",
              "      <td>1</td>\n",
              "      <td>53007921</td>\n",
              "      <td>XIOMARA  GARCIA</td>\n",
              "      <td>Neurologia</td>\n",
              "      <td>Neurologia</td>\n",
              "      <td>ZERENIA</td>\n",
              "      <td>NaN</td>\n",
              "      <td>3</td>\n",
              "      <td>2020</td>\n",
              "    </tr>\n",
              "    <tr>\n",
              "      <th>1</th>\n",
              "      <td>26806</td>\n",
              "      <td>390646</td>\n",
              "      <td>1/08/1934</td>\n",
              "      <td>87</td>\n",
              "      <td>M</td>\n",
              "      <td>BOGOTÁ D.C.</td>\n",
              "      <td>NEURALGIA POSTHERPES ZOSTER(B02.2†)</td>\n",
              "      <td>G530</td>\n",
              "      <td>PLAN PARTICULAR</td>\n",
              "      <td>Particular</td>\n",
              "      <td>2020-03-19</td>\n",
              "      <td>2020-03-19</td>\n",
              "      <td>fm001</td>\n",
              "      <td>1</td>\n",
              "      <td>53013811</td>\n",
              "      <td>LENIS  RIVERA</td>\n",
              "      <td>Algesiólogo</td>\n",
              "      <td>Consulta Dolor y Cuidados Paliativos</td>\n",
              "      <td>ZERENIA</td>\n",
              "      <td>Primera vez</td>\n",
              "      <td>3</td>\n",
              "      <td>2020</td>\n",
              "    </tr>\n",
              "    <tr>\n",
              "      <th>2</th>\n",
              "      <td>26846</td>\n",
              "      <td>41595666</td>\n",
              "      <td>20/09/1953</td>\n",
              "      <td>68</td>\n",
              "      <td>F</td>\n",
              "      <td>CAJICÁ</td>\n",
              "      <td>NaN</td>\n",
              "      <td>NaN</td>\n",
              "      <td>PLAN PARTICULAR</td>\n",
              "      <td>Particular</td>\n",
              "      <td>2020-03-19</td>\n",
              "      <td>2020-03-19</td>\n",
              "      <td>fm001</td>\n",
              "      <td>1</td>\n",
              "      <td>53007921</td>\n",
              "      <td>XIOMARA  GARCIA</td>\n",
              "      <td>Neurologia</td>\n",
              "      <td>Neurologia</td>\n",
              "      <td>ZERENIA</td>\n",
              "      <td>NaN</td>\n",
              "      <td>3</td>\n",
              "      <td>2020</td>\n",
              "    </tr>\n",
              "    <tr>\n",
              "      <th>3</th>\n",
              "      <td>26861</td>\n",
              "      <td>41499724</td>\n",
              "      <td>20/08/1950</td>\n",
              "      <td>71</td>\n",
              "      <td>F</td>\n",
              "      <td>BOGOTÁ D.C.</td>\n",
              "      <td>NaN</td>\n",
              "      <td>NaN</td>\n",
              "      <td>PLAN PARTICULAR</td>\n",
              "      <td>Particular</td>\n",
              "      <td>2020-03-19</td>\n",
              "      <td>2020-03-19</td>\n",
              "      <td>fm001</td>\n",
              "      <td>1</td>\n",
              "      <td>53007921</td>\n",
              "      <td>XIOMARA  GARCIA</td>\n",
              "      <td>Neurologia</td>\n",
              "      <td>Neurologia</td>\n",
              "      <td>ZERENIA</td>\n",
              "      <td>NaN</td>\n",
              "      <td>3</td>\n",
              "      <td>2020</td>\n",
              "    </tr>\n",
              "    <tr>\n",
              "      <th>4</th>\n",
              "      <td>26956</td>\n",
              "      <td>52863476</td>\n",
              "      <td>17/09/1981</td>\n",
              "      <td>40</td>\n",
              "      <td>F</td>\n",
              "      <td>BOGOTÁ D.C.</td>\n",
              "      <td>FIBROMIALGIA</td>\n",
              "      <td>M797</td>\n",
              "      <td>PLAN PARTICULAR</td>\n",
              "      <td>Particular</td>\n",
              "      <td>2020-03-19</td>\n",
              "      <td>2020-03-19</td>\n",
              "      <td>fm001</td>\n",
              "      <td>2</td>\n",
              "      <td>53013811</td>\n",
              "      <td>LENIS  RIVERA</td>\n",
              "      <td>Algesiólogo</td>\n",
              "      <td>Consulta Dolor y Cuidados Paliativos</td>\n",
              "      <td>ZERENIA</td>\n",
              "      <td>Primera vez</td>\n",
              "      <td>3</td>\n",
              "      <td>2020</td>\n",
              "    </tr>\n",
              "  </tbody>\n",
              "</table>\n",
              "</div>"
            ],
            "text/plain": [
              "   Ingreso DocPaciente Fecha Nacimiento  ...  Tipo Examen Month  Year\n",
              "0    26928    19059029       13/09/1948  ...          NaN     3  2020\n",
              "1    26806      390646        1/08/1934  ...  Primera vez     3  2020\n",
              "2    26846    41595666       20/09/1953  ...          NaN     3  2020\n",
              "3    26861    41499724       20/08/1950  ...          NaN     3  2020\n",
              "4    26956    52863476       17/09/1981  ...  Primera vez     3  2020\n",
              "\n",
              "[5 rows x 22 columns]"
            ]
          },
          "metadata": {},
          "execution_count": 20
        }
      ]
    },
    {
      "cell_type": "code",
      "metadata": {
        "id": "xyobfAZDmgE4"
      },
      "source": [
        "# function to calcultate number of presribed FMs\n",
        "def sum_avg_fm(df):\n",
        "  calc={}\n",
        "  calc['Numero_Prescripciones'] = len(df)\n",
        "  calc['Cantidad_FMs'] = df['Cantidad'].sum()\n",
        "\n",
        "\n",
        "  return pd.Series(calc, index=['Numero_Prescripciones', 'Cantidad_FMs', ])"
      ],
      "execution_count": null,
      "outputs": []
    },
    {
      "cell_type": "code",
      "metadata": {
        "colab": {
          "base_uri": "https://localhost:8080/",
          "height": 645
        },
        "id": "V_v4btZtoDfn",
        "outputId": "cac9e3a7-92db-4488-8a9a-50099db1800d"
      },
      "source": [
        "# FMs prescribed by month/year\n",
        "fm_proced_month = df_procedures.groupby(['Year', 'Month']).apply(sum_avg_fm).reset_index()\n",
        "\n",
        "fm_proced_month['%_Cantidad'] = (fm_proced_month['Cantidad_FMs'] / fm_proced_month['Cantidad_FMs'].sum()) * 100\n",
        "fm_proced_month"
      ],
      "execution_count": null,
      "outputs": [
        {
          "output_type": "execute_result",
          "data": {
            "text/html": [
              "<div>\n",
              "<style scoped>\n",
              "    .dataframe tbody tr th:only-of-type {\n",
              "        vertical-align: middle;\n",
              "    }\n",
              "\n",
              "    .dataframe tbody tr th {\n",
              "        vertical-align: top;\n",
              "    }\n",
              "\n",
              "    .dataframe thead th {\n",
              "        text-align: right;\n",
              "    }\n",
              "</style>\n",
              "<table border=\"1\" class=\"dataframe\">\n",
              "  <thead>\n",
              "    <tr style=\"text-align: right;\">\n",
              "      <th></th>\n",
              "      <th>Year</th>\n",
              "      <th>Month</th>\n",
              "      <th>Numero_Prescripciones</th>\n",
              "      <th>Cantidad_FMs</th>\n",
              "      <th>%_Cantidad</th>\n",
              "    </tr>\n",
              "  </thead>\n",
              "  <tbody>\n",
              "    <tr>\n",
              "      <th>0</th>\n",
              "      <td>2020</td>\n",
              "      <td>3</td>\n",
              "      <td>8</td>\n",
              "      <td>9</td>\n",
              "      <td>0.018961</td>\n",
              "    </tr>\n",
              "    <tr>\n",
              "      <th>1</th>\n",
              "      <td>2020</td>\n",
              "      <td>4</td>\n",
              "      <td>85</td>\n",
              "      <td>88</td>\n",
              "      <td>0.185400</td>\n",
              "    </tr>\n",
              "    <tr>\n",
              "      <th>2</th>\n",
              "      <td>2020</td>\n",
              "      <td>5</td>\n",
              "      <td>127</td>\n",
              "      <td>131</td>\n",
              "      <td>0.275993</td>\n",
              "    </tr>\n",
              "    <tr>\n",
              "      <th>3</th>\n",
              "      <td>2020</td>\n",
              "      <td>6</td>\n",
              "      <td>357</td>\n",
              "      <td>381</td>\n",
              "      <td>0.802697</td>\n",
              "    </tr>\n",
              "    <tr>\n",
              "      <th>4</th>\n",
              "      <td>2020</td>\n",
              "      <td>7</td>\n",
              "      <td>600</td>\n",
              "      <td>614</td>\n",
              "      <td>1.293585</td>\n",
              "    </tr>\n",
              "    <tr>\n",
              "      <th>5</th>\n",
              "      <td>2020</td>\n",
              "      <td>8</td>\n",
              "      <td>953</td>\n",
              "      <td>978</td>\n",
              "      <td>2.060466</td>\n",
              "    </tr>\n",
              "    <tr>\n",
              "      <th>6</th>\n",
              "      <td>2020</td>\n",
              "      <td>9</td>\n",
              "      <td>1237</td>\n",
              "      <td>1295</td>\n",
              "      <td>2.728326</td>\n",
              "    </tr>\n",
              "    <tr>\n",
              "      <th>7</th>\n",
              "      <td>2020</td>\n",
              "      <td>10</td>\n",
              "      <td>1306</td>\n",
              "      <td>1439</td>\n",
              "      <td>3.031708</td>\n",
              "    </tr>\n",
              "    <tr>\n",
              "      <th>8</th>\n",
              "      <td>2020</td>\n",
              "      <td>11</td>\n",
              "      <td>1257</td>\n",
              "      <td>1448</td>\n",
              "      <td>3.050669</td>\n",
              "    </tr>\n",
              "    <tr>\n",
              "      <th>9</th>\n",
              "      <td>2020</td>\n",
              "      <td>12</td>\n",
              "      <td>1372</td>\n",
              "      <td>1603</td>\n",
              "      <td>3.377225</td>\n",
              "    </tr>\n",
              "    <tr>\n",
              "      <th>10</th>\n",
              "      <td>2021</td>\n",
              "      <td>1</td>\n",
              "      <td>1756</td>\n",
              "      <td>2128</td>\n",
              "      <td>4.483303</td>\n",
              "    </tr>\n",
              "    <tr>\n",
              "      <th>11</th>\n",
              "      <td>2021</td>\n",
              "      <td>2</td>\n",
              "      <td>2538</td>\n",
              "      <td>3149</td>\n",
              "      <td>6.634362</td>\n",
              "    </tr>\n",
              "    <tr>\n",
              "      <th>12</th>\n",
              "      <td>2021</td>\n",
              "      <td>3</td>\n",
              "      <td>3083</td>\n",
              "      <td>3931</td>\n",
              "      <td>8.281892</td>\n",
              "    </tr>\n",
              "    <tr>\n",
              "      <th>13</th>\n",
              "      <td>2021</td>\n",
              "      <td>4</td>\n",
              "      <td>2616</td>\n",
              "      <td>3737</td>\n",
              "      <td>7.873170</td>\n",
              "    </tr>\n",
              "    <tr>\n",
              "      <th>14</th>\n",
              "      <td>2021</td>\n",
              "      <td>5</td>\n",
              "      <td>2771</td>\n",
              "      <td>4029</td>\n",
              "      <td>8.488360</td>\n",
              "    </tr>\n",
              "    <tr>\n",
              "      <th>15</th>\n",
              "      <td>2021</td>\n",
              "      <td>6</td>\n",
              "      <td>3893</td>\n",
              "      <td>5497</td>\n",
              "      <td>11.581165</td>\n",
              "    </tr>\n",
              "    <tr>\n",
              "      <th>16</th>\n",
              "      <td>2021</td>\n",
              "      <td>7</td>\n",
              "      <td>3521</td>\n",
              "      <td>5071</td>\n",
              "      <td>10.683662</td>\n",
              "    </tr>\n",
              "    <tr>\n",
              "      <th>17</th>\n",
              "      <td>2021</td>\n",
              "      <td>8</td>\n",
              "      <td>3949</td>\n",
              "      <td>6162</td>\n",
              "      <td>12.982197</td>\n",
              "    </tr>\n",
              "    <tr>\n",
              "      <th>18</th>\n",
              "      <td>2021</td>\n",
              "      <td>9</td>\n",
              "      <td>3745</td>\n",
              "      <td>5775</td>\n",
              "      <td>12.166860</td>\n",
              "    </tr>\n",
              "  </tbody>\n",
              "</table>\n",
              "</div>"
            ],
            "text/plain": [
              "    Year  Month  Numero_Prescripciones  Cantidad_FMs  %_Cantidad\n",
              "0   2020      3                      8             9    0.018961\n",
              "1   2020      4                     85            88    0.185400\n",
              "2   2020      5                    127           131    0.275993\n",
              "3   2020      6                    357           381    0.802697\n",
              "4   2020      7                    600           614    1.293585\n",
              "5   2020      8                    953           978    2.060466\n",
              "6   2020      9                   1237          1295    2.728326\n",
              "7   2020     10                   1306          1439    3.031708\n",
              "8   2020     11                   1257          1448    3.050669\n",
              "9   2020     12                   1372          1603    3.377225\n",
              "10  2021      1                   1756          2128    4.483303\n",
              "11  2021      2                   2538          3149    6.634362\n",
              "12  2021      3                   3083          3931    8.281892\n",
              "13  2021      4                   2616          3737    7.873170\n",
              "14  2021      5                   2771          4029    8.488360\n",
              "15  2021      6                   3893          5497   11.581165\n",
              "16  2021      7                   3521          5071   10.683662\n",
              "17  2021      8                   3949          6162   12.982197\n",
              "18  2021      9                   3745          5775   12.166860"
            ]
          },
          "metadata": {},
          "execution_count": 22
        }
      ]
    },
    {
      "cell_type": "code",
      "metadata": {
        "colab": {
          "base_uri": "https://localhost:8080/",
          "height": 410
        },
        "id": "KQel_BHb9p42",
        "outputId": "12108891-863c-448b-a20b-e93b788db340"
      },
      "source": [
        "# lineplot of number of prescriptions by month\n",
        "\n",
        "f, ax = plt.subplots(figsize=(12, 6))\n",
        "\n",
        "sns.lineplot(x=fm_proced_month['Month'], y=fm_proced_month['Cantidad_FMs'], hue=fm_proced_month['Year'], palette=['red', 'blue'])\n",
        "ax.set_xticks([1,2,3,4,5,6,7,8,9,10,11,12])\n",
        "ax.set_xticklabels(['Ene', 'Feb', 'Mar', 'Apr', 'May', 'Jun', 'Jul', 'Ago', 'Sept', 'Oct', 'Nov', 'Dec'])\n",
        "\n",
        "plt.xlabel('Mes')\n",
        "plt.title('Cantidad de FMs Prescritas por Mes y Año', pad=12)\n",
        "plt.show()"
      ],
      "execution_count": null,
      "outputs": [
        {
          "output_type": "display_data",
          "data": {
            "image/png": "[encoded data removed]",
            "text/plain": [
              "<Figure size 864x432 with 1 Axes>"
            ]
          },
          "metadata": {
            "needs_background": "light"
          }
        }
      ]
    },
    {
      "cell_type": "markdown",
      "metadata": {
        "id": "29PsUxFKMxwh"
      },
      "source": [
        "![green-divider](https://user-images.githubusercontent.com/7065401/52071924-c003ad80-2562-11e9-8297-1c6595f8a7ff.png)"
      ]
    },
    {
      "cell_type": "markdown",
      "metadata": {
        "id": "GafpaDuzM1UX"
      },
      "source": [
        "#### Number of Prescribed FMs by Tipo Plan"
      ]
    },
    {
      "cell_type": "code",
      "metadata": {
        "colab": {
          "base_uri": "https://localhost:8080/",
          "height": 143
        },
        "id": "kgLEKiFTMydG",
        "outputId": "a3860c7d-98d3-45a6-ef31-bf8e5fe86eb2"
      },
      "source": [
        "# FMs prescribed by Tipo Plan\n",
        "fm_proced_plan = df_procedures.groupby(['Tipo Plan']).Cantidad.sum().reset_index()\n",
        "\n",
        "fm_proced_plan['%'] = (fm_proced_plan.Cantidad / fm_proced_plan.Cantidad.sum()) * 100\n",
        "fm_proced_plan"
      ],
      "execution_count": null,
      "outputs": [
        {
          "output_type": "execute_result",
          "data": {
            "text/html": [
              "<div>\n",
              "<style scoped>\n",
              "    .dataframe tbody tr th:only-of-type {\n",
              "        vertical-align: middle;\n",
              "    }\n",
              "\n",
              "    .dataframe tbody tr th {\n",
              "        vertical-align: top;\n",
              "    }\n",
              "\n",
              "    .dataframe thead th {\n",
              "        text-align: right;\n",
              "    }\n",
              "</style>\n",
              "<table border=\"1\" class=\"dataframe\">\n",
              "  <thead>\n",
              "    <tr style=\"text-align: right;\">\n",
              "      <th></th>\n",
              "      <th>Tipo Plan</th>\n",
              "      <th>Cantidad</th>\n",
              "      <th>%</th>\n",
              "    </tr>\n",
              "  </thead>\n",
              "  <tbody>\n",
              "    <tr>\n",
              "      <th>0</th>\n",
              "      <td>ARL</td>\n",
              "      <td>38</td>\n",
              "      <td>0.080059</td>\n",
              "    </tr>\n",
              "    <tr>\n",
              "      <th>1</th>\n",
              "      <td>EPS</td>\n",
              "      <td>32007</td>\n",
              "      <td>67.432845</td>\n",
              "    </tr>\n",
              "    <tr>\n",
              "      <th>2</th>\n",
              "      <td>Particular</td>\n",
              "      <td>15420</td>\n",
              "      <td>32.487096</td>\n",
              "    </tr>\n",
              "  </tbody>\n",
              "</table>\n",
              "</div>"
            ],
            "text/plain": [
              "    Tipo Plan  Cantidad          %\n",
              "0         ARL        38   0.080059\n",
              "1         EPS     32007  67.432845\n",
              "2  Particular     15420  32.487096"
            ]
          },
          "metadata": {},
          "execution_count": 24
        }
      ]
    },
    {
      "cell_type": "markdown",
      "metadata": {
        "id": "HCK-nAfyNnRw"
      },
      "source": [
        "The most relevant Tipo Plan on the number of FMs prescribed are:\n",
        "- EPS >> 67.4% of FMs prescribed\n",
        "- Particular >> 32.5% of FMs prescribed\n",
        "\n",
        "These two Plans correspond to 99.9% of FMs prescribed. Plans with plan ARL are going to be removed from the df"
      ]
    },
    {
      "cell_type": "code",
      "metadata": {
        "colab": {
          "base_uri": "https://localhost:8080/"
        },
        "id": "Cbc2arjHOIzS",
        "outputId": "2b74f9c7-d15e-4713-b83d-427c39053f47"
      },
      "source": [
        "# remove rows with type of plan == 'ARL'\n",
        "df_procedures = df_procedures[df_procedures['Tipo Plan'] != 'ARL']\n",
        "\n",
        "df_procedures['Tipo Plan'].unique()"
      ],
      "execution_count": null,
      "outputs": [
        {
          "output_type": "execute_result",
          "data": {
            "text/plain": [
              "array(['Particular', 'EPS'], dtype=object)"
            ]
          },
          "metadata": {},
          "execution_count": 25
        }
      ]
    },
    {
      "cell_type": "markdown",
      "metadata": {
        "id": "4S8vmbqLOmVb"
      },
      "source": [
        "![green-divider](https://user-images.githubusercontent.com/7065401/52071924-c003ad80-2562-11e9-8297-1c6595f8a7ff.png)"
      ]
    },
    {
      "cell_type": "markdown",
      "metadata": {
        "id": "BTcvQuTOOqhy"
      },
      "source": [
        "#### Number of Prescribed FMs by Diagnostico"
      ]
    },
    {
      "cell_type": "code",
      "metadata": {
        "colab": {
          "base_uri": "https://localhost:8080/",
          "height": 363
        },
        "id": "xa-l4QtoOph6",
        "outputId": "dee4ce77-d568-4920-8b6c-53fadd3e5c17"
      },
      "source": [
        "# FMs prescribed by Diagnostico\n",
        "fm_proced_diag = df_procedures.groupby(['Diagnostico']).Cantidad.sum().reset_index()\n",
        "\n",
        "# sort values in descending order\n",
        "fm_proced_diag = fm_proced_diag.sort_values(['Cantidad'], ascending=False)\n",
        "\n",
        "fm_proced_diag['%'] = (fm_proced_diag.Cantidad / fm_proced_diag.Cantidad.sum()) * 100\n",
        "\n",
        "# show 10 diagnostics with the most number of FMs prescribed\n",
        "fm_proced_diag.head(10)"
      ],
      "execution_count": null,
      "outputs": [
        {
          "output_type": "execute_result",
          "data": {
            "text/html": [
              "<div>\n",
              "<style scoped>\n",
              "    .dataframe tbody tr th:only-of-type {\n",
              "        vertical-align: middle;\n",
              "    }\n",
              "\n",
              "    .dataframe tbody tr th {\n",
              "        vertical-align: top;\n",
              "    }\n",
              "\n",
              "    .dataframe thead th {\n",
              "        text-align: right;\n",
              "    }\n",
              "</style>\n",
              "<table border=\"1\" class=\"dataframe\">\n",
              "  <thead>\n",
              "    <tr style=\"text-align: right;\">\n",
              "      <th></th>\n",
              "      <th>Diagnostico</th>\n",
              "      <th>Cantidad</th>\n",
              "      <th>%</th>\n",
              "    </tr>\n",
              "  </thead>\n",
              "  <tbody>\n",
              "    <tr>\n",
              "      <th>324</th>\n",
              "      <td>OTRO DOLOR CRONICO</td>\n",
              "      <td>16586</td>\n",
              "      <td>42.003697</td>\n",
              "    </tr>\n",
              "    <tr>\n",
              "      <th>118</th>\n",
              "      <td>DOLOR CRONICO INTRATABLE</td>\n",
              "      <td>9107</td>\n",
              "      <td>23.063287</td>\n",
              "    </tr>\n",
              "    <tr>\n",
              "      <th>463</th>\n",
              "      <td>TRASTORNO MIXTO DE ANSIEDAD YDEPRESION</td>\n",
              "      <td>2467</td>\n",
              "      <td>6.247626</td>\n",
              "    </tr>\n",
              "    <tr>\n",
              "      <th>475</th>\n",
              "      <td>TRASTORNOS DEL INICIO Y DELMANTENIMIENTO DEL S...</td>\n",
              "      <td>1679</td>\n",
              "      <td>4.252032</td>\n",
              "    </tr>\n",
              "    <tr>\n",
              "      <th>184</th>\n",
              "      <td>FIBROMIALGIA</td>\n",
              "      <td>1296</td>\n",
              "      <td>3.282093</td>\n",
              "    </tr>\n",
              "    <tr>\n",
              "      <th>2</th>\n",
              "      <td>(OSTEO)ARTROSIS PRIMARIAGENERALIZADA</td>\n",
              "      <td>1157</td>\n",
              "      <td>2.930078</td>\n",
              "    </tr>\n",
              "    <tr>\n",
              "      <th>141</th>\n",
              "      <td>ENFERMEDAD DE PARKINSON</td>\n",
              "      <td>730</td>\n",
              "      <td>1.848710</td>\n",
              "    </tr>\n",
              "    <tr>\n",
              "      <th>437</th>\n",
              "      <td>TRASTORNO DE ANSIEDAD , NOESPECIFICADO</td>\n",
              "      <td>654</td>\n",
              "      <td>1.656241</td>\n",
              "    </tr>\n",
              "    <tr>\n",
              "      <th>241</th>\n",
              "      <td>LUMBAGO NO ESPECIFICADO</td>\n",
              "      <td>369</td>\n",
              "      <td>0.934485</td>\n",
              "    </tr>\n",
              "    <tr>\n",
              "      <th>439</th>\n",
              "      <td>TRASTORNO DE ANSIEDADGENERALIZADA</td>\n",
              "      <td>355</td>\n",
              "      <td>0.899030</td>\n",
              "    </tr>\n",
              "  </tbody>\n",
              "</table>\n",
              "</div>"
            ],
            "text/plain": [
              "                                           Diagnostico  Cantidad          %\n",
              "324                                 OTRO DOLOR CRONICO     16586  42.003697\n",
              "118                           DOLOR CRONICO INTRATABLE      9107  23.063287\n",
              "463             TRASTORNO MIXTO DE ANSIEDAD YDEPRESION      2467   6.247626\n",
              "475  TRASTORNOS DEL INICIO Y DELMANTENIMIENTO DEL S...      1679   4.252032\n",
              "184                                       FIBROMIALGIA      1296   3.282093\n",
              "2                 (OSTEO)ARTROSIS PRIMARIAGENERALIZADA      1157   2.930078\n",
              "141                            ENFERMEDAD DE PARKINSON       730   1.848710\n",
              "437             TRASTORNO DE ANSIEDAD , NOESPECIFICADO       654   1.656241\n",
              "241                            LUMBAGO NO ESPECIFICADO       369   0.934485\n",
              "439                  TRASTORNO DE ANSIEDADGENERALIZADA       355   0.899030"
            ]
          },
          "metadata": {},
          "execution_count": 26
        }
      ]
    },
    {
      "cell_type": "markdown",
      "metadata": {
        "id": "_Xr6ZDUnQtmK"
      },
      "source": [
        "The most relevant Diagnosticos on the number of FMs prescribed are:  \n",
        "- Otro Dolor Cronico >> 42.00% of FMs prescribed\n",
        "- Dolor Cronico Intratable >> 23.06% of FMs prescribed\n",
        "- Trastorno Mixto de Ansiedad y Depresion >> 6.24% of FMs prescribed\n",
        "- Insomnio >> 4.25% of FMs prescribed\n",
        "- Fibromialgia >> 3.28% of FMs prescribed\n",
        "\n",
        "These Diagnostics correspond to 78.8% of FMs prescribed which is more than the Q3 of the dataset"
      ]
    },
    {
      "cell_type": "markdown",
      "metadata": {
        "id": "dKMTWRTjSXOi"
      },
      "source": [
        "![green-divider](https://user-images.githubusercontent.com/7065401/52071924-c003ad80-2562-11e9-8297-1c6595f8a7ff.png)"
      ]
    },
    {
      "cell_type": "markdown",
      "metadata": {
        "id": "r3vv7uFdScpM"
      },
      "source": [
        "#### Histogram of FMs Prescribed by Edad"
      ]
    },
    {
      "cell_type": "code",
      "metadata": {
        "colab": {
          "base_uri": "https://localhost:8080/",
          "height": 465
        },
        "id": "WxEWA03YSk6i",
        "outputId": "dcf40cd8-50d7-4086-a1a7-8cb0cf96bec5"
      },
      "source": [
        "# plot histogram\n",
        "\n",
        "f, ax = plt.subplots(figsize=(12, 6))\n",
        "\n",
        "sns.histplot(data=df_procedures, x='Edad', color='salmon')\n",
        "plt.axvline(df_procedures['Edad'].mean(), linestyle='dashed', linewidth=2, color='black', label='Mean')\n",
        "\n",
        "plt.title('Distribution of the Age of Patients Prescribed with FMs - March 2020 to Sept 2021', pad=12)\n",
        "plt.legend()\n",
        "plt.show()\n",
        "\n",
        "print(f'Skewness of Distribution: {df_procedures.Edad.skew()}')\n",
        "print(f'Mean of Patients Prescribed: {df_procedures.Edad.mean()}')\n",
        "print(f'Median of Patients prescribed: {df_procedures.Edad.median()}')"
      ],
      "execution_count": null,
      "outputs": [
        {
          "output_type": "display_data",
          "data": {
            "image/png": "[encoded data removed]",
            "text/plain": [
              "<Figure size 864x432 with 1 Axes>"
            ]
          },
          "metadata": {
            "needs_background": "light"
          }
        },
        {
          "output_type": "stream",
          "name": "stdout",
          "text": [
            "Skewness of Distribution: -0.14669248168485863\n",
            "Mean of Patients Prescribed: 58.02014282056388\n",
            "Median of Patients prescribed: 58.0\n"
          ]
        }
      ]
    },
    {
      "cell_type": "markdown",
      "metadata": {
        "id": "n3KxFfwaYpn4"
      },
      "source": [
        "![green-divider](https://user-images.githubusercontent.com/7065401/52071924-c003ad80-2562-11e9-8297-1c6595f8a7ff.png)"
      ]
    },
    {
      "cell_type": "markdown",
      "metadata": {
        "id": "NnSmm8RTYtZ-"
      },
      "source": [
        "#### Number of Prescribed FMs by age_group"
      ]
    },
    {
      "cell_type": "code",
      "metadata": {
        "colab": {
          "base_uri": "https://localhost:8080/",
          "height": 365
        },
        "id": "macVlnEBX72k",
        "outputId": "67fab1ba-b7a1-4827-c918-282ee2d7c639"
      },
      "source": [
        "# bin Edad into age groups >> using pd.cut(df, bins=??)\n",
        "df_procedures['age_group'] = pd.cut(df_procedures['Edad'], bins=4)\n",
        "\n",
        "# check age_group\n",
        "df_procedures.head()"
      ],
      "execution_count": null,
      "outputs": [
        {
          "output_type": "execute_result",
          "data": {
            "text/html": [
              "<div>\n",
              "<style scoped>\n",
              "    .dataframe tbody tr th:only-of-type {\n",
              "        vertical-align: middle;\n",
              "    }\n",
              "\n",
              "    .dataframe tbody tr th {\n",
              "        vertical-align: top;\n",
              "    }\n",
              "\n",
              "    .dataframe thead th {\n",
              "        text-align: right;\n",
              "    }\n",
              "</style>\n",
              "<table border=\"1\" class=\"dataframe\">\n",
              "  <thead>\n",
              "    <tr style=\"text-align: right;\">\n",
              "      <th></th>\n",
              "      <th>Ingreso</th>\n",
              "      <th>DocPaciente</th>\n",
              "      <th>Fecha Nacimiento</th>\n",
              "      <th>Edad</th>\n",
              "      <th>Sexo</th>\n",
              "      <th>CiudadMunicipio</th>\n",
              "      <th>Diagnostico</th>\n",
              "      <th>CodigoDiagnostico</th>\n",
              "      <th>Plan</th>\n",
              "      <th>Tipo Plan</th>\n",
              "      <th>FechaIngreso</th>\n",
              "      <th>FechaFormulacion</th>\n",
              "      <th>CodProducto</th>\n",
              "      <th>Cantidad</th>\n",
              "      <th>DocMedico</th>\n",
              "      <th>NombreMedico</th>\n",
              "      <th>Especialidad</th>\n",
              "      <th>Plan/Servicio</th>\n",
              "      <th>Sede</th>\n",
              "      <th>Tipo Examen</th>\n",
              "      <th>Month</th>\n",
              "      <th>Year</th>\n",
              "      <th>age_group</th>\n",
              "    </tr>\n",
              "  </thead>\n",
              "  <tbody>\n",
              "    <tr>\n",
              "      <th>0</th>\n",
              "      <td>26928</td>\n",
              "      <td>19059029</td>\n",
              "      <td>13/09/1948</td>\n",
              "      <td>73</td>\n",
              "      <td>M</td>\n",
              "      <td>BOGOTÁ D.C.</td>\n",
              "      <td>NaN</td>\n",
              "      <td>NaN</td>\n",
              "      <td>PLAN PARTICULAR</td>\n",
              "      <td>Particular</td>\n",
              "      <td>2020-03-19</td>\n",
              "      <td>2020-03-19</td>\n",
              "      <td>fm001</td>\n",
              "      <td>1</td>\n",
              "      <td>53007921</td>\n",
              "      <td>XIOMARA  GARCIA</td>\n",
              "      <td>Neurologia</td>\n",
              "      <td>Neurologia</td>\n",
              "      <td>ZERENIA</td>\n",
              "      <td>NaN</td>\n",
              "      <td>3</td>\n",
              "      <td>2020</td>\n",
              "      <td>(51.0, 76.0]</td>\n",
              "    </tr>\n",
              "    <tr>\n",
              "      <th>1</th>\n",
              "      <td>26806</td>\n",
              "      <td>390646</td>\n",
              "      <td>1/08/1934</td>\n",
              "      <td>87</td>\n",
              "      <td>M</td>\n",
              "      <td>BOGOTÁ D.C.</td>\n",
              "      <td>NEURALGIA POSTHERPES ZOSTER(B02.2†)</td>\n",
              "      <td>G530</td>\n",
              "      <td>PLAN PARTICULAR</td>\n",
              "      <td>Particular</td>\n",
              "      <td>2020-03-19</td>\n",
              "      <td>2020-03-19</td>\n",
              "      <td>fm001</td>\n",
              "      <td>1</td>\n",
              "      <td>53013811</td>\n",
              "      <td>LENIS  RIVERA</td>\n",
              "      <td>Algesiólogo</td>\n",
              "      <td>Consulta Dolor y Cuidados Paliativos</td>\n",
              "      <td>ZERENIA</td>\n",
              "      <td>Primera vez</td>\n",
              "      <td>3</td>\n",
              "      <td>2020</td>\n",
              "      <td>(76.0, 101.0]</td>\n",
              "    </tr>\n",
              "    <tr>\n",
              "      <th>2</th>\n",
              "      <td>26846</td>\n",
              "      <td>41595666</td>\n",
              "      <td>20/09/1953</td>\n",
              "      <td>68</td>\n",
              "      <td>F</td>\n",
              "      <td>CAJICÁ</td>\n",
              "      <td>NaN</td>\n",
              "      <td>NaN</td>\n",
              "      <td>PLAN PARTICULAR</td>\n",
              "      <td>Particular</td>\n",
              "      <td>2020-03-19</td>\n",
              "      <td>2020-03-19</td>\n",
              "      <td>fm001</td>\n",
              "      <td>1</td>\n",
              "      <td>53007921</td>\n",
              "      <td>XIOMARA  GARCIA</td>\n",
              "      <td>Neurologia</td>\n",
              "      <td>Neurologia</td>\n",
              "      <td>ZERENIA</td>\n",
              "      <td>NaN</td>\n",
              "      <td>3</td>\n",
              "      <td>2020</td>\n",
              "      <td>(51.0, 76.0]</td>\n",
              "    </tr>\n",
              "    <tr>\n",
              "      <th>3</th>\n",
              "      <td>26861</td>\n",
              "      <td>41499724</td>\n",
              "      <td>20/08/1950</td>\n",
              "      <td>71</td>\n",
              "      <td>F</td>\n",
              "      <td>BOGOTÁ D.C.</td>\n",
              "      <td>NaN</td>\n",
              "      <td>NaN</td>\n",
              "      <td>PLAN PARTICULAR</td>\n",
              "      <td>Particular</td>\n",
              "      <td>2020-03-19</td>\n",
              "      <td>2020-03-19</td>\n",
              "      <td>fm001</td>\n",
              "      <td>1</td>\n",
              "      <td>53007921</td>\n",
              "      <td>XIOMARA  GARCIA</td>\n",
              "      <td>Neurologia</td>\n",
              "      <td>Neurologia</td>\n",
              "      <td>ZERENIA</td>\n",
              "      <td>NaN</td>\n",
              "      <td>3</td>\n",
              "      <td>2020</td>\n",
              "      <td>(51.0, 76.0]</td>\n",
              "    </tr>\n",
              "    <tr>\n",
              "      <th>4</th>\n",
              "      <td>26956</td>\n",
              "      <td>52863476</td>\n",
              "      <td>17/09/1981</td>\n",
              "      <td>40</td>\n",
              "      <td>F</td>\n",
              "      <td>BOGOTÁ D.C.</td>\n",
              "      <td>FIBROMIALGIA</td>\n",
              "      <td>M797</td>\n",
              "      <td>PLAN PARTICULAR</td>\n",
              "      <td>Particular</td>\n",
              "      <td>2020-03-19</td>\n",
              "      <td>2020-03-19</td>\n",
              "      <td>fm001</td>\n",
              "      <td>2</td>\n",
              "      <td>53013811</td>\n",
              "      <td>LENIS  RIVERA</td>\n",
              "      <td>Algesiólogo</td>\n",
              "      <td>Consulta Dolor y Cuidados Paliativos</td>\n",
              "      <td>ZERENIA</td>\n",
              "      <td>Primera vez</td>\n",
              "      <td>3</td>\n",
              "      <td>2020</td>\n",
              "      <td>(26.0, 51.0]</td>\n",
              "    </tr>\n",
              "  </tbody>\n",
              "</table>\n",
              "</div>"
            ],
            "text/plain": [
              "   Ingreso DocPaciente Fecha Nacimiento  ...  Month  Year      age_group\n",
              "0    26928    19059029       13/09/1948  ...      3  2020   (51.0, 76.0]\n",
              "1    26806      390646        1/08/1934  ...      3  2020  (76.0, 101.0]\n",
              "2    26846    41595666       20/09/1953  ...      3  2020   (51.0, 76.0]\n",
              "3    26861    41499724       20/08/1950  ...      3  2020   (51.0, 76.0]\n",
              "4    26956    52863476       17/09/1981  ...      3  2020   (26.0, 51.0]\n",
              "\n",
              "[5 rows x 23 columns]"
            ]
          },
          "metadata": {},
          "execution_count": 28
        }
      ]
    },
    {
      "cell_type": "code",
      "metadata": {
        "colab": {
          "base_uri": "https://localhost:8080/",
          "height": 175
        },
        "id": "XUo0BA_FY1Q2",
        "outputId": "2ca81241-9905-4877-d32f-89fffce8f57b"
      },
      "source": [
        "# FMs prescribed by age_group\n",
        "fm_proced_age = df_procedures.groupby(['age_group']).Cantidad.sum().reset_index()\n",
        "\n",
        "fm_proced_age['%'] = (fm_proced_age.Cantidad / fm_proced_age.Cantidad.sum()) * 100\n",
        "fm_proced_age"
      ],
      "execution_count": null,
      "outputs": [
        {
          "output_type": "execute_result",
          "data": {
            "text/html": [
              "<div>\n",
              "<style scoped>\n",
              "    .dataframe tbody tr th:only-of-type {\n",
              "        vertical-align: middle;\n",
              "    }\n",
              "\n",
              "    .dataframe tbody tr th {\n",
              "        vertical-align: top;\n",
              "    }\n",
              "\n",
              "    .dataframe thead th {\n",
              "        text-align: right;\n",
              "    }\n",
              "</style>\n",
              "<table border=\"1\" class=\"dataframe\">\n",
              "  <thead>\n",
              "    <tr style=\"text-align: right;\">\n",
              "      <th></th>\n",
              "      <th>age_group</th>\n",
              "      <th>Cantidad</th>\n",
              "      <th>%</th>\n",
              "    </tr>\n",
              "  </thead>\n",
              "  <tbody>\n",
              "    <tr>\n",
              "      <th>0</th>\n",
              "      <td>(0.9, 26.0]</td>\n",
              "      <td>1316</td>\n",
              "      <td>2.774791</td>\n",
              "    </tr>\n",
              "    <tr>\n",
              "      <th>1</th>\n",
              "      <td>(26.0, 51.0]</td>\n",
              "      <td>15535</td>\n",
              "      <td>32.755603</td>\n",
              "    </tr>\n",
              "    <tr>\n",
              "      <th>2</th>\n",
              "      <td>(51.0, 76.0]</td>\n",
              "      <td>24893</td>\n",
              "      <td>52.486980</td>\n",
              "    </tr>\n",
              "    <tr>\n",
              "      <th>3</th>\n",
              "      <td>(76.0, 101.0]</td>\n",
              "      <td>5683</td>\n",
              "      <td>11.982626</td>\n",
              "    </tr>\n",
              "  </tbody>\n",
              "</table>\n",
              "</div>"
            ],
            "text/plain": [
              "       age_group  Cantidad          %\n",
              "0    (0.9, 26.0]      1316   2.774791\n",
              "1   (26.0, 51.0]     15535  32.755603\n",
              "2   (51.0, 76.0]     24893  52.486980\n",
              "3  (76.0, 101.0]      5683  11.982626"
            ]
          },
          "metadata": {},
          "execution_count": 29
        }
      ]
    },
    {
      "cell_type": "markdown",
      "metadata": {
        "id": "RLDjTkAfZS6t"
      },
      "source": [
        "The most relevant Age Groups on the number of FMs prescribed are:   \n",
        "\n",
        "- 51 to 76 years >> 52.5% of FMs prescribed\n",
        "- 26 to 51 years >> 32.7% of FMs prescribed\n",
        "- 76 to 101 years >> 11.9% of \n",
        "\n",
        "These three age groups correspond to 85.2% of FMs prescribed"
      ]
    },
    {
      "cell_type": "markdown",
      "metadata": {
        "id": "nq2qdw8cNwUV"
      },
      "source": [
        "![green-divider](https://user-images.githubusercontent.com/7065401/52071924-c003ad80-2562-11e9-8297-1c6595f8a7ff.png)"
      ]
    },
    {
      "cell_type": "markdown",
      "metadata": {
        "id": "t10ZyeCINy4J"
      },
      "source": [
        "#### Number of Prescribed FMs by Ciudad"
      ]
    },
    {
      "cell_type": "code",
      "metadata": {
        "colab": {
          "base_uri": "https://localhost:8080/",
          "height": 363
        },
        "id": "KCsFG1s0N4zw",
        "outputId": "acecff38-a085-4921-b659-f6b50add0a80"
      },
      "source": [
        "# FMs prescribed by city/location\n",
        "fm_proced_city = df_procedures.groupby(['CiudadMunicipio']).Cantidad.sum().reset_index()\n",
        "# sort values in descending order\n",
        "fm_proced_city = fm_proced_city.sort_values('Cantidad', ascending=False)\n",
        "\n",
        "fm_proced_city['%'] = (fm_proced_city.Cantidad / fm_proced_city.Cantidad.sum()) * 100\n",
        "fm_proced_city.head(10)"
      ],
      "execution_count": null,
      "outputs": [
        {
          "output_type": "execute_result",
          "data": {
            "text/html": [
              "<div>\n",
              "<style scoped>\n",
              "    .dataframe tbody tr th:only-of-type {\n",
              "        vertical-align: middle;\n",
              "    }\n",
              "\n",
              "    .dataframe tbody tr th {\n",
              "        vertical-align: top;\n",
              "    }\n",
              "\n",
              "    .dataframe thead th {\n",
              "        text-align: right;\n",
              "    }\n",
              "</style>\n",
              "<table border=\"1\" class=\"dataframe\">\n",
              "  <thead>\n",
              "    <tr style=\"text-align: right;\">\n",
              "      <th></th>\n",
              "      <th>CiudadMunicipio</th>\n",
              "      <th>Cantidad</th>\n",
              "      <th>%</th>\n",
              "    </tr>\n",
              "  </thead>\n",
              "  <tbody>\n",
              "    <tr>\n",
              "      <th>49</th>\n",
              "      <td>BOGOTÁ D.C.</td>\n",
              "      <td>32860</td>\n",
              "      <td>69.285428</td>\n",
              "    </tr>\n",
              "    <tr>\n",
              "      <th>401</th>\n",
              "      <td>SOACHA</td>\n",
              "      <td>2122</td>\n",
              "      <td>4.474245</td>\n",
              "    </tr>\n",
              "    <tr>\n",
              "      <th>243</th>\n",
              "      <td>MEDELLÍN</td>\n",
              "      <td>983</td>\n",
              "      <td>2.072659</td>\n",
              "    </tr>\n",
              "    <tr>\n",
              "      <th>234</th>\n",
              "      <td>MADRID</td>\n",
              "      <td>889</td>\n",
              "      <td>1.874460</td>\n",
              "    </tr>\n",
              "    <tr>\n",
              "      <th>260</th>\n",
              "      <td>MOSQUERA</td>\n",
              "      <td>588</td>\n",
              "      <td>1.239800</td>\n",
              "    </tr>\n",
              "    <tr>\n",
              "      <th>389</th>\n",
              "      <td>SANTIAGO DE CALI</td>\n",
              "      <td>573</td>\n",
              "      <td>1.208173</td>\n",
              "    </tr>\n",
              "    <tr>\n",
              "      <th>161</th>\n",
              "      <td>FUNZA</td>\n",
              "      <td>573</td>\n",
              "      <td>1.208173</td>\n",
              "    </tr>\n",
              "    <tr>\n",
              "      <th>148</th>\n",
              "      <td>FACATATIVÁ</td>\n",
              "      <td>549</td>\n",
              "      <td>1.157568</td>\n",
              "    </tr>\n",
              "    <tr>\n",
              "      <th>472</th>\n",
              "      <td>ZIPAQUIRÁ</td>\n",
              "      <td>548</td>\n",
              "      <td>1.155460</td>\n",
              "    </tr>\n",
              "    <tr>\n",
              "      <th>96</th>\n",
              "      <td>CHÍA</td>\n",
              "      <td>382</td>\n",
              "      <td>0.805448</td>\n",
              "    </tr>\n",
              "  </tbody>\n",
              "</table>\n",
              "</div>"
            ],
            "text/plain": [
              "      CiudadMunicipio  Cantidad          %\n",
              "49        BOGOTÁ D.C.     32860  69.285428\n",
              "401            SOACHA      2122   4.474245\n",
              "243          MEDELLÍN       983   2.072659\n",
              "234            MADRID       889   1.874460\n",
              "260          MOSQUERA       588   1.239800\n",
              "389  SANTIAGO DE CALI       573   1.208173\n",
              "161             FUNZA       573   1.208173\n",
              "148        FACATATIVÁ       549   1.157568\n",
              "472         ZIPAQUIRÁ       548   1.155460\n",
              "96               CHÍA       382   0.805448"
            ]
          },
          "metadata": {},
          "execution_count": 30
        }
      ]
    },
    {
      "cell_type": "markdown",
      "metadata": {
        "id": "bpPfGYaxO8wG"
      },
      "source": [
        "The most relevant Cities on the number of FMs prescribed are:    \n",
        "- Bogota >> 69.28% of FMs prescribed\n",
        "- Soacha >> 4.47% of FMs prescribed\n",
        "- Medellin >> 2.07% of FMs prescribed\n",
        "- Madrid >> 1.87% of FMs prescribed\n",
        "- Mosquera >> 1.23% of FMs prescribed\n",
        "\n",
        "These cities correspond to 78.9% of the locations where FMs are prescribed, more than the Q3 of all the data"
      ]
    },
    {
      "cell_type": "markdown",
      "metadata": {
        "id": "LIzP25PzaDA5"
      },
      "source": [
        "![purple-divider](https://user-images.githubusercontent.com/7065401/52071927-c1cd7100-2562-11e9-908a-dde91ba14e59.png)"
      ]
    },
    {
      "cell_type": "markdown",
      "metadata": {
        "id": "YAwkjP3KP6GZ"
      },
      "source": [
        "## Sales FMs"
      ]
    },
    {
      "cell_type": "code",
      "metadata": {
        "colab": {
          "base_uri": "https://localhost:8080/",
          "height": 206
        },
        "id": "ttz03E7tP8dO",
        "outputId": "c7e987f9-d7d6-4a4b-bc22-d4ab24f731e6"
      },
      "source": [
        "# check df\n",
        "df_sales.head()"
      ],
      "execution_count": null,
      "outputs": [
        {
          "output_type": "execute_result",
          "data": {
            "text/html": [
              "<div>\n",
              "<style scoped>\n",
              "    .dataframe tbody tr th:only-of-type {\n",
              "        vertical-align: middle;\n",
              "    }\n",
              "\n",
              "    .dataframe tbody tr th {\n",
              "        vertical-align: top;\n",
              "    }\n",
              "\n",
              "    .dataframe thead th {\n",
              "        text-align: right;\n",
              "    }\n",
              "</style>\n",
              "<table border=\"1\" class=\"dataframe\">\n",
              "  <thead>\n",
              "    <tr style=\"text-align: right;\">\n",
              "      <th></th>\n",
              "      <th>ingreso</th>\n",
              "      <th>cedula</th>\n",
              "      <th>fecha_oc</th>\n",
              "    </tr>\n",
              "  </thead>\n",
              "  <tbody>\n",
              "    <tr>\n",
              "      <th>0</th>\n",
              "      <td>26806</td>\n",
              "      <td>390646</td>\n",
              "      <td>2020-03-19</td>\n",
              "    </tr>\n",
              "    <tr>\n",
              "      <th>1</th>\n",
              "      <td>26793</td>\n",
              "      <td>13352962</td>\n",
              "      <td>2020-03-19</td>\n",
              "    </tr>\n",
              "    <tr>\n",
              "      <th>2</th>\n",
              "      <td>26928</td>\n",
              "      <td>19059029</td>\n",
              "      <td>2020-03-19</td>\n",
              "    </tr>\n",
              "    <tr>\n",
              "      <th>3</th>\n",
              "      <td>26891</td>\n",
              "      <td>31259698</td>\n",
              "      <td>2020-03-19</td>\n",
              "    </tr>\n",
              "    <tr>\n",
              "      <th>4</th>\n",
              "      <td>26720</td>\n",
              "      <td>41453437</td>\n",
              "      <td>2020-03-19</td>\n",
              "    </tr>\n",
              "  </tbody>\n",
              "</table>\n",
              "</div>"
            ],
            "text/plain": [
              "   ingreso    cedula    fecha_oc\n",
              "0    26806    390646  2020-03-19\n",
              "1    26793  13352962  2020-03-19\n",
              "2    26928  19059029  2020-03-19\n",
              "3    26891  31259698  2020-03-19\n",
              "4    26720  41453437  2020-03-19"
            ]
          },
          "metadata": {},
          "execution_count": 31
        }
      ]
    },
    {
      "cell_type": "code",
      "metadata": {
        "colab": {
          "base_uri": "https://localhost:8080/",
          "height": 206
        },
        "id": "BybjReIWbYSR",
        "outputId": "28d476c2-b873-46a3-9bb9-0521704029f6"
      },
      "source": [
        "# rename ingreso to Ingreso\n",
        "df_sales.rename(columns={'ingreso': 'Ingreso'}, inplace=True)\n",
        "\n",
        "df_sales.head()"
      ],
      "execution_count": null,
      "outputs": [
        {
          "output_type": "execute_result",
          "data": {
            "text/html": [
              "<div>\n",
              "<style scoped>\n",
              "    .dataframe tbody tr th:only-of-type {\n",
              "        vertical-align: middle;\n",
              "    }\n",
              "\n",
              "    .dataframe tbody tr th {\n",
              "        vertical-align: top;\n",
              "    }\n",
              "\n",
              "    .dataframe thead th {\n",
              "        text-align: right;\n",
              "    }\n",
              "</style>\n",
              "<table border=\"1\" class=\"dataframe\">\n",
              "  <thead>\n",
              "    <tr style=\"text-align: right;\">\n",
              "      <th></th>\n",
              "      <th>Ingreso</th>\n",
              "      <th>cedula</th>\n",
              "      <th>fecha_oc</th>\n",
              "    </tr>\n",
              "  </thead>\n",
              "  <tbody>\n",
              "    <tr>\n",
              "      <th>0</th>\n",
              "      <td>26806</td>\n",
              "      <td>390646</td>\n",
              "      <td>2020-03-19</td>\n",
              "    </tr>\n",
              "    <tr>\n",
              "      <th>1</th>\n",
              "      <td>26793</td>\n",
              "      <td>13352962</td>\n",
              "      <td>2020-03-19</td>\n",
              "    </tr>\n",
              "    <tr>\n",
              "      <th>2</th>\n",
              "      <td>26928</td>\n",
              "      <td>19059029</td>\n",
              "      <td>2020-03-19</td>\n",
              "    </tr>\n",
              "    <tr>\n",
              "      <th>3</th>\n",
              "      <td>26891</td>\n",
              "      <td>31259698</td>\n",
              "      <td>2020-03-19</td>\n",
              "    </tr>\n",
              "    <tr>\n",
              "      <th>4</th>\n",
              "      <td>26720</td>\n",
              "      <td>41453437</td>\n",
              "      <td>2020-03-19</td>\n",
              "    </tr>\n",
              "  </tbody>\n",
              "</table>\n",
              "</div>"
            ],
            "text/plain": [
              "   Ingreso    cedula    fecha_oc\n",
              "0    26806    390646  2020-03-19\n",
              "1    26793  13352962  2020-03-19\n",
              "2    26928  19059029  2020-03-19\n",
              "3    26891  31259698  2020-03-19\n",
              "4    26720  41453437  2020-03-19"
            ]
          },
          "metadata": {},
          "execution_count": 32
        }
      ]
    },
    {
      "cell_type": "code",
      "metadata": {
        "colab": {
          "base_uri": "https://localhost:8080/"
        },
        "id": "A5diuY28QD0y",
        "outputId": "aa28d76b-56a2-4135-8573-9d8dae40922f"
      },
      "source": [
        "# check shape\n",
        "df_sales.shape"
      ],
      "execution_count": null,
      "outputs": [
        {
          "output_type": "execute_result",
          "data": {
            "text/plain": [
              "(28003, 3)"
            ]
          },
          "metadata": {},
          "execution_count": 33
        }
      ]
    },
    {
      "cell_type": "code",
      "metadata": {
        "colab": {
          "base_uri": "https://localhost:8080/"
        },
        "id": "UAHVjJBgQNWP",
        "outputId": "52a538c4-d6f2-4fce-b732-2dbdf4258c74"
      },
      "source": [
        "# check column types\n",
        "df_sales.dtypes"
      ],
      "execution_count": null,
      "outputs": [
        {
          "output_type": "execute_result",
          "data": {
            "text/plain": [
              "Ingreso      int64\n",
              "cedula      object\n",
              "fecha_oc    object\n",
              "dtype: object"
            ]
          },
          "metadata": {},
          "execution_count": 34
        }
      ]
    },
    {
      "cell_type": "code",
      "metadata": {
        "colab": {
          "base_uri": "https://localhost:8080/",
          "height": 346
        },
        "id": "4GKzW0giQQ8Z",
        "outputId": "057ec051-eb71-43a6-f918-a17661fd004f"
      },
      "source": [
        "# check for missing values\n",
        "msg.matrix(df_sales, figsize=(12,4))"
      ],
      "execution_count": null,
      "outputs": [
        {
          "output_type": "execute_result",
          "data": {
            "text/plain": [
              "<matplotlib.axes._subplots.AxesSubplot at 0x7f3a26bd1ed0>"
            ]
          },
          "metadata": {},
          "execution_count": 35
        },
        {
          "output_type": "display_data",
          "data": {
            "image/png": "[encoded data removed]",
            "text/plain": [
              "<Figure size 864x288 with 2 Axes>"
            ]
          },
          "metadata": {
            "needs_background": "light"
          }
        }
      ]
    },
    {
      "cell_type": "markdown",
      "metadata": {
        "id": "5n6N8roMQhop"
      },
      "source": [
        "![green-divider](https://user-images.githubusercontent.com/7065401/52071924-c003ad80-2562-11e9-8297-1c6595f8a7ff.png)"
      ]
    },
    {
      "cell_type": "markdown",
      "metadata": {
        "id": "agh1v9Y7QjP5"
      },
      "source": [
        "### Number of Prescriptions Sold by Year/Month "
      ]
    },
    {
      "cell_type": "code",
      "metadata": {
        "id": "LwxcsNQgQieQ"
      },
      "source": [
        "# change fecha_oc type to datetime\n",
        "df_sales['fecha_oc'] = pd.to_datetime(df_sales['fecha_oc'])"
      ],
      "execution_count": null,
      "outputs": []
    },
    {
      "cell_type": "code",
      "metadata": {
        "colab": {
          "base_uri": "https://localhost:8080/"
        },
        "id": "UL_kOX1lRMiZ",
        "outputId": "7b158200-4c86-453c-dd7c-ebf64c2ad6c5"
      },
      "source": [
        "# check changes\n",
        "df_sales.dtypes"
      ],
      "execution_count": null,
      "outputs": [
        {
          "output_type": "execute_result",
          "data": {
            "text/plain": [
              "Ingreso              int64\n",
              "cedula              object\n",
              "fecha_oc    datetime64[ns]\n",
              "dtype: object"
            ]
          },
          "metadata": {},
          "execution_count": 37
        }
      ]
    },
    {
      "cell_type": "code",
      "metadata": {
        "colab": {
          "base_uri": "https://localhost:8080/",
          "height": 206
        },
        "id": "6wTgUq3vRSPQ",
        "outputId": "adbb7576-12f1-4244-faa1-76d36d690d84"
      },
      "source": [
        "# create a month and year column\n",
        "df_sales['month_sold'] = pd.DatetimeIndex(df_sales['fecha_oc']).month\n",
        "df_sales['year_sold'] = pd.DatetimeIndex(df_sales['fecha_oc']).year \n",
        "\n",
        "df_sales.head()"
      ],
      "execution_count": null,
      "outputs": [
        {
          "output_type": "execute_result",
          "data": {
            "text/html": [
              "<div>\n",
              "<style scoped>\n",
              "    .dataframe tbody tr th:only-of-type {\n",
              "        vertical-align: middle;\n",
              "    }\n",
              "\n",
              "    .dataframe tbody tr th {\n",
              "        vertical-align: top;\n",
              "    }\n",
              "\n",
              "    .dataframe thead th {\n",
              "        text-align: right;\n",
              "    }\n",
              "</style>\n",
              "<table border=\"1\" class=\"dataframe\">\n",
              "  <thead>\n",
              "    <tr style=\"text-align: right;\">\n",
              "      <th></th>\n",
              "      <th>Ingreso</th>\n",
              "      <th>cedula</th>\n",
              "      <th>fecha_oc</th>\n",
              "      <th>month_sold</th>\n",
              "      <th>year_sold</th>\n",
              "    </tr>\n",
              "  </thead>\n",
              "  <tbody>\n",
              "    <tr>\n",
              "      <th>0</th>\n",
              "      <td>26806</td>\n",
              "      <td>390646</td>\n",
              "      <td>2020-03-19</td>\n",
              "      <td>3</td>\n",
              "      <td>2020</td>\n",
              "    </tr>\n",
              "    <tr>\n",
              "      <th>1</th>\n",
              "      <td>26793</td>\n",
              "      <td>13352962</td>\n",
              "      <td>2020-03-19</td>\n",
              "      <td>3</td>\n",
              "      <td>2020</td>\n",
              "    </tr>\n",
              "    <tr>\n",
              "      <th>2</th>\n",
              "      <td>26928</td>\n",
              "      <td>19059029</td>\n",
              "      <td>2020-03-19</td>\n",
              "      <td>3</td>\n",
              "      <td>2020</td>\n",
              "    </tr>\n",
              "    <tr>\n",
              "      <th>3</th>\n",
              "      <td>26891</td>\n",
              "      <td>31259698</td>\n",
              "      <td>2020-03-19</td>\n",
              "      <td>3</td>\n",
              "      <td>2020</td>\n",
              "    </tr>\n",
              "    <tr>\n",
              "      <th>4</th>\n",
              "      <td>26720</td>\n",
              "      <td>41453437</td>\n",
              "      <td>2020-03-19</td>\n",
              "      <td>3</td>\n",
              "      <td>2020</td>\n",
              "    </tr>\n",
              "  </tbody>\n",
              "</table>\n",
              "</div>"
            ],
            "text/plain": [
              "   Ingreso    cedula   fecha_oc  month_sold  year_sold\n",
              "0    26806    390646 2020-03-19           3       2020\n",
              "1    26793  13352962 2020-03-19           3       2020\n",
              "2    26928  19059029 2020-03-19           3       2020\n",
              "3    26891  31259698 2020-03-19           3       2020\n",
              "4    26720  41453437 2020-03-19           3       2020"
            ]
          },
          "metadata": {},
          "execution_count": 38
        }
      ]
    },
    {
      "cell_type": "code",
      "metadata": {
        "id": "MSF05Y1RSBhL"
      },
      "source": [
        "# function to calculate number of prescriptions sold\n",
        "def num_sold(df):\n",
        "  calc = {}\n",
        "  calc['prescriptions_sold'] = len(df)\n",
        "\n",
        "  return pd.Series(calc, index=['prescriptions_sold'])"
      ],
      "execution_count": null,
      "outputs": []
    },
    {
      "cell_type": "code",
      "metadata": {
        "colab": {
          "base_uri": "https://localhost:8080/",
          "height": 645
        },
        "id": "5tRCWBTAR3lb",
        "outputId": "7924a957-50d4-4aca-ecce-fea0b293f4ba"
      },
      "source": [
        "# prescriptions sold by year /month\n",
        "presc_sold_month = df_sales.groupby(['year_sold', 'month_sold']).apply(num_sold).reset_index()\n",
        "\n",
        "presc_sold_month['%'] = (presc_sold_month.prescriptions_sold / presc_sold_month.prescriptions_sold.sum()) * 100\n",
        "presc_sold_month"
      ],
      "execution_count": null,
      "outputs": [
        {
          "output_type": "execute_result",
          "data": {
            "text/html": [
              "<div>\n",
              "<style scoped>\n",
              "    .dataframe tbody tr th:only-of-type {\n",
              "        vertical-align: middle;\n",
              "    }\n",
              "\n",
              "    .dataframe tbody tr th {\n",
              "        vertical-align: top;\n",
              "    }\n",
              "\n",
              "    .dataframe thead th {\n",
              "        text-align: right;\n",
              "    }\n",
              "</style>\n",
              "<table border=\"1\" class=\"dataframe\">\n",
              "  <thead>\n",
              "    <tr style=\"text-align: right;\">\n",
              "      <th></th>\n",
              "      <th>year_sold</th>\n",
              "      <th>month_sold</th>\n",
              "      <th>prescriptions_sold</th>\n",
              "      <th>%</th>\n",
              "    </tr>\n",
              "  </thead>\n",
              "  <tbody>\n",
              "    <tr>\n",
              "      <th>0</th>\n",
              "      <td>2020</td>\n",
              "      <td>3</td>\n",
              "      <td>7</td>\n",
              "      <td>0.024997</td>\n",
              "    </tr>\n",
              "    <tr>\n",
              "      <th>1</th>\n",
              "      <td>2020</td>\n",
              "      <td>4</td>\n",
              "      <td>50</td>\n",
              "      <td>0.178552</td>\n",
              "    </tr>\n",
              "    <tr>\n",
              "      <th>2</th>\n",
              "      <td>2020</td>\n",
              "      <td>5</td>\n",
              "      <td>118</td>\n",
              "      <td>0.421383</td>\n",
              "    </tr>\n",
              "    <tr>\n",
              "      <th>3</th>\n",
              "      <td>2020</td>\n",
              "      <td>6</td>\n",
              "      <td>195</td>\n",
              "      <td>0.696354</td>\n",
              "    </tr>\n",
              "    <tr>\n",
              "      <th>4</th>\n",
              "      <td>2020</td>\n",
              "      <td>7</td>\n",
              "      <td>321</td>\n",
              "      <td>1.146306</td>\n",
              "    </tr>\n",
              "    <tr>\n",
              "      <th>5</th>\n",
              "      <td>2020</td>\n",
              "      <td>8</td>\n",
              "      <td>558</td>\n",
              "      <td>1.992644</td>\n",
              "    </tr>\n",
              "    <tr>\n",
              "      <th>6</th>\n",
              "      <td>2020</td>\n",
              "      <td>9</td>\n",
              "      <td>885</td>\n",
              "      <td>3.160376</td>\n",
              "    </tr>\n",
              "    <tr>\n",
              "      <th>7</th>\n",
              "      <td>2020</td>\n",
              "      <td>10</td>\n",
              "      <td>876</td>\n",
              "      <td>3.128236</td>\n",
              "    </tr>\n",
              "    <tr>\n",
              "      <th>8</th>\n",
              "      <td>2020</td>\n",
              "      <td>11</td>\n",
              "      <td>873</td>\n",
              "      <td>3.117523</td>\n",
              "    </tr>\n",
              "    <tr>\n",
              "      <th>9</th>\n",
              "      <td>2020</td>\n",
              "      <td>12</td>\n",
              "      <td>1096</td>\n",
              "      <td>3.913866</td>\n",
              "    </tr>\n",
              "    <tr>\n",
              "      <th>10</th>\n",
              "      <td>2021</td>\n",
              "      <td>1</td>\n",
              "      <td>1419</td>\n",
              "      <td>5.067314</td>\n",
              "    </tr>\n",
              "    <tr>\n",
              "      <th>11</th>\n",
              "      <td>2021</td>\n",
              "      <td>2</td>\n",
              "      <td>2024</td>\n",
              "      <td>7.227797</td>\n",
              "    </tr>\n",
              "    <tr>\n",
              "      <th>12</th>\n",
              "      <td>2021</td>\n",
              "      <td>3</td>\n",
              "      <td>2418</td>\n",
              "      <td>8.634789</td>\n",
              "    </tr>\n",
              "    <tr>\n",
              "      <th>13</th>\n",
              "      <td>2021</td>\n",
              "      <td>4</td>\n",
              "      <td>2365</td>\n",
              "      <td>8.445524</td>\n",
              "    </tr>\n",
              "    <tr>\n",
              "      <th>14</th>\n",
              "      <td>2021</td>\n",
              "      <td>5</td>\n",
              "      <td>2349</td>\n",
              "      <td>8.388387</td>\n",
              "    </tr>\n",
              "    <tr>\n",
              "      <th>15</th>\n",
              "      <td>2021</td>\n",
              "      <td>6</td>\n",
              "      <td>2732</td>\n",
              "      <td>9.756098</td>\n",
              "    </tr>\n",
              "    <tr>\n",
              "      <th>16</th>\n",
              "      <td>2021</td>\n",
              "      <td>7</td>\n",
              "      <td>3073</td>\n",
              "      <td>10.973824</td>\n",
              "    </tr>\n",
              "    <tr>\n",
              "      <th>17</th>\n",
              "      <td>2021</td>\n",
              "      <td>8</td>\n",
              "      <td>3100</td>\n",
              "      <td>11.070242</td>\n",
              "    </tr>\n",
              "    <tr>\n",
              "      <th>18</th>\n",
              "      <td>2021</td>\n",
              "      <td>9</td>\n",
              "      <td>3544</td>\n",
              "      <td>12.655787</td>\n",
              "    </tr>\n",
              "  </tbody>\n",
              "</table>\n",
              "</div>"
            ],
            "text/plain": [
              "    year_sold  month_sold  prescriptions_sold          %\n",
              "0        2020           3                   7   0.024997\n",
              "1        2020           4                  50   0.178552\n",
              "2        2020           5                 118   0.421383\n",
              "3        2020           6                 195   0.696354\n",
              "4        2020           7                 321   1.146306\n",
              "5        2020           8                 558   1.992644\n",
              "6        2020           9                 885   3.160376\n",
              "7        2020          10                 876   3.128236\n",
              "8        2020          11                 873   3.117523\n",
              "9        2020          12                1096   3.913866\n",
              "10       2021           1                1419   5.067314\n",
              "11       2021           2                2024   7.227797\n",
              "12       2021           3                2418   8.634789\n",
              "13       2021           4                2365   8.445524\n",
              "14       2021           5                2349   8.388387\n",
              "15       2021           6                2732   9.756098\n",
              "16       2021           7                3073  10.973824\n",
              "17       2021           8                3100  11.070242\n",
              "18       2021           9                3544  12.655787"
            ]
          },
          "metadata": {},
          "execution_count": 40
        }
      ]
    },
    {
      "cell_type": "code",
      "metadata": {
        "colab": {
          "base_uri": "https://localhost:8080/",
          "height": 411
        },
        "id": "S9CYJooYS92F",
        "outputId": "54f6f8ab-44d4-4d66-d54d-f4d1eae8058e"
      },
      "source": [
        "# lineplot of prescriptions sold by year / month\n",
        "\n",
        "f, ax = plt.subplots(figsize=(12, 6))\n",
        "\n",
        "sns.lineplot(x=presc_sold_month.month_sold, y=presc_sold_month.prescriptions_sold,\\\n",
        "             hue=presc_sold_month.year_sold, palette=['olive', 'orchid'])\n",
        "\n",
        "ax.set_xticks([1,2,3,4,5,6,7,8,9,10,11,12])\n",
        "ax.set_xticklabels(['Ene', 'Feb', 'Mar', 'Abr', 'May', 'Jun', 'Jul', 'Ago', 'Sep', 'Oct', 'Nov', 'Dic'])\n",
        "\n",
        "plt.title('Number of FMs Prescriptions Sold - March 2020 to Sept 2021', pad=12)\n",
        "plt.legend()\n",
        "plt.show()"
      ],
      "execution_count": null,
      "outputs": [
        {
          "output_type": "display_data",
          "data": {
            "image/png": "[encoded data removed]",
            "text/plain": [
              "<Figure size 864x432 with 1 Axes>"
            ]
          },
          "metadata": {
            "needs_background": "light"
          }
        }
      ]
    },
    {
      "cell_type": "markdown",
      "metadata": {
        "id": "ITqkny1gVPvn"
      },
      "source": [
        "![purple-divider](https://user-images.githubusercontent.com/7065401/52071927-c1cd7100-2562-11e9-908a-dde91ba14e59.png)"
      ]
    },
    {
      "cell_type": "markdown",
      "metadata": {
        "id": "v1PdMIBrVXz8"
      },
      "source": [
        "## DFs Merging"
      ]
    },
    {
      "cell_type": "code",
      "metadata": {
        "colab": {
          "base_uri": "https://localhost:8080/"
        },
        "id": "mGCkxJiCVZYY",
        "outputId": "c3b2e316-9d38-4750-8fee-a75d33498021"
      },
      "source": [
        " # check size of df_procedures\n",
        " df_procedures.shape"
      ],
      "execution_count": null,
      "outputs": [
        {
          "output_type": "execute_result",
          "data": {
            "text/plain": [
              "(35149, 23)"
            ]
          },
          "metadata": {},
          "execution_count": 42
        }
      ]
    },
    {
      "cell_type": "code",
      "metadata": {
        "colab": {
          "base_uri": "https://localhost:8080/",
          "height": 435
        },
        "id": "s1AN5ec-a2nz",
        "outputId": "812e03a4-b102-41a8-ae0e-eccafc761d2b"
      },
      "source": [
        "# left join of df_procedures and df_sales on ingreso\n",
        "df_merged = df_procedures.merge(df_sales, on='Ingreso', how='left')\n",
        "\n",
        "df_merged.tail()"
      ],
      "execution_count": null,
      "outputs": [
        {
          "output_type": "execute_result",
          "data": {
            "text/html": [
              "<div>\n",
              "<style scoped>\n",
              "    .dataframe tbody tr th:only-of-type {\n",
              "        vertical-align: middle;\n",
              "    }\n",
              "\n",
              "    .dataframe tbody tr th {\n",
              "        vertical-align: top;\n",
              "    }\n",
              "\n",
              "    .dataframe thead th {\n",
              "        text-align: right;\n",
              "    }\n",
              "</style>\n",
              "<table border=\"1\" class=\"dataframe\">\n",
              "  <thead>\n",
              "    <tr style=\"text-align: right;\">\n",
              "      <th></th>\n",
              "      <th>Ingreso</th>\n",
              "      <th>DocPaciente</th>\n",
              "      <th>Fecha Nacimiento</th>\n",
              "      <th>Edad</th>\n",
              "      <th>Sexo</th>\n",
              "      <th>CiudadMunicipio</th>\n",
              "      <th>Diagnostico</th>\n",
              "      <th>CodigoDiagnostico</th>\n",
              "      <th>Plan</th>\n",
              "      <th>Tipo Plan</th>\n",
              "      <th>FechaIngreso</th>\n",
              "      <th>FechaFormulacion</th>\n",
              "      <th>CodProducto</th>\n",
              "      <th>Cantidad</th>\n",
              "      <th>DocMedico</th>\n",
              "      <th>NombreMedico</th>\n",
              "      <th>Especialidad</th>\n",
              "      <th>Plan/Servicio</th>\n",
              "      <th>Sede</th>\n",
              "      <th>Tipo Examen</th>\n",
              "      <th>Month</th>\n",
              "      <th>Year</th>\n",
              "      <th>age_group</th>\n",
              "      <th>cedula</th>\n",
              "      <th>fecha_oc</th>\n",
              "      <th>month_sold</th>\n",
              "      <th>year_sold</th>\n",
              "    </tr>\n",
              "  </thead>\n",
              "  <tbody>\n",
              "    <tr>\n",
              "      <th>35144</th>\n",
              "      <td>225558</td>\n",
              "      <td>53063429</td>\n",
              "      <td>15/05/1984</td>\n",
              "      <td>37</td>\n",
              "      <td>F</td>\n",
              "      <td>MADRID</td>\n",
              "      <td>NaN</td>\n",
              "      <td>NaN</td>\n",
              "      <td>FAMISANAR EPS - SUBSIDIADO</td>\n",
              "      <td>EPS</td>\n",
              "      <td>2021-09-29</td>\n",
              "      <td>2021-09-29</td>\n",
              "      <td>fm001</td>\n",
              "      <td>4</td>\n",
              "      <td>55303292</td>\n",
              "      <td>MARIA ANGELICA SOLANO MANZANO</td>\n",
              "      <td>Medicina General</td>\n",
              "      <td>Consulta Dolor y Cuidados Paliativos</td>\n",
              "      <td>ZERENIA</td>\n",
              "      <td>Control</td>\n",
              "      <td>9</td>\n",
              "      <td>2021</td>\n",
              "      <td>(26.0, 51.0]</td>\n",
              "      <td>NaN</td>\n",
              "      <td>NaT</td>\n",
              "      <td>NaN</td>\n",
              "      <td>NaN</td>\n",
              "    </tr>\n",
              "    <tr>\n",
              "      <th>35145</th>\n",
              "      <td>225559</td>\n",
              "      <td>1070304763</td>\n",
              "      <td>19/06/1988</td>\n",
              "      <td>33</td>\n",
              "      <td>F</td>\n",
              "      <td>ZIPAQUIRÁ</td>\n",
              "      <td>NaN</td>\n",
              "      <td>NaN</td>\n",
              "      <td>FAMISANAR EPS - CONTRIBUTIVO</td>\n",
              "      <td>EPS</td>\n",
              "      <td>2021-09-29</td>\n",
              "      <td>2021-09-29</td>\n",
              "      <td>fm001</td>\n",
              "      <td>1</td>\n",
              "      <td>55303292</td>\n",
              "      <td>MARIA ANGELICA SOLANO MANZANO</td>\n",
              "      <td>Medicina General</td>\n",
              "      <td>Consulta Dolor y Cuidados Paliativos</td>\n",
              "      <td>ZERENIA</td>\n",
              "      <td>Control</td>\n",
              "      <td>9</td>\n",
              "      <td>2021</td>\n",
              "      <td>(26.0, 51.0]</td>\n",
              "      <td>NaN</td>\n",
              "      <td>NaT</td>\n",
              "      <td>NaN</td>\n",
              "      <td>NaN</td>\n",
              "    </tr>\n",
              "    <tr>\n",
              "      <th>35146</th>\n",
              "      <td>225564</td>\n",
              "      <td>27059635</td>\n",
              "      <td>4/09/1929</td>\n",
              "      <td>92</td>\n",
              "      <td>F</td>\n",
              "      <td>BOGOTÁ D.C.</td>\n",
              "      <td>NaN</td>\n",
              "      <td>NaN</td>\n",
              "      <td>PLAN PARTICULAR</td>\n",
              "      <td>Particular</td>\n",
              "      <td>2021-09-29</td>\n",
              "      <td>2021-09-29</td>\n",
              "      <td>fm003</td>\n",
              "      <td>1</td>\n",
              "      <td>91222978</td>\n",
              "      <td>LUIS FERNANDO CHAIN HENAO</td>\n",
              "      <td>Medicina General</td>\n",
              "      <td>Medicina General.</td>\n",
              "      <td>ZERENIA</td>\n",
              "      <td>NaN</td>\n",
              "      <td>9</td>\n",
              "      <td>2021</td>\n",
              "      <td>(76.0, 101.0]</td>\n",
              "      <td>27059635</td>\n",
              "      <td>2021-09-30</td>\n",
              "      <td>9.0</td>\n",
              "      <td>2021.0</td>\n",
              "    </tr>\n",
              "    <tr>\n",
              "      <th>35147</th>\n",
              "      <td>225566</td>\n",
              "      <td>52903966</td>\n",
              "      <td>1/07/1982</td>\n",
              "      <td>39</td>\n",
              "      <td>F</td>\n",
              "      <td>BOGOTÁ D.C.</td>\n",
              "      <td>OTRO DOLOR CRONICO</td>\n",
              "      <td>R522</td>\n",
              "      <td>FAMISANAR EPS - CONTRIBUTIVO</td>\n",
              "      <td>EPS</td>\n",
              "      <td>2021-09-29</td>\n",
              "      <td>2021-09-29</td>\n",
              "      <td>fm003</td>\n",
              "      <td>1</td>\n",
              "      <td>19062502</td>\n",
              "      <td>JORGE  PATIÑO</td>\n",
              "      <td>Dolor Y Cuidado Paliativo</td>\n",
              "      <td>Consulta Dolor y Cuidados Paliativos</td>\n",
              "      <td>ZERENIA</td>\n",
              "      <td>Control</td>\n",
              "      <td>9</td>\n",
              "      <td>2021</td>\n",
              "      <td>(26.0, 51.0]</td>\n",
              "      <td>NaN</td>\n",
              "      <td>NaT</td>\n",
              "      <td>NaN</td>\n",
              "      <td>NaN</td>\n",
              "    </tr>\n",
              "    <tr>\n",
              "      <th>35148</th>\n",
              "      <td>225591</td>\n",
              "      <td>83673</td>\n",
              "      <td>16/12/1930</td>\n",
              "      <td>91</td>\n",
              "      <td>M</td>\n",
              "      <td>BOGOTÁ D.C.</td>\n",
              "      <td>CEFALEA</td>\n",
              "      <td>R51X</td>\n",
              "      <td>SURA EPS - CONTRIBUTIVO</td>\n",
              "      <td>EPS</td>\n",
              "      <td>2021-09-29</td>\n",
              "      <td>2021-09-29</td>\n",
              "      <td>fm001</td>\n",
              "      <td>1</td>\n",
              "      <td>14202045</td>\n",
              "      <td>GONZALO  MELO GOMEZ</td>\n",
              "      <td>Neurologia</td>\n",
              "      <td>Neurologia</td>\n",
              "      <td>PARKWAY</td>\n",
              "      <td>Primera vez</td>\n",
              "      <td>9</td>\n",
              "      <td>2021</td>\n",
              "      <td>(76.0, 101.0]</td>\n",
              "      <td>NaN</td>\n",
              "      <td>NaT</td>\n",
              "      <td>NaN</td>\n",
              "      <td>NaN</td>\n",
              "    </tr>\n",
              "  </tbody>\n",
              "</table>\n",
              "</div>"
            ],
            "text/plain": [
              "       Ingreso DocPaciente Fecha Nacimiento  ...   fecha_oc month_sold year_sold\n",
              "35144   225558    53063429       15/05/1984  ...        NaT        NaN       NaN\n",
              "35145   225559  1070304763       19/06/1988  ...        NaT        NaN       NaN\n",
              "35146   225564    27059635        4/09/1929  ... 2021-09-30        9.0    2021.0\n",
              "35147   225566    52903966        1/07/1982  ...        NaT        NaN       NaN\n",
              "35148   225591       83673       16/12/1930  ...        NaT        NaN       NaN\n",
              "\n",
              "[5 rows x 27 columns]"
            ]
          },
          "metadata": {},
          "execution_count": 43
        }
      ]
    },
    {
      "cell_type": "code",
      "metadata": {
        "colab": {
          "base_uri": "https://localhost:8080/"
        },
        "id": "eDClmzSedyBX",
        "outputId": "d5c6ec75-6570-4a22-9d16-ceb2e4970866"
      },
      "source": [
        "# check merge df size\n",
        "df_merged.shape"
      ],
      "execution_count": null,
      "outputs": [
        {
          "output_type": "execute_result",
          "data": {
            "text/plain": [
              "(35149, 27)"
            ]
          },
          "metadata": {},
          "execution_count": 44
        }
      ]
    },
    {
      "cell_type": "markdown",
      "metadata": {
        "id": "jW--eOoAFWLR"
      },
      "source": [
        "![green-divider](https://user-images.githubusercontent.com/7065401/52071924-c003ad80-2562-11e9-8297-1c6595f8a7ff.png)"
      ]
    },
    {
      "cell_type": "markdown",
      "metadata": {
        "id": "MyF4zGxpFOVS"
      },
      "source": [
        "### Selection Features & label in DF"
      ]
    },
    {
      "cell_type": "code",
      "metadata": {
        "id": "CdTsU9US-2AE"
      },
      "source": [
        "# create column not_buyer >> if the column 'cedula' isna() >> True\n",
        "df_merged['not_buyer'] = df_merged.cedula.isna()\n",
        "\n",
        "# create column 'FM_buyer >> 1 if its not_buyer == False \n",
        "df_merged['FM_buyer'] = [1 if df_merged.iloc[index].not_buyer == False else 0 for index in df_merged.index]"
      ],
      "execution_count": null,
      "outputs": []
    },
    {
      "cell_type": "code",
      "metadata": {
        "colab": {
          "base_uri": "https://localhost:8080/",
          "height": 268
        },
        "id": "XLjO-37EBe1S",
        "outputId": "e3998c3e-caf7-4bc1-8987-8ffc23313d3a"
      },
      "source": [
        "df_merged.tail(3)"
      ],
      "execution_count": null,
      "outputs": [
        {
          "output_type": "execute_result",
          "data": {
            "text/html": [
              "<div>\n",
              "<style scoped>\n",
              "    .dataframe tbody tr th:only-of-type {\n",
              "        vertical-align: middle;\n",
              "    }\n",
              "\n",
              "    .dataframe tbody tr th {\n",
              "        vertical-align: top;\n",
              "    }\n",
              "\n",
              "    .dataframe thead th {\n",
              "        text-align: right;\n",
              "    }\n",
              "</style>\n",
              "<table border=\"1\" class=\"dataframe\">\n",
              "  <thead>\n",
              "    <tr style=\"text-align: right;\">\n",
              "      <th></th>\n",
              "      <th>Ingreso</th>\n",
              "      <th>DocPaciente</th>\n",
              "      <th>Fecha Nacimiento</th>\n",
              "      <th>Edad</th>\n",
              "      <th>Sexo</th>\n",
              "      <th>CiudadMunicipio</th>\n",
              "      <th>Diagnostico</th>\n",
              "      <th>CodigoDiagnostico</th>\n",
              "      <th>Plan</th>\n",
              "      <th>Tipo Plan</th>\n",
              "      <th>FechaIngreso</th>\n",
              "      <th>FechaFormulacion</th>\n",
              "      <th>CodProducto</th>\n",
              "      <th>Cantidad</th>\n",
              "      <th>DocMedico</th>\n",
              "      <th>NombreMedico</th>\n",
              "      <th>Especialidad</th>\n",
              "      <th>Plan/Servicio</th>\n",
              "      <th>Sede</th>\n",
              "      <th>Tipo Examen</th>\n",
              "      <th>Month</th>\n",
              "      <th>Year</th>\n",
              "      <th>age_group</th>\n",
              "      <th>cedula</th>\n",
              "      <th>fecha_oc</th>\n",
              "      <th>month_sold</th>\n",
              "      <th>year_sold</th>\n",
              "      <th>not_buyer</th>\n",
              "      <th>FM_buyer</th>\n",
              "    </tr>\n",
              "  </thead>\n",
              "  <tbody>\n",
              "    <tr>\n",
              "      <th>35146</th>\n",
              "      <td>225564</td>\n",
              "      <td>27059635</td>\n",
              "      <td>4/09/1929</td>\n",
              "      <td>92</td>\n",
              "      <td>F</td>\n",
              "      <td>BOGOTÁ D.C.</td>\n",
              "      <td>NaN</td>\n",
              "      <td>NaN</td>\n",
              "      <td>PLAN PARTICULAR</td>\n",
              "      <td>Particular</td>\n",
              "      <td>2021-09-29</td>\n",
              "      <td>2021-09-29</td>\n",
              "      <td>fm003</td>\n",
              "      <td>1</td>\n",
              "      <td>91222978</td>\n",
              "      <td>LUIS FERNANDO CHAIN HENAO</td>\n",
              "      <td>Medicina General</td>\n",
              "      <td>Medicina General.</td>\n",
              "      <td>ZERENIA</td>\n",
              "      <td>NaN</td>\n",
              "      <td>9</td>\n",
              "      <td>2021</td>\n",
              "      <td>(76.0, 101.0]</td>\n",
              "      <td>27059635</td>\n",
              "      <td>2021-09-30</td>\n",
              "      <td>9.0</td>\n",
              "      <td>2021.0</td>\n",
              "      <td>False</td>\n",
              "      <td>1</td>\n",
              "    </tr>\n",
              "    <tr>\n",
              "      <th>35147</th>\n",
              "      <td>225566</td>\n",
              "      <td>52903966</td>\n",
              "      <td>1/07/1982</td>\n",
              "      <td>39</td>\n",
              "      <td>F</td>\n",
              "      <td>BOGOTÁ D.C.</td>\n",
              "      <td>OTRO DOLOR CRONICO</td>\n",
              "      <td>R522</td>\n",
              "      <td>FAMISANAR EPS - CONTRIBUTIVO</td>\n",
              "      <td>EPS</td>\n",
              "      <td>2021-09-29</td>\n",
              "      <td>2021-09-29</td>\n",
              "      <td>fm003</td>\n",
              "      <td>1</td>\n",
              "      <td>19062502</td>\n",
              "      <td>JORGE  PATIÑO</td>\n",
              "      <td>Dolor Y Cuidado Paliativo</td>\n",
              "      <td>Consulta Dolor y Cuidados Paliativos</td>\n",
              "      <td>ZERENIA</td>\n",
              "      <td>Control</td>\n",
              "      <td>9</td>\n",
              "      <td>2021</td>\n",
              "      <td>(26.0, 51.0]</td>\n",
              "      <td>NaN</td>\n",
              "      <td>NaT</td>\n",
              "      <td>NaN</td>\n",
              "      <td>NaN</td>\n",
              "      <td>True</td>\n",
              "      <td>0</td>\n",
              "    </tr>\n",
              "    <tr>\n",
              "      <th>35148</th>\n",
              "      <td>225591</td>\n",
              "      <td>83673</td>\n",
              "      <td>16/12/1930</td>\n",
              "      <td>91</td>\n",
              "      <td>M</td>\n",
              "      <td>BOGOTÁ D.C.</td>\n",
              "      <td>CEFALEA</td>\n",
              "      <td>R51X</td>\n",
              "      <td>SURA EPS - CONTRIBUTIVO</td>\n",
              "      <td>EPS</td>\n",
              "      <td>2021-09-29</td>\n",
              "      <td>2021-09-29</td>\n",
              "      <td>fm001</td>\n",
              "      <td>1</td>\n",
              "      <td>14202045</td>\n",
              "      <td>GONZALO  MELO GOMEZ</td>\n",
              "      <td>Neurologia</td>\n",
              "      <td>Neurologia</td>\n",
              "      <td>PARKWAY</td>\n",
              "      <td>Primera vez</td>\n",
              "      <td>9</td>\n",
              "      <td>2021</td>\n",
              "      <td>(76.0, 101.0]</td>\n",
              "      <td>NaN</td>\n",
              "      <td>NaT</td>\n",
              "      <td>NaN</td>\n",
              "      <td>NaN</td>\n",
              "      <td>True</td>\n",
              "      <td>0</td>\n",
              "    </tr>\n",
              "  </tbody>\n",
              "</table>\n",
              "</div>"
            ],
            "text/plain": [
              "       Ingreso DocPaciente Fecha Nacimiento  ...  year_sold not_buyer FM_buyer\n",
              "35146   225564    27059635        4/09/1929  ...     2021.0     False        1\n",
              "35147   225566    52903966        1/07/1982  ...        NaN      True        0\n",
              "35148   225591       83673       16/12/1930  ...        NaN      True        0\n",
              "\n",
              "[3 rows x 29 columns]"
            ]
          },
          "metadata": {},
          "execution_count": 46
        }
      ]
    },
    {
      "cell_type": "code",
      "metadata": {
        "colab": {
          "base_uri": "https://localhost:8080/",
          "height": 365
        },
        "id": "iHwkXjrnCUsx",
        "outputId": "7e5a01d2-3a7c-4de1-e9a9-197b321b9177"
      },
      "source": [
        "# selection of relevant features & label on new df\n",
        "df_proced_sales = df_merged[['Ingreso', 'DocPaciente', 'age_group', 'Sexo', 'CiudadMunicipio', 'Diagnostico',\\\n",
        "                             'Tipo Plan', 'FechaFormulacion', 'CodProducto', 'Cantidad', 'Plan/Servicio', 'Sede',\\\n",
        "                             'Month', 'Year', 'month_sold', 'year_sold', 'FM_buyer', 'Tipo Examen']]\n",
        "\n",
        "df_proced_sales.head()"
      ],
      "execution_count": null,
      "outputs": [
        {
          "output_type": "execute_result",
          "data": {
            "text/html": [
              "<div>\n",
              "<style scoped>\n",
              "    .dataframe tbody tr th:only-of-type {\n",
              "        vertical-align: middle;\n",
              "    }\n",
              "\n",
              "    .dataframe tbody tr th {\n",
              "        vertical-align: top;\n",
              "    }\n",
              "\n",
              "    .dataframe thead th {\n",
              "        text-align: right;\n",
              "    }\n",
              "</style>\n",
              "<table border=\"1\" class=\"dataframe\">\n",
              "  <thead>\n",
              "    <tr style=\"text-align: right;\">\n",
              "      <th></th>\n",
              "      <th>Ingreso</th>\n",
              "      <th>DocPaciente</th>\n",
              "      <th>age_group</th>\n",
              "      <th>Sexo</th>\n",
              "      <th>CiudadMunicipio</th>\n",
              "      <th>Diagnostico</th>\n",
              "      <th>Tipo Plan</th>\n",
              "      <th>FechaFormulacion</th>\n",
              "      <th>CodProducto</th>\n",
              "      <th>Cantidad</th>\n",
              "      <th>Plan/Servicio</th>\n",
              "      <th>Sede</th>\n",
              "      <th>Month</th>\n",
              "      <th>Year</th>\n",
              "      <th>month_sold</th>\n",
              "      <th>year_sold</th>\n",
              "      <th>FM_buyer</th>\n",
              "      <th>Tipo Examen</th>\n",
              "    </tr>\n",
              "  </thead>\n",
              "  <tbody>\n",
              "    <tr>\n",
              "      <th>0</th>\n",
              "      <td>26928</td>\n",
              "      <td>19059029</td>\n",
              "      <td>(51.0, 76.0]</td>\n",
              "      <td>M</td>\n",
              "      <td>BOGOTÁ D.C.</td>\n",
              "      <td>NaN</td>\n",
              "      <td>Particular</td>\n",
              "      <td>2020-03-19</td>\n",
              "      <td>fm001</td>\n",
              "      <td>1</td>\n",
              "      <td>Neurologia</td>\n",
              "      <td>ZERENIA</td>\n",
              "      <td>3</td>\n",
              "      <td>2020</td>\n",
              "      <td>3.0</td>\n",
              "      <td>2020.0</td>\n",
              "      <td>1</td>\n",
              "      <td>NaN</td>\n",
              "    </tr>\n",
              "    <tr>\n",
              "      <th>1</th>\n",
              "      <td>26806</td>\n",
              "      <td>390646</td>\n",
              "      <td>(76.0, 101.0]</td>\n",
              "      <td>M</td>\n",
              "      <td>BOGOTÁ D.C.</td>\n",
              "      <td>NEURALGIA POSTHERPES ZOSTER(B02.2†)</td>\n",
              "      <td>Particular</td>\n",
              "      <td>2020-03-19</td>\n",
              "      <td>fm001</td>\n",
              "      <td>1</td>\n",
              "      <td>Consulta Dolor y Cuidados Paliativos</td>\n",
              "      <td>ZERENIA</td>\n",
              "      <td>3</td>\n",
              "      <td>2020</td>\n",
              "      <td>3.0</td>\n",
              "      <td>2020.0</td>\n",
              "      <td>1</td>\n",
              "      <td>Primera vez</td>\n",
              "    </tr>\n",
              "    <tr>\n",
              "      <th>2</th>\n",
              "      <td>26846</td>\n",
              "      <td>41595666</td>\n",
              "      <td>(51.0, 76.0]</td>\n",
              "      <td>F</td>\n",
              "      <td>CAJICÁ</td>\n",
              "      <td>NaN</td>\n",
              "      <td>Particular</td>\n",
              "      <td>2020-03-19</td>\n",
              "      <td>fm001</td>\n",
              "      <td>1</td>\n",
              "      <td>Neurologia</td>\n",
              "      <td>ZERENIA</td>\n",
              "      <td>3</td>\n",
              "      <td>2020</td>\n",
              "      <td>3.0</td>\n",
              "      <td>2020.0</td>\n",
              "      <td>1</td>\n",
              "      <td>NaN</td>\n",
              "    </tr>\n",
              "    <tr>\n",
              "      <th>3</th>\n",
              "      <td>26861</td>\n",
              "      <td>41499724</td>\n",
              "      <td>(51.0, 76.0]</td>\n",
              "      <td>F</td>\n",
              "      <td>BOGOTÁ D.C.</td>\n",
              "      <td>NaN</td>\n",
              "      <td>Particular</td>\n",
              "      <td>2020-03-19</td>\n",
              "      <td>fm001</td>\n",
              "      <td>1</td>\n",
              "      <td>Neurologia</td>\n",
              "      <td>ZERENIA</td>\n",
              "      <td>3</td>\n",
              "      <td>2020</td>\n",
              "      <td>3.0</td>\n",
              "      <td>2020.0</td>\n",
              "      <td>1</td>\n",
              "      <td>NaN</td>\n",
              "    </tr>\n",
              "    <tr>\n",
              "      <th>4</th>\n",
              "      <td>26956</td>\n",
              "      <td>52863476</td>\n",
              "      <td>(26.0, 51.0]</td>\n",
              "      <td>F</td>\n",
              "      <td>BOGOTÁ D.C.</td>\n",
              "      <td>FIBROMIALGIA</td>\n",
              "      <td>Particular</td>\n",
              "      <td>2020-03-19</td>\n",
              "      <td>fm001</td>\n",
              "      <td>2</td>\n",
              "      <td>Consulta Dolor y Cuidados Paliativos</td>\n",
              "      <td>ZERENIA</td>\n",
              "      <td>3</td>\n",
              "      <td>2020</td>\n",
              "      <td>NaN</td>\n",
              "      <td>NaN</td>\n",
              "      <td>0</td>\n",
              "      <td>Primera vez</td>\n",
              "    </tr>\n",
              "  </tbody>\n",
              "</table>\n",
              "</div>"
            ],
            "text/plain": [
              "   Ingreso DocPaciente      age_group  ... year_sold FM_buyer  Tipo Examen\n",
              "0    26928    19059029   (51.0, 76.0]  ...    2020.0        1          NaN\n",
              "1    26806      390646  (76.0, 101.0]  ...    2020.0        1  Primera vez\n",
              "2    26846    41595666   (51.0, 76.0]  ...    2020.0        1          NaN\n",
              "3    26861    41499724   (51.0, 76.0]  ...    2020.0        1          NaN\n",
              "4    26956    52863476   (26.0, 51.0]  ...       NaN        0  Primera vez\n",
              "\n",
              "[5 rows x 18 columns]"
            ]
          },
          "metadata": {},
          "execution_count": 47
        }
      ]
    },
    {
      "cell_type": "markdown",
      "metadata": {
        "id": "4zkIyCWNFeH4"
      },
      "source": [
        "![green-divider](https://user-images.githubusercontent.com/7065401/52071924-c003ad80-2562-11e9-8297-1c6595f8a7ff.png)"
      ]
    },
    {
      "cell_type": "markdown",
      "metadata": {
        "id": "z6nIar_SFhK1"
      },
      "source": [
        "### Features Comparison Between Buyers & Not Buyers"
      ]
    },
    {
      "cell_type": "markdown",
      "metadata": {
        "id": "f4U9r7_ylNIt"
      },
      "source": [
        "#### FMs Bought Vs FMs Prescribed"
      ]
    },
    {
      "cell_type": "code",
      "metadata": {
        "colab": {
          "base_uri": "https://localhost:8080/",
          "height": 112
        },
        "id": "CMRUBYHEkmkv",
        "outputId": "41627244-f1c7-43de-ea27-f68a4cc7f504"
      },
      "source": [
        "# groupby 'FM_buyer'\n",
        "fm_buyers = df_proced_sales.groupby(['FM_buyer']).Cantidad.sum().reset_index()\n",
        "\n",
        "fm_buyers"
      ],
      "execution_count": null,
      "outputs": [
        {
          "output_type": "execute_result",
          "data": {
            "text/html": [
              "<div>\n",
              "<style scoped>\n",
              "    .dataframe tbody tr th:only-of-type {\n",
              "        vertical-align: middle;\n",
              "    }\n",
              "\n",
              "    .dataframe tbody tr th {\n",
              "        vertical-align: top;\n",
              "    }\n",
              "\n",
              "    .dataframe thead th {\n",
              "        text-align: right;\n",
              "    }\n",
              "</style>\n",
              "<table border=\"1\" class=\"dataframe\">\n",
              "  <thead>\n",
              "    <tr style=\"text-align: right;\">\n",
              "      <th></th>\n",
              "      <th>FM_buyer</th>\n",
              "      <th>Cantidad</th>\n",
              "    </tr>\n",
              "  </thead>\n",
              "  <tbody>\n",
              "    <tr>\n",
              "      <th>0</th>\n",
              "      <td>0</td>\n",
              "      <td>9227</td>\n",
              "    </tr>\n",
              "    <tr>\n",
              "      <th>1</th>\n",
              "      <td>1</td>\n",
              "      <td>38200</td>\n",
              "    </tr>\n",
              "  </tbody>\n",
              "</table>\n",
              "</div>"
            ],
            "text/plain": [
              "   FM_buyer  Cantidad\n",
              "0         0      9227\n",
              "1         1     38200"
            ]
          },
          "metadata": {},
          "execution_count": 48
        }
      ]
    },
    {
      "cell_type": "code",
      "metadata": {
        "colab": {
          "base_uri": "https://localhost:8080/"
        },
        "id": "EkdzpO4wpWon",
        "outputId": "a6d96c74-9158-49bb-f34a-513b05cc8722"
      },
      "source": [
        "# Total # of FMs prescribed\n",
        "print(f'Total # of FMs prescribed from March 2020 to September 2021: {df_proced_sales.Cantidad.sum()}')\n",
        "\n",
        "# Total # of FMs bought\n",
        "print(f'Total # of FMs bought from March 2020 to September 2021: {38200}')\n",
        "\n",
        "# Rate of Purchase\n",
        "print(f'Rate of Purchase of FMs prescribed: {(round((38200/47427)*100, 2))}%')"
      ],
      "execution_count": null,
      "outputs": [
        {
          "output_type": "stream",
          "name": "stdout",
          "text": [
            "Total # of FMs prescribed from March 2020 to September 2021: 47427\n",
            "Total # of FMs bought from March 2020 to September 2021: 38200\n",
            "Rate of Purchase of FMs prescribed: 80.54%\n"
          ]
        }
      ]
    },
    {
      "cell_type": "markdown",
      "metadata": {
        "id": "vxeC39lFrx1g"
      },
      "source": [
        "The Rate of Purchase of FMs prescribed from March 2020 to September 2021 is **80.54%**"
      ]
    },
    {
      "cell_type": "markdown",
      "metadata": {
        "id": "K5VsZCRnrswR"
      },
      "source": [
        "![green-divider](https://user-images.githubusercontent.com/7065401/52071924-c003ad80-2562-11e9-8297-1c6595f8a7ff.png)"
      ]
    },
    {
      "cell_type": "markdown",
      "metadata": {
        "id": "RZwZYe3MKUMi"
      },
      "source": [
        "#### FMs Bought by Sex"
      ]
    },
    {
      "cell_type": "code",
      "metadata": {
        "colab": {
          "base_uri": "https://localhost:8080/",
          "height": 175
        },
        "id": "spgJPq8fFnXW",
        "outputId": "4dacec98-7bf7-450c-a41e-aa5df5074a9e"
      },
      "source": [
        "# groupby FM_buyer and sexo\n",
        "fm_sex = df_proced_sales.groupby(['FM_buyer', 'Sexo']).Cantidad.sum().reset_index()\n",
        "\n",
        "fm_sex"
      ],
      "execution_count": null,
      "outputs": [
        {
          "output_type": "execute_result",
          "data": {
            "text/html": [
              "<div>\n",
              "<style scoped>\n",
              "    .dataframe tbody tr th:only-of-type {\n",
              "        vertical-align: middle;\n",
              "    }\n",
              "\n",
              "    .dataframe tbody tr th {\n",
              "        vertical-align: top;\n",
              "    }\n",
              "\n",
              "    .dataframe thead th {\n",
              "        text-align: right;\n",
              "    }\n",
              "</style>\n",
              "<table border=\"1\" class=\"dataframe\">\n",
              "  <thead>\n",
              "    <tr style=\"text-align: right;\">\n",
              "      <th></th>\n",
              "      <th>FM_buyer</th>\n",
              "      <th>Sexo</th>\n",
              "      <th>Cantidad</th>\n",
              "    </tr>\n",
              "  </thead>\n",
              "  <tbody>\n",
              "    <tr>\n",
              "      <th>0</th>\n",
              "      <td>0</td>\n",
              "      <td>F</td>\n",
              "      <td>6494</td>\n",
              "    </tr>\n",
              "    <tr>\n",
              "      <th>1</th>\n",
              "      <td>0</td>\n",
              "      <td>M</td>\n",
              "      <td>2733</td>\n",
              "    </tr>\n",
              "    <tr>\n",
              "      <th>2</th>\n",
              "      <td>1</td>\n",
              "      <td>F</td>\n",
              "      <td>27220</td>\n",
              "    </tr>\n",
              "    <tr>\n",
              "      <th>3</th>\n",
              "      <td>1</td>\n",
              "      <td>M</td>\n",
              "      <td>10980</td>\n",
              "    </tr>\n",
              "  </tbody>\n",
              "</table>\n",
              "</div>"
            ],
            "text/plain": [
              "   FM_buyer Sexo  Cantidad\n",
              "0         0    F      6494\n",
              "1         0    M      2733\n",
              "2         1    F     27220\n",
              "3         1    M     10980"
            ]
          },
          "metadata": {},
          "execution_count": 50
        }
      ]
    },
    {
      "cell_type": "code",
      "metadata": {
        "colab": {
          "base_uri": "https://localhost:8080/",
          "height": 112
        },
        "id": "7dhHWJTtH0cn",
        "outputId": "4e6ccd25-f393-4d4f-a4af-9cf8b1a7d4d1"
      },
      "source": [
        "# pivot table >> columns, index=rows, values\n",
        "fm_sex = fm_sex.pivot(\n",
        "    columns='FM_buyer',\n",
        "    index='Sexo',\n",
        "    values='Cantidad').reset_index()\n",
        "\n",
        "# change column names\n",
        "fm_sex.columns = ['sex', 'FMs_non_bought', 'FMs_bought']\n",
        "\n",
        "fm_sex"
      ],
      "execution_count": null,
      "outputs": [
        {
          "output_type": "execute_result",
          "data": {
            "text/html": [
              "<div>\n",
              "<style scoped>\n",
              "    .dataframe tbody tr th:only-of-type {\n",
              "        vertical-align: middle;\n",
              "    }\n",
              "\n",
              "    .dataframe tbody tr th {\n",
              "        vertical-align: top;\n",
              "    }\n",
              "\n",
              "    .dataframe thead th {\n",
              "        text-align: right;\n",
              "    }\n",
              "</style>\n",
              "<table border=\"1\" class=\"dataframe\">\n",
              "  <thead>\n",
              "    <tr style=\"text-align: right;\">\n",
              "      <th></th>\n",
              "      <th>sex</th>\n",
              "      <th>FMs_non_bought</th>\n",
              "      <th>FMs_bought</th>\n",
              "    </tr>\n",
              "  </thead>\n",
              "  <tbody>\n",
              "    <tr>\n",
              "      <th>0</th>\n",
              "      <td>F</td>\n",
              "      <td>6494</td>\n",
              "      <td>27220</td>\n",
              "    </tr>\n",
              "    <tr>\n",
              "      <th>1</th>\n",
              "      <td>M</td>\n",
              "      <td>2733</td>\n",
              "      <td>10980</td>\n",
              "    </tr>\n",
              "  </tbody>\n",
              "</table>\n",
              "</div>"
            ],
            "text/plain": [
              "  sex  FMs_non_bought  FMs_bought\n",
              "0   F            6494       27220\n",
              "1   M            2733       10980"
            ]
          },
          "metadata": {},
          "execution_count": 51
        }
      ]
    },
    {
      "cell_type": "code",
      "metadata": {
        "colab": {
          "base_uri": "https://localhost:8080/",
          "height": 112
        },
        "id": "AuaEbdA5JDpN",
        "outputId": "0156d234-80dd-4b04-c53e-7ab9059aba9f"
      },
      "source": [
        "# total number of prescriptions\n",
        "fm_sex['FMs_prescribed'] = fm_sex.FMs_bought + fm_sex.FMs_non_bought\n",
        "\n",
        "# % of quantity of FMs prescribed bought\n",
        "fm_sex['%_purchase'] = (fm_sex.FMs_bought / fm_sex.FMs_prescribed) * 100\n",
        "\n",
        "# sort values\n",
        "fm_sex = fm_sex.sort_values('%_purchase', ascending=False)\n",
        "fm_sex"
      ],
      "execution_count": null,
      "outputs": [
        {
          "output_type": "execute_result",
          "data": {
            "text/html": [
              "<div>\n",
              "<style scoped>\n",
              "    .dataframe tbody tr th:only-of-type {\n",
              "        vertical-align: middle;\n",
              "    }\n",
              "\n",
              "    .dataframe tbody tr th {\n",
              "        vertical-align: top;\n",
              "    }\n",
              "\n",
              "    .dataframe thead th {\n",
              "        text-align: right;\n",
              "    }\n",
              "</style>\n",
              "<table border=\"1\" class=\"dataframe\">\n",
              "  <thead>\n",
              "    <tr style=\"text-align: right;\">\n",
              "      <th></th>\n",
              "      <th>sex</th>\n",
              "      <th>FMs_non_bought</th>\n",
              "      <th>FMs_bought</th>\n",
              "      <th>FMs_prescribed</th>\n",
              "      <th>%_purchase</th>\n",
              "    </tr>\n",
              "  </thead>\n",
              "  <tbody>\n",
              "    <tr>\n",
              "      <th>0</th>\n",
              "      <td>F</td>\n",
              "      <td>6494</td>\n",
              "      <td>27220</td>\n",
              "      <td>33714</td>\n",
              "      <td>80.737972</td>\n",
              "    </tr>\n",
              "    <tr>\n",
              "      <th>1</th>\n",
              "      <td>M</td>\n",
              "      <td>2733</td>\n",
              "      <td>10980</td>\n",
              "      <td>13713</td>\n",
              "      <td>80.070007</td>\n",
              "    </tr>\n",
              "  </tbody>\n",
              "</table>\n",
              "</div>"
            ],
            "text/plain": [
              "  sex  FMs_non_bought  FMs_bought  FMs_prescribed  %_purchase\n",
              "0   F            6494       27220           33714   80.737972\n",
              "1   M            2733       10980           13713   80.070007"
            ]
          },
          "metadata": {},
          "execution_count": 52
        }
      ]
    },
    {
      "cell_type": "markdown",
      "metadata": {
        "id": "PKwpmN5sdFUp"
      },
      "source": [
        "Even though females have bought 16,240 FMs more than males during the period \n",
        "of March 2020 to September 2021, their purchase rate by gender is both in 80%"
      ]
    },
    {
      "cell_type": "markdown",
      "metadata": {
        "id": "eBi8_4MeKYNm"
      },
      "source": [
        "![green-divider](https://user-images.githubusercontent.com/7065401/52071924-c003ad80-2562-11e9-8297-1c6595f8a7ff.png)"
      ]
    },
    {
      "cell_type": "markdown",
      "metadata": {
        "id": "HwrLzGMdd5S2"
      },
      "source": [
        "#### FMs Bougth by Age Group"
      ]
    },
    {
      "cell_type": "code",
      "metadata": {
        "colab": {
          "base_uri": "https://localhost:8080/",
          "height": 300
        },
        "id": "B__857qjd9bX",
        "outputId": "e38c6052-9770-4db3-86e0-ed1df9a43462"
      },
      "source": [
        "# groupby FM_buyer and age_group\n",
        "fm_age = df_proced_sales.groupby(['FM_buyer', 'age_group']).Cantidad.sum().reset_index()\n",
        "\n",
        "fm_age"
      ],
      "execution_count": null,
      "outputs": [
        {
          "output_type": "execute_result",
          "data": {
            "text/html": [
              "<div>\n",
              "<style scoped>\n",
              "    .dataframe tbody tr th:only-of-type {\n",
              "        vertical-align: middle;\n",
              "    }\n",
              "\n",
              "    .dataframe tbody tr th {\n",
              "        vertical-align: top;\n",
              "    }\n",
              "\n",
              "    .dataframe thead th {\n",
              "        text-align: right;\n",
              "    }\n",
              "</style>\n",
              "<table border=\"1\" class=\"dataframe\">\n",
              "  <thead>\n",
              "    <tr style=\"text-align: right;\">\n",
              "      <th></th>\n",
              "      <th>FM_buyer</th>\n",
              "      <th>age_group</th>\n",
              "      <th>Cantidad</th>\n",
              "    </tr>\n",
              "  </thead>\n",
              "  <tbody>\n",
              "    <tr>\n",
              "      <th>0</th>\n",
              "      <td>0</td>\n",
              "      <td>(0.9, 26.0]</td>\n",
              "      <td>342</td>\n",
              "    </tr>\n",
              "    <tr>\n",
              "      <th>1</th>\n",
              "      <td>0</td>\n",
              "      <td>(26.0, 51.0]</td>\n",
              "      <td>3734</td>\n",
              "    </tr>\n",
              "    <tr>\n",
              "      <th>2</th>\n",
              "      <td>0</td>\n",
              "      <td>(51.0, 76.0]</td>\n",
              "      <td>4341</td>\n",
              "    </tr>\n",
              "    <tr>\n",
              "      <th>3</th>\n",
              "      <td>0</td>\n",
              "      <td>(76.0, 101.0]</td>\n",
              "      <td>810</td>\n",
              "    </tr>\n",
              "    <tr>\n",
              "      <th>4</th>\n",
              "      <td>1</td>\n",
              "      <td>(0.9, 26.0]</td>\n",
              "      <td>974</td>\n",
              "    </tr>\n",
              "    <tr>\n",
              "      <th>5</th>\n",
              "      <td>1</td>\n",
              "      <td>(26.0, 51.0]</td>\n",
              "      <td>11801</td>\n",
              "    </tr>\n",
              "    <tr>\n",
              "      <th>6</th>\n",
              "      <td>1</td>\n",
              "      <td>(51.0, 76.0]</td>\n",
              "      <td>20552</td>\n",
              "    </tr>\n",
              "    <tr>\n",
              "      <th>7</th>\n",
              "      <td>1</td>\n",
              "      <td>(76.0, 101.0]</td>\n",
              "      <td>4873</td>\n",
              "    </tr>\n",
              "  </tbody>\n",
              "</table>\n",
              "</div>"
            ],
            "text/plain": [
              "   FM_buyer      age_group  Cantidad\n",
              "0         0    (0.9, 26.0]       342\n",
              "1         0   (26.0, 51.0]      3734\n",
              "2         0   (51.0, 76.0]      4341\n",
              "3         0  (76.0, 101.0]       810\n",
              "4         1    (0.9, 26.0]       974\n",
              "5         1   (26.0, 51.0]     11801\n",
              "6         1   (51.0, 76.0]     20552\n",
              "7         1  (76.0, 101.0]      4873"
            ]
          },
          "metadata": {},
          "execution_count": 53
        }
      ]
    },
    {
      "cell_type": "code",
      "metadata": {
        "colab": {
          "base_uri": "https://localhost:8080/",
          "height": 175
        },
        "id": "yM_VbbO9ejNi",
        "outputId": "7d3eb147-995b-42cf-b930-39e78ba50380"
      },
      "source": [
        "# pivot table \n",
        "fm_age = fm_age.pivot(\n",
        "    columns='FM_buyer',\n",
        "    index='age_group',\n",
        "    values='Cantidad').reset_index()\n",
        "\n",
        "# set column names\n",
        "fm_age.columns = ['age_group', 'FMs_non_bought', 'FMs_bought']\n",
        "\n",
        "fm_age"
      ],
      "execution_count": null,
      "outputs": [
        {
          "output_type": "execute_result",
          "data": {
            "text/html": [
              "<div>\n",
              "<style scoped>\n",
              "    .dataframe tbody tr th:only-of-type {\n",
              "        vertical-align: middle;\n",
              "    }\n",
              "\n",
              "    .dataframe tbody tr th {\n",
              "        vertical-align: top;\n",
              "    }\n",
              "\n",
              "    .dataframe thead th {\n",
              "        text-align: right;\n",
              "    }\n",
              "</style>\n",
              "<table border=\"1\" class=\"dataframe\">\n",
              "  <thead>\n",
              "    <tr style=\"text-align: right;\">\n",
              "      <th></th>\n",
              "      <th>age_group</th>\n",
              "      <th>FMs_non_bought</th>\n",
              "      <th>FMs_bought</th>\n",
              "    </tr>\n",
              "  </thead>\n",
              "  <tbody>\n",
              "    <tr>\n",
              "      <th>0</th>\n",
              "      <td>(0.9, 26.0]</td>\n",
              "      <td>342</td>\n",
              "      <td>974</td>\n",
              "    </tr>\n",
              "    <tr>\n",
              "      <th>1</th>\n",
              "      <td>(26.0, 51.0]</td>\n",
              "      <td>3734</td>\n",
              "      <td>11801</td>\n",
              "    </tr>\n",
              "    <tr>\n",
              "      <th>2</th>\n",
              "      <td>(51.0, 76.0]</td>\n",
              "      <td>4341</td>\n",
              "      <td>20552</td>\n",
              "    </tr>\n",
              "    <tr>\n",
              "      <th>3</th>\n",
              "      <td>(76.0, 101.0]</td>\n",
              "      <td>810</td>\n",
              "      <td>4873</td>\n",
              "    </tr>\n",
              "  </tbody>\n",
              "</table>\n",
              "</div>"
            ],
            "text/plain": [
              "       age_group  FMs_non_bought  FMs_bought\n",
              "0    (0.9, 26.0]             342         974\n",
              "1   (26.0, 51.0]            3734       11801\n",
              "2   (51.0, 76.0]            4341       20552\n",
              "3  (76.0, 101.0]             810        4873"
            ]
          },
          "metadata": {},
          "execution_count": 54
        }
      ]
    },
    {
      "cell_type": "code",
      "metadata": {
        "colab": {
          "base_uri": "https://localhost:8080/",
          "height": 175
        },
        "id": "ZdsCCS-xfTwW",
        "outputId": "f99e028d-d75e-4653-83ac-a41104c5ffc9"
      },
      "source": [
        "# create column FMs_prescribed\n",
        "fm_age['FMs_prescribed'] = fm_age.FMs_non_bought + fm_age.FMs_bought\n",
        "\n",
        "# create column %_purchase\n",
        "fm_age['%_purchase'] = (fm_age.FMs_bought / fm_age.FMs_prescribed) * 100\n",
        "\n",
        "# sort values\n",
        "fm_age = fm_age.sort_values('%_purchase', ascending=False)\n",
        "fm_age"
      ],
      "execution_count": null,
      "outputs": [
        {
          "output_type": "execute_result",
          "data": {
            "text/html": [
              "<div>\n",
              "<style scoped>\n",
              "    .dataframe tbody tr th:only-of-type {\n",
              "        vertical-align: middle;\n",
              "    }\n",
              "\n",
              "    .dataframe tbody tr th {\n",
              "        vertical-align: top;\n",
              "    }\n",
              "\n",
              "    .dataframe thead th {\n",
              "        text-align: right;\n",
              "    }\n",
              "</style>\n",
              "<table border=\"1\" class=\"dataframe\">\n",
              "  <thead>\n",
              "    <tr style=\"text-align: right;\">\n",
              "      <th></th>\n",
              "      <th>age_group</th>\n",
              "      <th>FMs_non_bought</th>\n",
              "      <th>FMs_bought</th>\n",
              "      <th>FMs_prescribed</th>\n",
              "      <th>%_purchase</th>\n",
              "    </tr>\n",
              "  </thead>\n",
              "  <tbody>\n",
              "    <tr>\n",
              "      <th>3</th>\n",
              "      <td>(76.0, 101.0]</td>\n",
              "      <td>810</td>\n",
              "      <td>4873</td>\n",
              "      <td>5683</td>\n",
              "      <td>85.746965</td>\n",
              "    </tr>\n",
              "    <tr>\n",
              "      <th>2</th>\n",
              "      <td>(51.0, 76.0]</td>\n",
              "      <td>4341</td>\n",
              "      <td>20552</td>\n",
              "      <td>24893</td>\n",
              "      <td>82.561363</td>\n",
              "    </tr>\n",
              "    <tr>\n",
              "      <th>1</th>\n",
              "      <td>(26.0, 51.0]</td>\n",
              "      <td>3734</td>\n",
              "      <td>11801</td>\n",
              "      <td>15535</td>\n",
              "      <td>75.963952</td>\n",
              "    </tr>\n",
              "    <tr>\n",
              "      <th>0</th>\n",
              "      <td>(0.9, 26.0]</td>\n",
              "      <td>342</td>\n",
              "      <td>974</td>\n",
              "      <td>1316</td>\n",
              "      <td>74.012158</td>\n",
              "    </tr>\n",
              "  </tbody>\n",
              "</table>\n",
              "</div>"
            ],
            "text/plain": [
              "       age_group  FMs_non_bought  FMs_bought  FMs_prescribed  %_purchase\n",
              "3  (76.0, 101.0]             810        4873            5683   85.746965\n",
              "2   (51.0, 76.0]            4341       20552           24893   82.561363\n",
              "1   (26.0, 51.0]            3734       11801           15535   75.963952\n",
              "0    (0.9, 26.0]             342         974            1316   74.012158"
            ]
          },
          "metadata": {},
          "execution_count": 55
        }
      ]
    },
    {
      "cell_type": "markdown",
      "metadata": {
        "id": "RIpPAY6aKDMV"
      },
      "source": [
        "Even though the age group between 76 to 101 years have just 5683 FMs prescribed between March 2020 and September 2021 they have the highest rate of purchase with 85.7%.\n",
        "\n",
        "They are followed by the age group of 51 to 76 years with a rate of purchase of 82.5% and the age group of 26 to 51 years old with 75.9% of FMs bought"
      ]
    },
    {
      "cell_type": "markdown",
      "metadata": {
        "id": "JRSF0iH_K1W1"
      },
      "source": [
        "![green-divider](https://user-images.githubusercontent.com/7065401/52071924-c003ad80-2562-11e9-8297-1c6595f8a7ff.png)"
      ]
    },
    {
      "cell_type": "markdown",
      "metadata": {
        "id": "KePlvIaPK42T"
      },
      "source": [
        "#### FMs Bought by Plan Type"
      ]
    },
    {
      "cell_type": "code",
      "metadata": {
        "colab": {
          "base_uri": "https://localhost:8080/",
          "height": 175
        },
        "id": "hBkv4VP8LDah",
        "outputId": "0bd29a6c-3023-4ae8-965f-b62f1a2ed277"
      },
      "source": [
        "# groupby FM_buyer and Tipo Plan\n",
        "fm_plan = df_proced_sales.groupby(['FM_buyer', 'Tipo Plan']).Cantidad.sum().reset_index()\n",
        "fm_plan"
      ],
      "execution_count": null,
      "outputs": [
        {
          "output_type": "execute_result",
          "data": {
            "text/html": [
              "<div>\n",
              "<style scoped>\n",
              "    .dataframe tbody tr th:only-of-type {\n",
              "        vertical-align: middle;\n",
              "    }\n",
              "\n",
              "    .dataframe tbody tr th {\n",
              "        vertical-align: top;\n",
              "    }\n",
              "\n",
              "    .dataframe thead th {\n",
              "        text-align: right;\n",
              "    }\n",
              "</style>\n",
              "<table border=\"1\" class=\"dataframe\">\n",
              "  <thead>\n",
              "    <tr style=\"text-align: right;\">\n",
              "      <th></th>\n",
              "      <th>FM_buyer</th>\n",
              "      <th>Tipo Plan</th>\n",
              "      <th>Cantidad</th>\n",
              "    </tr>\n",
              "  </thead>\n",
              "  <tbody>\n",
              "    <tr>\n",
              "      <th>0</th>\n",
              "      <td>0</td>\n",
              "      <td>EPS</td>\n",
              "      <td>6884</td>\n",
              "    </tr>\n",
              "    <tr>\n",
              "      <th>1</th>\n",
              "      <td>0</td>\n",
              "      <td>Particular</td>\n",
              "      <td>2343</td>\n",
              "    </tr>\n",
              "    <tr>\n",
              "      <th>2</th>\n",
              "      <td>1</td>\n",
              "      <td>EPS</td>\n",
              "      <td>25123</td>\n",
              "    </tr>\n",
              "    <tr>\n",
              "      <th>3</th>\n",
              "      <td>1</td>\n",
              "      <td>Particular</td>\n",
              "      <td>13077</td>\n",
              "    </tr>\n",
              "  </tbody>\n",
              "</table>\n",
              "</div>"
            ],
            "text/plain": [
              "   FM_buyer   Tipo Plan  Cantidad\n",
              "0         0         EPS      6884\n",
              "1         0  Particular      2343\n",
              "2         1         EPS     25123\n",
              "3         1  Particular     13077"
            ]
          },
          "metadata": {},
          "execution_count": 56
        }
      ]
    },
    {
      "cell_type": "code",
      "metadata": {
        "colab": {
          "base_uri": "https://localhost:8080/",
          "height": 112
        },
        "id": "PrP-dt_2LXQE",
        "outputId": "917ba664-4f25-42d7-e847-47700a627d03"
      },
      "source": [
        "# pivot table >> columns are FMs_non_bought & FMs_bought\n",
        "fm_plan = fm_plan.pivot(\n",
        "    columns='FM_buyer',\n",
        "    index='Tipo Plan',\n",
        "    values='Cantidad').reset_index()\n",
        "\n",
        "# set columns\n",
        "fm_plan.columns = ['Plan_type', 'FMs_non_bought', 'FMs_bought']\n",
        "\n",
        "fm_plan"
      ],
      "execution_count": null,
      "outputs": [
        {
          "output_type": "execute_result",
          "data": {
            "text/html": [
              "<div>\n",
              "<style scoped>\n",
              "    .dataframe tbody tr th:only-of-type {\n",
              "        vertical-align: middle;\n",
              "    }\n",
              "\n",
              "    .dataframe tbody tr th {\n",
              "        vertical-align: top;\n",
              "    }\n",
              "\n",
              "    .dataframe thead th {\n",
              "        text-align: right;\n",
              "    }\n",
              "</style>\n",
              "<table border=\"1\" class=\"dataframe\">\n",
              "  <thead>\n",
              "    <tr style=\"text-align: right;\">\n",
              "      <th></th>\n",
              "      <th>Plan_type</th>\n",
              "      <th>FMs_non_bought</th>\n",
              "      <th>FMs_bought</th>\n",
              "    </tr>\n",
              "  </thead>\n",
              "  <tbody>\n",
              "    <tr>\n",
              "      <th>0</th>\n",
              "      <td>EPS</td>\n",
              "      <td>6884</td>\n",
              "      <td>25123</td>\n",
              "    </tr>\n",
              "    <tr>\n",
              "      <th>1</th>\n",
              "      <td>Particular</td>\n",
              "      <td>2343</td>\n",
              "      <td>13077</td>\n",
              "    </tr>\n",
              "  </tbody>\n",
              "</table>\n",
              "</div>"
            ],
            "text/plain": [
              "    Plan_type  FMs_non_bought  FMs_bought\n",
              "0         EPS            6884       25123\n",
              "1  Particular            2343       13077"
            ]
          },
          "metadata": {},
          "execution_count": 57
        }
      ]
    },
    {
      "cell_type": "code",
      "metadata": {
        "colab": {
          "base_uri": "https://localhost:8080/",
          "height": 112
        },
        "id": "TpZYMBtHMCMs",
        "outputId": "281b4fc2-f6cf-426a-bba9-97bf736f0e73"
      },
      "source": [
        "# create column FMs_prescribed\n",
        "fm_plan['FMs_prescribed'] = fm_plan.FMs_non_bought + fm_plan.FMs_bought\n",
        "\n",
        "# create column %_purchase\n",
        "fm_plan['%_purchase'] = (fm_plan.FMs_bought / fm_plan.FMs_prescribed) * 100\n",
        "\n",
        "# sort values\n",
        "fm_plan = fm_plan.sort_values('%_purchase', ascending=False)\n",
        "fm_plan"
      ],
      "execution_count": null,
      "outputs": [
        {
          "output_type": "execute_result",
          "data": {
            "text/html": [
              "<div>\n",
              "<style scoped>\n",
              "    .dataframe tbody tr th:only-of-type {\n",
              "        vertical-align: middle;\n",
              "    }\n",
              "\n",
              "    .dataframe tbody tr th {\n",
              "        vertical-align: top;\n",
              "    }\n",
              "\n",
              "    .dataframe thead th {\n",
              "        text-align: right;\n",
              "    }\n",
              "</style>\n",
              "<table border=\"1\" class=\"dataframe\">\n",
              "  <thead>\n",
              "    <tr style=\"text-align: right;\">\n",
              "      <th></th>\n",
              "      <th>Plan_type</th>\n",
              "      <th>FMs_non_bought</th>\n",
              "      <th>FMs_bought</th>\n",
              "      <th>FMs_prescribed</th>\n",
              "      <th>%_purchase</th>\n",
              "    </tr>\n",
              "  </thead>\n",
              "  <tbody>\n",
              "    <tr>\n",
              "      <th>1</th>\n",
              "      <td>Particular</td>\n",
              "      <td>2343</td>\n",
              "      <td>13077</td>\n",
              "      <td>15420</td>\n",
              "      <td>84.805447</td>\n",
              "    </tr>\n",
              "    <tr>\n",
              "      <th>0</th>\n",
              "      <td>EPS</td>\n",
              "      <td>6884</td>\n",
              "      <td>25123</td>\n",
              "      <td>32007</td>\n",
              "      <td>78.492205</td>\n",
              "    </tr>\n",
              "  </tbody>\n",
              "</table>\n",
              "</div>"
            ],
            "text/plain": [
              "    Plan_type  FMs_non_bought  FMs_bought  FMs_prescribed  %_purchase\n",
              "1  Particular            2343       13077           15420   84.805447\n",
              "0         EPS            6884       25123           32007   78.492205"
            ]
          },
          "metadata": {},
          "execution_count": 58
        }
      ]
    },
    {
      "cell_type": "markdown",
      "metadata": {
        "id": "iYGTCmHXNPdT"
      },
      "source": [
        "Even though the number of FMs prescribed and bought by *EPS* exceed in more than 90% the number of FMs prescribed and bought by *Particular*, the rate of purchase of the latter (84.8%) is 6.4% greater than the former (78.4%)."
      ]
    },
    {
      "cell_type": "markdown",
      "metadata": {
        "id": "40inQQXTICar"
      },
      "source": [
        "![green-divider](https://user-images.githubusercontent.com/7065401/52071924-c003ad80-2562-11e9-8297-1c6595f8a7ff.png)"
      ]
    },
    {
      "cell_type": "markdown",
      "metadata": {
        "id": "-iM_LsN4j8QR"
      },
      "source": [
        "#### FMs Bought by Exam Type"
      ]
    },
    {
      "cell_type": "code",
      "metadata": {
        "colab": {
          "base_uri": "https://localhost:8080/",
          "height": 206
        },
        "id": "V7CYl2OXj7DQ",
        "outputId": "a616d9d7-34d7-4422-9011-5eb39ae1ca5a"
      },
      "source": [
        "# groupby FM_buyer, Tipo Examen\n",
        "fm_exam = df_proced_sales.groupby(['FM_buyer', 'Tipo Examen']).Cantidad.sum().reset_index()\n",
        "\n",
        "fm_exam.head()"
      ],
      "execution_count": null,
      "outputs": [
        {
          "output_type": "execute_result",
          "data": {
            "text/html": [
              "<div>\n",
              "<style scoped>\n",
              "    .dataframe tbody tr th:only-of-type {\n",
              "        vertical-align: middle;\n",
              "    }\n",
              "\n",
              "    .dataframe tbody tr th {\n",
              "        vertical-align: top;\n",
              "    }\n",
              "\n",
              "    .dataframe thead th {\n",
              "        text-align: right;\n",
              "    }\n",
              "</style>\n",
              "<table border=\"1\" class=\"dataframe\">\n",
              "  <thead>\n",
              "    <tr style=\"text-align: right;\">\n",
              "      <th></th>\n",
              "      <th>FM_buyer</th>\n",
              "      <th>Tipo Examen</th>\n",
              "      <th>Cantidad</th>\n",
              "    </tr>\n",
              "  </thead>\n",
              "  <tbody>\n",
              "    <tr>\n",
              "      <th>0</th>\n",
              "      <td>0</td>\n",
              "      <td>Control</td>\n",
              "      <td>6625</td>\n",
              "    </tr>\n",
              "    <tr>\n",
              "      <th>1</th>\n",
              "      <td>0</td>\n",
              "      <td>Junta Médica</td>\n",
              "      <td>41</td>\n",
              "    </tr>\n",
              "    <tr>\n",
              "      <th>2</th>\n",
              "      <td>0</td>\n",
              "      <td>Primera vez</td>\n",
              "      <td>2475</td>\n",
              "    </tr>\n",
              "    <tr>\n",
              "      <th>3</th>\n",
              "      <td>0</td>\n",
              "      <td>Procedimientos</td>\n",
              "      <td>14</td>\n",
              "    </tr>\n",
              "    <tr>\n",
              "      <th>4</th>\n",
              "      <td>1</td>\n",
              "      <td>Control</td>\n",
              "      <td>29757</td>\n",
              "    </tr>\n",
              "  </tbody>\n",
              "</table>\n",
              "</div>"
            ],
            "text/plain": [
              "   FM_buyer     Tipo Examen  Cantidad\n",
              "0         0         Control      6625\n",
              "1         0    Junta Médica        41\n",
              "2         0     Primera vez      2475\n",
              "3         0  Procedimientos        14\n",
              "4         1         Control     29757"
            ]
          },
          "metadata": {},
          "execution_count": 59
        }
      ]
    },
    {
      "cell_type": "code",
      "metadata": {
        "colab": {
          "base_uri": "https://localhost:8080/",
          "height": 206
        },
        "id": "BAW0SqYikbB6",
        "outputId": "e9616335-de6b-4954-f4a0-426e478c3d76"
      },
      "source": [
        "# pivot table \n",
        "fm_exam = fm_exam.pivot(\n",
        "    columns='FM_buyer',\n",
        "    index='Tipo Examen',\n",
        "    values='Cantidad').reset_index()\n",
        "\n",
        "# rename columns\n",
        "fm_exam.columns = ['exam_type', 'FMs_non_bought', 'FMs_bought']\n",
        "\n",
        "fm_exam"
      ],
      "execution_count": null,
      "outputs": [
        {
          "output_type": "execute_result",
          "data": {
            "text/html": [
              "<div>\n",
              "<style scoped>\n",
              "    .dataframe tbody tr th:only-of-type {\n",
              "        vertical-align: middle;\n",
              "    }\n",
              "\n",
              "    .dataframe tbody tr th {\n",
              "        vertical-align: top;\n",
              "    }\n",
              "\n",
              "    .dataframe thead th {\n",
              "        text-align: right;\n",
              "    }\n",
              "</style>\n",
              "<table border=\"1\" class=\"dataframe\">\n",
              "  <thead>\n",
              "    <tr style=\"text-align: right;\">\n",
              "      <th></th>\n",
              "      <th>exam_type</th>\n",
              "      <th>FMs_non_bought</th>\n",
              "      <th>FMs_bought</th>\n",
              "    </tr>\n",
              "  </thead>\n",
              "  <tbody>\n",
              "    <tr>\n",
              "      <th>0</th>\n",
              "      <td>Control</td>\n",
              "      <td>6625.0</td>\n",
              "      <td>29757.0</td>\n",
              "    </tr>\n",
              "    <tr>\n",
              "      <th>1</th>\n",
              "      <td>Junta Médica</td>\n",
              "      <td>41.0</td>\n",
              "      <td>92.0</td>\n",
              "    </tr>\n",
              "    <tr>\n",
              "      <th>2</th>\n",
              "      <td>Primera vez</td>\n",
              "      <td>2475.0</td>\n",
              "      <td>6082.0</td>\n",
              "    </tr>\n",
              "    <tr>\n",
              "      <th>3</th>\n",
              "      <td>Procedimientos</td>\n",
              "      <td>14.0</td>\n",
              "      <td>13.0</td>\n",
              "    </tr>\n",
              "    <tr>\n",
              "      <th>4</th>\n",
              "      <td>Valoración</td>\n",
              "      <td>NaN</td>\n",
              "      <td>7.0</td>\n",
              "    </tr>\n",
              "  </tbody>\n",
              "</table>\n",
              "</div>"
            ],
            "text/plain": [
              "        exam_type  FMs_non_bought  FMs_bought\n",
              "0         Control          6625.0     29757.0\n",
              "1    Junta Médica            41.0        92.0\n",
              "2     Primera vez          2475.0      6082.0\n",
              "3  Procedimientos            14.0        13.0\n",
              "4      Valoración             NaN         7.0"
            ]
          },
          "metadata": {},
          "execution_count": 60
        }
      ]
    },
    {
      "cell_type": "code",
      "metadata": {
        "colab": {
          "base_uri": "https://localhost:8080/",
          "height": 206
        },
        "id": "ACS4djGUlAck",
        "outputId": "9141c787-a22f-4a33-c4fc-15b6e01b257d"
      },
      "source": [
        "# create column FMs_prescribed\n",
        "fm_exam['FMs_prescribed'] = fm_exam.FMs_bought + fm_exam.FMs_non_bought\n",
        "\n",
        "# create column %_purchase\n",
        "fm_exam['%_purchase'] = (fm_exam.FMs_bought / fm_exam.FMs_prescribed) * 100\n",
        "\n",
        "# sort \n",
        "fm_exam = fm_exam.sort_values('%_purchase', ascending=False)\n",
        "\n",
        "fm_exam"
      ],
      "execution_count": null,
      "outputs": [
        {
          "output_type": "execute_result",
          "data": {
            "text/html": [
              "<div>\n",
              "<style scoped>\n",
              "    .dataframe tbody tr th:only-of-type {\n",
              "        vertical-align: middle;\n",
              "    }\n",
              "\n",
              "    .dataframe tbody tr th {\n",
              "        vertical-align: top;\n",
              "    }\n",
              "\n",
              "    .dataframe thead th {\n",
              "        text-align: right;\n",
              "    }\n",
              "</style>\n",
              "<table border=\"1\" class=\"dataframe\">\n",
              "  <thead>\n",
              "    <tr style=\"text-align: right;\">\n",
              "      <th></th>\n",
              "      <th>exam_type</th>\n",
              "      <th>FMs_non_bought</th>\n",
              "      <th>FMs_bought</th>\n",
              "      <th>FMs_prescribed</th>\n",
              "      <th>%_purchase</th>\n",
              "    </tr>\n",
              "  </thead>\n",
              "  <tbody>\n",
              "    <tr>\n",
              "      <th>0</th>\n",
              "      <td>Control</td>\n",
              "      <td>6625.0</td>\n",
              "      <td>29757.0</td>\n",
              "      <td>36382.0</td>\n",
              "      <td>81.790446</td>\n",
              "    </tr>\n",
              "    <tr>\n",
              "      <th>2</th>\n",
              "      <td>Primera vez</td>\n",
              "      <td>2475.0</td>\n",
              "      <td>6082.0</td>\n",
              "      <td>8557.0</td>\n",
              "      <td>71.076312</td>\n",
              "    </tr>\n",
              "    <tr>\n",
              "      <th>1</th>\n",
              "      <td>Junta Médica</td>\n",
              "      <td>41.0</td>\n",
              "      <td>92.0</td>\n",
              "      <td>133.0</td>\n",
              "      <td>69.172932</td>\n",
              "    </tr>\n",
              "    <tr>\n",
              "      <th>3</th>\n",
              "      <td>Procedimientos</td>\n",
              "      <td>14.0</td>\n",
              "      <td>13.0</td>\n",
              "      <td>27.0</td>\n",
              "      <td>48.148148</td>\n",
              "    </tr>\n",
              "    <tr>\n",
              "      <th>4</th>\n",
              "      <td>Valoración</td>\n",
              "      <td>NaN</td>\n",
              "      <td>7.0</td>\n",
              "      <td>NaN</td>\n",
              "      <td>NaN</td>\n",
              "    </tr>\n",
              "  </tbody>\n",
              "</table>\n",
              "</div>"
            ],
            "text/plain": [
              "        exam_type  FMs_non_bought  FMs_bought  FMs_prescribed  %_purchase\n",
              "0         Control          6625.0     29757.0         36382.0   81.790446\n",
              "2     Primera vez          2475.0      6082.0          8557.0   71.076312\n",
              "1    Junta Médica            41.0        92.0           133.0   69.172932\n",
              "3  Procedimientos            14.0        13.0            27.0   48.148148\n",
              "4      Valoración             NaN         7.0             NaN         NaN"
            ]
          },
          "metadata": {},
          "execution_count": 61
        }
      ]
    },
    {
      "cell_type": "markdown",
      "metadata": {
        "id": "w_jytCu5lu1U"
      },
      "source": [
        "Although FMs bought in *Contol* exceed in 23,675 bottles the ones from *Primera vez* the purchase rate of the former is just 10.7% greater than the latter."
      ]
    },
    {
      "cell_type": "markdown",
      "metadata": {
        "id": "O75XLAAdkAK-"
      },
      "source": [
        "![green-divider](https://user-images.githubusercontent.com/7065401/52071924-c003ad80-2562-11e9-8297-1c6595f8a7ff.png)"
      ]
    },
    {
      "cell_type": "markdown",
      "metadata": {
        "id": "fqfAve2U7tiU"
      },
      "source": [
        "#### FMs Bought by Site"
      ]
    },
    {
      "cell_type": "code",
      "metadata": {
        "colab": {
          "base_uri": "https://localhost:8080/",
          "height": 206
        },
        "id": "DXdpSXT_8CzX",
        "outputId": "a514876c-6cd1-4c55-ee77-7fb10b91bbef"
      },
      "source": [
        "# groupby 'FM_buyer' and Sede\n",
        "fm_site = df_proced_sales.groupby(['FM_buyer', 'Sede']).Cantidad.sum().reset_index()\n",
        "\n",
        "fm_site.head()"
      ],
      "execution_count": null,
      "outputs": [
        {
          "output_type": "execute_result",
          "data": {
            "text/html": [
              "<div>\n",
              "<style scoped>\n",
              "    .dataframe tbody tr th:only-of-type {\n",
              "        vertical-align: middle;\n",
              "    }\n",
              "\n",
              "    .dataframe tbody tr th {\n",
              "        vertical-align: top;\n",
              "    }\n",
              "\n",
              "    .dataframe thead th {\n",
              "        text-align: right;\n",
              "    }\n",
              "</style>\n",
              "<table border=\"1\" class=\"dataframe\">\n",
              "  <thead>\n",
              "    <tr style=\"text-align: right;\">\n",
              "      <th></th>\n",
              "      <th>FM_buyer</th>\n",
              "      <th>Sede</th>\n",
              "      <th>Cantidad</th>\n",
              "    </tr>\n",
              "  </thead>\n",
              "  <tbody>\n",
              "    <tr>\n",
              "      <th>0</th>\n",
              "      <td>0</td>\n",
              "      <td>COUNTRY</td>\n",
              "      <td>603</td>\n",
              "    </tr>\n",
              "    <tr>\n",
              "      <th>1</th>\n",
              "      <td>0</td>\n",
              "      <td>PARKWAY</td>\n",
              "      <td>281</td>\n",
              "    </tr>\n",
              "    <tr>\n",
              "      <th>2</th>\n",
              "      <td>0</td>\n",
              "      <td>ZERENIA</td>\n",
              "      <td>8107</td>\n",
              "    </tr>\n",
              "    <tr>\n",
              "      <th>3</th>\n",
              "      <td>0</td>\n",
              "      <td>ZERENIA  - IBAGUE</td>\n",
              "      <td>19</td>\n",
              "    </tr>\n",
              "    <tr>\n",
              "      <th>4</th>\n",
              "      <td>0</td>\n",
              "      <td>ZERENIA  - MEDELLÍN</td>\n",
              "      <td>52</td>\n",
              "    </tr>\n",
              "  </tbody>\n",
              "</table>\n",
              "</div>"
            ],
            "text/plain": [
              "   FM_buyer                 Sede  Cantidad\n",
              "0         0              COUNTRY       603\n",
              "1         0              PARKWAY       281\n",
              "2         0              ZERENIA      8107\n",
              "3         0   ZERENIA  - IBAGUE         19\n",
              "4         0  ZERENIA  - MEDELLÍN        52"
            ]
          },
          "metadata": {},
          "execution_count": 62
        }
      ]
    },
    {
      "cell_type": "code",
      "metadata": {
        "colab": {
          "base_uri": "https://localhost:8080/",
          "height": 426
        },
        "id": "0iO87NMh8mty",
        "outputId": "676529b3-ef50-4a2b-d1c8-059c899378ba"
      },
      "source": [
        "# pivot table\n",
        "fm_site = fm_site.pivot(\n",
        "    columns='FM_buyer',\n",
        "    index='Sede',\n",
        "    values='Cantidad').reset_index()\n",
        "  \n",
        "# change column names\n",
        "fm_site.columns = ['Site', 'FMs_non_bought', 'FMs_bought']\n",
        "\n",
        "fm_site"
      ],
      "execution_count": null,
      "outputs": [
        {
          "output_type": "execute_result",
          "data": {
            "text/html": [
              "<div>\n",
              "<style scoped>\n",
              "    .dataframe tbody tr th:only-of-type {\n",
              "        vertical-align: middle;\n",
              "    }\n",
              "\n",
              "    .dataframe tbody tr th {\n",
              "        vertical-align: top;\n",
              "    }\n",
              "\n",
              "    .dataframe thead th {\n",
              "        text-align: right;\n",
              "    }\n",
              "</style>\n",
              "<table border=\"1\" class=\"dataframe\">\n",
              "  <thead>\n",
              "    <tr style=\"text-align: right;\">\n",
              "      <th></th>\n",
              "      <th>Site</th>\n",
              "      <th>FMs_non_bought</th>\n",
              "      <th>FMs_bought</th>\n",
              "    </tr>\n",
              "  </thead>\n",
              "  <tbody>\n",
              "    <tr>\n",
              "      <th>0</th>\n",
              "      <td>COUNTRY</td>\n",
              "      <td>603</td>\n",
              "      <td>3349</td>\n",
              "    </tr>\n",
              "    <tr>\n",
              "      <th>1</th>\n",
              "      <td>PARKWAY</td>\n",
              "      <td>281</td>\n",
              "      <td>638</td>\n",
              "    </tr>\n",
              "    <tr>\n",
              "      <th>2</th>\n",
              "      <td>ZERENIA</td>\n",
              "      <td>8107</td>\n",
              "      <td>33219</td>\n",
              "    </tr>\n",
              "    <tr>\n",
              "      <th>3</th>\n",
              "      <td>ZERENIA  - IBAGUE</td>\n",
              "      <td>19</td>\n",
              "      <td>87</td>\n",
              "    </tr>\n",
              "    <tr>\n",
              "      <th>4</th>\n",
              "      <td>ZERENIA  - MEDELLÍN</td>\n",
              "      <td>52</td>\n",
              "      <td>368</td>\n",
              "    </tr>\n",
              "    <tr>\n",
              "      <th>5</th>\n",
              "      <td>ZERENIA - ARMENIA</td>\n",
              "      <td>20</td>\n",
              "      <td>41</td>\n",
              "    </tr>\n",
              "    <tr>\n",
              "      <th>6</th>\n",
              "      <td>ZERENIA - BARRANQUILLA</td>\n",
              "      <td>20</td>\n",
              "      <td>69</td>\n",
              "    </tr>\n",
              "    <tr>\n",
              "      <th>7</th>\n",
              "      <td>ZERENIA - BUCARAMANGA</td>\n",
              "      <td>50</td>\n",
              "      <td>127</td>\n",
              "    </tr>\n",
              "    <tr>\n",
              "      <th>8</th>\n",
              "      <td>ZERENIA - CALI</td>\n",
              "      <td>37</td>\n",
              "      <td>219</td>\n",
              "    </tr>\n",
              "    <tr>\n",
              "      <th>9</th>\n",
              "      <td>ZERENIA - MANIZALES</td>\n",
              "      <td>2</td>\n",
              "      <td>1</td>\n",
              "    </tr>\n",
              "    <tr>\n",
              "      <th>10</th>\n",
              "      <td>ZERENIA - PEREIRA</td>\n",
              "      <td>34</td>\n",
              "      <td>80</td>\n",
              "    </tr>\n",
              "    <tr>\n",
              "      <th>11</th>\n",
              "      <td>ZERENIA - VALLEDUPAR</td>\n",
              "      <td>2</td>\n",
              "      <td>2</td>\n",
              "    </tr>\n",
              "  </tbody>\n",
              "</table>\n",
              "</div>"
            ],
            "text/plain": [
              "                      Site  FMs_non_bought  FMs_bought\n",
              "0                  COUNTRY             603        3349\n",
              "1                  PARKWAY             281         638\n",
              "2                  ZERENIA            8107       33219\n",
              "3       ZERENIA  - IBAGUE               19          87\n",
              "4      ZERENIA  - MEDELLÍN              52         368\n",
              "5        ZERENIA - ARMENIA              20          41\n",
              "6   ZERENIA - BARRANQUILLA              20          69\n",
              "7    ZERENIA - BUCARAMANGA              50         127\n",
              "8           ZERENIA - CALI              37         219\n",
              "9      ZERENIA - MANIZALES               2           1\n",
              "10       ZERENIA - PEREIRA              34          80\n",
              "11    ZERENIA - VALLEDUPAR               2           2"
            ]
          },
          "metadata": {},
          "execution_count": 63
        }
      ]
    },
    {
      "cell_type": "code",
      "metadata": {
        "colab": {
          "base_uri": "https://localhost:8080/",
          "height": 426
        },
        "id": "A3bdrHNY9DYt",
        "outputId": "c86560cc-1be0-420d-be4b-c42cefed2fac"
      },
      "source": [
        "# create column FMs_prescribed\n",
        "fm_site['FMs_prescribed'] = fm_site.FMs_bought + fm_site.FMs_non_bought\n",
        "\n",
        "# create column %_purchase\n",
        "fm_site['%_purchase'] = (fm_site.FMs_bought / fm_site.FMs_prescribed) * 100\n",
        "\n",
        "# sort values\n",
        "fm_site = fm_site.sort_values('%_purchase', ascending=False)\n",
        "\n",
        "fm_site"
      ],
      "execution_count": null,
      "outputs": [
        {
          "output_type": "execute_result",
          "data": {
            "text/html": [
              "<div>\n",
              "<style scoped>\n",
              "    .dataframe tbody tr th:only-of-type {\n",
              "        vertical-align: middle;\n",
              "    }\n",
              "\n",
              "    .dataframe tbody tr th {\n",
              "        vertical-align: top;\n",
              "    }\n",
              "\n",
              "    .dataframe thead th {\n",
              "        text-align: right;\n",
              "    }\n",
              "</style>\n",
              "<table border=\"1\" class=\"dataframe\">\n",
              "  <thead>\n",
              "    <tr style=\"text-align: right;\">\n",
              "      <th></th>\n",
              "      <th>Site</th>\n",
              "      <th>FMs_non_bought</th>\n",
              "      <th>FMs_bought</th>\n",
              "      <th>FMs_prescribed</th>\n",
              "      <th>%_purchase</th>\n",
              "    </tr>\n",
              "  </thead>\n",
              "  <tbody>\n",
              "    <tr>\n",
              "      <th>4</th>\n",
              "      <td>ZERENIA  - MEDELLÍN</td>\n",
              "      <td>52</td>\n",
              "      <td>368</td>\n",
              "      <td>420</td>\n",
              "      <td>87.619048</td>\n",
              "    </tr>\n",
              "    <tr>\n",
              "      <th>8</th>\n",
              "      <td>ZERENIA - CALI</td>\n",
              "      <td>37</td>\n",
              "      <td>219</td>\n",
              "      <td>256</td>\n",
              "      <td>85.546875</td>\n",
              "    </tr>\n",
              "    <tr>\n",
              "      <th>0</th>\n",
              "      <td>COUNTRY</td>\n",
              "      <td>603</td>\n",
              "      <td>3349</td>\n",
              "      <td>3952</td>\n",
              "      <td>84.741903</td>\n",
              "    </tr>\n",
              "    <tr>\n",
              "      <th>3</th>\n",
              "      <td>ZERENIA  - IBAGUE</td>\n",
              "      <td>19</td>\n",
              "      <td>87</td>\n",
              "      <td>106</td>\n",
              "      <td>82.075472</td>\n",
              "    </tr>\n",
              "    <tr>\n",
              "      <th>2</th>\n",
              "      <td>ZERENIA</td>\n",
              "      <td>8107</td>\n",
              "      <td>33219</td>\n",
              "      <td>41326</td>\n",
              "      <td>80.382810</td>\n",
              "    </tr>\n",
              "    <tr>\n",
              "      <th>6</th>\n",
              "      <td>ZERENIA - BARRANQUILLA</td>\n",
              "      <td>20</td>\n",
              "      <td>69</td>\n",
              "      <td>89</td>\n",
              "      <td>77.528090</td>\n",
              "    </tr>\n",
              "    <tr>\n",
              "      <th>7</th>\n",
              "      <td>ZERENIA - BUCARAMANGA</td>\n",
              "      <td>50</td>\n",
              "      <td>127</td>\n",
              "      <td>177</td>\n",
              "      <td>71.751412</td>\n",
              "    </tr>\n",
              "    <tr>\n",
              "      <th>10</th>\n",
              "      <td>ZERENIA - PEREIRA</td>\n",
              "      <td>34</td>\n",
              "      <td>80</td>\n",
              "      <td>114</td>\n",
              "      <td>70.175439</td>\n",
              "    </tr>\n",
              "    <tr>\n",
              "      <th>1</th>\n",
              "      <td>PARKWAY</td>\n",
              "      <td>281</td>\n",
              "      <td>638</td>\n",
              "      <td>919</td>\n",
              "      <td>69.423286</td>\n",
              "    </tr>\n",
              "    <tr>\n",
              "      <th>5</th>\n",
              "      <td>ZERENIA - ARMENIA</td>\n",
              "      <td>20</td>\n",
              "      <td>41</td>\n",
              "      <td>61</td>\n",
              "      <td>67.213115</td>\n",
              "    </tr>\n",
              "    <tr>\n",
              "      <th>11</th>\n",
              "      <td>ZERENIA - VALLEDUPAR</td>\n",
              "      <td>2</td>\n",
              "      <td>2</td>\n",
              "      <td>4</td>\n",
              "      <td>50.000000</td>\n",
              "    </tr>\n",
              "    <tr>\n",
              "      <th>9</th>\n",
              "      <td>ZERENIA - MANIZALES</td>\n",
              "      <td>2</td>\n",
              "      <td>1</td>\n",
              "      <td>3</td>\n",
              "      <td>33.333333</td>\n",
              "    </tr>\n",
              "  </tbody>\n",
              "</table>\n",
              "</div>"
            ],
            "text/plain": [
              "                      Site  FMs_non_bought  ...  FMs_prescribed  %_purchase\n",
              "4      ZERENIA  - MEDELLÍN              52  ...             420   87.619048\n",
              "8           ZERENIA - CALI              37  ...             256   85.546875\n",
              "0                  COUNTRY             603  ...            3952   84.741903\n",
              "3       ZERENIA  - IBAGUE               19  ...             106   82.075472\n",
              "2                  ZERENIA            8107  ...           41326   80.382810\n",
              "6   ZERENIA - BARRANQUILLA              20  ...              89   77.528090\n",
              "7    ZERENIA - BUCARAMANGA              50  ...             177   71.751412\n",
              "10       ZERENIA - PEREIRA              34  ...             114   70.175439\n",
              "1                  PARKWAY             281  ...             919   69.423286\n",
              "5        ZERENIA - ARMENIA              20  ...              61   67.213115\n",
              "11    ZERENIA - VALLEDUPAR               2  ...               4   50.000000\n",
              "9      ZERENIA - MANIZALES               2  ...               3   33.333333\n",
              "\n",
              "[12 rows x 5 columns]"
            ]
          },
          "metadata": {},
          "execution_count": 64
        }
      ]
    },
    {
      "cell_type": "markdown",
      "metadata": {
        "id": "L-Mxvgl-9_Jg"
      },
      "source": [
        "Even though Zerenia exceeds the other sites in more than 30,000 FMs bought its purchase rate (80.38%) is lower than Medellín (87.6%), Cali (85.5%), Country (84.7%, second in number of FMs bought) and Ibague (82.07%)"
      ]
    },
    {
      "cell_type": "markdown",
      "metadata": {
        "id": "6YOopXTy7uW2"
      },
      "source": [
        "![green-divider](https://user-images.githubusercontent.com/7065401/52071924-c003ad80-2562-11e9-8297-1c6595f8a7ff.png)"
      ]
    },
    {
      "cell_type": "markdown",
      "metadata": {
        "id": "bJ3-jeAZUNmc"
      },
      "source": [
        "#### FMs Bought by City"
      ]
    },
    {
      "cell_type": "code",
      "metadata": {
        "colab": {
          "base_uri": "https://localhost:8080/",
          "height": 206
        },
        "id": "tRNomqZQURx8",
        "outputId": "fff6e5e5-a07b-45cd-e7c6-3cfe0a268c3c"
      },
      "source": [
        "# groupby FM_buyer and CiudadMunicipio\n",
        "fm_city = df_proced_sales.groupby(['FM_buyer', 'CiudadMunicipio']).Cantidad.sum().reset_index()\n",
        "\n",
        "fm_city.head()"
      ],
      "execution_count": null,
      "outputs": [
        {
          "output_type": "execute_result",
          "data": {
            "text/html": [
              "<div>\n",
              "<style scoped>\n",
              "    .dataframe tbody tr th:only-of-type {\n",
              "        vertical-align: middle;\n",
              "    }\n",
              "\n",
              "    .dataframe tbody tr th {\n",
              "        vertical-align: top;\n",
              "    }\n",
              "\n",
              "    .dataframe thead th {\n",
              "        text-align: right;\n",
              "    }\n",
              "</style>\n",
              "<table border=\"1\" class=\"dataframe\">\n",
              "  <thead>\n",
              "    <tr style=\"text-align: right;\">\n",
              "      <th></th>\n",
              "      <th>FM_buyer</th>\n",
              "      <th>CiudadMunicipio</th>\n",
              "      <th>Cantidad</th>\n",
              "    </tr>\n",
              "  </thead>\n",
              "  <tbody>\n",
              "    <tr>\n",
              "      <th>0</th>\n",
              "      <td>0</td>\n",
              "      <td>ACACÍAS</td>\n",
              "      <td>1</td>\n",
              "    </tr>\n",
              "    <tr>\n",
              "      <th>1</th>\n",
              "      <td>0</td>\n",
              "      <td>ACAPULCO</td>\n",
              "      <td>1</td>\n",
              "    </tr>\n",
              "    <tr>\n",
              "      <th>2</th>\n",
              "      <td>0</td>\n",
              "      <td>AGUA DE DIOS</td>\n",
              "      <td>2</td>\n",
              "    </tr>\n",
              "    <tr>\n",
              "      <th>3</th>\n",
              "      <td>0</td>\n",
              "      <td>AGUACHICA</td>\n",
              "      <td>1</td>\n",
              "    </tr>\n",
              "    <tr>\n",
              "      <th>4</th>\n",
              "      <td>0</td>\n",
              "      <td>AGUAS FRÍAS - MEDELLÍN</td>\n",
              "      <td>1</td>\n",
              "    </tr>\n",
              "  </tbody>\n",
              "</table>\n",
              "</div>"
            ],
            "text/plain": [
              "   FM_buyer         CiudadMunicipio  Cantidad\n",
              "0         0                 ACACÍAS         1\n",
              "1         0                ACAPULCO         1\n",
              "2         0            AGUA DE DIOS         2\n",
              "3         0               AGUACHICA         1\n",
              "4         0  AGUAS FRÍAS - MEDELLÍN         1"
            ]
          },
          "metadata": {},
          "execution_count": 65
        }
      ]
    },
    {
      "cell_type": "code",
      "metadata": {
        "id": "WujkZn0XUlhM"
      },
      "source": [
        "# pivot table\n",
        "fm_city = fm_city.pivot(\n",
        "    columns='FM_buyer',\n",
        "    index='CiudadMunicipio',\n",
        "    values='Cantidad').reset_index()\n",
        "\n",
        "# set column names\n",
        "fm_city.columns = ['City', 'FMs_non_bought', 'FMs_bought']"
      ],
      "execution_count": null,
      "outputs": []
    },
    {
      "cell_type": "code",
      "metadata": {
        "colab": {
          "base_uri": "https://localhost:8080/",
          "height": 206
        },
        "id": "8VmqoqGuVGLU",
        "outputId": "8f8a7b52-7169-4d67-e3db-f1741765ff92"
      },
      "source": [
        "# create FMs_prescribed\n",
        "fm_city['FMs_prescribed'] = fm_city.FMs_bought + fm_city.FMs_non_bought\n",
        "\n",
        "# create %_purchase\n",
        "fm_city['%_purchase'] = (fm_city.FMs_bought / fm_city.FMs_prescribed) * 100\n",
        "\n",
        "# sort values\n",
        "fm_city = fm_city.sort_values(by='FMs_prescribed', ascending=False)\n",
        "\n",
        "fm_city.head()"
      ],
      "execution_count": null,
      "outputs": [
        {
          "output_type": "execute_result",
          "data": {
            "text/html": [
              "<div>\n",
              "<style scoped>\n",
              "    .dataframe tbody tr th:only-of-type {\n",
              "        vertical-align: middle;\n",
              "    }\n",
              "\n",
              "    .dataframe tbody tr th {\n",
              "        vertical-align: top;\n",
              "    }\n",
              "\n",
              "    .dataframe thead th {\n",
              "        text-align: right;\n",
              "    }\n",
              "</style>\n",
              "<table border=\"1\" class=\"dataframe\">\n",
              "  <thead>\n",
              "    <tr style=\"text-align: right;\">\n",
              "      <th></th>\n",
              "      <th>City</th>\n",
              "      <th>FMs_non_bought</th>\n",
              "      <th>FMs_bought</th>\n",
              "      <th>FMs_prescribed</th>\n",
              "      <th>%_purchase</th>\n",
              "    </tr>\n",
              "  </thead>\n",
              "  <tbody>\n",
              "    <tr>\n",
              "      <th>49</th>\n",
              "      <td>BOGOTÁ D.C.</td>\n",
              "      <td>6049.0</td>\n",
              "      <td>26811.0</td>\n",
              "      <td>32860.0</td>\n",
              "      <td>81.591601</td>\n",
              "    </tr>\n",
              "    <tr>\n",
              "      <th>401</th>\n",
              "      <td>SOACHA</td>\n",
              "      <td>467.0</td>\n",
              "      <td>1655.0</td>\n",
              "      <td>2122.0</td>\n",
              "      <td>77.992460</td>\n",
              "    </tr>\n",
              "    <tr>\n",
              "      <th>243</th>\n",
              "      <td>MEDELLÍN</td>\n",
              "      <td>168.0</td>\n",
              "      <td>815.0</td>\n",
              "      <td>983.0</td>\n",
              "      <td>82.909461</td>\n",
              "    </tr>\n",
              "    <tr>\n",
              "      <th>234</th>\n",
              "      <td>MADRID</td>\n",
              "      <td>200.0</td>\n",
              "      <td>689.0</td>\n",
              "      <td>889.0</td>\n",
              "      <td>77.502812</td>\n",
              "    </tr>\n",
              "    <tr>\n",
              "      <th>260</th>\n",
              "      <td>MOSQUERA</td>\n",
              "      <td>98.0</td>\n",
              "      <td>490.0</td>\n",
              "      <td>588.0</td>\n",
              "      <td>83.333333</td>\n",
              "    </tr>\n",
              "  </tbody>\n",
              "</table>\n",
              "</div>"
            ],
            "text/plain": [
              "            City  FMs_non_bought  FMs_bought  FMs_prescribed  %_purchase\n",
              "49   BOGOTÁ D.C.          6049.0     26811.0         32860.0   81.591601\n",
              "401       SOACHA           467.0      1655.0          2122.0   77.992460\n",
              "243     MEDELLÍN           168.0       815.0           983.0   82.909461\n",
              "234       MADRID           200.0       689.0           889.0   77.502812\n",
              "260     MOSQUERA            98.0       490.0           588.0   83.333333"
            ]
          },
          "metadata": {},
          "execution_count": 67
        }
      ]
    },
    {
      "cell_type": "markdown",
      "metadata": {
        "id": "4iZ3irarXMCk"
      },
      "source": [
        "Of the 5 cities/towns with the highest number of FMs prescribed Mosquera has the highest purchase rate with 83.3%, followed by Medellin and Bogotá with 82.9% and 81.5% respectively. "
      ]
    },
    {
      "cell_type": "markdown",
      "metadata": {
        "id": "tRsaH6udY-Fu"
      },
      "source": [
        "![green-divider](https://user-images.githubusercontent.com/7065401/52071924-c003ad80-2562-11e9-8297-1c6595f8a7ff.png)"
      ]
    },
    {
      "cell_type": "markdown",
      "metadata": {
        "id": "yrPEHfCwZAnD"
      },
      "source": [
        "#### FMs Bought by Diagnostic"
      ]
    },
    {
      "cell_type": "code",
      "metadata": {
        "colab": {
          "base_uri": "https://localhost:8080/",
          "height": 206
        },
        "id": "ezkkgO_dZEaF",
        "outputId": "4d61bdc2-966e-423b-9417-b392a0a1ad5d"
      },
      "source": [
        "# groupby 'FM_buyer' and 'Diagnostico'\n",
        "fm_diagnostic = df_proced_sales.groupby(['FM_buyer', 'Diagnostico']).Cantidad.sum().reset_index()\n",
        "\n",
        "fm_diagnostic.head()"
      ],
      "execution_count": null,
      "outputs": [
        {
          "output_type": "execute_result",
          "data": {
            "text/html": [
              "<div>\n",
              "<style scoped>\n",
              "    .dataframe tbody tr th:only-of-type {\n",
              "        vertical-align: middle;\n",
              "    }\n",
              "\n",
              "    .dataframe tbody tr th {\n",
              "        vertical-align: top;\n",
              "    }\n",
              "\n",
              "    .dataframe thead th {\n",
              "        text-align: right;\n",
              "    }\n",
              "</style>\n",
              "<table border=\"1\" class=\"dataframe\">\n",
              "  <thead>\n",
              "    <tr style=\"text-align: right;\">\n",
              "      <th></th>\n",
              "      <th>FM_buyer</th>\n",
              "      <th>Diagnostico</th>\n",
              "      <th>Cantidad</th>\n",
              "    </tr>\n",
              "  </thead>\n",
              "  <tbody>\n",
              "    <tr>\n",
              "      <th>0</th>\n",
              "      <td>0</td>\n",
              "      <td>(OSTEO)ARTROSIS EROSIVA</td>\n",
              "      <td>3</td>\n",
              "    </tr>\n",
              "    <tr>\n",
              "      <th>1</th>\n",
              "      <td>0</td>\n",
              "      <td>(OSTEO)ARTROSIS PRIMARIAGENERALIZADA</td>\n",
              "      <td>164</td>\n",
              "    </tr>\n",
              "    <tr>\n",
              "      <th>2</th>\n",
              "      <td>0</td>\n",
              "      <td>ALCOHOLISMO, NIVEL DE INTOXICACIONNO ESPECIFICADO</td>\n",
              "      <td>2</td>\n",
              "    </tr>\n",
              "    <tr>\n",
              "      <th>3</th>\n",
              "      <td>0</td>\n",
              "      <td>AMPUTACION DE MIEMBRO(S)</td>\n",
              "      <td>2</td>\n",
              "    </tr>\n",
              "    <tr>\n",
              "      <th>4</th>\n",
              "      <td>0</td>\n",
              "      <td>AMPUTACION TRAUMATICA DE LAPIERNA, NIVEL NO ES...</td>\n",
              "      <td>1</td>\n",
              "    </tr>\n",
              "  </tbody>\n",
              "</table>\n",
              "</div>"
            ],
            "text/plain": [
              "   FM_buyer                                        Diagnostico  Cantidad\n",
              "0         0                            (OSTEO)ARTROSIS EROSIVA         3\n",
              "1         0               (OSTEO)ARTROSIS PRIMARIAGENERALIZADA       164\n",
              "2         0  ALCOHOLISMO, NIVEL DE INTOXICACIONNO ESPECIFICADO         2\n",
              "3         0                           AMPUTACION DE MIEMBRO(S)         2\n",
              "4         0  AMPUTACION TRAUMATICA DE LAPIERNA, NIVEL NO ES...         1"
            ]
          },
          "metadata": {},
          "execution_count": 68
        }
      ]
    },
    {
      "cell_type": "code",
      "metadata": {
        "id": "FI-e0tZwZYh1"
      },
      "source": [
        "# pivot table\n",
        "fm_diagnostic = fm_diagnostic.pivot(\n",
        "    columns='FM_buyer',\n",
        "    index='Diagnostico',\n",
        "    values='Cantidad').reset_index()\n",
        "\n",
        "# set column names\n",
        "fm_diagnostic.columns = ['Diagnostic', 'FMs_non_bought', 'FMs_bought']"
      ],
      "execution_count": null,
      "outputs": []
    },
    {
      "cell_type": "code",
      "metadata": {
        "colab": {
          "base_uri": "https://localhost:8080/",
          "height": 206
        },
        "id": "APaqIwTQZvU-",
        "outputId": "58d79419-f460-4802-d15e-f5d3b2bd1fe8"
      },
      "source": [
        "# create 'FMs_prescribed'\n",
        "fm_diagnostic['FMs_precribed'] = fm_diagnostic.FMs_bought + fm_diagnostic.FMs_non_bought\n",
        "\n",
        "# craete '%_purchase'\n",
        "fm_diagnostic['%_purchase'] = (fm_diagnostic.FMs_bought / fm_diagnostic.FMs_precribed) * 100\n",
        "\n",
        "# sort values\n",
        "fm_diagnostic = fm_diagnostic.sort_values(by='FMs_precribed', ascending=False)\n",
        "\n",
        "fm_diagnostic.head()"
      ],
      "execution_count": null,
      "outputs": [
        {
          "output_type": "execute_result",
          "data": {
            "text/html": [
              "<div>\n",
              "<style scoped>\n",
              "    .dataframe tbody tr th:only-of-type {\n",
              "        vertical-align: middle;\n",
              "    }\n",
              "\n",
              "    .dataframe tbody tr th {\n",
              "        vertical-align: top;\n",
              "    }\n",
              "\n",
              "    .dataframe thead th {\n",
              "        text-align: right;\n",
              "    }\n",
              "</style>\n",
              "<table border=\"1\" class=\"dataframe\">\n",
              "  <thead>\n",
              "    <tr style=\"text-align: right;\">\n",
              "      <th></th>\n",
              "      <th>Diagnostic</th>\n",
              "      <th>FMs_non_bought</th>\n",
              "      <th>FMs_bought</th>\n",
              "      <th>FMs_precribed</th>\n",
              "      <th>%_purchase</th>\n",
              "    </tr>\n",
              "  </thead>\n",
              "  <tbody>\n",
              "    <tr>\n",
              "      <th>324</th>\n",
              "      <td>OTRO DOLOR CRONICO</td>\n",
              "      <td>2759.0</td>\n",
              "      <td>13827.0</td>\n",
              "      <td>16586.0</td>\n",
              "      <td>83.365489</td>\n",
              "    </tr>\n",
              "    <tr>\n",
              "      <th>118</th>\n",
              "      <td>DOLOR CRONICO INTRATABLE</td>\n",
              "      <td>1744.0</td>\n",
              "      <td>7363.0</td>\n",
              "      <td>9107.0</td>\n",
              "      <td>80.849896</td>\n",
              "    </tr>\n",
              "    <tr>\n",
              "      <th>463</th>\n",
              "      <td>TRASTORNO MIXTO DE ANSIEDAD YDEPRESION</td>\n",
              "      <td>449.0</td>\n",
              "      <td>2018.0</td>\n",
              "      <td>2467.0</td>\n",
              "      <td>81.799757</td>\n",
              "    </tr>\n",
              "    <tr>\n",
              "      <th>475</th>\n",
              "      <td>TRASTORNOS DEL INICIO Y DELMANTENIMIENTO DEL S...</td>\n",
              "      <td>308.0</td>\n",
              "      <td>1371.0</td>\n",
              "      <td>1679.0</td>\n",
              "      <td>81.655747</td>\n",
              "    </tr>\n",
              "    <tr>\n",
              "      <th>184</th>\n",
              "      <td>FIBROMIALGIA</td>\n",
              "      <td>256.0</td>\n",
              "      <td>1040.0</td>\n",
              "      <td>1296.0</td>\n",
              "      <td>80.246914</td>\n",
              "    </tr>\n",
              "  </tbody>\n",
              "</table>\n",
              "</div>"
            ],
            "text/plain": [
              "                                            Diagnostic  ...  %_purchase\n",
              "324                                 OTRO DOLOR CRONICO  ...   83.365489\n",
              "118                           DOLOR CRONICO INTRATABLE  ...   80.849896\n",
              "463             TRASTORNO MIXTO DE ANSIEDAD YDEPRESION  ...   81.799757\n",
              "475  TRASTORNOS DEL INICIO Y DELMANTENIMIENTO DEL S...  ...   81.655747\n",
              "184                                       FIBROMIALGIA  ...   80.246914\n",
              "\n",
              "[5 rows x 5 columns]"
            ]
          },
          "metadata": {},
          "execution_count": 70
        }
      ]
    },
    {
      "cell_type": "markdown",
      "metadata": {
        "id": "SjUqXJQBasJK"
      },
      "source": [
        "Of the 5 Diagnostics with the most FMs precribed the one with the highest purchase rate is 'OTRO DOLOR CRONICO' with 83.3% followed by 'TRASTORNO MIXTO DE ANSIEDAD Y DEPRESION' and 'DOLOR CRONICO INTRATABLE' with 81.7% and 80.8%"
      ]
    },
    {
      "cell_type": "markdown",
      "metadata": {
        "id": "_wca5uFTIGJ8"
      },
      "source": [
        "#### FMs Bought by Product"
      ]
    },
    {
      "cell_type": "code",
      "metadata": {
        "colab": {
          "base_uri": "https://localhost:8080/",
          "height": 363
        },
        "id": "Ix6kYb3eIB9Y",
        "outputId": "5a8140b8-dfd4-4c80-893c-6285375cca9b"
      },
      "source": [
        "# groupby FM_buyer and CodProducto\n",
        "fm_product = df_proced_sales.groupby(['FM_buyer', 'CodProducto']).Cantidad.sum().reset_index()\n",
        "\n",
        "fm_product"
      ],
      "execution_count": null,
      "outputs": [
        {
          "output_type": "execute_result",
          "data": {
            "text/html": [
              "<div>\n",
              "<style scoped>\n",
              "    .dataframe tbody tr th:only-of-type {\n",
              "        vertical-align: middle;\n",
              "    }\n",
              "\n",
              "    .dataframe tbody tr th {\n",
              "        vertical-align: top;\n",
              "    }\n",
              "\n",
              "    .dataframe thead th {\n",
              "        text-align: right;\n",
              "    }\n",
              "</style>\n",
              "<table border=\"1\" class=\"dataframe\">\n",
              "  <thead>\n",
              "    <tr style=\"text-align: right;\">\n",
              "      <th></th>\n",
              "      <th>FM_buyer</th>\n",
              "      <th>CodProducto</th>\n",
              "      <th>Cantidad</th>\n",
              "    </tr>\n",
              "  </thead>\n",
              "  <tbody>\n",
              "    <tr>\n",
              "      <th>0</th>\n",
              "      <td>0</td>\n",
              "      <td>fm001</td>\n",
              "      <td>5429</td>\n",
              "    </tr>\n",
              "    <tr>\n",
              "      <th>1</th>\n",
              "      <td>0</td>\n",
              "      <td>fm002</td>\n",
              "      <td>113</td>\n",
              "    </tr>\n",
              "    <tr>\n",
              "      <th>2</th>\n",
              "      <td>0</td>\n",
              "      <td>fm003</td>\n",
              "      <td>3331</td>\n",
              "    </tr>\n",
              "    <tr>\n",
              "      <th>3</th>\n",
              "      <td>0</td>\n",
              "      <td>fm004</td>\n",
              "      <td>334</td>\n",
              "    </tr>\n",
              "    <tr>\n",
              "      <th>4</th>\n",
              "      <td>0</td>\n",
              "      <td>fm005</td>\n",
              "      <td>20</td>\n",
              "    </tr>\n",
              "    <tr>\n",
              "      <th>5</th>\n",
              "      <td>1</td>\n",
              "      <td>fm001</td>\n",
              "      <td>21531</td>\n",
              "    </tr>\n",
              "    <tr>\n",
              "      <th>6</th>\n",
              "      <td>1</td>\n",
              "      <td>fm002</td>\n",
              "      <td>608</td>\n",
              "    </tr>\n",
              "    <tr>\n",
              "      <th>7</th>\n",
              "      <td>1</td>\n",
              "      <td>fm003</td>\n",
              "      <td>14445</td>\n",
              "    </tr>\n",
              "    <tr>\n",
              "      <th>8</th>\n",
              "      <td>1</td>\n",
              "      <td>fm004</td>\n",
              "      <td>1482</td>\n",
              "    </tr>\n",
              "    <tr>\n",
              "      <th>9</th>\n",
              "      <td>1</td>\n",
              "      <td>fm005</td>\n",
              "      <td>134</td>\n",
              "    </tr>\n",
              "  </tbody>\n",
              "</table>\n",
              "</div>"
            ],
            "text/plain": [
              "   FM_buyer CodProducto  Cantidad\n",
              "0         0       fm001      5429\n",
              "1         0       fm002       113\n",
              "2         0       fm003      3331\n",
              "3         0       fm004       334\n",
              "4         0       fm005        20\n",
              "5         1       fm001     21531\n",
              "6         1       fm002       608\n",
              "7         1       fm003     14445\n",
              "8         1       fm004      1482\n",
              "9         1       fm005       134"
            ]
          },
          "metadata": {},
          "execution_count": 71
        }
      ]
    },
    {
      "cell_type": "code",
      "metadata": {
        "colab": {
          "base_uri": "https://localhost:8080/",
          "height": 206
        },
        "id": "3Ym0w7eEIwWd",
        "outputId": "6f7d60f3-2850-4b0e-e043-3acc5faae538"
      },
      "source": [
        "# pivot table\n",
        "fm_product = fm_product.pivot(\n",
        "    columns='FM_buyer',\n",
        "    index='CodProducto',\n",
        "    values='Cantidad').reset_index()\n",
        "\n",
        "# set column names\n",
        "fm_product.columns = ['Product', 'FMs_non_bought', 'FMs_bought']\n",
        "fm_product"
      ],
      "execution_count": null,
      "outputs": [
        {
          "output_type": "execute_result",
          "data": {
            "text/html": [
              "<div>\n",
              "<style scoped>\n",
              "    .dataframe tbody tr th:only-of-type {\n",
              "        vertical-align: middle;\n",
              "    }\n",
              "\n",
              "    .dataframe tbody tr th {\n",
              "        vertical-align: top;\n",
              "    }\n",
              "\n",
              "    .dataframe thead th {\n",
              "        text-align: right;\n",
              "    }\n",
              "</style>\n",
              "<table border=\"1\" class=\"dataframe\">\n",
              "  <thead>\n",
              "    <tr style=\"text-align: right;\">\n",
              "      <th></th>\n",
              "      <th>Product</th>\n",
              "      <th>FMs_non_bought</th>\n",
              "      <th>FMs_bought</th>\n",
              "    </tr>\n",
              "  </thead>\n",
              "  <tbody>\n",
              "    <tr>\n",
              "      <th>0</th>\n",
              "      <td>fm001</td>\n",
              "      <td>5429</td>\n",
              "      <td>21531</td>\n",
              "    </tr>\n",
              "    <tr>\n",
              "      <th>1</th>\n",
              "      <td>fm002</td>\n",
              "      <td>113</td>\n",
              "      <td>608</td>\n",
              "    </tr>\n",
              "    <tr>\n",
              "      <th>2</th>\n",
              "      <td>fm003</td>\n",
              "      <td>3331</td>\n",
              "      <td>14445</td>\n",
              "    </tr>\n",
              "    <tr>\n",
              "      <th>3</th>\n",
              "      <td>fm004</td>\n",
              "      <td>334</td>\n",
              "      <td>1482</td>\n",
              "    </tr>\n",
              "    <tr>\n",
              "      <th>4</th>\n",
              "      <td>fm005</td>\n",
              "      <td>20</td>\n",
              "      <td>134</td>\n",
              "    </tr>\n",
              "  </tbody>\n",
              "</table>\n",
              "</div>"
            ],
            "text/plain": [
              "  Product  FMs_non_bought  FMs_bought\n",
              "0   fm001            5429       21531\n",
              "1   fm002             113         608\n",
              "2   fm003            3331       14445\n",
              "3   fm004             334        1482\n",
              "4   fm005              20         134"
            ]
          },
          "metadata": {},
          "execution_count": 72
        }
      ]
    },
    {
      "cell_type": "code",
      "metadata": {
        "colab": {
          "base_uri": "https://localhost:8080/",
          "height": 206
        },
        "id": "ClkispPFJX6h",
        "outputId": "8098e66b-847a-46f9-fc00-df7c505841b0"
      },
      "source": [
        "# create column 'FMs_prescribed'\n",
        "fm_product['FMs_prescribed'] = fm_product.FMs_bought + fm_product.FMs_non_bought\n",
        "\n",
        "# create column '%_purchase'\n",
        "fm_product['%_purchase'] = (fm_product.FMs_bought / fm_product.FMs_prescribed) * 100\n",
        "\n",
        "# sort values\n",
        "fm_product.sort_values('%_purchase', ascending=False)\n",
        "\n",
        "fm_product"
      ],
      "execution_count": null,
      "outputs": [
        {
          "output_type": "execute_result",
          "data": {
            "text/html": [
              "<div>\n",
              "<style scoped>\n",
              "    .dataframe tbody tr th:only-of-type {\n",
              "        vertical-align: middle;\n",
              "    }\n",
              "\n",
              "    .dataframe tbody tr th {\n",
              "        vertical-align: top;\n",
              "    }\n",
              "\n",
              "    .dataframe thead th {\n",
              "        text-align: right;\n",
              "    }\n",
              "</style>\n",
              "<table border=\"1\" class=\"dataframe\">\n",
              "  <thead>\n",
              "    <tr style=\"text-align: right;\">\n",
              "      <th></th>\n",
              "      <th>Product</th>\n",
              "      <th>FMs_non_bought</th>\n",
              "      <th>FMs_bought</th>\n",
              "      <th>FMs_prescribed</th>\n",
              "      <th>%_purchase</th>\n",
              "    </tr>\n",
              "  </thead>\n",
              "  <tbody>\n",
              "    <tr>\n",
              "      <th>0</th>\n",
              "      <td>fm001</td>\n",
              "      <td>5429</td>\n",
              "      <td>21531</td>\n",
              "      <td>26960</td>\n",
              "      <td>79.862760</td>\n",
              "    </tr>\n",
              "    <tr>\n",
              "      <th>1</th>\n",
              "      <td>fm002</td>\n",
              "      <td>113</td>\n",
              "      <td>608</td>\n",
              "      <td>721</td>\n",
              "      <td>84.327323</td>\n",
              "    </tr>\n",
              "    <tr>\n",
              "      <th>2</th>\n",
              "      <td>fm003</td>\n",
              "      <td>3331</td>\n",
              "      <td>14445</td>\n",
              "      <td>17776</td>\n",
              "      <td>81.261251</td>\n",
              "    </tr>\n",
              "    <tr>\n",
              "      <th>3</th>\n",
              "      <td>fm004</td>\n",
              "      <td>334</td>\n",
              "      <td>1482</td>\n",
              "      <td>1816</td>\n",
              "      <td>81.607930</td>\n",
              "    </tr>\n",
              "    <tr>\n",
              "      <th>4</th>\n",
              "      <td>fm005</td>\n",
              "      <td>20</td>\n",
              "      <td>134</td>\n",
              "      <td>154</td>\n",
              "      <td>87.012987</td>\n",
              "    </tr>\n",
              "  </tbody>\n",
              "</table>\n",
              "</div>"
            ],
            "text/plain": [
              "  Product  FMs_non_bought  FMs_bought  FMs_prescribed  %_purchase\n",
              "0   fm001            5429       21531           26960   79.862760\n",
              "1   fm002             113         608             721   84.327323\n",
              "2   fm003            3331       14445           17776   81.261251\n",
              "3   fm004             334        1482            1816   81.607930\n",
              "4   fm005              20         134             154   87.012987"
            ]
          },
          "metadata": {},
          "execution_count": 73
        }
      ]
    },
    {
      "cell_type": "markdown",
      "metadata": {
        "id": "-jer13GzMdia"
      },
      "source": [
        "Even though fm001 is the type of product which has the highest number of FMs prescribed it has the lowest rate of purchase of the 5 products with 79.8%. Interestingly enough, fm005 and fm002 the two products which have the highest concentration of THC also have the highest rate of purchase with 87% and 84.32% respectively. \n",
        "\n",
        "Below you will find a chi-square test to see if the different type of products have statistically significant differences in the purchase rate"
      ]
    },
    {
      "cell_type": "markdown",
      "metadata": {
        "id": "nDOPx2P6OBAE"
      },
      "source": [
        "![purple-divider](https://user-images.githubusercontent.com/7065401/52071927-c1cd7100-2562-11e9-908a-dde91ba14e59.png)"
      ]
    },
    {
      "cell_type": "markdown",
      "metadata": {
        "id": "c6k7kmDMOHg1"
      },
      "source": [
        "## Statistical Significance - Product Type & Purchase Rate\n",
        "\n",
        "- A Chi-Square test will be run to see if the different type of products have statiscally significant differences in the purchase rate\n",
        "\n",
        "||FMs_bought|FMs_non_bought|\n",
        "|-|-|-|\n",
        "|fm001|?|?|\n",
        "|fm002|?|?|\n",
        "\n"
      ]
    },
    {
      "cell_type": "code",
      "metadata": {
        "id": "R-MTApyqOs6F"
      },
      "source": [
        "# import chi-square package\n",
        "from scipy.stats import chi2_contingency"
      ],
      "execution_count": null,
      "outputs": []
    },
    {
      "cell_type": "code",
      "metadata": {
        "colab": {
          "base_uri": "https://localhost:8080/",
          "height": 206
        },
        "id": "4DfutLTSPY4U",
        "outputId": "554b5486-c2f0-479f-d9f7-122dffe7f294"
      },
      "source": [
        "# fm_product\n",
        "fm_product"
      ],
      "execution_count": null,
      "outputs": [
        {
          "output_type": "execute_result",
          "data": {
            "text/html": [
              "<div>\n",
              "<style scoped>\n",
              "    .dataframe tbody tr th:only-of-type {\n",
              "        vertical-align: middle;\n",
              "    }\n",
              "\n",
              "    .dataframe tbody tr th {\n",
              "        vertical-align: top;\n",
              "    }\n",
              "\n",
              "    .dataframe thead th {\n",
              "        text-align: right;\n",
              "    }\n",
              "</style>\n",
              "<table border=\"1\" class=\"dataframe\">\n",
              "  <thead>\n",
              "    <tr style=\"text-align: right;\">\n",
              "      <th></th>\n",
              "      <th>Product</th>\n",
              "      <th>FMs_non_bought</th>\n",
              "      <th>FMs_bought</th>\n",
              "      <th>FMs_prescribed</th>\n",
              "      <th>%_purchase</th>\n",
              "    </tr>\n",
              "  </thead>\n",
              "  <tbody>\n",
              "    <tr>\n",
              "      <th>0</th>\n",
              "      <td>fm001</td>\n",
              "      <td>5429</td>\n",
              "      <td>21531</td>\n",
              "      <td>26960</td>\n",
              "      <td>79.862760</td>\n",
              "    </tr>\n",
              "    <tr>\n",
              "      <th>1</th>\n",
              "      <td>fm002</td>\n",
              "      <td>113</td>\n",
              "      <td>608</td>\n",
              "      <td>721</td>\n",
              "      <td>84.327323</td>\n",
              "    </tr>\n",
              "    <tr>\n",
              "      <th>2</th>\n",
              "      <td>fm003</td>\n",
              "      <td>3331</td>\n",
              "      <td>14445</td>\n",
              "      <td>17776</td>\n",
              "      <td>81.261251</td>\n",
              "    </tr>\n",
              "    <tr>\n",
              "      <th>3</th>\n",
              "      <td>fm004</td>\n",
              "      <td>334</td>\n",
              "      <td>1482</td>\n",
              "      <td>1816</td>\n",
              "      <td>81.607930</td>\n",
              "    </tr>\n",
              "    <tr>\n",
              "      <th>4</th>\n",
              "      <td>fm005</td>\n",
              "      <td>20</td>\n",
              "      <td>134</td>\n",
              "      <td>154</td>\n",
              "      <td>87.012987</td>\n",
              "    </tr>\n",
              "  </tbody>\n",
              "</table>\n",
              "</div>"
            ],
            "text/plain": [
              "  Product  FMs_non_bought  FMs_bought  FMs_prescribed  %_purchase\n",
              "0   fm001            5429       21531           26960   79.862760\n",
              "1   fm002             113         608             721   84.327323\n",
              "2   fm003            3331       14445           17776   81.261251\n",
              "3   fm004             334        1482            1816   81.607930\n",
              "4   fm005              20         134             154   87.012987"
            ]
          },
          "metadata": {},
          "execution_count": 75
        }
      ]
    },
    {
      "cell_type": "code",
      "metadata": {
        "colab": {
          "base_uri": "https://localhost:8080/"
        },
        "id": "TJOs_PByPfaW",
        "outputId": "5f0e4732-324a-4b7a-db00-e6dcb8431eaf"
      },
      "source": [
        "# contingency table fm001 & fm002\n",
        "contingency_prod = [[21531, 5429],\n",
        "                    [608, 113]]\n",
        "\n",
        "# Hypothesis\n",
        "print('Ho >> No association between fm001 and fm002 purchase rates')\n",
        "print('H1 >> There is an association between fm001 and fm002 purchase rates', '\\n')\n",
        "\n",
        "chi2, pval, dof, expected = chi2_contingency(contingency_prod)\n",
        "\n",
        "print('Expected values if there was NO Association:')\n",
        "print(expected, '\\n')\n",
        "\n",
        "print(f'P-Value: {pval}')\n",
        "print('Significant Threshold: 0.05', '\\n')\n",
        "\n",
        "print('We can conclude with a 95% confidence that there IS an association between fm001 and fm002 purchase rates')\n",
        "print('fm002 are shown to have a statiscally significant higher purchase rate than fm001')\n",
        "print('This can be because FMs with THC allows to aliviate pain on the patients with higher degree pathologies')"
      ],
      "execution_count": null,
      "outputs": [
        {
          "output_type": "stream",
          "name": "stdout",
          "text": [
            "Ho >> No association between fm001 and fm002 purchase rates\n",
            "H1 >> There is an association between fm001 and fm002 purchase rates \n",
            "\n",
            "Expected values if there was NO Association:\n",
            "[[21562.35107113  5397.64892887]\n",
            " [  576.64892887   144.35107113]] \n",
            "\n",
            "P-Value: 0.003621260199950411\n",
            "Significant Threshold: 0.05 \n",
            "\n",
            "We can conclude with a 95% confidence that there IS an association between fm001 and fm002 purchase rates\n",
            "fm002 are shown to have a statiscally significant higher purchase rate than fm001\n",
            "This can be because FMs with THC allows to aliviate pain on the patients with higher degree pathologies\n"
          ]
        }
      ]
    },
    {
      "cell_type": "markdown",
      "metadata": {
        "id": "WLyy26VfTGt_"
      },
      "source": [
        "![green-divider](https://user-images.githubusercontent.com/7065401/52071924-c003ad80-2562-11e9-8297-1c6595f8a7ff.png)"
      ]
    },
    {
      "cell_type": "markdown",
      "metadata": {
        "id": "sIKAtBzQTKiX"
      },
      "source": [
        "## Statistical Significance - Age Group & Purchase Rate\n",
        "\n",
        "- A Chi-Square test will be run to see if the age groups have statiscally significant differences in the purchase rate\n",
        "\n",
        "||FMs_bought|FMs_non_bought|\n",
        "|-|-|-|\n",
        "|76-101|?|?|\n",
        "|26-51|?|?|"
      ]
    },
    {
      "cell_type": "code",
      "metadata": {
        "colab": {
          "base_uri": "https://localhost:8080/",
          "height": 175
        },
        "id": "fKOblvSXTKDZ",
        "outputId": "fa714dee-7343-4536-ab11-763faa1bb553"
      },
      "source": [
        "fm_age"
      ],
      "execution_count": null,
      "outputs": [
        {
          "output_type": "execute_result",
          "data": {
            "text/html": [
              "<div>\n",
              "<style scoped>\n",
              "    .dataframe tbody tr th:only-of-type {\n",
              "        vertical-align: middle;\n",
              "    }\n",
              "\n",
              "    .dataframe tbody tr th {\n",
              "        vertical-align: top;\n",
              "    }\n",
              "\n",
              "    .dataframe thead th {\n",
              "        text-align: right;\n",
              "    }\n",
              "</style>\n",
              "<table border=\"1\" class=\"dataframe\">\n",
              "  <thead>\n",
              "    <tr style=\"text-align: right;\">\n",
              "      <th></th>\n",
              "      <th>age_group</th>\n",
              "      <th>FMs_non_bought</th>\n",
              "      <th>FMs_bought</th>\n",
              "      <th>FMs_prescribed</th>\n",
              "      <th>%_purchase</th>\n",
              "    </tr>\n",
              "  </thead>\n",
              "  <tbody>\n",
              "    <tr>\n",
              "      <th>3</th>\n",
              "      <td>(76.0, 101.0]</td>\n",
              "      <td>810</td>\n",
              "      <td>4873</td>\n",
              "      <td>5683</td>\n",
              "      <td>85.746965</td>\n",
              "    </tr>\n",
              "    <tr>\n",
              "      <th>2</th>\n",
              "      <td>(51.0, 76.0]</td>\n",
              "      <td>4341</td>\n",
              "      <td>20552</td>\n",
              "      <td>24893</td>\n",
              "      <td>82.561363</td>\n",
              "    </tr>\n",
              "    <tr>\n",
              "      <th>1</th>\n",
              "      <td>(26.0, 51.0]</td>\n",
              "      <td>3734</td>\n",
              "      <td>11801</td>\n",
              "      <td>15535</td>\n",
              "      <td>75.963952</td>\n",
              "    </tr>\n",
              "    <tr>\n",
              "      <th>0</th>\n",
              "      <td>(0.9, 26.0]</td>\n",
              "      <td>342</td>\n",
              "      <td>974</td>\n",
              "      <td>1316</td>\n",
              "      <td>74.012158</td>\n",
              "    </tr>\n",
              "  </tbody>\n",
              "</table>\n",
              "</div>"
            ],
            "text/plain": [
              "       age_group  FMs_non_bought  FMs_bought  FMs_prescribed  %_purchase\n",
              "3  (76.0, 101.0]             810        4873            5683   85.746965\n",
              "2   (51.0, 76.0]            4341       20552           24893   82.561363\n",
              "1   (26.0, 51.0]            3734       11801           15535   75.963952\n",
              "0    (0.9, 26.0]             342         974            1316   74.012158"
            ]
          },
          "metadata": {},
          "execution_count": 77
        }
      ]
    },
    {
      "cell_type": "code",
      "metadata": {
        "colab": {
          "base_uri": "https://localhost:8080/"
        },
        "id": "waedUKUwdZ4i",
        "outputId": "5f82b243-2991-426d-c600-79535f0c1c67"
      },
      "source": [
        "# contingency table\n",
        "contingency_age = [[4873, 810],\n",
        "                   [11801, 3734]]\n",
        "\n",
        "# Hypothesis\n",
        "print('Ho >> No association between the age groups [76-101] and [26-51] purchase rates')\n",
        "print('H1 >> There is an association between the age groups [76-101] and [26-51] purchase rates', '\\n')\n",
        "\n",
        "chi2, pval, dof, expected = chi2_contingency(contingency_age)\n",
        "\n",
        "print('Expected values if there is NO Association:')\n",
        "print(expected, '\\n')\n",
        "\n",
        "print(f'P-Value: {pval}')\n",
        "print('Significant Threshold: 0.05', '\\n')\n",
        "\n",
        "print('We can conclude with a 95% confidence that there IS an association between the age groups [76-101] and [26-51] purchase rates')\n",
        "print('Even though the age group [76-101] have been the least prescribed of the two, they are shown to have a statiscally \\nhigher purchase rate than the age group of [26-51], which is the age group with the highest number of FMs prescribed')"
      ],
      "execution_count": null,
      "outputs": [
        {
          "output_type": "stream",
          "name": "stdout",
          "text": [
            "Ho >> No association between the age groups [76-101] and [26-51] purchase rates\n",
            "H1 >> There is an association between the age groups [76-101] and [26-51] purchase rates \n",
            "\n",
            "Expected values if there is NO Association:\n",
            "[[ 4465.94127627  1217.05872373]\n",
            " [12208.05872373  3326.94127627]] \n",
            "\n",
            "P-Value: 2.8663598589917413e-53\n",
            "Significant Threshold: 0.05 \n",
            "\n",
            "We can conclude with a 95% confidence that there IS an association between the age groups [76-101] and [26-51] purchase rates\n",
            "Even though the age group [76-101] have been the least prescribed of the two, they are shown to have a statiscally \n",
            "higher purchase rate than the age group of [26-51], which is the age group with the highest number of FMs prescribed\n"
          ]
        }
      ]
    },
    {
      "cell_type": "markdown",
      "metadata": {
        "id": "x2Ywk0l7rbzd"
      },
      "source": [
        "![green-divider](https://user-images.githubusercontent.com/7065401/52071924-c003ad80-2562-11e9-8297-1c6595f8a7ff.png)"
      ]
    },
    {
      "cell_type": "markdown",
      "metadata": {
        "id": "JYBoDkWinV8S"
      },
      "source": [
        "## Statistical Significance - Exam Type & Purchase Rate\n",
        "- A Chi-Square test will be run to see if the exam types *Control* and *Primera vez* have statistically significant differences in the purchase rate \n",
        "\n",
        "||FMs_bought|FMs_non_bought|\n",
        "|-|-|-|\n",
        "|Control|?|?|\n",
        "|Primera vez|?|?|"
      ]
    },
    {
      "cell_type": "code",
      "metadata": {
        "colab": {
          "base_uri": "https://localhost:8080/",
          "height": 206
        },
        "id": "_87mM1SUouqs",
        "outputId": "783c0a84-ff4d-482e-ac1b-7bce356d7f59"
      },
      "source": [
        "fm_exam"
      ],
      "execution_count": null,
      "outputs": [
        {
          "output_type": "execute_result",
          "data": {
            "text/html": [
              "<div>\n",
              "<style scoped>\n",
              "    .dataframe tbody tr th:only-of-type {\n",
              "        vertical-align: middle;\n",
              "    }\n",
              "\n",
              "    .dataframe tbody tr th {\n",
              "        vertical-align: top;\n",
              "    }\n",
              "\n",
              "    .dataframe thead th {\n",
              "        text-align: right;\n",
              "    }\n",
              "</style>\n",
              "<table border=\"1\" class=\"dataframe\">\n",
              "  <thead>\n",
              "    <tr style=\"text-align: right;\">\n",
              "      <th></th>\n",
              "      <th>exam_type</th>\n",
              "      <th>FMs_non_bought</th>\n",
              "      <th>FMs_bought</th>\n",
              "      <th>FMs_prescribed</th>\n",
              "      <th>%_purchase</th>\n",
              "    </tr>\n",
              "  </thead>\n",
              "  <tbody>\n",
              "    <tr>\n",
              "      <th>0</th>\n",
              "      <td>Control</td>\n",
              "      <td>6625.0</td>\n",
              "      <td>29757.0</td>\n",
              "      <td>36382.0</td>\n",
              "      <td>81.790446</td>\n",
              "    </tr>\n",
              "    <tr>\n",
              "      <th>2</th>\n",
              "      <td>Primera vez</td>\n",
              "      <td>2475.0</td>\n",
              "      <td>6082.0</td>\n",
              "      <td>8557.0</td>\n",
              "      <td>71.076312</td>\n",
              "    </tr>\n",
              "    <tr>\n",
              "      <th>1</th>\n",
              "      <td>Junta Médica</td>\n",
              "      <td>41.0</td>\n",
              "      <td>92.0</td>\n",
              "      <td>133.0</td>\n",
              "      <td>69.172932</td>\n",
              "    </tr>\n",
              "    <tr>\n",
              "      <th>3</th>\n",
              "      <td>Procedimientos</td>\n",
              "      <td>14.0</td>\n",
              "      <td>13.0</td>\n",
              "      <td>27.0</td>\n",
              "      <td>48.148148</td>\n",
              "    </tr>\n",
              "    <tr>\n",
              "      <th>4</th>\n",
              "      <td>Valoración</td>\n",
              "      <td>NaN</td>\n",
              "      <td>7.0</td>\n",
              "      <td>NaN</td>\n",
              "      <td>NaN</td>\n",
              "    </tr>\n",
              "  </tbody>\n",
              "</table>\n",
              "</div>"
            ],
            "text/plain": [
              "        exam_type  FMs_non_bought  FMs_bought  FMs_prescribed  %_purchase\n",
              "0         Control          6625.0     29757.0         36382.0   81.790446\n",
              "2     Primera vez          2475.0      6082.0          8557.0   71.076312\n",
              "1    Junta Médica            41.0        92.0           133.0   69.172932\n",
              "3  Procedimientos            14.0        13.0            27.0   48.148148\n",
              "4      Valoración             NaN         7.0             NaN         NaN"
            ]
          },
          "metadata": {},
          "execution_count": 79
        }
      ]
    },
    {
      "cell_type": "code",
      "metadata": {
        "colab": {
          "base_uri": "https://localhost:8080/"
        },
        "id": "R_y7Egkzo0p5",
        "outputId": "868a27f0-9554-4f56-c8ff-193f98cc92a0"
      },
      "source": [
        "# contingency table\n",
        "contingency_exam = [[29757, 6625],\n",
        "                    [6082, 2475]]\n",
        "\n",
        "# Hypothesis\n",
        "print('Ho >> No association between the exam types \"Control\" and \"Primera vez\" purchase rates')\n",
        "print('H1 >> There is an association the exam types \"Control\" and \"Primera vez\" purchase rates', '\\n')\n",
        "\n",
        "chi2, pval, dof, expected = chi2_contingency(contingency_exam)\n",
        "\n",
        "print('Expected values if there is NO Association:')\n",
        "print(expected, '\\n')\n",
        "\n",
        "print(f'P-Value: {pval}')\n",
        "print('Significant Threshold: 0.05', '\\n')\n",
        "\n",
        "print('We can conclude with a 95% confidence that there IS an association between the exam types \"Contol\" and \"Primera vez\" purchase rates')\n",
        "print('Even though exams of \"Primera vez\" have been the least prescribed of the two, its purchase rate is just 10% lower at 71.07%')\n",
        "print('than \"Control\" at 81.7%')"
      ],
      "execution_count": null,
      "outputs": [
        {
          "output_type": "stream",
          "name": "stdout",
          "text": [
            "Ho >> No association between the exam types \"Control\" and \"Primera vez\" purchase rates\n",
            "H1 >> There is an association the exam types \"Control\" and \"Primera vez\" purchase rates \n",
            "\n",
            "Expected values if there is NO Association:\n",
            "[[29014.76441398  7367.23558602]\n",
            " [ 6824.23558602  1732.76441398]] \n",
            "\n",
            "P-Value: 5.867143595843355e-109\n",
            "Significant Threshold: 0.05 \n",
            "\n",
            "We can conclude with a 95% confidence that there IS an association between the exam types \"Contol\" and \"Primera vez\" purchase rates\n",
            "Even though exams of \"Primera vez\" have been the least prescribed of the two, its purchase rate is just 10% lower at 71.07%\n",
            "than \"Control\" at 81.7%\n"
          ]
        }
      ]
    },
    {
      "cell_type": "markdown",
      "metadata": {
        "id": "FcM_wZP7f7Dx"
      },
      "source": [
        "![purple-divider](https://user-images.githubusercontent.com/7065401/52071927-c1cd7100-2562-11e9-908a-dde91ba14e59.png)"
      ]
    },
    {
      "cell_type": "markdown",
      "metadata": {
        "id": "M1yGBMwWf_V8"
      },
      "source": [
        "## Feature Encoding"
      ]
    },
    {
      "cell_type": "markdown",
      "metadata": {
        "id": "UbNiE70ucHaa"
      },
      "source": [
        "#### Sex Encoding \n",
        "- F >> female will be mapped to 0 >> 80.7% purchase rate\n",
        "- M >> male will be mapped to 1 >> 80 % purchase rate\n",
        "\n",
        "\n",
        "\n",
        "#### Age Encoding\n",
        "- is_51_76 >> 1 if True >> 82.5% purchase rate\n",
        "- is_76_101 >> 1 if True >> 85.74% purchase rate\n",
        "\n",
        "#### Plan Type Encoding is_plan_particular\n",
        "- EPS >> will be mapped to 0 >> 78.48% purchase rate\n",
        "- Particular >> will be mapped to 1 >> 84.8% purchase rate\n",
        "\n",
        "#### Product Type Encoding \n",
        "- is_fm002 (THC) >> 1 >> 84.3% purchase rate\n",
        "- is_fm001 (CBD) >> 1 >> 79.8% purchase rate\n",
        "\n",
        "#### City/Town Encoding\n",
        "- is_Mosquera >> 1 >> 83.6% purchase rate \n",
        "- is_Medellin >> 1 >> 82.9% purchase rate\n",
        "- is_Bogota >> 1 >> 81.5% purchase rate\n",
        "\n",
        "#### Diagnostic Encoding\n",
        "- other cronic_pain >> 1 >> 83.3% purchase rate\n",
        "- is_anxiety_depression >> 1 >> 81.7% purchase rate\n",
        "- is_cronic_pain_uncu >> 1 >> 80.8% purchase rate\n",
        "\n",
        "### Exam Type Encoding\n",
        "- is_control >> 1 >> 81.7% purchase rate\n",
        "\n",
        "\n"
      ]
    },
    {
      "cell_type": "code",
      "metadata": {
        "id": "w0rSy-rkcFP3"
      },
      "source": [
        "# create sex column\n",
        "df_proced_sales['Sex'] = [0 if df_proced_sales.loc[index, 'Sexo'] == 'F' else 1 for index in df_proced_sales.index]\n",
        "\n",
        "# create is_51_76\n",
        "df_proced_sales['is_51_76'] = [1 if df_proced_sales.loc[index, 'age_group'] == pd.Interval(51.0, 76.0) else 0\\\n",
        "                              for index in df_proced_sales.index]\n",
        "\n",
        "# create is_76_101\n",
        "df_proced_sales['is_76_101'] = [1 if df_proced_sales.loc[index, 'age_group'] == pd.Interval(76.0, 101.0) else 0\\\n",
        "                                for index in df_proced_sales.index]\n",
        "\n",
        "# create is_plan_particular\n",
        "df_proced_sales['is_plan_particular'] = [1 if df_proced_sales.loc[index, 'Tipo Plan'] == 'Particular' else 0\\\n",
        "                                         for index in df_proced_sales.index]\n",
        "\n",
        "# create is_fm002\n",
        "df_proced_sales['is_fm002'] = [1 if df_proced_sales.loc[index, 'CodProducto'] == 'fm002' else 0\\\n",
        "                               for index in df_proced_sales.index]\n",
        "\n",
        "# create is_fm001\n",
        "df_proced_sales['is_fm001'] = [1 if df_proced_sales.loc[index, 'CodProducto'] == 'fm001' else 0\\\n",
        "                              for index in df_proced_sales.index]\n",
        "\n",
        "# create is_Medellin\n",
        "df_proced_sales['is_Medellin'] = [1 if df_proced_sales.loc[index, 'CiudadMunicipio'] == 'MEDELLÍN' else 0\\\n",
        "                                  for index in df_proced_sales.index]\n",
        "\n",
        "# create is_Mosquera\n",
        "df_proced_sales['is_Mosquera'] = [1 if df_proced_sales.loc[index, 'CiudadMunicipio'] == 'MOSQUERA' else 0\\\n",
        "                                  for index in df_proced_sales.index]\n",
        "\n",
        "# create is_Bogota\n",
        "df_proced_sales['is_Bogota'] = [1 if df_proced_sales.loc[index, 'CiudadMunicipio'] == 'BOGOTÁ D.C.' else 0\\\n",
        "                                for index in df_proced_sales.index]\n",
        "\n",
        "# create other_cronic_pain\n",
        "df_proced_sales['is_cronic_pain'] = [1 if df_proced_sales.loc[index, 'Diagnostico'] == 'OTRO DOLOR CRONICO' else 0\\\n",
        "                                     for index in df_proced_sales.index]\n",
        "# create anxiety_depression\n",
        "df_proced_sales['is_anxiety_depres'] = [1 if df_proced_sales.loc[index, 'Diagnostico'] == 'TRASTORNO MIXTO DE ANSIEDAD YDEPRESION'\\\n",
        "                                        else 0 for index in df_proced_sales.index]\n",
        "\n",
        "# create cronic_pain_uncu\n",
        "df_proced_sales['is_cronic_pain_uncu'] = [1 if df_proced_sales.loc[index, 'Diagnostico'] == 'DOLOR CRONICO INTRATABLE' else 0\\\n",
        "                                       for index in df_proced_sales.index]\n",
        "\n",
        "# create is_control\n",
        "df_proced_sales['is_control'] = [1 if df_proced_sales.loc[index, 'Tipo Examen'] == 'Control' else 0\\\n",
        "                                 for index in df_proced_sales.index]\n",
        "\n"
      ],
      "execution_count": null,
      "outputs": []
    },
    {
      "cell_type": "code",
      "metadata": {
        "colab": {
          "base_uri": "https://localhost:8080/",
          "height": 365
        },
        "id": "P0_92zA3e-QD",
        "outputId": "2eb6b6e3-21d2-4861-bad5-0c1ea08bc50f"
      },
      "source": [
        "# check column creation\n",
        "df_proced_sales.head()"
      ],
      "execution_count": null,
      "outputs": [
        {
          "output_type": "execute_result",
          "data": {
            "text/html": [
              "<div>\n",
              "<style scoped>\n",
              "    .dataframe tbody tr th:only-of-type {\n",
              "        vertical-align: middle;\n",
              "    }\n",
              "\n",
              "    .dataframe tbody tr th {\n",
              "        vertical-align: top;\n",
              "    }\n",
              "\n",
              "    .dataframe thead th {\n",
              "        text-align: right;\n",
              "    }\n",
              "</style>\n",
              "<table border=\"1\" class=\"dataframe\">\n",
              "  <thead>\n",
              "    <tr style=\"text-align: right;\">\n",
              "      <th></th>\n",
              "      <th>Ingreso</th>\n",
              "      <th>DocPaciente</th>\n",
              "      <th>age_group</th>\n",
              "      <th>Sexo</th>\n",
              "      <th>CiudadMunicipio</th>\n",
              "      <th>Diagnostico</th>\n",
              "      <th>Tipo Plan</th>\n",
              "      <th>FechaFormulacion</th>\n",
              "      <th>CodProducto</th>\n",
              "      <th>Cantidad</th>\n",
              "      <th>Plan/Servicio</th>\n",
              "      <th>Sede</th>\n",
              "      <th>Month</th>\n",
              "      <th>Year</th>\n",
              "      <th>month_sold</th>\n",
              "      <th>year_sold</th>\n",
              "      <th>FM_buyer</th>\n",
              "      <th>Tipo Examen</th>\n",
              "      <th>Sex</th>\n",
              "      <th>is_51_76</th>\n",
              "      <th>is_76_101</th>\n",
              "      <th>is_plan_particular</th>\n",
              "      <th>is_fm002</th>\n",
              "      <th>is_fm001</th>\n",
              "      <th>is_Medellin</th>\n",
              "      <th>is_Mosquera</th>\n",
              "      <th>is_Bogota</th>\n",
              "      <th>is_cronic_pain</th>\n",
              "      <th>is_anxiety_depres</th>\n",
              "      <th>is_cronic_pain_uncu</th>\n",
              "      <th>is_control</th>\n",
              "    </tr>\n",
              "  </thead>\n",
              "  <tbody>\n",
              "    <tr>\n",
              "      <th>0</th>\n",
              "      <td>26928</td>\n",
              "      <td>19059029</td>\n",
              "      <td>(51.0, 76.0]</td>\n",
              "      <td>M</td>\n",
              "      <td>BOGOTÁ D.C.</td>\n",
              "      <td>NaN</td>\n",
              "      <td>Particular</td>\n",
              "      <td>2020-03-19</td>\n",
              "      <td>fm001</td>\n",
              "      <td>1</td>\n",
              "      <td>Neurologia</td>\n",
              "      <td>ZERENIA</td>\n",
              "      <td>3</td>\n",
              "      <td>2020</td>\n",
              "      <td>3.0</td>\n",
              "      <td>2020.0</td>\n",
              "      <td>1</td>\n",
              "      <td>NaN</td>\n",
              "      <td>1</td>\n",
              "      <td>1</td>\n",
              "      <td>0</td>\n",
              "      <td>1</td>\n",
              "      <td>0</td>\n",
              "      <td>1</td>\n",
              "      <td>0</td>\n",
              "      <td>0</td>\n",
              "      <td>1</td>\n",
              "      <td>0</td>\n",
              "      <td>0</td>\n",
              "      <td>0</td>\n",
              "      <td>0</td>\n",
              "    </tr>\n",
              "    <tr>\n",
              "      <th>1</th>\n",
              "      <td>26806</td>\n",
              "      <td>390646</td>\n",
              "      <td>(76.0, 101.0]</td>\n",
              "      <td>M</td>\n",
              "      <td>BOGOTÁ D.C.</td>\n",
              "      <td>NEURALGIA POSTHERPES ZOSTER(B02.2†)</td>\n",
              "      <td>Particular</td>\n",
              "      <td>2020-03-19</td>\n",
              "      <td>fm001</td>\n",
              "      <td>1</td>\n",
              "      <td>Consulta Dolor y Cuidados Paliativos</td>\n",
              "      <td>ZERENIA</td>\n",
              "      <td>3</td>\n",
              "      <td>2020</td>\n",
              "      <td>3.0</td>\n",
              "      <td>2020.0</td>\n",
              "      <td>1</td>\n",
              "      <td>Primera vez</td>\n",
              "      <td>1</td>\n",
              "      <td>0</td>\n",
              "      <td>1</td>\n",
              "      <td>1</td>\n",
              "      <td>0</td>\n",
              "      <td>1</td>\n",
              "      <td>0</td>\n",
              "      <td>0</td>\n",
              "      <td>1</td>\n",
              "      <td>0</td>\n",
              "      <td>0</td>\n",
              "      <td>0</td>\n",
              "      <td>0</td>\n",
              "    </tr>\n",
              "    <tr>\n",
              "      <th>2</th>\n",
              "      <td>26846</td>\n",
              "      <td>41595666</td>\n",
              "      <td>(51.0, 76.0]</td>\n",
              "      <td>F</td>\n",
              "      <td>CAJICÁ</td>\n",
              "      <td>NaN</td>\n",
              "      <td>Particular</td>\n",
              "      <td>2020-03-19</td>\n",
              "      <td>fm001</td>\n",
              "      <td>1</td>\n",
              "      <td>Neurologia</td>\n",
              "      <td>ZERENIA</td>\n",
              "      <td>3</td>\n",
              "      <td>2020</td>\n",
              "      <td>3.0</td>\n",
              "      <td>2020.0</td>\n",
              "      <td>1</td>\n",
              "      <td>NaN</td>\n",
              "      <td>0</td>\n",
              "      <td>1</td>\n",
              "      <td>0</td>\n",
              "      <td>1</td>\n",
              "      <td>0</td>\n",
              "      <td>1</td>\n",
              "      <td>0</td>\n",
              "      <td>0</td>\n",
              "      <td>0</td>\n",
              "      <td>0</td>\n",
              "      <td>0</td>\n",
              "      <td>0</td>\n",
              "      <td>0</td>\n",
              "    </tr>\n",
              "    <tr>\n",
              "      <th>3</th>\n",
              "      <td>26861</td>\n",
              "      <td>41499724</td>\n",
              "      <td>(51.0, 76.0]</td>\n",
              "      <td>F</td>\n",
              "      <td>BOGOTÁ D.C.</td>\n",
              "      <td>NaN</td>\n",
              "      <td>Particular</td>\n",
              "      <td>2020-03-19</td>\n",
              "      <td>fm001</td>\n",
              "      <td>1</td>\n",
              "      <td>Neurologia</td>\n",
              "      <td>ZERENIA</td>\n",
              "      <td>3</td>\n",
              "      <td>2020</td>\n",
              "      <td>3.0</td>\n",
              "      <td>2020.0</td>\n",
              "      <td>1</td>\n",
              "      <td>NaN</td>\n",
              "      <td>0</td>\n",
              "      <td>1</td>\n",
              "      <td>0</td>\n",
              "      <td>1</td>\n",
              "      <td>0</td>\n",
              "      <td>1</td>\n",
              "      <td>0</td>\n",
              "      <td>0</td>\n",
              "      <td>1</td>\n",
              "      <td>0</td>\n",
              "      <td>0</td>\n",
              "      <td>0</td>\n",
              "      <td>0</td>\n",
              "    </tr>\n",
              "    <tr>\n",
              "      <th>4</th>\n",
              "      <td>26956</td>\n",
              "      <td>52863476</td>\n",
              "      <td>(26.0, 51.0]</td>\n",
              "      <td>F</td>\n",
              "      <td>BOGOTÁ D.C.</td>\n",
              "      <td>FIBROMIALGIA</td>\n",
              "      <td>Particular</td>\n",
              "      <td>2020-03-19</td>\n",
              "      <td>fm001</td>\n",
              "      <td>2</td>\n",
              "      <td>Consulta Dolor y Cuidados Paliativos</td>\n",
              "      <td>ZERENIA</td>\n",
              "      <td>3</td>\n",
              "      <td>2020</td>\n",
              "      <td>NaN</td>\n",
              "      <td>NaN</td>\n",
              "      <td>0</td>\n",
              "      <td>Primera vez</td>\n",
              "      <td>0</td>\n",
              "      <td>0</td>\n",
              "      <td>0</td>\n",
              "      <td>1</td>\n",
              "      <td>0</td>\n",
              "      <td>1</td>\n",
              "      <td>0</td>\n",
              "      <td>0</td>\n",
              "      <td>1</td>\n",
              "      <td>0</td>\n",
              "      <td>0</td>\n",
              "      <td>0</td>\n",
              "      <td>0</td>\n",
              "    </tr>\n",
              "  </tbody>\n",
              "</table>\n",
              "</div>"
            ],
            "text/plain": [
              "   Ingreso DocPaciente  ... is_cronic_pain_uncu is_control\n",
              "0    26928    19059029  ...                   0          0\n",
              "1    26806      390646  ...                   0          0\n",
              "2    26846    41595666  ...                   0          0\n",
              "3    26861    41499724  ...                   0          0\n",
              "4    26956    52863476  ...                   0          0\n",
              "\n",
              "[5 rows x 31 columns]"
            ]
          },
          "metadata": {},
          "execution_count": 82
        }
      ]
    },
    {
      "cell_type": "code",
      "metadata": {
        "colab": {
          "base_uri": "https://localhost:8080/",
          "height": 226
        },
        "id": "KSTUK6tTirZI",
        "outputId": "e1ebfc8c-ed66-478a-9413-ccfaa94e9854"
      },
      "source": [
        "# features & label df\n",
        "df_features_labels = df_proced_sales[['Ingreso', 'Sex', 'is_51_76', 'is_76_101', 'is_plan_particular', 'is_fm002',\\\n",
        "                                      'is_fm001', 'is_Medellin', 'is_Mosquera', 'is_Bogota', 'is_cronic_pain',\\\n",
        "                                      'is_anxiety_depres', 'is_cronic_pain_uncu', 'is_control', 'FM_buyer']]\n",
        "\n",
        "df_features_labels.head()"
      ],
      "execution_count": null,
      "outputs": [
        {
          "output_type": "execute_result",
          "data": {
            "text/html": [
              "<div>\n",
              "<style scoped>\n",
              "    .dataframe tbody tr th:only-of-type {\n",
              "        vertical-align: middle;\n",
              "    }\n",
              "\n",
              "    .dataframe tbody tr th {\n",
              "        vertical-align: top;\n",
              "    }\n",
              "\n",
              "    .dataframe thead th {\n",
              "        text-align: right;\n",
              "    }\n",
              "</style>\n",
              "<table border=\"1\" class=\"dataframe\">\n",
              "  <thead>\n",
              "    <tr style=\"text-align: right;\">\n",
              "      <th></th>\n",
              "      <th>Ingreso</th>\n",
              "      <th>Sex</th>\n",
              "      <th>is_51_76</th>\n",
              "      <th>is_76_101</th>\n",
              "      <th>is_plan_particular</th>\n",
              "      <th>is_fm002</th>\n",
              "      <th>is_fm001</th>\n",
              "      <th>is_Medellin</th>\n",
              "      <th>is_Mosquera</th>\n",
              "      <th>is_Bogota</th>\n",
              "      <th>is_cronic_pain</th>\n",
              "      <th>is_anxiety_depres</th>\n",
              "      <th>is_cronic_pain_uncu</th>\n",
              "      <th>is_control</th>\n",
              "      <th>FM_buyer</th>\n",
              "    </tr>\n",
              "  </thead>\n",
              "  <tbody>\n",
              "    <tr>\n",
              "      <th>0</th>\n",
              "      <td>26928</td>\n",
              "      <td>1</td>\n",
              "      <td>1</td>\n",
              "      <td>0</td>\n",
              "      <td>1</td>\n",
              "      <td>0</td>\n",
              "      <td>1</td>\n",
              "      <td>0</td>\n",
              "      <td>0</td>\n",
              "      <td>1</td>\n",
              "      <td>0</td>\n",
              "      <td>0</td>\n",
              "      <td>0</td>\n",
              "      <td>0</td>\n",
              "      <td>1</td>\n",
              "    </tr>\n",
              "    <tr>\n",
              "      <th>1</th>\n",
              "      <td>26806</td>\n",
              "      <td>1</td>\n",
              "      <td>0</td>\n",
              "      <td>1</td>\n",
              "      <td>1</td>\n",
              "      <td>0</td>\n",
              "      <td>1</td>\n",
              "      <td>0</td>\n",
              "      <td>0</td>\n",
              "      <td>1</td>\n",
              "      <td>0</td>\n",
              "      <td>0</td>\n",
              "      <td>0</td>\n",
              "      <td>0</td>\n",
              "      <td>1</td>\n",
              "    </tr>\n",
              "    <tr>\n",
              "      <th>2</th>\n",
              "      <td>26846</td>\n",
              "      <td>0</td>\n",
              "      <td>1</td>\n",
              "      <td>0</td>\n",
              "      <td>1</td>\n",
              "      <td>0</td>\n",
              "      <td>1</td>\n",
              "      <td>0</td>\n",
              "      <td>0</td>\n",
              "      <td>0</td>\n",
              "      <td>0</td>\n",
              "      <td>0</td>\n",
              "      <td>0</td>\n",
              "      <td>0</td>\n",
              "      <td>1</td>\n",
              "    </tr>\n",
              "    <tr>\n",
              "      <th>3</th>\n",
              "      <td>26861</td>\n",
              "      <td>0</td>\n",
              "      <td>1</td>\n",
              "      <td>0</td>\n",
              "      <td>1</td>\n",
              "      <td>0</td>\n",
              "      <td>1</td>\n",
              "      <td>0</td>\n",
              "      <td>0</td>\n",
              "      <td>1</td>\n",
              "      <td>0</td>\n",
              "      <td>0</td>\n",
              "      <td>0</td>\n",
              "      <td>0</td>\n",
              "      <td>1</td>\n",
              "    </tr>\n",
              "    <tr>\n",
              "      <th>4</th>\n",
              "      <td>26956</td>\n",
              "      <td>0</td>\n",
              "      <td>0</td>\n",
              "      <td>0</td>\n",
              "      <td>1</td>\n",
              "      <td>0</td>\n",
              "      <td>1</td>\n",
              "      <td>0</td>\n",
              "      <td>0</td>\n",
              "      <td>1</td>\n",
              "      <td>0</td>\n",
              "      <td>0</td>\n",
              "      <td>0</td>\n",
              "      <td>0</td>\n",
              "      <td>0</td>\n",
              "    </tr>\n",
              "  </tbody>\n",
              "</table>\n",
              "</div>"
            ],
            "text/plain": [
              "   Ingreso  Sex  is_51_76  ...  is_cronic_pain_uncu  is_control  FM_buyer\n",
              "0    26928    1         1  ...                    0           0         1\n",
              "1    26806    1         0  ...                    0           0         1\n",
              "2    26846    0         1  ...                    0           0         1\n",
              "3    26861    0         1  ...                    0           0         1\n",
              "4    26956    0         0  ...                    0           0         0\n",
              "\n",
              "[5 rows x 15 columns]"
            ]
          },
          "metadata": {},
          "execution_count": 83
        }
      ]
    },
    {
      "cell_type": "markdown",
      "metadata": {
        "id": "lsTC1QhULOYd"
      },
      "source": [
        "![green-divider](https://user-images.githubusercontent.com/7065401/52071924-c003ad80-2562-11e9-8297-1c6595f8a7ff.png)\n",
        "\n"
      ]
    },
    {
      "cell_type": "markdown",
      "metadata": {
        "id": "A1QYSbf6LaVw"
      },
      "source": [
        "### Features Correlation"
      ]
    },
    {
      "cell_type": "code",
      "metadata": {
        "colab": {
          "base_uri": "https://localhost:8080/",
          "height": 812
        },
        "id": "XB72BSb9Lcvn",
        "outputId": "b359348c-72d4-42f2-ef4b-49aaa2301348"
      },
      "source": [
        "# heatmap of features correlation\n",
        "\n",
        "f, ax = plt.subplots(figsize=(14, 12))\n",
        "\n",
        "# df of only features\n",
        "df_corr = df_features_labels[df_features_labels.columns[:-1]]\n",
        "sns.heatmap(df_corr.corr(), vmin=-1, vmax=1, annot=True, cmap='YlGnBu_r')\n",
        "\n",
        "plt.title('Features Correlation Heatmap', pad=12)\n",
        "\n",
        "plt.show()"
      ],
      "execution_count": null,
      "outputs": [
        {
          "output_type": "display_data",
          "data": {
            "image/png": "[encoded data removed]",
            "text/plain": [
              "<Figure size 1008x864 with 2 Axes>"
            ]
          },
          "metadata": {
            "needs_background": "light"
          }
        }
      ]
    },
    {
      "cell_type": "markdown",
      "metadata": {
        "id": "GPXCR98EONez"
      },
      "source": [
        "As can be seen in the Correlation Heatmap above, there is none or little *Multicolinearity* between the features, which makes it suitable for a Logistic Regression Model."
      ]
    },
    {
      "cell_type": "markdown",
      "metadata": {
        "id": "yYeZeIT4OyJb"
      },
      "source": [
        "![purple-divider](https://user-images.githubusercontent.com/7065401/52071927-c1cd7100-2562-11e9-908a-dde91ba14e59.png)"
      ]
    },
    {
      "cell_type": "markdown",
      "metadata": {
        "id": "9CCRF5dlO49q"
      },
      "source": [
        "## Logistic Regression Model\n",
        "\n",
        "Supervised Classification Algorithm that uses regression to predict if a data sample belongs to a specific category or class. For this case it will classify a patient prescribed with FM as a buyer(1) or non_buyer(0)\n",
        "\n",
        "- Calculate Log Odds >> the probability of a sample belonging to the positive class (patient bought FM precribed)\n",
        "  - odds = P(event occurring) / P(event not occurring)\n",
        "  - Z = b0 + b1x1 + ... bnXn\n",
        "\n",
        "- Pass Log Odds to Sigmoid Function >> map Log Odds Z to the range [0, 1]\n",
        "  - h(Z) = 1 / (1 + exp**-Z) "
      ]
    },
    {
      "cell_type": "markdown",
      "metadata": {
        "id": "b2BvHv0lUypS"
      },
      "source": [
        "### Features for the Model"
      ]
    },
    {
      "cell_type": "code",
      "metadata": {
        "colab": {
          "base_uri": "https://localhost:8080/",
          "height": 206
        },
        "id": "P-k7EJkCVCgz",
        "outputId": "dc881b53-8758-4e7d-fa07-48ecc7649eb8"
      },
      "source": [
        "# features df\n",
        "features = df_features_labels[['Sex', 'is_51_76', 'is_76_101', 'is_plan_particular', 'is_fm002',\\\n",
        "                               'is_fm001', 'is_Medellin', 'is_Mosquera', 'is_Bogota', 'is_cronic_pain',\\\n",
        "                               'is_anxiety_depres', 'is_cronic_pain_uncu', 'is_control']]\n",
        "features.head()"
      ],
      "execution_count": null,
      "outputs": [
        {
          "output_type": "execute_result",
          "data": {
            "text/html": [
              "<div>\n",
              "<style scoped>\n",
              "    .dataframe tbody tr th:only-of-type {\n",
              "        vertical-align: middle;\n",
              "    }\n",
              "\n",
              "    .dataframe tbody tr th {\n",
              "        vertical-align: top;\n",
              "    }\n",
              "\n",
              "    .dataframe thead th {\n",
              "        text-align: right;\n",
              "    }\n",
              "</style>\n",
              "<table border=\"1\" class=\"dataframe\">\n",
              "  <thead>\n",
              "    <tr style=\"text-align: right;\">\n",
              "      <th></th>\n",
              "      <th>Sex</th>\n",
              "      <th>is_51_76</th>\n",
              "      <th>is_76_101</th>\n",
              "      <th>is_plan_particular</th>\n",
              "      <th>is_fm002</th>\n",
              "      <th>is_fm001</th>\n",
              "      <th>is_Medellin</th>\n",
              "      <th>is_Mosquera</th>\n",
              "      <th>is_Bogota</th>\n",
              "      <th>is_cronic_pain</th>\n",
              "      <th>is_anxiety_depres</th>\n",
              "      <th>is_cronic_pain_uncu</th>\n",
              "      <th>is_control</th>\n",
              "    </tr>\n",
              "  </thead>\n",
              "  <tbody>\n",
              "    <tr>\n",
              "      <th>0</th>\n",
              "      <td>1</td>\n",
              "      <td>1</td>\n",
              "      <td>0</td>\n",
              "      <td>1</td>\n",
              "      <td>0</td>\n",
              "      <td>1</td>\n",
              "      <td>0</td>\n",
              "      <td>0</td>\n",
              "      <td>1</td>\n",
              "      <td>0</td>\n",
              "      <td>0</td>\n",
              "      <td>0</td>\n",
              "      <td>0</td>\n",
              "    </tr>\n",
              "    <tr>\n",
              "      <th>1</th>\n",
              "      <td>1</td>\n",
              "      <td>0</td>\n",
              "      <td>1</td>\n",
              "      <td>1</td>\n",
              "      <td>0</td>\n",
              "      <td>1</td>\n",
              "      <td>0</td>\n",
              "      <td>0</td>\n",
              "      <td>1</td>\n",
              "      <td>0</td>\n",
              "      <td>0</td>\n",
              "      <td>0</td>\n",
              "      <td>0</td>\n",
              "    </tr>\n",
              "    <tr>\n",
              "      <th>2</th>\n",
              "      <td>0</td>\n",
              "      <td>1</td>\n",
              "      <td>0</td>\n",
              "      <td>1</td>\n",
              "      <td>0</td>\n",
              "      <td>1</td>\n",
              "      <td>0</td>\n",
              "      <td>0</td>\n",
              "      <td>0</td>\n",
              "      <td>0</td>\n",
              "      <td>0</td>\n",
              "      <td>0</td>\n",
              "      <td>0</td>\n",
              "    </tr>\n",
              "    <tr>\n",
              "      <th>3</th>\n",
              "      <td>0</td>\n",
              "      <td>1</td>\n",
              "      <td>0</td>\n",
              "      <td>1</td>\n",
              "      <td>0</td>\n",
              "      <td>1</td>\n",
              "      <td>0</td>\n",
              "      <td>0</td>\n",
              "      <td>1</td>\n",
              "      <td>0</td>\n",
              "      <td>0</td>\n",
              "      <td>0</td>\n",
              "      <td>0</td>\n",
              "    </tr>\n",
              "    <tr>\n",
              "      <th>4</th>\n",
              "      <td>0</td>\n",
              "      <td>0</td>\n",
              "      <td>0</td>\n",
              "      <td>1</td>\n",
              "      <td>0</td>\n",
              "      <td>1</td>\n",
              "      <td>0</td>\n",
              "      <td>0</td>\n",
              "      <td>1</td>\n",
              "      <td>0</td>\n",
              "      <td>0</td>\n",
              "      <td>0</td>\n",
              "      <td>0</td>\n",
              "    </tr>\n",
              "  </tbody>\n",
              "</table>\n",
              "</div>"
            ],
            "text/plain": [
              "   Sex  is_51_76  is_76_101  ...  is_anxiety_depres  is_cronic_pain_uncu  is_control\n",
              "0    1         1          0  ...                  0                    0           0\n",
              "1    1         0          1  ...                  0                    0           0\n",
              "2    0         1          0  ...                  0                    0           0\n",
              "3    0         1          0  ...                  0                    0           0\n",
              "4    0         0          0  ...                  0                    0           0\n",
              "\n",
              "[5 rows x 13 columns]"
            ]
          },
          "metadata": {},
          "execution_count": 85
        }
      ]
    },
    {
      "cell_type": "code",
      "metadata": {
        "colab": {
          "base_uri": "https://localhost:8080/",
          "height": 320
        },
        "id": "1rC_ie07V7eP",
        "outputId": "b76fb67c-0bd1-4818-9920-2a99b8f97411"
      },
      "source": [
        "# descriptive statistics of features\n",
        "features.describe()"
      ],
      "execution_count": null,
      "outputs": [
        {
          "output_type": "execute_result",
          "data": {
            "text/html": [
              "<div>\n",
              "<style scoped>\n",
              "    .dataframe tbody tr th:only-of-type {\n",
              "        vertical-align: middle;\n",
              "    }\n",
              "\n",
              "    .dataframe tbody tr th {\n",
              "        vertical-align: top;\n",
              "    }\n",
              "\n",
              "    .dataframe thead th {\n",
              "        text-align: right;\n",
              "    }\n",
              "</style>\n",
              "<table border=\"1\" class=\"dataframe\">\n",
              "  <thead>\n",
              "    <tr style=\"text-align: right;\">\n",
              "      <th></th>\n",
              "      <th>Sex</th>\n",
              "      <th>is_51_76</th>\n",
              "      <th>is_76_101</th>\n",
              "      <th>is_plan_particular</th>\n",
              "      <th>is_fm002</th>\n",
              "      <th>is_fm001</th>\n",
              "      <th>is_Medellin</th>\n",
              "      <th>is_Mosquera</th>\n",
              "      <th>is_Bogota</th>\n",
              "      <th>is_cronic_pain</th>\n",
              "      <th>is_anxiety_depres</th>\n",
              "      <th>is_cronic_pain_uncu</th>\n",
              "      <th>is_control</th>\n",
              "    </tr>\n",
              "  </thead>\n",
              "  <tbody>\n",
              "    <tr>\n",
              "      <th>count</th>\n",
              "      <td>35149.000000</td>\n",
              "      <td>35149.000000</td>\n",
              "      <td>35149.000000</td>\n",
              "      <td>35149.000000</td>\n",
              "      <td>35149.000000</td>\n",
              "      <td>35149.000000</td>\n",
              "      <td>35149.000000</td>\n",
              "      <td>35149.000000</td>\n",
              "      <td>35149.000000</td>\n",
              "      <td>35149.000000</td>\n",
              "      <td>35149.000000</td>\n",
              "      <td>35149.000000</td>\n",
              "      <td>35149.000000</td>\n",
              "    </tr>\n",
              "    <tr>\n",
              "      <th>mean</th>\n",
              "      <td>0.290535</td>\n",
              "      <td>0.533842</td>\n",
              "      <td>0.132436</td>\n",
              "      <td>0.386185</td>\n",
              "      <td>0.018948</td>\n",
              "      <td>0.561211</td>\n",
              "      <td>0.025719</td>\n",
              "      <td>0.011921</td>\n",
              "      <td>0.675695</td>\n",
              "      <td>0.326439</td>\n",
              "      <td>0.037640</td>\n",
              "      <td>0.193775</td>\n",
              "      <td>0.707815</td>\n",
              "    </tr>\n",
              "    <tr>\n",
              "      <th>std</th>\n",
              "      <td>0.454016</td>\n",
              "      <td>0.498861</td>\n",
              "      <td>0.338969</td>\n",
              "      <td>0.486881</td>\n",
              "      <td>0.136343</td>\n",
              "      <td>0.496246</td>\n",
              "      <td>0.158298</td>\n",
              "      <td>0.108531</td>\n",
              "      <td>0.468121</td>\n",
              "      <td>0.468917</td>\n",
              "      <td>0.190326</td>\n",
              "      <td>0.395260</td>\n",
              "      <td>0.454773</td>\n",
              "    </tr>\n",
              "    <tr>\n",
              "      <th>min</th>\n",
              "      <td>0.000000</td>\n",
              "      <td>0.000000</td>\n",
              "      <td>0.000000</td>\n",
              "      <td>0.000000</td>\n",
              "      <td>0.000000</td>\n",
              "      <td>0.000000</td>\n",
              "      <td>0.000000</td>\n",
              "      <td>0.000000</td>\n",
              "      <td>0.000000</td>\n",
              "      <td>0.000000</td>\n",
              "      <td>0.000000</td>\n",
              "      <td>0.000000</td>\n",
              "      <td>0.000000</td>\n",
              "    </tr>\n",
              "    <tr>\n",
              "      <th>25%</th>\n",
              "      <td>0.000000</td>\n",
              "      <td>0.000000</td>\n",
              "      <td>0.000000</td>\n",
              "      <td>0.000000</td>\n",
              "      <td>0.000000</td>\n",
              "      <td>0.000000</td>\n",
              "      <td>0.000000</td>\n",
              "      <td>0.000000</td>\n",
              "      <td>0.000000</td>\n",
              "      <td>0.000000</td>\n",
              "      <td>0.000000</td>\n",
              "      <td>0.000000</td>\n",
              "      <td>0.000000</td>\n",
              "    </tr>\n",
              "    <tr>\n",
              "      <th>50%</th>\n",
              "      <td>0.000000</td>\n",
              "      <td>1.000000</td>\n",
              "      <td>0.000000</td>\n",
              "      <td>0.000000</td>\n",
              "      <td>0.000000</td>\n",
              "      <td>1.000000</td>\n",
              "      <td>0.000000</td>\n",
              "      <td>0.000000</td>\n",
              "      <td>1.000000</td>\n",
              "      <td>0.000000</td>\n",
              "      <td>0.000000</td>\n",
              "      <td>0.000000</td>\n",
              "      <td>1.000000</td>\n",
              "    </tr>\n",
              "    <tr>\n",
              "      <th>75%</th>\n",
              "      <td>1.000000</td>\n",
              "      <td>1.000000</td>\n",
              "      <td>0.000000</td>\n",
              "      <td>1.000000</td>\n",
              "      <td>0.000000</td>\n",
              "      <td>1.000000</td>\n",
              "      <td>0.000000</td>\n",
              "      <td>0.000000</td>\n",
              "      <td>1.000000</td>\n",
              "      <td>1.000000</td>\n",
              "      <td>0.000000</td>\n",
              "      <td>0.000000</td>\n",
              "      <td>1.000000</td>\n",
              "    </tr>\n",
              "    <tr>\n",
              "      <th>max</th>\n",
              "      <td>1.000000</td>\n",
              "      <td>1.000000</td>\n",
              "      <td>1.000000</td>\n",
              "      <td>1.000000</td>\n",
              "      <td>1.000000</td>\n",
              "      <td>1.000000</td>\n",
              "      <td>1.000000</td>\n",
              "      <td>1.000000</td>\n",
              "      <td>1.000000</td>\n",
              "      <td>1.000000</td>\n",
              "      <td>1.000000</td>\n",
              "      <td>1.000000</td>\n",
              "      <td>1.000000</td>\n",
              "    </tr>\n",
              "  </tbody>\n",
              "</table>\n",
              "</div>"
            ],
            "text/plain": [
              "                Sex      is_51_76  ...  is_cronic_pain_uncu    is_control\n",
              "count  35149.000000  35149.000000  ...         35149.000000  35149.000000\n",
              "mean       0.290535      0.533842  ...             0.193775      0.707815\n",
              "std        0.454016      0.498861  ...             0.395260      0.454773\n",
              "min        0.000000      0.000000  ...             0.000000      0.000000\n",
              "25%        0.000000      0.000000  ...             0.000000      0.000000\n",
              "50%        0.000000      1.000000  ...             0.000000      1.000000\n",
              "75%        1.000000      1.000000  ...             0.000000      1.000000\n",
              "max        1.000000      1.000000  ...             1.000000      1.000000\n",
              "\n",
              "[8 rows x 13 columns]"
            ]
          },
          "metadata": {},
          "execution_count": 86
        }
      ]
    },
    {
      "cell_type": "markdown",
      "metadata": {
        "id": "aWnA2pccWS_v"
      },
      "source": [
        "![green-divider](https://user-images.githubusercontent.com/7065401/52071924-c003ad80-2562-11e9-8297-1c6595f8a7ff.png)\n"
      ]
    },
    {
      "cell_type": "markdown",
      "metadata": {
        "id": "EROAcz2QWWd6"
      },
      "source": [
        "### Labels for the Model"
      ]
    },
    {
      "cell_type": "code",
      "metadata": {
        "colab": {
          "base_uri": "https://localhost:8080/",
          "height": 206
        },
        "id": "mP2Q6S-eWLAF",
        "outputId": "bdedb04f-319c-4f00-d5ec-84cd5ca57ab1"
      },
      "source": [
        "# labels df\n",
        "labels = df_features_labels[['FM_buyer']]\n",
        "\n",
        "labels.head()"
      ],
      "execution_count": null,
      "outputs": [
        {
          "output_type": "execute_result",
          "data": {
            "text/html": [
              "<div>\n",
              "<style scoped>\n",
              "    .dataframe tbody tr th:only-of-type {\n",
              "        vertical-align: middle;\n",
              "    }\n",
              "\n",
              "    .dataframe tbody tr th {\n",
              "        vertical-align: top;\n",
              "    }\n",
              "\n",
              "    .dataframe thead th {\n",
              "        text-align: right;\n",
              "    }\n",
              "</style>\n",
              "<table border=\"1\" class=\"dataframe\">\n",
              "  <thead>\n",
              "    <tr style=\"text-align: right;\">\n",
              "      <th></th>\n",
              "      <th>FM_buyer</th>\n",
              "    </tr>\n",
              "  </thead>\n",
              "  <tbody>\n",
              "    <tr>\n",
              "      <th>0</th>\n",
              "      <td>1</td>\n",
              "    </tr>\n",
              "    <tr>\n",
              "      <th>1</th>\n",
              "      <td>1</td>\n",
              "    </tr>\n",
              "    <tr>\n",
              "      <th>2</th>\n",
              "      <td>1</td>\n",
              "    </tr>\n",
              "    <tr>\n",
              "      <th>3</th>\n",
              "      <td>1</td>\n",
              "    </tr>\n",
              "    <tr>\n",
              "      <th>4</th>\n",
              "      <td>0</td>\n",
              "    </tr>\n",
              "  </tbody>\n",
              "</table>\n",
              "</div>"
            ],
            "text/plain": [
              "   FM_buyer\n",
              "0         1\n",
              "1         1\n",
              "2         1\n",
              "3         1\n",
              "4         0"
            ]
          },
          "metadata": {},
          "execution_count": 87
        }
      ]
    },
    {
      "cell_type": "code",
      "metadata": {
        "colab": {
          "base_uri": "https://localhost:8080/"
        },
        "id": "88npUAReYk-C",
        "outputId": "99ab0ce7-78f4-4e06-fda4-a66a4d867cd7"
      },
      "source": [
        "# check labels shape\n",
        "labels.shape"
      ],
      "execution_count": null,
      "outputs": [
        {
          "output_type": "execute_result",
          "data": {
            "text/plain": [
              "(35149, 1)"
            ]
          },
          "metadata": {},
          "execution_count": 88
        }
      ]
    },
    {
      "cell_type": "code",
      "metadata": {
        "colab": {
          "base_uri": "https://localhost:8080/"
        },
        "id": "o4yE6F2yYpuq",
        "outputId": "a9594d30-b455-41d2-ef5a-56ac664597d7"
      },
      "source": [
        "# turn labels into numpy array\n",
        "labels = np.array(labels)\n",
        "labels"
      ],
      "execution_count": null,
      "outputs": [
        {
          "output_type": "execute_result",
          "data": {
            "text/plain": [
              "array([[1],\n",
              "       [1],\n",
              "       [1],\n",
              "       ...,\n",
              "       [1],\n",
              "       [0],\n",
              "       [0]])"
            ]
          },
          "metadata": {},
          "execution_count": 89
        }
      ]
    },
    {
      "cell_type": "code",
      "metadata": {
        "colab": {
          "base_uri": "https://localhost:8080/"
        },
        "id": "6F8_0kIZYxRf",
        "outputId": "d833b8d0-4c66-4089-daa3-17f102115642"
      },
      "source": [
        "# change shape to (-1,) so it can be fed to the model\n",
        "labels = labels.reshape(-1,)\n",
        "labels.shape"
      ],
      "execution_count": null,
      "outputs": [
        {
          "output_type": "execute_result",
          "data": {
            "text/plain": [
              "(35149,)"
            ]
          },
          "metadata": {},
          "execution_count": 90
        }
      ]
    },
    {
      "cell_type": "markdown",
      "metadata": {
        "id": "747LL0RmXEuh"
      },
      "source": [
        "![green-divider](https://user-images.githubusercontent.com/7065401/52071924-c003ad80-2562-11e9-8297-1c6595f8a7ff.png)\n"
      ]
    },
    {
      "cell_type": "markdown",
      "metadata": {
        "id": "R8_bQxoXZGCK"
      },
      "source": [
        "### Train Test Split"
      ]
    },
    {
      "cell_type": "code",
      "metadata": {
        "colab": {
          "base_uri": "https://localhost:8080/"
        },
        "id": "9yaIn2JsZIXx",
        "outputId": "0a8e4df0-5684-4594-a128-37d7649deaae"
      },
      "source": [
        "# split data into train and test\n",
        "from sklearn.model_selection import train_test_split\n",
        "\n",
        "features_train, features_test, labels_train, labels_test = train_test_split(features, labels, test_size=0.2, random_state=100)\n",
        "\n",
        "# check length of features_train and labels_train\n",
        "print(f'features_train length: {len(features_train)}')\n",
        "print(f'labels_train length: {len(labels_train)}', '\\n')\n",
        "\n",
        "# check length of features_test and labels_test\n",
        "print(f'features_test length: {len(features_test)}')\n",
        "print(f'labels_test length: {len(labels_test)}')"
      ],
      "execution_count": null,
      "outputs": [
        {
          "output_type": "stream",
          "name": "stdout",
          "text": [
            "features_train length: 28119\n",
            "labels_train length: 28119 \n",
            "\n",
            "features_test length: 7030\n",
            "labels_test length: 7030\n"
          ]
        }
      ]
    },
    {
      "cell_type": "markdown",
      "metadata": {
        "id": "CsUOHNTraUqS"
      },
      "source": [
        "![green-divider](https://user-images.githubusercontent.com/7065401/52071924-c003ad80-2562-11e9-8297-1c6595f8a7ff.png)"
      ]
    },
    {
      "cell_type": "markdown",
      "metadata": {
        "id": "gLeXqLpCaZMf"
      },
      "source": [
        "### Model Creation"
      ]
    },
    {
      "cell_type": "code",
      "metadata": {
        "colab": {
          "base_uri": "https://localhost:8080/"
        },
        "id": "5TSR6NZZaWZL",
        "outputId": "6546124a-5c39-42ea-963b-89d050e02cd4"
      },
      "source": [
        "from sklearn.linear_model import LogisticRegression\n",
        "\n",
        "# create model\n",
        "classifier = LogisticRegression()\n",
        "\n",
        "# train model\n",
        "classifier.fit(features_train, labels_train)"
      ],
      "execution_count": null,
      "outputs": [
        {
          "output_type": "execute_result",
          "data": {
            "text/plain": [
              "LogisticRegression()"
            ]
          },
          "metadata": {},
          "execution_count": 92
        }
      ]
    },
    {
      "cell_type": "code",
      "metadata": {
        "colab": {
          "base_uri": "https://localhost:8080/"
        },
        "id": "3zPnw24-bhvk",
        "outputId": "f548f764-5402-4724-c9c0-d04feb932306"
      },
      "source": [
        "# get coefficients and intercept\n",
        "coefficients = classifier.coef_\n",
        "intercept = classifier.intercept_\n",
        "\n",
        "# print values\n",
        "print(f'Intercept: {intercept}')\n",
        "print(f'Coefficients: {coefficients}')"
      ],
      "execution_count": null,
      "outputs": [
        {
          "output_type": "stream",
          "name": "stdout",
          "text": [
            "Intercept: [0.12412922]\n",
            "Coefficients: [[-0.05119571  0.37634591  0.64663589  0.98425602  0.00242318 -0.14542204\n",
            "   0.23711704  0.28021317  0.22018345  0.55451556  0.3055848   0.29934143\n",
            "   0.4427776 ]]\n"
          ]
        }
      ]
    },
    {
      "cell_type": "code",
      "metadata": {
        "colab": {
          "base_uri": "https://localhost:8080/"
        },
        "id": "_TZIybfNcHv2",
        "outputId": "7b0209df-b322-43d9-d97c-af5c686666b1"
      },
      "source": [
        "# zip coefficients to features\n",
        "list(zip(['Sex', 'is_51_76', 'is_76_101', 'is_plan_particular', 'is_fm002',\\\n",
        "         'is_fm001', 'is_Medellin', 'is_Mosquera', 'is_Bogota', 'is_cronic_pain',\\\n",
        "         'is_anxiety_depres', 'is_cronic_pain_uncu', 'is_control'], coefficients[0]))"
      ],
      "execution_count": null,
      "outputs": [
        {
          "output_type": "execute_result",
          "data": {
            "text/plain": [
              "[('Sex', -0.05119570881130318),\n",
              " ('is_51_76', 0.37634591449254545),\n",
              " ('is_76_101', 0.6466358946169066),\n",
              " ('is_plan_particular', 0.9842560218352566),\n",
              " ('is_fm002', 0.002423175801381454),\n",
              " ('is_fm001', -0.14542203961624373),\n",
              " ('is_Medellin', 0.2371170401490654),\n",
              " ('is_Mosquera', 0.28021317273965707),\n",
              " ('is_Bogota', 0.22018345082406576),\n",
              " ('is_cronic_pain', 0.554515561329401),\n",
              " ('is_anxiety_depres', 0.3055848039265667),\n",
              " ('is_cronic_pain_uncu', 0.2993414294901636),\n",
              " ('is_control', 0.44277760253934906)]"
            ]
          },
          "metadata": {},
          "execution_count": 94
        }
      ]
    },
    {
      "cell_type": "markdown",
      "metadata": {
        "id": "3YG7YSyhc7oT"
      },
      "source": [
        "The features with the highest influence in classifying a patient with FM prescribed as a buyer (1) is **is_plan_particular** with a coefficient of 0.98 followed by **is_76_101** and **is_cronic_pain** with coefficients of 0.64 and 0.55 respectively."
      ]
    },
    {
      "cell_type": "code",
      "metadata": {
        "colab": {
          "base_uri": "https://localhost:8080/"
        },
        "id": "DUJxHKXfddju",
        "outputId": "099a04a2-91cd-4188-a100-fe4448954b95"
      },
      "source": [
        "# predict features_test buyers\n",
        "# threshold = 0.5 >> makes the decision on what class the sample belongs to\n",
        "prediction = classifier.predict(features_test)\n",
        "\n",
        "prediction"
      ],
      "execution_count": null,
      "outputs": [
        {
          "output_type": "execute_result",
          "data": {
            "text/plain": [
              "array([1, 1, 1, ..., 1, 1, 1])"
            ]
          },
          "metadata": {},
          "execution_count": 95
        }
      ]
    },
    {
      "cell_type": "code",
      "metadata": {
        "id": "CDTg7Ddhd84i",
        "colab": {
          "base_uri": "https://localhost:8080/"
        },
        "outputId": "b137e070-9e56-4d7e-cafd-52be9329955f"
      },
      "source": [
        "# check to see if there are class 0 in prediction\n",
        "for el in prediction:\n",
        "  if el == 0:\n",
        "    print(el)"
      ],
      "execution_count": null,
      "outputs": [
        {
          "output_type": "stream",
          "name": "stdout",
          "text": [
            "0\n",
            "0\n",
            "0\n",
            "0\n",
            "0\n",
            "0\n",
            "0\n",
            "0\n",
            "0\n",
            "0\n",
            "0\n",
            "0\n",
            "0\n",
            "0\n",
            "0\n",
            "0\n",
            "0\n",
            "0\n",
            "0\n",
            "0\n",
            "0\n",
            "0\n"
          ]
        }
      ]
    },
    {
      "cell_type": "markdown",
      "metadata": {
        "id": "MT96_b5X2MVB"
      },
      "source": [
        "A threshold of p = 0.5 outputs almost all patients to class 1, this shows that the p is too small, the probability of a patient buying a prescribed FM must be higher"
      ]
    },
    {
      "cell_type": "code",
      "metadata": {
        "colab": {
          "base_uri": "https://localhost:8080/"
        },
        "id": "LR2kHIUbiUc6",
        "outputId": "41b98dab-2b71-4b14-92fc-3095fe8575b0"
      },
      "source": [
        "# model accuracy on training data\n",
        "train_score = classifier.score(features_train, labels_train)\n",
        "print(f'Train Score: {train_score}')\n",
        "\n",
        "# model accuracy on test data\n",
        "test_score = classifier.score(features_test, labels_test)\n",
        "print(f'Test score: {test_score}')"
      ],
      "execution_count": null,
      "outputs": [
        {
          "output_type": "stream",
          "name": "stdout",
          "text": [
            "Train Score: 0.7942672214516875\n",
            "Test score: 0.7988620199146514\n"
          ]
        }
      ]
    },
    {
      "cell_type": "markdown",
      "metadata": {
        "id": "Cq3ql5B-jPsF"
      },
      "source": [
        "The model has an Accuracy of 0.7988. This means that on average 79.88% of the times the classifier will correctly classify a new patient prescribed with FM as a buyer(1) or non_buyer(0)"
      ]
    },
    {
      "cell_type": "markdown",
      "metadata": {
        "id": "GQuN3KCf2rBZ"
      },
      "source": [
        "![green-divider](https://user-images.githubusercontent.com/7065401/52071924-c003ad80-2562-11e9-8297-1c6595f8a7ff.png)"
      ]
    },
    {
      "cell_type": "markdown",
      "metadata": {
        "id": "XKYivLVX2n3n"
      },
      "source": [
        "### Model Adjustment"
      ]
    },
    {
      "cell_type": "code",
      "metadata": {
        "colab": {
          "base_uri": "https://localhost:8080/",
          "height": 410
        },
        "id": "1WTlk4AnsxvC",
        "outputId": "6e8b13f2-7270-4b3c-bcbb-9c80a7628af8"
      },
      "source": [
        "# list to store thresholds\n",
        "thresholds = []\n",
        "\n",
        "# list to store accuracies\n",
        "accuracies = []\n",
        "\n",
        "# create range\n",
        "x = np.linspace(0.6, 0.71, num=11)\n",
        "\n",
        "for i in x:\n",
        "  # store threshold\n",
        "  thresholds.append(i)\n",
        "\n",
        "  predict_thresh = (classifier.predict_proba(features_test)[:,1]>=i).astype(int)\n",
        "  # calculate accuracy\n",
        "  score = classifier.score(features_test, predict_thresh)\n",
        "  accuracies.append(score)\n",
        "\n",
        "# plot thresholds vs accuracies\n",
        "f, ax = plt.subplots(figsize=(12, 6))\n",
        "\n",
        "sns.lineplot(x=thresholds, y=accuracies, color='violet')\n",
        "plt.axhline(0.912, linestyle='dashed', linewidth=2, color='black')\n",
        "plt.axvline(0.675, linestyle='dashed', linewidth=2, color='black')\n",
        "\n",
        "\n",
        "plt.xlabel('Thresholds')\n",
        "plt.ylabel('Accuracies')\n",
        "plt.title('Thresholds Vs Accuracies', pad=12)\n",
        "\n",
        "plt.show()"
      ],
      "execution_count": null,
      "outputs": [
        {
          "output_type": "display_data",
          "data": {
            "image/png": "[encoded data removed]",
            "text/plain": [
              "<Figure size 864x432 with 1 Axes>"
            ]
          },
          "metadata": {
            "needs_background": "light"
          }
        }
      ]
    },
    {
      "cell_type": "code",
      "metadata": {
        "colab": {
          "base_uri": "https://localhost:8080/"
        },
        "id": "ZrMdv4Rnzmvu",
        "outputId": "8560f71f-3ebf-406f-f098-96dab641c8a6"
      },
      "source": [
        "# increase the threshold of classification to 0.675\n",
        "predict_new_threshold = (classifier.predict_proba(features_test)[:,1]>=0.675).astype(int)\n",
        "\n",
        "predict_new_threshold"
      ],
      "execution_count": null,
      "outputs": [
        {
          "output_type": "execute_result",
          "data": {
            "text/plain": [
              "array([1, 1, 1, ..., 1, 1, 1])"
            ]
          },
          "metadata": {},
          "execution_count": 99
        }
      ]
    },
    {
      "cell_type": "code",
      "metadata": {
        "colab": {
          "base_uri": "https://localhost:8080/"
        },
        "id": "PpqReTh2vUnF",
        "outputId": "4047fe35-3b95-4965-b326-45a6d127f0f6"
      },
      "source": [
        "# check number of non buyers predicted\n",
        "sum = 0\n",
        "\n",
        "for el in predict_new_threshold:\n",
        "  if el == 0:\n",
        "    sum+=1\n",
        "    \n",
        "print(sum)"
      ],
      "execution_count": null,
      "outputs": [
        {
          "output_type": "stream",
          "name": "stdout",
          "text": [
            "639\n"
          ]
        }
      ]
    },
    {
      "cell_type": "code",
      "metadata": {
        "colab": {
          "base_uri": "https://localhost:8080/"
        },
        "id": "xAWSyv0U2_K1",
        "outputId": "23ec8c16-9129-4842-fc19-092485fefe8e"
      },
      "source": [
        "# calculate new accuracies with new threshold\n",
        "test_score = classifier.score(features_test, predict_new_threshold)\n",
        "print(f'Test Score: {test_score}')"
      ],
      "execution_count": null,
      "outputs": [
        {
          "output_type": "stream",
          "name": "stdout",
          "text": [
            "Test Score: 0.9122332859174964\n"
          ]
        }
      ]
    },
    {
      "cell_type": "markdown",
      "metadata": {
        "id": "fEyGMp-n3w7x"
      },
      "source": [
        "After the adjustment of the model, it has an accuracy of 0.91. This means an increase of 0.12 in accuracy, after changing the threshold from 0.5 to 0.675. The model now, on average, will classify correctly 91% of the times a new patient prescribed with FM as a buyer(1) or non_buyer(0).\n"
      ]
    },
    {
      "cell_type": "code",
      "metadata": {
        "colab": {
          "base_uri": "https://localhost:8080/"
        },
        "id": "wbPqj7xlkdEE",
        "outputId": "d0f92b05-9b24-4bbb-bd51-44e4eba3f646"
      },
      "source": [
        "# vector of probabilities\n",
        "probabilities  = classifier.predict_proba(features_test)\n",
        "\n",
        "print('  Non_Buyer  |  Buyer   ')\n",
        "# print first 20 probabilities\n",
        "for i in range(0, 21):\n",
        "  print(probabilities[i])\n"
      ],
      "execution_count": null,
      "outputs": [
        {
          "output_type": "stream",
          "name": "stdout",
          "text": [
            "  Non_Buyer  |  Buyer   \n",
            "[0.28069644 0.71930356]\n",
            "[0.28095027 0.71904973]\n",
            "[0.24745343 0.75254657]\n",
            "[0.26562681 0.73437319]\n",
            "[0.06869616 0.93130384]\n",
            "[0.2072461 0.7927539]\n",
            "[0.25535998 0.74464002]\n",
            "[0.12183096 0.87816904]\n",
            "[0.14961012 0.85038988]\n",
            "[0.27368612 0.72631388]\n",
            "[0.21613999 0.78386001]\n",
            "[0.23215479 0.76784521]\n",
            "[0.18471387 0.81528613]\n",
            "[0.15213518 0.84786482]\n",
            "[0.19254842 0.80745158]\n",
            "[0.17185606 0.82814394]\n",
            "[0.18471387 0.81528613]\n",
            "[0.14537498 0.85462502]\n",
            "[0.15213518 0.84786482]\n",
            "[0.20939622 0.79060378]\n",
            "[0.08841829 0.91158171]\n"
          ]
        }
      ]
    },
    {
      "cell_type": "markdown",
      "metadata": {
        "id": "k1o7cyjbhuJr"
      },
      "source": [
        "![green-divider](https://user-images.githubusercontent.com/7065401/52071924-c003ad80-2562-11e9-8297-1c6595f8a7ff.png)"
      ]
    },
    {
      "cell_type": "markdown",
      "metadata": {
        "id": "wejolk9nhwju"
      },
      "source": [
        "### Confusion Matrix"
      ]
    },
    {
      "cell_type": "code",
      "metadata": {
        "colab": {
          "base_uri": "https://localhost:8080/",
          "height": 432
        },
        "id": "QgjCKDsZhzzV",
        "outputId": "147da430-cd22-4851-a6d2-9a01b780092f"
      },
      "source": [
        "# confusion matrix to compare the test labels to the prediction\n",
        "from sklearn.metrics import confusion_matrix\n",
        "from mlxtend.plotting import plot_confusion_matrix\n",
        "\n",
        "cm = confusion_matrix(labels_test, predict_new_threshold)\n",
        "\n",
        "# plot confusion matrix\n",
        "fig, ax = plot_confusion_matrix(conf_mat=cm, figsize=(6, 6))\n",
        "plt.xlabel('Predictions', fontsize=18)\n",
        "plt.ylabel('Actuals', fontsize=18)\n",
        "\n",
        "# change color of occurences\n",
        "for i in range(2):\n",
        "  for e in range(2):\n",
        "    ax.text(e, i, cm[i, e], ha='center', va='center', color='crimson')\n",
        "\n",
        "\n",
        "plt.title('Confusion Matrix', fontsize=18)\n",
        "plt.show()"
      ],
      "execution_count": null,
      "outputs": [
        {
          "output_type": "display_data",
          "data": {
            "image/png": "[encoded data removed]",
            "text/plain": [
              "<Figure size 432x432 with 1 Axes>"
            ]
          },
          "metadata": {
            "needs_background": "light"
          }
        }
      ]
    },
    {
      "cell_type": "markdown",
      "metadata": {
        "id": "8oWfR-z2olIx"
      },
      "source": [
        "- **True Positives >> 5205**\n",
        "  - Number of times the model predicted the patient will buy the FM prescribed and he bought it\n",
        "\n",
        "- **True Negatives >> 240**\n",
        "  - Number of times the model predicted the patient wouldn't buy the FM prescribed and he didn't\n",
        "\n",
        "- **False Positives >> 1186**\n",
        "  - Number of times the model predicted the patient would buy the FM prescribed and he didn't\n",
        "\n",
        "- **False Negatives >> 399**\n",
        "  - Number of times the model predicted the patient wouldn't buy the FM prescribed and he did"
      ]
    },
    {
      "cell_type": "markdown",
      "metadata": {
        "id": "wTTgbD7MqU3e"
      },
      "source": [
        "![green-divider](https://user-images.githubusercontent.com/7065401/52071924-c003ad80-2562-11e9-8297-1c6595f8a7ff.png)"
      ]
    },
    {
      "cell_type": "markdown",
      "metadata": {
        "id": "IdHiKvNsp2bt"
      },
      "source": [
        "#### Recall, Precision & F1 Score"
      ]
    },
    {
      "cell_type": "code",
      "metadata": {
        "colab": {
          "base_uri": "https://localhost:8080/"
        },
        "id": "p3OsCf-9qUQD",
        "outputId": "02fe0404-cc71-4fb6-aeee-da992e5134dc"
      },
      "source": [
        "# RECALL >> % of relevant items the classifier found\n",
        "# true positives / (true positive + false negative)\n",
        "\n",
        "recall = 5205 / (5205 + 399)\n",
        "print(f'Recall: {recall}')\n",
        "\n",
        "# PRECISION >> % of times the model predicted the patient will buy the FM presribed\n",
        "# true positives / (true positives  + false positives)\n",
        "\n",
        "precision = 5205 / (5205 + 1186)\n",
        "print(f'Precision: {precision}')\n",
        "\n",
        "# F1 SCORE >> shows the effectiveness of the classifier\n",
        "# harmonic mean of precision and recall >> 2 * (precision * recall) / (precision + recall)\n",
        "\n",
        "f1 = 2*(precision * recall) / (precision + recall)\n",
        "print(f'F1 Score: {f1}')\n"
      ],
      "execution_count": null,
      "outputs": [
        {
          "output_type": "stream",
          "name": "stdout",
          "text": [
            "Recall: 0.9288008565310493\n",
            "Precision: 0.8144265373181035\n",
            "F1 Score: 0.8678616090037515\n"
          ]
        }
      ]
    },
    {
      "cell_type": "markdown",
      "metadata": {
        "id": "UwxBN2JutFcw"
      },
      "source": [
        "- The RECALL of the classifier shows that on average it will find 92% of the times relevant items (patients who bought the FM prescribed).\n",
        "\n",
        "- The PRECISION of the classifier shows that on average 81% of the times it will predict the patient will buy the prescribed FM\n",
        "\n",
        "- The F1 SCORES shows that the classifier has an effectiveness on average of 86% in classifying correctly a patient prescribed with FM as a buyer or non_buyer"
      ]
    },
    {
      "cell_type": "markdown",
      "metadata": {
        "id": "i9bkWbmauQTk"
      },
      "source": [
        "![purple-divider](https://user-images.githubusercontent.com/7065401/52071927-c1cd7100-2562-11e9-908a-dde91ba14e59.png)"
      ]
    },
    {
      "cell_type": "markdown",
      "metadata": {
        "id": "87akWUcdn7Gz"
      },
      "source": [
        "## Prediction of Future FM Buyers"
      ]
    },
    {
      "cell_type": "markdown",
      "metadata": {
        "id": "sMSzxwDjoAOm"
      },
      "source": [
        "### DB Connection"
      ]
    },
    {
      "cell_type": "code",
      "metadata": {
        "colab": {
          "base_uri": "https://localhost:8080/"
        },
        "id": "wk8laCHl-0vN",
        "outputId": "76bec96e-d261-4347-8c72-97851227c1a2"
      },
      "source": [
        "# install ODBC driver\n",
        "%%sh\n",
        "curl https://packages.microsoft.com/keys/microsoft.asc | apt-key add -\n",
        "curl https://packages.microsoft.com/config/ubuntu/16.04/prod.list > /etc/apt/sources.list.d/mssql-release.list\n",
        "sudo apt-get update\n",
        "sudo ACCEPT_EULA=Y apt-get -q -y install msodbcsql17"
      ],
      "execution_count": null,
      "outputs": [
        {
          "output_type": "stream",
          "name": "stdout",
          "text": [
            "OK\n",
            "Hit:1 https://cloud.r-project.org/bin/linux/ubuntu bionic-cran40/ InRelease\n",
            "Hit:2 https://packages.microsoft.com/ubuntu/16.04/prod xenial InRelease\n",
            "Ign:3 https://developer.download.nvidia.com/compute/cuda/repos/ubuntu1804/x86_64  InRelease\n",
            "Ign:4 https://developer.download.nvidia.com/compute/machine-learning/repos/ubuntu1804/x86_64  InRelease\n",
            "Hit:5 https://developer.download.nvidia.com/compute/cuda/repos/ubuntu1804/x86_64  Release\n",
            "Hit:6 https://developer.download.nvidia.com/compute/machine-learning/repos/ubuntu1804/x86_64  Release\n",
            "Hit:7 http://ppa.launchpad.net/c2d4u.team/c2d4u4.0+/ubuntu bionic InRelease\n",
            "Get:8 http://security.ubuntu.com/ubuntu bionic-security InRelease [88.7 kB]\n",
            "Hit:11 http://archive.ubuntu.com/ubuntu bionic InRelease\n",
            "Hit:12 http://archive.ubuntu.com/ubuntu bionic-updates InRelease\n",
            "Hit:13 http://ppa.launchpad.net/cran/libgit2/ubuntu bionic InRelease\n",
            "Get:14 http://archive.ubuntu.com/ubuntu bionic-backports InRelease [74.6 kB]\n",
            "Hit:15 http://ppa.launchpad.net/deadsnakes/ppa/ubuntu bionic InRelease\n",
            "Hit:16 http://ppa.launchpad.net/graphics-drivers/ppa/ubuntu bionic InRelease\n",
            "Fetched 163 kB in 2s (85.2 kB/s)\n",
            "Reading package lists...\n",
            "Reading package lists...\n",
            "Building dependency tree...\n",
            "Reading state information...\n",
            "msodbcsql17 is already the newest version (17.8.1.1-1).\n",
            "0 upgraded, 0 newly installed, 0 to remove and 42 not upgraded.\n"
          ]
        },
        {
          "output_type": "stream",
          "name": "stderr",
          "text": [
            "  % Total    % Received % Xferd  Average Speed   Time    Time     Time  Current\n",
            "                                 Dload  Upload   Total   Spent    Left  Speed\n",
            "\r  0     0    0     0    0     0      0      0 --:--:-- --:--:-- --:--:--     0Warning: apt-key output should not be parsed (stdout is not a terminal)\n",
            "\r100   983  100   983    0     0   3043      0 --:--:-- --:--:-- --:--:--  3043\n",
            "  % Total    % Received % Xferd  Average Speed   Time    Time     Time  Current\n",
            "                                 Dload  Upload   Total   Spent    Left  Speed\n",
            "\r  0     0    0     0    0     0      0      0 --:--:-- --:--:-- --:--:--     0\r100    79  100    79    0     0   1097      0 --:--:-- --:--:-- --:--:--  1097\n"
          ]
        }
      ]
    },
    {
      "cell_type": "code",
      "metadata": {
        "colab": {
          "base_uri": "https://localhost:8080/"
        },
        "id": "Wt_rIOrioCkf",
        "outputId": "ddb15254-2a4e-4b18-f929-93e6a02aca66"
      },
      "source": [
        "# install package to connect python to SQL server\n",
        "!pip install pyodbc"
      ],
      "execution_count": null,
      "outputs": [
        {
          "output_type": "stream",
          "name": "stdout",
          "text": [
            "Requirement already satisfied: pyodbc in /usr/local/lib/python3.7/dist-packages (4.0.32)\n"
          ]
        }
      ]
    },
    {
      "cell_type": "code",
      "metadata": {
        "colab": {
          "base_uri": "https://localhost:8080/"
        },
        "id": "KMk0pxh-97cF",
        "outputId": "3b7c89ea-bdfe-4d6b-ec18-41f3fdffe8c2"
      },
      "source": [
        "# import package\n",
        "import pyodbc\n",
        "\n",
        "# check for driver\n",
        "pyodbc.drivers()"
      ],
      "execution_count": null,
      "outputs": [
        {
          "output_type": "execute_result",
          "data": {
            "text/plain": [
              "['ODBC Driver 17 for SQL Server']"
            ]
          },
          "metadata": {},
          "execution_count": 107
        }
      ]
    },
    {
      "cell_type": "code",
      "metadata": {
        "id": "m3Lh540wpW2g"
      },
      "source": [
        "# save database info\n",
        "server = 'goreplica.database.windows.net'\n",
        "database = 'goMedisysCo_ILANS'\n",
        "username = 'godbexternalilans'\n",
        "password = 'G0ILANSExtern@l'\n",
        "\n",
        "# establish connection\n",
        "cnxn = pyodbc.connect('DRIVER={ODBC Driver 17 for SQL Server};SERVER='+server+';DATABASE='+database+';UID='+username+';PWD='+ password)\n",
        "cursor = cnxn.cursor()\n"
      ],
      "execution_count": null,
      "outputs": []
    },
    {
      "cell_type": "markdown",
      "metadata": {
        "id": "hsPr9RoplVNA"
      },
      "source": [
        "![green-divider](https://user-images.githubusercontent.com/7065401/52071924-c003ad80-2562-11e9-8297-1c6595f8a7ff.png)"
      ]
    },
    {
      "cell_type": "markdown",
      "metadata": {
        "id": "y9La3X0PlcRs"
      },
      "source": [
        "### Get *Procedimientos Ordenados* for a Specific Date"
      ]
    },
    {
      "cell_type": "code",
      "metadata": {
        "id": "FcO8g85klYmM"
      },
      "source": [
        "# function to get procedures\n",
        "def get_procedures(year, month, day):\n",
        "\n",
        "  # year >> in int form\n",
        "  # month >> [1, 2, 3, ... 12]\n",
        "  # day >> [1, 2, 3, ... 29, 30, 31]\n",
        "\n",
        "  query = f\"\"\"SELECT DISTINCT\n",
        "\tEnc.identifier AS [Ingreso],\n",
        "\t2021 - YEAR(PatP.birthDate) AS [Edad],\n",
        "\tPatS.code AS [Sexo],\n",
        "\tCity.name AS [CiudadMunicipio],\n",
        "\tDIAG.name AS [Diagnostico],\n",
        "\tCASE\n",
        "\t\tWHEN ContP.name LIKE '%ARL%' then 'ARL'\n",
        "\t\tWHEN ContP.name LIKE 'POLIC%' then 'Policia'\n",
        "\t\tWHEN ContP.name LIKE '%PLAN CORTESÍA%' then 'Cortesia'\n",
        "\t\tWHEN ContP.name LIKE '%PLAN MEMBRESÍA%' then 'Membresia'\n",
        "\t\tWHEN ContP.name LIKE '%PARTICULAR%' then 'Particular'\n",
        "\tELSE 'EPS' END AS [Tipo Plan],\n",
        "\tFORMAT(Ev.actionRecordedDate, 'yyyy-MM-dd')  AS [FechaFormulacion],\n",
        "\tProdG.code AS [CodProducto],\n",
        "\tEVForm.formulatedAmount AS [Cantidad],\n",
        "  exType.itemName AS [tipo_examen]\n",
        "\n",
        "  FROM EHREventFormulation AS EVForm WITH(NOLOCK)\n",
        "    INNER JOIN EHREvents AS EV WITH(NOLOCK) ON EVForm.idEHREvent = EV.idEHREvent\n",
        "    INNER JOIN users AS Pro WITH(NOLOCK) ON EVForm.idUserPractitioner = Pro.idUser  \n",
        "    LEFT OUTER JOIN (userSystemSpecialities AS USpec WITH(NOLOCK) \n",
        "        INNER JOIN generalSpecialties AS Spec WITH(NOLOCK) ON USpec.idSpeciality = Spec.idSpecialty\n",
        "            ) ON Pro.idUser = USpec.idUser\n",
        "    LEFT OUTER JOIN (userSystemMRNumbers AS MR WITH(NOLOCK) \n",
        "        INNER JOIN generalInternalLists AS MRT WITH(NOLOCK) ON MR.idTypeMedicalRecord = MRT.idGeneralInternalList\n",
        "            AND MRT.itemValue = 'R.M.'\n",
        "            ) ON Pro.idUser = MR.idUser\n",
        "    INNER JOIN encounters AS Enc WITH(NOLOCK) ON EV.idEncounter = Enc.idEncounter\n",
        "    INNER JOIN users AS Pat WITH(NOLOCK) ON Enc.idUserPatient = Pat.idUser\n",
        "    INNER JOIN userPeople AS PatP WITH(NOLOCK) ON Pat.idUser = PatP.idUser\n",
        "\t  INNER JOIN userConfAdministrativeSex AS PatS WITH(NOLOCK) ON PatP.idAdministrativeSex = PatS.idAdministrativeSex\n",
        "    LEFT OUTER JOIN generalPoliticalDivisions AS City WITH(NOLOCK) ON PatP.idHomePlacePoliticalDivision = City.idPoliticalDivision\n",
        "    LEFT OUTER JOIN generalPoliticalDivisions AS Neig WITH(NOLOCK) ON PatP.idHomePoliticalDivisionNeighborhood = Neig.idPoliticalDivision\n",
        "    INNER JOIN userConfTypeDocuments AS DocT WITH(NOLOCK) ON Pat.idDocumentType = DocT.idTypeDocument\n",
        "    INNER JOIN companyOffices AS Office WITH(NOLOCK) ON Enc.idOffice = Office.idOffice\n",
        "    INNER JOIN encounterRecords AS EncR WITH(NOLOCK) ON Enc.idEncounter = EncR.idEncounter\n",
        "    INNER JOIN users AS Ins WITH(NOLOCK) ON EncR.idPrincipalCOntractee = Ins.idUser\n",
        "    INNER JOIN contracts AS Cont WITH(NOLOCK) ON EncR.idPrincipalContract = Cont.idContract\n",
        "    INNER JOIN contractPlans AS ContP WITH(NOLOCK) ON EncR.idPrincipalPlan = ContP.idPlan\n",
        "    INNER JOIN productGenerics AS ProdG WITH(NOLOCK) ON EVForm.idProductGeneric = ProdG.idGenericProduct\n",
        "\t  INNER JOIN productTypes AS PrType WITH(NOLOCK) ON ProdG.idProductType = prType.idProductType\n",
        "    LEFT OUTER JOIN productGenericDrugs AS Drug WITH(NOLOCK) ON ProdG.idGenericProduct = Drug.idGenericProduct\n",
        "    INNER JOIN generalMeasurementUnits AS GU WITH(NOLOCK) ON EVForm.idDoseUnit = GU.idUnit\n",
        "    INNER JOIN EHRConfFormulationPeriodicity AS Per WITH(NOLOCK) ON EVForm.idPeriodicity = Per.idPeriodicity\n",
        "    INNER JOIN productConfAdministrationRoute AS ARoute WITH(NOLOCK) ON EVForm.idAdministrationRoute = ARoute.idAdministrationRoute\n",
        "\t  INNER JOIN generalActions AS AC ON EV.idAction = AC.idAction\n",
        "\t  INNER JOIN dbo.encounters AS ENCO ON EV.idEncounter = ENCO.idEncounter\n",
        "\t  INNER JOIN dbo.encounterRecords AS ENCORE ON ENCO.idEncounter = ENCORE.idEncounter\n",
        "\t  LEFT OUTER JOIN dbo.diagnostics AS DIAG ON ENCORE.idFirstDiagnosis = DIAG.idDiagnostic\n",
        "\t  INNER JOIN dbo.healthServices AS HS ON ENCORE.idActualService = HS.idHealthService\n",
        "\t  LEFT OUTER JOIN generalMeasurementUnits AS AdminTime WITH(NOLOCK) ON EVForm.idAdministrationTime = AdminTime.idUnit AND AdminTime.type = 'T'\n",
        "\t  INNER JOIN userConfTypeDocuments AS DocType WITH(NOLOCK) ON Pro.idDocumentType = DocType.idTypeDocument\n",
        "\n",
        "    LEFT OUTER JOIN appointments AS app WITH(NOLOCK) ON ENCO.idEncounter = app.idAdmission\n",
        "\t  LEFT OUTER JOIN generalInternalLists AS exType WITH(NOLOCK) ON app.idAppointmentExamType = exType.idGeneralInternalList\n",
        "\n",
        "  WHERE  ProdG.idGenericProduct  IN ( 38591 , 38711 , 38712 , 38796, 39696) AND Enc.identifier != 1 AND EVForm.isSuspended != 1 AND Ac.name = 'Orden Médica (Formula Magistral)'\n",
        "  AND YEAR(Ev.actionRecordedDate) = {year} AND MONTH(Ev.actionRecordedDate) = {month} AND DAY(Ev.actionRecordedDate) = {day}\n",
        "  \"\"\"\n",
        "\n",
        "  # query to df\n",
        "  df_proced = pd.read_sql_query(query, cnxn)\n",
        "\n",
        "  # save date\n",
        "  date = f'{year}-{month}-{day}'\n",
        "\n",
        "  return df_proced, date\n",
        "  "
      ],
      "execution_count": null,
      "outputs": []
    },
    {
      "cell_type": "markdown",
      "metadata": {
        "id": "LOPltP2uscZ-"
      },
      "source": [
        "![green-divider](https://user-images.githubusercontent.com/7065401/52071924-c003ad80-2562-11e9-8297-1c6595f8a7ff.png)"
      ]
    },
    {
      "cell_type": "markdown",
      "metadata": {
        "id": "jIYKStpQsW5E"
      },
      "source": [
        "### Select Date"
      ]
    },
    {
      "cell_type": "code",
      "metadata": {
        "id": "TgFPPzvBnGQr"
      },
      "source": [
        "# get procedures for 2021-month-day\n",
        "df_date, date = get_procedures(2021, 11, 22)"
      ],
      "execution_count": null,
      "outputs": []
    },
    {
      "cell_type": "code",
      "metadata": {
        "colab": {
          "base_uri": "https://localhost:8080/",
          "height": 424
        },
        "id": "FDdASIk63kEU",
        "outputId": "60047cef-6520-4fc8-b210-4deddae8efd4"
      },
      "source": [
        "# check df\n",
        "df_date"
      ],
      "execution_count": null,
      "outputs": [
        {
          "output_type": "execute_result",
          "data": {
            "text/html": [
              "<div>\n",
              "<style scoped>\n",
              "    .dataframe tbody tr th:only-of-type {\n",
              "        vertical-align: middle;\n",
              "    }\n",
              "\n",
              "    .dataframe tbody tr th {\n",
              "        vertical-align: top;\n",
              "    }\n",
              "\n",
              "    .dataframe thead th {\n",
              "        text-align: right;\n",
              "    }\n",
              "</style>\n",
              "<table border=\"1\" class=\"dataframe\">\n",
              "  <thead>\n",
              "    <tr style=\"text-align: right;\">\n",
              "      <th></th>\n",
              "      <th>Ingreso</th>\n",
              "      <th>Edad</th>\n",
              "      <th>Sexo</th>\n",
              "      <th>CiudadMunicipio</th>\n",
              "      <th>Diagnostico</th>\n",
              "      <th>Tipo Plan</th>\n",
              "      <th>FechaFormulacion</th>\n",
              "      <th>CodProducto</th>\n",
              "      <th>Cantidad</th>\n",
              "      <th>tipo_examen</th>\n",
              "    </tr>\n",
              "  </thead>\n",
              "  <tbody>\n",
              "    <tr>\n",
              "      <th>0</th>\n",
              "      <td>239502</td>\n",
              "      <td>70</td>\n",
              "      <td>F</td>\n",
              "      <td>BOGOTÁ D.C.</td>\n",
              "      <td>OTRO DOLOR CRONICO</td>\n",
              "      <td>Particular</td>\n",
              "      <td>2021-11-22</td>\n",
              "      <td>fm001</td>\n",
              "      <td>1</td>\n",
              "      <td>Control</td>\n",
              "    </tr>\n",
              "    <tr>\n",
              "      <th>1</th>\n",
              "      <td>243790</td>\n",
              "      <td>38</td>\n",
              "      <td>F</td>\n",
              "      <td>SOACHA</td>\n",
              "      <td>TRASTORNO DE DISCO LUMBAR YOTROS, CON RADICULO...</td>\n",
              "      <td>EPS</td>\n",
              "      <td>2021-11-22</td>\n",
              "      <td>fm001</td>\n",
              "      <td>3</td>\n",
              "      <td>Control</td>\n",
              "    </tr>\n",
              "    <tr>\n",
              "      <th>2</th>\n",
              "      <td>243963</td>\n",
              "      <td>43</td>\n",
              "      <td>F</td>\n",
              "      <td>BOGOTÁ D.C.</td>\n",
              "      <td>OTRO DOLOR CRONICO</td>\n",
              "      <td>EPS</td>\n",
              "      <td>2021-11-22</td>\n",
              "      <td>fm001</td>\n",
              "      <td>1</td>\n",
              "      <td>Control</td>\n",
              "    </tr>\n",
              "    <tr>\n",
              "      <th>3</th>\n",
              "      <td>244421</td>\n",
              "      <td>86</td>\n",
              "      <td>F</td>\n",
              "      <td>BOGOTÁ D.C.</td>\n",
              "      <td>None</td>\n",
              "      <td>EPS</td>\n",
              "      <td>2021-11-22</td>\n",
              "      <td>fm001</td>\n",
              "      <td>2</td>\n",
              "      <td>Control</td>\n",
              "    </tr>\n",
              "    <tr>\n",
              "      <th>4</th>\n",
              "      <td>244870</td>\n",
              "      <td>59</td>\n",
              "      <td>F</td>\n",
              "      <td>BOGOTÁ D.C.</td>\n",
              "      <td>OTRO DOLOR CRONICO</td>\n",
              "      <td>EPS</td>\n",
              "      <td>2021-11-22</td>\n",
              "      <td>fm003</td>\n",
              "      <td>1</td>\n",
              "      <td>Control</td>\n",
              "    </tr>\n",
              "    <tr>\n",
              "      <th>...</th>\n",
              "      <td>...</td>\n",
              "      <td>...</td>\n",
              "      <td>...</td>\n",
              "      <td>...</td>\n",
              "      <td>...</td>\n",
              "      <td>...</td>\n",
              "      <td>...</td>\n",
              "      <td>...</td>\n",
              "      <td>...</td>\n",
              "      <td>...</td>\n",
              "    </tr>\n",
              "    <tr>\n",
              "      <th>280</th>\n",
              "      <td>249611</td>\n",
              "      <td>42</td>\n",
              "      <td>F</td>\n",
              "      <td>BOGOTÁ D.C.</td>\n",
              "      <td>None</td>\n",
              "      <td>EPS</td>\n",
              "      <td>2021-11-22</td>\n",
              "      <td>fm001</td>\n",
              "      <td>3</td>\n",
              "      <td>Control</td>\n",
              "    </tr>\n",
              "    <tr>\n",
              "      <th>281</th>\n",
              "      <td>249615</td>\n",
              "      <td>70</td>\n",
              "      <td>F</td>\n",
              "      <td>BOGOTÁ D.C.</td>\n",
              "      <td>OTRO DOLOR CRONICO</td>\n",
              "      <td>Particular</td>\n",
              "      <td>2021-11-22</td>\n",
              "      <td>fm001</td>\n",
              "      <td>3</td>\n",
              "      <td>Control</td>\n",
              "    </tr>\n",
              "    <tr>\n",
              "      <th>282</th>\n",
              "      <td>249617</td>\n",
              "      <td>53</td>\n",
              "      <td>M</td>\n",
              "      <td>BOGOTÁ D.C.</td>\n",
              "      <td>TRASTORNO MIXTO DE ANSIEDAD YDEPRESION</td>\n",
              "      <td>Particular</td>\n",
              "      <td>2021-11-22</td>\n",
              "      <td>fm004</td>\n",
              "      <td>1</td>\n",
              "      <td>Primera vez</td>\n",
              "    </tr>\n",
              "    <tr>\n",
              "      <th>283</th>\n",
              "      <td>249620</td>\n",
              "      <td>65</td>\n",
              "      <td>F</td>\n",
              "      <td>BOGOTÁ D.C.</td>\n",
              "      <td>OTRO DOLOR CRONICO</td>\n",
              "      <td>EPS</td>\n",
              "      <td>2021-11-22</td>\n",
              "      <td>fm001</td>\n",
              "      <td>2</td>\n",
              "      <td>Control</td>\n",
              "    </tr>\n",
              "    <tr>\n",
              "      <th>284</th>\n",
              "      <td>249624</td>\n",
              "      <td>88</td>\n",
              "      <td>M</td>\n",
              "      <td>BOGOTÁ D.C.</td>\n",
              "      <td>OTRO DOLOR CRONICO</td>\n",
              "      <td>EPS</td>\n",
              "      <td>2021-11-22</td>\n",
              "      <td>fm001</td>\n",
              "      <td>1</td>\n",
              "      <td>Control</td>\n",
              "    </tr>\n",
              "  </tbody>\n",
              "</table>\n",
              "<p>285 rows × 10 columns</p>\n",
              "</div>"
            ],
            "text/plain": [
              "     Ingreso  Edad Sexo  ... CodProducto Cantidad  tipo_examen\n",
              "0     239502    70    F  ...       fm001        1      Control\n",
              "1     243790    38    F  ...       fm001        3      Control\n",
              "2     243963    43    F  ...       fm001        1      Control\n",
              "3     244421    86    F  ...       fm001        2      Control\n",
              "4     244870    59    F  ...       fm003        1      Control\n",
              "..       ...   ...  ...  ...         ...      ...          ...\n",
              "280   249611    42    F  ...       fm001        3      Control\n",
              "281   249615    70    F  ...       fm001        3      Control\n",
              "282   249617    53    M  ...       fm004        1  Primera vez\n",
              "283   249620    65    F  ...       fm001        2      Control\n",
              "284   249624    88    M  ...       fm001        1      Control\n",
              "\n",
              "[285 rows x 10 columns]"
            ]
          },
          "metadata": {},
          "execution_count": 111
        }
      ]
    },
    {
      "cell_type": "markdown",
      "metadata": {
        "id": "TzQnZhh0vApf"
      },
      "source": [
        "![green-divider](https://user-images.githubusercontent.com/7065401/52071924-c003ad80-2562-11e9-8297-1c6595f8a7ff.png)"
      ]
    },
    {
      "cell_type": "markdown",
      "metadata": {
        "id": "PXBWHfhfu5Oz"
      },
      "source": [
        "### Encode Date Features"
      ]
    },
    {
      "cell_type": "code",
      "metadata": {
        "id": "VTrOqZ3RtrSL"
      },
      "source": [
        "def feature_encoding(df):\n",
        "  # remove duplicates >> Not Necessary SELECT DISTINCT brings unique records by formulation\n",
        "  # df = df.drop_duplicates(subset=['Ingreso'])\n",
        "\n",
        "  # change FechaFormulacion to datetime\n",
        "  df['FechaFormulacion'] = pd.to_datetime(df['FechaFormulacion'])\n",
        "\n",
        "  # Sex encoding >> F=0, M=1\n",
        "  df['Sex'] = [1 if df.loc[index, 'Sexo'] == 'M' else 0 for index in df.index] \n",
        "\n",
        "  # is_plan_particular >> Particular=1\n",
        "  df['is_plan_particular'] = [1 if df.loc[index, 'Tipo Plan'] == 'Particular' else 0 for index in df.index]\n",
        "\n",
        "  # is_fm002 (THC)\n",
        "  df['is_fm002'] = [1 if df.loc[index, 'CodProducto'] == 'fm002' else 0 for index in df.index]\n",
        "  # is_fm001 (CBD)\n",
        "  df['is_fm001'] = [1 if df.loc[index, 'CodProducto'] == 'fm001' else 0 for index in df.index]\n",
        "\n",
        "  # is_Medellin\n",
        "  df['is_Medellin'] = [1 if df.loc[index, 'CiudadMunicipio'] == 'MEDELLÍN' else 0 for index in df.index]\n",
        "  # is_Mosquera\n",
        "  df['is_Mosquera'] = [1 if df.loc[index, 'CiudadMunicipio'] == 'MOSQUERA' else 0 for index in df.index]\n",
        "  # is_Bogota\n",
        "  df['is_Bogota'] = [1 if df.loc[index, 'CiudadMunicipio'] == 'BOGOTÁ D.C.' else 0 for index in df.index]\n",
        "\n",
        "  # other_cronic_pain\n",
        "  df['is_cronic_pain'] = [1 if df.loc[index, 'Diagnostico'] == 'OTRO DOLOR CRONICO' else 0 for index in df.index]\n",
        "  # is_anxiety_depression\n",
        "  df['is_anxiety_depres'] = [1 if df.loc[index, 'Diagnostico'] == 'TRASTORNO MIXTO DE ANSIEDAD YDEPRESION' else 0\\\n",
        "                                 for index in df.index]\n",
        "  # is_cronic_pain_uncu\n",
        "  df['is_cronic_pain_uncu'] = [1 if df.loc[index, 'Diagnostico'] == 'DOLOR CRONICO INTRATABLE' else 0 for index in df.index]\n",
        "\n",
        "\n",
        "  # is_51_76\n",
        "  df['is_51_76'] = [1 if df.loc[index, 'Edad'] >= 51 and df.loc[index, 'Edad'] <= 76 else 0 for index in df.index]\n",
        "  # is_76_101\n",
        "  df['is_76_101'] = [1 if df.loc[index, 'Edad'] >= 76 and df.loc[index, 'Edad'] <= 101 else 0 for index in df.index]\n",
        "\n",
        "  # is_control\n",
        "  df['is_control'] = [1 if df.loc[index, 'tipo_examen'] == 'Control' else 0 for index in df.index]\n",
        "\n",
        "  return df\n"
      ],
      "execution_count": null,
      "outputs": []
    },
    {
      "cell_type": "code",
      "metadata": {
        "id": "ssfJLzaE2vVD"
      },
      "source": [
        "# return df for the specified date with the features encoded\n",
        "df_date_raw = feature_encoding(df_date)"
      ],
      "execution_count": null,
      "outputs": []
    },
    {
      "cell_type": "code",
      "metadata": {
        "colab": {
          "base_uri": "https://localhost:8080/",
          "height": 424
        },
        "id": "8cbR4kut85sE",
        "outputId": "2e42bf9a-52af-4e36-f395-e8b1362a4b03"
      },
      "source": [
        "# select only the encoded features\n",
        "features_encoded_date = df_date_raw[['Sex', 'is_51_76', 'is_76_101', 'is_plan_particular', 'is_fm002',\\\n",
        "                                     'is_fm001', 'is_Medellin', 'is_Mosquera', 'is_Bogota', 'is_cronic_pain',\\\n",
        "                                    'is_anxiety_depres', 'is_cronic_pain_uncu', 'is_control']]\n",
        "\n",
        "features_encoded_date"
      ],
      "execution_count": null,
      "outputs": [
        {
          "output_type": "execute_result",
          "data": {
            "text/html": [
              "<div>\n",
              "<style scoped>\n",
              "    .dataframe tbody tr th:only-of-type {\n",
              "        vertical-align: middle;\n",
              "    }\n",
              "\n",
              "    .dataframe tbody tr th {\n",
              "        vertical-align: top;\n",
              "    }\n",
              "\n",
              "    .dataframe thead th {\n",
              "        text-align: right;\n",
              "    }\n",
              "</style>\n",
              "<table border=\"1\" class=\"dataframe\">\n",
              "  <thead>\n",
              "    <tr style=\"text-align: right;\">\n",
              "      <th></th>\n",
              "      <th>Sex</th>\n",
              "      <th>is_51_76</th>\n",
              "      <th>is_76_101</th>\n",
              "      <th>is_plan_particular</th>\n",
              "      <th>is_fm002</th>\n",
              "      <th>is_fm001</th>\n",
              "      <th>is_Medellin</th>\n",
              "      <th>is_Mosquera</th>\n",
              "      <th>is_Bogota</th>\n",
              "      <th>is_cronic_pain</th>\n",
              "      <th>is_anxiety_depres</th>\n",
              "      <th>is_cronic_pain_uncu</th>\n",
              "      <th>is_control</th>\n",
              "    </tr>\n",
              "  </thead>\n",
              "  <tbody>\n",
              "    <tr>\n",
              "      <th>0</th>\n",
              "      <td>0</td>\n",
              "      <td>1</td>\n",
              "      <td>0</td>\n",
              "      <td>1</td>\n",
              "      <td>0</td>\n",
              "      <td>1</td>\n",
              "      <td>0</td>\n",
              "      <td>0</td>\n",
              "      <td>1</td>\n",
              "      <td>1</td>\n",
              "      <td>0</td>\n",
              "      <td>0</td>\n",
              "      <td>1</td>\n",
              "    </tr>\n",
              "    <tr>\n",
              "      <th>1</th>\n",
              "      <td>0</td>\n",
              "      <td>0</td>\n",
              "      <td>0</td>\n",
              "      <td>0</td>\n",
              "      <td>0</td>\n",
              "      <td>1</td>\n",
              "      <td>0</td>\n",
              "      <td>0</td>\n",
              "      <td>0</td>\n",
              "      <td>0</td>\n",
              "      <td>0</td>\n",
              "      <td>0</td>\n",
              "      <td>1</td>\n",
              "    </tr>\n",
              "    <tr>\n",
              "      <th>2</th>\n",
              "      <td>0</td>\n",
              "      <td>0</td>\n",
              "      <td>0</td>\n",
              "      <td>0</td>\n",
              "      <td>0</td>\n",
              "      <td>1</td>\n",
              "      <td>0</td>\n",
              "      <td>0</td>\n",
              "      <td>1</td>\n",
              "      <td>1</td>\n",
              "      <td>0</td>\n",
              "      <td>0</td>\n",
              "      <td>1</td>\n",
              "    </tr>\n",
              "    <tr>\n",
              "      <th>3</th>\n",
              "      <td>0</td>\n",
              "      <td>0</td>\n",
              "      <td>1</td>\n",
              "      <td>0</td>\n",
              "      <td>0</td>\n",
              "      <td>1</td>\n",
              "      <td>0</td>\n",
              "      <td>0</td>\n",
              "      <td>1</td>\n",
              "      <td>0</td>\n",
              "      <td>0</td>\n",
              "      <td>0</td>\n",
              "      <td>1</td>\n",
              "    </tr>\n",
              "    <tr>\n",
              "      <th>4</th>\n",
              "      <td>0</td>\n",
              "      <td>1</td>\n",
              "      <td>0</td>\n",
              "      <td>0</td>\n",
              "      <td>0</td>\n",
              "      <td>0</td>\n",
              "      <td>0</td>\n",
              "      <td>0</td>\n",
              "      <td>1</td>\n",
              "      <td>1</td>\n",
              "      <td>0</td>\n",
              "      <td>0</td>\n",
              "      <td>1</td>\n",
              "    </tr>\n",
              "    <tr>\n",
              "      <th>...</th>\n",
              "      <td>...</td>\n",
              "      <td>...</td>\n",
              "      <td>...</td>\n",
              "      <td>...</td>\n",
              "      <td>...</td>\n",
              "      <td>...</td>\n",
              "      <td>...</td>\n",
              "      <td>...</td>\n",
              "      <td>...</td>\n",
              "      <td>...</td>\n",
              "      <td>...</td>\n",
              "      <td>...</td>\n",
              "      <td>...</td>\n",
              "    </tr>\n",
              "    <tr>\n",
              "      <th>280</th>\n",
              "      <td>0</td>\n",
              "      <td>0</td>\n",
              "      <td>0</td>\n",
              "      <td>0</td>\n",
              "      <td>0</td>\n",
              "      <td>1</td>\n",
              "      <td>0</td>\n",
              "      <td>0</td>\n",
              "      <td>1</td>\n",
              "      <td>0</td>\n",
              "      <td>0</td>\n",
              "      <td>0</td>\n",
              "      <td>1</td>\n",
              "    </tr>\n",
              "    <tr>\n",
              "      <th>281</th>\n",
              "      <td>0</td>\n",
              "      <td>1</td>\n",
              "      <td>0</td>\n",
              "      <td>1</td>\n",
              "      <td>0</td>\n",
              "      <td>1</td>\n",
              "      <td>0</td>\n",
              "      <td>0</td>\n",
              "      <td>1</td>\n",
              "      <td>1</td>\n",
              "      <td>0</td>\n",
              "      <td>0</td>\n",
              "      <td>1</td>\n",
              "    </tr>\n",
              "    <tr>\n",
              "      <th>282</th>\n",
              "      <td>1</td>\n",
              "      <td>1</td>\n",
              "      <td>0</td>\n",
              "      <td>1</td>\n",
              "      <td>0</td>\n",
              "      <td>0</td>\n",
              "      <td>0</td>\n",
              "      <td>0</td>\n",
              "      <td>1</td>\n",
              "      <td>0</td>\n",
              "      <td>1</td>\n",
              "      <td>0</td>\n",
              "      <td>0</td>\n",
              "    </tr>\n",
              "    <tr>\n",
              "      <th>283</th>\n",
              "      <td>0</td>\n",
              "      <td>1</td>\n",
              "      <td>0</td>\n",
              "      <td>0</td>\n",
              "      <td>0</td>\n",
              "      <td>1</td>\n",
              "      <td>0</td>\n",
              "      <td>0</td>\n",
              "      <td>1</td>\n",
              "      <td>1</td>\n",
              "      <td>0</td>\n",
              "      <td>0</td>\n",
              "      <td>1</td>\n",
              "    </tr>\n",
              "    <tr>\n",
              "      <th>284</th>\n",
              "      <td>1</td>\n",
              "      <td>0</td>\n",
              "      <td>1</td>\n",
              "      <td>0</td>\n",
              "      <td>0</td>\n",
              "      <td>1</td>\n",
              "      <td>0</td>\n",
              "      <td>0</td>\n",
              "      <td>1</td>\n",
              "      <td>1</td>\n",
              "      <td>0</td>\n",
              "      <td>0</td>\n",
              "      <td>1</td>\n",
              "    </tr>\n",
              "  </tbody>\n",
              "</table>\n",
              "<p>285 rows × 13 columns</p>\n",
              "</div>"
            ],
            "text/plain": [
              "     Sex  is_51_76  ...  is_cronic_pain_uncu  is_control\n",
              "0      0         1  ...                    0           1\n",
              "1      0         0  ...                    0           1\n",
              "2      0         0  ...                    0           1\n",
              "3      0         0  ...                    0           1\n",
              "4      0         1  ...                    0           1\n",
              "..   ...       ...  ...                  ...         ...\n",
              "280    0         0  ...                    0           1\n",
              "281    0         1  ...                    0           1\n",
              "282    1         1  ...                    0           0\n",
              "283    0         1  ...                    0           1\n",
              "284    1         0  ...                    0           1\n",
              "\n",
              "[285 rows x 13 columns]"
            ]
          },
          "metadata": {},
          "execution_count": 114
        }
      ]
    },
    {
      "cell_type": "markdown",
      "metadata": {
        "id": "ger1dbhtuEZM"
      },
      "source": [
        "![green-divider](https://user-images.githubusercontent.com/7065401/52071924-c003ad80-2562-11e9-8297-1c6595f8a7ff.png)"
      ]
    },
    {
      "cell_type": "markdown",
      "metadata": {
        "id": "5JvOfJ2k_aOB"
      },
      "source": [
        "### Prediction of Patients who are Going to Buy FMs Prescribed"
      ]
    },
    {
      "cell_type": "code",
      "metadata": {
        "colab": {
          "base_uri": "https://localhost:8080/"
        },
        "id": "zwOLVAoF_lP_",
        "outputId": "48a88868-055a-441e-90db-eb7fb2208b65"
      },
      "source": [
        "# prediction with classification threshold >= 0.675\n",
        "  # 1 >> patient is classified as a buyer \n",
        "  # 0 >> patient is classified as a non_buyer\n",
        "prediction_new_date = (classifier.predict_proba(features_encoded_date)[:,1]>=0.675).astype(int)\n",
        "\n",
        "prediction_new_date"
      ],
      "execution_count": null,
      "outputs": [
        {
          "output_type": "execute_result",
          "data": {
            "text/plain": [
              "array([1, 0, 1, 1, 1, 1, 1, 1, 0, 1, 1, 1, 1, 1, 0, 1, 1, 1, 1, 1, 1, 1,\n",
              "       1, 1, 1, 1, 1, 1, 1, 1, 0, 1, 1, 1, 1, 1, 1, 1, 1, 1, 1, 1, 1, 1,\n",
              "       1, 1, 1, 1, 1, 1, 1, 1, 1, 1, 1, 1, 1, 0, 1, 1, 1, 1, 1, 1, 1, 1,\n",
              "       0, 1, 1, 1, 1, 1, 1, 1, 1, 0, 1, 1, 1, 1, 1, 1, 1, 0, 0, 1, 1, 1,\n",
              "       1, 1, 1, 1, 1, 1, 1, 1, 1, 1, 1, 1, 1, 1, 1, 0, 1, 1, 1, 1, 1, 1,\n",
              "       1, 1, 1, 1, 1, 1, 1, 1, 1, 1, 1, 1, 1, 1, 1, 1, 1, 1, 1, 1, 1, 1,\n",
              "       1, 1, 1, 1, 1, 1, 1, 1, 1, 1, 1, 1, 1, 1, 1, 1, 1, 1, 1, 0, 1, 1,\n",
              "       0, 1, 0, 1, 1, 1, 1, 1, 1, 1, 1, 1, 1, 1, 1, 0, 1, 1, 1, 1, 1, 1,\n",
              "       1, 1, 1, 1, 1, 1, 1, 1, 0, 1, 1, 1, 1, 1, 1, 0, 1, 1, 1, 1, 0, 1,\n",
              "       1, 0, 0, 1, 1, 0, 1, 1, 1, 0, 1, 1, 1, 1, 1, 0, 1, 1, 1, 1, 1, 0,\n",
              "       0, 1, 1, 1, 1, 1, 1, 1, 1, 1, 1, 1, 1, 1, 1, 1, 0, 1, 1, 0, 1, 1,\n",
              "       1, 1, 1, 1, 1, 1, 1, 1, 1, 1, 1, 0, 1, 1, 1, 1, 1, 1, 1, 1, 1, 1,\n",
              "       1, 1, 1, 1, 1, 1, 0, 1, 1, 1, 1, 1, 1, 1, 1, 0, 0, 1, 1, 1, 1])"
            ]
          },
          "metadata": {},
          "execution_count": 115
        }
      ]
    },
    {
      "cell_type": "code",
      "metadata": {
        "id": "gj9AGqyiAPT1"
      },
      "source": [
        "# vector of probabilities for the procedures of the day\n",
        "probabilities = classifier.predict_proba(features_encoded_date)\n",
        "\n",
        "print('         Non_Buyer   |  Buyer   ')\n",
        "probabilities"
      ],
      "execution_count": null,
      "outputs": []
    },
    {
      "cell_type": "code",
      "metadata": {
        "id": "FNEv6d1lDEp2"
      },
      "source": [
        "# add the predictions to the df_date_raw procedures \n",
        "df_date_raw['FM_buyer'] = prediction_new_date\n",
        "# select un-encoded features\n",
        "df_date_raw = df_date_raw[['Ingreso', 'Edad', 'Sexo', 'CiudadMunicipio', 'Diagnostico', 'Tipo Plan',\\\n",
        "                           'FechaFormulacion', 'CodProducto', 'Cantidad', 'tipo_examen', 'FM_buyer']]\n",
        "\n",
        "# change column names to fit postgres table\n",
        "df_date_raw = df_date_raw.rename(columns={'Ingreso': 'ingreso',\n",
        "                                          'Edad': 'edad',\n",
        "                                          'Sexo': 'sexo',\n",
        "                                          'CiudadMunicipio': 'ciudad_municipio',\n",
        "                                          'Diagnostico': 'diagnostico',\n",
        "                                          'Tipo Plan': 'tipo_plan',\n",
        "                                          'FechaFormulacion': 'fecha_formulacion',\n",
        "                                          'CodProducto': 'cod_producto',\n",
        "                                          'Cantidad': 'cantidad',\n",
        "                                          'tipo_examen': 'tipo_examen',\n",
        "                                          'FM_buyer': 'fm_buyer'})\n"
      ],
      "execution_count": null,
      "outputs": []
    },
    {
      "cell_type": "code",
      "metadata": {
        "colab": {
          "base_uri": "https://localhost:8080/",
          "height": 515
        },
        "id": "LkkdjR9JnUY-",
        "outputId": "bcdee670-5bb1-4808-8620-4abb4f85c8b1"
      },
      "source": [
        "# number of prescriptions\n",
        "num_prescrip = len(df_date_raw)\n",
        "# predicted buyers\n",
        "num_buyers = len(df_date_raw[df_date_raw['fm_buyer'] == 1])\n",
        "# patient purchase rate\n",
        "patient_purchase_rate = round((num_buyers / num_prescrip) * 100, 2)\n",
        "\n",
        "\n",
        "# number of FMs_prescribed\n",
        "fms_prescribed = df_date_raw.cantidad.sum()\n",
        "# number of predicted FMs bought\n",
        "fms_predict = df_date_raw.cantidad[df_date_raw['fm_buyer'] == 1].sum()\n",
        "# FMs purchase rate\n",
        "fms_purchase_rate = round((fms_predict / fms_prescribed) * 100, 2)\n",
        "\n",
        "\n",
        "print(f'Procedimientos Ordenados: {date}', '\\n')\n",
        "\n",
        "print(f'Number of Patient Prescriptions: {num_prescrip}')\n",
        "print(f'Number of Predicted Buyers: {num_buyers}')\n",
        "print(f'Patient Purchase Rate: {patient_purchase_rate}%', '\\n')\n",
        "\n",
        "print(f'Number of FMs prescribed: {fms_prescribed}')\n",
        "print(f'Number of Predicted FMs bought: {fms_predict}')\n",
        "print(f'FMs Purchase Rate: {fms_purchase_rate}%', '\\n')\n",
        "\n",
        "df_date_raw.head(9)"
      ],
      "execution_count": null,
      "outputs": [
        {
          "output_type": "stream",
          "name": "stdout",
          "text": [
            "Procedimientos Ordenados: 2021-11-22 \n",
            "\n",
            "Number of Patient Prescriptions: 285\n",
            "Number of Predicted Buyers: 255\n",
            "Patient Purchase Rate: 89.47% \n",
            "\n",
            "Number of FMs prescribed: 558\n",
            "Number of Predicted FMs bought: 490\n",
            "FMs Purchase Rate: 87.81% \n",
            "\n"
          ]
        },
        {
          "output_type": "execute_result",
          "data": {
            "text/html": [
              "<div>\n",
              "<style scoped>\n",
              "    .dataframe tbody tr th:only-of-type {\n",
              "        vertical-align: middle;\n",
              "    }\n",
              "\n",
              "    .dataframe tbody tr th {\n",
              "        vertical-align: top;\n",
              "    }\n",
              "\n",
              "    .dataframe thead th {\n",
              "        text-align: right;\n",
              "    }\n",
              "</style>\n",
              "<table border=\"1\" class=\"dataframe\">\n",
              "  <thead>\n",
              "    <tr style=\"text-align: right;\">\n",
              "      <th></th>\n",
              "      <th>ingreso</th>\n",
              "      <th>edad</th>\n",
              "      <th>sexo</th>\n",
              "      <th>ciudad_municipio</th>\n",
              "      <th>diagnostico</th>\n",
              "      <th>tipo_plan</th>\n",
              "      <th>fecha_formulacion</th>\n",
              "      <th>cod_producto</th>\n",
              "      <th>cantidad</th>\n",
              "      <th>tipo_examen</th>\n",
              "      <th>fm_buyer</th>\n",
              "    </tr>\n",
              "  </thead>\n",
              "  <tbody>\n",
              "    <tr>\n",
              "      <th>0</th>\n",
              "      <td>239502</td>\n",
              "      <td>70</td>\n",
              "      <td>F</td>\n",
              "      <td>BOGOTÁ D.C.</td>\n",
              "      <td>OTRO DOLOR CRONICO</td>\n",
              "      <td>Particular</td>\n",
              "      <td>2021-11-22</td>\n",
              "      <td>fm001</td>\n",
              "      <td>1</td>\n",
              "      <td>Control</td>\n",
              "      <td>1</td>\n",
              "    </tr>\n",
              "    <tr>\n",
              "      <th>1</th>\n",
              "      <td>243790</td>\n",
              "      <td>38</td>\n",
              "      <td>F</td>\n",
              "      <td>SOACHA</td>\n",
              "      <td>TRASTORNO DE DISCO LUMBAR YOTROS, CON RADICULO...</td>\n",
              "      <td>EPS</td>\n",
              "      <td>2021-11-22</td>\n",
              "      <td>fm001</td>\n",
              "      <td>3</td>\n",
              "      <td>Control</td>\n",
              "      <td>0</td>\n",
              "    </tr>\n",
              "    <tr>\n",
              "      <th>2</th>\n",
              "      <td>243963</td>\n",
              "      <td>43</td>\n",
              "      <td>F</td>\n",
              "      <td>BOGOTÁ D.C.</td>\n",
              "      <td>OTRO DOLOR CRONICO</td>\n",
              "      <td>EPS</td>\n",
              "      <td>2021-11-22</td>\n",
              "      <td>fm001</td>\n",
              "      <td>1</td>\n",
              "      <td>Control</td>\n",
              "      <td>1</td>\n",
              "    </tr>\n",
              "    <tr>\n",
              "      <th>3</th>\n",
              "      <td>244421</td>\n",
              "      <td>86</td>\n",
              "      <td>F</td>\n",
              "      <td>BOGOTÁ D.C.</td>\n",
              "      <td>None</td>\n",
              "      <td>EPS</td>\n",
              "      <td>2021-11-22</td>\n",
              "      <td>fm001</td>\n",
              "      <td>2</td>\n",
              "      <td>Control</td>\n",
              "      <td>1</td>\n",
              "    </tr>\n",
              "    <tr>\n",
              "      <th>4</th>\n",
              "      <td>244870</td>\n",
              "      <td>59</td>\n",
              "      <td>F</td>\n",
              "      <td>BOGOTÁ D.C.</td>\n",
              "      <td>OTRO DOLOR CRONICO</td>\n",
              "      <td>EPS</td>\n",
              "      <td>2021-11-22</td>\n",
              "      <td>fm003</td>\n",
              "      <td>1</td>\n",
              "      <td>Control</td>\n",
              "      <td>1</td>\n",
              "    </tr>\n",
              "    <tr>\n",
              "      <th>5</th>\n",
              "      <td>245243</td>\n",
              "      <td>68</td>\n",
              "      <td>M</td>\n",
              "      <td>SOACHA</td>\n",
              "      <td>OTRO DOLOR CRONICO</td>\n",
              "      <td>EPS</td>\n",
              "      <td>2021-11-22</td>\n",
              "      <td>fm001</td>\n",
              "      <td>2</td>\n",
              "      <td>Control</td>\n",
              "      <td>1</td>\n",
              "    </tr>\n",
              "    <tr>\n",
              "      <th>6</th>\n",
              "      <td>246615</td>\n",
              "      <td>47</td>\n",
              "      <td>F</td>\n",
              "      <td>BOGOTÁ D.C.</td>\n",
              "      <td>OTRO DOLOR CRONICO</td>\n",
              "      <td>EPS</td>\n",
              "      <td>2021-11-22</td>\n",
              "      <td>fm001</td>\n",
              "      <td>2</td>\n",
              "      <td>Control</td>\n",
              "      <td>1</td>\n",
              "    </tr>\n",
              "    <tr>\n",
              "      <th>7</th>\n",
              "      <td>246627</td>\n",
              "      <td>40</td>\n",
              "      <td>M</td>\n",
              "      <td>BOGOTÁ D.C.</td>\n",
              "      <td>OTRO DOLOR CRONICO</td>\n",
              "      <td>EPS</td>\n",
              "      <td>2021-11-22</td>\n",
              "      <td>fm003</td>\n",
              "      <td>1</td>\n",
              "      <td>Control</td>\n",
              "      <td>1</td>\n",
              "    </tr>\n",
              "    <tr>\n",
              "      <th>8</th>\n",
              "      <td>246737</td>\n",
              "      <td>43</td>\n",
              "      <td>M</td>\n",
              "      <td>GUASCA</td>\n",
              "      <td>OTRO DOLOR CRONICO</td>\n",
              "      <td>EPS</td>\n",
              "      <td>2021-11-22</td>\n",
              "      <td>fm001</td>\n",
              "      <td>1</td>\n",
              "      <td>Primera vez</td>\n",
              "      <td>0</td>\n",
              "    </tr>\n",
              "  </tbody>\n",
              "</table>\n",
              "</div>"
            ],
            "text/plain": [
              "   ingreso  edad sexo  ... cantidad  tipo_examen fm_buyer\n",
              "0   239502    70    F  ...        1      Control        1\n",
              "1   243790    38    F  ...        3      Control        0\n",
              "2   243963    43    F  ...        1      Control        1\n",
              "3   244421    86    F  ...        2      Control        1\n",
              "4   244870    59    F  ...        1      Control        1\n",
              "5   245243    68    M  ...        2      Control        1\n",
              "6   246615    47    F  ...        2      Control        1\n",
              "7   246627    40    M  ...        1      Control        1\n",
              "8   246737    43    M  ...        1  Primera vez        0\n",
              "\n",
              "[9 rows x 11 columns]"
            ]
          },
          "metadata": {},
          "execution_count": 118
        }
      ]
    },
    {
      "cell_type": "code",
      "metadata": {
        "id": "KHMbdxPCuChG"
      },
      "source": [
        "# export df_date_raw to csv\n",
        "file_name = f'Next_Buyers_FMs_{date}.csv'\n",
        "\n",
        "df_date_raw.to_csv(file_name, index=False, encoding='utf-8-sig')"
      ],
      "execution_count": null,
      "outputs": []
    },
    {
      "cell_type": "code",
      "metadata": {
        "id": "PT1haexwngf6"
      },
      "source": [
        "# close cursor and connection\n",
        "cursor.close()\n",
        "cnxn.close()"
      ],
      "execution_count": null,
      "outputs": []
    },
    {
      "cell_type": "markdown",
      "metadata": {
        "id": "f6mrZztAE8Xu"
      },
      "source": [
        "![purple-divider](https://user-images.githubusercontent.com/7065401/52071927-c1cd7100-2562-11e9-908a-dde91ba14e59.png)"
      ]
    },
    {
      "cell_type": "markdown",
      "metadata": {
        "id": "O-1kgAwdpAtQ"
      },
      "source": [
        "## Connecting to PostGres"
      ]
    },
    {
      "cell_type": "markdown",
      "metadata": {
        "id": "FHaBBnBFpDsF"
      },
      "source": [
        "### Installation"
      ]
    },
    {
      "cell_type": "code",
      "metadata": {
        "colab": {
          "base_uri": "https://localhost:8080/",
          "height": 148
        },
        "id": "P_hrEG7xpHQd",
        "outputId": "6492d6e0-6316-40ee-80a9-fa3d652ef896"
      },
      "source": [
        "# install postgres\n",
        "!apt install postgresql postgresql-contrib &>log\n",
        "!service postgresql start\n",
        "!sudo -u postgres psql -c \"CREATE USER root WITH SUPERUSER\"\n",
        "# set connection\n",
        "%load_ext sql\n",
        "%config SqlMagic.feedback=False \n",
        "%config SqlMagic.autopandas=True\n",
        "%sql postgresql+psycopg2://@/postgres"
      ],
      "execution_count": null,
      "outputs": [
        {
          "output_type": "stream",
          "name": "stdout",
          "text": [
            " * Starting PostgreSQL 10 database server\n",
            "   ...done.\n",
            "ERROR:  role \"root\" already exists\n"
          ]
        },
        {
          "output_type": "stream",
          "name": "stderr",
          "text": [
            "/usr/local/lib/python3.7/dist-packages/psycopg2/__init__.py:144: UserWarning: The psycopg2 wheel package will be renamed from release 2.8; in order to keep installing from binary please use \"pip install psycopg2-binary\" instead. For details see: <http://initd.org/psycopg/docs/install.html#binary-install-from-pypi>.\n",
            "  \"\"\")\n"
          ]
        },
        {
          "output_type": "execute_result",
          "data": {
            "application/vnd.google.colaboratory.intrinsic+json": {
              "type": "string"
            },
            "text/plain": [
              "'Connected: @postgres'"
            ]
          },
          "metadata": {},
          "execution_count": 121
        }
      ]
    },
    {
      "cell_type": "code",
      "metadata": {
        "colab": {
          "base_uri": "https://localhost:8080/"
        },
        "id": "Mrkjo8JtpNLC",
        "outputId": "a8f01a9b-546a-4d95-a11d-4f39f856690a"
      },
      "source": [
        "# import psycopg2 to connect to Postgres\n",
        "import psycopg2\n",
        "\n",
        "params = {\n",
        "    \"host\"      : \"khcosbdp1.postgres.database.azure.com\",\n",
        "    \"database\"  : \"DEVKHIRON\",\n",
        "    \"user\"      : \"administrador@khcosbdp1\",\n",
        "    \"password\"  : \"F1l1p1n4#-2\"\n",
        "}\n",
        "\n",
        "def connect(params):\n",
        "    \"\"\" Connect to the PostgreSQL database server \"\"\"\n",
        "    conn = None\n",
        "    try:\n",
        "        # connect to the PostgreSQL server\n",
        "        print('Connecting to the PostgreSQL database...')\n",
        "        conn = psycopg2.connect(**params)\n",
        "    except (Exception, psycopg2.DatabaseError) as error:\n",
        "        print(error)\n",
        "         \n",
        "    return conn\n",
        "\n",
        "cnxn = connect(params)"
      ],
      "execution_count": null,
      "outputs": [
        {
          "output_type": "stream",
          "name": "stdout",
          "text": [
            "Connecting to the PostgreSQL database...\n"
          ]
        }
      ]
    },
    {
      "cell_type": "markdown",
      "metadata": {
        "id": "aIAKaJFopdX3"
      },
      "source": [
        "![green-divider](https://user-images.githubusercontent.com/7065401/52071924-c003ad80-2562-11e9-8297-1c6595f8a7ff.png)"
      ]
    },
    {
      "cell_type": "markdown",
      "metadata": {
        "id": "XsfRqbRwpggt"
      },
      "source": [
        "### Insert Predictions to PostGres Table"
      ]
    },
    {
      "cell_type": "code",
      "metadata": {
        "id": "t3X_ZkSBpl1U"
      },
      "source": [
        "# initialize cursor\n",
        "cursor = cnxn.cursor()\n",
        "\n",
        "# iterate through each record in df_date_raw and execute query\n",
        "for row in df_date_raw.itertuples():\n",
        "  cursor.execute('INSERT INTO \"SKHIRON\".\"F_Predict_Bu_K\"(ingreso,edad,sexo,ciudad_municipio,diagnostico,tipo_plan,fecha_formulacion,cod_producto,cantidad,tipo_examen,fm_buyer) VALUES(%s,%s,%s,%s,%s,%s,%s,%s,%s,%s,%s)',\\\n",
        "                 (row.ingreso, row.edad, row.sexo, row.ciudad_municipio, row.diagnostico, row.tipo_plan, row.fecha_formulacion, row.cod_producto, row.cantidad, row.tipo_examen, row.fm_buyer))\n",
        "\n",
        "cnxn.commit()\n"
      ],
      "execution_count": null,
      "outputs": []
    },
    {
      "cell_type": "code",
      "metadata": {
        "colab": {
          "base_uri": "https://localhost:8080/",
          "height": 206
        },
        "id": "TMD4o2HXp8Ur",
        "outputId": "671e3eda-b5dd-4523-c3a2-3d88875e8424"
      },
      "source": [
        "# test that table in postgres has inserted values\n",
        "df_pg_test = pd.read_sql('SELECT * FROM \"SKHIRON\".\"F_Predict_Bu_K\"', cnxn)\n",
        "df_pg_test.tail()"
      ],
      "execution_count": null,
      "outputs": [
        {
          "output_type": "execute_result",
          "data": {
            "text/html": [
              "<div>\n",
              "<style scoped>\n",
              "    .dataframe tbody tr th:only-of-type {\n",
              "        vertical-align: middle;\n",
              "    }\n",
              "\n",
              "    .dataframe tbody tr th {\n",
              "        vertical-align: top;\n",
              "    }\n",
              "\n",
              "    .dataframe thead th {\n",
              "        text-align: right;\n",
              "    }\n",
              "</style>\n",
              "<table border=\"1\" class=\"dataframe\">\n",
              "  <thead>\n",
              "    <tr style=\"text-align: right;\">\n",
              "      <th></th>\n",
              "      <th>ingreso</th>\n",
              "      <th>edad</th>\n",
              "      <th>sexo</th>\n",
              "      <th>ciudad_municipio</th>\n",
              "      <th>diagnostico</th>\n",
              "      <th>tipo_plan</th>\n",
              "      <th>fecha_formulacion</th>\n",
              "      <th>cod_producto</th>\n",
              "      <th>cantidad</th>\n",
              "      <th>tipo_examen</th>\n",
              "      <th>fm_buyer</th>\n",
              "    </tr>\n",
              "  </thead>\n",
              "  <tbody>\n",
              "    <tr>\n",
              "      <th>1616</th>\n",
              "      <td>249611.0</td>\n",
              "      <td>42</td>\n",
              "      <td>F</td>\n",
              "      <td>BOGOTÁ D.C.</td>\n",
              "      <td>None</td>\n",
              "      <td>EPS</td>\n",
              "      <td>2021-11-22</td>\n",
              "      <td>fm001</td>\n",
              "      <td>3</td>\n",
              "      <td>Control</td>\n",
              "      <td>0</td>\n",
              "    </tr>\n",
              "    <tr>\n",
              "      <th>1617</th>\n",
              "      <td>249615.0</td>\n",
              "      <td>70</td>\n",
              "      <td>F</td>\n",
              "      <td>BOGOTÁ D.C.</td>\n",
              "      <td>OTRO DOLOR CRONICO</td>\n",
              "      <td>Particular</td>\n",
              "      <td>2021-11-22</td>\n",
              "      <td>fm001</td>\n",
              "      <td>3</td>\n",
              "      <td>Control</td>\n",
              "      <td>1</td>\n",
              "    </tr>\n",
              "    <tr>\n",
              "      <th>1618</th>\n",
              "      <td>249617.0</td>\n",
              "      <td>53</td>\n",
              "      <td>M</td>\n",
              "      <td>BOGOTÁ D.C.</td>\n",
              "      <td>TRASTORNO MIXTO DE ANSIEDAD YDEPRESION</td>\n",
              "      <td>Particular</td>\n",
              "      <td>2021-11-22</td>\n",
              "      <td>fm004</td>\n",
              "      <td>1</td>\n",
              "      <td>Primera vez</td>\n",
              "      <td>1</td>\n",
              "    </tr>\n",
              "    <tr>\n",
              "      <th>1619</th>\n",
              "      <td>249620.0</td>\n",
              "      <td>65</td>\n",
              "      <td>F</td>\n",
              "      <td>BOGOTÁ D.C.</td>\n",
              "      <td>OTRO DOLOR CRONICO</td>\n",
              "      <td>EPS</td>\n",
              "      <td>2021-11-22</td>\n",
              "      <td>fm001</td>\n",
              "      <td>2</td>\n",
              "      <td>Control</td>\n",
              "      <td>1</td>\n",
              "    </tr>\n",
              "    <tr>\n",
              "      <th>1620</th>\n",
              "      <td>249624.0</td>\n",
              "      <td>88</td>\n",
              "      <td>M</td>\n",
              "      <td>BOGOTÁ D.C.</td>\n",
              "      <td>OTRO DOLOR CRONICO</td>\n",
              "      <td>EPS</td>\n",
              "      <td>2021-11-22</td>\n",
              "      <td>fm001</td>\n",
              "      <td>1</td>\n",
              "      <td>Control</td>\n",
              "      <td>1</td>\n",
              "    </tr>\n",
              "  </tbody>\n",
              "</table>\n",
              "</div>"
            ],
            "text/plain": [
              "       ingreso  edad sexo  ... cantidad  tipo_examen fm_buyer\n",
              "1616  249611.0    42    F  ...        3      Control        0\n",
              "1617  249615.0    70    F  ...        3      Control        1\n",
              "1618  249617.0    53    M  ...        1  Primera vez        1\n",
              "1619  249620.0    65    F  ...        2      Control        1\n",
              "1620  249624.0    88    M  ...        1      Control        1\n",
              "\n",
              "[5 rows x 11 columns]"
            ]
          },
          "metadata": {},
          "execution_count": 124
        }
      ]
    },
    {
      "cell_type": "code",
      "metadata": {
        "id": "wBqcdaBbqaH4"
      },
      "source": [
        "# close cursor & connection\n",
        "cursor.close()\n",
        "cnxn.close()\n"
      ],
      "execution_count": null,
      "outputs": []
    },
    {
      "cell_type": "markdown",
      "metadata": {
        "id": "IsA1bGw7qfme"
      },
      "source": [
        "![purple-divider](https://user-images.githubusercontent.com/7065401/52071927-c1cd7100-2562-11e9-908a-dde91ba14e59.png)"
      ]
    }
  ]
}