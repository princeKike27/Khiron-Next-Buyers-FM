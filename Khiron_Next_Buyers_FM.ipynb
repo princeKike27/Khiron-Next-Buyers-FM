{
  "nbformat": 4,
  "nbformat_minor": 0,
  "metadata": {
    "colab": {
      "name": "Khiron-Next-Buyers-FM.ipynb",
      "provenance": [],
      "collapsed_sections": [],
      "authorship_tag": "ABX9TyO9gCg5T2BevCGOyaoclkIH",
      "include_colab_link": true
    },
    "kernelspec": {
      "name": "python3",
      "display_name": "Python 3"
    },
    "language_info": {
      "name": "python"
    }
  },
  "cells": [
    {
      "cell_type": "markdown",
      "metadata": {
        "id": "view-in-github",
        "colab_type": "text"
      },
      "source": [
        "<a href=\"https://colab.research.google.com/github/princeKike27/Khiron-Next-Buyers-FM/blob/main/Khiron_Next_Buyers_FM.ipynb\" target=\"_parent\"><img src=\"https://colab.research.google.com/assets/colab-badge.svg\" alt=\"Open In Colab\"/></a>"
      ]
    },
    {
      "cell_type": "markdown",
      "metadata": {
        "id": "oWKTJQi_pfYa"
      },
      "source": [
        "# Khiron Next Buyers\n",
        "\n",
        "For this project ..."
      ]
    },
    {
      "cell_type": "markdown",
      "metadata": {
        "id": "J_ripd1IpwiS"
      },
      "source": [
        "![purple-divider](https://user-images.githubusercontent.com/7065401/52071927-c1cd7100-2562-11e9-908a-dde91ba14e59.png)"
      ]
    },
    {
      "cell_type": "code",
      "metadata": {
        "id": "xD0eYhC6pZ5T"
      },
      "source": [
        "# import modules\n",
        "import pandas as pd\n",
        "import numpy as np\n",
        "import matplotlib.pyplot as plt\n",
        "import seaborn as sns"
      ],
      "execution_count": 1,
      "outputs": []
    },
    {
      "cell_type": "code",
      "metadata": {
        "id": "udspsBPQqYww"
      },
      "source": [
        "# load data files\n",
        "\n",
        "# sales df\n",
        "df_sales = pd.read_csv(\n",
        "    'https://raw.githubusercontent.com/princeKike27/Khiron-Next-Buyers-FM/main/Compras_FMs.csv',\\\n",
        "    sep=';')\n",
        "\n",
        "# procedures df\n",
        "df_procedures = pd.read_csv(\n",
        "    'https://raw.githubusercontent.com/princeKike27/Khiron-Next-Buyers-FM/main/Procedimientos_FMs.csv',\\\n",
        "    sep=';')"
      ],
      "execution_count": 2,
      "outputs": []
    },
    {
      "cell_type": "code",
      "metadata": {
        "colab": {
          "base_uri": "https://localhost:8080/",
          "height": 382
        },
        "id": "EoeVjChvvcs4",
        "outputId": "155db8a1-b651-4613-8695-21341849a8f2"
      },
      "source": [
        "# check procedures df\n",
        "df_procedures.head()"
      ],
      "execution_count": 3,
      "outputs": [
        {
          "output_type": "execute_result",
          "data": {
            "text/html": [
              "<div>\n",
              "<style scoped>\n",
              "    .dataframe tbody tr th:only-of-type {\n",
              "        vertical-align: middle;\n",
              "    }\n",
              "\n",
              "    .dataframe tbody tr th {\n",
              "        vertical-align: top;\n",
              "    }\n",
              "\n",
              "    .dataframe thead th {\n",
              "        text-align: right;\n",
              "    }\n",
              "</style>\n",
              "<table border=\"1\" class=\"dataframe\">\n",
              "  <thead>\n",
              "    <tr style=\"text-align: right;\">\n",
              "      <th></th>\n",
              "      <th>Ingreso</th>\n",
              "      <th>DocPaciente</th>\n",
              "      <th>Fecha Nacimiento</th>\n",
              "      <th>Edad</th>\n",
              "      <th>Sexo</th>\n",
              "      <th>CiudadMunicipio</th>\n",
              "      <th>Diagnostico</th>\n",
              "      <th>CodigoDiagnostico</th>\n",
              "      <th>Plan</th>\n",
              "      <th>Tipo Plan</th>\n",
              "      <th>FechaIngreso</th>\n",
              "      <th>FechaFormulacion</th>\n",
              "      <th>CodProducto</th>\n",
              "      <th>Cantidad</th>\n",
              "      <th>DocMedico</th>\n",
              "      <th>NombreMedico</th>\n",
              "      <th>Especialidad</th>\n",
              "      <th>Plan/Servicio</th>\n",
              "      <th>Sede</th>\n",
              "    </tr>\n",
              "  </thead>\n",
              "  <tbody>\n",
              "    <tr>\n",
              "      <th>0</th>\n",
              "      <td>26720</td>\n",
              "      <td>41453437</td>\n",
              "      <td>30/09/1949</td>\n",
              "      <td>72</td>\n",
              "      <td>F</td>\n",
              "      <td>BOGOTÁ D.C.</td>\n",
              "      <td>(OSTEO)ARTROSIS PRIMARIAGENERALIZADA</td>\n",
              "      <td>M150</td>\n",
              "      <td>PLAN PARTICULAR</td>\n",
              "      <td>Particular</td>\n",
              "      <td>2020-03-19</td>\n",
              "      <td>2020-03-19</td>\n",
              "      <td>fm001</td>\n",
              "      <td>1</td>\n",
              "      <td>53013811</td>\n",
              "      <td>LENIS  RIVERA</td>\n",
              "      <td>Algesiólogo</td>\n",
              "      <td>Consulta Dolor y Cuidados Paliativos</td>\n",
              "      <td>ZERENIA</td>\n",
              "    </tr>\n",
              "    <tr>\n",
              "      <th>1</th>\n",
              "      <td>26793</td>\n",
              "      <td>13352962</td>\n",
              "      <td>10/11/1960</td>\n",
              "      <td>61</td>\n",
              "      <td>M</td>\n",
              "      <td>BOGOTÁ D.C.</td>\n",
              "      <td>TRASTORNO DE DISCO LUMBAR YOTROS, CON RADICULO...</td>\n",
              "      <td>M511</td>\n",
              "      <td>PLAN PARTICULAR</td>\n",
              "      <td>Particular</td>\n",
              "      <td>2020-03-19</td>\n",
              "      <td>2020-03-19</td>\n",
              "      <td>fm001</td>\n",
              "      <td>1</td>\n",
              "      <td>53013811</td>\n",
              "      <td>LENIS  RIVERA</td>\n",
              "      <td>Algesiólogo</td>\n",
              "      <td>Consulta Dolor y Cuidados Paliativos</td>\n",
              "      <td>ZERENIA</td>\n",
              "    </tr>\n",
              "    <tr>\n",
              "      <th>2</th>\n",
              "      <td>26806</td>\n",
              "      <td>390646</td>\n",
              "      <td>1/08/1934</td>\n",
              "      <td>87</td>\n",
              "      <td>M</td>\n",
              "      <td>BOGOTÁ D.C.</td>\n",
              "      <td>NEURALGIA POSTHERPES ZOSTER(B02.2†)</td>\n",
              "      <td>G530</td>\n",
              "      <td>PLAN PARTICULAR</td>\n",
              "      <td>Particular</td>\n",
              "      <td>2020-03-19</td>\n",
              "      <td>2020-03-19</td>\n",
              "      <td>fm001</td>\n",
              "      <td>1</td>\n",
              "      <td>53013811</td>\n",
              "      <td>LENIS  RIVERA</td>\n",
              "      <td>Algesiólogo</td>\n",
              "      <td>Consulta Dolor y Cuidados Paliativos</td>\n",
              "      <td>ZERENIA</td>\n",
              "    </tr>\n",
              "    <tr>\n",
              "      <th>3</th>\n",
              "      <td>26928</td>\n",
              "      <td>19059029</td>\n",
              "      <td>13/09/1948</td>\n",
              "      <td>73</td>\n",
              "      <td>M</td>\n",
              "      <td>BOGOTÁ D.C.</td>\n",
              "      <td>NaN</td>\n",
              "      <td>NaN</td>\n",
              "      <td>PLAN PARTICULAR</td>\n",
              "      <td>Particular</td>\n",
              "      <td>2020-03-19</td>\n",
              "      <td>2020-03-19</td>\n",
              "      <td>fm001</td>\n",
              "      <td>1</td>\n",
              "      <td>53007921</td>\n",
              "      <td>XIOMARA  GARCIA</td>\n",
              "      <td>Neurologia</td>\n",
              "      <td>Neurologia</td>\n",
              "      <td>ZERENIA</td>\n",
              "    </tr>\n",
              "    <tr>\n",
              "      <th>4</th>\n",
              "      <td>26846</td>\n",
              "      <td>41595666</td>\n",
              "      <td>20/09/1953</td>\n",
              "      <td>68</td>\n",
              "      <td>F</td>\n",
              "      <td>CAJICÁ</td>\n",
              "      <td>NaN</td>\n",
              "      <td>NaN</td>\n",
              "      <td>PLAN PARTICULAR</td>\n",
              "      <td>Particular</td>\n",
              "      <td>2020-03-19</td>\n",
              "      <td>2020-03-19</td>\n",
              "      <td>fm001</td>\n",
              "      <td>1</td>\n",
              "      <td>53007921</td>\n",
              "      <td>XIOMARA  GARCIA</td>\n",
              "      <td>Neurologia</td>\n",
              "      <td>Neurologia</td>\n",
              "      <td>ZERENIA</td>\n",
              "    </tr>\n",
              "  </tbody>\n",
              "</table>\n",
              "</div>"
            ],
            "text/plain": [
              "   Ingreso DocPaciente  ...                         Plan/Servicio     Sede\n",
              "0    26720    41453437  ...  Consulta Dolor y Cuidados Paliativos  ZERENIA\n",
              "1    26793    13352962  ...  Consulta Dolor y Cuidados Paliativos  ZERENIA\n",
              "2    26806      390646  ...  Consulta Dolor y Cuidados Paliativos  ZERENIA\n",
              "3    26928    19059029  ...                            Neurologia  ZERENIA\n",
              "4    26846    41595666  ...                            Neurologia  ZERENIA\n",
              "\n",
              "[5 rows x 19 columns]"
            ]
          },
          "metadata": {},
          "execution_count": 3
        }
      ]
    },
    {
      "cell_type": "code",
      "metadata": {
        "id": "Dh7XFg3-rhah",
        "colab": {
          "base_uri": "https://localhost:8080/",
          "height": 206
        },
        "outputId": "69b9fac9-9106-4306-9d11-8eeecc4f3446"
      },
      "source": [
        "# check sales df\n",
        "df_sales.head()"
      ],
      "execution_count": 4,
      "outputs": [
        {
          "output_type": "execute_result",
          "data": {
            "text/html": [
              "<div>\n",
              "<style scoped>\n",
              "    .dataframe tbody tr th:only-of-type {\n",
              "        vertical-align: middle;\n",
              "    }\n",
              "\n",
              "    .dataframe tbody tr th {\n",
              "        vertical-align: top;\n",
              "    }\n",
              "\n",
              "    .dataframe thead th {\n",
              "        text-align: right;\n",
              "    }\n",
              "</style>\n",
              "<table border=\"1\" class=\"dataframe\">\n",
              "  <thead>\n",
              "    <tr style=\"text-align: right;\">\n",
              "      <th></th>\n",
              "      <th>ingreso</th>\n",
              "      <th>cedula</th>\n",
              "      <th>fecha_oc</th>\n",
              "    </tr>\n",
              "  </thead>\n",
              "  <tbody>\n",
              "    <tr>\n",
              "      <th>0</th>\n",
              "      <td>26806</td>\n",
              "      <td>390646</td>\n",
              "      <td>2020-03-19</td>\n",
              "    </tr>\n",
              "    <tr>\n",
              "      <th>1</th>\n",
              "      <td>26793</td>\n",
              "      <td>13352962</td>\n",
              "      <td>2020-03-19</td>\n",
              "    </tr>\n",
              "    <tr>\n",
              "      <th>2</th>\n",
              "      <td>26928</td>\n",
              "      <td>19059029</td>\n",
              "      <td>2020-03-19</td>\n",
              "    </tr>\n",
              "    <tr>\n",
              "      <th>3</th>\n",
              "      <td>26891</td>\n",
              "      <td>31259698</td>\n",
              "      <td>2020-03-19</td>\n",
              "    </tr>\n",
              "    <tr>\n",
              "      <th>4</th>\n",
              "      <td>26720</td>\n",
              "      <td>41453437</td>\n",
              "      <td>2020-03-19</td>\n",
              "    </tr>\n",
              "  </tbody>\n",
              "</table>\n",
              "</div>"
            ],
            "text/plain": [
              "   ingreso    cedula    fecha_oc\n",
              "0    26806    390646  2020-03-19\n",
              "1    26793  13352962  2020-03-19\n",
              "2    26928  19059029  2020-03-19\n",
              "3    26891  31259698  2020-03-19\n",
              "4    26720  41453437  2020-03-19"
            ]
          },
          "metadata": {},
          "execution_count": 4
        }
      ]
    },
    {
      "cell_type": "markdown",
      "metadata": {
        "id": "Rvqdvrzpv2jY"
      },
      "source": [
        "![purple-divider](https://user-images.githubusercontent.com/7065401/52071927-c1cd7100-2562-11e9-908a-dde91ba14e59.png)"
      ]
    },
    {
      "cell_type": "markdown",
      "metadata": {
        "id": "d02slko9v77v"
      },
      "source": [
        "## Procedures FMs"
      ]
    },
    {
      "cell_type": "code",
      "metadata": {
        "id": "Xid2wi95wAEG",
        "colab": {
          "base_uri": "https://localhost:8080/",
          "height": 382
        },
        "outputId": "6962a921-3110-49c6-f526-ef7fb2457f7e"
      },
      "source": [
        "# procedures df\n",
        "df_procedures.head()"
      ],
      "execution_count": 5,
      "outputs": [
        {
          "output_type": "execute_result",
          "data": {
            "text/html": [
              "<div>\n",
              "<style scoped>\n",
              "    .dataframe tbody tr th:only-of-type {\n",
              "        vertical-align: middle;\n",
              "    }\n",
              "\n",
              "    .dataframe tbody tr th {\n",
              "        vertical-align: top;\n",
              "    }\n",
              "\n",
              "    .dataframe thead th {\n",
              "        text-align: right;\n",
              "    }\n",
              "</style>\n",
              "<table border=\"1\" class=\"dataframe\">\n",
              "  <thead>\n",
              "    <tr style=\"text-align: right;\">\n",
              "      <th></th>\n",
              "      <th>Ingreso</th>\n",
              "      <th>DocPaciente</th>\n",
              "      <th>Fecha Nacimiento</th>\n",
              "      <th>Edad</th>\n",
              "      <th>Sexo</th>\n",
              "      <th>CiudadMunicipio</th>\n",
              "      <th>Diagnostico</th>\n",
              "      <th>CodigoDiagnostico</th>\n",
              "      <th>Plan</th>\n",
              "      <th>Tipo Plan</th>\n",
              "      <th>FechaIngreso</th>\n",
              "      <th>FechaFormulacion</th>\n",
              "      <th>CodProducto</th>\n",
              "      <th>Cantidad</th>\n",
              "      <th>DocMedico</th>\n",
              "      <th>NombreMedico</th>\n",
              "      <th>Especialidad</th>\n",
              "      <th>Plan/Servicio</th>\n",
              "      <th>Sede</th>\n",
              "    </tr>\n",
              "  </thead>\n",
              "  <tbody>\n",
              "    <tr>\n",
              "      <th>0</th>\n",
              "      <td>26720</td>\n",
              "      <td>41453437</td>\n",
              "      <td>30/09/1949</td>\n",
              "      <td>72</td>\n",
              "      <td>F</td>\n",
              "      <td>BOGOTÁ D.C.</td>\n",
              "      <td>(OSTEO)ARTROSIS PRIMARIAGENERALIZADA</td>\n",
              "      <td>M150</td>\n",
              "      <td>PLAN PARTICULAR</td>\n",
              "      <td>Particular</td>\n",
              "      <td>2020-03-19</td>\n",
              "      <td>2020-03-19</td>\n",
              "      <td>fm001</td>\n",
              "      <td>1</td>\n",
              "      <td>53013811</td>\n",
              "      <td>LENIS  RIVERA</td>\n",
              "      <td>Algesiólogo</td>\n",
              "      <td>Consulta Dolor y Cuidados Paliativos</td>\n",
              "      <td>ZERENIA</td>\n",
              "    </tr>\n",
              "    <tr>\n",
              "      <th>1</th>\n",
              "      <td>26793</td>\n",
              "      <td>13352962</td>\n",
              "      <td>10/11/1960</td>\n",
              "      <td>61</td>\n",
              "      <td>M</td>\n",
              "      <td>BOGOTÁ D.C.</td>\n",
              "      <td>TRASTORNO DE DISCO LUMBAR YOTROS, CON RADICULO...</td>\n",
              "      <td>M511</td>\n",
              "      <td>PLAN PARTICULAR</td>\n",
              "      <td>Particular</td>\n",
              "      <td>2020-03-19</td>\n",
              "      <td>2020-03-19</td>\n",
              "      <td>fm001</td>\n",
              "      <td>1</td>\n",
              "      <td>53013811</td>\n",
              "      <td>LENIS  RIVERA</td>\n",
              "      <td>Algesiólogo</td>\n",
              "      <td>Consulta Dolor y Cuidados Paliativos</td>\n",
              "      <td>ZERENIA</td>\n",
              "    </tr>\n",
              "    <tr>\n",
              "      <th>2</th>\n",
              "      <td>26806</td>\n",
              "      <td>390646</td>\n",
              "      <td>1/08/1934</td>\n",
              "      <td>87</td>\n",
              "      <td>M</td>\n",
              "      <td>BOGOTÁ D.C.</td>\n",
              "      <td>NEURALGIA POSTHERPES ZOSTER(B02.2†)</td>\n",
              "      <td>G530</td>\n",
              "      <td>PLAN PARTICULAR</td>\n",
              "      <td>Particular</td>\n",
              "      <td>2020-03-19</td>\n",
              "      <td>2020-03-19</td>\n",
              "      <td>fm001</td>\n",
              "      <td>1</td>\n",
              "      <td>53013811</td>\n",
              "      <td>LENIS  RIVERA</td>\n",
              "      <td>Algesiólogo</td>\n",
              "      <td>Consulta Dolor y Cuidados Paliativos</td>\n",
              "      <td>ZERENIA</td>\n",
              "    </tr>\n",
              "    <tr>\n",
              "      <th>3</th>\n",
              "      <td>26928</td>\n",
              "      <td>19059029</td>\n",
              "      <td>13/09/1948</td>\n",
              "      <td>73</td>\n",
              "      <td>M</td>\n",
              "      <td>BOGOTÁ D.C.</td>\n",
              "      <td>NaN</td>\n",
              "      <td>NaN</td>\n",
              "      <td>PLAN PARTICULAR</td>\n",
              "      <td>Particular</td>\n",
              "      <td>2020-03-19</td>\n",
              "      <td>2020-03-19</td>\n",
              "      <td>fm001</td>\n",
              "      <td>1</td>\n",
              "      <td>53007921</td>\n",
              "      <td>XIOMARA  GARCIA</td>\n",
              "      <td>Neurologia</td>\n",
              "      <td>Neurologia</td>\n",
              "      <td>ZERENIA</td>\n",
              "    </tr>\n",
              "    <tr>\n",
              "      <th>4</th>\n",
              "      <td>26846</td>\n",
              "      <td>41595666</td>\n",
              "      <td>20/09/1953</td>\n",
              "      <td>68</td>\n",
              "      <td>F</td>\n",
              "      <td>CAJICÁ</td>\n",
              "      <td>NaN</td>\n",
              "      <td>NaN</td>\n",
              "      <td>PLAN PARTICULAR</td>\n",
              "      <td>Particular</td>\n",
              "      <td>2020-03-19</td>\n",
              "      <td>2020-03-19</td>\n",
              "      <td>fm001</td>\n",
              "      <td>1</td>\n",
              "      <td>53007921</td>\n",
              "      <td>XIOMARA  GARCIA</td>\n",
              "      <td>Neurologia</td>\n",
              "      <td>Neurologia</td>\n",
              "      <td>ZERENIA</td>\n",
              "    </tr>\n",
              "  </tbody>\n",
              "</table>\n",
              "</div>"
            ],
            "text/plain": [
              "   Ingreso DocPaciente  ...                         Plan/Servicio     Sede\n",
              "0    26720    41453437  ...  Consulta Dolor y Cuidados Paliativos  ZERENIA\n",
              "1    26793    13352962  ...  Consulta Dolor y Cuidados Paliativos  ZERENIA\n",
              "2    26806      390646  ...  Consulta Dolor y Cuidados Paliativos  ZERENIA\n",
              "3    26928    19059029  ...                            Neurologia  ZERENIA\n",
              "4    26846    41595666  ...                            Neurologia  ZERENIA\n",
              "\n",
              "[5 rows x 19 columns]"
            ]
          },
          "metadata": {},
          "execution_count": 5
        }
      ]
    },
    {
      "cell_type": "code",
      "metadata": {
        "colab": {
          "base_uri": "https://localhost:8080/"
        },
        "id": "M3HmYQ8GP_Ca",
        "outputId": "26501836-f202-4790-9ca1-8eb168370c2a"
      },
      "source": [
        "# check shape of df\n",
        "df_procedures.shape"
      ],
      "execution_count": 6,
      "outputs": [
        {
          "output_type": "execute_result",
          "data": {
            "text/plain": [
              "(35187, 19)"
            ]
          },
          "metadata": {},
          "execution_count": 6
        }
      ]
    },
    {
      "cell_type": "code",
      "metadata": {
        "colab": {
          "base_uri": "https://localhost:8080/"
        },
        "id": "j0JWwTRgQG4h",
        "outputId": "032fa3ed-12e0-4595-8897-3ef79c8c0b6c"
      },
      "source": [
        "# check column types\n",
        "df_procedures.dtypes"
      ],
      "execution_count": 7,
      "outputs": [
        {
          "output_type": "execute_result",
          "data": {
            "text/plain": [
              "Ingreso               int64\n",
              "DocPaciente          object\n",
              "Fecha Nacimiento     object\n",
              "Edad                  int64\n",
              "Sexo                 object\n",
              "CiudadMunicipio      object\n",
              "Diagnostico          object\n",
              "CodigoDiagnostico    object\n",
              "Plan                 object\n",
              "Tipo Plan            object\n",
              "FechaIngreso         object\n",
              "FechaFormulacion     object\n",
              "CodProducto          object\n",
              "Cantidad              int64\n",
              "DocMedico             int64\n",
              "NombreMedico         object\n",
              "Especialidad         object\n",
              "Plan/Servicio        object\n",
              "Sede                 object\n",
              "dtype: object"
            ]
          },
          "metadata": {},
          "execution_count": 7
        }
      ]
    },
    {
      "cell_type": "code",
      "metadata": {
        "colab": {
          "base_uri": "https://localhost:8080/",
          "height": 511
        },
        "id": "1vKErZ2eQPbg",
        "outputId": "edf4c707-6e52-49c6-ce7d-6c4eb00292fd"
      },
      "source": [
        "# check for missing values\n",
        "import missingno as msg\n",
        "\n",
        "msg.matrix(df_procedures, figsize=(12, 6))"
      ],
      "execution_count": 8,
      "outputs": [
        {
          "output_type": "execute_result",
          "data": {
            "text/plain": [
              "<matplotlib.axes._subplots.AxesSubplot at 0x7f7540e4e9d0>"
            ]
          },
          "metadata": {},
          "execution_count": 8
        },
        {
          "output_type": "display_data",
          "data": {
            "image/png": "[encoded data removed]",
            "text/plain": [
              "<Figure size 864x432 with 2 Axes>"
            ]
          },
          "metadata": {
            "needs_background": "light"
          }
        }
      ]
    },
    {
      "cell_type": "code",
      "metadata": {
        "colab": {
          "base_uri": "https://localhost:8080/"
        },
        "id": "zqd1byUzQet-",
        "outputId": "3ecc419d-ee90-4d3e-debc-4ed697aa1619"
      },
      "source": [
        "# find number of missing values in 'Diagnostico'\n",
        "\n",
        "na_diagnostic = df_procedures['Diagnostico'].isna().sum()\n",
        "na_city = df_procedures['CiudadMunicipio'].isna().sum()\n",
        "\n",
        "print(f'Missing Values in Diagnostico: {na_diagnostic}')\n",
        "print(f'Missing values in CiudadMunicipio: {na_city}')"
      ],
      "execution_count": 9,
      "outputs": [
        {
          "output_type": "stream",
          "name": "stdout",
          "text": [
            "Missing Values in Diagnostico: 6426\n",
            "Missing values in CiudadMunicipio: 20\n"
          ]
        }
      ]
    },
    {
      "cell_type": "code",
      "metadata": {
        "colab": {
          "base_uri": "https://localhost:8080/"
        },
        "id": "SJrYAEDBRQY3",
        "outputId": "e9267653-fabc-4183-cfd2-fdc650828d0e"
      },
      "source": [
        "# drop na values of CiudadMunicipio\n",
        "df_procedures = df_procedures.dropna(subset=['CiudadMunicipio'])\n",
        "\n",
        "# check shape\n",
        "df_procedures.shape"
      ],
      "execution_count": 10,
      "outputs": [
        {
          "output_type": "execute_result",
          "data": {
            "text/plain": [
              "(35167, 19)"
            ]
          },
          "metadata": {},
          "execution_count": 10
        }
      ]
    },
    {
      "cell_type": "markdown",
      "metadata": {
        "id": "9XxpgYVwYEK5"
      },
      "source": [
        "![green-divider](https://user-images.githubusercontent.com/7065401/52071924-c003ad80-2562-11e9-8297-1c6595f8a7ff.png)"
      ]
    },
    {
      "cell_type": "markdown",
      "metadata": {
        "id": "GxA9ms-XYKhA"
      },
      "source": [
        "### GroupBy of Relevant Features\n"
      ]
    },
    {
      "cell_type": "code",
      "metadata": {
        "colab": {
          "base_uri": "https://localhost:8080/",
          "height": 300
        },
        "id": "IMslvsgkqnu6",
        "outputId": "5585912a-48b6-44b7-a89d-83d6b0fa1d2c"
      },
      "source": [
        "# descriptive statistics\n",
        "df_procedures.describe()"
      ],
      "execution_count": 11,
      "outputs": [
        {
          "output_type": "execute_result",
          "data": {
            "text/html": [
              "<div>\n",
              "<style scoped>\n",
              "    .dataframe tbody tr th:only-of-type {\n",
              "        vertical-align: middle;\n",
              "    }\n",
              "\n",
              "    .dataframe tbody tr th {\n",
              "        vertical-align: top;\n",
              "    }\n",
              "\n",
              "    .dataframe thead th {\n",
              "        text-align: right;\n",
              "    }\n",
              "</style>\n",
              "<table border=\"1\" class=\"dataframe\">\n",
              "  <thead>\n",
              "    <tr style=\"text-align: right;\">\n",
              "      <th></th>\n",
              "      <th>Ingreso</th>\n",
              "      <th>Edad</th>\n",
              "      <th>Cantidad</th>\n",
              "      <th>DocMedico</th>\n",
              "    </tr>\n",
              "  </thead>\n",
              "  <tbody>\n",
              "    <tr>\n",
              "      <th>count</th>\n",
              "      <td>35167.000000</td>\n",
              "      <td>35167.000000</td>\n",
              "      <td>35167.000000</td>\n",
              "      <td>3.516700e+04</td>\n",
              "    </tr>\n",
              "    <tr>\n",
              "      <th>mean</th>\n",
              "      <td>152045.264396</td>\n",
              "      <td>58.010351</td>\n",
              "      <td>1.349362</td>\n",
              "      <td>3.059599e+08</td>\n",
              "    </tr>\n",
              "    <tr>\n",
              "      <th>std</th>\n",
              "      <td>47766.591744</td>\n",
              "      <td>15.819550</td>\n",
              "      <td>0.754741</td>\n",
              "      <td>4.446890e+08</td>\n",
              "    </tr>\n",
              "    <tr>\n",
              "      <th>min</th>\n",
              "      <td>26720.000000</td>\n",
              "      <td>1.000000</td>\n",
              "      <td>1.000000</td>\n",
              "      <td>1.374997e+07</td>\n",
              "    </tr>\n",
              "    <tr>\n",
              "      <th>25%</th>\n",
              "      <td>117779.500000</td>\n",
              "      <td>48.000000</td>\n",
              "      <td>1.000000</td>\n",
              "      <td>1.906250e+07</td>\n",
              "    </tr>\n",
              "    <tr>\n",
              "      <th>50%</th>\n",
              "      <td>157990.000000</td>\n",
              "      <td>58.000000</td>\n",
              "      <td>1.000000</td>\n",
              "      <td>7.226080e+07</td>\n",
              "    </tr>\n",
              "    <tr>\n",
              "      <th>75%</th>\n",
              "      <td>191695.500000</td>\n",
              "      <td>69.000000</td>\n",
              "      <td>2.000000</td>\n",
              "      <td>1.017171e+09</td>\n",
              "    </tr>\n",
              "    <tr>\n",
              "      <th>max</th>\n",
              "      <td>225591.000000</td>\n",
              "      <td>101.000000</td>\n",
              "      <td>30.000000</td>\n",
              "      <td>1.235245e+09</td>\n",
              "    </tr>\n",
              "  </tbody>\n",
              "</table>\n",
              "</div>"
            ],
            "text/plain": [
              "             Ingreso          Edad      Cantidad     DocMedico\n",
              "count   35167.000000  35167.000000  35167.000000  3.516700e+04\n",
              "mean   152045.264396     58.010351      1.349362  3.059599e+08\n",
              "std     47766.591744     15.819550      0.754741  4.446890e+08\n",
              "min     26720.000000      1.000000      1.000000  1.374997e+07\n",
              "25%    117779.500000     48.000000      1.000000  1.906250e+07\n",
              "50%    157990.000000     58.000000      1.000000  7.226080e+07\n",
              "75%    191695.500000     69.000000      2.000000  1.017171e+09\n",
              "max    225591.000000    101.000000     30.000000  1.235245e+09"
            ]
          },
          "metadata": {},
          "execution_count": 11
        }
      ]
    },
    {
      "cell_type": "markdown",
      "metadata": {
        "id": "qXAB52j9mNUI"
      },
      "source": [
        "#### Number of FMs Prescriptions by Site"
      ]
    },
    {
      "cell_type": "code",
      "metadata": {
        "colab": {
          "base_uri": "https://localhost:8080/",
          "height": 426
        },
        "id": "pEDGwm8tYOWB",
        "outputId": "28960d08-b134-4691-bda3-98086c19e414"
      },
      "source": [
        "# FM procedures by sede\n",
        "fm_proced_sede = df_procedures.groupby(['Sede']).Cantidad.sum().reset_index()\n",
        "\n",
        "fm_proced_sede['%_Prescripciones'] = (fm_proced_sede.Cantidad / fm_proced_sede.Cantidad.sum()) * 100\n",
        "fm_proced_sede"
      ],
      "execution_count": 12,
      "outputs": [
        {
          "output_type": "execute_result",
          "data": {
            "text/html": [
              "<div>\n",
              "<style scoped>\n",
              "    .dataframe tbody tr th:only-of-type {\n",
              "        vertical-align: middle;\n",
              "    }\n",
              "\n",
              "    .dataframe tbody tr th {\n",
              "        vertical-align: top;\n",
              "    }\n",
              "\n",
              "    .dataframe thead th {\n",
              "        text-align: right;\n",
              "    }\n",
              "</style>\n",
              "<table border=\"1\" class=\"dataframe\">\n",
              "  <thead>\n",
              "    <tr style=\"text-align: right;\">\n",
              "      <th></th>\n",
              "      <th>Sede</th>\n",
              "      <th>Cantidad</th>\n",
              "      <th>%_Prescripciones</th>\n",
              "    </tr>\n",
              "  </thead>\n",
              "  <tbody>\n",
              "    <tr>\n",
              "      <th>0</th>\n",
              "      <td>COUNTRY</td>\n",
              "      <td>3952</td>\n",
              "      <td>8.328241</td>\n",
              "    </tr>\n",
              "    <tr>\n",
              "      <th>1</th>\n",
              "      <td>PARKWAY</td>\n",
              "      <td>922</td>\n",
              "      <td>1.942975</td>\n",
              "    </tr>\n",
              "    <tr>\n",
              "      <th>2</th>\n",
              "      <td>ZERENIA</td>\n",
              "      <td>41349</td>\n",
              "      <td>87.136746</td>\n",
              "    </tr>\n",
              "    <tr>\n",
              "      <th>3</th>\n",
              "      <td>ZERENIA  - IBAGUE</td>\n",
              "      <td>106</td>\n",
              "      <td>0.223379</td>\n",
              "    </tr>\n",
              "    <tr>\n",
              "      <th>4</th>\n",
              "      <td>ZERENIA  - MEDELLÍN</td>\n",
              "      <td>420</td>\n",
              "      <td>0.885086</td>\n",
              "    </tr>\n",
              "    <tr>\n",
              "      <th>5</th>\n",
              "      <td>ZERENIA - ARMENIA</td>\n",
              "      <td>61</td>\n",
              "      <td>0.128548</td>\n",
              "    </tr>\n",
              "    <tr>\n",
              "      <th>6</th>\n",
              "      <td>ZERENIA - BARRANQUILLA</td>\n",
              "      <td>89</td>\n",
              "      <td>0.187554</td>\n",
              "    </tr>\n",
              "    <tr>\n",
              "      <th>7</th>\n",
              "      <td>ZERENIA - BUCARAMANGA</td>\n",
              "      <td>177</td>\n",
              "      <td>0.373001</td>\n",
              "    </tr>\n",
              "    <tr>\n",
              "      <th>8</th>\n",
              "      <td>ZERENIA - CALI</td>\n",
              "      <td>256</td>\n",
              "      <td>0.539481</td>\n",
              "    </tr>\n",
              "    <tr>\n",
              "      <th>9</th>\n",
              "      <td>ZERENIA - MANIZALES</td>\n",
              "      <td>3</td>\n",
              "      <td>0.006322</td>\n",
              "    </tr>\n",
              "    <tr>\n",
              "      <th>10</th>\n",
              "      <td>ZERENIA - PEREIRA</td>\n",
              "      <td>114</td>\n",
              "      <td>0.240238</td>\n",
              "    </tr>\n",
              "    <tr>\n",
              "      <th>11</th>\n",
              "      <td>ZERENIA - VALLEDUPAR</td>\n",
              "      <td>4</td>\n",
              "      <td>0.008429</td>\n",
              "    </tr>\n",
              "  </tbody>\n",
              "</table>\n",
              "</div>"
            ],
            "text/plain": [
              "                      Sede  Cantidad  %_Prescripciones\n",
              "0                  COUNTRY      3952          8.328241\n",
              "1                  PARKWAY       922          1.942975\n",
              "2                  ZERENIA     41349         87.136746\n",
              "3       ZERENIA  - IBAGUE        106          0.223379\n",
              "4      ZERENIA  - MEDELLÍN       420          0.885086\n",
              "5        ZERENIA - ARMENIA        61          0.128548\n",
              "6   ZERENIA - BARRANQUILLA        89          0.187554\n",
              "7    ZERENIA - BUCARAMANGA       177          0.373001\n",
              "8           ZERENIA - CALI       256          0.539481\n",
              "9      ZERENIA - MANIZALES         3          0.006322\n",
              "10       ZERENIA - PEREIRA       114          0.240238\n",
              "11    ZERENIA - VALLEDUPAR         4          0.008429"
            ]
          },
          "metadata": {},
          "execution_count": 12
        }
      ]
    },
    {
      "cell_type": "markdown",
      "metadata": {
        "id": "uDcTdlDWma-C"
      },
      "source": [
        "is_Zerenia is a relevant feature since 87.13% of FMs prescribed come from this clinic"
      ]
    },
    {
      "cell_type": "code",
      "metadata": {
        "colab": {
          "base_uri": "https://localhost:8080/",
          "height": 501
        },
        "id": "E85gmbCjbLw3",
        "outputId": "0058b3c8-8159-47f8-f5f6-dc27a42f1791"
      },
      "source": [
        "# barplot of prescribed FMs per Sede\n",
        "\n",
        "f, ax = plt.subplots(figsize=(20,6))\n",
        "\n",
        "sns.barplot(x=fm_proced_sede.Sede, y=fm_proced_sede.Cantidad)\n",
        "# rotate x labels\n",
        "plt.xticks(rotation=45)\n",
        "plt.ylabel('Cantidad de FMs')\n",
        "\n",
        "plt.title('Cantidad de FMs Prescritas por Sede - Marzo 2020 a Septiembre 2021', pad=12)\n",
        "plt.show()"
      ],
      "execution_count": 13,
      "outputs": [
        {
          "output_type": "display_data",
          "data": {
            "image/png": "[encoded data removed]",
            "text/plain": [
              "<Figure size 1440x432 with 1 Axes>"
            ]
          },
          "metadata": {
            "needs_background": "light"
          }
        }
      ]
    },
    {
      "cell_type": "markdown",
      "metadata": {
        "id": "Ml2Bt2dNmVsR"
      },
      "source": [
        "![green-divider](https://user-images.githubusercontent.com/7065401/52071924-c003ad80-2562-11e9-8297-1c6595f8a7ff.png)"
      ]
    },
    {
      "cell_type": "markdown",
      "metadata": {
        "id": "TKdZN_vpnQzw"
      },
      "source": [
        "#### Number of FMs Prescribed by Sex"
      ]
    },
    {
      "cell_type": "code",
      "metadata": {
        "colab": {
          "base_uri": "https://localhost:8080/",
          "height": 143
        },
        "id": "kYQWM6AQZ9Eu",
        "outputId": "d4a137a8-7fd1-443c-f28a-f4eac6b409e1"
      },
      "source": [
        "# FM procedures by sexo\n",
        "fm_proced_sex = df_procedures.groupby(['Sexo']).Cantidad.sum().reset_index()\n",
        "\n",
        "fm_proced_sex['%_Prescripciones'] = (fm_proced_sex.Cantidad / fm_proced_sex.Cantidad.sum()) * 100\n",
        "fm_proced_sex"
      ],
      "execution_count": 14,
      "outputs": [
        {
          "output_type": "execute_result",
          "data": {
            "text/html": [
              "<div>\n",
              "<style scoped>\n",
              "    .dataframe tbody tr th:only-of-type {\n",
              "        vertical-align: middle;\n",
              "    }\n",
              "\n",
              "    .dataframe tbody tr th {\n",
              "        vertical-align: top;\n",
              "    }\n",
              "\n",
              "    .dataframe thead th {\n",
              "        text-align: right;\n",
              "    }\n",
              "</style>\n",
              "<table border=\"1\" class=\"dataframe\">\n",
              "  <thead>\n",
              "    <tr style=\"text-align: right;\">\n",
              "      <th></th>\n",
              "      <th>Sexo</th>\n",
              "      <th>Cantidad</th>\n",
              "      <th>%_Prescripciones</th>\n",
              "    </tr>\n",
              "  </thead>\n",
              "  <tbody>\n",
              "    <tr>\n",
              "      <th>0</th>\n",
              "      <td>F</td>\n",
              "      <td>33715</td>\n",
              "      <td>71.049249</td>\n",
              "    </tr>\n",
              "    <tr>\n",
              "      <th>1</th>\n",
              "      <td>I</td>\n",
              "      <td>1</td>\n",
              "      <td>0.002107</td>\n",
              "    </tr>\n",
              "    <tr>\n",
              "      <th>2</th>\n",
              "      <td>M</td>\n",
              "      <td>13737</td>\n",
              "      <td>28.948644</td>\n",
              "    </tr>\n",
              "  </tbody>\n",
              "</table>\n",
              "</div>"
            ],
            "text/plain": [
              "  Sexo  Cantidad  %_Prescripciones\n",
              "0    F     33715         71.049249\n",
              "1    I         1          0.002107\n",
              "2    M     13737         28.948644"
            ]
          },
          "metadata": {},
          "execution_count": 14
        }
      ]
    },
    {
      "cell_type": "markdown",
      "metadata": {
        "id": "3Ma1hQsRm5tj"
      },
      "source": [
        "The category 'I' of Sex is not going to be taken into account since Male(M) and Female(F) correspond to 99% of all patients prescribed "
      ]
    },
    {
      "cell_type": "code",
      "metadata": {
        "colab": {
          "base_uri": "https://localhost:8080/"
        },
        "id": "CZI-Kpz9luUN",
        "outputId": "db4fe891-a2cc-4924-ac9b-c8be930fe455"
      },
      "source": [
        "# make dataframe without Sexo == I\n",
        "df_procedures = df_procedures[df_procedures['Sexo'] != 'I']\n",
        "\n",
        "df_procedures.Sexo.unique()"
      ],
      "execution_count": 15,
      "outputs": [
        {
          "output_type": "execute_result",
          "data": {
            "text/plain": [
              "array(['F', 'M'], dtype=object)"
            ]
          },
          "metadata": {},
          "execution_count": 15
        }
      ]
    },
    {
      "cell_type": "code",
      "metadata": {
        "colab": {
          "base_uri": "https://localhost:8080/",
          "height": 404
        },
        "id": "t_PFf3bOc10a",
        "outputId": "6527b139-95d4-40db-9726-3da8e169aa43"
      },
      "source": [
        "# barplot of prescribed FMs per Sexo\n",
        "\n",
        "f, ax = plt.subplots(figsize=(12, 6))\n",
        "\n",
        "sns.barplot(x=fm_proced_sex.Sexo, y=fm_proced_sex.Cantidad)\n",
        "plt.ylabel('Cantidad de FMs')\n",
        "\n",
        "plt.title('Cantidad de FMs Prescritas por Sexo - Marzo 2020 a Septiembre 2021')\n",
        "plt.show()"
      ],
      "execution_count": 16,
      "outputs": [
        {
          "output_type": "display_data",
          "data": {
            "image/png": "[encoded data removed]",
            "text/plain": [
              "<Figure size 864x432 with 1 Axes>"
            ]
          },
          "metadata": {
            "needs_background": "light"
          }
        }
      ]
    },
    {
      "cell_type": "markdown",
      "metadata": {
        "id": "HlAz4FIgnvpE"
      },
      "source": [
        "![green-divider](https://user-images.githubusercontent.com/7065401/52071924-c003ad80-2562-11e9-8297-1c6595f8a7ff.png)"
      ]
    },
    {
      "cell_type": "markdown",
      "metadata": {
        "id": "lHm-HBl_oxND"
      },
      "source": [
        "#### Number of FMs Prescribed by Service/Plan"
      ]
    },
    {
      "cell_type": "code",
      "metadata": {
        "colab": {
          "base_uri": "https://localhost:8080/",
          "height": 645
        },
        "id": "LC8nBGqgn1MJ",
        "outputId": "bd7a0f97-e15e-4880-f730-a5f6d88e1516"
      },
      "source": [
        "# FMs prescribed by Plan/Servicio\n",
        "fm_proced_plan = df_procedures.groupby(['Plan/Servicio']).Cantidad.sum().reset_index()\n",
        "\n",
        "fm_proced_plan['%'] = (fm_proced_plan.Cantidad / fm_proced_plan.Cantidad.sum()) * 100\n",
        "fm_proced_plan"
      ],
      "execution_count": 17,
      "outputs": [
        {
          "output_type": "execute_result",
          "data": {
            "text/html": [
              "<div>\n",
              "<style scoped>\n",
              "    .dataframe tbody tr th:only-of-type {\n",
              "        vertical-align: middle;\n",
              "    }\n",
              "\n",
              "    .dataframe tbody tr th {\n",
              "        vertical-align: top;\n",
              "    }\n",
              "\n",
              "    .dataframe thead th {\n",
              "        text-align: right;\n",
              "    }\n",
              "</style>\n",
              "<table border=\"1\" class=\"dataframe\">\n",
              "  <thead>\n",
              "    <tr style=\"text-align: right;\">\n",
              "      <th></th>\n",
              "      <th>Plan/Servicio</th>\n",
              "      <th>Cantidad</th>\n",
              "      <th>%</th>\n",
              "    </tr>\n",
              "  </thead>\n",
              "  <tbody>\n",
              "    <tr>\n",
              "      <th>0</th>\n",
              "      <td>Cannabis Medicinal</td>\n",
              "      <td>3068</td>\n",
              "      <td>6.465481</td>\n",
              "    </tr>\n",
              "    <tr>\n",
              "      <th>1</th>\n",
              "      <td>Consulta Dolor y Cuidados Paliativos</td>\n",
              "      <td>34436</td>\n",
              "      <td>72.570176</td>\n",
              "    </tr>\n",
              "    <tr>\n",
              "      <th>2</th>\n",
              "      <td>Dolor y Cuidados Paliativos Bloqueos</td>\n",
              "      <td>14</td>\n",
              "      <td>0.029503</td>\n",
              "    </tr>\n",
              "    <tr>\n",
              "      <th>3</th>\n",
              "      <td>Dolor y Cuidados Paliativos Lisis</td>\n",
              "      <td>1</td>\n",
              "      <td>0.002107</td>\n",
              "    </tr>\n",
              "    <tr>\n",
              "      <th>4</th>\n",
              "      <td>Fisioterapia</td>\n",
              "      <td>1</td>\n",
              "      <td>0.002107</td>\n",
              "    </tr>\n",
              "    <tr>\n",
              "      <th>5</th>\n",
              "      <td>Flete Formula Magistral</td>\n",
              "      <td>8</td>\n",
              "      <td>0.016859</td>\n",
              "    </tr>\n",
              "    <tr>\n",
              "      <th>6</th>\n",
              "      <td>Juntas Médicas</td>\n",
              "      <td>119</td>\n",
              "      <td>0.250780</td>\n",
              "    </tr>\n",
              "    <tr>\n",
              "      <th>7</th>\n",
              "      <td>Medicina Fisica y Rehabilitacion</td>\n",
              "      <td>6</td>\n",
              "      <td>0.012644</td>\n",
              "    </tr>\n",
              "    <tr>\n",
              "      <th>8</th>\n",
              "      <td>Medicina General</td>\n",
              "      <td>1</td>\n",
              "      <td>0.002107</td>\n",
              "    </tr>\n",
              "    <tr>\n",
              "      <th>9</th>\n",
              "      <td>Medicina General.</td>\n",
              "      <td>1495</td>\n",
              "      <td>3.150552</td>\n",
              "    </tr>\n",
              "    <tr>\n",
              "      <th>10</th>\n",
              "      <td>Medicina Interna</td>\n",
              "      <td>1</td>\n",
              "      <td>0.002107</td>\n",
              "    </tr>\n",
              "    <tr>\n",
              "      <th>11</th>\n",
              "      <td>Neurocirugia</td>\n",
              "      <td>233</td>\n",
              "      <td>0.491023</td>\n",
              "    </tr>\n",
              "    <tr>\n",
              "      <th>12</th>\n",
              "      <td>Neurologia</td>\n",
              "      <td>1697</td>\n",
              "      <td>3.576245</td>\n",
              "    </tr>\n",
              "    <tr>\n",
              "      <th>13</th>\n",
              "      <td>Neurología  Epilepsia</td>\n",
              "      <td>161</td>\n",
              "      <td>0.339290</td>\n",
              "    </tr>\n",
              "    <tr>\n",
              "      <th>14</th>\n",
              "      <td>Neurología  Movimientos Anormales</td>\n",
              "      <td>534</td>\n",
              "      <td>1.125348</td>\n",
              "    </tr>\n",
              "    <tr>\n",
              "      <th>15</th>\n",
              "      <td>Neurología Programación y Re programación de E...</td>\n",
              "      <td>30</td>\n",
              "      <td>0.063222</td>\n",
              "    </tr>\n",
              "    <tr>\n",
              "      <th>16</th>\n",
              "      <td>Neuropediatria</td>\n",
              "      <td>150</td>\n",
              "      <td>0.316109</td>\n",
              "    </tr>\n",
              "    <tr>\n",
              "      <th>17</th>\n",
              "      <td>Psiquiatria</td>\n",
              "      <td>5495</td>\n",
              "      <td>11.580123</td>\n",
              "    </tr>\n",
              "    <tr>\n",
              "      <th>18</th>\n",
              "      <td>Psiquiatria o Unidad de Salud Mental</td>\n",
              "      <td>2</td>\n",
              "      <td>0.004215</td>\n",
              "    </tr>\n",
              "  </tbody>\n",
              "</table>\n",
              "</div>"
            ],
            "text/plain": [
              "                                        Plan/Servicio  Cantidad          %\n",
              "0                                  Cannabis Medicinal      3068   6.465481\n",
              "1                Consulta Dolor y Cuidados Paliativos     34436  72.570176\n",
              "2                Dolor y Cuidados Paliativos Bloqueos        14   0.029503\n",
              "3                  Dolor y Cuidados Paliativos Lisis          1   0.002107\n",
              "4                                        Fisioterapia         1   0.002107\n",
              "5                             Flete Formula Magistral         8   0.016859\n",
              "6                                      Juntas Médicas       119   0.250780\n",
              "7                    Medicina Fisica y Rehabilitacion         6   0.012644\n",
              "8                                    Medicina General         1   0.002107\n",
              "9                                   Medicina General.      1495   3.150552\n",
              "10                                   Medicina Interna         1   0.002107\n",
              "11                                       Neurocirugia       233   0.491023\n",
              "12                                         Neurologia      1697   3.576245\n",
              "13                              Neurología  Epilepsia       161   0.339290\n",
              "14                  Neurología  Movimientos Anormales       534   1.125348\n",
              "15  Neurología Programación y Re programación de E...        30   0.063222\n",
              "16                                     Neuropediatria       150   0.316109\n",
              "17                                        Psiquiatria      5495  11.580123\n",
              "18               Psiquiatria o Unidad de Salud Mental         2   0.004215"
            ]
          },
          "metadata": {},
          "execution_count": 17
        }
      ]
    },
    {
      "cell_type": "markdown",
      "metadata": {
        "id": "rxCOuMfmq_pU"
      },
      "source": [
        " The most relevant Services on the number of FMs prescribed are:\n",
        " - is_Dolor_Paliativo >> 72.57% of FMs prescribed\n",
        " - is_Psiquiatria >> 11.58% of FMs prescribed\n",
        " - is_Cannabis >> 6.46% of FMs prescribed\n",
        " - is_Neurology >> 3.57% of FMs prescribed\n",
        "\n",
        "These Services correspond to 97.1% of FMs prescribed"
      ]
    },
    {
      "cell_type": "markdown",
      "metadata": {
        "id": "b1I58X8wwYIA"
      },
      "source": [
        "![green-divider](https://user-images.githubusercontent.com/7065401/52071924-c003ad80-2562-11e9-8297-1c6595f8a7ff.png)"
      ]
    },
    {
      "cell_type": "markdown",
      "metadata": {
        "id": "V7trZXziw0gT"
      },
      "source": [
        "#### Number of FMs Prescribed by Product Type"
      ]
    },
    {
      "cell_type": "code",
      "metadata": {
        "colab": {
          "base_uri": "https://localhost:8080/",
          "height": 206
        },
        "id": "-qYYRPSVxAsy",
        "outputId": "296f5252-776d-43e4-d942-249bdbb4d42b"
      },
      "source": [
        "# FMs prescribed by CodProducto\n",
        "fm_proced_prod = df_procedures.groupby(['CodProducto']).Cantidad.sum().reset_index()\n",
        "\n",
        "fm_proced_prod['%'] = (fm_proced_prod.Cantidad / fm_proced_prod.Cantidad.sum()) * 100\n",
        "fm_proced_prod"
      ],
      "execution_count": 18,
      "outputs": [
        {
          "output_type": "execute_result",
          "data": {
            "text/html": [
              "<div>\n",
              "<style scoped>\n",
              "    .dataframe tbody tr th:only-of-type {\n",
              "        vertical-align: middle;\n",
              "    }\n",
              "\n",
              "    .dataframe tbody tr th {\n",
              "        vertical-align: top;\n",
              "    }\n",
              "\n",
              "    .dataframe thead th {\n",
              "        text-align: right;\n",
              "    }\n",
              "</style>\n",
              "<table border=\"1\" class=\"dataframe\">\n",
              "  <thead>\n",
              "    <tr style=\"text-align: right;\">\n",
              "      <th></th>\n",
              "      <th>CodProducto</th>\n",
              "      <th>Cantidad</th>\n",
              "      <th>%</th>\n",
              "    </tr>\n",
              "  </thead>\n",
              "  <tbody>\n",
              "    <tr>\n",
              "      <th>0</th>\n",
              "      <td>fm001</td>\n",
              "      <td>26989</td>\n",
              "      <td>56.876422</td>\n",
              "    </tr>\n",
              "    <tr>\n",
              "      <th>1</th>\n",
              "      <td>fm002</td>\n",
              "      <td>722</td>\n",
              "      <td>1.521538</td>\n",
              "    </tr>\n",
              "    <tr>\n",
              "      <th>2</th>\n",
              "      <td>fm003</td>\n",
              "      <td>17773</td>\n",
              "      <td>37.454691</td>\n",
              "    </tr>\n",
              "    <tr>\n",
              "      <th>3</th>\n",
              "      <td>fm004</td>\n",
              "      <td>1816</td>\n",
              "      <td>3.827025</td>\n",
              "    </tr>\n",
              "    <tr>\n",
              "      <th>4</th>\n",
              "      <td>fm005</td>\n",
              "      <td>152</td>\n",
              "      <td>0.320324</td>\n",
              "    </tr>\n",
              "  </tbody>\n",
              "</table>\n",
              "</div>"
            ],
            "text/plain": [
              "  CodProducto  Cantidad          %\n",
              "0       fm001     26989  56.876422\n",
              "1       fm002       722   1.521538\n",
              "2       fm003     17773  37.454691\n",
              "3       fm004      1816   3.827025\n",
              "4       fm005       152   0.320324"
            ]
          },
          "metadata": {},
          "execution_count": 18
        }
      ]
    },
    {
      "cell_type": "markdown",
      "metadata": {
        "id": "SAnRDRBFh4Cy"
      },
      "source": [
        "The most relevant product types on the number of FMs prescribed are:\n",
        "- fm001 >> 56.87% of FMs prescribed\n",
        "- fm003 >> 37.45% of FMs prescribed\n",
        "\n",
        "These two product types correspond to 94.3% of FMs prescribed"
      ]
    },
    {
      "cell_type": "markdown",
      "metadata": {
        "id": "SKZRvbBTiZDJ"
      },
      "source": [
        "![green-divider](https://user-images.githubusercontent.com/7065401/52071924-c003ad80-2562-11e9-8297-1c6595f8a7ff.png)"
      ]
    },
    {
      "cell_type": "markdown",
      "metadata": {
        "id": "Bou-SDhSi5Iz"
      },
      "source": [
        "#### Number of FMs Prescribed by FechaFormulacion"
      ]
    },
    {
      "cell_type": "code",
      "metadata": {
        "colab": {
          "base_uri": "https://localhost:8080/"
        },
        "id": "mY9FGSTvibm5",
        "outputId": "74e141b9-ae1a-4902-8cbc-80fa7750e8f5"
      },
      "source": [
        "# convert FechaFormulacion to datetime\n",
        "df_procedures['FechaFormulacion'] = pd.to_datetime(df_procedures['FechaFormulacion'])\n",
        "\n",
        "# check that the change was made\n",
        "df_procedures.dtypes"
      ],
      "execution_count": 19,
      "outputs": [
        {
          "output_type": "execute_result",
          "data": {
            "text/plain": [
              "Ingreso                       int64\n",
              "DocPaciente                  object\n",
              "Fecha Nacimiento             object\n",
              "Edad                          int64\n",
              "Sexo                         object\n",
              "CiudadMunicipio              object\n",
              "Diagnostico                  object\n",
              "CodigoDiagnostico            object\n",
              "Plan                         object\n",
              "Tipo Plan                    object\n",
              "FechaIngreso                 object\n",
              "FechaFormulacion     datetime64[ns]\n",
              "CodProducto                  object\n",
              "Cantidad                      int64\n",
              "DocMedico                     int64\n",
              "NombreMedico                 object\n",
              "Especialidad                 object\n",
              "Plan/Servicio                object\n",
              "Sede                         object\n",
              "dtype: object"
            ]
          },
          "metadata": {},
          "execution_count": 19
        }
      ]
    },
    {
      "cell_type": "code",
      "metadata": {
        "colab": {
          "base_uri": "https://localhost:8080/",
          "height": 382
        },
        "id": "2zQBeG1tjpcR",
        "outputId": "de583d4a-384b-4a24-91c4-20cc1570e573"
      },
      "source": [
        "# create month and year column >> using pd.DatetimeIndex()\n",
        "df_procedures['Month'] = pd.DatetimeIndex(df_procedures['FechaFormulacion']).month\n",
        "df_procedures['Year'] = pd.DatetimeIndex(df_procedures['FechaFormulacion']).year\n",
        "\n",
        "df_procedures.head()"
      ],
      "execution_count": 20,
      "outputs": [
        {
          "output_type": "execute_result",
          "data": {
            "text/html": [
              "<div>\n",
              "<style scoped>\n",
              "    .dataframe tbody tr th:only-of-type {\n",
              "        vertical-align: middle;\n",
              "    }\n",
              "\n",
              "    .dataframe tbody tr th {\n",
              "        vertical-align: top;\n",
              "    }\n",
              "\n",
              "    .dataframe thead th {\n",
              "        text-align: right;\n",
              "    }\n",
              "</style>\n",
              "<table border=\"1\" class=\"dataframe\">\n",
              "  <thead>\n",
              "    <tr style=\"text-align: right;\">\n",
              "      <th></th>\n",
              "      <th>Ingreso</th>\n",
              "      <th>DocPaciente</th>\n",
              "      <th>Fecha Nacimiento</th>\n",
              "      <th>Edad</th>\n",
              "      <th>Sexo</th>\n",
              "      <th>CiudadMunicipio</th>\n",
              "      <th>Diagnostico</th>\n",
              "      <th>CodigoDiagnostico</th>\n",
              "      <th>Plan</th>\n",
              "      <th>Tipo Plan</th>\n",
              "      <th>FechaIngreso</th>\n",
              "      <th>FechaFormulacion</th>\n",
              "      <th>CodProducto</th>\n",
              "      <th>Cantidad</th>\n",
              "      <th>DocMedico</th>\n",
              "      <th>NombreMedico</th>\n",
              "      <th>Especialidad</th>\n",
              "      <th>Plan/Servicio</th>\n",
              "      <th>Sede</th>\n",
              "      <th>Month</th>\n",
              "      <th>Year</th>\n",
              "    </tr>\n",
              "  </thead>\n",
              "  <tbody>\n",
              "    <tr>\n",
              "      <th>0</th>\n",
              "      <td>26720</td>\n",
              "      <td>41453437</td>\n",
              "      <td>30/09/1949</td>\n",
              "      <td>72</td>\n",
              "      <td>F</td>\n",
              "      <td>BOGOTÁ D.C.</td>\n",
              "      <td>(OSTEO)ARTROSIS PRIMARIAGENERALIZADA</td>\n",
              "      <td>M150</td>\n",
              "      <td>PLAN PARTICULAR</td>\n",
              "      <td>Particular</td>\n",
              "      <td>2020-03-19</td>\n",
              "      <td>2020-03-19</td>\n",
              "      <td>fm001</td>\n",
              "      <td>1</td>\n",
              "      <td>53013811</td>\n",
              "      <td>LENIS  RIVERA</td>\n",
              "      <td>Algesiólogo</td>\n",
              "      <td>Consulta Dolor y Cuidados Paliativos</td>\n",
              "      <td>ZERENIA</td>\n",
              "      <td>3</td>\n",
              "      <td>2020</td>\n",
              "    </tr>\n",
              "    <tr>\n",
              "      <th>1</th>\n",
              "      <td>26793</td>\n",
              "      <td>13352962</td>\n",
              "      <td>10/11/1960</td>\n",
              "      <td>61</td>\n",
              "      <td>M</td>\n",
              "      <td>BOGOTÁ D.C.</td>\n",
              "      <td>TRASTORNO DE DISCO LUMBAR YOTROS, CON RADICULO...</td>\n",
              "      <td>M511</td>\n",
              "      <td>PLAN PARTICULAR</td>\n",
              "      <td>Particular</td>\n",
              "      <td>2020-03-19</td>\n",
              "      <td>2020-03-19</td>\n",
              "      <td>fm001</td>\n",
              "      <td>1</td>\n",
              "      <td>53013811</td>\n",
              "      <td>LENIS  RIVERA</td>\n",
              "      <td>Algesiólogo</td>\n",
              "      <td>Consulta Dolor y Cuidados Paliativos</td>\n",
              "      <td>ZERENIA</td>\n",
              "      <td>3</td>\n",
              "      <td>2020</td>\n",
              "    </tr>\n",
              "    <tr>\n",
              "      <th>2</th>\n",
              "      <td>26806</td>\n",
              "      <td>390646</td>\n",
              "      <td>1/08/1934</td>\n",
              "      <td>87</td>\n",
              "      <td>M</td>\n",
              "      <td>BOGOTÁ D.C.</td>\n",
              "      <td>NEURALGIA POSTHERPES ZOSTER(B02.2†)</td>\n",
              "      <td>G530</td>\n",
              "      <td>PLAN PARTICULAR</td>\n",
              "      <td>Particular</td>\n",
              "      <td>2020-03-19</td>\n",
              "      <td>2020-03-19</td>\n",
              "      <td>fm001</td>\n",
              "      <td>1</td>\n",
              "      <td>53013811</td>\n",
              "      <td>LENIS  RIVERA</td>\n",
              "      <td>Algesiólogo</td>\n",
              "      <td>Consulta Dolor y Cuidados Paliativos</td>\n",
              "      <td>ZERENIA</td>\n",
              "      <td>3</td>\n",
              "      <td>2020</td>\n",
              "    </tr>\n",
              "    <tr>\n",
              "      <th>3</th>\n",
              "      <td>26928</td>\n",
              "      <td>19059029</td>\n",
              "      <td>13/09/1948</td>\n",
              "      <td>73</td>\n",
              "      <td>M</td>\n",
              "      <td>BOGOTÁ D.C.</td>\n",
              "      <td>NaN</td>\n",
              "      <td>NaN</td>\n",
              "      <td>PLAN PARTICULAR</td>\n",
              "      <td>Particular</td>\n",
              "      <td>2020-03-19</td>\n",
              "      <td>2020-03-19</td>\n",
              "      <td>fm001</td>\n",
              "      <td>1</td>\n",
              "      <td>53007921</td>\n",
              "      <td>XIOMARA  GARCIA</td>\n",
              "      <td>Neurologia</td>\n",
              "      <td>Neurologia</td>\n",
              "      <td>ZERENIA</td>\n",
              "      <td>3</td>\n",
              "      <td>2020</td>\n",
              "    </tr>\n",
              "    <tr>\n",
              "      <th>4</th>\n",
              "      <td>26846</td>\n",
              "      <td>41595666</td>\n",
              "      <td>20/09/1953</td>\n",
              "      <td>68</td>\n",
              "      <td>F</td>\n",
              "      <td>CAJICÁ</td>\n",
              "      <td>NaN</td>\n",
              "      <td>NaN</td>\n",
              "      <td>PLAN PARTICULAR</td>\n",
              "      <td>Particular</td>\n",
              "      <td>2020-03-19</td>\n",
              "      <td>2020-03-19</td>\n",
              "      <td>fm001</td>\n",
              "      <td>1</td>\n",
              "      <td>53007921</td>\n",
              "      <td>XIOMARA  GARCIA</td>\n",
              "      <td>Neurologia</td>\n",
              "      <td>Neurologia</td>\n",
              "      <td>ZERENIA</td>\n",
              "      <td>3</td>\n",
              "      <td>2020</td>\n",
              "    </tr>\n",
              "  </tbody>\n",
              "</table>\n",
              "</div>"
            ],
            "text/plain": [
              "   Ingreso DocPaciente Fecha Nacimiento  ...     Sede Month  Year\n",
              "0    26720    41453437       30/09/1949  ...  ZERENIA     3  2020\n",
              "1    26793    13352962       10/11/1960  ...  ZERENIA     3  2020\n",
              "2    26806      390646        1/08/1934  ...  ZERENIA     3  2020\n",
              "3    26928    19059029       13/09/1948  ...  ZERENIA     3  2020\n",
              "4    26846    41595666       20/09/1953  ...  ZERENIA     3  2020\n",
              "\n",
              "[5 rows x 21 columns]"
            ]
          },
          "metadata": {},
          "execution_count": 20
        }
      ]
    },
    {
      "cell_type": "code",
      "metadata": {
        "id": "xyobfAZDmgE4"
      },
      "source": [
        "# function to calcultate number of presribed FMs\n",
        "def sum_avg_fm(df):\n",
        "  calc={}\n",
        "  calc['Numero_Prescripciones'] = len(df)\n",
        "  calc['Cantidad_FMs'] = df['Cantidad'].sum()\n",
        "\n",
        "\n",
        "  return pd.Series(calc, index=['Numero_Prescripciones', 'Cantidad_FMs', ])"
      ],
      "execution_count": 21,
      "outputs": []
    },
    {
      "cell_type": "code",
      "metadata": {
        "colab": {
          "base_uri": "https://localhost:8080/",
          "height": 645
        },
        "id": "V_v4btZtoDfn",
        "outputId": "752a347f-c3da-49dc-8c3a-50ddc2ee2ef9"
      },
      "source": [
        "# FMs prescribed by month/year\n",
        "fm_proced_month = df_procedures.groupby(['Year', 'Month']).apply(sum_avg_fm).reset_index()\n",
        "\n",
        "fm_proced_month['%_Cantidad'] = (fm_proced_month['Cantidad_FMs'] / fm_proced_month['Cantidad_FMs'].sum()) * 100\n",
        "fm_proced_month"
      ],
      "execution_count": 22,
      "outputs": [
        {
          "output_type": "execute_result",
          "data": {
            "text/html": [
              "<div>\n",
              "<style scoped>\n",
              "    .dataframe tbody tr th:only-of-type {\n",
              "        vertical-align: middle;\n",
              "    }\n",
              "\n",
              "    .dataframe tbody tr th {\n",
              "        vertical-align: top;\n",
              "    }\n",
              "\n",
              "    .dataframe thead th {\n",
              "        text-align: right;\n",
              "    }\n",
              "</style>\n",
              "<table border=\"1\" class=\"dataframe\">\n",
              "  <thead>\n",
              "    <tr style=\"text-align: right;\">\n",
              "      <th></th>\n",
              "      <th>Year</th>\n",
              "      <th>Month</th>\n",
              "      <th>Numero_Prescripciones</th>\n",
              "      <th>Cantidad_FMs</th>\n",
              "      <th>%_Cantidad</th>\n",
              "    </tr>\n",
              "  </thead>\n",
              "  <tbody>\n",
              "    <tr>\n",
              "      <th>0</th>\n",
              "      <td>2020</td>\n",
              "      <td>3</td>\n",
              "      <td>8</td>\n",
              "      <td>9</td>\n",
              "      <td>0.018967</td>\n",
              "    </tr>\n",
              "    <tr>\n",
              "      <th>1</th>\n",
              "      <td>2020</td>\n",
              "      <td>4</td>\n",
              "      <td>85</td>\n",
              "      <td>88</td>\n",
              "      <td>0.185451</td>\n",
              "    </tr>\n",
              "    <tr>\n",
              "      <th>2</th>\n",
              "      <td>2020</td>\n",
              "      <td>5</td>\n",
              "      <td>127</td>\n",
              "      <td>131</td>\n",
              "      <td>0.276068</td>\n",
              "    </tr>\n",
              "    <tr>\n",
              "      <th>3</th>\n",
              "      <td>2020</td>\n",
              "      <td>6</td>\n",
              "      <td>357</td>\n",
              "      <td>381</td>\n",
              "      <td>0.802917</td>\n",
              "    </tr>\n",
              "    <tr>\n",
              "      <th>4</th>\n",
              "      <td>2020</td>\n",
              "      <td>7</td>\n",
              "      <td>600</td>\n",
              "      <td>614</td>\n",
              "      <td>1.293939</td>\n",
              "    </tr>\n",
              "    <tr>\n",
              "      <th>5</th>\n",
              "      <td>2020</td>\n",
              "      <td>8</td>\n",
              "      <td>953</td>\n",
              "      <td>978</td>\n",
              "      <td>2.061030</td>\n",
              "    </tr>\n",
              "    <tr>\n",
              "      <th>6</th>\n",
              "      <td>2020</td>\n",
              "      <td>9</td>\n",
              "      <td>1237</td>\n",
              "      <td>1295</td>\n",
              "      <td>2.729074</td>\n",
              "    </tr>\n",
              "    <tr>\n",
              "      <th>7</th>\n",
              "      <td>2020</td>\n",
              "      <td>10</td>\n",
              "      <td>1306</td>\n",
              "      <td>1439</td>\n",
              "      <td>3.032538</td>\n",
              "    </tr>\n",
              "    <tr>\n",
              "      <th>8</th>\n",
              "      <td>2020</td>\n",
              "      <td>11</td>\n",
              "      <td>1256</td>\n",
              "      <td>1447</td>\n",
              "      <td>3.049397</td>\n",
              "    </tr>\n",
              "    <tr>\n",
              "      <th>9</th>\n",
              "      <td>2020</td>\n",
              "      <td>12</td>\n",
              "      <td>1371</td>\n",
              "      <td>1602</td>\n",
              "      <td>3.376043</td>\n",
              "    </tr>\n",
              "    <tr>\n",
              "      <th>10</th>\n",
              "      <td>2021</td>\n",
              "      <td>1</td>\n",
              "      <td>1755</td>\n",
              "      <td>2127</td>\n",
              "      <td>4.482424</td>\n",
              "    </tr>\n",
              "    <tr>\n",
              "      <th>11</th>\n",
              "      <td>2021</td>\n",
              "      <td>2</td>\n",
              "      <td>2537</td>\n",
              "      <td>3147</td>\n",
              "      <td>6.631965</td>\n",
              "    </tr>\n",
              "    <tr>\n",
              "      <th>12</th>\n",
              "      <td>2021</td>\n",
              "      <td>3</td>\n",
              "      <td>3083</td>\n",
              "      <td>3931</td>\n",
              "      <td>8.284161</td>\n",
              "    </tr>\n",
              "    <tr>\n",
              "      <th>13</th>\n",
              "      <td>2021</td>\n",
              "      <td>4</td>\n",
              "      <td>2615</td>\n",
              "      <td>3735</td>\n",
              "      <td>7.871112</td>\n",
              "    </tr>\n",
              "    <tr>\n",
              "      <th>14</th>\n",
              "      <td>2021</td>\n",
              "      <td>5</td>\n",
              "      <td>2771</td>\n",
              "      <td>4029</td>\n",
              "      <td>8.490685</td>\n",
              "    </tr>\n",
              "    <tr>\n",
              "      <th>15</th>\n",
              "      <td>2021</td>\n",
              "      <td>6</td>\n",
              "      <td>3892</td>\n",
              "      <td>5495</td>\n",
              "      <td>11.580123</td>\n",
              "    </tr>\n",
              "    <tr>\n",
              "      <th>16</th>\n",
              "      <td>2021</td>\n",
              "      <td>7</td>\n",
              "      <td>3520</td>\n",
              "      <td>5069</td>\n",
              "      <td>10.682374</td>\n",
              "    </tr>\n",
              "    <tr>\n",
              "      <th>17</th>\n",
              "      <td>2021</td>\n",
              "      <td>8</td>\n",
              "      <td>3948</td>\n",
              "      <td>6160</td>\n",
              "      <td>12.981539</td>\n",
              "    </tr>\n",
              "    <tr>\n",
              "      <th>18</th>\n",
              "      <td>2021</td>\n",
              "      <td>9</td>\n",
              "      <td>3745</td>\n",
              "      <td>5775</td>\n",
              "      <td>12.170193</td>\n",
              "    </tr>\n",
              "  </tbody>\n",
              "</table>\n",
              "</div>"
            ],
            "text/plain": [
              "    Year  Month  Numero_Prescripciones  Cantidad_FMs  %_Cantidad\n",
              "0   2020      3                      8             9    0.018967\n",
              "1   2020      4                     85            88    0.185451\n",
              "2   2020      5                    127           131    0.276068\n",
              "3   2020      6                    357           381    0.802917\n",
              "4   2020      7                    600           614    1.293939\n",
              "5   2020      8                    953           978    2.061030\n",
              "6   2020      9                   1237          1295    2.729074\n",
              "7   2020     10                   1306          1439    3.032538\n",
              "8   2020     11                   1256          1447    3.049397\n",
              "9   2020     12                   1371          1602    3.376043\n",
              "10  2021      1                   1755          2127    4.482424\n",
              "11  2021      2                   2537          3147    6.631965\n",
              "12  2021      3                   3083          3931    8.284161\n",
              "13  2021      4                   2615          3735    7.871112\n",
              "14  2021      5                   2771          4029    8.490685\n",
              "15  2021      6                   3892          5495   11.580123\n",
              "16  2021      7                   3520          5069   10.682374\n",
              "17  2021      8                   3948          6160   12.981539\n",
              "18  2021      9                   3745          5775   12.170193"
            ]
          },
          "metadata": {},
          "execution_count": 22
        }
      ]
    },
    {
      "cell_type": "code",
      "metadata": {
        "colab": {
          "base_uri": "https://localhost:8080/",
          "height": 410
        },
        "id": "KQel_BHb9p42",
        "outputId": "08673963-7bdd-4026-f487-c8998f5a237c"
      },
      "source": [
        "# lineplot of number of prescriptions by month\n",
        "\n",
        "f, ax = plt.subplots(figsize=(12, 6))\n",
        "\n",
        "sns.lineplot(x=fm_proced_month['Month'], y=fm_proced_month['Cantidad_FMs'], hue=fm_proced_month['Year'], palette=['red', 'blue'])\n",
        "ax.set_xticks([1,2,3,4,5,6,7,8,9,10,11,12])\n",
        "ax.set_xticklabels(['Ene', 'Feb', 'Mar', 'Apr', 'May', 'Jun', 'Jul', 'Ago', 'Sept', 'Oct', 'Nov', 'Dec'])\n",
        "\n",
        "plt.xlabel('Mes')\n",
        "plt.title('Cantidad de FMs Prescritas por Mes y Año', pad=12)\n",
        "plt.show()"
      ],
      "execution_count": 23,
      "outputs": [
        {
          "output_type": "display_data",
          "data": {
            "image/png": "[encoded data removed]",
            "text/plain": [
              "<Figure size 864x432 with 1 Axes>"
            ]
          },
          "metadata": {
            "needs_background": "light"
          }
        }
      ]
    },
    {
      "cell_type": "markdown",
      "metadata": {
        "id": "29PsUxFKMxwh"
      },
      "source": [
        "![green-divider](https://user-images.githubusercontent.com/7065401/52071924-c003ad80-2562-11e9-8297-1c6595f8a7ff.png)"
      ]
    },
    {
      "cell_type": "markdown",
      "metadata": {
        "id": "GafpaDuzM1UX"
      },
      "source": [
        "#### Number of Prescribed FMs by Tipo Plan"
      ]
    },
    {
      "cell_type": "code",
      "metadata": {
        "colab": {
          "base_uri": "https://localhost:8080/",
          "height": 143
        },
        "id": "kgLEKiFTMydG",
        "outputId": "2bb0d495-a641-4b3d-962a-20422d9bacf9"
      },
      "source": [
        "# FMs prescribed by Tipo Plan\n",
        "fm_proced_plan = df_procedures.groupby(['Tipo Plan']).Cantidad.sum().reset_index()\n",
        "\n",
        "fm_proced_plan['%'] = (fm_proced_plan.Cantidad / fm_proced_plan.Cantidad.sum()) * 100\n",
        "fm_proced_plan"
      ],
      "execution_count": 24,
      "outputs": [
        {
          "output_type": "execute_result",
          "data": {
            "text/html": [
              "<div>\n",
              "<style scoped>\n",
              "    .dataframe tbody tr th:only-of-type {\n",
              "        vertical-align: middle;\n",
              "    }\n",
              "\n",
              "    .dataframe tbody tr th {\n",
              "        vertical-align: top;\n",
              "    }\n",
              "\n",
              "    .dataframe thead th {\n",
              "        text-align: right;\n",
              "    }\n",
              "</style>\n",
              "<table border=\"1\" class=\"dataframe\">\n",
              "  <thead>\n",
              "    <tr style=\"text-align: right;\">\n",
              "      <th></th>\n",
              "      <th>Tipo Plan</th>\n",
              "      <th>Cantidad</th>\n",
              "      <th>%</th>\n",
              "    </tr>\n",
              "  </thead>\n",
              "  <tbody>\n",
              "    <tr>\n",
              "      <th>0</th>\n",
              "      <td>ARL</td>\n",
              "      <td>38</td>\n",
              "      <td>0.080081</td>\n",
              "    </tr>\n",
              "    <tr>\n",
              "      <th>1</th>\n",
              "      <td>EPS</td>\n",
              "      <td>31992</td>\n",
              "      <td>67.419708</td>\n",
              "    </tr>\n",
              "    <tr>\n",
              "      <th>2</th>\n",
              "      <td>Particular</td>\n",
              "      <td>15422</td>\n",
              "      <td>32.500211</td>\n",
              "    </tr>\n",
              "  </tbody>\n",
              "</table>\n",
              "</div>"
            ],
            "text/plain": [
              "    Tipo Plan  Cantidad          %\n",
              "0         ARL        38   0.080081\n",
              "1         EPS     31992  67.419708\n",
              "2  Particular     15422  32.500211"
            ]
          },
          "metadata": {},
          "execution_count": 24
        }
      ]
    },
    {
      "cell_type": "markdown",
      "metadata": {
        "id": "HCK-nAfyNnRw"
      },
      "source": [
        "The most relevant Tipo Plan on the number of FMs prescribed are:\n",
        "- EPS >> 67.41% of FMs prescribed\n",
        "- Particular >> 32.5% of FMs prescribed\n",
        "\n",
        "These two Plans correspond to 99.91% of FMs prescribed. Plans with plan ARL are going to be removed from the df"
      ]
    },
    {
      "cell_type": "code",
      "metadata": {
        "colab": {
          "base_uri": "https://localhost:8080/"
        },
        "id": "Cbc2arjHOIzS",
        "outputId": "e6a58ea2-d9c0-4907-927c-ebd4fb468349"
      },
      "source": [
        "# remove rows with type of plan == 'ARL'\n",
        "df_procedures = df_procedures[df_procedures['Tipo Plan'] != 'ARL']\n",
        "\n",
        "df_procedures['Tipo Plan'].unique()"
      ],
      "execution_count": 25,
      "outputs": [
        {
          "output_type": "execute_result",
          "data": {
            "text/plain": [
              "array(['Particular', 'EPS'], dtype=object)"
            ]
          },
          "metadata": {},
          "execution_count": 25
        }
      ]
    },
    {
      "cell_type": "markdown",
      "metadata": {
        "id": "4S8vmbqLOmVb"
      },
      "source": [
        "![green-divider](https://user-images.githubusercontent.com/7065401/52071924-c003ad80-2562-11e9-8297-1c6595f8a7ff.png)"
      ]
    },
    {
      "cell_type": "markdown",
      "metadata": {
        "id": "BTcvQuTOOqhy"
      },
      "source": [
        "#### Number of Prescribed FMs by Diagnostico"
      ]
    },
    {
      "cell_type": "code",
      "metadata": {
        "colab": {
          "base_uri": "https://localhost:8080/",
          "height": 363
        },
        "id": "xa-l4QtoOph6",
        "outputId": "f8bdac33-1acd-466a-deaa-7e6a2adc052b"
      },
      "source": [
        "# FMs prescribed by Diagnostico\n",
        "fm_proced_diag = df_procedures.groupby(['Diagnostico']).Cantidad.sum().reset_index()\n",
        "\n",
        "# sort values in descending order\n",
        "fm_proced_diag = fm_proced_diag.sort_values(['Cantidad'], ascending=False)\n",
        "\n",
        "fm_proced_diag['%'] = (fm_proced_diag.Cantidad / fm_proced_diag.Cantidad.sum()) * 100\n",
        "\n",
        "# show 10 diagnostics with the most number of FMs prescribed\n",
        "fm_proced_diag.head(10)"
      ],
      "execution_count": 26,
      "outputs": [
        {
          "output_type": "execute_result",
          "data": {
            "text/html": [
              "<div>\n",
              "<style scoped>\n",
              "    .dataframe tbody tr th:only-of-type {\n",
              "        vertical-align: middle;\n",
              "    }\n",
              "\n",
              "    .dataframe tbody tr th {\n",
              "        vertical-align: top;\n",
              "    }\n",
              "\n",
              "    .dataframe thead th {\n",
              "        text-align: right;\n",
              "    }\n",
              "</style>\n",
              "<table border=\"1\" class=\"dataframe\">\n",
              "  <thead>\n",
              "    <tr style=\"text-align: right;\">\n",
              "      <th></th>\n",
              "      <th>Diagnostico</th>\n",
              "      <th>Cantidad</th>\n",
              "      <th>%</th>\n",
              "    </tr>\n",
              "  </thead>\n",
              "  <tbody>\n",
              "    <tr>\n",
              "      <th>324</th>\n",
              "      <td>OTRO DOLOR CRONICO</td>\n",
              "      <td>16582</td>\n",
              "      <td>42.007397</td>\n",
              "    </tr>\n",
              "    <tr>\n",
              "      <th>118</th>\n",
              "      <td>DOLOR CRONICO INTRATABLE</td>\n",
              "      <td>9098</td>\n",
              "      <td>23.048082</td>\n",
              "    </tr>\n",
              "    <tr>\n",
              "      <th>463</th>\n",
              "      <td>TRASTORNO MIXTO DE ANSIEDAD YDEPRESION</td>\n",
              "      <td>2467</td>\n",
              "      <td>6.249683</td>\n",
              "    </tr>\n",
              "    <tr>\n",
              "      <th>475</th>\n",
              "      <td>TRASTORNOS DEL INICIO Y DELMANTENIMIENTO DEL S...</td>\n",
              "      <td>1679</td>\n",
              "      <td>4.253433</td>\n",
              "    </tr>\n",
              "    <tr>\n",
              "      <th>184</th>\n",
              "      <td>FIBROMIALGIA</td>\n",
              "      <td>1296</td>\n",
              "      <td>3.283174</td>\n",
              "    </tr>\n",
              "    <tr>\n",
              "      <th>2</th>\n",
              "      <td>(OSTEO)ARTROSIS PRIMARIAGENERALIZADA</td>\n",
              "      <td>1157</td>\n",
              "      <td>2.931043</td>\n",
              "    </tr>\n",
              "    <tr>\n",
              "      <th>141</th>\n",
              "      <td>ENFERMEDAD DE PARKINSON</td>\n",
              "      <td>730</td>\n",
              "      <td>1.849319</td>\n",
              "    </tr>\n",
              "    <tr>\n",
              "      <th>437</th>\n",
              "      <td>TRASTORNO DE ANSIEDAD , NOESPECIFICADO</td>\n",
              "      <td>654</td>\n",
              "      <td>1.656787</td>\n",
              "    </tr>\n",
              "    <tr>\n",
              "      <th>241</th>\n",
              "      <td>LUMBAGO NO ESPECIFICADO</td>\n",
              "      <td>369</td>\n",
              "      <td>0.934793</td>\n",
              "    </tr>\n",
              "    <tr>\n",
              "      <th>439</th>\n",
              "      <td>TRASTORNO DE ANSIEDADGENERALIZADA</td>\n",
              "      <td>355</td>\n",
              "      <td>0.899326</td>\n",
              "    </tr>\n",
              "  </tbody>\n",
              "</table>\n",
              "</div>"
            ],
            "text/plain": [
              "                                           Diagnostico  Cantidad          %\n",
              "324                                 OTRO DOLOR CRONICO     16582  42.007397\n",
              "118                           DOLOR CRONICO INTRATABLE      9098  23.048082\n",
              "463             TRASTORNO MIXTO DE ANSIEDAD YDEPRESION      2467   6.249683\n",
              "475  TRASTORNOS DEL INICIO Y DELMANTENIMIENTO DEL S...      1679   4.253433\n",
              "184                                       FIBROMIALGIA      1296   3.283174\n",
              "2                 (OSTEO)ARTROSIS PRIMARIAGENERALIZADA      1157   2.931043\n",
              "141                            ENFERMEDAD DE PARKINSON       730   1.849319\n",
              "437             TRASTORNO DE ANSIEDAD , NOESPECIFICADO       654   1.656787\n",
              "241                            LUMBAGO NO ESPECIFICADO       369   0.934793\n",
              "439                  TRASTORNO DE ANSIEDADGENERALIZADA       355   0.899326"
            ]
          },
          "metadata": {},
          "execution_count": 26
        }
      ]
    },
    {
      "cell_type": "markdown",
      "metadata": {
        "id": "_Xr6ZDUnQtmK"
      },
      "source": [
        "The most relevant Diagnosticos on the number of FMs prescribed are:  \n",
        "- Otro Dolor Cronico >> 42.00% of FMs prescribed\n",
        "- Dolor Cronico Intratable >> 23.04% of FMs prescribed\n",
        "- Trastorno Mixto de Ansiedad y Depresion >> 6.24% of FMs prescribed\n",
        "- Insomnio >> 4.25% of FMs prescribed\n",
        "- Fibromialgia >> 3.28% of FMs prescribed\n",
        "\n",
        "These Diagnostics correspond to 78.81% of FMs prescribed which is more than the Q3 of the dataset"
      ]
    },
    {
      "cell_type": "markdown",
      "metadata": {
        "id": "dKMTWRTjSXOi"
      },
      "source": [
        "![green-divider](https://user-images.githubusercontent.com/7065401/52071924-c003ad80-2562-11e9-8297-1c6595f8a7ff.png)"
      ]
    },
    {
      "cell_type": "markdown",
      "metadata": {
        "id": "r3vv7uFdScpM"
      },
      "source": [
        "#### Histogram of FMs Prescribed by Edad"
      ]
    },
    {
      "cell_type": "code",
      "metadata": {
        "colab": {
          "base_uri": "https://localhost:8080/",
          "height": 466
        },
        "id": "WxEWA03YSk6i",
        "outputId": "0cbcfa28-702e-401d-ba89-b0c5fb14edb7"
      },
      "source": [
        "# plot histogram\n",
        "\n",
        "f, ax = plt.subplots(figsize=(12, 6))\n",
        "\n",
        "sns.histplot(data=df_procedures, x='Edad', color='salmon')\n",
        "plt.axvline(df_procedures['Edad'].mean(), linestyle='dashed', linewidth=2, color='black', label='Mean')\n",
        "\n",
        "plt.title('Distribution of the Age of Patients Prescribed with FMs - March 2020 to Sept 2021', pad=12)\n",
        "plt.legend()\n",
        "plt.show()\n",
        "\n",
        "print(f'Skewness of Distribution: {df_procedures.Edad.skew()}')\n",
        "print(f'Mean of Patients Prescribed: {df_procedures.Edad.mean()}')\n",
        "print(f'Medeian of Patients prescribed: {df_procedures.Edad.median()}')"
      ],
      "execution_count": 27,
      "outputs": [
        {
          "output_type": "display_data",
          "data": {
            "image/png": "[encoded data removed]",
            "text/plain": [
              "<Figure size 864x432 with 1 Axes>"
            ]
          },
          "metadata": {
            "needs_background": "light"
          }
        },
        {
          "output_type": "stream",
          "name": "stdout",
          "text": [
            "Skewness of Distribution: -0.14676919429814095\n",
            "Mean of Patients Prescribed: 58.0236191343445\n",
            "Medeian of Patients prescribed: 58.0\n"
          ]
        }
      ]
    },
    {
      "cell_type": "markdown",
      "metadata": {
        "id": "n3KxFfwaYpn4"
      },
      "source": [
        "![green-divider](https://user-images.githubusercontent.com/7065401/52071924-c003ad80-2562-11e9-8297-1c6595f8a7ff.png)"
      ]
    },
    {
      "cell_type": "markdown",
      "metadata": {
        "id": "NnSmm8RTYtZ-"
      },
      "source": [
        "#### Number of Prescribed FMs by age_group"
      ]
    },
    {
      "cell_type": "code",
      "metadata": {
        "colab": {
          "base_uri": "https://localhost:8080/",
          "height": 382
        },
        "id": "macVlnEBX72k",
        "outputId": "276389ec-93b2-455d-9da3-5ddf37a26f74"
      },
      "source": [
        "# bin Edad into age groups >> using pd.cut(df, bins=??)\n",
        "df_procedures['age_group'] = pd.cut(df_procedures['Edad'], bins=4)\n",
        "\n",
        "# check age_group\n",
        "df_procedures.head()"
      ],
      "execution_count": 28,
      "outputs": [
        {
          "output_type": "execute_result",
          "data": {
            "text/html": [
              "<div>\n",
              "<style scoped>\n",
              "    .dataframe tbody tr th:only-of-type {\n",
              "        vertical-align: middle;\n",
              "    }\n",
              "\n",
              "    .dataframe tbody tr th {\n",
              "        vertical-align: top;\n",
              "    }\n",
              "\n",
              "    .dataframe thead th {\n",
              "        text-align: right;\n",
              "    }\n",
              "</style>\n",
              "<table border=\"1\" class=\"dataframe\">\n",
              "  <thead>\n",
              "    <tr style=\"text-align: right;\">\n",
              "      <th></th>\n",
              "      <th>Ingreso</th>\n",
              "      <th>DocPaciente</th>\n",
              "      <th>Fecha Nacimiento</th>\n",
              "      <th>Edad</th>\n",
              "      <th>Sexo</th>\n",
              "      <th>CiudadMunicipio</th>\n",
              "      <th>Diagnostico</th>\n",
              "      <th>CodigoDiagnostico</th>\n",
              "      <th>Plan</th>\n",
              "      <th>Tipo Plan</th>\n",
              "      <th>FechaIngreso</th>\n",
              "      <th>FechaFormulacion</th>\n",
              "      <th>CodProducto</th>\n",
              "      <th>Cantidad</th>\n",
              "      <th>DocMedico</th>\n",
              "      <th>NombreMedico</th>\n",
              "      <th>Especialidad</th>\n",
              "      <th>Plan/Servicio</th>\n",
              "      <th>Sede</th>\n",
              "      <th>Month</th>\n",
              "      <th>Year</th>\n",
              "      <th>age_group</th>\n",
              "    </tr>\n",
              "  </thead>\n",
              "  <tbody>\n",
              "    <tr>\n",
              "      <th>0</th>\n",
              "      <td>26720</td>\n",
              "      <td>41453437</td>\n",
              "      <td>30/09/1949</td>\n",
              "      <td>72</td>\n",
              "      <td>F</td>\n",
              "      <td>BOGOTÁ D.C.</td>\n",
              "      <td>(OSTEO)ARTROSIS PRIMARIAGENERALIZADA</td>\n",
              "      <td>M150</td>\n",
              "      <td>PLAN PARTICULAR</td>\n",
              "      <td>Particular</td>\n",
              "      <td>2020-03-19</td>\n",
              "      <td>2020-03-19</td>\n",
              "      <td>fm001</td>\n",
              "      <td>1</td>\n",
              "      <td>53013811</td>\n",
              "      <td>LENIS  RIVERA</td>\n",
              "      <td>Algesiólogo</td>\n",
              "      <td>Consulta Dolor y Cuidados Paliativos</td>\n",
              "      <td>ZERENIA</td>\n",
              "      <td>3</td>\n",
              "      <td>2020</td>\n",
              "      <td>(51.0, 76.0]</td>\n",
              "    </tr>\n",
              "    <tr>\n",
              "      <th>1</th>\n",
              "      <td>26793</td>\n",
              "      <td>13352962</td>\n",
              "      <td>10/11/1960</td>\n",
              "      <td>61</td>\n",
              "      <td>M</td>\n",
              "      <td>BOGOTÁ D.C.</td>\n",
              "      <td>TRASTORNO DE DISCO LUMBAR YOTROS, CON RADICULO...</td>\n",
              "      <td>M511</td>\n",
              "      <td>PLAN PARTICULAR</td>\n",
              "      <td>Particular</td>\n",
              "      <td>2020-03-19</td>\n",
              "      <td>2020-03-19</td>\n",
              "      <td>fm001</td>\n",
              "      <td>1</td>\n",
              "      <td>53013811</td>\n",
              "      <td>LENIS  RIVERA</td>\n",
              "      <td>Algesiólogo</td>\n",
              "      <td>Consulta Dolor y Cuidados Paliativos</td>\n",
              "      <td>ZERENIA</td>\n",
              "      <td>3</td>\n",
              "      <td>2020</td>\n",
              "      <td>(51.0, 76.0]</td>\n",
              "    </tr>\n",
              "    <tr>\n",
              "      <th>2</th>\n",
              "      <td>26806</td>\n",
              "      <td>390646</td>\n",
              "      <td>1/08/1934</td>\n",
              "      <td>87</td>\n",
              "      <td>M</td>\n",
              "      <td>BOGOTÁ D.C.</td>\n",
              "      <td>NEURALGIA POSTHERPES ZOSTER(B02.2†)</td>\n",
              "      <td>G530</td>\n",
              "      <td>PLAN PARTICULAR</td>\n",
              "      <td>Particular</td>\n",
              "      <td>2020-03-19</td>\n",
              "      <td>2020-03-19</td>\n",
              "      <td>fm001</td>\n",
              "      <td>1</td>\n",
              "      <td>53013811</td>\n",
              "      <td>LENIS  RIVERA</td>\n",
              "      <td>Algesiólogo</td>\n",
              "      <td>Consulta Dolor y Cuidados Paliativos</td>\n",
              "      <td>ZERENIA</td>\n",
              "      <td>3</td>\n",
              "      <td>2020</td>\n",
              "      <td>(76.0, 101.0]</td>\n",
              "    </tr>\n",
              "    <tr>\n",
              "      <th>3</th>\n",
              "      <td>26928</td>\n",
              "      <td>19059029</td>\n",
              "      <td>13/09/1948</td>\n",
              "      <td>73</td>\n",
              "      <td>M</td>\n",
              "      <td>BOGOTÁ D.C.</td>\n",
              "      <td>NaN</td>\n",
              "      <td>NaN</td>\n",
              "      <td>PLAN PARTICULAR</td>\n",
              "      <td>Particular</td>\n",
              "      <td>2020-03-19</td>\n",
              "      <td>2020-03-19</td>\n",
              "      <td>fm001</td>\n",
              "      <td>1</td>\n",
              "      <td>53007921</td>\n",
              "      <td>XIOMARA  GARCIA</td>\n",
              "      <td>Neurologia</td>\n",
              "      <td>Neurologia</td>\n",
              "      <td>ZERENIA</td>\n",
              "      <td>3</td>\n",
              "      <td>2020</td>\n",
              "      <td>(51.0, 76.0]</td>\n",
              "    </tr>\n",
              "    <tr>\n",
              "      <th>4</th>\n",
              "      <td>26846</td>\n",
              "      <td>41595666</td>\n",
              "      <td>20/09/1953</td>\n",
              "      <td>68</td>\n",
              "      <td>F</td>\n",
              "      <td>CAJICÁ</td>\n",
              "      <td>NaN</td>\n",
              "      <td>NaN</td>\n",
              "      <td>PLAN PARTICULAR</td>\n",
              "      <td>Particular</td>\n",
              "      <td>2020-03-19</td>\n",
              "      <td>2020-03-19</td>\n",
              "      <td>fm001</td>\n",
              "      <td>1</td>\n",
              "      <td>53007921</td>\n",
              "      <td>XIOMARA  GARCIA</td>\n",
              "      <td>Neurologia</td>\n",
              "      <td>Neurologia</td>\n",
              "      <td>ZERENIA</td>\n",
              "      <td>3</td>\n",
              "      <td>2020</td>\n",
              "      <td>(51.0, 76.0]</td>\n",
              "    </tr>\n",
              "  </tbody>\n",
              "</table>\n",
              "</div>"
            ],
            "text/plain": [
              "   Ingreso DocPaciente Fecha Nacimiento  ...  Month  Year      age_group\n",
              "0    26720    41453437       30/09/1949  ...      3  2020   (51.0, 76.0]\n",
              "1    26793    13352962       10/11/1960  ...      3  2020   (51.0, 76.0]\n",
              "2    26806      390646        1/08/1934  ...      3  2020  (76.0, 101.0]\n",
              "3    26928    19059029       13/09/1948  ...      3  2020   (51.0, 76.0]\n",
              "4    26846    41595666       20/09/1953  ...      3  2020   (51.0, 76.0]\n",
              "\n",
              "[5 rows x 22 columns]"
            ]
          },
          "metadata": {},
          "execution_count": 28
        }
      ]
    },
    {
      "cell_type": "code",
      "metadata": {
        "colab": {
          "base_uri": "https://localhost:8080/",
          "height": 175
        },
        "id": "XUo0BA_FY1Q2",
        "outputId": "b968b602-a545-4092-9b85-440bb2c2b4d5"
      },
      "source": [
        "# FMs prescribed by age_group\n",
        "fm_proced_age = df_procedures.groupby(['age_group']).Cantidad.sum().reset_index()\n",
        "\n",
        "fm_proced_age['%'] = (fm_proced_age.Cantidad / fm_proced_age.Cantidad.sum()) * 100\n",
        "fm_proced_age"
      ],
      "execution_count": 29,
      "outputs": [
        {
          "output_type": "execute_result",
          "data": {
            "text/html": [
              "<div>\n",
              "<style scoped>\n",
              "    .dataframe tbody tr th:only-of-type {\n",
              "        vertical-align: middle;\n",
              "    }\n",
              "\n",
              "    .dataframe tbody tr th {\n",
              "        vertical-align: top;\n",
              "    }\n",
              "\n",
              "    .dataframe thead th {\n",
              "        text-align: right;\n",
              "    }\n",
              "</style>\n",
              "<table border=\"1\" class=\"dataframe\">\n",
              "  <thead>\n",
              "    <tr style=\"text-align: right;\">\n",
              "      <th></th>\n",
              "      <th>age_group</th>\n",
              "      <th>Cantidad</th>\n",
              "      <th>%</th>\n",
              "    </tr>\n",
              "  </thead>\n",
              "  <tbody>\n",
              "    <tr>\n",
              "      <th>0</th>\n",
              "      <td>(0.9, 26.0]</td>\n",
              "      <td>1316</td>\n",
              "      <td>2.775552</td>\n",
              "    </tr>\n",
              "    <tr>\n",
              "      <th>1</th>\n",
              "      <td>(26.0, 51.0]</td>\n",
              "      <td>15520</td>\n",
              "      <td>32.732948</td>\n",
              "    </tr>\n",
              "    <tr>\n",
              "      <th>2</th>\n",
              "      <td>(51.0, 76.0]</td>\n",
              "      <td>24895</td>\n",
              "      <td>52.505589</td>\n",
              "    </tr>\n",
              "    <tr>\n",
              "      <th>3</th>\n",
              "      <td>(76.0, 101.0]</td>\n",
              "      <td>5683</td>\n",
              "      <td>11.985911</td>\n",
              "    </tr>\n",
              "  </tbody>\n",
              "</table>\n",
              "</div>"
            ],
            "text/plain": [
              "       age_group  Cantidad          %\n",
              "0    (0.9, 26.0]      1316   2.775552\n",
              "1   (26.0, 51.0]     15520  32.732948\n",
              "2   (51.0, 76.0]     24895  52.505589\n",
              "3  (76.0, 101.0]      5683  11.985911"
            ]
          },
          "metadata": {},
          "execution_count": 29
        }
      ]
    },
    {
      "cell_type": "markdown",
      "metadata": {
        "id": "RLDjTkAfZS6t"
      },
      "source": [
        "The most relevant Age Groups on the number of FMs prescribed are:   \n",
        "\n",
        "- 51 to 76 years >> 52.5% of FMs prescribed\n",
        "- 26 to 51 years >> 32.7% of FMs prescribed\n",
        "- 76 to 101 years >> 11.9% of \n",
        "\n",
        "These three age groups correspon to 85.2% of FMs prescribed"
      ]
    },
    {
      "cell_type": "markdown",
      "metadata": {
        "id": "nq2qdw8cNwUV"
      },
      "source": [
        "![green-divider](https://user-images.githubusercontent.com/7065401/52071924-c003ad80-2562-11e9-8297-1c6595f8a7ff.png)"
      ]
    },
    {
      "cell_type": "markdown",
      "metadata": {
        "id": "t10ZyeCINy4J"
      },
      "source": [
        "#### Number of Prescribed FMs by Ciudad"
      ]
    },
    {
      "cell_type": "code",
      "metadata": {
        "colab": {
          "base_uri": "https://localhost:8080/",
          "height": 363
        },
        "id": "KCsFG1s0N4zw",
        "outputId": "e7de7427-cca6-4a22-ccff-f19375ef708b"
      },
      "source": [
        "# FMs prescribed by city/location\n",
        "fm_proced_city = df_procedures.groupby(['CiudadMunicipio']).Cantidad.sum().reset_index()\n",
        "# sort values in descending order\n",
        "fm_proced_city = fm_proced_city.sort_values('Cantidad', ascending=False)\n",
        "\n",
        "fm_proced_city['%'] = (fm_proced_city.Cantidad / fm_proced_city.Cantidad.sum()) * 100\n",
        "fm_proced_city.head(10)"
      ],
      "execution_count": 30,
      "outputs": [
        {
          "output_type": "execute_result",
          "data": {
            "text/html": [
              "<div>\n",
              "<style scoped>\n",
              "    .dataframe tbody tr th:only-of-type {\n",
              "        vertical-align: middle;\n",
              "    }\n",
              "\n",
              "    .dataframe tbody tr th {\n",
              "        vertical-align: top;\n",
              "    }\n",
              "\n",
              "    .dataframe thead th {\n",
              "        text-align: right;\n",
              "    }\n",
              "</style>\n",
              "<table border=\"1\" class=\"dataframe\">\n",
              "  <thead>\n",
              "    <tr style=\"text-align: right;\">\n",
              "      <th></th>\n",
              "      <th>CiudadMunicipio</th>\n",
              "      <th>Cantidad</th>\n",
              "      <th>%</th>\n",
              "    </tr>\n",
              "  </thead>\n",
              "  <tbody>\n",
              "    <tr>\n",
              "      <th>48</th>\n",
              "      <td>BOGOTÁ D.C.</td>\n",
              "      <td>32837</td>\n",
              "      <td>69.255916</td>\n",
              "    </tr>\n",
              "    <tr>\n",
              "      <th>401</th>\n",
              "      <td>SOACHA</td>\n",
              "      <td>2118</td>\n",
              "      <td>4.467035</td>\n",
              "    </tr>\n",
              "    <tr>\n",
              "      <th>244</th>\n",
              "      <td>MEDELLÍN</td>\n",
              "      <td>986</td>\n",
              "      <td>2.079555</td>\n",
              "    </tr>\n",
              "    <tr>\n",
              "      <th>235</th>\n",
              "      <td>MADRID</td>\n",
              "      <td>892</td>\n",
              "      <td>1.881301</td>\n",
              "    </tr>\n",
              "    <tr>\n",
              "      <th>261</th>\n",
              "      <td>MOSQUERA</td>\n",
              "      <td>580</td>\n",
              "      <td>1.223267</td>\n",
              "    </tr>\n",
              "    <tr>\n",
              "      <th>162</th>\n",
              "      <td>FUNZA</td>\n",
              "      <td>573</td>\n",
              "      <td>1.208504</td>\n",
              "    </tr>\n",
              "    <tr>\n",
              "      <th>149</th>\n",
              "      <td>FACATATIVÁ</td>\n",
              "      <td>548</td>\n",
              "      <td>1.155777</td>\n",
              "    </tr>\n",
              "    <tr>\n",
              "      <th>389</th>\n",
              "      <td>SANTIAGO DE CALI</td>\n",
              "      <td>546</td>\n",
              "      <td>1.151559</td>\n",
              "    </tr>\n",
              "    <tr>\n",
              "      <th>472</th>\n",
              "      <td>ZIPAQUIRÁ</td>\n",
              "      <td>545</td>\n",
              "      <td>1.149450</td>\n",
              "    </tr>\n",
              "    <tr>\n",
              "      <th>96</th>\n",
              "      <td>CHÍA</td>\n",
              "      <td>379</td>\n",
              "      <td>0.799342</td>\n",
              "    </tr>\n",
              "  </tbody>\n",
              "</table>\n",
              "</div>"
            ],
            "text/plain": [
              "      CiudadMunicipio  Cantidad          %\n",
              "48        BOGOTÁ D.C.     32837  69.255916\n",
              "401            SOACHA      2118   4.467035\n",
              "244          MEDELLÍN       986   2.079555\n",
              "235            MADRID       892   1.881301\n",
              "261          MOSQUERA       580   1.223267\n",
              "162             FUNZA       573   1.208504\n",
              "149        FACATATIVÁ       548   1.155777\n",
              "389  SANTIAGO DE CALI       546   1.151559\n",
              "472         ZIPAQUIRÁ       545   1.149450\n",
              "96               CHÍA       379   0.799342"
            ]
          },
          "metadata": {},
          "execution_count": 30
        }
      ]
    },
    {
      "cell_type": "markdown",
      "metadata": {
        "id": "bpPfGYaxO8wG"
      },
      "source": [
        "The most relevant Cities on the number of FMs prescribed are:    \n",
        "- Bogota >> 69.25% of FMs prescribed\n",
        "- Soacha >> 4.46% of FMs prescribed\n",
        "- Medellin >> 2.07% of FMs prescribed\n",
        "- Madrid >> 1.88% of FMs prescribed\n",
        "- Mosquera >> 1.22% of FMs prescribed\n",
        "\n",
        "These cities correspond to 78.88% of the locations where FMs are prescribed, more than the Q3 of all the data"
      ]
    },
    {
      "cell_type": "markdown",
      "metadata": {
        "id": "LIzP25PzaDA5"
      },
      "source": [
        "![purple-divider](https://user-images.githubusercontent.com/7065401/52071927-c1cd7100-2562-11e9-908a-dde91ba14e59.png)"
      ]
    },
    {
      "cell_type": "markdown",
      "metadata": {
        "id": "YAwkjP3KP6GZ"
      },
      "source": [
        "## Sales FMs"
      ]
    },
    {
      "cell_type": "code",
      "metadata": {
        "colab": {
          "base_uri": "https://localhost:8080/",
          "height": 206
        },
        "id": "ttz03E7tP8dO",
        "outputId": "79e95ffd-5603-4409-db1f-a320505364f8"
      },
      "source": [
        "# check df\n",
        "df_sales.head()"
      ],
      "execution_count": 31,
      "outputs": [
        {
          "output_type": "execute_result",
          "data": {
            "text/html": [
              "<div>\n",
              "<style scoped>\n",
              "    .dataframe tbody tr th:only-of-type {\n",
              "        vertical-align: middle;\n",
              "    }\n",
              "\n",
              "    .dataframe tbody tr th {\n",
              "        vertical-align: top;\n",
              "    }\n",
              "\n",
              "    .dataframe thead th {\n",
              "        text-align: right;\n",
              "    }\n",
              "</style>\n",
              "<table border=\"1\" class=\"dataframe\">\n",
              "  <thead>\n",
              "    <tr style=\"text-align: right;\">\n",
              "      <th></th>\n",
              "      <th>ingreso</th>\n",
              "      <th>cedula</th>\n",
              "      <th>fecha_oc</th>\n",
              "    </tr>\n",
              "  </thead>\n",
              "  <tbody>\n",
              "    <tr>\n",
              "      <th>0</th>\n",
              "      <td>26806</td>\n",
              "      <td>390646</td>\n",
              "      <td>2020-03-19</td>\n",
              "    </tr>\n",
              "    <tr>\n",
              "      <th>1</th>\n",
              "      <td>26793</td>\n",
              "      <td>13352962</td>\n",
              "      <td>2020-03-19</td>\n",
              "    </tr>\n",
              "    <tr>\n",
              "      <th>2</th>\n",
              "      <td>26928</td>\n",
              "      <td>19059029</td>\n",
              "      <td>2020-03-19</td>\n",
              "    </tr>\n",
              "    <tr>\n",
              "      <th>3</th>\n",
              "      <td>26891</td>\n",
              "      <td>31259698</td>\n",
              "      <td>2020-03-19</td>\n",
              "    </tr>\n",
              "    <tr>\n",
              "      <th>4</th>\n",
              "      <td>26720</td>\n",
              "      <td>41453437</td>\n",
              "      <td>2020-03-19</td>\n",
              "    </tr>\n",
              "  </tbody>\n",
              "</table>\n",
              "</div>"
            ],
            "text/plain": [
              "   ingreso    cedula    fecha_oc\n",
              "0    26806    390646  2020-03-19\n",
              "1    26793  13352962  2020-03-19\n",
              "2    26928  19059029  2020-03-19\n",
              "3    26891  31259698  2020-03-19\n",
              "4    26720  41453437  2020-03-19"
            ]
          },
          "metadata": {},
          "execution_count": 31
        }
      ]
    },
    {
      "cell_type": "code",
      "metadata": {
        "colab": {
          "base_uri": "https://localhost:8080/",
          "height": 206
        },
        "id": "BybjReIWbYSR",
        "outputId": "97e0d85d-cc0d-4e56-a35e-683de76b054f"
      },
      "source": [
        "# rename ingreso to Ingreso\n",
        "df_sales.rename(columns={'ingreso': 'Ingreso'}, inplace=True)\n",
        "\n",
        "df_sales.head()"
      ],
      "execution_count": 32,
      "outputs": [
        {
          "output_type": "execute_result",
          "data": {
            "text/html": [
              "<div>\n",
              "<style scoped>\n",
              "    .dataframe tbody tr th:only-of-type {\n",
              "        vertical-align: middle;\n",
              "    }\n",
              "\n",
              "    .dataframe tbody tr th {\n",
              "        vertical-align: top;\n",
              "    }\n",
              "\n",
              "    .dataframe thead th {\n",
              "        text-align: right;\n",
              "    }\n",
              "</style>\n",
              "<table border=\"1\" class=\"dataframe\">\n",
              "  <thead>\n",
              "    <tr style=\"text-align: right;\">\n",
              "      <th></th>\n",
              "      <th>Ingreso</th>\n",
              "      <th>cedula</th>\n",
              "      <th>fecha_oc</th>\n",
              "    </tr>\n",
              "  </thead>\n",
              "  <tbody>\n",
              "    <tr>\n",
              "      <th>0</th>\n",
              "      <td>26806</td>\n",
              "      <td>390646</td>\n",
              "      <td>2020-03-19</td>\n",
              "    </tr>\n",
              "    <tr>\n",
              "      <th>1</th>\n",
              "      <td>26793</td>\n",
              "      <td>13352962</td>\n",
              "      <td>2020-03-19</td>\n",
              "    </tr>\n",
              "    <tr>\n",
              "      <th>2</th>\n",
              "      <td>26928</td>\n",
              "      <td>19059029</td>\n",
              "      <td>2020-03-19</td>\n",
              "    </tr>\n",
              "    <tr>\n",
              "      <th>3</th>\n",
              "      <td>26891</td>\n",
              "      <td>31259698</td>\n",
              "      <td>2020-03-19</td>\n",
              "    </tr>\n",
              "    <tr>\n",
              "      <th>4</th>\n",
              "      <td>26720</td>\n",
              "      <td>41453437</td>\n",
              "      <td>2020-03-19</td>\n",
              "    </tr>\n",
              "  </tbody>\n",
              "</table>\n",
              "</div>"
            ],
            "text/plain": [
              "   Ingreso    cedula    fecha_oc\n",
              "0    26806    390646  2020-03-19\n",
              "1    26793  13352962  2020-03-19\n",
              "2    26928  19059029  2020-03-19\n",
              "3    26891  31259698  2020-03-19\n",
              "4    26720  41453437  2020-03-19"
            ]
          },
          "metadata": {},
          "execution_count": 32
        }
      ]
    },
    {
      "cell_type": "code",
      "metadata": {
        "colab": {
          "base_uri": "https://localhost:8080/"
        },
        "id": "A5diuY28QD0y",
        "outputId": "ffea3087-a802-4d34-c586-52fd32453dad"
      },
      "source": [
        "# check shape\n",
        "df_sales.shape"
      ],
      "execution_count": 33,
      "outputs": [
        {
          "output_type": "execute_result",
          "data": {
            "text/plain": [
              "(28003, 3)"
            ]
          },
          "metadata": {},
          "execution_count": 33
        }
      ]
    },
    {
      "cell_type": "code",
      "metadata": {
        "colab": {
          "base_uri": "https://localhost:8080/"
        },
        "id": "UAHVjJBgQNWP",
        "outputId": "c253b24e-dd8c-418c-fbb8-f3d185b5c718"
      },
      "source": [
        "# check column types\n",
        "df_sales.dtypes"
      ],
      "execution_count": 34,
      "outputs": [
        {
          "output_type": "execute_result",
          "data": {
            "text/plain": [
              "Ingreso      int64\n",
              "cedula      object\n",
              "fecha_oc    object\n",
              "dtype: object"
            ]
          },
          "metadata": {},
          "execution_count": 34
        }
      ]
    },
    {
      "cell_type": "code",
      "metadata": {
        "colab": {
          "base_uri": "https://localhost:8080/",
          "height": 347
        },
        "id": "4GKzW0giQQ8Z",
        "outputId": "fb7ab3b1-2b3c-4321-9eba-2baae9bf9bf4"
      },
      "source": [
        "# check for missing values\n",
        "msg.matrix(df_sales, figsize=(12,4))"
      ],
      "execution_count": 35,
      "outputs": [
        {
          "output_type": "execute_result",
          "data": {
            "text/plain": [
              "<matplotlib.axes._subplots.AxesSubplot at 0x7f7537358d10>"
            ]
          },
          "metadata": {},
          "execution_count": 35
        },
        {
          "output_type": "display_data",
          "data": {
            "image/png": "[encoded data removed]",
            "text/plain": [
              "<Figure size 864x288 with 2 Axes>"
            ]
          },
          "metadata": {
            "needs_background": "light"
          }
        }
      ]
    },
    {
      "cell_type": "markdown",
      "metadata": {
        "id": "5n6N8roMQhop"
      },
      "source": [
        "![green-divider](https://user-images.githubusercontent.com/7065401/52071924-c003ad80-2562-11e9-8297-1c6595f8a7ff.png)"
      ]
    },
    {
      "cell_type": "markdown",
      "metadata": {
        "id": "agh1v9Y7QjP5"
      },
      "source": [
        "### Number of Prescriptions Sold by Year/Month "
      ]
    },
    {
      "cell_type": "code",
      "metadata": {
        "id": "LwxcsNQgQieQ"
      },
      "source": [
        "# change fecha_oc type to datetime\n",
        "df_sales['fecha_oc'] = pd.to_datetime(df_sales['fecha_oc'])"
      ],
      "execution_count": 36,
      "outputs": []
    },
    {
      "cell_type": "code",
      "metadata": {
        "colab": {
          "base_uri": "https://localhost:8080/"
        },
        "id": "UL_kOX1lRMiZ",
        "outputId": "128ae3da-65f7-490b-a91c-6fdd6d958f64"
      },
      "source": [
        "# check changes\n",
        "df_sales.dtypes"
      ],
      "execution_count": 37,
      "outputs": [
        {
          "output_type": "execute_result",
          "data": {
            "text/plain": [
              "Ingreso              int64\n",
              "cedula              object\n",
              "fecha_oc    datetime64[ns]\n",
              "dtype: object"
            ]
          },
          "metadata": {},
          "execution_count": 37
        }
      ]
    },
    {
      "cell_type": "code",
      "metadata": {
        "colab": {
          "base_uri": "https://localhost:8080/",
          "height": 206
        },
        "id": "6wTgUq3vRSPQ",
        "outputId": "265e1f6e-9ad8-426b-fe4c-30991e3ee26c"
      },
      "source": [
        "# create a month and year column\n",
        "df_sales['month_sold'] = pd.DatetimeIndex(df_sales['fecha_oc']).month\n",
        "df_sales['year_sold'] = pd.DatetimeIndex(df_sales['fecha_oc']).year \n",
        "\n",
        "df_sales.head()"
      ],
      "execution_count": 38,
      "outputs": [
        {
          "output_type": "execute_result",
          "data": {
            "text/html": [
              "<div>\n",
              "<style scoped>\n",
              "    .dataframe tbody tr th:only-of-type {\n",
              "        vertical-align: middle;\n",
              "    }\n",
              "\n",
              "    .dataframe tbody tr th {\n",
              "        vertical-align: top;\n",
              "    }\n",
              "\n",
              "    .dataframe thead th {\n",
              "        text-align: right;\n",
              "    }\n",
              "</style>\n",
              "<table border=\"1\" class=\"dataframe\">\n",
              "  <thead>\n",
              "    <tr style=\"text-align: right;\">\n",
              "      <th></th>\n",
              "      <th>Ingreso</th>\n",
              "      <th>cedula</th>\n",
              "      <th>fecha_oc</th>\n",
              "      <th>month_sold</th>\n",
              "      <th>year_sold</th>\n",
              "    </tr>\n",
              "  </thead>\n",
              "  <tbody>\n",
              "    <tr>\n",
              "      <th>0</th>\n",
              "      <td>26806</td>\n",
              "      <td>390646</td>\n",
              "      <td>2020-03-19</td>\n",
              "      <td>3</td>\n",
              "      <td>2020</td>\n",
              "    </tr>\n",
              "    <tr>\n",
              "      <th>1</th>\n",
              "      <td>26793</td>\n",
              "      <td>13352962</td>\n",
              "      <td>2020-03-19</td>\n",
              "      <td>3</td>\n",
              "      <td>2020</td>\n",
              "    </tr>\n",
              "    <tr>\n",
              "      <th>2</th>\n",
              "      <td>26928</td>\n",
              "      <td>19059029</td>\n",
              "      <td>2020-03-19</td>\n",
              "      <td>3</td>\n",
              "      <td>2020</td>\n",
              "    </tr>\n",
              "    <tr>\n",
              "      <th>3</th>\n",
              "      <td>26891</td>\n",
              "      <td>31259698</td>\n",
              "      <td>2020-03-19</td>\n",
              "      <td>3</td>\n",
              "      <td>2020</td>\n",
              "    </tr>\n",
              "    <tr>\n",
              "      <th>4</th>\n",
              "      <td>26720</td>\n",
              "      <td>41453437</td>\n",
              "      <td>2020-03-19</td>\n",
              "      <td>3</td>\n",
              "      <td>2020</td>\n",
              "    </tr>\n",
              "  </tbody>\n",
              "</table>\n",
              "</div>"
            ],
            "text/plain": [
              "   Ingreso    cedula   fecha_oc  month_sold  year_sold\n",
              "0    26806    390646 2020-03-19           3       2020\n",
              "1    26793  13352962 2020-03-19           3       2020\n",
              "2    26928  19059029 2020-03-19           3       2020\n",
              "3    26891  31259698 2020-03-19           3       2020\n",
              "4    26720  41453437 2020-03-19           3       2020"
            ]
          },
          "metadata": {},
          "execution_count": 38
        }
      ]
    },
    {
      "cell_type": "code",
      "metadata": {
        "id": "MSF05Y1RSBhL"
      },
      "source": [
        "# function to calculate number of prescriptions sold\n",
        "def num_sold(df):\n",
        "  calc = {}\n",
        "  calc['prescriptions_sold'] = len(df)\n",
        "\n",
        "  return pd.Series(calc, index=['prescriptions_sold'])"
      ],
      "execution_count": 39,
      "outputs": []
    },
    {
      "cell_type": "code",
      "metadata": {
        "colab": {
          "base_uri": "https://localhost:8080/",
          "height": 645
        },
        "id": "5tRCWBTAR3lb",
        "outputId": "58082584-bd8e-46a9-fd4c-701b38a81082"
      },
      "source": [
        "# prescriptions sold by year /month\n",
        "presc_sold_month = df_sales.groupby(['year_sold', 'month_sold']).apply(num_sold).reset_index()\n",
        "\n",
        "presc_sold_month['%'] = (presc_sold_month.prescriptions_sold / presc_sold_month.prescriptions_sold.sum()) * 100\n",
        "presc_sold_month"
      ],
      "execution_count": 40,
      "outputs": [
        {
          "output_type": "execute_result",
          "data": {
            "text/html": [
              "<div>\n",
              "<style scoped>\n",
              "    .dataframe tbody tr th:only-of-type {\n",
              "        vertical-align: middle;\n",
              "    }\n",
              "\n",
              "    .dataframe tbody tr th {\n",
              "        vertical-align: top;\n",
              "    }\n",
              "\n",
              "    .dataframe thead th {\n",
              "        text-align: right;\n",
              "    }\n",
              "</style>\n",
              "<table border=\"1\" class=\"dataframe\">\n",
              "  <thead>\n",
              "    <tr style=\"text-align: right;\">\n",
              "      <th></th>\n",
              "      <th>year_sold</th>\n",
              "      <th>month_sold</th>\n",
              "      <th>prescriptions_sold</th>\n",
              "      <th>%</th>\n",
              "    </tr>\n",
              "  </thead>\n",
              "  <tbody>\n",
              "    <tr>\n",
              "      <th>0</th>\n",
              "      <td>2020</td>\n",
              "      <td>3</td>\n",
              "      <td>7</td>\n",
              "      <td>0.024997</td>\n",
              "    </tr>\n",
              "    <tr>\n",
              "      <th>1</th>\n",
              "      <td>2020</td>\n",
              "      <td>4</td>\n",
              "      <td>50</td>\n",
              "      <td>0.178552</td>\n",
              "    </tr>\n",
              "    <tr>\n",
              "      <th>2</th>\n",
              "      <td>2020</td>\n",
              "      <td>5</td>\n",
              "      <td>118</td>\n",
              "      <td>0.421383</td>\n",
              "    </tr>\n",
              "    <tr>\n",
              "      <th>3</th>\n",
              "      <td>2020</td>\n",
              "      <td>6</td>\n",
              "      <td>195</td>\n",
              "      <td>0.696354</td>\n",
              "    </tr>\n",
              "    <tr>\n",
              "      <th>4</th>\n",
              "      <td>2020</td>\n",
              "      <td>7</td>\n",
              "      <td>321</td>\n",
              "      <td>1.146306</td>\n",
              "    </tr>\n",
              "    <tr>\n",
              "      <th>5</th>\n",
              "      <td>2020</td>\n",
              "      <td>8</td>\n",
              "      <td>558</td>\n",
              "      <td>1.992644</td>\n",
              "    </tr>\n",
              "    <tr>\n",
              "      <th>6</th>\n",
              "      <td>2020</td>\n",
              "      <td>9</td>\n",
              "      <td>885</td>\n",
              "      <td>3.160376</td>\n",
              "    </tr>\n",
              "    <tr>\n",
              "      <th>7</th>\n",
              "      <td>2020</td>\n",
              "      <td>10</td>\n",
              "      <td>876</td>\n",
              "      <td>3.128236</td>\n",
              "    </tr>\n",
              "    <tr>\n",
              "      <th>8</th>\n",
              "      <td>2020</td>\n",
              "      <td>11</td>\n",
              "      <td>873</td>\n",
              "      <td>3.117523</td>\n",
              "    </tr>\n",
              "    <tr>\n",
              "      <th>9</th>\n",
              "      <td>2020</td>\n",
              "      <td>12</td>\n",
              "      <td>1096</td>\n",
              "      <td>3.913866</td>\n",
              "    </tr>\n",
              "    <tr>\n",
              "      <th>10</th>\n",
              "      <td>2021</td>\n",
              "      <td>1</td>\n",
              "      <td>1419</td>\n",
              "      <td>5.067314</td>\n",
              "    </tr>\n",
              "    <tr>\n",
              "      <th>11</th>\n",
              "      <td>2021</td>\n",
              "      <td>2</td>\n",
              "      <td>2024</td>\n",
              "      <td>7.227797</td>\n",
              "    </tr>\n",
              "    <tr>\n",
              "      <th>12</th>\n",
              "      <td>2021</td>\n",
              "      <td>3</td>\n",
              "      <td>2418</td>\n",
              "      <td>8.634789</td>\n",
              "    </tr>\n",
              "    <tr>\n",
              "      <th>13</th>\n",
              "      <td>2021</td>\n",
              "      <td>4</td>\n",
              "      <td>2365</td>\n",
              "      <td>8.445524</td>\n",
              "    </tr>\n",
              "    <tr>\n",
              "      <th>14</th>\n",
              "      <td>2021</td>\n",
              "      <td>5</td>\n",
              "      <td>2349</td>\n",
              "      <td>8.388387</td>\n",
              "    </tr>\n",
              "    <tr>\n",
              "      <th>15</th>\n",
              "      <td>2021</td>\n",
              "      <td>6</td>\n",
              "      <td>2732</td>\n",
              "      <td>9.756098</td>\n",
              "    </tr>\n",
              "    <tr>\n",
              "      <th>16</th>\n",
              "      <td>2021</td>\n",
              "      <td>7</td>\n",
              "      <td>3073</td>\n",
              "      <td>10.973824</td>\n",
              "    </tr>\n",
              "    <tr>\n",
              "      <th>17</th>\n",
              "      <td>2021</td>\n",
              "      <td>8</td>\n",
              "      <td>3100</td>\n",
              "      <td>11.070242</td>\n",
              "    </tr>\n",
              "    <tr>\n",
              "      <th>18</th>\n",
              "      <td>2021</td>\n",
              "      <td>9</td>\n",
              "      <td>3544</td>\n",
              "      <td>12.655787</td>\n",
              "    </tr>\n",
              "  </tbody>\n",
              "</table>\n",
              "</div>"
            ],
            "text/plain": [
              "    year_sold  month_sold  prescriptions_sold          %\n",
              "0        2020           3                   7   0.024997\n",
              "1        2020           4                  50   0.178552\n",
              "2        2020           5                 118   0.421383\n",
              "3        2020           6                 195   0.696354\n",
              "4        2020           7                 321   1.146306\n",
              "5        2020           8                 558   1.992644\n",
              "6        2020           9                 885   3.160376\n",
              "7        2020          10                 876   3.128236\n",
              "8        2020          11                 873   3.117523\n",
              "9        2020          12                1096   3.913866\n",
              "10       2021           1                1419   5.067314\n",
              "11       2021           2                2024   7.227797\n",
              "12       2021           3                2418   8.634789\n",
              "13       2021           4                2365   8.445524\n",
              "14       2021           5                2349   8.388387\n",
              "15       2021           6                2732   9.756098\n",
              "16       2021           7                3073  10.973824\n",
              "17       2021           8                3100  11.070242\n",
              "18       2021           9                3544  12.655787"
            ]
          },
          "metadata": {},
          "execution_count": 40
        }
      ]
    },
    {
      "cell_type": "code",
      "metadata": {
        "colab": {
          "base_uri": "https://localhost:8080/",
          "height": 411
        },
        "id": "S9CYJooYS92F",
        "outputId": "f500c760-c2af-4459-fb52-c5e7513f664b"
      },
      "source": [
        "# lineplot of prescriptions sold by year / month\n",
        "\n",
        "f, ax = plt.subplots(figsize=(12, 6))\n",
        "\n",
        "sns.lineplot(x=presc_sold_month.month_sold, y=presc_sold_month.prescriptions_sold,\\\n",
        "             hue=presc_sold_month.year_sold, palette=['olive', 'orchid'])\n",
        "\n",
        "ax.set_xticks([1,2,3,4,5,6,7,8,9,10,11,12])\n",
        "ax.set_xticklabels(['Ene', 'Feb', 'Mar', 'Abr', 'May', 'Jun', 'Jul', 'Ago', 'Sep', 'Oct', 'Nov', 'Dic'])\n",
        "\n",
        "plt.title('Number of FMs Prescriptions Sold - March 2020 to Sept 2021', pad=12)\n",
        "plt.legend()\n",
        "plt.show()"
      ],
      "execution_count": 41,
      "outputs": [
        {
          "output_type": "display_data",
          "data": {
            "image/png": "[encoded data removed]",
            "text/plain": [
              "<Figure size 864x432 with 1 Axes>"
            ]
          },
          "metadata": {
            "needs_background": "light"
          }
        }
      ]
    },
    {
      "cell_type": "markdown",
      "metadata": {
        "id": "ITqkny1gVPvn"
      },
      "source": [
        "![purple-divider](https://user-images.githubusercontent.com/7065401/52071927-c1cd7100-2562-11e9-908a-dde91ba14e59.png)"
      ]
    },
    {
      "cell_type": "markdown",
      "metadata": {
        "id": "v1PdMIBrVXz8"
      },
      "source": [
        "## DFs Merging"
      ]
    },
    {
      "cell_type": "code",
      "metadata": {
        "colab": {
          "base_uri": "https://localhost:8080/"
        },
        "id": "mGCkxJiCVZYY",
        "outputId": "f64d4dd8-8e04-44ec-f591-7ede12ae96ee"
      },
      "source": [
        " # check size of df_procedures\n",
        " df_procedures.shape"
      ],
      "execution_count": 42,
      "outputs": [
        {
          "output_type": "execute_result",
          "data": {
            "text/plain": [
              "(35141, 22)"
            ]
          },
          "metadata": {},
          "execution_count": 42
        }
      ]
    },
    {
      "cell_type": "code",
      "metadata": {
        "colab": {
          "base_uri": "https://localhost:8080/",
          "height": 452
        },
        "id": "s1AN5ec-a2nz",
        "outputId": "e7b74e10-f64c-4969-c098-f692925eed1a"
      },
      "source": [
        "# left join of df_procedures and df_sales on ingreso\n",
        "df_merged = df_procedures.merge(df_sales, on='Ingreso', how='left')\n",
        "\n",
        "df_merged.tail()"
      ],
      "execution_count": 43,
      "outputs": [
        {
          "output_type": "execute_result",
          "data": {
            "text/html": [
              "<div>\n",
              "<style scoped>\n",
              "    .dataframe tbody tr th:only-of-type {\n",
              "        vertical-align: middle;\n",
              "    }\n",
              "\n",
              "    .dataframe tbody tr th {\n",
              "        vertical-align: top;\n",
              "    }\n",
              "\n",
              "    .dataframe thead th {\n",
              "        text-align: right;\n",
              "    }\n",
              "</style>\n",
              "<table border=\"1\" class=\"dataframe\">\n",
              "  <thead>\n",
              "    <tr style=\"text-align: right;\">\n",
              "      <th></th>\n",
              "      <th>Ingreso</th>\n",
              "      <th>DocPaciente</th>\n",
              "      <th>Fecha Nacimiento</th>\n",
              "      <th>Edad</th>\n",
              "      <th>Sexo</th>\n",
              "      <th>CiudadMunicipio</th>\n",
              "      <th>Diagnostico</th>\n",
              "      <th>CodigoDiagnostico</th>\n",
              "      <th>Plan</th>\n",
              "      <th>Tipo Plan</th>\n",
              "      <th>FechaIngreso</th>\n",
              "      <th>FechaFormulacion</th>\n",
              "      <th>CodProducto</th>\n",
              "      <th>Cantidad</th>\n",
              "      <th>DocMedico</th>\n",
              "      <th>NombreMedico</th>\n",
              "      <th>Especialidad</th>\n",
              "      <th>Plan/Servicio</th>\n",
              "      <th>Sede</th>\n",
              "      <th>Month</th>\n",
              "      <th>Year</th>\n",
              "      <th>age_group</th>\n",
              "      <th>cedula</th>\n",
              "      <th>fecha_oc</th>\n",
              "      <th>month_sold</th>\n",
              "      <th>year_sold</th>\n",
              "    </tr>\n",
              "  </thead>\n",
              "  <tbody>\n",
              "    <tr>\n",
              "      <th>35136</th>\n",
              "      <td>225510</td>\n",
              "      <td>41726681</td>\n",
              "      <td>24/06/1948</td>\n",
              "      <td>73</td>\n",
              "      <td>F</td>\n",
              "      <td>BOGOTÁ D.C.</td>\n",
              "      <td>DOLOR CRONICO INTRATABLE</td>\n",
              "      <td>R521</td>\n",
              "      <td>FAMISANAR EPS - SUBSIDIADO</td>\n",
              "      <td>EPS</td>\n",
              "      <td>2021-09-29</td>\n",
              "      <td>2021-09-29</td>\n",
              "      <td>fm001</td>\n",
              "      <td>1</td>\n",
              "      <td>19062502</td>\n",
              "      <td>JORGE  PATIÑO</td>\n",
              "      <td>Algesiólogo</td>\n",
              "      <td>Consulta Dolor y Cuidados Paliativos</td>\n",
              "      <td>ZERENIA</td>\n",
              "      <td>9</td>\n",
              "      <td>2021</td>\n",
              "      <td>(51.0, 76.0]</td>\n",
              "      <td>NaN</td>\n",
              "      <td>NaT</td>\n",
              "      <td>NaN</td>\n",
              "      <td>NaN</td>\n",
              "    </tr>\n",
              "    <tr>\n",
              "      <th>35137</th>\n",
              "      <td>225514</td>\n",
              "      <td>51866868</td>\n",
              "      <td>15/12/1966</td>\n",
              "      <td>55</td>\n",
              "      <td>F</td>\n",
              "      <td>BOGOTÁ D.C.</td>\n",
              "      <td>DOLOR CRONICO INTRATABLE</td>\n",
              "      <td>R521</td>\n",
              "      <td>FAMISANAR EPS - CONTRIBUTIVO</td>\n",
              "      <td>EPS</td>\n",
              "      <td>2021-09-29</td>\n",
              "      <td>2021-09-29</td>\n",
              "      <td>fm001</td>\n",
              "      <td>1</td>\n",
              "      <td>19062502</td>\n",
              "      <td>JORGE  PATIÑO</td>\n",
              "      <td>Algesiólogo</td>\n",
              "      <td>Consulta Dolor y Cuidados Paliativos</td>\n",
              "      <td>ZERENIA</td>\n",
              "      <td>9</td>\n",
              "      <td>2021</td>\n",
              "      <td>(51.0, 76.0]</td>\n",
              "      <td>NaN</td>\n",
              "      <td>NaT</td>\n",
              "      <td>NaN</td>\n",
              "      <td>NaN</td>\n",
              "    </tr>\n",
              "    <tr>\n",
              "      <th>35138</th>\n",
              "      <td>225515</td>\n",
              "      <td>51811731</td>\n",
              "      <td>22/01/1966</td>\n",
              "      <td>55</td>\n",
              "      <td>F</td>\n",
              "      <td>BOGOTÁ D.C.</td>\n",
              "      <td>OTRO DOLOR CRONICO</td>\n",
              "      <td>R522</td>\n",
              "      <td>FAMISANAR EPS - SUBSIDIADO</td>\n",
              "      <td>EPS</td>\n",
              "      <td>2021-09-29</td>\n",
              "      <td>2021-09-29</td>\n",
              "      <td>fm003</td>\n",
              "      <td>1</td>\n",
              "      <td>19062502</td>\n",
              "      <td>JORGE  PATIÑO</td>\n",
              "      <td>Algesiólogo</td>\n",
              "      <td>Consulta Dolor y Cuidados Paliativos</td>\n",
              "      <td>ZERENIA</td>\n",
              "      <td>9</td>\n",
              "      <td>2021</td>\n",
              "      <td>(51.0, 76.0]</td>\n",
              "      <td>NaN</td>\n",
              "      <td>NaT</td>\n",
              "      <td>NaN</td>\n",
              "      <td>NaN</td>\n",
              "    </tr>\n",
              "    <tr>\n",
              "      <th>35139</th>\n",
              "      <td>225558</td>\n",
              "      <td>53063429</td>\n",
              "      <td>15/05/1984</td>\n",
              "      <td>37</td>\n",
              "      <td>F</td>\n",
              "      <td>MADRID</td>\n",
              "      <td>NaN</td>\n",
              "      <td>NaN</td>\n",
              "      <td>FAMISANAR EPS - SUBSIDIADO</td>\n",
              "      <td>EPS</td>\n",
              "      <td>2021-09-29</td>\n",
              "      <td>2021-09-29</td>\n",
              "      <td>fm001</td>\n",
              "      <td>4</td>\n",
              "      <td>55303292</td>\n",
              "      <td>MARIA ANGELICA SOLANO MANZANO</td>\n",
              "      <td>Medicina General</td>\n",
              "      <td>Consulta Dolor y Cuidados Paliativos</td>\n",
              "      <td>ZERENIA</td>\n",
              "      <td>9</td>\n",
              "      <td>2021</td>\n",
              "      <td>(26.0, 51.0]</td>\n",
              "      <td>NaN</td>\n",
              "      <td>NaT</td>\n",
              "      <td>NaN</td>\n",
              "      <td>NaN</td>\n",
              "    </tr>\n",
              "    <tr>\n",
              "      <th>35140</th>\n",
              "      <td>225559</td>\n",
              "      <td>1070304763</td>\n",
              "      <td>19/06/1988</td>\n",
              "      <td>33</td>\n",
              "      <td>F</td>\n",
              "      <td>ZIPAQUIRÁ</td>\n",
              "      <td>NaN</td>\n",
              "      <td>NaN</td>\n",
              "      <td>FAMISANAR EPS - CONTRIBUTIVO</td>\n",
              "      <td>EPS</td>\n",
              "      <td>2021-09-29</td>\n",
              "      <td>2021-09-29</td>\n",
              "      <td>fm001</td>\n",
              "      <td>1</td>\n",
              "      <td>55303292</td>\n",
              "      <td>MARIA ANGELICA SOLANO MANZANO</td>\n",
              "      <td>Medicina General</td>\n",
              "      <td>Consulta Dolor y Cuidados Paliativos</td>\n",
              "      <td>ZERENIA</td>\n",
              "      <td>9</td>\n",
              "      <td>2021</td>\n",
              "      <td>(26.0, 51.0]</td>\n",
              "      <td>NaN</td>\n",
              "      <td>NaT</td>\n",
              "      <td>NaN</td>\n",
              "      <td>NaN</td>\n",
              "    </tr>\n",
              "  </tbody>\n",
              "</table>\n",
              "</div>"
            ],
            "text/plain": [
              "       Ingreso DocPaciente Fecha Nacimiento  ...  fecha_oc month_sold year_sold\n",
              "35136   225510    41726681       24/06/1948  ...       NaT        NaN       NaN\n",
              "35137   225514    51866868       15/12/1966  ...       NaT        NaN       NaN\n",
              "35138   225515    51811731       22/01/1966  ...       NaT        NaN       NaN\n",
              "35139   225558    53063429       15/05/1984  ...       NaT        NaN       NaN\n",
              "35140   225559  1070304763       19/06/1988  ...       NaT        NaN       NaN\n",
              "\n",
              "[5 rows x 26 columns]"
            ]
          },
          "metadata": {},
          "execution_count": 43
        }
      ]
    },
    {
      "cell_type": "code",
      "metadata": {
        "colab": {
          "base_uri": "https://localhost:8080/"
        },
        "id": "eDClmzSedyBX",
        "outputId": "6be15b9b-cf5d-4984-d2b2-d8c1a42faf0a"
      },
      "source": [
        "# check merge df size\n",
        "df_merged.shape"
      ],
      "execution_count": 44,
      "outputs": [
        {
          "output_type": "execute_result",
          "data": {
            "text/plain": [
              "(35141, 26)"
            ]
          },
          "metadata": {},
          "execution_count": 44
        }
      ]
    },
    {
      "cell_type": "markdown",
      "metadata": {
        "id": "jW--eOoAFWLR"
      },
      "source": [
        "![green-divider](https://user-images.githubusercontent.com/7065401/52071924-c003ad80-2562-11e9-8297-1c6595f8a7ff.png)"
      ]
    },
    {
      "cell_type": "markdown",
      "metadata": {
        "id": "MyF4zGxpFOVS"
      },
      "source": [
        "### Selection Features & label in DF"
      ]
    },
    {
      "cell_type": "code",
      "metadata": {
        "id": "CdTsU9US-2AE"
      },
      "source": [
        "# create column not_buyer >> if the column 'cedula' isna() >> True\n",
        "df_merged['not_buyer'] = df_merged.cedula.isna()\n",
        "\n",
        "# create column 'FM_buyer >> 1 if its not_buyer == False \n",
        "df_merged['FM_buyer'] = [1 if df_merged.iloc[index].not_buyer == False else 0 for index in df_merged.index]"
      ],
      "execution_count": 45,
      "outputs": []
    },
    {
      "cell_type": "code",
      "metadata": {
        "colab": {
          "base_uri": "https://localhost:8080/",
          "height": 320
        },
        "id": "XLjO-37EBe1S",
        "outputId": "df59f2dd-45aa-4eff-f322-594eaddd8d45"
      },
      "source": [
        "df_merged.tail(3)"
      ],
      "execution_count": 46,
      "outputs": [
        {
          "output_type": "execute_result",
          "data": {
            "text/html": [
              "<div>\n",
              "<style scoped>\n",
              "    .dataframe tbody tr th:only-of-type {\n",
              "        vertical-align: middle;\n",
              "    }\n",
              "\n",
              "    .dataframe tbody tr th {\n",
              "        vertical-align: top;\n",
              "    }\n",
              "\n",
              "    .dataframe thead th {\n",
              "        text-align: right;\n",
              "    }\n",
              "</style>\n",
              "<table border=\"1\" class=\"dataframe\">\n",
              "  <thead>\n",
              "    <tr style=\"text-align: right;\">\n",
              "      <th></th>\n",
              "      <th>Ingreso</th>\n",
              "      <th>DocPaciente</th>\n",
              "      <th>Fecha Nacimiento</th>\n",
              "      <th>Edad</th>\n",
              "      <th>Sexo</th>\n",
              "      <th>CiudadMunicipio</th>\n",
              "      <th>Diagnostico</th>\n",
              "      <th>CodigoDiagnostico</th>\n",
              "      <th>Plan</th>\n",
              "      <th>Tipo Plan</th>\n",
              "      <th>FechaIngreso</th>\n",
              "      <th>FechaFormulacion</th>\n",
              "      <th>CodProducto</th>\n",
              "      <th>Cantidad</th>\n",
              "      <th>DocMedico</th>\n",
              "      <th>NombreMedico</th>\n",
              "      <th>Especialidad</th>\n",
              "      <th>Plan/Servicio</th>\n",
              "      <th>Sede</th>\n",
              "      <th>Month</th>\n",
              "      <th>Year</th>\n",
              "      <th>age_group</th>\n",
              "      <th>cedula</th>\n",
              "      <th>fecha_oc</th>\n",
              "      <th>month_sold</th>\n",
              "      <th>year_sold</th>\n",
              "      <th>not_buyer</th>\n",
              "      <th>FM_buyer</th>\n",
              "    </tr>\n",
              "  </thead>\n",
              "  <tbody>\n",
              "    <tr>\n",
              "      <th>35138</th>\n",
              "      <td>225515</td>\n",
              "      <td>51811731</td>\n",
              "      <td>22/01/1966</td>\n",
              "      <td>55</td>\n",
              "      <td>F</td>\n",
              "      <td>BOGOTÁ D.C.</td>\n",
              "      <td>OTRO DOLOR CRONICO</td>\n",
              "      <td>R522</td>\n",
              "      <td>FAMISANAR EPS - SUBSIDIADO</td>\n",
              "      <td>EPS</td>\n",
              "      <td>2021-09-29</td>\n",
              "      <td>2021-09-29</td>\n",
              "      <td>fm003</td>\n",
              "      <td>1</td>\n",
              "      <td>19062502</td>\n",
              "      <td>JORGE  PATIÑO</td>\n",
              "      <td>Algesiólogo</td>\n",
              "      <td>Consulta Dolor y Cuidados Paliativos</td>\n",
              "      <td>ZERENIA</td>\n",
              "      <td>9</td>\n",
              "      <td>2021</td>\n",
              "      <td>(51.0, 76.0]</td>\n",
              "      <td>NaN</td>\n",
              "      <td>NaT</td>\n",
              "      <td>NaN</td>\n",
              "      <td>NaN</td>\n",
              "      <td>True</td>\n",
              "      <td>0</td>\n",
              "    </tr>\n",
              "    <tr>\n",
              "      <th>35139</th>\n",
              "      <td>225558</td>\n",
              "      <td>53063429</td>\n",
              "      <td>15/05/1984</td>\n",
              "      <td>37</td>\n",
              "      <td>F</td>\n",
              "      <td>MADRID</td>\n",
              "      <td>NaN</td>\n",
              "      <td>NaN</td>\n",
              "      <td>FAMISANAR EPS - SUBSIDIADO</td>\n",
              "      <td>EPS</td>\n",
              "      <td>2021-09-29</td>\n",
              "      <td>2021-09-29</td>\n",
              "      <td>fm001</td>\n",
              "      <td>4</td>\n",
              "      <td>55303292</td>\n",
              "      <td>MARIA ANGELICA SOLANO MANZANO</td>\n",
              "      <td>Medicina General</td>\n",
              "      <td>Consulta Dolor y Cuidados Paliativos</td>\n",
              "      <td>ZERENIA</td>\n",
              "      <td>9</td>\n",
              "      <td>2021</td>\n",
              "      <td>(26.0, 51.0]</td>\n",
              "      <td>NaN</td>\n",
              "      <td>NaT</td>\n",
              "      <td>NaN</td>\n",
              "      <td>NaN</td>\n",
              "      <td>True</td>\n",
              "      <td>0</td>\n",
              "    </tr>\n",
              "    <tr>\n",
              "      <th>35140</th>\n",
              "      <td>225559</td>\n",
              "      <td>1070304763</td>\n",
              "      <td>19/06/1988</td>\n",
              "      <td>33</td>\n",
              "      <td>F</td>\n",
              "      <td>ZIPAQUIRÁ</td>\n",
              "      <td>NaN</td>\n",
              "      <td>NaN</td>\n",
              "      <td>FAMISANAR EPS - CONTRIBUTIVO</td>\n",
              "      <td>EPS</td>\n",
              "      <td>2021-09-29</td>\n",
              "      <td>2021-09-29</td>\n",
              "      <td>fm001</td>\n",
              "      <td>1</td>\n",
              "      <td>55303292</td>\n",
              "      <td>MARIA ANGELICA SOLANO MANZANO</td>\n",
              "      <td>Medicina General</td>\n",
              "      <td>Consulta Dolor y Cuidados Paliativos</td>\n",
              "      <td>ZERENIA</td>\n",
              "      <td>9</td>\n",
              "      <td>2021</td>\n",
              "      <td>(26.0, 51.0]</td>\n",
              "      <td>NaN</td>\n",
              "      <td>NaT</td>\n",
              "      <td>NaN</td>\n",
              "      <td>NaN</td>\n",
              "      <td>True</td>\n",
              "      <td>0</td>\n",
              "    </tr>\n",
              "  </tbody>\n",
              "</table>\n",
              "</div>"
            ],
            "text/plain": [
              "       Ingreso DocPaciente Fecha Nacimiento  ...  year_sold not_buyer FM_buyer\n",
              "35138   225515    51811731       22/01/1966  ...        NaN      True        0\n",
              "35139   225558    53063429       15/05/1984  ...        NaN      True        0\n",
              "35140   225559  1070304763       19/06/1988  ...        NaN      True        0\n",
              "\n",
              "[3 rows x 28 columns]"
            ]
          },
          "metadata": {},
          "execution_count": 46
        }
      ]
    },
    {
      "cell_type": "code",
      "metadata": {
        "colab": {
          "base_uri": "https://localhost:8080/",
          "height": 348
        },
        "id": "iHwkXjrnCUsx",
        "outputId": "2e243e5c-b62b-4b65-a293-7b8fc3d3a881"
      },
      "source": [
        "# selection of relevant features & label on new df\n",
        "df_proced_sales = df_merged[['Ingreso', 'DocPaciente', 'age_group', 'Sexo', 'CiudadMunicipio', 'Diagnostico',\\\n",
        "                             'Tipo Plan', 'FechaFormulacion', 'CodProducto', 'Cantidad', 'Plan/Servicio', 'Sede',\\\n",
        "                             'Month', 'Year', 'month_sold', 'year_sold', 'FM_buyer']]\n",
        "\n",
        "df_proced_sales.head()"
      ],
      "execution_count": 47,
      "outputs": [
        {
          "output_type": "execute_result",
          "data": {
            "text/html": [
              "<div>\n",
              "<style scoped>\n",
              "    .dataframe tbody tr th:only-of-type {\n",
              "        vertical-align: middle;\n",
              "    }\n",
              "\n",
              "    .dataframe tbody tr th {\n",
              "        vertical-align: top;\n",
              "    }\n",
              "\n",
              "    .dataframe thead th {\n",
              "        text-align: right;\n",
              "    }\n",
              "</style>\n",
              "<table border=\"1\" class=\"dataframe\">\n",
              "  <thead>\n",
              "    <tr style=\"text-align: right;\">\n",
              "      <th></th>\n",
              "      <th>Ingreso</th>\n",
              "      <th>DocPaciente</th>\n",
              "      <th>age_group</th>\n",
              "      <th>Sexo</th>\n",
              "      <th>CiudadMunicipio</th>\n",
              "      <th>Diagnostico</th>\n",
              "      <th>Tipo Plan</th>\n",
              "      <th>FechaFormulacion</th>\n",
              "      <th>CodProducto</th>\n",
              "      <th>Cantidad</th>\n",
              "      <th>Plan/Servicio</th>\n",
              "      <th>Sede</th>\n",
              "      <th>Month</th>\n",
              "      <th>Year</th>\n",
              "      <th>month_sold</th>\n",
              "      <th>year_sold</th>\n",
              "      <th>FM_buyer</th>\n",
              "    </tr>\n",
              "  </thead>\n",
              "  <tbody>\n",
              "    <tr>\n",
              "      <th>0</th>\n",
              "      <td>26720</td>\n",
              "      <td>41453437</td>\n",
              "      <td>(51.0, 76.0]</td>\n",
              "      <td>F</td>\n",
              "      <td>BOGOTÁ D.C.</td>\n",
              "      <td>(OSTEO)ARTROSIS PRIMARIAGENERALIZADA</td>\n",
              "      <td>Particular</td>\n",
              "      <td>2020-03-19</td>\n",
              "      <td>fm001</td>\n",
              "      <td>1</td>\n",
              "      <td>Consulta Dolor y Cuidados Paliativos</td>\n",
              "      <td>ZERENIA</td>\n",
              "      <td>3</td>\n",
              "      <td>2020</td>\n",
              "      <td>3.0</td>\n",
              "      <td>2020.0</td>\n",
              "      <td>1</td>\n",
              "    </tr>\n",
              "    <tr>\n",
              "      <th>1</th>\n",
              "      <td>26793</td>\n",
              "      <td>13352962</td>\n",
              "      <td>(51.0, 76.0]</td>\n",
              "      <td>M</td>\n",
              "      <td>BOGOTÁ D.C.</td>\n",
              "      <td>TRASTORNO DE DISCO LUMBAR YOTROS, CON RADICULO...</td>\n",
              "      <td>Particular</td>\n",
              "      <td>2020-03-19</td>\n",
              "      <td>fm001</td>\n",
              "      <td>1</td>\n",
              "      <td>Consulta Dolor y Cuidados Paliativos</td>\n",
              "      <td>ZERENIA</td>\n",
              "      <td>3</td>\n",
              "      <td>2020</td>\n",
              "      <td>3.0</td>\n",
              "      <td>2020.0</td>\n",
              "      <td>1</td>\n",
              "    </tr>\n",
              "    <tr>\n",
              "      <th>2</th>\n",
              "      <td>26806</td>\n",
              "      <td>390646</td>\n",
              "      <td>(76.0, 101.0]</td>\n",
              "      <td>M</td>\n",
              "      <td>BOGOTÁ D.C.</td>\n",
              "      <td>NEURALGIA POSTHERPES ZOSTER(B02.2†)</td>\n",
              "      <td>Particular</td>\n",
              "      <td>2020-03-19</td>\n",
              "      <td>fm001</td>\n",
              "      <td>1</td>\n",
              "      <td>Consulta Dolor y Cuidados Paliativos</td>\n",
              "      <td>ZERENIA</td>\n",
              "      <td>3</td>\n",
              "      <td>2020</td>\n",
              "      <td>3.0</td>\n",
              "      <td>2020.0</td>\n",
              "      <td>1</td>\n",
              "    </tr>\n",
              "    <tr>\n",
              "      <th>3</th>\n",
              "      <td>26928</td>\n",
              "      <td>19059029</td>\n",
              "      <td>(51.0, 76.0]</td>\n",
              "      <td>M</td>\n",
              "      <td>BOGOTÁ D.C.</td>\n",
              "      <td>NaN</td>\n",
              "      <td>Particular</td>\n",
              "      <td>2020-03-19</td>\n",
              "      <td>fm001</td>\n",
              "      <td>1</td>\n",
              "      <td>Neurologia</td>\n",
              "      <td>ZERENIA</td>\n",
              "      <td>3</td>\n",
              "      <td>2020</td>\n",
              "      <td>3.0</td>\n",
              "      <td>2020.0</td>\n",
              "      <td>1</td>\n",
              "    </tr>\n",
              "    <tr>\n",
              "      <th>4</th>\n",
              "      <td>26846</td>\n",
              "      <td>41595666</td>\n",
              "      <td>(51.0, 76.0]</td>\n",
              "      <td>F</td>\n",
              "      <td>CAJICÁ</td>\n",
              "      <td>NaN</td>\n",
              "      <td>Particular</td>\n",
              "      <td>2020-03-19</td>\n",
              "      <td>fm001</td>\n",
              "      <td>1</td>\n",
              "      <td>Neurologia</td>\n",
              "      <td>ZERENIA</td>\n",
              "      <td>3</td>\n",
              "      <td>2020</td>\n",
              "      <td>3.0</td>\n",
              "      <td>2020.0</td>\n",
              "      <td>1</td>\n",
              "    </tr>\n",
              "  </tbody>\n",
              "</table>\n",
              "</div>"
            ],
            "text/plain": [
              "   Ingreso DocPaciente      age_group  ... month_sold year_sold FM_buyer\n",
              "0    26720    41453437   (51.0, 76.0]  ...        3.0    2020.0        1\n",
              "1    26793    13352962   (51.0, 76.0]  ...        3.0    2020.0        1\n",
              "2    26806      390646  (76.0, 101.0]  ...        3.0    2020.0        1\n",
              "3    26928    19059029   (51.0, 76.0]  ...        3.0    2020.0        1\n",
              "4    26846    41595666   (51.0, 76.0]  ...        3.0    2020.0        1\n",
              "\n",
              "[5 rows x 17 columns]"
            ]
          },
          "metadata": {},
          "execution_count": 47
        }
      ]
    },
    {
      "cell_type": "markdown",
      "metadata": {
        "id": "4zkIyCWNFeH4"
      },
      "source": [
        "![green-divider](https://user-images.githubusercontent.com/7065401/52071924-c003ad80-2562-11e9-8297-1c6595f8a7ff.png)"
      ]
    },
    {
      "cell_type": "markdown",
      "metadata": {
        "id": "z6nIar_SFhK1"
      },
      "source": [
        "### Features Comparison Between Buyers & Not Buyers"
      ]
    },
    {
      "cell_type": "markdown",
      "metadata": {
        "id": "RZwZYe3MKUMi"
      },
      "source": [
        "#### FMs Bought by Sex"
      ]
    },
    {
      "cell_type": "code",
      "metadata": {
        "colab": {
          "base_uri": "https://localhost:8080/",
          "height": 175
        },
        "id": "spgJPq8fFnXW",
        "outputId": "abed5214-4a06-423d-9f25-1a3b742e8aa6"
      },
      "source": [
        "# groupby FM_buyer and sexo\n",
        "fm_sex = df_proced_sales.groupby(['FM_buyer', 'Sexo']).Cantidad.sum().reset_index()\n",
        "\n",
        "fm_sex"
      ],
      "execution_count": 48,
      "outputs": [
        {
          "output_type": "execute_result",
          "data": {
            "text/html": [
              "<div>\n",
              "<style scoped>\n",
              "    .dataframe tbody tr th:only-of-type {\n",
              "        vertical-align: middle;\n",
              "    }\n",
              "\n",
              "    .dataframe tbody tr th {\n",
              "        vertical-align: top;\n",
              "    }\n",
              "\n",
              "    .dataframe thead th {\n",
              "        text-align: right;\n",
              "    }\n",
              "</style>\n",
              "<table border=\"1\" class=\"dataframe\">\n",
              "  <thead>\n",
              "    <tr style=\"text-align: right;\">\n",
              "      <th></th>\n",
              "      <th>FM_buyer</th>\n",
              "      <th>Sexo</th>\n",
              "      <th>Cantidad</th>\n",
              "    </tr>\n",
              "  </thead>\n",
              "  <tbody>\n",
              "    <tr>\n",
              "      <th>0</th>\n",
              "      <td>0</td>\n",
              "      <td>F</td>\n",
              "      <td>6497</td>\n",
              "    </tr>\n",
              "    <tr>\n",
              "      <th>1</th>\n",
              "      <td>0</td>\n",
              "      <td>M</td>\n",
              "      <td>2730</td>\n",
              "    </tr>\n",
              "    <tr>\n",
              "      <th>2</th>\n",
              "      <td>1</td>\n",
              "      <td>F</td>\n",
              "      <td>27208</td>\n",
              "    </tr>\n",
              "    <tr>\n",
              "      <th>3</th>\n",
              "      <td>1</td>\n",
              "      <td>M</td>\n",
              "      <td>10979</td>\n",
              "    </tr>\n",
              "  </tbody>\n",
              "</table>\n",
              "</div>"
            ],
            "text/plain": [
              "   FM_buyer Sexo  Cantidad\n",
              "0         0    F      6497\n",
              "1         0    M      2730\n",
              "2         1    F     27208\n",
              "3         1    M     10979"
            ]
          },
          "metadata": {},
          "execution_count": 48
        }
      ]
    },
    {
      "cell_type": "code",
      "metadata": {
        "colab": {
          "base_uri": "https://localhost:8080/",
          "height": 112
        },
        "id": "7dhHWJTtH0cn",
        "outputId": "6a2d04c0-46ae-4ab8-8646-39fe716939e0"
      },
      "source": [
        "# pivot table >> columns, index=rows, values\n",
        "fm_sex = fm_sex.pivot(\n",
        "    columns='FM_buyer',\n",
        "    index='Sexo',\n",
        "    values='Cantidad').reset_index()\n",
        "\n",
        "# change column names\n",
        "fm_sex.columns = ['sex', 'FMs_non_bought', 'FMs_bought']\n",
        "\n",
        "fm_sex"
      ],
      "execution_count": 49,
      "outputs": [
        {
          "output_type": "execute_result",
          "data": {
            "text/html": [
              "<div>\n",
              "<style scoped>\n",
              "    .dataframe tbody tr th:only-of-type {\n",
              "        vertical-align: middle;\n",
              "    }\n",
              "\n",
              "    .dataframe tbody tr th {\n",
              "        vertical-align: top;\n",
              "    }\n",
              "\n",
              "    .dataframe thead th {\n",
              "        text-align: right;\n",
              "    }\n",
              "</style>\n",
              "<table border=\"1\" class=\"dataframe\">\n",
              "  <thead>\n",
              "    <tr style=\"text-align: right;\">\n",
              "      <th></th>\n",
              "      <th>sex</th>\n",
              "      <th>FMs_non_bought</th>\n",
              "      <th>FMs_bought</th>\n",
              "    </tr>\n",
              "  </thead>\n",
              "  <tbody>\n",
              "    <tr>\n",
              "      <th>0</th>\n",
              "      <td>F</td>\n",
              "      <td>6497</td>\n",
              "      <td>27208</td>\n",
              "    </tr>\n",
              "    <tr>\n",
              "      <th>1</th>\n",
              "      <td>M</td>\n",
              "      <td>2730</td>\n",
              "      <td>10979</td>\n",
              "    </tr>\n",
              "  </tbody>\n",
              "</table>\n",
              "</div>"
            ],
            "text/plain": [
              "  sex  FMs_non_bought  FMs_bought\n",
              "0   F            6497       27208\n",
              "1   M            2730       10979"
            ]
          },
          "metadata": {},
          "execution_count": 49
        }
      ]
    },
    {
      "cell_type": "code",
      "metadata": {
        "colab": {
          "base_uri": "https://localhost:8080/",
          "height": 112
        },
        "id": "AuaEbdA5JDpN",
        "outputId": "abe8e22d-e6c2-402d-865c-a699bd8c18f9"
      },
      "source": [
        "# total number of prescriptions\n",
        "fm_sex['FMs_prescribed'] = fm_sex.FMs_bought + fm_sex.FMs_non_bought\n",
        "\n",
        "# % of quantity of FMs prescribed bought\n",
        "fm_sex['%_purchase'] = (fm_sex.FMs_bought / fm_sex.FMs_prescribed) * 100\n",
        "\n",
        "# sort values\n",
        "fm_sex = fm_sex.sort_values('%_purchase', ascending=False)\n",
        "fm_sex"
      ],
      "execution_count": 50,
      "outputs": [
        {
          "output_type": "execute_result",
          "data": {
            "text/html": [
              "<div>\n",
              "<style scoped>\n",
              "    .dataframe tbody tr th:only-of-type {\n",
              "        vertical-align: middle;\n",
              "    }\n",
              "\n",
              "    .dataframe tbody tr th {\n",
              "        vertical-align: top;\n",
              "    }\n",
              "\n",
              "    .dataframe thead th {\n",
              "        text-align: right;\n",
              "    }\n",
              "</style>\n",
              "<table border=\"1\" class=\"dataframe\">\n",
              "  <thead>\n",
              "    <tr style=\"text-align: right;\">\n",
              "      <th></th>\n",
              "      <th>sex</th>\n",
              "      <th>FMs_non_bought</th>\n",
              "      <th>FMs_bought</th>\n",
              "      <th>FMs_prescribed</th>\n",
              "      <th>%_purchase</th>\n",
              "    </tr>\n",
              "  </thead>\n",
              "  <tbody>\n",
              "    <tr>\n",
              "      <th>0</th>\n",
              "      <td>F</td>\n",
              "      <td>6497</td>\n",
              "      <td>27208</td>\n",
              "      <td>33705</td>\n",
              "      <td>80.723928</td>\n",
              "    </tr>\n",
              "    <tr>\n",
              "      <th>1</th>\n",
              "      <td>M</td>\n",
              "      <td>2730</td>\n",
              "      <td>10979</td>\n",
              "      <td>13709</td>\n",
              "      <td>80.086075</td>\n",
              "    </tr>\n",
              "  </tbody>\n",
              "</table>\n",
              "</div>"
            ],
            "text/plain": [
              "  sex  FMs_non_bought  FMs_bought  FMs_prescribed  %_purchase\n",
              "0   F            6497       27208           33705   80.723928\n",
              "1   M            2730       10979           13709   80.086075"
            ]
          },
          "metadata": {},
          "execution_count": 50
        }
      ]
    },
    {
      "cell_type": "markdown",
      "metadata": {
        "id": "PKwpmN5sdFUp"
      },
      "source": [
        "Even though females have bought 16,229 FMs more than males during the period \n",
        "of March 2020 to September 2021, their purchase rate by gender is both in 80%"
      ]
    },
    {
      "cell_type": "markdown",
      "metadata": {
        "id": "eBi8_4MeKYNm"
      },
      "source": [
        "![green-divider](https://user-images.githubusercontent.com/7065401/52071924-c003ad80-2562-11e9-8297-1c6595f8a7ff.png)"
      ]
    },
    {
      "cell_type": "markdown",
      "metadata": {
        "id": "HwrLzGMdd5S2"
      },
      "source": [
        "#### FMs bougth by Age Group"
      ]
    },
    {
      "cell_type": "code",
      "metadata": {
        "colab": {
          "base_uri": "https://localhost:8080/",
          "height": 300
        },
        "id": "B__857qjd9bX",
        "outputId": "036a6512-d6a1-48ee-c605-1ede10d4587c"
      },
      "source": [
        "# groupby FM_buyer and age_group\n",
        "fm_age = df_proced_sales.groupby(['FM_buyer', 'age_group']).Cantidad.sum().reset_index()\n",
        "\n",
        "fm_age"
      ],
      "execution_count": 51,
      "outputs": [
        {
          "output_type": "execute_result",
          "data": {
            "text/html": [
              "<div>\n",
              "<style scoped>\n",
              "    .dataframe tbody tr th:only-of-type {\n",
              "        vertical-align: middle;\n",
              "    }\n",
              "\n",
              "    .dataframe tbody tr th {\n",
              "        vertical-align: top;\n",
              "    }\n",
              "\n",
              "    .dataframe thead th {\n",
              "        text-align: right;\n",
              "    }\n",
              "</style>\n",
              "<table border=\"1\" class=\"dataframe\">\n",
              "  <thead>\n",
              "    <tr style=\"text-align: right;\">\n",
              "      <th></th>\n",
              "      <th>FM_buyer</th>\n",
              "      <th>age_group</th>\n",
              "      <th>Cantidad</th>\n",
              "    </tr>\n",
              "  </thead>\n",
              "  <tbody>\n",
              "    <tr>\n",
              "      <th>0</th>\n",
              "      <td>0</td>\n",
              "      <td>(0.9, 26.0]</td>\n",
              "      <td>342</td>\n",
              "    </tr>\n",
              "    <tr>\n",
              "      <th>1</th>\n",
              "      <td>0</td>\n",
              "      <td>(26.0, 51.0]</td>\n",
              "      <td>3734</td>\n",
              "    </tr>\n",
              "    <tr>\n",
              "      <th>2</th>\n",
              "      <td>0</td>\n",
              "      <td>(51.0, 76.0]</td>\n",
              "      <td>4341</td>\n",
              "    </tr>\n",
              "    <tr>\n",
              "      <th>3</th>\n",
              "      <td>0</td>\n",
              "      <td>(76.0, 101.0]</td>\n",
              "      <td>810</td>\n",
              "    </tr>\n",
              "    <tr>\n",
              "      <th>4</th>\n",
              "      <td>1</td>\n",
              "      <td>(0.9, 26.0]</td>\n",
              "      <td>974</td>\n",
              "    </tr>\n",
              "    <tr>\n",
              "      <th>5</th>\n",
              "      <td>1</td>\n",
              "      <td>(26.0, 51.0]</td>\n",
              "      <td>11786</td>\n",
              "    </tr>\n",
              "    <tr>\n",
              "      <th>6</th>\n",
              "      <td>1</td>\n",
              "      <td>(51.0, 76.0]</td>\n",
              "      <td>20554</td>\n",
              "    </tr>\n",
              "    <tr>\n",
              "      <th>7</th>\n",
              "      <td>1</td>\n",
              "      <td>(76.0, 101.0]</td>\n",
              "      <td>4873</td>\n",
              "    </tr>\n",
              "  </tbody>\n",
              "</table>\n",
              "</div>"
            ],
            "text/plain": [
              "   FM_buyer      age_group  Cantidad\n",
              "0         0    (0.9, 26.0]       342\n",
              "1         0   (26.0, 51.0]      3734\n",
              "2         0   (51.0, 76.0]      4341\n",
              "3         0  (76.0, 101.0]       810\n",
              "4         1    (0.9, 26.0]       974\n",
              "5         1   (26.0, 51.0]     11786\n",
              "6         1   (51.0, 76.0]     20554\n",
              "7         1  (76.0, 101.0]      4873"
            ]
          },
          "metadata": {},
          "execution_count": 51
        }
      ]
    },
    {
      "cell_type": "code",
      "metadata": {
        "colab": {
          "base_uri": "https://localhost:8080/",
          "height": 175
        },
        "id": "yM_VbbO9ejNi",
        "outputId": "9079c276-d19a-4ec3-b2a4-e7150258317f"
      },
      "source": [
        "# pivot table \n",
        "fm_age = fm_age.pivot(\n",
        "    columns='FM_buyer',\n",
        "    index='age_group',\n",
        "    values='Cantidad').reset_index()\n",
        "\n",
        "# set column names\n",
        "fm_age.columns = ['age_group', 'FMs_non_bought', 'FMs_bought']\n",
        "\n",
        "fm_age"
      ],
      "execution_count": 52,
      "outputs": [
        {
          "output_type": "execute_result",
          "data": {
            "text/html": [
              "<div>\n",
              "<style scoped>\n",
              "    .dataframe tbody tr th:only-of-type {\n",
              "        vertical-align: middle;\n",
              "    }\n",
              "\n",
              "    .dataframe tbody tr th {\n",
              "        vertical-align: top;\n",
              "    }\n",
              "\n",
              "    .dataframe thead th {\n",
              "        text-align: right;\n",
              "    }\n",
              "</style>\n",
              "<table border=\"1\" class=\"dataframe\">\n",
              "  <thead>\n",
              "    <tr style=\"text-align: right;\">\n",
              "      <th></th>\n",
              "      <th>age_group</th>\n",
              "      <th>FMs_non_bought</th>\n",
              "      <th>FMs_bought</th>\n",
              "    </tr>\n",
              "  </thead>\n",
              "  <tbody>\n",
              "    <tr>\n",
              "      <th>0</th>\n",
              "      <td>(0.9, 26.0]</td>\n",
              "      <td>342</td>\n",
              "      <td>974</td>\n",
              "    </tr>\n",
              "    <tr>\n",
              "      <th>1</th>\n",
              "      <td>(26.0, 51.0]</td>\n",
              "      <td>3734</td>\n",
              "      <td>11786</td>\n",
              "    </tr>\n",
              "    <tr>\n",
              "      <th>2</th>\n",
              "      <td>(51.0, 76.0]</td>\n",
              "      <td>4341</td>\n",
              "      <td>20554</td>\n",
              "    </tr>\n",
              "    <tr>\n",
              "      <th>3</th>\n",
              "      <td>(76.0, 101.0]</td>\n",
              "      <td>810</td>\n",
              "      <td>4873</td>\n",
              "    </tr>\n",
              "  </tbody>\n",
              "</table>\n",
              "</div>"
            ],
            "text/plain": [
              "       age_group  FMs_non_bought  FMs_bought\n",
              "0    (0.9, 26.0]             342         974\n",
              "1   (26.0, 51.0]            3734       11786\n",
              "2   (51.0, 76.0]            4341       20554\n",
              "3  (76.0, 101.0]             810        4873"
            ]
          },
          "metadata": {},
          "execution_count": 52
        }
      ]
    },
    {
      "cell_type": "code",
      "metadata": {
        "colab": {
          "base_uri": "https://localhost:8080/",
          "height": 175
        },
        "id": "ZdsCCS-xfTwW",
        "outputId": "3e5a4294-307e-4935-ee9e-cea600fd6f55"
      },
      "source": [
        "# create column FMs_prescribed\n",
        "fm_age['FMs_prescribed'] = fm_age.FMs_non_bought + fm_age.FMs_bought\n",
        "\n",
        "# create column %_purchase\n",
        "fm_age['%_purchase'] = (fm_age.FMs_bought / fm_age.FMs_prescribed) * 100\n",
        "\n",
        "# sort values\n",
        "fm_age = fm_age.sort_values('%_purchase', ascending=False)\n",
        "fm_age"
      ],
      "execution_count": 53,
      "outputs": [
        {
          "output_type": "execute_result",
          "data": {
            "text/html": [
              "<div>\n",
              "<style scoped>\n",
              "    .dataframe tbody tr th:only-of-type {\n",
              "        vertical-align: middle;\n",
              "    }\n",
              "\n",
              "    .dataframe tbody tr th {\n",
              "        vertical-align: top;\n",
              "    }\n",
              "\n",
              "    .dataframe thead th {\n",
              "        text-align: right;\n",
              "    }\n",
              "</style>\n",
              "<table border=\"1\" class=\"dataframe\">\n",
              "  <thead>\n",
              "    <tr style=\"text-align: right;\">\n",
              "      <th></th>\n",
              "      <th>age_group</th>\n",
              "      <th>FMs_non_bought</th>\n",
              "      <th>FMs_bought</th>\n",
              "      <th>FMs_prescribed</th>\n",
              "      <th>%_purchase</th>\n",
              "    </tr>\n",
              "  </thead>\n",
              "  <tbody>\n",
              "    <tr>\n",
              "      <th>3</th>\n",
              "      <td>(76.0, 101.0]</td>\n",
              "      <td>810</td>\n",
              "      <td>4873</td>\n",
              "      <td>5683</td>\n",
              "      <td>85.746965</td>\n",
              "    </tr>\n",
              "    <tr>\n",
              "      <th>2</th>\n",
              "      <td>(51.0, 76.0]</td>\n",
              "      <td>4341</td>\n",
              "      <td>20554</td>\n",
              "      <td>24895</td>\n",
              "      <td>82.562764</td>\n",
              "    </tr>\n",
              "    <tr>\n",
              "      <th>1</th>\n",
              "      <td>(26.0, 51.0]</td>\n",
              "      <td>3734</td>\n",
              "      <td>11786</td>\n",
              "      <td>15520</td>\n",
              "      <td>75.940722</td>\n",
              "    </tr>\n",
              "    <tr>\n",
              "      <th>0</th>\n",
              "      <td>(0.9, 26.0]</td>\n",
              "      <td>342</td>\n",
              "      <td>974</td>\n",
              "      <td>1316</td>\n",
              "      <td>74.012158</td>\n",
              "    </tr>\n",
              "  </tbody>\n",
              "</table>\n",
              "</div>"
            ],
            "text/plain": [
              "       age_group  FMs_non_bought  FMs_bought  FMs_prescribed  %_purchase\n",
              "3  (76.0, 101.0]             810        4873            5683   85.746965\n",
              "2   (51.0, 76.0]            4341       20554           24895   82.562764\n",
              "1   (26.0, 51.0]            3734       11786           15520   75.940722\n",
              "0    (0.9, 26.0]             342         974            1316   74.012158"
            ]
          },
          "metadata": {},
          "execution_count": 53
        }
      ]
    },
    {
      "cell_type": "markdown",
      "metadata": {
        "id": "RIpPAY6aKDMV"
      },
      "source": [
        "Even though the age group between 76 to 101 years have just 5683 FMs prescribed between March 2020 and September 2021 they have the highest rate of purchase with 85.7%.\n",
        "\n",
        "They are followed by the age group of 51 to 76 years with a rate of purchase of 82.5% and the age group of 26 to 51 years old with 75.9% of FMs bought"
      ]
    },
    {
      "cell_type": "markdown",
      "metadata": {
        "id": "JRSF0iH_K1W1"
      },
      "source": [
        "![green-divider](https://user-images.githubusercontent.com/7065401/52071924-c003ad80-2562-11e9-8297-1c6595f8a7ff.png)"
      ]
    },
    {
      "cell_type": "markdown",
      "metadata": {
        "id": "KePlvIaPK42T"
      },
      "source": [
        "#### FMs bought by Plan Type"
      ]
    },
    {
      "cell_type": "code",
      "metadata": {
        "colab": {
          "base_uri": "https://localhost:8080/",
          "height": 175
        },
        "id": "hBkv4VP8LDah",
        "outputId": "fc7e296a-3d60-4a92-9a0d-bb9708495a0d"
      },
      "source": [
        "# groupby FM_buyer and Tipo Plan\n",
        "fm_plan = df_proced_sales.groupby(['FM_buyer', 'Tipo Plan']).Cantidad.sum().reset_index()\n",
        "fm_plan"
      ],
      "execution_count": 54,
      "outputs": [
        {
          "output_type": "execute_result",
          "data": {
            "text/html": [
              "<div>\n",
              "<style scoped>\n",
              "    .dataframe tbody tr th:only-of-type {\n",
              "        vertical-align: middle;\n",
              "    }\n",
              "\n",
              "    .dataframe tbody tr th {\n",
              "        vertical-align: top;\n",
              "    }\n",
              "\n",
              "    .dataframe thead th {\n",
              "        text-align: right;\n",
              "    }\n",
              "</style>\n",
              "<table border=\"1\" class=\"dataframe\">\n",
              "  <thead>\n",
              "    <tr style=\"text-align: right;\">\n",
              "      <th></th>\n",
              "      <th>FM_buyer</th>\n",
              "      <th>Tipo Plan</th>\n",
              "      <th>Cantidad</th>\n",
              "    </tr>\n",
              "  </thead>\n",
              "  <tbody>\n",
              "    <tr>\n",
              "      <th>0</th>\n",
              "      <td>0</td>\n",
              "      <td>EPS</td>\n",
              "      <td>6883</td>\n",
              "    </tr>\n",
              "    <tr>\n",
              "      <th>1</th>\n",
              "      <td>0</td>\n",
              "      <td>Particular</td>\n",
              "      <td>2344</td>\n",
              "    </tr>\n",
              "    <tr>\n",
              "      <th>2</th>\n",
              "      <td>1</td>\n",
              "      <td>EPS</td>\n",
              "      <td>25109</td>\n",
              "    </tr>\n",
              "    <tr>\n",
              "      <th>3</th>\n",
              "      <td>1</td>\n",
              "      <td>Particular</td>\n",
              "      <td>13078</td>\n",
              "    </tr>\n",
              "  </tbody>\n",
              "</table>\n",
              "</div>"
            ],
            "text/plain": [
              "   FM_buyer   Tipo Plan  Cantidad\n",
              "0         0         EPS      6883\n",
              "1         0  Particular      2344\n",
              "2         1         EPS     25109\n",
              "3         1  Particular     13078"
            ]
          },
          "metadata": {},
          "execution_count": 54
        }
      ]
    },
    {
      "cell_type": "code",
      "metadata": {
        "colab": {
          "base_uri": "https://localhost:8080/",
          "height": 112
        },
        "id": "PrP-dt_2LXQE",
        "outputId": "307a0159-fe0b-46c3-9ef7-71fcb435a979"
      },
      "source": [
        "# pivot table >> columns are FMs_non_bought & FMs_bought\n",
        "fm_plan = fm_plan.pivot(\n",
        "    columns='FM_buyer',\n",
        "    index='Tipo Plan',\n",
        "    values='Cantidad').reset_index()\n",
        "\n",
        "# set columns\n",
        "fm_plan.columns = ['Plan_type', 'FMs_non_bought', 'FMs_bought']\n",
        "\n",
        "fm_plan"
      ],
      "execution_count": 55,
      "outputs": [
        {
          "output_type": "execute_result",
          "data": {
            "text/html": [
              "<div>\n",
              "<style scoped>\n",
              "    .dataframe tbody tr th:only-of-type {\n",
              "        vertical-align: middle;\n",
              "    }\n",
              "\n",
              "    .dataframe tbody tr th {\n",
              "        vertical-align: top;\n",
              "    }\n",
              "\n",
              "    .dataframe thead th {\n",
              "        text-align: right;\n",
              "    }\n",
              "</style>\n",
              "<table border=\"1\" class=\"dataframe\">\n",
              "  <thead>\n",
              "    <tr style=\"text-align: right;\">\n",
              "      <th></th>\n",
              "      <th>Plan_type</th>\n",
              "      <th>FMs_non_bought</th>\n",
              "      <th>FMs_bought</th>\n",
              "    </tr>\n",
              "  </thead>\n",
              "  <tbody>\n",
              "    <tr>\n",
              "      <th>0</th>\n",
              "      <td>EPS</td>\n",
              "      <td>6883</td>\n",
              "      <td>25109</td>\n",
              "    </tr>\n",
              "    <tr>\n",
              "      <th>1</th>\n",
              "      <td>Particular</td>\n",
              "      <td>2344</td>\n",
              "      <td>13078</td>\n",
              "    </tr>\n",
              "  </tbody>\n",
              "</table>\n",
              "</div>"
            ],
            "text/plain": [
              "    Plan_type  FMs_non_bought  FMs_bought\n",
              "0         EPS            6883       25109\n",
              "1  Particular            2344       13078"
            ]
          },
          "metadata": {},
          "execution_count": 55
        }
      ]
    },
    {
      "cell_type": "code",
      "metadata": {
        "colab": {
          "base_uri": "https://localhost:8080/",
          "height": 112
        },
        "id": "TpZYMBtHMCMs",
        "outputId": "12b7302b-ff53-4319-def8-0dd726cd77e1"
      },
      "source": [
        "# create column FMs_prescribed\n",
        "fm_plan['FMs_prescribed'] = fm_plan.FMs_non_bought + fm_plan.FMs_bought\n",
        "\n",
        "# create column %_purchase\n",
        "fm_plan['%_purchase'] = (fm_plan.FMs_bought / fm_plan.FMs_prescribed) * 100\n",
        "\n",
        "# sort values\n",
        "fm_plan = fm_plan.sort_values('%_purchase', ascending=False)\n",
        "fm_plan"
      ],
      "execution_count": 56,
      "outputs": [
        {
          "output_type": "execute_result",
          "data": {
            "text/html": [
              "<div>\n",
              "<style scoped>\n",
              "    .dataframe tbody tr th:only-of-type {\n",
              "        vertical-align: middle;\n",
              "    }\n",
              "\n",
              "    .dataframe tbody tr th {\n",
              "        vertical-align: top;\n",
              "    }\n",
              "\n",
              "    .dataframe thead th {\n",
              "        text-align: right;\n",
              "    }\n",
              "</style>\n",
              "<table border=\"1\" class=\"dataframe\">\n",
              "  <thead>\n",
              "    <tr style=\"text-align: right;\">\n",
              "      <th></th>\n",
              "      <th>Plan_type</th>\n",
              "      <th>FMs_non_bought</th>\n",
              "      <th>FMs_bought</th>\n",
              "      <th>FMs_prescribed</th>\n",
              "      <th>%_purchase</th>\n",
              "    </tr>\n",
              "  </thead>\n",
              "  <tbody>\n",
              "    <tr>\n",
              "      <th>1</th>\n",
              "      <td>Particular</td>\n",
              "      <td>2344</td>\n",
              "      <td>13078</td>\n",
              "      <td>15422</td>\n",
              "      <td>84.800934</td>\n",
              "    </tr>\n",
              "    <tr>\n",
              "      <th>0</th>\n",
              "      <td>EPS</td>\n",
              "      <td>6883</td>\n",
              "      <td>25109</td>\n",
              "      <td>31992</td>\n",
              "      <td>78.485246</td>\n",
              "    </tr>\n",
              "  </tbody>\n",
              "</table>\n",
              "</div>"
            ],
            "text/plain": [
              "    Plan_type  FMs_non_bought  FMs_bought  FMs_prescribed  %_purchase\n",
              "1  Particular            2344       13078           15422   84.800934\n",
              "0         EPS            6883       25109           31992   78.485246"
            ]
          },
          "metadata": {},
          "execution_count": 56
        }
      ]
    },
    {
      "cell_type": "markdown",
      "metadata": {
        "id": "iYGTCmHXNPdT"
      },
      "source": [
        "Even though the number of FMs prescribed by *EPS* exceeds in 107% the number of FMs prescribed by *Particular*, the rate of purchase of the latter (84.8%) is 6.4% greater than the former (78.4%)."
      ]
    },
    {
      "cell_type": "markdown",
      "metadata": {
        "id": "40inQQXTICar"
      },
      "source": [
        "![green-divider](https://user-images.githubusercontent.com/7065401/52071924-c003ad80-2562-11e9-8297-1c6595f8a7ff.png)"
      ]
    },
    {
      "cell_type": "markdown",
      "metadata": {
        "id": "bJ3-jeAZUNmc"
      },
      "source": [
        "#### FMs Bought by City"
      ]
    },
    {
      "cell_type": "code",
      "metadata": {
        "colab": {
          "base_uri": "https://localhost:8080/",
          "height": 206
        },
        "id": "tRNomqZQURx8",
        "outputId": "34085cae-1b1e-4783-ef8d-50f3f378c97b"
      },
      "source": [
        "# groupby FM_buyer and CiudadMunicipio\n",
        "fm_city = df_proced_sales.groupby(['FM_buyer', 'CiudadMunicipio']).Cantidad.sum().reset_index()\n",
        "\n",
        "fm_city.head()"
      ],
      "execution_count": 57,
      "outputs": [
        {
          "output_type": "execute_result",
          "data": {
            "text/html": [
              "<div>\n",
              "<style scoped>\n",
              "    .dataframe tbody tr th:only-of-type {\n",
              "        vertical-align: middle;\n",
              "    }\n",
              "\n",
              "    .dataframe tbody tr th {\n",
              "        vertical-align: top;\n",
              "    }\n",
              "\n",
              "    .dataframe thead th {\n",
              "        text-align: right;\n",
              "    }\n",
              "</style>\n",
              "<table border=\"1\" class=\"dataframe\">\n",
              "  <thead>\n",
              "    <tr style=\"text-align: right;\">\n",
              "      <th></th>\n",
              "      <th>FM_buyer</th>\n",
              "      <th>CiudadMunicipio</th>\n",
              "      <th>Cantidad</th>\n",
              "    </tr>\n",
              "  </thead>\n",
              "  <tbody>\n",
              "    <tr>\n",
              "      <th>0</th>\n",
              "      <td>0</td>\n",
              "      <td>ACACÍAS</td>\n",
              "      <td>1</td>\n",
              "    </tr>\n",
              "    <tr>\n",
              "      <th>1</th>\n",
              "      <td>0</td>\n",
              "      <td>ACAPULCO</td>\n",
              "      <td>1</td>\n",
              "    </tr>\n",
              "    <tr>\n",
              "      <th>2</th>\n",
              "      <td>0</td>\n",
              "      <td>AGUA DE DIOS</td>\n",
              "      <td>2</td>\n",
              "    </tr>\n",
              "    <tr>\n",
              "      <th>3</th>\n",
              "      <td>0</td>\n",
              "      <td>AGUACHICA</td>\n",
              "      <td>1</td>\n",
              "    </tr>\n",
              "    <tr>\n",
              "      <th>4</th>\n",
              "      <td>0</td>\n",
              "      <td>AGUAS FRÍAS - MEDELLÍN</td>\n",
              "      <td>1</td>\n",
              "    </tr>\n",
              "  </tbody>\n",
              "</table>\n",
              "</div>"
            ],
            "text/plain": [
              "   FM_buyer         CiudadMunicipio  Cantidad\n",
              "0         0                 ACACÍAS         1\n",
              "1         0                ACAPULCO         1\n",
              "2         0            AGUA DE DIOS         2\n",
              "3         0               AGUACHICA         1\n",
              "4         0  AGUAS FRÍAS - MEDELLÍN         1"
            ]
          },
          "metadata": {},
          "execution_count": 57
        }
      ]
    },
    {
      "cell_type": "code",
      "metadata": {
        "id": "WujkZn0XUlhM"
      },
      "source": [
        "# pivot table\n",
        "fm_city = fm_city.pivot(\n",
        "    columns='FM_buyer',\n",
        "    index='CiudadMunicipio',\n",
        "    values='Cantidad').reset_index()\n",
        "\n",
        "# set column names\n",
        "fm_city.columns = ['City', 'FMs_non_bought', 'FMs_bought']"
      ],
      "execution_count": 58,
      "outputs": []
    },
    {
      "cell_type": "code",
      "metadata": {
        "colab": {
          "base_uri": "https://localhost:8080/",
          "height": 206
        },
        "id": "8VmqoqGuVGLU",
        "outputId": "81d252b3-3462-4a9d-a250-33d5f5783ffb"
      },
      "source": [
        "# create FMs_prescribed\n",
        "fm_city['FMs_prescribed'] = fm_city.FMs_bought + fm_city.FMs_non_bought\n",
        "\n",
        "# create %_purchase\n",
        "fm_city['%_purchase'] = (fm_city.FMs_bought / fm_city.FMs_prescribed) * 100\n",
        "\n",
        "# sort values\n",
        "fm_city = fm_city.sort_values(by='FMs_prescribed', ascending=False)\n",
        "\n",
        "fm_city.head()"
      ],
      "execution_count": 59,
      "outputs": [
        {
          "output_type": "execute_result",
          "data": {
            "text/html": [
              "<div>\n",
              "<style scoped>\n",
              "    .dataframe tbody tr th:only-of-type {\n",
              "        vertical-align: middle;\n",
              "    }\n",
              "\n",
              "    .dataframe tbody tr th {\n",
              "        vertical-align: top;\n",
              "    }\n",
              "\n",
              "    .dataframe thead th {\n",
              "        text-align: right;\n",
              "    }\n",
              "</style>\n",
              "<table border=\"1\" class=\"dataframe\">\n",
              "  <thead>\n",
              "    <tr style=\"text-align: right;\">\n",
              "      <th></th>\n",
              "      <th>City</th>\n",
              "      <th>FMs_non_bought</th>\n",
              "      <th>FMs_bought</th>\n",
              "      <th>FMs_prescribed</th>\n",
              "      <th>%_purchase</th>\n",
              "    </tr>\n",
              "  </thead>\n",
              "  <tbody>\n",
              "    <tr>\n",
              "      <th>48</th>\n",
              "      <td>BOGOTÁ D.C.</td>\n",
              "      <td>6045.0</td>\n",
              "      <td>26792.0</td>\n",
              "      <td>32837.0</td>\n",
              "      <td>81.590888</td>\n",
              "    </tr>\n",
              "    <tr>\n",
              "      <th>401</th>\n",
              "      <td>SOACHA</td>\n",
              "      <td>469.0</td>\n",
              "      <td>1649.0</td>\n",
              "      <td>2118.0</td>\n",
              "      <td>77.856468</td>\n",
              "    </tr>\n",
              "    <tr>\n",
              "      <th>244</th>\n",
              "      <td>MEDELLÍN</td>\n",
              "      <td>168.0</td>\n",
              "      <td>818.0</td>\n",
              "      <td>986.0</td>\n",
              "      <td>82.961460</td>\n",
              "    </tr>\n",
              "    <tr>\n",
              "      <th>235</th>\n",
              "      <td>MADRID</td>\n",
              "      <td>202.0</td>\n",
              "      <td>690.0</td>\n",
              "      <td>892.0</td>\n",
              "      <td>77.354260</td>\n",
              "    </tr>\n",
              "    <tr>\n",
              "      <th>261</th>\n",
              "      <td>MOSQUERA</td>\n",
              "      <td>95.0</td>\n",
              "      <td>485.0</td>\n",
              "      <td>580.0</td>\n",
              "      <td>83.620690</td>\n",
              "    </tr>\n",
              "  </tbody>\n",
              "</table>\n",
              "</div>"
            ],
            "text/plain": [
              "            City  FMs_non_bought  FMs_bought  FMs_prescribed  %_purchase\n",
              "48   BOGOTÁ D.C.          6045.0     26792.0         32837.0   81.590888\n",
              "401       SOACHA           469.0      1649.0          2118.0   77.856468\n",
              "244     MEDELLÍN           168.0       818.0           986.0   82.961460\n",
              "235       MADRID           202.0       690.0           892.0   77.354260\n",
              "261     MOSQUERA            95.0       485.0           580.0   83.620690"
            ]
          },
          "metadata": {},
          "execution_count": 59
        }
      ]
    },
    {
      "cell_type": "markdown",
      "metadata": {
        "id": "4iZ3irarXMCk"
      },
      "source": [
        "Of the 5 cities/towns with the highest number of FMs prescribed Mosquera has the highest ourchase rate with 83.6%, followed by Medellin and Bogotá with 82.9% and 81.5% respectively. "
      ]
    },
    {
      "cell_type": "markdown",
      "metadata": {
        "id": "tRsaH6udY-Fu"
      },
      "source": [
        "![green-divider](https://user-images.githubusercontent.com/7065401/52071924-c003ad80-2562-11e9-8297-1c6595f8a7ff.png)"
      ]
    },
    {
      "cell_type": "markdown",
      "metadata": {
        "id": "yrPEHfCwZAnD"
      },
      "source": [
        "#### FMs Bought by Diagnostic"
      ]
    },
    {
      "cell_type": "code",
      "metadata": {
        "colab": {
          "base_uri": "https://localhost:8080/",
          "height": 206
        },
        "id": "ezkkgO_dZEaF",
        "outputId": "fd553fc3-f6ab-4c7e-f013-0dfb701eaaf7"
      },
      "source": [
        "# groupby 'FM_buyer' and 'Diagnostico'\n",
        "fm_diagnostic = df_proced_sales.groupby(['FM_buyer', 'Diagnostico']).Cantidad.sum().reset_index()\n",
        "\n",
        "fm_diagnostic.head()"
      ],
      "execution_count": 60,
      "outputs": [
        {
          "output_type": "execute_result",
          "data": {
            "text/html": [
              "<div>\n",
              "<style scoped>\n",
              "    .dataframe tbody tr th:only-of-type {\n",
              "        vertical-align: middle;\n",
              "    }\n",
              "\n",
              "    .dataframe tbody tr th {\n",
              "        vertical-align: top;\n",
              "    }\n",
              "\n",
              "    .dataframe thead th {\n",
              "        text-align: right;\n",
              "    }\n",
              "</style>\n",
              "<table border=\"1\" class=\"dataframe\">\n",
              "  <thead>\n",
              "    <tr style=\"text-align: right;\">\n",
              "      <th></th>\n",
              "      <th>FM_buyer</th>\n",
              "      <th>Diagnostico</th>\n",
              "      <th>Cantidad</th>\n",
              "    </tr>\n",
              "  </thead>\n",
              "  <tbody>\n",
              "    <tr>\n",
              "      <th>0</th>\n",
              "      <td>0</td>\n",
              "      <td>(OSTEO)ARTROSIS EROSIVA</td>\n",
              "      <td>3</td>\n",
              "    </tr>\n",
              "    <tr>\n",
              "      <th>1</th>\n",
              "      <td>0</td>\n",
              "      <td>(OSTEO)ARTROSIS PRIMARIAGENERALIZADA</td>\n",
              "      <td>164</td>\n",
              "    </tr>\n",
              "    <tr>\n",
              "      <th>2</th>\n",
              "      <td>0</td>\n",
              "      <td>ALCOHOLISMO, NIVEL DE INTOXICACIONNO ESPECIFICADO</td>\n",
              "      <td>2</td>\n",
              "    </tr>\n",
              "    <tr>\n",
              "      <th>3</th>\n",
              "      <td>0</td>\n",
              "      <td>AMPUTACION DE MIEMBRO(S)</td>\n",
              "      <td>2</td>\n",
              "    </tr>\n",
              "    <tr>\n",
              "      <th>4</th>\n",
              "      <td>0</td>\n",
              "      <td>AMPUTACION TRAUMATICA DE LAPIERNA, NIVEL NO ES...</td>\n",
              "      <td>1</td>\n",
              "    </tr>\n",
              "  </tbody>\n",
              "</table>\n",
              "</div>"
            ],
            "text/plain": [
              "   FM_buyer                                        Diagnostico  Cantidad\n",
              "0         0                            (OSTEO)ARTROSIS EROSIVA         3\n",
              "1         0               (OSTEO)ARTROSIS PRIMARIAGENERALIZADA       164\n",
              "2         0  ALCOHOLISMO, NIVEL DE INTOXICACIONNO ESPECIFICADO         2\n",
              "3         0                           AMPUTACION DE MIEMBRO(S)         2\n",
              "4         0  AMPUTACION TRAUMATICA DE LAPIERNA, NIVEL NO ES...         1"
            ]
          },
          "metadata": {},
          "execution_count": 60
        }
      ]
    },
    {
      "cell_type": "code",
      "metadata": {
        "id": "FI-e0tZwZYh1"
      },
      "source": [
        "# pivot table\n",
        "fm_diagnostic = fm_diagnostic.pivot(\n",
        "    columns='FM_buyer',\n",
        "    index='Diagnostico',\n",
        "    values='Cantidad').reset_index()\n",
        "\n",
        "# set column names\n",
        "fm_diagnostic.columns = ['Diagnostic', 'FMs_non_bought', 'FMs_bought']"
      ],
      "execution_count": 61,
      "outputs": []
    },
    {
      "cell_type": "code",
      "metadata": {
        "colab": {
          "base_uri": "https://localhost:8080/",
          "height": 206
        },
        "id": "APaqIwTQZvU-",
        "outputId": "25e60c83-fb2d-4e4a-e97e-210c37761509"
      },
      "source": [
        "# create 'FMs_prescribed'\n",
        "fm_diagnostic['FMs_precribed'] = fm_diagnostic.FMs_bought + fm_diagnostic.FMs_non_bought\n",
        "\n",
        "# craete '%_purchase'\n",
        "fm_diagnostic['%_purchase'] = (fm_diagnostic.FMs_bought / fm_diagnostic.FMs_precribed) * 100\n",
        "\n",
        "# sort values\n",
        "fm_diagnostic = fm_diagnostic.sort_values(by='FMs_precribed', ascending=False)\n",
        "\n",
        "fm_diagnostic.head()"
      ],
      "execution_count": 62,
      "outputs": [
        {
          "output_type": "execute_result",
          "data": {
            "text/html": [
              "<div>\n",
              "<style scoped>\n",
              "    .dataframe tbody tr th:only-of-type {\n",
              "        vertical-align: middle;\n",
              "    }\n",
              "\n",
              "    .dataframe tbody tr th {\n",
              "        vertical-align: top;\n",
              "    }\n",
              "\n",
              "    .dataframe thead th {\n",
              "        text-align: right;\n",
              "    }\n",
              "</style>\n",
              "<table border=\"1\" class=\"dataframe\">\n",
              "  <thead>\n",
              "    <tr style=\"text-align: right;\">\n",
              "      <th></th>\n",
              "      <th>Diagnostic</th>\n",
              "      <th>FMs_non_bought</th>\n",
              "      <th>FMs_bought</th>\n",
              "      <th>FMs_precribed</th>\n",
              "      <th>%_purchase</th>\n",
              "    </tr>\n",
              "  </thead>\n",
              "  <tbody>\n",
              "    <tr>\n",
              "      <th>324</th>\n",
              "      <td>OTRO DOLOR CRONICO</td>\n",
              "      <td>2759.0</td>\n",
              "      <td>13823.0</td>\n",
              "      <td>16582.0</td>\n",
              "      <td>83.361476</td>\n",
              "    </tr>\n",
              "    <tr>\n",
              "      <th>118</th>\n",
              "      <td>DOLOR CRONICO INTRATABLE</td>\n",
              "      <td>1744.0</td>\n",
              "      <td>7354.0</td>\n",
              "      <td>9098.0</td>\n",
              "      <td>80.830952</td>\n",
              "    </tr>\n",
              "    <tr>\n",
              "      <th>463</th>\n",
              "      <td>TRASTORNO MIXTO DE ANSIEDAD YDEPRESION</td>\n",
              "      <td>449.0</td>\n",
              "      <td>2018.0</td>\n",
              "      <td>2467.0</td>\n",
              "      <td>81.799757</td>\n",
              "    </tr>\n",
              "    <tr>\n",
              "      <th>475</th>\n",
              "      <td>TRASTORNOS DEL INICIO Y DELMANTENIMIENTO DEL S...</td>\n",
              "      <td>308.0</td>\n",
              "      <td>1371.0</td>\n",
              "      <td>1679.0</td>\n",
              "      <td>81.655747</td>\n",
              "    </tr>\n",
              "    <tr>\n",
              "      <th>184</th>\n",
              "      <td>FIBROMIALGIA</td>\n",
              "      <td>256.0</td>\n",
              "      <td>1040.0</td>\n",
              "      <td>1296.0</td>\n",
              "      <td>80.246914</td>\n",
              "    </tr>\n",
              "  </tbody>\n",
              "</table>\n",
              "</div>"
            ],
            "text/plain": [
              "                                            Diagnostic  ...  %_purchase\n",
              "324                                 OTRO DOLOR CRONICO  ...   83.361476\n",
              "118                           DOLOR CRONICO INTRATABLE  ...   80.830952\n",
              "463             TRASTORNO MIXTO DE ANSIEDAD YDEPRESION  ...   81.799757\n",
              "475  TRASTORNOS DEL INICIO Y DELMANTENIMIENTO DEL S...  ...   81.655747\n",
              "184                                       FIBROMIALGIA  ...   80.246914\n",
              "\n",
              "[5 rows x 5 columns]"
            ]
          },
          "metadata": {},
          "execution_count": 62
        }
      ]
    },
    {
      "cell_type": "markdown",
      "metadata": {
        "id": "SjUqXJQBasJK"
      },
      "source": [
        "Of the 5 Diagnostics with the most FMs precribed the one with the highest purchase rate is 'OTRO DOLOR CRONICO' with 83.3% followed by 'TRASTORNO MIXTO DE ANSIEDAD Y DEPRESION' and 'DOLOR CRONICO INTRATABLE' with 81.7% and 80.8%"
      ]
    },
    {
      "cell_type": "markdown",
      "metadata": {
        "id": "_wca5uFTIGJ8"
      },
      "source": [
        "#### FMs Bought by Product"
      ]
    },
    {
      "cell_type": "code",
      "metadata": {
        "colab": {
          "base_uri": "https://localhost:8080/",
          "height": 363
        },
        "id": "Ix6kYb3eIB9Y",
        "outputId": "efa9d431-e3a9-419c-8fea-7a07ef5308e8"
      },
      "source": [
        "# groupby FM_buyer and CodProducto\n",
        "fm_product = df_proced_sales.groupby(['FM_buyer', 'CodProducto']).Cantidad.sum().reset_index()\n",
        "\n",
        "fm_product"
      ],
      "execution_count": 63,
      "outputs": [
        {
          "output_type": "execute_result",
          "data": {
            "text/html": [
              "<div>\n",
              "<style scoped>\n",
              "    .dataframe tbody tr th:only-of-type {\n",
              "        vertical-align: middle;\n",
              "    }\n",
              "\n",
              "    .dataframe tbody tr th {\n",
              "        vertical-align: top;\n",
              "    }\n",
              "\n",
              "    .dataframe thead th {\n",
              "        text-align: right;\n",
              "    }\n",
              "</style>\n",
              "<table border=\"1\" class=\"dataframe\">\n",
              "  <thead>\n",
              "    <tr style=\"text-align: right;\">\n",
              "      <th></th>\n",
              "      <th>FM_buyer</th>\n",
              "      <th>CodProducto</th>\n",
              "      <th>Cantidad</th>\n",
              "    </tr>\n",
              "  </thead>\n",
              "  <tbody>\n",
              "    <tr>\n",
              "      <th>0</th>\n",
              "      <td>0</td>\n",
              "      <td>fm001</td>\n",
              "      <td>5429</td>\n",
              "    </tr>\n",
              "    <tr>\n",
              "      <th>1</th>\n",
              "      <td>0</td>\n",
              "      <td>fm002</td>\n",
              "      <td>113</td>\n",
              "    </tr>\n",
              "    <tr>\n",
              "      <th>2</th>\n",
              "      <td>0</td>\n",
              "      <td>fm003</td>\n",
              "      <td>3331</td>\n",
              "    </tr>\n",
              "    <tr>\n",
              "      <th>3</th>\n",
              "      <td>0</td>\n",
              "      <td>fm004</td>\n",
              "      <td>334</td>\n",
              "    </tr>\n",
              "    <tr>\n",
              "      <th>4</th>\n",
              "      <td>0</td>\n",
              "      <td>fm005</td>\n",
              "      <td>20</td>\n",
              "    </tr>\n",
              "    <tr>\n",
              "      <th>5</th>\n",
              "      <td>1</td>\n",
              "      <td>fm001</td>\n",
              "      <td>21531</td>\n",
              "    </tr>\n",
              "    <tr>\n",
              "      <th>6</th>\n",
              "      <td>1</td>\n",
              "      <td>fm002</td>\n",
              "      <td>608</td>\n",
              "    </tr>\n",
              "    <tr>\n",
              "      <th>7</th>\n",
              "      <td>1</td>\n",
              "      <td>fm003</td>\n",
              "      <td>14434</td>\n",
              "    </tr>\n",
              "    <tr>\n",
              "      <th>8</th>\n",
              "      <td>1</td>\n",
              "      <td>fm004</td>\n",
              "      <td>1482</td>\n",
              "    </tr>\n",
              "    <tr>\n",
              "      <th>9</th>\n",
              "      <td>1</td>\n",
              "      <td>fm005</td>\n",
              "      <td>132</td>\n",
              "    </tr>\n",
              "  </tbody>\n",
              "</table>\n",
              "</div>"
            ],
            "text/plain": [
              "   FM_buyer CodProducto  Cantidad\n",
              "0         0       fm001      5429\n",
              "1         0       fm002       113\n",
              "2         0       fm003      3331\n",
              "3         0       fm004       334\n",
              "4         0       fm005        20\n",
              "5         1       fm001     21531\n",
              "6         1       fm002       608\n",
              "7         1       fm003     14434\n",
              "8         1       fm004      1482\n",
              "9         1       fm005       132"
            ]
          },
          "metadata": {},
          "execution_count": 63
        }
      ]
    },
    {
      "cell_type": "code",
      "metadata": {
        "colab": {
          "base_uri": "https://localhost:8080/",
          "height": 206
        },
        "id": "3Ym0w7eEIwWd",
        "outputId": "613f9de3-68c8-45d9-92cf-1c28b7a40951"
      },
      "source": [
        "# pivot table\n",
        "fm_product = fm_product.pivot(\n",
        "    columns='FM_buyer',\n",
        "    index='CodProducto',\n",
        "    values='Cantidad').reset_index()\n",
        "\n",
        "# set column names\n",
        "fm_product.columns = ['Product', 'FMs_non_bought', 'FMs_bought']\n",
        "fm_product"
      ],
      "execution_count": 64,
      "outputs": [
        {
          "output_type": "execute_result",
          "data": {
            "text/html": [
              "<div>\n",
              "<style scoped>\n",
              "    .dataframe tbody tr th:only-of-type {\n",
              "        vertical-align: middle;\n",
              "    }\n",
              "\n",
              "    .dataframe tbody tr th {\n",
              "        vertical-align: top;\n",
              "    }\n",
              "\n",
              "    .dataframe thead th {\n",
              "        text-align: right;\n",
              "    }\n",
              "</style>\n",
              "<table border=\"1\" class=\"dataframe\">\n",
              "  <thead>\n",
              "    <tr style=\"text-align: right;\">\n",
              "      <th></th>\n",
              "      <th>Product</th>\n",
              "      <th>FMs_non_bought</th>\n",
              "      <th>FMs_bought</th>\n",
              "    </tr>\n",
              "  </thead>\n",
              "  <tbody>\n",
              "    <tr>\n",
              "      <th>0</th>\n",
              "      <td>fm001</td>\n",
              "      <td>5429</td>\n",
              "      <td>21531</td>\n",
              "    </tr>\n",
              "    <tr>\n",
              "      <th>1</th>\n",
              "      <td>fm002</td>\n",
              "      <td>113</td>\n",
              "      <td>608</td>\n",
              "    </tr>\n",
              "    <tr>\n",
              "      <th>2</th>\n",
              "      <td>fm003</td>\n",
              "      <td>3331</td>\n",
              "      <td>14434</td>\n",
              "    </tr>\n",
              "    <tr>\n",
              "      <th>3</th>\n",
              "      <td>fm004</td>\n",
              "      <td>334</td>\n",
              "      <td>1482</td>\n",
              "    </tr>\n",
              "    <tr>\n",
              "      <th>4</th>\n",
              "      <td>fm005</td>\n",
              "      <td>20</td>\n",
              "      <td>132</td>\n",
              "    </tr>\n",
              "  </tbody>\n",
              "</table>\n",
              "</div>"
            ],
            "text/plain": [
              "  Product  FMs_non_bought  FMs_bought\n",
              "0   fm001            5429       21531\n",
              "1   fm002             113         608\n",
              "2   fm003            3331       14434\n",
              "3   fm004             334        1482\n",
              "4   fm005              20         132"
            ]
          },
          "metadata": {},
          "execution_count": 64
        }
      ]
    },
    {
      "cell_type": "code",
      "metadata": {
        "colab": {
          "base_uri": "https://localhost:8080/",
          "height": 206
        },
        "id": "ClkispPFJX6h",
        "outputId": "44733e62-5575-478e-b40f-b1a6828c9962"
      },
      "source": [
        "# create column 'FMs_prescribed'\n",
        "fm_product['FMs_prescribed'] = fm_product.FMs_bought + fm_product.FMs_non_bought\n",
        "\n",
        "# create column '%_purchase'\n",
        "fm_product['%_purchase'] = (fm_product.FMs_bought / fm_product.FMs_prescribed) * 100\n",
        "\n",
        "# sort values\n",
        "fm_product.sort_values('%_purchase', ascending=False)\n",
        "\n",
        "fm_product"
      ],
      "execution_count": 65,
      "outputs": [
        {
          "output_type": "execute_result",
          "data": {
            "text/html": [
              "<div>\n",
              "<style scoped>\n",
              "    .dataframe tbody tr th:only-of-type {\n",
              "        vertical-align: middle;\n",
              "    }\n",
              "\n",
              "    .dataframe tbody tr th {\n",
              "        vertical-align: top;\n",
              "    }\n",
              "\n",
              "    .dataframe thead th {\n",
              "        text-align: right;\n",
              "    }\n",
              "</style>\n",
              "<table border=\"1\" class=\"dataframe\">\n",
              "  <thead>\n",
              "    <tr style=\"text-align: right;\">\n",
              "      <th></th>\n",
              "      <th>Product</th>\n",
              "      <th>FMs_non_bought</th>\n",
              "      <th>FMs_bought</th>\n",
              "      <th>FMs_prescribed</th>\n",
              "      <th>%_purchase</th>\n",
              "    </tr>\n",
              "  </thead>\n",
              "  <tbody>\n",
              "    <tr>\n",
              "      <th>0</th>\n",
              "      <td>fm001</td>\n",
              "      <td>5429</td>\n",
              "      <td>21531</td>\n",
              "      <td>26960</td>\n",
              "      <td>79.862760</td>\n",
              "    </tr>\n",
              "    <tr>\n",
              "      <th>1</th>\n",
              "      <td>fm002</td>\n",
              "      <td>113</td>\n",
              "      <td>608</td>\n",
              "      <td>721</td>\n",
              "      <td>84.327323</td>\n",
              "    </tr>\n",
              "    <tr>\n",
              "      <th>2</th>\n",
              "      <td>fm003</td>\n",
              "      <td>3331</td>\n",
              "      <td>14434</td>\n",
              "      <td>17765</td>\n",
              "      <td>81.249648</td>\n",
              "    </tr>\n",
              "    <tr>\n",
              "      <th>3</th>\n",
              "      <td>fm004</td>\n",
              "      <td>334</td>\n",
              "      <td>1482</td>\n",
              "      <td>1816</td>\n",
              "      <td>81.607930</td>\n",
              "    </tr>\n",
              "    <tr>\n",
              "      <th>4</th>\n",
              "      <td>fm005</td>\n",
              "      <td>20</td>\n",
              "      <td>132</td>\n",
              "      <td>152</td>\n",
              "      <td>86.842105</td>\n",
              "    </tr>\n",
              "  </tbody>\n",
              "</table>\n",
              "</div>"
            ],
            "text/plain": [
              "  Product  FMs_non_bought  FMs_bought  FMs_prescribed  %_purchase\n",
              "0   fm001            5429       21531           26960   79.862760\n",
              "1   fm002             113         608             721   84.327323\n",
              "2   fm003            3331       14434           17765   81.249648\n",
              "3   fm004             334        1482            1816   81.607930\n",
              "4   fm005              20         132             152   86.842105"
            ]
          },
          "metadata": {},
          "execution_count": 65
        }
      ]
    },
    {
      "cell_type": "markdown",
      "metadata": {
        "id": "-jer13GzMdia"
      },
      "source": [
        "Even though fm001 is the type of product which has the highest number of FMs prescribed it has the lowest rate of purchase of the 5 products with 79.8%. Interestingly enough, fm005 and fm002 the two products which have the highest concentration of THC also have the highest rate of purchase with 86.8% and 84.32% respectively. \n",
        "\n",
        "Below you will find a chi-square test to see if the different type of products have statistically significant differences in the purchase rate"
      ]
    },
    {
      "cell_type": "markdown",
      "metadata": {
        "id": "nDOPx2P6OBAE"
      },
      "source": [
        "![purple-divider](https://user-images.githubusercontent.com/7065401/52071927-c1cd7100-2562-11e9-908a-dde91ba14e59.png)"
      ]
    },
    {
      "cell_type": "markdown",
      "metadata": {
        "id": "c6k7kmDMOHg1"
      },
      "source": [
        "## Statistical Significance - Product Type & Purchase Rate\n",
        "\n",
        "- A Chi-Square test will be run to see if the different type of products have statiscally significant differences in the purchase rate\n",
        "\n",
        "||FMs_bought|FMs_non_bought|\n",
        "|-|-|-|\n",
        "|fm001|?|?|\n",
        "|fm002|?|?|\n",
        "\n"
      ]
    },
    {
      "cell_type": "code",
      "metadata": {
        "id": "R-MTApyqOs6F"
      },
      "source": [
        "# import chi-square package\n",
        "from scipy.stats import chi2_contingency"
      ],
      "execution_count": 66,
      "outputs": []
    },
    {
      "cell_type": "code",
      "metadata": {
        "colab": {
          "base_uri": "https://localhost:8080/",
          "height": 206
        },
        "id": "4DfutLTSPY4U",
        "outputId": "b82cbb5d-f932-4f44-a3c8-e910c51869f9"
      },
      "source": [
        "# fm_product\n",
        "fm_product"
      ],
      "execution_count": 67,
      "outputs": [
        {
          "output_type": "execute_result",
          "data": {
            "text/html": [
              "<div>\n",
              "<style scoped>\n",
              "    .dataframe tbody tr th:only-of-type {\n",
              "        vertical-align: middle;\n",
              "    }\n",
              "\n",
              "    .dataframe tbody tr th {\n",
              "        vertical-align: top;\n",
              "    }\n",
              "\n",
              "    .dataframe thead th {\n",
              "        text-align: right;\n",
              "    }\n",
              "</style>\n",
              "<table border=\"1\" class=\"dataframe\">\n",
              "  <thead>\n",
              "    <tr style=\"text-align: right;\">\n",
              "      <th></th>\n",
              "      <th>Product</th>\n",
              "      <th>FMs_non_bought</th>\n",
              "      <th>FMs_bought</th>\n",
              "      <th>FMs_prescribed</th>\n",
              "      <th>%_purchase</th>\n",
              "    </tr>\n",
              "  </thead>\n",
              "  <tbody>\n",
              "    <tr>\n",
              "      <th>0</th>\n",
              "      <td>fm001</td>\n",
              "      <td>5429</td>\n",
              "      <td>21531</td>\n",
              "      <td>26960</td>\n",
              "      <td>79.862760</td>\n",
              "    </tr>\n",
              "    <tr>\n",
              "      <th>1</th>\n",
              "      <td>fm002</td>\n",
              "      <td>113</td>\n",
              "      <td>608</td>\n",
              "      <td>721</td>\n",
              "      <td>84.327323</td>\n",
              "    </tr>\n",
              "    <tr>\n",
              "      <th>2</th>\n",
              "      <td>fm003</td>\n",
              "      <td>3331</td>\n",
              "      <td>14434</td>\n",
              "      <td>17765</td>\n",
              "      <td>81.249648</td>\n",
              "    </tr>\n",
              "    <tr>\n",
              "      <th>3</th>\n",
              "      <td>fm004</td>\n",
              "      <td>334</td>\n",
              "      <td>1482</td>\n",
              "      <td>1816</td>\n",
              "      <td>81.607930</td>\n",
              "    </tr>\n",
              "    <tr>\n",
              "      <th>4</th>\n",
              "      <td>fm005</td>\n",
              "      <td>20</td>\n",
              "      <td>132</td>\n",
              "      <td>152</td>\n",
              "      <td>86.842105</td>\n",
              "    </tr>\n",
              "  </tbody>\n",
              "</table>\n",
              "</div>"
            ],
            "text/plain": [
              "  Product  FMs_non_bought  FMs_bought  FMs_prescribed  %_purchase\n",
              "0   fm001            5429       21531           26960   79.862760\n",
              "1   fm002             113         608             721   84.327323\n",
              "2   fm003            3331       14434           17765   81.249648\n",
              "3   fm004             334        1482            1816   81.607930\n",
              "4   fm005              20         132             152   86.842105"
            ]
          },
          "metadata": {},
          "execution_count": 67
        }
      ]
    },
    {
      "cell_type": "code",
      "metadata": {
        "colab": {
          "base_uri": "https://localhost:8080/"
        },
        "id": "TJOs_PByPfaW",
        "outputId": "7d7cada2-2e54-42aa-9518-51a194cb2f90"
      },
      "source": [
        "# contingency table fm001 & fm002\n",
        "contingency_prod = [[21531, 5429],\n",
        "                    [608, 113]]\n",
        "\n",
        "# Hypothesis\n",
        "print('Ho >> No association between fm001 and fm002 purchase rates')\n",
        "print('H1 >> There is an association between fm001 and fm002 purchase rates', '\\n')\n",
        "\n",
        "chi2, pval, dof, expected = chi2_contingency(contingency_prod)\n",
        "\n",
        "print('Expected values if there was NO Association:')\n",
        "print(expected, '\\n')\n",
        "\n",
        "print(f'P-Value: {pval}')\n",
        "print('Significant Threshold: 0.05', '\\n')\n",
        "\n",
        "print('We can conclude with a 95% confidence that there IS an association between fm001 and fm002 purchase rates')\n",
        "print('fm002 are shown to have a statiscally significant higher purchase rate than fm001')\n",
        "print('This can be because FMs with THC allows to aliviate pain on the patients with higher degree pathologies')"
      ],
      "execution_count": 68,
      "outputs": [
        {
          "output_type": "stream",
          "name": "stdout",
          "text": [
            "Ho >> No association between fm001 and fm002 purchase rates\n",
            "H1 >> There is an association between fm001 and fm002 purchase rates \n",
            "\n",
            "Expected values if there was NO Association:\n",
            "[[21562.35107113  5397.64892887]\n",
            " [  576.64892887   144.35107113]] \n",
            "\n",
            "P-Value: 0.003621260199950411\n",
            "Significant Threshold: 0.05 \n",
            "\n",
            "We can conclude with a 95% confidence that there IS an association between fm001 and fm002 purchase rates\n",
            "fm002 are shown to have a statiscally significant higher purchase rate than fm001\n",
            "This can be because FMs with THC allows to aliviate pain on the patients with higher degree pathologies\n"
          ]
        }
      ]
    },
    {
      "cell_type": "markdown",
      "metadata": {
        "id": "WLyy26VfTGt_"
      },
      "source": [
        "![green-divider](https://user-images.githubusercontent.com/7065401/52071924-c003ad80-2562-11e9-8297-1c6595f8a7ff.png)"
      ]
    },
    {
      "cell_type": "markdown",
      "metadata": {
        "id": "sIKAtBzQTKiX"
      },
      "source": [
        "## Statistical Significance - Age Group & Purchase Rate\n",
        "\n",
        "- A Chi-Square test will be run to see if the age groups have statiscally significant differences in the purchase rate\n",
        "\n",
        "||FMs_bought|FMs_non_bought|\n",
        "|-|-|-|\n",
        "|76-101|?|?|\n",
        "|26-51|?|?|"
      ]
    },
    {
      "cell_type": "code",
      "metadata": {
        "colab": {
          "base_uri": "https://localhost:8080/",
          "height": 175
        },
        "id": "fKOblvSXTKDZ",
        "outputId": "463a3b8c-65fd-4e8a-a79b-df34338cb496"
      },
      "source": [
        "fm_age"
      ],
      "execution_count": 69,
      "outputs": [
        {
          "output_type": "execute_result",
          "data": {
            "text/html": [
              "<div>\n",
              "<style scoped>\n",
              "    .dataframe tbody tr th:only-of-type {\n",
              "        vertical-align: middle;\n",
              "    }\n",
              "\n",
              "    .dataframe tbody tr th {\n",
              "        vertical-align: top;\n",
              "    }\n",
              "\n",
              "    .dataframe thead th {\n",
              "        text-align: right;\n",
              "    }\n",
              "</style>\n",
              "<table border=\"1\" class=\"dataframe\">\n",
              "  <thead>\n",
              "    <tr style=\"text-align: right;\">\n",
              "      <th></th>\n",
              "      <th>age_group</th>\n",
              "      <th>FMs_non_bought</th>\n",
              "      <th>FMs_bought</th>\n",
              "      <th>FMs_prescribed</th>\n",
              "      <th>%_purchase</th>\n",
              "    </tr>\n",
              "  </thead>\n",
              "  <tbody>\n",
              "    <tr>\n",
              "      <th>3</th>\n",
              "      <td>(76.0, 101.0]</td>\n",
              "      <td>810</td>\n",
              "      <td>4873</td>\n",
              "      <td>5683</td>\n",
              "      <td>85.746965</td>\n",
              "    </tr>\n",
              "    <tr>\n",
              "      <th>2</th>\n",
              "      <td>(51.0, 76.0]</td>\n",
              "      <td>4341</td>\n",
              "      <td>20554</td>\n",
              "      <td>24895</td>\n",
              "      <td>82.562764</td>\n",
              "    </tr>\n",
              "    <tr>\n",
              "      <th>1</th>\n",
              "      <td>(26.0, 51.0]</td>\n",
              "      <td>3734</td>\n",
              "      <td>11786</td>\n",
              "      <td>15520</td>\n",
              "      <td>75.940722</td>\n",
              "    </tr>\n",
              "    <tr>\n",
              "      <th>0</th>\n",
              "      <td>(0.9, 26.0]</td>\n",
              "      <td>342</td>\n",
              "      <td>974</td>\n",
              "      <td>1316</td>\n",
              "      <td>74.012158</td>\n",
              "    </tr>\n",
              "  </tbody>\n",
              "</table>\n",
              "</div>"
            ],
            "text/plain": [
              "       age_group  FMs_non_bought  FMs_bought  FMs_prescribed  %_purchase\n",
              "3  (76.0, 101.0]             810        4873            5683   85.746965\n",
              "2   (51.0, 76.0]            4341       20554           24895   82.562764\n",
              "1   (26.0, 51.0]            3734       11786           15520   75.940722\n",
              "0    (0.9, 26.0]             342         974            1316   74.012158"
            ]
          },
          "metadata": {},
          "execution_count": 69
        }
      ]
    },
    {
      "cell_type": "code",
      "metadata": {
        "colab": {
          "base_uri": "https://localhost:8080/"
        },
        "id": "waedUKUwdZ4i",
        "outputId": "6d32730d-eb93-4081-f788-69e96b617a4c"
      },
      "source": [
        "# contingency table\n",
        "contingency_age = [[4873, 810],\n",
        "                   [11786, 3734]]\n",
        "\n",
        "# Hypothesis\n",
        "print('Ho >> No association between the age groups [76-101] and [26-51] purchase rates')\n",
        "print('H1 >> There is an association between the age groups [76-101] and [26-51] purchase rates', '\\n')\n",
        "\n",
        "chi2, pval, dof, expected = chi2_contingency(contingency_age)\n",
        "\n",
        "print('Expected values if there is NO Association:')\n",
        "print(expected, '\\n')\n",
        "\n",
        "print(f'P-Value: {pval}')\n",
        "print('Significant Threshold: 0.05', '\\n')\n",
        "\n",
        "print('We can conclude with a 95% confidence that there IS an association between the age groups [76-101] and [26-51]purchase rates')\n",
        "print('Even though the age group [26-51] have been the least prescribed, they are shown to have a statiscally \\nhigher purchase rate than the age group of [76-101]')"
      ],
      "execution_count": 70,
      "outputs": [
        {
          "output_type": "stream",
          "name": "stdout",
          "text": [
            "Ho >> No association between the age groups [76-101] and [26-51] purchase rates\n",
            "H1 >> There is an association between the age groups [76-101] and [26-51] purchase rates \n",
            "\n",
            "Expected values if there is NO Association:\n",
            "[[ 4465.08027166  1217.91972834]\n",
            " [12193.91972834  3326.08027166]] \n",
            "\n",
            "P-Value: 1.7877118355990216e-53\n",
            "Significant Threshold: 0.05 \n",
            "\n",
            "We can conclude with a 95% confidence that there IS an association between the age groups [76-101] and [26-51]purchase rates\n",
            "Even though the age group [26-51] have been the least prescribed, they are shown to have a statiscally \n",
            "higher purchase rate than the age group of [76-101]\n"
          ]
        }
      ]
    },
    {
      "cell_type": "markdown",
      "metadata": {
        "id": "FcM_wZP7f7Dx"
      },
      "source": [
        "![purple-divider](https://user-images.githubusercontent.com/7065401/52071927-c1cd7100-2562-11e9-908a-dde91ba14e59.png)"
      ]
    },
    {
      "cell_type": "markdown",
      "metadata": {
        "id": "M1yGBMwWf_V8"
      },
      "source": [
        "## Feature Encoding"
      ]
    },
    {
      "cell_type": "markdown",
      "metadata": {
        "id": "UbNiE70ucHaa"
      },
      "source": [
        "#### Sex Encoding \n",
        "- F >> female will be mapped to 0 >> 80.7% purchase rate\n",
        "- M >> male will be mapped to 1 >> 80 % purchase rate\n",
        "\n",
        "\n",
        "\n",
        "#### Age Encoding\n",
        "- 51, 76 >> 1 if True >> 82.5% purchase rate\n",
        "- 76, 101 >> 1 if True >> 85.74% purchase rate\n",
        "\n",
        "#### Plan Type Encoding\n",
        "- EPS >> will be mapped to 0 >> 78.48% purchase rate\n",
        "- Particular >> will be mapped to 1 >> 84.8% purchase rate\n",
        "\n",
        "#### Product Type Encoding \n",
        "- is_fm002 (THC) >> 1 >> 84.3% purchase rate\n",
        "- is_fm001 (CBD) >> 1 >> 79.8% purchase rate\n",
        "\n",
        "#### City/Town Encoding\n",
        "- is_Mosquera >> 1 >> 83.6% purchase rate \n",
        "- is_Medellin >> 1 >> 82.9% purchase rate\n",
        "- is_Bogota >> 1 >> 81.5% purchase rate\n",
        "\n",
        "#### Diagnostic Encoding\n",
        "- is other_cronic_pain >> 1 >> 83.3% purchase rate\n",
        "- is anxiety_depression >> 1 >> 81.7% purchase rate\n",
        "- is cronic_pain_uncu >> 1 >> 80.8% purchase rate\n",
        "\n",
        "\n"
      ]
    },
    {
      "cell_type": "code",
      "metadata": {
        "id": "w0rSy-rkcFP3"
      },
      "source": [
        "# create sex column\n",
        "df_proced_sales['Sex'] = [0 if df_proced_sales.loc[index, 'Sexo'] == 'F' else 1 for index in df_proced_sales.index]\n",
        "\n",
        "# create is_51_76\n",
        "df_proced_sales['is_51_76'] = [1 if df_proced_sales.loc[index, 'age_group'] == pd.Interval(51.0, 76.0) else 0\\\n",
        "                              for index in df_proced_sales.index]\n",
        "\n",
        "# create is_76_101\n",
        "df_proced_sales['is_76_101'] = [1 if df_proced_sales.loc[index, 'age_group'] == pd.Interval(76.0, 101.0) else 0\\\n",
        "                                for index in df_proced_sales.index]\n",
        "\n",
        "# create is_plan_particular\n",
        "df_proced_sales['is_plan_particular'] = [1 if df_proced_sales.loc[index, 'Tipo Plan'] == 'Particular' else 0\\\n",
        "                                         for index in df_proced_sales.index]\n",
        "\n",
        "# create is_fm002\n",
        "df_proced_sales['is_fm002'] = [1 if df_proced_sales.loc[index, 'CodProducto'] == 'fm002' else 0\\\n",
        "                               for index in df_proced_sales.index]\n",
        "\n",
        "# create is_fm001\n",
        "df_proced_sales['is_fm001'] = [1 if df_proced_sales.loc[index, 'CodProducto'] == 'fm001' else 0\\\n",
        "                              for index in df_proced_sales.index]\n",
        "\n",
        "# create is_Medellin\n",
        "df_proced_sales['is_Medellin'] = [1 if df_proced_sales.loc[index, 'CiudadMunicipio'] == 'MEDELLÍN' else 0\\\n",
        "                                  for index in df_proced_sales.index]\n",
        "\n",
        "# create is_Mosquera\n",
        "df_proced_sales['is_Mosquera'] = [1 if df_proced_sales.loc[index, 'CiudadMunicipio'] == 'MOSQUERA' else 0\\\n",
        "                                  for index in df_proced_sales.index]\n",
        "\n",
        "# create is_Bogota\n",
        "df_proced_sales['is_Bogota'] = [1 if df_proced_sales.loc[index, 'CiudadMunicipio'] == 'BOGOTÁ D.C.' else 0\\\n",
        "                                for index in df_proced_sales.index]\n",
        "\n",
        "# create other_cronic_pain\n",
        "df_proced_sales['is_cronic_pain'] = [1 if df_proced_sales.loc[index, 'Diagnostico'] == 'OTRO DOLOR CRONICO' else 0\\\n",
        "                                     for index in df_proced_sales.index]\n",
        "# create anxiety_depression\n",
        "df_proced_sales['is_anxiety_depres'] = [1 if df_proced_sales.loc[index, 'Diagnostico'] == 'TRASTORNO MIXTO DE ANSIEDAD YDEPRESION'\\\n",
        "                                        else 0 for index in df_proced_sales.index]\n",
        "\n",
        "# create cronic_pain_uncu\n",
        "df_proced_sales['is_cronic_pain_uncu'] = [1 if df_proced_sales.loc[index, 'Diagnostico'] == 'DOLOR CRONICO INTRATABLE' else 0\\\n",
        "                                       for index in df_proced_sales.index]\n",
        "\n"
      ],
      "execution_count": 79,
      "outputs": []
    },
    {
      "cell_type": "code",
      "metadata": {
        "colab": {
          "base_uri": "https://localhost:8080/",
          "height": 348
        },
        "id": "P0_92zA3e-QD",
        "outputId": "136b1c0f-dd13-4082-ae10-9dfc0a4d7b68"
      },
      "source": [
        "# check column creation\n",
        "df_proced_sales.head()"
      ],
      "execution_count": 80,
      "outputs": [
        {
          "output_type": "execute_result",
          "data": {
            "text/html": [
              "<div>\n",
              "<style scoped>\n",
              "    .dataframe tbody tr th:only-of-type {\n",
              "        vertical-align: middle;\n",
              "    }\n",
              "\n",
              "    .dataframe tbody tr th {\n",
              "        vertical-align: top;\n",
              "    }\n",
              "\n",
              "    .dataframe thead th {\n",
              "        text-align: right;\n",
              "    }\n",
              "</style>\n",
              "<table border=\"1\" class=\"dataframe\">\n",
              "  <thead>\n",
              "    <tr style=\"text-align: right;\">\n",
              "      <th></th>\n",
              "      <th>Ingreso</th>\n",
              "      <th>DocPaciente</th>\n",
              "      <th>age_group</th>\n",
              "      <th>Sexo</th>\n",
              "      <th>CiudadMunicipio</th>\n",
              "      <th>Diagnostico</th>\n",
              "      <th>Tipo Plan</th>\n",
              "      <th>FechaFormulacion</th>\n",
              "      <th>CodProducto</th>\n",
              "      <th>Cantidad</th>\n",
              "      <th>Plan/Servicio</th>\n",
              "      <th>Sede</th>\n",
              "      <th>Month</th>\n",
              "      <th>Year</th>\n",
              "      <th>month_sold</th>\n",
              "      <th>year_sold</th>\n",
              "      <th>FM_buyer</th>\n",
              "      <th>Sex</th>\n",
              "      <th>is_51_76</th>\n",
              "      <th>is_76_101</th>\n",
              "      <th>is_plan_particular</th>\n",
              "      <th>is_fm003</th>\n",
              "      <th>is_fm001</th>\n",
              "      <th>is_Medellin</th>\n",
              "      <th>is_Mosquera</th>\n",
              "      <th>is_Bogota</th>\n",
              "      <th>is_cronic_pain</th>\n",
              "      <th>is_anxiety_depres</th>\n",
              "      <th>is_cronic_pain_uncu</th>\n",
              "      <th>is_fm002</th>\n",
              "    </tr>\n",
              "  </thead>\n",
              "  <tbody>\n",
              "    <tr>\n",
              "      <th>0</th>\n",
              "      <td>26720</td>\n",
              "      <td>41453437</td>\n",
              "      <td>(51.0, 76.0]</td>\n",
              "      <td>F</td>\n",
              "      <td>BOGOTÁ D.C.</td>\n",
              "      <td>(OSTEO)ARTROSIS PRIMARIAGENERALIZADA</td>\n",
              "      <td>Particular</td>\n",
              "      <td>2020-03-19</td>\n",
              "      <td>fm001</td>\n",
              "      <td>1</td>\n",
              "      <td>Consulta Dolor y Cuidados Paliativos</td>\n",
              "      <td>ZERENIA</td>\n",
              "      <td>3</td>\n",
              "      <td>2020</td>\n",
              "      <td>3.0</td>\n",
              "      <td>2020.0</td>\n",
              "      <td>1</td>\n",
              "      <td>0</td>\n",
              "      <td>1</td>\n",
              "      <td>0</td>\n",
              "      <td>1</td>\n",
              "      <td>0</td>\n",
              "      <td>1</td>\n",
              "      <td>0</td>\n",
              "      <td>0</td>\n",
              "      <td>1</td>\n",
              "      <td>0</td>\n",
              "      <td>0</td>\n",
              "      <td>0</td>\n",
              "      <td>0</td>\n",
              "    </tr>\n",
              "    <tr>\n",
              "      <th>1</th>\n",
              "      <td>26793</td>\n",
              "      <td>13352962</td>\n",
              "      <td>(51.0, 76.0]</td>\n",
              "      <td>M</td>\n",
              "      <td>BOGOTÁ D.C.</td>\n",
              "      <td>TRASTORNO DE DISCO LUMBAR YOTROS, CON RADICULO...</td>\n",
              "      <td>Particular</td>\n",
              "      <td>2020-03-19</td>\n",
              "      <td>fm001</td>\n",
              "      <td>1</td>\n",
              "      <td>Consulta Dolor y Cuidados Paliativos</td>\n",
              "      <td>ZERENIA</td>\n",
              "      <td>3</td>\n",
              "      <td>2020</td>\n",
              "      <td>3.0</td>\n",
              "      <td>2020.0</td>\n",
              "      <td>1</td>\n",
              "      <td>1</td>\n",
              "      <td>1</td>\n",
              "      <td>0</td>\n",
              "      <td>1</td>\n",
              "      <td>0</td>\n",
              "      <td>1</td>\n",
              "      <td>0</td>\n",
              "      <td>0</td>\n",
              "      <td>1</td>\n",
              "      <td>0</td>\n",
              "      <td>0</td>\n",
              "      <td>0</td>\n",
              "      <td>0</td>\n",
              "    </tr>\n",
              "    <tr>\n",
              "      <th>2</th>\n",
              "      <td>26806</td>\n",
              "      <td>390646</td>\n",
              "      <td>(76.0, 101.0]</td>\n",
              "      <td>M</td>\n",
              "      <td>BOGOTÁ D.C.</td>\n",
              "      <td>NEURALGIA POSTHERPES ZOSTER(B02.2†)</td>\n",
              "      <td>Particular</td>\n",
              "      <td>2020-03-19</td>\n",
              "      <td>fm001</td>\n",
              "      <td>1</td>\n",
              "      <td>Consulta Dolor y Cuidados Paliativos</td>\n",
              "      <td>ZERENIA</td>\n",
              "      <td>3</td>\n",
              "      <td>2020</td>\n",
              "      <td>3.0</td>\n",
              "      <td>2020.0</td>\n",
              "      <td>1</td>\n",
              "      <td>1</td>\n",
              "      <td>0</td>\n",
              "      <td>1</td>\n",
              "      <td>1</td>\n",
              "      <td>0</td>\n",
              "      <td>1</td>\n",
              "      <td>0</td>\n",
              "      <td>0</td>\n",
              "      <td>1</td>\n",
              "      <td>0</td>\n",
              "      <td>0</td>\n",
              "      <td>0</td>\n",
              "      <td>0</td>\n",
              "    </tr>\n",
              "    <tr>\n",
              "      <th>3</th>\n",
              "      <td>26928</td>\n",
              "      <td>19059029</td>\n",
              "      <td>(51.0, 76.0]</td>\n",
              "      <td>M</td>\n",
              "      <td>BOGOTÁ D.C.</td>\n",
              "      <td>NaN</td>\n",
              "      <td>Particular</td>\n",
              "      <td>2020-03-19</td>\n",
              "      <td>fm001</td>\n",
              "      <td>1</td>\n",
              "      <td>Neurologia</td>\n",
              "      <td>ZERENIA</td>\n",
              "      <td>3</td>\n",
              "      <td>2020</td>\n",
              "      <td>3.0</td>\n",
              "      <td>2020.0</td>\n",
              "      <td>1</td>\n",
              "      <td>1</td>\n",
              "      <td>1</td>\n",
              "      <td>0</td>\n",
              "      <td>1</td>\n",
              "      <td>0</td>\n",
              "      <td>1</td>\n",
              "      <td>0</td>\n",
              "      <td>0</td>\n",
              "      <td>1</td>\n",
              "      <td>0</td>\n",
              "      <td>0</td>\n",
              "      <td>0</td>\n",
              "      <td>0</td>\n",
              "    </tr>\n",
              "    <tr>\n",
              "      <th>4</th>\n",
              "      <td>26846</td>\n",
              "      <td>41595666</td>\n",
              "      <td>(51.0, 76.0]</td>\n",
              "      <td>F</td>\n",
              "      <td>CAJICÁ</td>\n",
              "      <td>NaN</td>\n",
              "      <td>Particular</td>\n",
              "      <td>2020-03-19</td>\n",
              "      <td>fm001</td>\n",
              "      <td>1</td>\n",
              "      <td>Neurologia</td>\n",
              "      <td>ZERENIA</td>\n",
              "      <td>3</td>\n",
              "      <td>2020</td>\n",
              "      <td>3.0</td>\n",
              "      <td>2020.0</td>\n",
              "      <td>1</td>\n",
              "      <td>0</td>\n",
              "      <td>1</td>\n",
              "      <td>0</td>\n",
              "      <td>1</td>\n",
              "      <td>0</td>\n",
              "      <td>1</td>\n",
              "      <td>0</td>\n",
              "      <td>0</td>\n",
              "      <td>0</td>\n",
              "      <td>0</td>\n",
              "      <td>0</td>\n",
              "      <td>0</td>\n",
              "      <td>0</td>\n",
              "    </tr>\n",
              "  </tbody>\n",
              "</table>\n",
              "</div>"
            ],
            "text/plain": [
              "   Ingreso DocPaciente  ... is_cronic_pain_uncu is_fm002\n",
              "0    26720    41453437  ...                   0        0\n",
              "1    26793    13352962  ...                   0        0\n",
              "2    26806      390646  ...                   0        0\n",
              "3    26928    19059029  ...                   0        0\n",
              "4    26846    41595666  ...                   0        0\n",
              "\n",
              "[5 rows x 30 columns]"
            ]
          },
          "metadata": {},
          "execution_count": 80
        }
      ]
    },
    {
      "cell_type": "code",
      "metadata": {
        "colab": {
          "base_uri": "https://localhost:8080/",
          "height": 226
        },
        "id": "KSTUK6tTirZI",
        "outputId": "f5c65f96-7a32-45d2-ca83-5c3e1e5a7c2a"
      },
      "source": [
        "# features & label df\n",
        "df_features_labels = df_proced_sales[['Ingreso', 'Sex', 'is_51_76', 'is_76_101', 'is_plan_particular', 'is_fm002',\\\n",
        "                                      'is_fm001', 'is_Medellin', 'is_Mosquera', 'is_Bogota', 'is_cronic_pain',\\\n",
        "                                      'is_anxiety_depres', 'is_cronic_pain_uncu', 'FM_buyer']]\n",
        "\n",
        "df_features_labels.head()"
      ],
      "execution_count": 81,
      "outputs": [
        {
          "output_type": "execute_result",
          "data": {
            "text/html": [
              "<div>\n",
              "<style scoped>\n",
              "    .dataframe tbody tr th:only-of-type {\n",
              "        vertical-align: middle;\n",
              "    }\n",
              "\n",
              "    .dataframe tbody tr th {\n",
              "        vertical-align: top;\n",
              "    }\n",
              "\n",
              "    .dataframe thead th {\n",
              "        text-align: right;\n",
              "    }\n",
              "</style>\n",
              "<table border=\"1\" class=\"dataframe\">\n",
              "  <thead>\n",
              "    <tr style=\"text-align: right;\">\n",
              "      <th></th>\n",
              "      <th>Ingreso</th>\n",
              "      <th>Sex</th>\n",
              "      <th>is_51_76</th>\n",
              "      <th>is_76_101</th>\n",
              "      <th>is_plan_particular</th>\n",
              "      <th>is_fm002</th>\n",
              "      <th>is_fm001</th>\n",
              "      <th>is_Medellin</th>\n",
              "      <th>is_Mosquera</th>\n",
              "      <th>is_Bogota</th>\n",
              "      <th>is_cronic_pain</th>\n",
              "      <th>is_anxiety_depres</th>\n",
              "      <th>is_cronic_pain_uncu</th>\n",
              "      <th>FM_buyer</th>\n",
              "    </tr>\n",
              "  </thead>\n",
              "  <tbody>\n",
              "    <tr>\n",
              "      <th>0</th>\n",
              "      <td>26720</td>\n",
              "      <td>0</td>\n",
              "      <td>1</td>\n",
              "      <td>0</td>\n",
              "      <td>1</td>\n",
              "      <td>0</td>\n",
              "      <td>1</td>\n",
              "      <td>0</td>\n",
              "      <td>0</td>\n",
              "      <td>1</td>\n",
              "      <td>0</td>\n",
              "      <td>0</td>\n",
              "      <td>0</td>\n",
              "      <td>1</td>\n",
              "    </tr>\n",
              "    <tr>\n",
              "      <th>1</th>\n",
              "      <td>26793</td>\n",
              "      <td>1</td>\n",
              "      <td>1</td>\n",
              "      <td>0</td>\n",
              "      <td>1</td>\n",
              "      <td>0</td>\n",
              "      <td>1</td>\n",
              "      <td>0</td>\n",
              "      <td>0</td>\n",
              "      <td>1</td>\n",
              "      <td>0</td>\n",
              "      <td>0</td>\n",
              "      <td>0</td>\n",
              "      <td>1</td>\n",
              "    </tr>\n",
              "    <tr>\n",
              "      <th>2</th>\n",
              "      <td>26806</td>\n",
              "      <td>1</td>\n",
              "      <td>0</td>\n",
              "      <td>1</td>\n",
              "      <td>1</td>\n",
              "      <td>0</td>\n",
              "      <td>1</td>\n",
              "      <td>0</td>\n",
              "      <td>0</td>\n",
              "      <td>1</td>\n",
              "      <td>0</td>\n",
              "      <td>0</td>\n",
              "      <td>0</td>\n",
              "      <td>1</td>\n",
              "    </tr>\n",
              "    <tr>\n",
              "      <th>3</th>\n",
              "      <td>26928</td>\n",
              "      <td>1</td>\n",
              "      <td>1</td>\n",
              "      <td>0</td>\n",
              "      <td>1</td>\n",
              "      <td>0</td>\n",
              "      <td>1</td>\n",
              "      <td>0</td>\n",
              "      <td>0</td>\n",
              "      <td>1</td>\n",
              "      <td>0</td>\n",
              "      <td>0</td>\n",
              "      <td>0</td>\n",
              "      <td>1</td>\n",
              "    </tr>\n",
              "    <tr>\n",
              "      <th>4</th>\n",
              "      <td>26846</td>\n",
              "      <td>0</td>\n",
              "      <td>1</td>\n",
              "      <td>0</td>\n",
              "      <td>1</td>\n",
              "      <td>0</td>\n",
              "      <td>1</td>\n",
              "      <td>0</td>\n",
              "      <td>0</td>\n",
              "      <td>0</td>\n",
              "      <td>0</td>\n",
              "      <td>0</td>\n",
              "      <td>0</td>\n",
              "      <td>1</td>\n",
              "    </tr>\n",
              "  </tbody>\n",
              "</table>\n",
              "</div>"
            ],
            "text/plain": [
              "   Ingreso  Sex  is_51_76  ...  is_anxiety_depres  is_cronic_pain_uncu  FM_buyer\n",
              "0    26720    0         1  ...                  0                    0         1\n",
              "1    26793    1         1  ...                  0                    0         1\n",
              "2    26806    1         0  ...                  0                    0         1\n",
              "3    26928    1         1  ...                  0                    0         1\n",
              "4    26846    0         1  ...                  0                    0         1\n",
              "\n",
              "[5 rows x 14 columns]"
            ]
          },
          "metadata": {},
          "execution_count": 81
        }
      ]
    },
    {
      "cell_type": "markdown",
      "metadata": {
        "id": "lsTC1QhULOYd"
      },
      "source": [
        "![green-divider](https://user-images.githubusercontent.com/7065401/52071924-c003ad80-2562-11e9-8297-1c6595f8a7ff.png)\n",
        "\n"
      ]
    },
    {
      "cell_type": "markdown",
      "metadata": {
        "id": "A1QYSbf6LaVw"
      },
      "source": [
        "### Features Correlation"
      ]
    },
    {
      "cell_type": "code",
      "metadata": {
        "colab": {
          "base_uri": "https://localhost:8080/",
          "height": 812
        },
        "id": "XB72BSb9Lcvn",
        "outputId": "fc1fde20-a778-4b7c-b3c6-a852c402208d"
      },
      "source": [
        "# heatmap of features correlation\n",
        "\n",
        "f, ax = plt.subplots(figsize=(14, 12))\n",
        "\n",
        "sns.heatmap(df_features_labels.corr(), vmin=-1, vmax=1, annot=True, cmap='YlGnBu_r')\n",
        "\n",
        "plt.title('Features Correlation Heatmap', pad=12)\n",
        "\n",
        "plt.show()"
      ],
      "execution_count": 83,
      "outputs": [
        {
          "output_type": "display_data",
          "data": {
            "image/png": "[encoded data removed]",
            "text/plain": [
              "<Figure size 1008x864 with 2 Axes>"
            ]
          },
          "metadata": {
            "needs_background": "light"
          }
        }
      ]
    },
    {
      "cell_type": "markdown",
      "metadata": {
        "id": "GPXCR98EONez"
      },
      "source": [
        "As can be seen in the Correlation Heatmap above, there is none or little *Multicolinearity* between the features, which makes it suitable for a Logistic Regression Model."
      ]
    },
    {
      "cell_type": "markdown",
      "metadata": {
        "id": "yYeZeIT4OyJb"
      },
      "source": [
        "![purple-divider](https://user-images.githubusercontent.com/7065401/52071927-c1cd7100-2562-11e9-908a-dde91ba14e59.png)"
      ]
    },
    {
      "cell_type": "markdown",
      "metadata": {
        "id": "9CCRF5dlO49q"
      },
      "source": [
        "## Logistic Regression Model\n",
        "\n",
        "..."
      ]
    }
  ]
}