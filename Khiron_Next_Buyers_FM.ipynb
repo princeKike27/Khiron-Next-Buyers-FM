{
  "nbformat": 4,
  "nbformat_minor": 0,
  "metadata": {
    "colab": {
      "name": "Khiron-Next-Buyers-FM.ipynb",
      "provenance": [],
      "collapsed_sections": [],
      "authorship_tag": "ABX9TyPJkuT/XRXKt/C/pklyusv6",
      "include_colab_link": true
    },
    "kernelspec": {
      "name": "python3",
      "display_name": "Python 3"
    },
    "language_info": {
      "name": "python"
    }
  },
  "cells": [
    {
      "cell_type": "markdown",
      "metadata": {
        "id": "view-in-github",
        "colab_type": "text"
      },
      "source": [
        "<a href=\"https://colab.research.google.com/github/princeKike27/Khiron-Next-Buyers-FM/blob/main/Khiron_Next_Buyers_FM.ipynb\" target=\"_parent\"><img src=\"https://colab.research.google.com/assets/colab-badge.svg\" alt=\"Open In Colab\"/></a>"
      ]
    },
    {
      "cell_type": "markdown",
      "metadata": {
        "id": "oWKTJQi_pfYa"
      },
      "source": [
        "# Khiron Next Buyers\n",
        "\n",
        "For this project ..."
      ]
    },
    {
      "cell_type": "markdown",
      "metadata": {
        "id": "J_ripd1IpwiS"
      },
      "source": [
        "![purple-divider](https://user-images.githubusercontent.com/7065401/52071927-c1cd7100-2562-11e9-908a-dde91ba14e59.png)"
      ]
    },
    {
      "cell_type": "code",
      "metadata": {
        "id": "xD0eYhC6pZ5T"
      },
      "source": [
        "# import modules\n",
        "import pandas as pd\n",
        "import numpy as np\n",
        "import matplotlib.pyplot as plt\n",
        "import seaborn as sns"
      ],
      "execution_count": 1,
      "outputs": []
    },
    {
      "cell_type": "code",
      "metadata": {
        "id": "udspsBPQqYww"
      },
      "source": [
        "# load data files\n",
        "\n",
        "# sales df\n",
        "df_sales = pd.read_csv(\n",
        "    'https://raw.githubusercontent.com/princeKike27/Khiron-Next-Buyers-FM/main/Compras_FMs.csv',\\\n",
        "    sep=';')\n",
        "\n",
        "# procedures df\n",
        "df_procedures = pd.read_csv(\n",
        "    'https://raw.githubusercontent.com/princeKike27/Khiron-Next-Buyers-FM/main/Procedimientos_FMs.csv',\\\n",
        "    sep=';')"
      ],
      "execution_count": 2,
      "outputs": []
    },
    {
      "cell_type": "code",
      "metadata": {
        "colab": {
          "base_uri": "https://localhost:8080/",
          "height": 382
        },
        "id": "EoeVjChvvcs4",
        "outputId": "b6547eae-fa32-4343-d5aa-09acba67f664"
      },
      "source": [
        "# check procedures df\n",
        "df_procedures.head()"
      ],
      "execution_count": 3,
      "outputs": [
        {
          "output_type": "execute_result",
          "data": {
            "text/html": [
              "<div>\n",
              "<style scoped>\n",
              "    .dataframe tbody tr th:only-of-type {\n",
              "        vertical-align: middle;\n",
              "    }\n",
              "\n",
              "    .dataframe tbody tr th {\n",
              "        vertical-align: top;\n",
              "    }\n",
              "\n",
              "    .dataframe thead th {\n",
              "        text-align: right;\n",
              "    }\n",
              "</style>\n",
              "<table border=\"1\" class=\"dataframe\">\n",
              "  <thead>\n",
              "    <tr style=\"text-align: right;\">\n",
              "      <th></th>\n",
              "      <th>Ingreso</th>\n",
              "      <th>DocPaciente</th>\n",
              "      <th>Fecha Nacimiento</th>\n",
              "      <th>Edad</th>\n",
              "      <th>Sexo</th>\n",
              "      <th>CiudadMunicipio</th>\n",
              "      <th>Diagnostico</th>\n",
              "      <th>CodigoDiagnostico</th>\n",
              "      <th>Plan</th>\n",
              "      <th>Tipo Plan</th>\n",
              "      <th>FechaIngreso</th>\n",
              "      <th>FechaFormulacion</th>\n",
              "      <th>CodProducto</th>\n",
              "      <th>Cantidad</th>\n",
              "      <th>DocMedico</th>\n",
              "      <th>NombreMedico</th>\n",
              "      <th>Especialidad</th>\n",
              "      <th>Plan/Servicio</th>\n",
              "      <th>Sede</th>\n",
              "    </tr>\n",
              "  </thead>\n",
              "  <tbody>\n",
              "    <tr>\n",
              "      <th>0</th>\n",
              "      <td>26720</td>\n",
              "      <td>41453437</td>\n",
              "      <td>30/09/1949</td>\n",
              "      <td>72</td>\n",
              "      <td>F</td>\n",
              "      <td>BOGOTÁ D.C.</td>\n",
              "      <td>(OSTEO)ARTROSIS PRIMARIAGENERALIZADA</td>\n",
              "      <td>M150</td>\n",
              "      <td>PLAN PARTICULAR</td>\n",
              "      <td>Particular</td>\n",
              "      <td>2020-03-19</td>\n",
              "      <td>2020-03-19</td>\n",
              "      <td>fm001</td>\n",
              "      <td>1</td>\n",
              "      <td>53013811</td>\n",
              "      <td>LENIS  RIVERA</td>\n",
              "      <td>Algesiólogo</td>\n",
              "      <td>Consulta Dolor y Cuidados Paliativos</td>\n",
              "      <td>ZERENIA</td>\n",
              "    </tr>\n",
              "    <tr>\n",
              "      <th>1</th>\n",
              "      <td>26793</td>\n",
              "      <td>13352962</td>\n",
              "      <td>10/11/1960</td>\n",
              "      <td>61</td>\n",
              "      <td>M</td>\n",
              "      <td>BOGOTÁ D.C.</td>\n",
              "      <td>TRASTORNO DE DISCO LUMBAR YOTROS, CON RADICULO...</td>\n",
              "      <td>M511</td>\n",
              "      <td>PLAN PARTICULAR</td>\n",
              "      <td>Particular</td>\n",
              "      <td>2020-03-19</td>\n",
              "      <td>2020-03-19</td>\n",
              "      <td>fm001</td>\n",
              "      <td>1</td>\n",
              "      <td>53013811</td>\n",
              "      <td>LENIS  RIVERA</td>\n",
              "      <td>Algesiólogo</td>\n",
              "      <td>Consulta Dolor y Cuidados Paliativos</td>\n",
              "      <td>ZERENIA</td>\n",
              "    </tr>\n",
              "    <tr>\n",
              "      <th>2</th>\n",
              "      <td>26806</td>\n",
              "      <td>390646</td>\n",
              "      <td>1/08/1934</td>\n",
              "      <td>87</td>\n",
              "      <td>M</td>\n",
              "      <td>BOGOTÁ D.C.</td>\n",
              "      <td>NEURALGIA POSTHERPES ZOSTER(B02.2†)</td>\n",
              "      <td>G530</td>\n",
              "      <td>PLAN PARTICULAR</td>\n",
              "      <td>Particular</td>\n",
              "      <td>2020-03-19</td>\n",
              "      <td>2020-03-19</td>\n",
              "      <td>fm001</td>\n",
              "      <td>1</td>\n",
              "      <td>53013811</td>\n",
              "      <td>LENIS  RIVERA</td>\n",
              "      <td>Algesiólogo</td>\n",
              "      <td>Consulta Dolor y Cuidados Paliativos</td>\n",
              "      <td>ZERENIA</td>\n",
              "    </tr>\n",
              "    <tr>\n",
              "      <th>3</th>\n",
              "      <td>26928</td>\n",
              "      <td>19059029</td>\n",
              "      <td>13/09/1948</td>\n",
              "      <td>73</td>\n",
              "      <td>M</td>\n",
              "      <td>BOGOTÁ D.C.</td>\n",
              "      <td>NaN</td>\n",
              "      <td>NaN</td>\n",
              "      <td>PLAN PARTICULAR</td>\n",
              "      <td>Particular</td>\n",
              "      <td>2020-03-19</td>\n",
              "      <td>2020-03-19</td>\n",
              "      <td>fm001</td>\n",
              "      <td>1</td>\n",
              "      <td>53007921</td>\n",
              "      <td>XIOMARA  GARCIA</td>\n",
              "      <td>Neurologia</td>\n",
              "      <td>Neurologia</td>\n",
              "      <td>ZERENIA</td>\n",
              "    </tr>\n",
              "    <tr>\n",
              "      <th>4</th>\n",
              "      <td>26846</td>\n",
              "      <td>41595666</td>\n",
              "      <td>20/09/1953</td>\n",
              "      <td>68</td>\n",
              "      <td>F</td>\n",
              "      <td>CAJICÁ</td>\n",
              "      <td>NaN</td>\n",
              "      <td>NaN</td>\n",
              "      <td>PLAN PARTICULAR</td>\n",
              "      <td>Particular</td>\n",
              "      <td>2020-03-19</td>\n",
              "      <td>2020-03-19</td>\n",
              "      <td>fm001</td>\n",
              "      <td>1</td>\n",
              "      <td>53007921</td>\n",
              "      <td>XIOMARA  GARCIA</td>\n",
              "      <td>Neurologia</td>\n",
              "      <td>Neurologia</td>\n",
              "      <td>ZERENIA</td>\n",
              "    </tr>\n",
              "  </tbody>\n",
              "</table>\n",
              "</div>"
            ],
            "text/plain": [
              "   Ingreso DocPaciente  ...                         Plan/Servicio     Sede\n",
              "0    26720    41453437  ...  Consulta Dolor y Cuidados Paliativos  ZERENIA\n",
              "1    26793    13352962  ...  Consulta Dolor y Cuidados Paliativos  ZERENIA\n",
              "2    26806      390646  ...  Consulta Dolor y Cuidados Paliativos  ZERENIA\n",
              "3    26928    19059029  ...                            Neurologia  ZERENIA\n",
              "4    26846    41595666  ...                            Neurologia  ZERENIA\n",
              "\n",
              "[5 rows x 19 columns]"
            ]
          },
          "metadata": {},
          "execution_count": 3
        }
      ]
    },
    {
      "cell_type": "code",
      "metadata": {
        "id": "Dh7XFg3-rhah",
        "colab": {
          "base_uri": "https://localhost:8080/",
          "height": 206
        },
        "outputId": "43c30310-7d4c-4c9c-c1c7-1cf3dd39e13f"
      },
      "source": [
        "# check sales df\n",
        "df_sales.head()"
      ],
      "execution_count": 4,
      "outputs": [
        {
          "output_type": "execute_result",
          "data": {
            "text/html": [
              "<div>\n",
              "<style scoped>\n",
              "    .dataframe tbody tr th:only-of-type {\n",
              "        vertical-align: middle;\n",
              "    }\n",
              "\n",
              "    .dataframe tbody tr th {\n",
              "        vertical-align: top;\n",
              "    }\n",
              "\n",
              "    .dataframe thead th {\n",
              "        text-align: right;\n",
              "    }\n",
              "</style>\n",
              "<table border=\"1\" class=\"dataframe\">\n",
              "  <thead>\n",
              "    <tr style=\"text-align: right;\">\n",
              "      <th></th>\n",
              "      <th>ingreso</th>\n",
              "      <th>cedula</th>\n",
              "      <th>fecha_oc</th>\n",
              "    </tr>\n",
              "  </thead>\n",
              "  <tbody>\n",
              "    <tr>\n",
              "      <th>0</th>\n",
              "      <td>26806</td>\n",
              "      <td>390646</td>\n",
              "      <td>19/03/2020</td>\n",
              "    </tr>\n",
              "    <tr>\n",
              "      <th>1</th>\n",
              "      <td>26793</td>\n",
              "      <td>13352962</td>\n",
              "      <td>19/03/2020</td>\n",
              "    </tr>\n",
              "    <tr>\n",
              "      <th>2</th>\n",
              "      <td>26928</td>\n",
              "      <td>19059029</td>\n",
              "      <td>19/03/2020</td>\n",
              "    </tr>\n",
              "    <tr>\n",
              "      <th>3</th>\n",
              "      <td>26891</td>\n",
              "      <td>31259698</td>\n",
              "      <td>19/03/2020</td>\n",
              "    </tr>\n",
              "    <tr>\n",
              "      <th>4</th>\n",
              "      <td>26720</td>\n",
              "      <td>41453437</td>\n",
              "      <td>19/03/2020</td>\n",
              "    </tr>\n",
              "  </tbody>\n",
              "</table>\n",
              "</div>"
            ],
            "text/plain": [
              "   ingreso    cedula    fecha_oc\n",
              "0    26806    390646  19/03/2020\n",
              "1    26793  13352962  19/03/2020\n",
              "2    26928  19059029  19/03/2020\n",
              "3    26891  31259698  19/03/2020\n",
              "4    26720  41453437  19/03/2020"
            ]
          },
          "metadata": {},
          "execution_count": 4
        }
      ]
    },
    {
      "cell_type": "markdown",
      "metadata": {
        "id": "Rvqdvrzpv2jY"
      },
      "source": [
        "![purple-divider](https://user-images.githubusercontent.com/7065401/52071927-c1cd7100-2562-11e9-908a-dde91ba14e59.png)"
      ]
    },
    {
      "cell_type": "markdown",
      "metadata": {
        "id": "d02slko9v77v"
      },
      "source": [
        "## Procedures FM"
      ]
    },
    {
      "cell_type": "code",
      "metadata": {
        "id": "Xid2wi95wAEG",
        "colab": {
          "base_uri": "https://localhost:8080/",
          "height": 382
        },
        "outputId": "31eb1610-973e-4a9c-817a-79e1703dcc81"
      },
      "source": [
        "# procedures df\n",
        "df_procedures.head()"
      ],
      "execution_count": 5,
      "outputs": [
        {
          "output_type": "execute_result",
          "data": {
            "text/html": [
              "<div>\n",
              "<style scoped>\n",
              "    .dataframe tbody tr th:only-of-type {\n",
              "        vertical-align: middle;\n",
              "    }\n",
              "\n",
              "    .dataframe tbody tr th {\n",
              "        vertical-align: top;\n",
              "    }\n",
              "\n",
              "    .dataframe thead th {\n",
              "        text-align: right;\n",
              "    }\n",
              "</style>\n",
              "<table border=\"1\" class=\"dataframe\">\n",
              "  <thead>\n",
              "    <tr style=\"text-align: right;\">\n",
              "      <th></th>\n",
              "      <th>Ingreso</th>\n",
              "      <th>DocPaciente</th>\n",
              "      <th>Fecha Nacimiento</th>\n",
              "      <th>Edad</th>\n",
              "      <th>Sexo</th>\n",
              "      <th>CiudadMunicipio</th>\n",
              "      <th>Diagnostico</th>\n",
              "      <th>CodigoDiagnostico</th>\n",
              "      <th>Plan</th>\n",
              "      <th>Tipo Plan</th>\n",
              "      <th>FechaIngreso</th>\n",
              "      <th>FechaFormulacion</th>\n",
              "      <th>CodProducto</th>\n",
              "      <th>Cantidad</th>\n",
              "      <th>DocMedico</th>\n",
              "      <th>NombreMedico</th>\n",
              "      <th>Especialidad</th>\n",
              "      <th>Plan/Servicio</th>\n",
              "      <th>Sede</th>\n",
              "    </tr>\n",
              "  </thead>\n",
              "  <tbody>\n",
              "    <tr>\n",
              "      <th>0</th>\n",
              "      <td>26720</td>\n",
              "      <td>41453437</td>\n",
              "      <td>30/09/1949</td>\n",
              "      <td>72</td>\n",
              "      <td>F</td>\n",
              "      <td>BOGOTÁ D.C.</td>\n",
              "      <td>(OSTEO)ARTROSIS PRIMARIAGENERALIZADA</td>\n",
              "      <td>M150</td>\n",
              "      <td>PLAN PARTICULAR</td>\n",
              "      <td>Particular</td>\n",
              "      <td>2020-03-19</td>\n",
              "      <td>2020-03-19</td>\n",
              "      <td>fm001</td>\n",
              "      <td>1</td>\n",
              "      <td>53013811</td>\n",
              "      <td>LENIS  RIVERA</td>\n",
              "      <td>Algesiólogo</td>\n",
              "      <td>Consulta Dolor y Cuidados Paliativos</td>\n",
              "      <td>ZERENIA</td>\n",
              "    </tr>\n",
              "    <tr>\n",
              "      <th>1</th>\n",
              "      <td>26793</td>\n",
              "      <td>13352962</td>\n",
              "      <td>10/11/1960</td>\n",
              "      <td>61</td>\n",
              "      <td>M</td>\n",
              "      <td>BOGOTÁ D.C.</td>\n",
              "      <td>TRASTORNO DE DISCO LUMBAR YOTROS, CON RADICULO...</td>\n",
              "      <td>M511</td>\n",
              "      <td>PLAN PARTICULAR</td>\n",
              "      <td>Particular</td>\n",
              "      <td>2020-03-19</td>\n",
              "      <td>2020-03-19</td>\n",
              "      <td>fm001</td>\n",
              "      <td>1</td>\n",
              "      <td>53013811</td>\n",
              "      <td>LENIS  RIVERA</td>\n",
              "      <td>Algesiólogo</td>\n",
              "      <td>Consulta Dolor y Cuidados Paliativos</td>\n",
              "      <td>ZERENIA</td>\n",
              "    </tr>\n",
              "    <tr>\n",
              "      <th>2</th>\n",
              "      <td>26806</td>\n",
              "      <td>390646</td>\n",
              "      <td>1/08/1934</td>\n",
              "      <td>87</td>\n",
              "      <td>M</td>\n",
              "      <td>BOGOTÁ D.C.</td>\n",
              "      <td>NEURALGIA POSTHERPES ZOSTER(B02.2†)</td>\n",
              "      <td>G530</td>\n",
              "      <td>PLAN PARTICULAR</td>\n",
              "      <td>Particular</td>\n",
              "      <td>2020-03-19</td>\n",
              "      <td>2020-03-19</td>\n",
              "      <td>fm001</td>\n",
              "      <td>1</td>\n",
              "      <td>53013811</td>\n",
              "      <td>LENIS  RIVERA</td>\n",
              "      <td>Algesiólogo</td>\n",
              "      <td>Consulta Dolor y Cuidados Paliativos</td>\n",
              "      <td>ZERENIA</td>\n",
              "    </tr>\n",
              "    <tr>\n",
              "      <th>3</th>\n",
              "      <td>26928</td>\n",
              "      <td>19059029</td>\n",
              "      <td>13/09/1948</td>\n",
              "      <td>73</td>\n",
              "      <td>M</td>\n",
              "      <td>BOGOTÁ D.C.</td>\n",
              "      <td>NaN</td>\n",
              "      <td>NaN</td>\n",
              "      <td>PLAN PARTICULAR</td>\n",
              "      <td>Particular</td>\n",
              "      <td>2020-03-19</td>\n",
              "      <td>2020-03-19</td>\n",
              "      <td>fm001</td>\n",
              "      <td>1</td>\n",
              "      <td>53007921</td>\n",
              "      <td>XIOMARA  GARCIA</td>\n",
              "      <td>Neurologia</td>\n",
              "      <td>Neurologia</td>\n",
              "      <td>ZERENIA</td>\n",
              "    </tr>\n",
              "    <tr>\n",
              "      <th>4</th>\n",
              "      <td>26846</td>\n",
              "      <td>41595666</td>\n",
              "      <td>20/09/1953</td>\n",
              "      <td>68</td>\n",
              "      <td>F</td>\n",
              "      <td>CAJICÁ</td>\n",
              "      <td>NaN</td>\n",
              "      <td>NaN</td>\n",
              "      <td>PLAN PARTICULAR</td>\n",
              "      <td>Particular</td>\n",
              "      <td>2020-03-19</td>\n",
              "      <td>2020-03-19</td>\n",
              "      <td>fm001</td>\n",
              "      <td>1</td>\n",
              "      <td>53007921</td>\n",
              "      <td>XIOMARA  GARCIA</td>\n",
              "      <td>Neurologia</td>\n",
              "      <td>Neurologia</td>\n",
              "      <td>ZERENIA</td>\n",
              "    </tr>\n",
              "  </tbody>\n",
              "</table>\n",
              "</div>"
            ],
            "text/plain": [
              "   Ingreso DocPaciente  ...                         Plan/Servicio     Sede\n",
              "0    26720    41453437  ...  Consulta Dolor y Cuidados Paliativos  ZERENIA\n",
              "1    26793    13352962  ...  Consulta Dolor y Cuidados Paliativos  ZERENIA\n",
              "2    26806      390646  ...  Consulta Dolor y Cuidados Paliativos  ZERENIA\n",
              "3    26928    19059029  ...                            Neurologia  ZERENIA\n",
              "4    26846    41595666  ...                            Neurologia  ZERENIA\n",
              "\n",
              "[5 rows x 19 columns]"
            ]
          },
          "metadata": {},
          "execution_count": 5
        }
      ]
    },
    {
      "cell_type": "code",
      "metadata": {
        "colab": {
          "base_uri": "https://localhost:8080/"
        },
        "id": "M3HmYQ8GP_Ca",
        "outputId": "a5557022-ee40-4870-8e68-3052760fa88b"
      },
      "source": [
        "# check shape of df\n",
        "df_procedures.shape"
      ],
      "execution_count": 6,
      "outputs": [
        {
          "output_type": "execute_result",
          "data": {
            "text/plain": [
              "(35187, 19)"
            ]
          },
          "metadata": {},
          "execution_count": 6
        }
      ]
    },
    {
      "cell_type": "code",
      "metadata": {
        "colab": {
          "base_uri": "https://localhost:8080/"
        },
        "id": "j0JWwTRgQG4h",
        "outputId": "0463a3e0-b7ee-454c-ef3b-f36d428fe4ce"
      },
      "source": [
        "# check column types\n",
        "df_procedures.dtypes"
      ],
      "execution_count": 7,
      "outputs": [
        {
          "output_type": "execute_result",
          "data": {
            "text/plain": [
              "Ingreso               int64\n",
              "DocPaciente          object\n",
              "Fecha Nacimiento     object\n",
              "Edad                  int64\n",
              "Sexo                 object\n",
              "CiudadMunicipio      object\n",
              "Diagnostico          object\n",
              "CodigoDiagnostico    object\n",
              "Plan                 object\n",
              "Tipo Plan            object\n",
              "FechaIngreso         object\n",
              "FechaFormulacion     object\n",
              "CodProducto          object\n",
              "Cantidad              int64\n",
              "DocMedico             int64\n",
              "NombreMedico         object\n",
              "Especialidad         object\n",
              "Plan/Servicio        object\n",
              "Sede                 object\n",
              "dtype: object"
            ]
          },
          "metadata": {},
          "execution_count": 7
        }
      ]
    },
    {
      "cell_type": "code",
      "metadata": {
        "colab": {
          "base_uri": "https://localhost:8080/",
          "height": 511
        },
        "id": "1vKErZ2eQPbg",
        "outputId": "85b3a7ee-a053-4bae-db7f-c2dfcf5529fd"
      },
      "source": [
        "# check for missing values\n",
        "import missingno as msg\n",
        "\n",
        "msg.matrix(df_procedures, figsize=(12, 6))"
      ],
      "execution_count": 8,
      "outputs": [
        {
          "output_type": "execute_result",
          "data": {
            "text/plain": [
              "<matplotlib.axes._subplots.AxesSubplot at 0x7f87336ab410>"
            ]
          },
          "metadata": {},
          "execution_count": 8
        },
        {
          "output_type": "display_data",
          "data": {
            "image/png": "[encoded data removed]",
            "text/plain": [
              "<Figure size 864x432 with 2 Axes>"
            ]
          },
          "metadata": {
            "needs_background": "light"
          }
        }
      ]
    },
    {
      "cell_type": "code",
      "metadata": {
        "colab": {
          "base_uri": "https://localhost:8080/"
        },
        "id": "zqd1byUzQet-",
        "outputId": "7f38a165-a3ee-4670-dfdf-039963bf6c1a"
      },
      "source": [
        "# find number of missing values in 'Diagnostico'\n",
        "\n",
        "na_diagnostic = df_procedures['Diagnostico'].isna().sum()\n",
        "na_city = df_procedures['CiudadMunicipio'].isna().sum()\n",
        "\n",
        "print(f'Missing Values in Diagnostico: {na_diagnostic}')\n",
        "print(f'Missing values in CiudadMunicipio: {na_city}')"
      ],
      "execution_count": 9,
      "outputs": [
        {
          "output_type": "stream",
          "name": "stdout",
          "text": [
            "Missing Values in Diagnostico: 6426\n",
            "Missing values in CiudadMunicipio: 20\n"
          ]
        }
      ]
    },
    {
      "cell_type": "code",
      "metadata": {
        "colab": {
          "base_uri": "https://localhost:8080/"
        },
        "id": "SJrYAEDBRQY3",
        "outputId": "c1ffa237-b73d-47b5-c5d6-91e34ac81939"
      },
      "source": [
        "# drop na values of CiudadMunicipio\n",
        "df_procedures = df_procedures.dropna(subset=['CiudadMunicipio'])\n",
        "\n",
        "# check shape\n",
        "df_procedures.shape"
      ],
      "execution_count": 10,
      "outputs": [
        {
          "output_type": "execute_result",
          "data": {
            "text/plain": [
              "(35167, 19)"
            ]
          },
          "metadata": {},
          "execution_count": 10
        }
      ]
    },
    {
      "cell_type": "markdown",
      "metadata": {
        "id": "9XxpgYVwYEK5"
      },
      "source": [
        "![green-divider](https://user-images.githubusercontent.com/7065401/52071924-c003ad80-2562-11e9-8297-1c6595f8a7ff.png)"
      ]
    },
    {
      "cell_type": "markdown",
      "metadata": {
        "id": "GxA9ms-XYKhA"
      },
      "source": [
        "### GroupBy of Relevant Features\n"
      ]
    },
    {
      "cell_type": "code",
      "metadata": {
        "colab": {
          "base_uri": "https://localhost:8080/",
          "height": 300
        },
        "id": "IMslvsgkqnu6",
        "outputId": "5bd04ee6-9ccd-41ce-f8af-07dae3cd801e"
      },
      "source": [
        "# descriptive statistics\n",
        "df_procedures.describe()"
      ],
      "execution_count": 11,
      "outputs": [
        {
          "output_type": "execute_result",
          "data": {
            "text/html": [
              "<div>\n",
              "<style scoped>\n",
              "    .dataframe tbody tr th:only-of-type {\n",
              "        vertical-align: middle;\n",
              "    }\n",
              "\n",
              "    .dataframe tbody tr th {\n",
              "        vertical-align: top;\n",
              "    }\n",
              "\n",
              "    .dataframe thead th {\n",
              "        text-align: right;\n",
              "    }\n",
              "</style>\n",
              "<table border=\"1\" class=\"dataframe\">\n",
              "  <thead>\n",
              "    <tr style=\"text-align: right;\">\n",
              "      <th></th>\n",
              "      <th>Ingreso</th>\n",
              "      <th>Edad</th>\n",
              "      <th>Cantidad</th>\n",
              "      <th>DocMedico</th>\n",
              "    </tr>\n",
              "  </thead>\n",
              "  <tbody>\n",
              "    <tr>\n",
              "      <th>count</th>\n",
              "      <td>35167.000000</td>\n",
              "      <td>35167.000000</td>\n",
              "      <td>35167.000000</td>\n",
              "      <td>3.516700e+04</td>\n",
              "    </tr>\n",
              "    <tr>\n",
              "      <th>mean</th>\n",
              "      <td>152045.264396</td>\n",
              "      <td>58.010351</td>\n",
              "      <td>1.349362</td>\n",
              "      <td>3.059599e+08</td>\n",
              "    </tr>\n",
              "    <tr>\n",
              "      <th>std</th>\n",
              "      <td>47766.591744</td>\n",
              "      <td>15.819550</td>\n",
              "      <td>0.754741</td>\n",
              "      <td>4.446890e+08</td>\n",
              "    </tr>\n",
              "    <tr>\n",
              "      <th>min</th>\n",
              "      <td>26720.000000</td>\n",
              "      <td>1.000000</td>\n",
              "      <td>1.000000</td>\n",
              "      <td>1.374997e+07</td>\n",
              "    </tr>\n",
              "    <tr>\n",
              "      <th>25%</th>\n",
              "      <td>117779.500000</td>\n",
              "      <td>48.000000</td>\n",
              "      <td>1.000000</td>\n",
              "      <td>1.906250e+07</td>\n",
              "    </tr>\n",
              "    <tr>\n",
              "      <th>50%</th>\n",
              "      <td>157990.000000</td>\n",
              "      <td>58.000000</td>\n",
              "      <td>1.000000</td>\n",
              "      <td>7.226080e+07</td>\n",
              "    </tr>\n",
              "    <tr>\n",
              "      <th>75%</th>\n",
              "      <td>191695.500000</td>\n",
              "      <td>69.000000</td>\n",
              "      <td>2.000000</td>\n",
              "      <td>1.017171e+09</td>\n",
              "    </tr>\n",
              "    <tr>\n",
              "      <th>max</th>\n",
              "      <td>225591.000000</td>\n",
              "      <td>101.000000</td>\n",
              "      <td>30.000000</td>\n",
              "      <td>1.235245e+09</td>\n",
              "    </tr>\n",
              "  </tbody>\n",
              "</table>\n",
              "</div>"
            ],
            "text/plain": [
              "             Ingreso          Edad      Cantidad     DocMedico\n",
              "count   35167.000000  35167.000000  35167.000000  3.516700e+04\n",
              "mean   152045.264396     58.010351      1.349362  3.059599e+08\n",
              "std     47766.591744     15.819550      0.754741  4.446890e+08\n",
              "min     26720.000000      1.000000      1.000000  1.374997e+07\n",
              "25%    117779.500000     48.000000      1.000000  1.906250e+07\n",
              "50%    157990.000000     58.000000      1.000000  7.226080e+07\n",
              "75%    191695.500000     69.000000      2.000000  1.017171e+09\n",
              "max    225591.000000    101.000000     30.000000  1.235245e+09"
            ]
          },
          "metadata": {},
          "execution_count": 11
        }
      ]
    },
    {
      "cell_type": "markdown",
      "metadata": {
        "id": "qXAB52j9mNUI"
      },
      "source": [
        "#### Number of FMs Prescriptions by Site"
      ]
    },
    {
      "cell_type": "code",
      "metadata": {
        "colab": {
          "base_uri": "https://localhost:8080/",
          "height": 426
        },
        "id": "pEDGwm8tYOWB",
        "outputId": "1187cc66-ac10-4487-eb0d-a20c55a45fff"
      },
      "source": [
        "# FM procedures by sede\n",
        "fm_proced_sede = df_procedures.groupby(['Sede']).Cantidad.sum().reset_index()\n",
        "\n",
        "fm_proced_sede['%_Prescripciones'] = (fm_proced_sede.Cantidad / fm_proced_sede.Cantidad.sum()) * 100\n",
        "fm_proced_sede"
      ],
      "execution_count": 12,
      "outputs": [
        {
          "output_type": "execute_result",
          "data": {
            "text/html": [
              "<div>\n",
              "<style scoped>\n",
              "    .dataframe tbody tr th:only-of-type {\n",
              "        vertical-align: middle;\n",
              "    }\n",
              "\n",
              "    .dataframe tbody tr th {\n",
              "        vertical-align: top;\n",
              "    }\n",
              "\n",
              "    .dataframe thead th {\n",
              "        text-align: right;\n",
              "    }\n",
              "</style>\n",
              "<table border=\"1\" class=\"dataframe\">\n",
              "  <thead>\n",
              "    <tr style=\"text-align: right;\">\n",
              "      <th></th>\n",
              "      <th>Sede</th>\n",
              "      <th>Cantidad</th>\n",
              "      <th>%_Prescripciones</th>\n",
              "    </tr>\n",
              "  </thead>\n",
              "  <tbody>\n",
              "    <tr>\n",
              "      <th>0</th>\n",
              "      <td>COUNTRY</td>\n",
              "      <td>3952</td>\n",
              "      <td>8.328241</td>\n",
              "    </tr>\n",
              "    <tr>\n",
              "      <th>1</th>\n",
              "      <td>PARKWAY</td>\n",
              "      <td>922</td>\n",
              "      <td>1.942975</td>\n",
              "    </tr>\n",
              "    <tr>\n",
              "      <th>2</th>\n",
              "      <td>ZERENIA</td>\n",
              "      <td>41349</td>\n",
              "      <td>87.136746</td>\n",
              "    </tr>\n",
              "    <tr>\n",
              "      <th>3</th>\n",
              "      <td>ZERENIA  - IBAGUE</td>\n",
              "      <td>106</td>\n",
              "      <td>0.223379</td>\n",
              "    </tr>\n",
              "    <tr>\n",
              "      <th>4</th>\n",
              "      <td>ZERENIA  - MEDELLÍN</td>\n",
              "      <td>420</td>\n",
              "      <td>0.885086</td>\n",
              "    </tr>\n",
              "    <tr>\n",
              "      <th>5</th>\n",
              "      <td>ZERENIA - ARMENIA</td>\n",
              "      <td>61</td>\n",
              "      <td>0.128548</td>\n",
              "    </tr>\n",
              "    <tr>\n",
              "      <th>6</th>\n",
              "      <td>ZERENIA - BARRANQUILLA</td>\n",
              "      <td>89</td>\n",
              "      <td>0.187554</td>\n",
              "    </tr>\n",
              "    <tr>\n",
              "      <th>7</th>\n",
              "      <td>ZERENIA - BUCARAMANGA</td>\n",
              "      <td>177</td>\n",
              "      <td>0.373001</td>\n",
              "    </tr>\n",
              "    <tr>\n",
              "      <th>8</th>\n",
              "      <td>ZERENIA - CALI</td>\n",
              "      <td>256</td>\n",
              "      <td>0.539481</td>\n",
              "    </tr>\n",
              "    <tr>\n",
              "      <th>9</th>\n",
              "      <td>ZERENIA - MANIZALES</td>\n",
              "      <td>3</td>\n",
              "      <td>0.006322</td>\n",
              "    </tr>\n",
              "    <tr>\n",
              "      <th>10</th>\n",
              "      <td>ZERENIA - PEREIRA</td>\n",
              "      <td>114</td>\n",
              "      <td>0.240238</td>\n",
              "    </tr>\n",
              "    <tr>\n",
              "      <th>11</th>\n",
              "      <td>ZERENIA - VALLEDUPAR</td>\n",
              "      <td>4</td>\n",
              "      <td>0.008429</td>\n",
              "    </tr>\n",
              "  </tbody>\n",
              "</table>\n",
              "</div>"
            ],
            "text/plain": [
              "                      Sede  Cantidad  %_Prescripciones\n",
              "0                  COUNTRY      3952          8.328241\n",
              "1                  PARKWAY       922          1.942975\n",
              "2                  ZERENIA     41349         87.136746\n",
              "3       ZERENIA  - IBAGUE        106          0.223379\n",
              "4      ZERENIA  - MEDELLÍN       420          0.885086\n",
              "5        ZERENIA - ARMENIA        61          0.128548\n",
              "6   ZERENIA - BARRANQUILLA        89          0.187554\n",
              "7    ZERENIA - BUCARAMANGA       177          0.373001\n",
              "8           ZERENIA - CALI       256          0.539481\n",
              "9      ZERENIA - MANIZALES         3          0.006322\n",
              "10       ZERENIA - PEREIRA       114          0.240238\n",
              "11    ZERENIA - VALLEDUPAR         4          0.008429"
            ]
          },
          "metadata": {},
          "execution_count": 12
        }
      ]
    },
    {
      "cell_type": "markdown",
      "metadata": {
        "id": "uDcTdlDWma-C"
      },
      "source": [
        "is_Zerenia is a relevant feature since 87.13% of FMs prescribed come from this clinic"
      ]
    },
    {
      "cell_type": "code",
      "metadata": {
        "colab": {
          "base_uri": "https://localhost:8080/",
          "height": 479
        },
        "id": "E85gmbCjbLw3",
        "outputId": "d7a1af47-4205-4429-cf12-0ccf2cb20bea"
      },
      "source": [
        "# barplot of prescribed FMs per Sede\n",
        "\n",
        "f, ax = plt.subplots(figsize=(20,6))\n",
        "\n",
        "sns.barplot(x=fm_proced_sede.Sede, y=fm_proced_sede.Cantidad)\n",
        "# rotate x labels\n",
        "plt.xticks(rotation=45)\n",
        "plt.ylabel('Cantidad de FMs')\n",
        "\n",
        "plt.title('Cantidad de FMs Prescritas por Sede - Marzo 2020 a Septiembre 2021', pad=12)\n",
        "plt.show()"
      ],
      "execution_count": 13,
      "outputs": [
        {
          "output_type": "display_data",
          "data": {
            "image/png": "[encoded data removed]",
            "text/plain": [
              "<Figure size 1440x432 with 1 Axes>"
            ]
          },
          "metadata": {
            "needs_background": "light"
          }
        }
      ]
    },
    {
      "cell_type": "markdown",
      "metadata": {
        "id": "Ml2Bt2dNmVsR"
      },
      "source": [
        "![green-divider](https://user-images.githubusercontent.com/7065401/52071924-c003ad80-2562-11e9-8297-1c6595f8a7ff.png)"
      ]
    },
    {
      "cell_type": "markdown",
      "metadata": {
        "id": "TKdZN_vpnQzw"
      },
      "source": [
        "#### Number of FMs Prescribed by Sex"
      ]
    },
    {
      "cell_type": "code",
      "metadata": {
        "colab": {
          "base_uri": "https://localhost:8080/",
          "height": 143
        },
        "id": "kYQWM6AQZ9Eu",
        "outputId": "98734c72-547f-493e-c0c3-2414a5c9bfa3"
      },
      "source": [
        "# FM procedures by sexo\n",
        "fm_proced_sex = df_procedures.groupby(['Sexo']).Cantidad.sum().reset_index()\n",
        "\n",
        "fm_proced_sex['%_Prescripciones'] = (fm_proced_sex.Cantidad / fm_proced_sex.Cantidad.sum()) * 100\n",
        "fm_proced_sex"
      ],
      "execution_count": 14,
      "outputs": [
        {
          "output_type": "execute_result",
          "data": {
            "text/html": [
              "<div>\n",
              "<style scoped>\n",
              "    .dataframe tbody tr th:only-of-type {\n",
              "        vertical-align: middle;\n",
              "    }\n",
              "\n",
              "    .dataframe tbody tr th {\n",
              "        vertical-align: top;\n",
              "    }\n",
              "\n",
              "    .dataframe thead th {\n",
              "        text-align: right;\n",
              "    }\n",
              "</style>\n",
              "<table border=\"1\" class=\"dataframe\">\n",
              "  <thead>\n",
              "    <tr style=\"text-align: right;\">\n",
              "      <th></th>\n",
              "      <th>Sexo</th>\n",
              "      <th>Cantidad</th>\n",
              "      <th>%_Prescripciones</th>\n",
              "    </tr>\n",
              "  </thead>\n",
              "  <tbody>\n",
              "    <tr>\n",
              "      <th>0</th>\n",
              "      <td>F</td>\n",
              "      <td>33715</td>\n",
              "      <td>71.049249</td>\n",
              "    </tr>\n",
              "    <tr>\n",
              "      <th>1</th>\n",
              "      <td>I</td>\n",
              "      <td>1</td>\n",
              "      <td>0.002107</td>\n",
              "    </tr>\n",
              "    <tr>\n",
              "      <th>2</th>\n",
              "      <td>M</td>\n",
              "      <td>13737</td>\n",
              "      <td>28.948644</td>\n",
              "    </tr>\n",
              "  </tbody>\n",
              "</table>\n",
              "</div>"
            ],
            "text/plain": [
              "  Sexo  Cantidad  %_Prescripciones\n",
              "0    F     33715         71.049249\n",
              "1    I         1          0.002107\n",
              "2    M     13737         28.948644"
            ]
          },
          "metadata": {},
          "execution_count": 14
        }
      ]
    },
    {
      "cell_type": "markdown",
      "metadata": {
        "id": "3Ma1hQsRm5tj"
      },
      "source": [
        "The category 'I' of Sex is not going to be taken into account since Male(M) and Female(F) correspond to 99% of all patients prescribed "
      ]
    },
    {
      "cell_type": "code",
      "metadata": {
        "colab": {
          "base_uri": "https://localhost:8080/"
        },
        "id": "CZI-Kpz9luUN",
        "outputId": "7cede837-8199-4442-aa56-9048bfeeeb7b"
      },
      "source": [
        "# make dataframe without Sexo == I\n",
        "df_procedures = df_procedures[df_procedures['Sexo'] != 'I']\n",
        "\n",
        "df_procedures.Sexo.unique()"
      ],
      "execution_count": 15,
      "outputs": [
        {
          "output_type": "execute_result",
          "data": {
            "text/plain": [
              "array(['F', 'M'], dtype=object)"
            ]
          },
          "metadata": {},
          "execution_count": 15
        }
      ]
    },
    {
      "cell_type": "code",
      "metadata": {
        "colab": {
          "base_uri": "https://localhost:8080/",
          "height": 404
        },
        "id": "t_PFf3bOc10a",
        "outputId": "4d61d822-970b-451c-c8df-af55f371fe93"
      },
      "source": [
        "# barplot of prescribed FMs per Sexo\n",
        "\n",
        "f, ax = plt.subplots(figsize=(12, 6))\n",
        "\n",
        "sns.barplot(x=fm_proced_sex.Sexo, y=fm_proced_sex.Cantidad)\n",
        "plt.ylabel('Cantidad de FMs')\n",
        "\n",
        "plt.title('Cantidad de FMs Prescritas por Sexo - Marzo 2020 a Septiembre 2021')\n",
        "plt.show()"
      ],
      "execution_count": 16,
      "outputs": [
        {
          "output_type": "display_data",
          "data": {
            "image/png": "[encoded data removed]",
            "text/plain": [
              "<Figure size 864x432 with 1 Axes>"
            ]
          },
          "metadata": {
            "needs_background": "light"
          }
        }
      ]
    },
    {
      "cell_type": "markdown",
      "metadata": {
        "id": "HlAz4FIgnvpE"
      },
      "source": [
        "![green-divider](https://user-images.githubusercontent.com/7065401/52071924-c003ad80-2562-11e9-8297-1c6595f8a7ff.png)"
      ]
    },
    {
      "cell_type": "markdown",
      "metadata": {
        "id": "lHm-HBl_oxND"
      },
      "source": [
        "#### Number of FMs Prescribed by Service/Plan"
      ]
    },
    {
      "cell_type": "code",
      "metadata": {
        "colab": {
          "base_uri": "https://localhost:8080/",
          "height": 645
        },
        "id": "LC8nBGqgn1MJ",
        "outputId": "d9550ec1-1ae4-4062-e94f-d3a59cff7c31"
      },
      "source": [
        "# FMs prescribed by Plan/Servicio\n",
        "fm_proced_plan = df_procedures.groupby(['Plan/Servicio']).Cantidad.sum().reset_index()\n",
        "\n",
        "fm_proced_plan['%'] = (fm_proced_plan.Cantidad / fm_proced_plan.Cantidad.sum()) * 100\n",
        "fm_proced_plan"
      ],
      "execution_count": 17,
      "outputs": [
        {
          "output_type": "execute_result",
          "data": {
            "text/html": [
              "<div>\n",
              "<style scoped>\n",
              "    .dataframe tbody tr th:only-of-type {\n",
              "        vertical-align: middle;\n",
              "    }\n",
              "\n",
              "    .dataframe tbody tr th {\n",
              "        vertical-align: top;\n",
              "    }\n",
              "\n",
              "    .dataframe thead th {\n",
              "        text-align: right;\n",
              "    }\n",
              "</style>\n",
              "<table border=\"1\" class=\"dataframe\">\n",
              "  <thead>\n",
              "    <tr style=\"text-align: right;\">\n",
              "      <th></th>\n",
              "      <th>Plan/Servicio</th>\n",
              "      <th>Cantidad</th>\n",
              "      <th>%</th>\n",
              "    </tr>\n",
              "  </thead>\n",
              "  <tbody>\n",
              "    <tr>\n",
              "      <th>0</th>\n",
              "      <td>Cannabis Medicinal</td>\n",
              "      <td>3068</td>\n",
              "      <td>6.465481</td>\n",
              "    </tr>\n",
              "    <tr>\n",
              "      <th>1</th>\n",
              "      <td>Consulta Dolor y Cuidados Paliativos</td>\n",
              "      <td>34436</td>\n",
              "      <td>72.570176</td>\n",
              "    </tr>\n",
              "    <tr>\n",
              "      <th>2</th>\n",
              "      <td>Dolor y Cuidados Paliativos Bloqueos</td>\n",
              "      <td>14</td>\n",
              "      <td>0.029503</td>\n",
              "    </tr>\n",
              "    <tr>\n",
              "      <th>3</th>\n",
              "      <td>Dolor y Cuidados Paliativos Lisis</td>\n",
              "      <td>1</td>\n",
              "      <td>0.002107</td>\n",
              "    </tr>\n",
              "    <tr>\n",
              "      <th>4</th>\n",
              "      <td>Fisioterapia</td>\n",
              "      <td>1</td>\n",
              "      <td>0.002107</td>\n",
              "    </tr>\n",
              "    <tr>\n",
              "      <th>5</th>\n",
              "      <td>Flete Formula Magistral</td>\n",
              "      <td>8</td>\n",
              "      <td>0.016859</td>\n",
              "    </tr>\n",
              "    <tr>\n",
              "      <th>6</th>\n",
              "      <td>Juntas Médicas</td>\n",
              "      <td>119</td>\n",
              "      <td>0.250780</td>\n",
              "    </tr>\n",
              "    <tr>\n",
              "      <th>7</th>\n",
              "      <td>Medicina Fisica y Rehabilitacion</td>\n",
              "      <td>6</td>\n",
              "      <td>0.012644</td>\n",
              "    </tr>\n",
              "    <tr>\n",
              "      <th>8</th>\n",
              "      <td>Medicina General</td>\n",
              "      <td>1</td>\n",
              "      <td>0.002107</td>\n",
              "    </tr>\n",
              "    <tr>\n",
              "      <th>9</th>\n",
              "      <td>Medicina General.</td>\n",
              "      <td>1495</td>\n",
              "      <td>3.150552</td>\n",
              "    </tr>\n",
              "    <tr>\n",
              "      <th>10</th>\n",
              "      <td>Medicina Interna</td>\n",
              "      <td>1</td>\n",
              "      <td>0.002107</td>\n",
              "    </tr>\n",
              "    <tr>\n",
              "      <th>11</th>\n",
              "      <td>Neurocirugia</td>\n",
              "      <td>233</td>\n",
              "      <td>0.491023</td>\n",
              "    </tr>\n",
              "    <tr>\n",
              "      <th>12</th>\n",
              "      <td>Neurologia</td>\n",
              "      <td>1697</td>\n",
              "      <td>3.576245</td>\n",
              "    </tr>\n",
              "    <tr>\n",
              "      <th>13</th>\n",
              "      <td>Neurología  Epilepsia</td>\n",
              "      <td>161</td>\n",
              "      <td>0.339290</td>\n",
              "    </tr>\n",
              "    <tr>\n",
              "      <th>14</th>\n",
              "      <td>Neurología  Movimientos Anormales</td>\n",
              "      <td>534</td>\n",
              "      <td>1.125348</td>\n",
              "    </tr>\n",
              "    <tr>\n",
              "      <th>15</th>\n",
              "      <td>Neurología Programación y Re programación de E...</td>\n",
              "      <td>30</td>\n",
              "      <td>0.063222</td>\n",
              "    </tr>\n",
              "    <tr>\n",
              "      <th>16</th>\n",
              "      <td>Neuropediatria</td>\n",
              "      <td>150</td>\n",
              "      <td>0.316109</td>\n",
              "    </tr>\n",
              "    <tr>\n",
              "      <th>17</th>\n",
              "      <td>Psiquiatria</td>\n",
              "      <td>5495</td>\n",
              "      <td>11.580123</td>\n",
              "    </tr>\n",
              "    <tr>\n",
              "      <th>18</th>\n",
              "      <td>Psiquiatria o Unidad de Salud Mental</td>\n",
              "      <td>2</td>\n",
              "      <td>0.004215</td>\n",
              "    </tr>\n",
              "  </tbody>\n",
              "</table>\n",
              "</div>"
            ],
            "text/plain": [
              "                                        Plan/Servicio  Cantidad          %\n",
              "0                                  Cannabis Medicinal      3068   6.465481\n",
              "1                Consulta Dolor y Cuidados Paliativos     34436  72.570176\n",
              "2                Dolor y Cuidados Paliativos Bloqueos        14   0.029503\n",
              "3                  Dolor y Cuidados Paliativos Lisis          1   0.002107\n",
              "4                                        Fisioterapia         1   0.002107\n",
              "5                             Flete Formula Magistral         8   0.016859\n",
              "6                                      Juntas Médicas       119   0.250780\n",
              "7                    Medicina Fisica y Rehabilitacion         6   0.012644\n",
              "8                                    Medicina General         1   0.002107\n",
              "9                                   Medicina General.      1495   3.150552\n",
              "10                                   Medicina Interna         1   0.002107\n",
              "11                                       Neurocirugia       233   0.491023\n",
              "12                                         Neurologia      1697   3.576245\n",
              "13                              Neurología  Epilepsia       161   0.339290\n",
              "14                  Neurología  Movimientos Anormales       534   1.125348\n",
              "15  Neurología Programación y Re programación de E...        30   0.063222\n",
              "16                                     Neuropediatria       150   0.316109\n",
              "17                                        Psiquiatria      5495  11.580123\n",
              "18               Psiquiatria o Unidad de Salud Mental         2   0.004215"
            ]
          },
          "metadata": {},
          "execution_count": 17
        }
      ]
    },
    {
      "cell_type": "markdown",
      "metadata": {
        "id": "rxCOuMfmq_pU"
      },
      "source": [
        " The most relevant Services on the number of FMs prescribed are:\n",
        " - is_Dolor_Paliativo >> 72.57% of FMs prescribed\n",
        " - is_Psiquiatria >> 11.58% of FMs prescribed\n",
        " - is_Cannabis >> 6.46% of FMs prescribed\n",
        " - is_Neurology >> 3.57% of FMs prescribed\n",
        "\n",
        "These Services correspond to 97.1% of FMs prescribed"
      ]
    },
    {
      "cell_type": "markdown",
      "metadata": {
        "id": "b1I58X8wwYIA"
      },
      "source": [
        "![green-divider](https://user-images.githubusercontent.com/7065401/52071924-c003ad80-2562-11e9-8297-1c6595f8a7ff.png)"
      ]
    },
    {
      "cell_type": "markdown",
      "metadata": {
        "id": "V7trZXziw0gT"
      },
      "source": [
        "#### Number of FMs Prescribed by Product Type"
      ]
    },
    {
      "cell_type": "code",
      "metadata": {
        "colab": {
          "base_uri": "https://localhost:8080/",
          "height": 206
        },
        "id": "-qYYRPSVxAsy",
        "outputId": "83933441-d03a-403d-9935-aa0b46782b3e"
      },
      "source": [
        "# FMs prescribed by CodProducto\n",
        "fm_proced_prod = df_procedures.groupby(['CodProducto']).Cantidad.sum().reset_index()\n",
        "\n",
        "fm_proced_prod['%'] = (fm_proced_prod.Cantidad / fm_proced_prod.Cantidad.sum()) * 100\n",
        "fm_proced_prod"
      ],
      "execution_count": 18,
      "outputs": [
        {
          "output_type": "execute_result",
          "data": {
            "text/html": [
              "<div>\n",
              "<style scoped>\n",
              "    .dataframe tbody tr th:only-of-type {\n",
              "        vertical-align: middle;\n",
              "    }\n",
              "\n",
              "    .dataframe tbody tr th {\n",
              "        vertical-align: top;\n",
              "    }\n",
              "\n",
              "    .dataframe thead th {\n",
              "        text-align: right;\n",
              "    }\n",
              "</style>\n",
              "<table border=\"1\" class=\"dataframe\">\n",
              "  <thead>\n",
              "    <tr style=\"text-align: right;\">\n",
              "      <th></th>\n",
              "      <th>CodProducto</th>\n",
              "      <th>Cantidad</th>\n",
              "      <th>%</th>\n",
              "    </tr>\n",
              "  </thead>\n",
              "  <tbody>\n",
              "    <tr>\n",
              "      <th>0</th>\n",
              "      <td>fm001</td>\n",
              "      <td>26989</td>\n",
              "      <td>56.876422</td>\n",
              "    </tr>\n",
              "    <tr>\n",
              "      <th>1</th>\n",
              "      <td>fm002</td>\n",
              "      <td>722</td>\n",
              "      <td>1.521538</td>\n",
              "    </tr>\n",
              "    <tr>\n",
              "      <th>2</th>\n",
              "      <td>fm003</td>\n",
              "      <td>17773</td>\n",
              "      <td>37.454691</td>\n",
              "    </tr>\n",
              "    <tr>\n",
              "      <th>3</th>\n",
              "      <td>fm004</td>\n",
              "      <td>1816</td>\n",
              "      <td>3.827025</td>\n",
              "    </tr>\n",
              "    <tr>\n",
              "      <th>4</th>\n",
              "      <td>fm005</td>\n",
              "      <td>152</td>\n",
              "      <td>0.320324</td>\n",
              "    </tr>\n",
              "  </tbody>\n",
              "</table>\n",
              "</div>"
            ],
            "text/plain": [
              "  CodProducto  Cantidad          %\n",
              "0       fm001     26989  56.876422\n",
              "1       fm002       722   1.521538\n",
              "2       fm003     17773  37.454691\n",
              "3       fm004      1816   3.827025\n",
              "4       fm005       152   0.320324"
            ]
          },
          "metadata": {},
          "execution_count": 18
        }
      ]
    },
    {
      "cell_type": "markdown",
      "metadata": {
        "id": "SAnRDRBFh4Cy"
      },
      "source": [
        "The most relevant product types on the number of FMs prescribed are:\n",
        "- fm001 >> 56.87% of FMs prescribed\n",
        "- fm003 >> 37.45% of FMs prescribed\n",
        "\n",
        "These two product types correspond to 94.3% of FMs prescribed"
      ]
    },
    {
      "cell_type": "markdown",
      "metadata": {
        "id": "SKZRvbBTiZDJ"
      },
      "source": [
        "![green-divider](https://user-images.githubusercontent.com/7065401/52071924-c003ad80-2562-11e9-8297-1c6595f8a7ff.png)"
      ]
    },
    {
      "cell_type": "markdown",
      "metadata": {
        "id": "Bou-SDhSi5Iz"
      },
      "source": [
        "#### Number of FMs Prescribed by FechaFormulacion"
      ]
    },
    {
      "cell_type": "code",
      "metadata": {
        "colab": {
          "base_uri": "https://localhost:8080/"
        },
        "id": "mY9FGSTvibm5",
        "outputId": "5622fa53-346a-4dd9-9a22-ae2ede26275b"
      },
      "source": [
        "# convert FechaFormulacion to datetime\n",
        "df_procedures['FechaFormulacion'] = pd.to_datetime(df_procedures['FechaFormulacion'])\n",
        "\n",
        "# check that the change was made\n",
        "df_procedures.dtypes"
      ],
      "execution_count": 19,
      "outputs": [
        {
          "output_type": "execute_result",
          "data": {
            "text/plain": [
              "Ingreso                       int64\n",
              "DocPaciente                  object\n",
              "Fecha Nacimiento             object\n",
              "Edad                          int64\n",
              "Sexo                         object\n",
              "CiudadMunicipio              object\n",
              "Diagnostico                  object\n",
              "CodigoDiagnostico            object\n",
              "Plan                         object\n",
              "Tipo Plan                    object\n",
              "FechaIngreso                 object\n",
              "FechaFormulacion     datetime64[ns]\n",
              "CodProducto                  object\n",
              "Cantidad                      int64\n",
              "DocMedico                     int64\n",
              "NombreMedico                 object\n",
              "Especialidad                 object\n",
              "Plan/Servicio                object\n",
              "Sede                         object\n",
              "dtype: object"
            ]
          },
          "metadata": {},
          "execution_count": 19
        }
      ]
    },
    {
      "cell_type": "code",
      "metadata": {
        "colab": {
          "base_uri": "https://localhost:8080/",
          "height": 382
        },
        "id": "2zQBeG1tjpcR",
        "outputId": "f9470b55-fbfe-4ba5-e4bd-c043387c602d"
      },
      "source": [
        "# create month and year column >> using pd.DatetimeIndex()\n",
        "df_procedures['Month'] = pd.DatetimeIndex(df_procedures['FechaFormulacion']).month\n",
        "df_procedures['Year'] = pd.DatetimeIndex(df_procedures['FechaFormulacion']).year\n",
        "\n",
        "df_procedures.head()"
      ],
      "execution_count": 21,
      "outputs": [
        {
          "output_type": "execute_result",
          "data": {
            "text/html": [
              "<div>\n",
              "<style scoped>\n",
              "    .dataframe tbody tr th:only-of-type {\n",
              "        vertical-align: middle;\n",
              "    }\n",
              "\n",
              "    .dataframe tbody tr th {\n",
              "        vertical-align: top;\n",
              "    }\n",
              "\n",
              "    .dataframe thead th {\n",
              "        text-align: right;\n",
              "    }\n",
              "</style>\n",
              "<table border=\"1\" class=\"dataframe\">\n",
              "  <thead>\n",
              "    <tr style=\"text-align: right;\">\n",
              "      <th></th>\n",
              "      <th>Ingreso</th>\n",
              "      <th>DocPaciente</th>\n",
              "      <th>Fecha Nacimiento</th>\n",
              "      <th>Edad</th>\n",
              "      <th>Sexo</th>\n",
              "      <th>CiudadMunicipio</th>\n",
              "      <th>Diagnostico</th>\n",
              "      <th>CodigoDiagnostico</th>\n",
              "      <th>Plan</th>\n",
              "      <th>Tipo Plan</th>\n",
              "      <th>FechaIngreso</th>\n",
              "      <th>FechaFormulacion</th>\n",
              "      <th>CodProducto</th>\n",
              "      <th>Cantidad</th>\n",
              "      <th>DocMedico</th>\n",
              "      <th>NombreMedico</th>\n",
              "      <th>Especialidad</th>\n",
              "      <th>Plan/Servicio</th>\n",
              "      <th>Sede</th>\n",
              "      <th>Month</th>\n",
              "      <th>Year</th>\n",
              "    </tr>\n",
              "  </thead>\n",
              "  <tbody>\n",
              "    <tr>\n",
              "      <th>0</th>\n",
              "      <td>26720</td>\n",
              "      <td>41453437</td>\n",
              "      <td>30/09/1949</td>\n",
              "      <td>72</td>\n",
              "      <td>F</td>\n",
              "      <td>BOGOTÁ D.C.</td>\n",
              "      <td>(OSTEO)ARTROSIS PRIMARIAGENERALIZADA</td>\n",
              "      <td>M150</td>\n",
              "      <td>PLAN PARTICULAR</td>\n",
              "      <td>Particular</td>\n",
              "      <td>2020-03-19</td>\n",
              "      <td>2020-03-19</td>\n",
              "      <td>fm001</td>\n",
              "      <td>1</td>\n",
              "      <td>53013811</td>\n",
              "      <td>LENIS  RIVERA</td>\n",
              "      <td>Algesiólogo</td>\n",
              "      <td>Consulta Dolor y Cuidados Paliativos</td>\n",
              "      <td>ZERENIA</td>\n",
              "      <td>3</td>\n",
              "      <td>2020</td>\n",
              "    </tr>\n",
              "    <tr>\n",
              "      <th>1</th>\n",
              "      <td>26793</td>\n",
              "      <td>13352962</td>\n",
              "      <td>10/11/1960</td>\n",
              "      <td>61</td>\n",
              "      <td>M</td>\n",
              "      <td>BOGOTÁ D.C.</td>\n",
              "      <td>TRASTORNO DE DISCO LUMBAR YOTROS, CON RADICULO...</td>\n",
              "      <td>M511</td>\n",
              "      <td>PLAN PARTICULAR</td>\n",
              "      <td>Particular</td>\n",
              "      <td>2020-03-19</td>\n",
              "      <td>2020-03-19</td>\n",
              "      <td>fm001</td>\n",
              "      <td>1</td>\n",
              "      <td>53013811</td>\n",
              "      <td>LENIS  RIVERA</td>\n",
              "      <td>Algesiólogo</td>\n",
              "      <td>Consulta Dolor y Cuidados Paliativos</td>\n",
              "      <td>ZERENIA</td>\n",
              "      <td>3</td>\n",
              "      <td>2020</td>\n",
              "    </tr>\n",
              "    <tr>\n",
              "      <th>2</th>\n",
              "      <td>26806</td>\n",
              "      <td>390646</td>\n",
              "      <td>1/08/1934</td>\n",
              "      <td>87</td>\n",
              "      <td>M</td>\n",
              "      <td>BOGOTÁ D.C.</td>\n",
              "      <td>NEURALGIA POSTHERPES ZOSTER(B02.2†)</td>\n",
              "      <td>G530</td>\n",
              "      <td>PLAN PARTICULAR</td>\n",
              "      <td>Particular</td>\n",
              "      <td>2020-03-19</td>\n",
              "      <td>2020-03-19</td>\n",
              "      <td>fm001</td>\n",
              "      <td>1</td>\n",
              "      <td>53013811</td>\n",
              "      <td>LENIS  RIVERA</td>\n",
              "      <td>Algesiólogo</td>\n",
              "      <td>Consulta Dolor y Cuidados Paliativos</td>\n",
              "      <td>ZERENIA</td>\n",
              "      <td>3</td>\n",
              "      <td>2020</td>\n",
              "    </tr>\n",
              "    <tr>\n",
              "      <th>3</th>\n",
              "      <td>26928</td>\n",
              "      <td>19059029</td>\n",
              "      <td>13/09/1948</td>\n",
              "      <td>73</td>\n",
              "      <td>M</td>\n",
              "      <td>BOGOTÁ D.C.</td>\n",
              "      <td>NaN</td>\n",
              "      <td>NaN</td>\n",
              "      <td>PLAN PARTICULAR</td>\n",
              "      <td>Particular</td>\n",
              "      <td>2020-03-19</td>\n",
              "      <td>2020-03-19</td>\n",
              "      <td>fm001</td>\n",
              "      <td>1</td>\n",
              "      <td>53007921</td>\n",
              "      <td>XIOMARA  GARCIA</td>\n",
              "      <td>Neurologia</td>\n",
              "      <td>Neurologia</td>\n",
              "      <td>ZERENIA</td>\n",
              "      <td>3</td>\n",
              "      <td>2020</td>\n",
              "    </tr>\n",
              "    <tr>\n",
              "      <th>4</th>\n",
              "      <td>26846</td>\n",
              "      <td>41595666</td>\n",
              "      <td>20/09/1953</td>\n",
              "      <td>68</td>\n",
              "      <td>F</td>\n",
              "      <td>CAJICÁ</td>\n",
              "      <td>NaN</td>\n",
              "      <td>NaN</td>\n",
              "      <td>PLAN PARTICULAR</td>\n",
              "      <td>Particular</td>\n",
              "      <td>2020-03-19</td>\n",
              "      <td>2020-03-19</td>\n",
              "      <td>fm001</td>\n",
              "      <td>1</td>\n",
              "      <td>53007921</td>\n",
              "      <td>XIOMARA  GARCIA</td>\n",
              "      <td>Neurologia</td>\n",
              "      <td>Neurologia</td>\n",
              "      <td>ZERENIA</td>\n",
              "      <td>3</td>\n",
              "      <td>2020</td>\n",
              "    </tr>\n",
              "  </tbody>\n",
              "</table>\n",
              "</div>"
            ],
            "text/plain": [
              "   Ingreso DocPaciente Fecha Nacimiento  ...     Sede Month  Year\n",
              "0    26720    41453437       30/09/1949  ...  ZERENIA     3  2020\n",
              "1    26793    13352962       10/11/1960  ...  ZERENIA     3  2020\n",
              "2    26806      390646        1/08/1934  ...  ZERENIA     3  2020\n",
              "3    26928    19059029       13/09/1948  ...  ZERENIA     3  2020\n",
              "4    26846    41595666       20/09/1953  ...  ZERENIA     3  2020\n",
              "\n",
              "[5 rows x 21 columns]"
            ]
          },
          "metadata": {},
          "execution_count": 21
        }
      ]
    },
    {
      "cell_type": "code",
      "metadata": {
        "id": "xyobfAZDmgE4"
      },
      "source": [
        "# function to calcultate number and avg of presribed FMs\n",
        "def sum_avg_fm(df):\n",
        "  calc={}\n",
        "  calc['Numero_Prescripciones'] = len(df)\n",
        "  calc['Cantidad_FMs'] = df['Cantidad'].sum()\n",
        "\n",
        "\n",
        "  return pd.Series(calc, index=['Numero_Prescripciones', 'Cantidad_FMs', ])"
      ],
      "execution_count": 30,
      "outputs": []
    },
    {
      "cell_type": "code",
      "metadata": {
        "colab": {
          "base_uri": "https://localhost:8080/",
          "height": 645
        },
        "id": "V_v4btZtoDfn",
        "outputId": "4e1d2e13-1826-479a-b406-5280235a9e7b"
      },
      "source": [
        "# FMs prescribed by month/year\n",
        "fm_proced_month = df_procedures.groupby(['Year', 'Month']).apply(sum_avg_fm).reset_index()\n",
        "\n",
        "fm_proced_month['%_Cantidad'] = (fm_proced_month['Cantidad_FMs'] / fm_proced_month['Cantidad_FMs'].sum()) * 100\n",
        "fm_proced_month"
      ],
      "execution_count": 44,
      "outputs": [
        {
          "output_type": "execute_result",
          "data": {
            "text/html": [
              "<div>\n",
              "<style scoped>\n",
              "    .dataframe tbody tr th:only-of-type {\n",
              "        vertical-align: middle;\n",
              "    }\n",
              "\n",
              "    .dataframe tbody tr th {\n",
              "        vertical-align: top;\n",
              "    }\n",
              "\n",
              "    .dataframe thead th {\n",
              "        text-align: right;\n",
              "    }\n",
              "</style>\n",
              "<table border=\"1\" class=\"dataframe\">\n",
              "  <thead>\n",
              "    <tr style=\"text-align: right;\">\n",
              "      <th></th>\n",
              "      <th>Year</th>\n",
              "      <th>Month</th>\n",
              "      <th>Numero_Prescripciones</th>\n",
              "      <th>Cantidad_FMs</th>\n",
              "      <th>%_Cantidad</th>\n",
              "    </tr>\n",
              "  </thead>\n",
              "  <tbody>\n",
              "    <tr>\n",
              "      <th>0</th>\n",
              "      <td>2020</td>\n",
              "      <td>3</td>\n",
              "      <td>8</td>\n",
              "      <td>9</td>\n",
              "      <td>0.018967</td>\n",
              "    </tr>\n",
              "    <tr>\n",
              "      <th>1</th>\n",
              "      <td>2020</td>\n",
              "      <td>4</td>\n",
              "      <td>85</td>\n",
              "      <td>88</td>\n",
              "      <td>0.185451</td>\n",
              "    </tr>\n",
              "    <tr>\n",
              "      <th>2</th>\n",
              "      <td>2020</td>\n",
              "      <td>5</td>\n",
              "      <td>127</td>\n",
              "      <td>131</td>\n",
              "      <td>0.276068</td>\n",
              "    </tr>\n",
              "    <tr>\n",
              "      <th>3</th>\n",
              "      <td>2020</td>\n",
              "      <td>6</td>\n",
              "      <td>357</td>\n",
              "      <td>381</td>\n",
              "      <td>0.802917</td>\n",
              "    </tr>\n",
              "    <tr>\n",
              "      <th>4</th>\n",
              "      <td>2020</td>\n",
              "      <td>7</td>\n",
              "      <td>600</td>\n",
              "      <td>614</td>\n",
              "      <td>1.293939</td>\n",
              "    </tr>\n",
              "    <tr>\n",
              "      <th>5</th>\n",
              "      <td>2020</td>\n",
              "      <td>8</td>\n",
              "      <td>953</td>\n",
              "      <td>978</td>\n",
              "      <td>2.061030</td>\n",
              "    </tr>\n",
              "    <tr>\n",
              "      <th>6</th>\n",
              "      <td>2020</td>\n",
              "      <td>9</td>\n",
              "      <td>1237</td>\n",
              "      <td>1295</td>\n",
              "      <td>2.729074</td>\n",
              "    </tr>\n",
              "    <tr>\n",
              "      <th>7</th>\n",
              "      <td>2020</td>\n",
              "      <td>10</td>\n",
              "      <td>1306</td>\n",
              "      <td>1439</td>\n",
              "      <td>3.032538</td>\n",
              "    </tr>\n",
              "    <tr>\n",
              "      <th>8</th>\n",
              "      <td>2020</td>\n",
              "      <td>11</td>\n",
              "      <td>1256</td>\n",
              "      <td>1447</td>\n",
              "      <td>3.049397</td>\n",
              "    </tr>\n",
              "    <tr>\n",
              "      <th>9</th>\n",
              "      <td>2020</td>\n",
              "      <td>12</td>\n",
              "      <td>1371</td>\n",
              "      <td>1602</td>\n",
              "      <td>3.376043</td>\n",
              "    </tr>\n",
              "    <tr>\n",
              "      <th>10</th>\n",
              "      <td>2021</td>\n",
              "      <td>1</td>\n",
              "      <td>1755</td>\n",
              "      <td>2127</td>\n",
              "      <td>4.482424</td>\n",
              "    </tr>\n",
              "    <tr>\n",
              "      <th>11</th>\n",
              "      <td>2021</td>\n",
              "      <td>2</td>\n",
              "      <td>2537</td>\n",
              "      <td>3147</td>\n",
              "      <td>6.631965</td>\n",
              "    </tr>\n",
              "    <tr>\n",
              "      <th>12</th>\n",
              "      <td>2021</td>\n",
              "      <td>3</td>\n",
              "      <td>3083</td>\n",
              "      <td>3931</td>\n",
              "      <td>8.284161</td>\n",
              "    </tr>\n",
              "    <tr>\n",
              "      <th>13</th>\n",
              "      <td>2021</td>\n",
              "      <td>4</td>\n",
              "      <td>2615</td>\n",
              "      <td>3735</td>\n",
              "      <td>7.871112</td>\n",
              "    </tr>\n",
              "    <tr>\n",
              "      <th>14</th>\n",
              "      <td>2021</td>\n",
              "      <td>5</td>\n",
              "      <td>2771</td>\n",
              "      <td>4029</td>\n",
              "      <td>8.490685</td>\n",
              "    </tr>\n",
              "    <tr>\n",
              "      <th>15</th>\n",
              "      <td>2021</td>\n",
              "      <td>6</td>\n",
              "      <td>3892</td>\n",
              "      <td>5495</td>\n",
              "      <td>11.580123</td>\n",
              "    </tr>\n",
              "    <tr>\n",
              "      <th>16</th>\n",
              "      <td>2021</td>\n",
              "      <td>7</td>\n",
              "      <td>3520</td>\n",
              "      <td>5069</td>\n",
              "      <td>10.682374</td>\n",
              "    </tr>\n",
              "    <tr>\n",
              "      <th>17</th>\n",
              "      <td>2021</td>\n",
              "      <td>8</td>\n",
              "      <td>3948</td>\n",
              "      <td>6160</td>\n",
              "      <td>12.981539</td>\n",
              "    </tr>\n",
              "    <tr>\n",
              "      <th>18</th>\n",
              "      <td>2021</td>\n",
              "      <td>9</td>\n",
              "      <td>3745</td>\n",
              "      <td>5775</td>\n",
              "      <td>12.170193</td>\n",
              "    </tr>\n",
              "  </tbody>\n",
              "</table>\n",
              "</div>"
            ],
            "text/plain": [
              "    Year  Month  Numero_Prescripciones  Cantidad_FMs  %_Cantidad\n",
              "0   2020      3                      8             9    0.018967\n",
              "1   2020      4                     85            88    0.185451\n",
              "2   2020      5                    127           131    0.276068\n",
              "3   2020      6                    357           381    0.802917\n",
              "4   2020      7                    600           614    1.293939\n",
              "5   2020      8                    953           978    2.061030\n",
              "6   2020      9                   1237          1295    2.729074\n",
              "7   2020     10                   1306          1439    3.032538\n",
              "8   2020     11                   1256          1447    3.049397\n",
              "9   2020     12                   1371          1602    3.376043\n",
              "10  2021      1                   1755          2127    4.482424\n",
              "11  2021      2                   2537          3147    6.631965\n",
              "12  2021      3                   3083          3931    8.284161\n",
              "13  2021      4                   2615          3735    7.871112\n",
              "14  2021      5                   2771          4029    8.490685\n",
              "15  2021      6                   3892          5495   11.580123\n",
              "16  2021      7                   3520          5069   10.682374\n",
              "17  2021      8                   3948          6160   12.981539\n",
              "18  2021      9                   3745          5775   12.170193"
            ]
          },
          "metadata": {},
          "execution_count": 44
        }
      ]
    },
    {
      "cell_type": "code",
      "metadata": {
        "colab": {
          "base_uri": "https://localhost:8080/",
          "height": 416
        },
        "id": "KQel_BHb9p42",
        "outputId": "6d1e0550-6f17-4efb-c2c8-9d98f39dbf17"
      },
      "source": [
        "# lineplot of number of prescriptions by month\n",
        "\n",
        "f, ax = plt.subplots(figsize=(12, 6))\n",
        "\n",
        "sns.lineplot(x=fm_proced_month['Month'], y=fm_proced_month['Cantidad_FMs'], hue=fm_proced_month['Year'], palette=['red', 'blue'])\n",
        "ax.set_xticks([1,2,3,4,5,6,7,8,9,10,11,12])\n",
        "ax.set_xticklabels(['Ene', 'Feb', 'Mar', 'Apr', 'May', 'Jun', 'Jul', 'Ago', 'Sept', 'Oct', 'Nov', 'Dec'])\n",
        "\n",
        "plt.xlabel('Mes')\n",
        "plt.title('Cantidad de FMs Prescritas por Mes y Año', pad=12)\n",
        "plt.show()"
      ],
      "execution_count": 56,
      "outputs": [
        {
          "output_type": "display_data",
          "data": {
            "image/png": "[encoded data removed]",
            "text/plain": [
              "<Figure size 864x432 with 1 Axes>"
            ]
          },
          "metadata": {}
        }
      ]
    }
  ]
}