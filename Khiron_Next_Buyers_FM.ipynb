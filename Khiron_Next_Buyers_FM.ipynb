{
  "nbformat": 4,
  "nbformat_minor": 0,
  "metadata": {
    "colab": {
      "name": "Khiron-Next-Buyers-FM.ipynb",
      "provenance": [],
      "collapsed_sections": [],
      "authorship_tag": "ABX9TyMQ0HSR7/4MAEKtCdArdJtR",
      "include_colab_link": true
    },
    "kernelspec": {
      "name": "python3",
      "display_name": "Python 3"
    },
    "language_info": {
      "name": "python"
    }
  },
  "cells": [
    {
      "cell_type": "markdown",
      "metadata": {
        "id": "view-in-github",
        "colab_type": "text"
      },
      "source": [
        "<a href=\"https://colab.research.google.com/github/princeKike27/Khiron-Next-Buyers-FM/blob/main/Khiron_Next_Buyers_FM.ipynb\" target=\"_parent\"><img src=\"https://colab.research.google.com/assets/colab-badge.svg\" alt=\"Open In Colab\"/></a>"
      ]
    },
    {
      "cell_type": "markdown",
      "metadata": {
        "id": "oWKTJQi_pfYa"
      },
      "source": [
        "# Khiron Next Buyers\n",
        "\n",
        "For this project ..."
      ]
    },
    {
      "cell_type": "markdown",
      "metadata": {
        "id": "J_ripd1IpwiS"
      },
      "source": [
        "![purple-divider](https://user-images.githubusercontent.com/7065401/52071927-c1cd7100-2562-11e9-908a-dde91ba14e59.png)"
      ]
    },
    {
      "cell_type": "code",
      "metadata": {
        "id": "xD0eYhC6pZ5T"
      },
      "source": [
        "# import modules\n",
        "import pandas as pd\n",
        "import numpy as np\n",
        "import matplotlib.pyplot as plt\n",
        "import seaborn as sns"
      ],
      "execution_count": null,
      "outputs": []
    },
    {
      "cell_type": "code",
      "metadata": {
        "id": "udspsBPQqYww"
      },
      "source": [
        "# load data files\n",
        "\n",
        "# sales df\n",
        "df_sales = pd.read_csv(\n",
        "    'https://raw.githubusercontent.com/princeKike27/Khiron-Next-Buyers-FM/main/Compras_FMs.csv',\\\n",
        "    sep=';')\n",
        "\n",
        "# procedures df\n",
        "df_procedures = pd.read_csv(\n",
        "    'https://raw.githubusercontent.com/princeKike27/Khiron-Next-Buyers-FM/main/Procedimientos_FMs.csv',\\\n",
        "    sep=';')"
      ],
      "execution_count": 21,
      "outputs": []
    },
    {
      "cell_type": "code",
      "metadata": {
        "colab": {
          "base_uri": "https://localhost:8080/",
          "height": 382
        },
        "id": "EoeVjChvvcs4",
        "outputId": "0e8d7334-ee66-4400-b365-f4f805f03fdb"
      },
      "source": [
        "# check procedures df\n",
        "df_procedures.head()"
      ],
      "execution_count": 22,
      "outputs": [
        {
          "output_type": "execute_result",
          "data": {
            "text/html": [
              "<div>\n",
              "<style scoped>\n",
              "    .dataframe tbody tr th:only-of-type {\n",
              "        vertical-align: middle;\n",
              "    }\n",
              "\n",
              "    .dataframe tbody tr th {\n",
              "        vertical-align: top;\n",
              "    }\n",
              "\n",
              "    .dataframe thead th {\n",
              "        text-align: right;\n",
              "    }\n",
              "</style>\n",
              "<table border=\"1\" class=\"dataframe\">\n",
              "  <thead>\n",
              "    <tr style=\"text-align: right;\">\n",
              "      <th></th>\n",
              "      <th>Ingreso</th>\n",
              "      <th>DocPaciente</th>\n",
              "      <th>Fecha Nacimiento</th>\n",
              "      <th>Edad</th>\n",
              "      <th>Sexo</th>\n",
              "      <th>CiudadMunicipio</th>\n",
              "      <th>Diagnostico</th>\n",
              "      <th>CodigoDiagnostico</th>\n",
              "      <th>Plan</th>\n",
              "      <th>Tipo Plan</th>\n",
              "      <th>FechaIngreso</th>\n",
              "      <th>FechaFormulacion</th>\n",
              "      <th>CodProducto</th>\n",
              "      <th>Cantidad</th>\n",
              "      <th>DocMedico</th>\n",
              "      <th>NombreMedico</th>\n",
              "      <th>Especialidad</th>\n",
              "      <th>Plan/Servicio</th>\n",
              "      <th>Sede</th>\n",
              "    </tr>\n",
              "  </thead>\n",
              "  <tbody>\n",
              "    <tr>\n",
              "      <th>0</th>\n",
              "      <td>26720</td>\n",
              "      <td>41453437</td>\n",
              "      <td>30/09/1949</td>\n",
              "      <td>72</td>\n",
              "      <td>F</td>\n",
              "      <td>BOGOTÁ D.C.</td>\n",
              "      <td>(OSTEO)ARTROSIS PRIMARIAGENERALIZADA</td>\n",
              "      <td>M150</td>\n",
              "      <td>PLAN PARTICULAR</td>\n",
              "      <td>Particular</td>\n",
              "      <td>19/03/2020</td>\n",
              "      <td>19/03/2020</td>\n",
              "      <td>fm001</td>\n",
              "      <td>1</td>\n",
              "      <td>53013811</td>\n",
              "      <td>LENIS  RIVERA</td>\n",
              "      <td>Algesiólogo</td>\n",
              "      <td>Consulta Dolor y Cuidados Paliativos</td>\n",
              "      <td>ZERENIA</td>\n",
              "    </tr>\n",
              "    <tr>\n",
              "      <th>1</th>\n",
              "      <td>26793</td>\n",
              "      <td>13352962</td>\n",
              "      <td>10/11/1960</td>\n",
              "      <td>61</td>\n",
              "      <td>M</td>\n",
              "      <td>BOGOTÁ D.C.</td>\n",
              "      <td>TRASTORNO DE DISCO LUMBAR YOTROS, CON RADICULO...</td>\n",
              "      <td>M511</td>\n",
              "      <td>PLAN PARTICULAR</td>\n",
              "      <td>Particular</td>\n",
              "      <td>19/03/2020</td>\n",
              "      <td>19/03/2020</td>\n",
              "      <td>fm001</td>\n",
              "      <td>1</td>\n",
              "      <td>53013811</td>\n",
              "      <td>LENIS  RIVERA</td>\n",
              "      <td>Algesiólogo</td>\n",
              "      <td>Consulta Dolor y Cuidados Paliativos</td>\n",
              "      <td>ZERENIA</td>\n",
              "    </tr>\n",
              "    <tr>\n",
              "      <th>2</th>\n",
              "      <td>26806</td>\n",
              "      <td>390646</td>\n",
              "      <td>1/08/1934</td>\n",
              "      <td>87</td>\n",
              "      <td>M</td>\n",
              "      <td>BOGOTÁ D.C.</td>\n",
              "      <td>NEURALGIA POSTHERPES ZOSTER(B02.2†)</td>\n",
              "      <td>G530</td>\n",
              "      <td>PLAN PARTICULAR</td>\n",
              "      <td>Particular</td>\n",
              "      <td>19/03/2020</td>\n",
              "      <td>19/03/2020</td>\n",
              "      <td>fm001</td>\n",
              "      <td>1</td>\n",
              "      <td>53013811</td>\n",
              "      <td>LENIS  RIVERA</td>\n",
              "      <td>Algesiólogo</td>\n",
              "      <td>Consulta Dolor y Cuidados Paliativos</td>\n",
              "      <td>ZERENIA</td>\n",
              "    </tr>\n",
              "    <tr>\n",
              "      <th>3</th>\n",
              "      <td>26928</td>\n",
              "      <td>19059029</td>\n",
              "      <td>13/09/1948</td>\n",
              "      <td>73</td>\n",
              "      <td>M</td>\n",
              "      <td>BOGOTÁ D.C.</td>\n",
              "      <td>NaN</td>\n",
              "      <td>NaN</td>\n",
              "      <td>PLAN PARTICULAR</td>\n",
              "      <td>Particular</td>\n",
              "      <td>19/03/2020</td>\n",
              "      <td>19/03/2020</td>\n",
              "      <td>fm001</td>\n",
              "      <td>1</td>\n",
              "      <td>53007921</td>\n",
              "      <td>XIOMARA  GARCIA</td>\n",
              "      <td>Neurologia</td>\n",
              "      <td>Neurologia</td>\n",
              "      <td>ZERENIA</td>\n",
              "    </tr>\n",
              "    <tr>\n",
              "      <th>4</th>\n",
              "      <td>26846</td>\n",
              "      <td>41595666</td>\n",
              "      <td>20/09/1953</td>\n",
              "      <td>68</td>\n",
              "      <td>F</td>\n",
              "      <td>CAJICÁ</td>\n",
              "      <td>NaN</td>\n",
              "      <td>NaN</td>\n",
              "      <td>PLAN PARTICULAR</td>\n",
              "      <td>Particular</td>\n",
              "      <td>19/03/2020</td>\n",
              "      <td>19/03/2020</td>\n",
              "      <td>fm001</td>\n",
              "      <td>1</td>\n",
              "      <td>53007921</td>\n",
              "      <td>XIOMARA  GARCIA</td>\n",
              "      <td>Neurologia</td>\n",
              "      <td>Neurologia</td>\n",
              "      <td>ZERENIA</td>\n",
              "    </tr>\n",
              "  </tbody>\n",
              "</table>\n",
              "</div>"
            ],
            "text/plain": [
              "   Ingreso DocPaciente  ...                         Plan/Servicio     Sede\n",
              "0    26720    41453437  ...  Consulta Dolor y Cuidados Paliativos  ZERENIA\n",
              "1    26793    13352962  ...  Consulta Dolor y Cuidados Paliativos  ZERENIA\n",
              "2    26806      390646  ...  Consulta Dolor y Cuidados Paliativos  ZERENIA\n",
              "3    26928    19059029  ...                            Neurologia  ZERENIA\n",
              "4    26846    41595666  ...                            Neurologia  ZERENIA\n",
              "\n",
              "[5 rows x 19 columns]"
            ]
          },
          "metadata": {},
          "execution_count": 22
        }
      ]
    },
    {
      "cell_type": "code",
      "metadata": {
        "id": "Dh7XFg3-rhah",
        "colab": {
          "base_uri": "https://localhost:8080/",
          "height": 206
        },
        "outputId": "c8cf7588-276a-4baa-f35f-1f59689d9e05"
      },
      "source": [
        "# check sales df\n",
        "df_sales.head()"
      ],
      "execution_count": 23,
      "outputs": [
        {
          "output_type": "execute_result",
          "data": {
            "text/html": [
              "<div>\n",
              "<style scoped>\n",
              "    .dataframe tbody tr th:only-of-type {\n",
              "        vertical-align: middle;\n",
              "    }\n",
              "\n",
              "    .dataframe tbody tr th {\n",
              "        vertical-align: top;\n",
              "    }\n",
              "\n",
              "    .dataframe thead th {\n",
              "        text-align: right;\n",
              "    }\n",
              "</style>\n",
              "<table border=\"1\" class=\"dataframe\">\n",
              "  <thead>\n",
              "    <tr style=\"text-align: right;\">\n",
              "      <th></th>\n",
              "      <th>ingreso</th>\n",
              "      <th>cedula</th>\n",
              "      <th>fecha_oc</th>\n",
              "    </tr>\n",
              "  </thead>\n",
              "  <tbody>\n",
              "    <tr>\n",
              "      <th>0</th>\n",
              "      <td>26806</td>\n",
              "      <td>390646</td>\n",
              "      <td>19/03/2020</td>\n",
              "    </tr>\n",
              "    <tr>\n",
              "      <th>1</th>\n",
              "      <td>26793</td>\n",
              "      <td>13352962</td>\n",
              "      <td>19/03/2020</td>\n",
              "    </tr>\n",
              "    <tr>\n",
              "      <th>2</th>\n",
              "      <td>26928</td>\n",
              "      <td>19059029</td>\n",
              "      <td>19/03/2020</td>\n",
              "    </tr>\n",
              "    <tr>\n",
              "      <th>3</th>\n",
              "      <td>26891</td>\n",
              "      <td>31259698</td>\n",
              "      <td>19/03/2020</td>\n",
              "    </tr>\n",
              "    <tr>\n",
              "      <th>4</th>\n",
              "      <td>26720</td>\n",
              "      <td>41453437</td>\n",
              "      <td>19/03/2020</td>\n",
              "    </tr>\n",
              "  </tbody>\n",
              "</table>\n",
              "</div>"
            ],
            "text/plain": [
              "   ingreso    cedula    fecha_oc\n",
              "0    26806    390646  19/03/2020\n",
              "1    26793  13352962  19/03/2020\n",
              "2    26928  19059029  19/03/2020\n",
              "3    26891  31259698  19/03/2020\n",
              "4    26720  41453437  19/03/2020"
            ]
          },
          "metadata": {},
          "execution_count": 23
        }
      ]
    },
    {
      "cell_type": "markdown",
      "metadata": {
        "id": "Rvqdvrzpv2jY"
      },
      "source": [
        "![purple-divider](https://user-images.githubusercontent.com/7065401/52071927-c1cd7100-2562-11e9-908a-dde91ba14e59.png)"
      ]
    },
    {
      "cell_type": "markdown",
      "metadata": {
        "id": "d02slko9v77v"
      },
      "source": [
        "## Procedures FM"
      ]
    },
    {
      "cell_type": "code",
      "metadata": {
        "id": "Xid2wi95wAEG"
      },
      "source": [
        ""
      ],
      "execution_count": null,
      "outputs": []
    }
  ]
}