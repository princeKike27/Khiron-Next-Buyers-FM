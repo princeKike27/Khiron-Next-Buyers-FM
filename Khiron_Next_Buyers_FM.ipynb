{
  "nbformat": 4,
  "nbformat_minor": 0,
  "metadata": {
    "colab": {
      "name": "Khiron-Next-Buyers-FM.ipynb",
      "provenance": [],
      "collapsed_sections": [],
      "authorship_tag": "ABX9TyPN1kEmugF4go6w7PRQUSjO",
      "include_colab_link": true
    },
    "kernelspec": {
      "name": "python3",
      "display_name": "Python 3"
    },
    "language_info": {
      "name": "python"
    }
  },
  "cells": [
    {
      "cell_type": "markdown",
      "metadata": {
        "id": "view-in-github",
        "colab_type": "text"
      },
      "source": [
        "<a href=\"https://colab.research.google.com/github/princeKike27/Khiron-Next-Buyers-FM/blob/main/Khiron_Next_Buyers_FM.ipynb\" target=\"_parent\"><img src=\"https://colab.research.google.com/assets/colab-badge.svg\" alt=\"Open In Colab\"/></a>"
      ]
    },
    {
      "cell_type": "markdown",
      "metadata": {
        "id": "oWKTJQi_pfYa"
      },
      "source": [
        "# Khiron Next Buyers\n",
        "\n",
        "For this project ..."
      ]
    },
    {
      "cell_type": "markdown",
      "metadata": {
        "id": "J_ripd1IpwiS"
      },
      "source": [
        "![purple-divider](https://user-images.githubusercontent.com/7065401/52071927-c1cd7100-2562-11e9-908a-dde91ba14e59.png)"
      ]
    },
    {
      "cell_type": "code",
      "metadata": {
        "id": "xD0eYhC6pZ5T"
      },
      "source": [
        "# import modules\n",
        "import pandas as pd\n",
        "import numpy as np\n",
        "import matplotlib.pyplot as plt\n",
        "import seaborn as sns"
      ],
      "execution_count": 1,
      "outputs": []
    },
    {
      "cell_type": "code",
      "metadata": {
        "id": "udspsBPQqYww"
      },
      "source": [
        "# load data files\n",
        "\n",
        "# sales df\n",
        "df_sales = pd.read_csv(\n",
        "    'https://raw.githubusercontent.com/princeKike27/Khiron-Next-Buyers-FM/main/Compras_FMs.csv',\\\n",
        "    sep=';')\n",
        "\n",
        "# procedures df\n",
        "df_procedures = pd.read_csv(\n",
        "    'https://raw.githubusercontent.com/princeKike27/Khiron-Next-Buyers-FM/main/Procedimientos_FMs.csv',\\\n",
        "    sep=';')"
      ],
      "execution_count": 2,
      "outputs": []
    },
    {
      "cell_type": "code",
      "metadata": {
        "colab": {
          "base_uri": "https://localhost:8080/",
          "height": 382
        },
        "id": "EoeVjChvvcs4",
        "outputId": "020692f1-311e-4729-ab5d-b0632727bd39"
      },
      "source": [
        "# check procedures df\n",
        "df_procedures.head()"
      ],
      "execution_count": 3,
      "outputs": [
        {
          "output_type": "execute_result",
          "data": {
            "text/html": [
              "<div>\n",
              "<style scoped>\n",
              "    .dataframe tbody tr th:only-of-type {\n",
              "        vertical-align: middle;\n",
              "    }\n",
              "\n",
              "    .dataframe tbody tr th {\n",
              "        vertical-align: top;\n",
              "    }\n",
              "\n",
              "    .dataframe thead th {\n",
              "        text-align: right;\n",
              "    }\n",
              "</style>\n",
              "<table border=\"1\" class=\"dataframe\">\n",
              "  <thead>\n",
              "    <tr style=\"text-align: right;\">\n",
              "      <th></th>\n",
              "      <th>Ingreso</th>\n",
              "      <th>DocPaciente</th>\n",
              "      <th>Fecha Nacimiento</th>\n",
              "      <th>Edad</th>\n",
              "      <th>Sexo</th>\n",
              "      <th>CiudadMunicipio</th>\n",
              "      <th>Diagnostico</th>\n",
              "      <th>CodigoDiagnostico</th>\n",
              "      <th>Plan</th>\n",
              "      <th>Tipo Plan</th>\n",
              "      <th>FechaIngreso</th>\n",
              "      <th>FechaFormulacion</th>\n",
              "      <th>CodProducto</th>\n",
              "      <th>Cantidad</th>\n",
              "      <th>DocMedico</th>\n",
              "      <th>NombreMedico</th>\n",
              "      <th>Especialidad</th>\n",
              "      <th>Plan/Servicio</th>\n",
              "      <th>Sede</th>\n",
              "    </tr>\n",
              "  </thead>\n",
              "  <tbody>\n",
              "    <tr>\n",
              "      <th>0</th>\n",
              "      <td>26720</td>\n",
              "      <td>41453437</td>\n",
              "      <td>30/09/1949</td>\n",
              "      <td>72</td>\n",
              "      <td>F</td>\n",
              "      <td>BOGOTÁ D.C.</td>\n",
              "      <td>(OSTEO)ARTROSIS PRIMARIAGENERALIZADA</td>\n",
              "      <td>M150</td>\n",
              "      <td>PLAN PARTICULAR</td>\n",
              "      <td>Particular</td>\n",
              "      <td>19/03/2020</td>\n",
              "      <td>19/03/2020</td>\n",
              "      <td>fm001</td>\n",
              "      <td>1</td>\n",
              "      <td>53013811</td>\n",
              "      <td>LENIS  RIVERA</td>\n",
              "      <td>Algesiólogo</td>\n",
              "      <td>Consulta Dolor y Cuidados Paliativos</td>\n",
              "      <td>ZERENIA</td>\n",
              "    </tr>\n",
              "    <tr>\n",
              "      <th>1</th>\n",
              "      <td>26793</td>\n",
              "      <td>13352962</td>\n",
              "      <td>10/11/1960</td>\n",
              "      <td>61</td>\n",
              "      <td>M</td>\n",
              "      <td>BOGOTÁ D.C.</td>\n",
              "      <td>TRASTORNO DE DISCO LUMBAR YOTROS, CON RADICULO...</td>\n",
              "      <td>M511</td>\n",
              "      <td>PLAN PARTICULAR</td>\n",
              "      <td>Particular</td>\n",
              "      <td>19/03/2020</td>\n",
              "      <td>19/03/2020</td>\n",
              "      <td>fm001</td>\n",
              "      <td>1</td>\n",
              "      <td>53013811</td>\n",
              "      <td>LENIS  RIVERA</td>\n",
              "      <td>Algesiólogo</td>\n",
              "      <td>Consulta Dolor y Cuidados Paliativos</td>\n",
              "      <td>ZERENIA</td>\n",
              "    </tr>\n",
              "    <tr>\n",
              "      <th>2</th>\n",
              "      <td>26806</td>\n",
              "      <td>390646</td>\n",
              "      <td>1/08/1934</td>\n",
              "      <td>87</td>\n",
              "      <td>M</td>\n",
              "      <td>BOGOTÁ D.C.</td>\n",
              "      <td>NEURALGIA POSTHERPES ZOSTER(B02.2†)</td>\n",
              "      <td>G530</td>\n",
              "      <td>PLAN PARTICULAR</td>\n",
              "      <td>Particular</td>\n",
              "      <td>19/03/2020</td>\n",
              "      <td>19/03/2020</td>\n",
              "      <td>fm001</td>\n",
              "      <td>1</td>\n",
              "      <td>53013811</td>\n",
              "      <td>LENIS  RIVERA</td>\n",
              "      <td>Algesiólogo</td>\n",
              "      <td>Consulta Dolor y Cuidados Paliativos</td>\n",
              "      <td>ZERENIA</td>\n",
              "    </tr>\n",
              "    <tr>\n",
              "      <th>3</th>\n",
              "      <td>26928</td>\n",
              "      <td>19059029</td>\n",
              "      <td>13/09/1948</td>\n",
              "      <td>73</td>\n",
              "      <td>M</td>\n",
              "      <td>BOGOTÁ D.C.</td>\n",
              "      <td>NaN</td>\n",
              "      <td>NaN</td>\n",
              "      <td>PLAN PARTICULAR</td>\n",
              "      <td>Particular</td>\n",
              "      <td>19/03/2020</td>\n",
              "      <td>19/03/2020</td>\n",
              "      <td>fm001</td>\n",
              "      <td>1</td>\n",
              "      <td>53007921</td>\n",
              "      <td>XIOMARA  GARCIA</td>\n",
              "      <td>Neurologia</td>\n",
              "      <td>Neurologia</td>\n",
              "      <td>ZERENIA</td>\n",
              "    </tr>\n",
              "    <tr>\n",
              "      <th>4</th>\n",
              "      <td>26846</td>\n",
              "      <td>41595666</td>\n",
              "      <td>20/09/1953</td>\n",
              "      <td>68</td>\n",
              "      <td>F</td>\n",
              "      <td>CAJICÁ</td>\n",
              "      <td>NaN</td>\n",
              "      <td>NaN</td>\n",
              "      <td>PLAN PARTICULAR</td>\n",
              "      <td>Particular</td>\n",
              "      <td>19/03/2020</td>\n",
              "      <td>19/03/2020</td>\n",
              "      <td>fm001</td>\n",
              "      <td>1</td>\n",
              "      <td>53007921</td>\n",
              "      <td>XIOMARA  GARCIA</td>\n",
              "      <td>Neurologia</td>\n",
              "      <td>Neurologia</td>\n",
              "      <td>ZERENIA</td>\n",
              "    </tr>\n",
              "  </tbody>\n",
              "</table>\n",
              "</div>"
            ],
            "text/plain": [
              "   Ingreso DocPaciente  ...                         Plan/Servicio     Sede\n",
              "0    26720    41453437  ...  Consulta Dolor y Cuidados Paliativos  ZERENIA\n",
              "1    26793    13352962  ...  Consulta Dolor y Cuidados Paliativos  ZERENIA\n",
              "2    26806      390646  ...  Consulta Dolor y Cuidados Paliativos  ZERENIA\n",
              "3    26928    19059029  ...                            Neurologia  ZERENIA\n",
              "4    26846    41595666  ...                            Neurologia  ZERENIA\n",
              "\n",
              "[5 rows x 19 columns]"
            ]
          },
          "metadata": {},
          "execution_count": 3
        }
      ]
    },
    {
      "cell_type": "code",
      "metadata": {
        "id": "Dh7XFg3-rhah",
        "colab": {
          "base_uri": "https://localhost:8080/",
          "height": 206
        },
        "outputId": "4a80fcc7-8617-4c12-b166-a26e5ee495d1"
      },
      "source": [
        "# check sales df\n",
        "df_sales.head()"
      ],
      "execution_count": 4,
      "outputs": [
        {
          "output_type": "execute_result",
          "data": {
            "text/html": [
              "<div>\n",
              "<style scoped>\n",
              "    .dataframe tbody tr th:only-of-type {\n",
              "        vertical-align: middle;\n",
              "    }\n",
              "\n",
              "    .dataframe tbody tr th {\n",
              "        vertical-align: top;\n",
              "    }\n",
              "\n",
              "    .dataframe thead th {\n",
              "        text-align: right;\n",
              "    }\n",
              "</style>\n",
              "<table border=\"1\" class=\"dataframe\">\n",
              "  <thead>\n",
              "    <tr style=\"text-align: right;\">\n",
              "      <th></th>\n",
              "      <th>ingreso</th>\n",
              "      <th>cedula</th>\n",
              "      <th>fecha_oc</th>\n",
              "    </tr>\n",
              "  </thead>\n",
              "  <tbody>\n",
              "    <tr>\n",
              "      <th>0</th>\n",
              "      <td>26806</td>\n",
              "      <td>390646</td>\n",
              "      <td>19/03/2020</td>\n",
              "    </tr>\n",
              "    <tr>\n",
              "      <th>1</th>\n",
              "      <td>26793</td>\n",
              "      <td>13352962</td>\n",
              "      <td>19/03/2020</td>\n",
              "    </tr>\n",
              "    <tr>\n",
              "      <th>2</th>\n",
              "      <td>26928</td>\n",
              "      <td>19059029</td>\n",
              "      <td>19/03/2020</td>\n",
              "    </tr>\n",
              "    <tr>\n",
              "      <th>3</th>\n",
              "      <td>26891</td>\n",
              "      <td>31259698</td>\n",
              "      <td>19/03/2020</td>\n",
              "    </tr>\n",
              "    <tr>\n",
              "      <th>4</th>\n",
              "      <td>26720</td>\n",
              "      <td>41453437</td>\n",
              "      <td>19/03/2020</td>\n",
              "    </tr>\n",
              "  </tbody>\n",
              "</table>\n",
              "</div>"
            ],
            "text/plain": [
              "   ingreso    cedula    fecha_oc\n",
              "0    26806    390646  19/03/2020\n",
              "1    26793  13352962  19/03/2020\n",
              "2    26928  19059029  19/03/2020\n",
              "3    26891  31259698  19/03/2020\n",
              "4    26720  41453437  19/03/2020"
            ]
          },
          "metadata": {},
          "execution_count": 4
        }
      ]
    },
    {
      "cell_type": "markdown",
      "metadata": {
        "id": "Rvqdvrzpv2jY"
      },
      "source": [
        "![purple-divider](https://user-images.githubusercontent.com/7065401/52071927-c1cd7100-2562-11e9-908a-dde91ba14e59.png)"
      ]
    },
    {
      "cell_type": "markdown",
      "metadata": {
        "id": "d02slko9v77v"
      },
      "source": [
        "## Procedures FM"
      ]
    },
    {
      "cell_type": "code",
      "metadata": {
        "id": "Xid2wi95wAEG",
        "colab": {
          "base_uri": "https://localhost:8080/",
          "height": 382
        },
        "outputId": "ae469132-1e61-4c6f-98d6-1c99f85e55eb"
      },
      "source": [
        "# procedures df\n",
        "df_procedures.head()"
      ],
      "execution_count": 7,
      "outputs": [
        {
          "output_type": "execute_result",
          "data": {
            "text/html": [
              "<div>\n",
              "<style scoped>\n",
              "    .dataframe tbody tr th:only-of-type {\n",
              "        vertical-align: middle;\n",
              "    }\n",
              "\n",
              "    .dataframe tbody tr th {\n",
              "        vertical-align: top;\n",
              "    }\n",
              "\n",
              "    .dataframe thead th {\n",
              "        text-align: right;\n",
              "    }\n",
              "</style>\n",
              "<table border=\"1\" class=\"dataframe\">\n",
              "  <thead>\n",
              "    <tr style=\"text-align: right;\">\n",
              "      <th></th>\n",
              "      <th>Ingreso</th>\n",
              "      <th>DocPaciente</th>\n",
              "      <th>Fecha Nacimiento</th>\n",
              "      <th>Edad</th>\n",
              "      <th>Sexo</th>\n",
              "      <th>CiudadMunicipio</th>\n",
              "      <th>Diagnostico</th>\n",
              "      <th>CodigoDiagnostico</th>\n",
              "      <th>Plan</th>\n",
              "      <th>Tipo Plan</th>\n",
              "      <th>FechaIngreso</th>\n",
              "      <th>FechaFormulacion</th>\n",
              "      <th>CodProducto</th>\n",
              "      <th>Cantidad</th>\n",
              "      <th>DocMedico</th>\n",
              "      <th>NombreMedico</th>\n",
              "      <th>Especialidad</th>\n",
              "      <th>Plan/Servicio</th>\n",
              "      <th>Sede</th>\n",
              "    </tr>\n",
              "  </thead>\n",
              "  <tbody>\n",
              "    <tr>\n",
              "      <th>0</th>\n",
              "      <td>26720</td>\n",
              "      <td>41453437</td>\n",
              "      <td>30/09/1949</td>\n",
              "      <td>72</td>\n",
              "      <td>F</td>\n",
              "      <td>BOGOTÁ D.C.</td>\n",
              "      <td>(OSTEO)ARTROSIS PRIMARIAGENERALIZADA</td>\n",
              "      <td>M150</td>\n",
              "      <td>PLAN PARTICULAR</td>\n",
              "      <td>Particular</td>\n",
              "      <td>19/03/2020</td>\n",
              "      <td>19/03/2020</td>\n",
              "      <td>fm001</td>\n",
              "      <td>1</td>\n",
              "      <td>53013811</td>\n",
              "      <td>LENIS  RIVERA</td>\n",
              "      <td>Algesiólogo</td>\n",
              "      <td>Consulta Dolor y Cuidados Paliativos</td>\n",
              "      <td>ZERENIA</td>\n",
              "    </tr>\n",
              "    <tr>\n",
              "      <th>1</th>\n",
              "      <td>26793</td>\n",
              "      <td>13352962</td>\n",
              "      <td>10/11/1960</td>\n",
              "      <td>61</td>\n",
              "      <td>M</td>\n",
              "      <td>BOGOTÁ D.C.</td>\n",
              "      <td>TRASTORNO DE DISCO LUMBAR YOTROS, CON RADICULO...</td>\n",
              "      <td>M511</td>\n",
              "      <td>PLAN PARTICULAR</td>\n",
              "      <td>Particular</td>\n",
              "      <td>19/03/2020</td>\n",
              "      <td>19/03/2020</td>\n",
              "      <td>fm001</td>\n",
              "      <td>1</td>\n",
              "      <td>53013811</td>\n",
              "      <td>LENIS  RIVERA</td>\n",
              "      <td>Algesiólogo</td>\n",
              "      <td>Consulta Dolor y Cuidados Paliativos</td>\n",
              "      <td>ZERENIA</td>\n",
              "    </tr>\n",
              "    <tr>\n",
              "      <th>2</th>\n",
              "      <td>26806</td>\n",
              "      <td>390646</td>\n",
              "      <td>1/08/1934</td>\n",
              "      <td>87</td>\n",
              "      <td>M</td>\n",
              "      <td>BOGOTÁ D.C.</td>\n",
              "      <td>NEURALGIA POSTHERPES ZOSTER(B02.2†)</td>\n",
              "      <td>G530</td>\n",
              "      <td>PLAN PARTICULAR</td>\n",
              "      <td>Particular</td>\n",
              "      <td>19/03/2020</td>\n",
              "      <td>19/03/2020</td>\n",
              "      <td>fm001</td>\n",
              "      <td>1</td>\n",
              "      <td>53013811</td>\n",
              "      <td>LENIS  RIVERA</td>\n",
              "      <td>Algesiólogo</td>\n",
              "      <td>Consulta Dolor y Cuidados Paliativos</td>\n",
              "      <td>ZERENIA</td>\n",
              "    </tr>\n",
              "    <tr>\n",
              "      <th>3</th>\n",
              "      <td>26928</td>\n",
              "      <td>19059029</td>\n",
              "      <td>13/09/1948</td>\n",
              "      <td>73</td>\n",
              "      <td>M</td>\n",
              "      <td>BOGOTÁ D.C.</td>\n",
              "      <td>NaN</td>\n",
              "      <td>NaN</td>\n",
              "      <td>PLAN PARTICULAR</td>\n",
              "      <td>Particular</td>\n",
              "      <td>19/03/2020</td>\n",
              "      <td>19/03/2020</td>\n",
              "      <td>fm001</td>\n",
              "      <td>1</td>\n",
              "      <td>53007921</td>\n",
              "      <td>XIOMARA  GARCIA</td>\n",
              "      <td>Neurologia</td>\n",
              "      <td>Neurologia</td>\n",
              "      <td>ZERENIA</td>\n",
              "    </tr>\n",
              "    <tr>\n",
              "      <th>4</th>\n",
              "      <td>26846</td>\n",
              "      <td>41595666</td>\n",
              "      <td>20/09/1953</td>\n",
              "      <td>68</td>\n",
              "      <td>F</td>\n",
              "      <td>CAJICÁ</td>\n",
              "      <td>NaN</td>\n",
              "      <td>NaN</td>\n",
              "      <td>PLAN PARTICULAR</td>\n",
              "      <td>Particular</td>\n",
              "      <td>19/03/2020</td>\n",
              "      <td>19/03/2020</td>\n",
              "      <td>fm001</td>\n",
              "      <td>1</td>\n",
              "      <td>53007921</td>\n",
              "      <td>XIOMARA  GARCIA</td>\n",
              "      <td>Neurologia</td>\n",
              "      <td>Neurologia</td>\n",
              "      <td>ZERENIA</td>\n",
              "    </tr>\n",
              "  </tbody>\n",
              "</table>\n",
              "</div>"
            ],
            "text/plain": [
              "   Ingreso DocPaciente  ...                         Plan/Servicio     Sede\n",
              "0    26720    41453437  ...  Consulta Dolor y Cuidados Paliativos  ZERENIA\n",
              "1    26793    13352962  ...  Consulta Dolor y Cuidados Paliativos  ZERENIA\n",
              "2    26806      390646  ...  Consulta Dolor y Cuidados Paliativos  ZERENIA\n",
              "3    26928    19059029  ...                            Neurologia  ZERENIA\n",
              "4    26846    41595666  ...                            Neurologia  ZERENIA\n",
              "\n",
              "[5 rows x 19 columns]"
            ]
          },
          "metadata": {},
          "execution_count": 7
        }
      ]
    },
    {
      "cell_type": "code",
      "metadata": {
        "colab": {
          "base_uri": "https://localhost:8080/"
        },
        "id": "M3HmYQ8GP_Ca",
        "outputId": "d711f49f-1cf2-4a25-ade6-27e3aaedeaf9"
      },
      "source": [
        "# check shape of df\n",
        "df_procedures.shape"
      ],
      "execution_count": 9,
      "outputs": [
        {
          "output_type": "execute_result",
          "data": {
            "text/plain": [
              "(35187, 19)"
            ]
          },
          "metadata": {},
          "execution_count": 9
        }
      ]
    },
    {
      "cell_type": "code",
      "metadata": {
        "colab": {
          "base_uri": "https://localhost:8080/"
        },
        "id": "j0JWwTRgQG4h",
        "outputId": "56d6b412-fd6d-4512-88e6-e8b38043f340"
      },
      "source": [
        "# check column types\n",
        "df_procedures.dtypes"
      ],
      "execution_count": 10,
      "outputs": [
        {
          "output_type": "execute_result",
          "data": {
            "text/plain": [
              "Ingreso               int64\n",
              "DocPaciente          object\n",
              "Fecha Nacimiento     object\n",
              "Edad                  int64\n",
              "Sexo                 object\n",
              "CiudadMunicipio      object\n",
              "Diagnostico          object\n",
              "CodigoDiagnostico    object\n",
              "Plan                 object\n",
              "Tipo Plan            object\n",
              "FechaIngreso         object\n",
              "FechaFormulacion     object\n",
              "CodProducto          object\n",
              "Cantidad              int64\n",
              "DocMedico             int64\n",
              "NombreMedico         object\n",
              "Especialidad         object\n",
              "Plan/Servicio        object\n",
              "Sede                 object\n",
              "dtype: object"
            ]
          },
          "metadata": {},
          "execution_count": 10
        }
      ]
    },
    {
      "cell_type": "code",
      "metadata": {
        "colab": {
          "base_uri": "https://localhost:8080/",
          "height": 511
        },
        "id": "1vKErZ2eQPbg",
        "outputId": "cb61a0f2-a4fd-40b8-b2df-1e82bc2ab905"
      },
      "source": [
        "# check for missing values\n",
        "import missingno as msg\n",
        "\n",
        "msg.matrix(df_procedures, figsize=(12, 6))"
      ],
      "execution_count": 12,
      "outputs": [
        {
          "output_type": "execute_result",
          "data": {
            "text/plain": [
              "<matplotlib.axes._subplots.AxesSubplot at 0x7f0005ee31d0>"
            ]
          },
          "metadata": {},
          "execution_count": 12
        },
        {
          "output_type": "display_data",
          "data": {
            "image/png": "[encoded data removed]",
            "text/plain": [
              "<Figure size 864x432 with 2 Axes>"
            ]
          },
          "metadata": {
            "needs_background": "light"
          }
        }
      ]
    },
    {
      "cell_type": "code",
      "metadata": {
        "colab": {
          "base_uri": "https://localhost:8080/"
        },
        "id": "zqd1byUzQet-",
        "outputId": "1dc43534-b5fb-4e7c-e2d3-20aa0f987098"
      },
      "source": [
        "# find number of missing values in 'Diagnostico'\n",
        "\n",
        "na_diagnostic = df_procedures['Diagnostico'].isna().sum()\n",
        "na_city = df_procedures['CiudadMunicipio'].isna().sum()\n",
        "\n",
        "print(f'Missing Values in Diagnostico: {na_diagnostic}')\n",
        "print(f'Missing values in CiudadMunicipio: {na_city}')"
      ],
      "execution_count": 14,
      "outputs": [
        {
          "output_type": "stream",
          "name": "stdout",
          "text": [
            "Missing Values in Diagnostico: 6426\n",
            "Missing values in CiudadMunicipio: 20\n"
          ]
        }
      ]
    },
    {
      "cell_type": "code",
      "metadata": {
        "colab": {
          "base_uri": "https://localhost:8080/"
        },
        "id": "SJrYAEDBRQY3",
        "outputId": "b286f767-a8f1-4707-c2cb-72a4612c53a3"
      },
      "source": [
        "# drop na values of CiudadMunicipio\n",
        "df_procedures = df_procedures.dropna(subset=['CiudadMunicipio'])\n",
        "\n",
        "# check shape\n",
        "df_procedures.shape"
      ],
      "execution_count": 17,
      "outputs": [
        {
          "output_type": "execute_result",
          "data": {
            "text/plain": [
              "(35167, 19)"
            ]
          },
          "metadata": {},
          "execution_count": 17
        }
      ]
    },
    {
      "cell_type": "markdown",
      "metadata": {
        "id": "9XxpgYVwYEK5"
      },
      "source": [
        "![green-divider](https://user-images.githubusercontent.com/7065401/52071924-c003ad80-2562-11e9-8297-1c6595f8a7ff.png)"
      ]
    },
    {
      "cell_type": "markdown",
      "metadata": {
        "id": "GxA9ms-XYKhA"
      },
      "source": [
        "### GroupBy of Relevant Features\n"
      ]
    },
    {
      "cell_type": "code",
      "metadata": {
        "colab": {
          "base_uri": "https://localhost:8080/",
          "height": 426
        },
        "id": "pEDGwm8tYOWB",
        "outputId": "e3423988-d281-42dd-8432-d07d5009ad1b"
      },
      "source": [
        "# FM procedures by sede\n",
        "fm_proced_sede = df_procedures.groupby(['Sede']).Cantidad.sum().reset_index()\n",
        "\n",
        "fm_proced_sede['%_Prescripciones'] = (fm_proced_sede.Cantidad / fm_proced_sede.Cantidad.sum()) * 100\n",
        "fm_proced_sede"
      ],
      "execution_count": 30,
      "outputs": [
        {
          "output_type": "execute_result",
          "data": {
            "text/html": [
              "<div>\n",
              "<style scoped>\n",
              "    .dataframe tbody tr th:only-of-type {\n",
              "        vertical-align: middle;\n",
              "    }\n",
              "\n",
              "    .dataframe tbody tr th {\n",
              "        vertical-align: top;\n",
              "    }\n",
              "\n",
              "    .dataframe thead th {\n",
              "        text-align: right;\n",
              "    }\n",
              "</style>\n",
              "<table border=\"1\" class=\"dataframe\">\n",
              "  <thead>\n",
              "    <tr style=\"text-align: right;\">\n",
              "      <th></th>\n",
              "      <th>Sede</th>\n",
              "      <th>Cantidad</th>\n",
              "      <th>%_Prescripciones</th>\n",
              "    </tr>\n",
              "  </thead>\n",
              "  <tbody>\n",
              "    <tr>\n",
              "      <th>0</th>\n",
              "      <td>COUNTRY</td>\n",
              "      <td>3952</td>\n",
              "      <td>8.328241</td>\n",
              "    </tr>\n",
              "    <tr>\n",
              "      <th>1</th>\n",
              "      <td>PARKWAY</td>\n",
              "      <td>922</td>\n",
              "      <td>1.942975</td>\n",
              "    </tr>\n",
              "    <tr>\n",
              "      <th>2</th>\n",
              "      <td>ZERENIA</td>\n",
              "      <td>41349</td>\n",
              "      <td>87.136746</td>\n",
              "    </tr>\n",
              "    <tr>\n",
              "      <th>3</th>\n",
              "      <td>ZERENIA  - IBAGUE</td>\n",
              "      <td>106</td>\n",
              "      <td>0.223379</td>\n",
              "    </tr>\n",
              "    <tr>\n",
              "      <th>4</th>\n",
              "      <td>ZERENIA  - MEDELLÍN</td>\n",
              "      <td>420</td>\n",
              "      <td>0.885086</td>\n",
              "    </tr>\n",
              "    <tr>\n",
              "      <th>5</th>\n",
              "      <td>ZERENIA - ARMENIA</td>\n",
              "      <td>61</td>\n",
              "      <td>0.128548</td>\n",
              "    </tr>\n",
              "    <tr>\n",
              "      <th>6</th>\n",
              "      <td>ZERENIA - BARRANQUILLA</td>\n",
              "      <td>89</td>\n",
              "      <td>0.187554</td>\n",
              "    </tr>\n",
              "    <tr>\n",
              "      <th>7</th>\n",
              "      <td>ZERENIA - BUCARAMANGA</td>\n",
              "      <td>177</td>\n",
              "      <td>0.373001</td>\n",
              "    </tr>\n",
              "    <tr>\n",
              "      <th>8</th>\n",
              "      <td>ZERENIA - CALI</td>\n",
              "      <td>256</td>\n",
              "      <td>0.539481</td>\n",
              "    </tr>\n",
              "    <tr>\n",
              "      <th>9</th>\n",
              "      <td>ZERENIA - MANIZALES</td>\n",
              "      <td>3</td>\n",
              "      <td>0.006322</td>\n",
              "    </tr>\n",
              "    <tr>\n",
              "      <th>10</th>\n",
              "      <td>ZERENIA - PEREIRA</td>\n",
              "      <td>114</td>\n",
              "      <td>0.240238</td>\n",
              "    </tr>\n",
              "    <tr>\n",
              "      <th>11</th>\n",
              "      <td>ZERENIA - VALLEDUPAR</td>\n",
              "      <td>4</td>\n",
              "      <td>0.008429</td>\n",
              "    </tr>\n",
              "  </tbody>\n",
              "</table>\n",
              "</div>"
            ],
            "text/plain": [
              "                      Sede  Cantidad  %_Prescripciones\n",
              "0                  COUNTRY      3952          8.328241\n",
              "1                  PARKWAY       922          1.942975\n",
              "2                  ZERENIA     41349         87.136746\n",
              "3       ZERENIA  - IBAGUE        106          0.223379\n",
              "4      ZERENIA  - MEDELLÍN       420          0.885086\n",
              "5        ZERENIA - ARMENIA        61          0.128548\n",
              "6   ZERENIA - BARRANQUILLA        89          0.187554\n",
              "7    ZERENIA - BUCARAMANGA       177          0.373001\n",
              "8           ZERENIA - CALI       256          0.539481\n",
              "9      ZERENIA - MANIZALES         3          0.006322\n",
              "10       ZERENIA - PEREIRA       114          0.240238\n",
              "11    ZERENIA - VALLEDUPAR         4          0.008429"
            ]
          },
          "metadata": {},
          "execution_count": 30
        }
      ]
    },
    {
      "cell_type": "code",
      "metadata": {
        "colab": {
          "base_uri": "https://localhost:8080/",
          "height": 474
        },
        "id": "E85gmbCjbLw3",
        "outputId": "7ae6400c-02f7-4fe1-b321-b3b1d04e0419"
      },
      "source": [
        "# barplot of prescribed FMs per Sede\n",
        "\n",
        "f, ax = plt.subplots(figsize=(20,6))\n",
        "\n",
        "sns.barplot(x=fm_proced_sede.Sede, y=fm_proced_sede.Cantidad)\n",
        "# rotate x labels\n",
        "plt.xticks(rotation=45)\n",
        "plt.ylabel('Cantidad de FMs')\n",
        "\n",
        "plt.title('Cantidad de FMs Prescritas por Sede - Marzo 2020 a Septiembre 2021', pad=12)\n",
        "plt.show()"
      ],
      "execution_count": 40,
      "outputs": [
        {
          "output_type": "display_data",
          "data": {
            "image/png": "[encoded data removed]",
            "text/plain": [
              "<Figure size 1440x432 with 1 Axes>"
            ]
          },
          "metadata": {
            "needs_background": "light"
          }
        }
      ]
    },
    {
      "cell_type": "code",
      "metadata": {
        "colab": {
          "base_uri": "https://localhost:8080/",
          "height": 143
        },
        "id": "kYQWM6AQZ9Eu",
        "outputId": "4ba4fa7e-b55e-42ef-d5b4-6af07a1e3bc5"
      },
      "source": [
        "# FM procedures by sexo\n",
        "fm_proced_sex = df_procedures.groupby(['Sexo']).Cantidad.sum().reset_index()\n",
        "\n",
        "fm_proced_sex['%_Prescripciones'] = (fm_proced_sex.Cantidad / fm_proced_sex.Cantidad.sum()) * 100\n",
        "fm_proced_sex"
      ],
      "execution_count": 29,
      "outputs": [
        {
          "output_type": "execute_result",
          "data": {
            "text/html": [
              "<div>\n",
              "<style scoped>\n",
              "    .dataframe tbody tr th:only-of-type {\n",
              "        vertical-align: middle;\n",
              "    }\n",
              "\n",
              "    .dataframe tbody tr th {\n",
              "        vertical-align: top;\n",
              "    }\n",
              "\n",
              "    .dataframe thead th {\n",
              "        text-align: right;\n",
              "    }\n",
              "</style>\n",
              "<table border=\"1\" class=\"dataframe\">\n",
              "  <thead>\n",
              "    <tr style=\"text-align: right;\">\n",
              "      <th></th>\n",
              "      <th>Sexo</th>\n",
              "      <th>Cantidad</th>\n",
              "      <th>%_Prescripciones</th>\n",
              "    </tr>\n",
              "  </thead>\n",
              "  <tbody>\n",
              "    <tr>\n",
              "      <th>0</th>\n",
              "      <td>F</td>\n",
              "      <td>33715</td>\n",
              "      <td>71.049249</td>\n",
              "    </tr>\n",
              "    <tr>\n",
              "      <th>1</th>\n",
              "      <td>I</td>\n",
              "      <td>1</td>\n",
              "      <td>0.002107</td>\n",
              "    </tr>\n",
              "    <tr>\n",
              "      <th>2</th>\n",
              "      <td>M</td>\n",
              "      <td>13737</td>\n",
              "      <td>28.948644</td>\n",
              "    </tr>\n",
              "  </tbody>\n",
              "</table>\n",
              "</div>"
            ],
            "text/plain": [
              "  Sexo  Cantidad  %_Prescripciones\n",
              "0    F     33715         71.049249\n",
              "1    I         1          0.002107\n",
              "2    M     13737         28.948644"
            ]
          },
          "metadata": {},
          "execution_count": 29
        }
      ]
    },
    {
      "cell_type": "code",
      "metadata": {
        "colab": {
          "base_uri": "https://localhost:8080/",
          "height": 404
        },
        "id": "t_PFf3bOc10a",
        "outputId": "c758ad47-3b98-4064-c185-002b8b546021"
      },
      "source": [
        "# barplot of prescribed FMs per Sexo\n",
        "\n",
        "f, ax = plt.subplots(figsize=(12, 6))\n",
        "\n",
        "sns.barplot(x=fm_proced_sex.Sexo, y=fm_proced_sex.Cantidad)\n",
        "plt.ylabel('Cantidad de FMs')\n",
        "\n",
        "plt.title('Cantidad de FMs Prescritas por Sexo - Marzo 2020 a Septiembre 2021')\n",
        "plt.show()"
      ],
      "execution_count": 43,
      "outputs": [
        {
          "output_type": "display_data",
          "data": {
            "image/png": "[encoded data removed]",
            "text/plain": [
              "<Figure size 864x432 with 1 Axes>"
            ]
          },
          "metadata": {
            "needs_background": "light"
          }
        }
      ]
    }
  ]
}