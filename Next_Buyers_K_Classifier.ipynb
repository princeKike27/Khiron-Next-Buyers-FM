{
  "nbformat": 4,
  "nbformat_minor": 0,
  "metadata": {
    "colab": {
      "name": "Next-Buyers-K-Classifier.ipynb",
      "provenance": [],
      "collapsed_sections": [],
      "authorship_tag": "ABX9TyMFE9vfjQETKFaHRlacZa3q",
      "include_colab_link": true
    },
    "kernelspec": {
      "name": "python3",
      "display_name": "Python 3"
    },
    "language_info": {
      "name": "python"
    }
  },
  "cells": [
    {
      "cell_type": "markdown",
      "metadata": {
        "id": "view-in-github",
        "colab_type": "text"
      },
      "source": [
        "<a href=\"https://colab.research.google.com/github/princeKike27/Next-Buyers-K-Classifier/blob/main/Next_Buyers_K_Classifier.ipynb\" target=\"_parent\"><img src=\"https://colab.research.google.com/assets/colab-badge.svg\" alt=\"Open In Colab\"/></a>"
      ]
    },
    {
      "cell_type": "markdown",
      "metadata": {
        "id": "oWKTJQi_pfYa"
      },
      "source": [
        "# Next Buyers *K* Classifier\n",
        "\n",
        "For this project I analyzed data from patients that have been prescribed with FMs. By using a Logistic Regression Algorithm I created a next-buyers classifier that based on patient features like its age, sex, diagnosis, city and type of product will classify a patient as a buyer or non buyer.\n",
        "\n",
        "\n",
        "Throught the project you will be able to find:\n",
        "\n",
        "- Data cleaning and standardization.\n",
        "- Analysis of relevant features to build the model.\n",
        "- Logistic Regression Model for patient classification.\n",
        "- Analysis of model's performance.\n",
        "- Model testing.\n"
      ]
    },
    {
      "cell_type": "markdown",
      "metadata": {
        "id": "J_ripd1IpwiS"
      },
      "source": [
        "![purple-divider](https://user-images.githubusercontent.com/7065401/52071927-c1cd7100-2562-11e9-908a-dde91ba14e59.png)"
      ]
    },
    {
      "cell_type": "code",
      "metadata": {
        "id": "xD0eYhC6pZ5T"
      },
      "source": [
        "# import modules\n",
        "import pandas as pd\n",
        "import numpy as np\n",
        "import matplotlib.pyplot as plt\n",
        "import seaborn as sns"
      ],
      "execution_count": 1,
      "outputs": []
    },
    {
      "cell_type": "code",
      "metadata": {
        "id": "udspsBPQqYww"
      },
      "source": [
        "# load data files\n",
        "\n",
        "# sales df\n",
        "df_sales = pd.read_csv(\n",
        "    'https://raw.githubusercontent.com/princeKike27/Khiron-Next-Buyers-FM/main/Compras_FMs.csv',\\\n",
        "    sep=';')\n",
        "\n",
        "# procedures df\n",
        "df_procedures = pd.read_csv(\n",
        "    'https://raw.githubusercontent.com/princeKike27/Khiron-Next-Buyers-FM/main/Procedimientos_FMs.csv',\\\n",
        "    sep=';')"
      ],
      "execution_count": 2,
      "outputs": []
    },
    {
      "cell_type": "code",
      "metadata": {
        "colab": {
          "base_uri": "https://localhost:8080/",
          "height": 382
        },
        "id": "EoeVjChvvcs4",
        "outputId": "6e401cfa-15a7-4795-d2c5-42d71d8c0429"
      },
      "source": [
        "# check procedures df\n",
        "df_procedures.head()"
      ],
      "execution_count": 3,
      "outputs": [
        {
          "output_type": "execute_result",
          "data": {
            "text/html": [
              "<div>\n",
              "<style scoped>\n",
              "    .dataframe tbody tr th:only-of-type {\n",
              "        vertical-align: middle;\n",
              "    }\n",
              "\n",
              "    .dataframe tbody tr th {\n",
              "        vertical-align: top;\n",
              "    }\n",
              "\n",
              "    .dataframe thead th {\n",
              "        text-align: right;\n",
              "    }\n",
              "</style>\n",
              "<table border=\"1\" class=\"dataframe\">\n",
              "  <thead>\n",
              "    <tr style=\"text-align: right;\">\n",
              "      <th></th>\n",
              "      <th>Ingreso</th>\n",
              "      <th>DocPaciente</th>\n",
              "      <th>Fecha Nacimiento</th>\n",
              "      <th>Edad</th>\n",
              "      <th>Sexo</th>\n",
              "      <th>CiudadMunicipio</th>\n",
              "      <th>Diagnostico</th>\n",
              "      <th>CodigoDiagnostico</th>\n",
              "      <th>Plan</th>\n",
              "      <th>Tipo Plan</th>\n",
              "      <th>FechaIngreso</th>\n",
              "      <th>FechaFormulacion</th>\n",
              "      <th>CodProducto</th>\n",
              "      <th>Cantidad</th>\n",
              "      <th>DocMedico</th>\n",
              "      <th>NombreMedico</th>\n",
              "      <th>Especialidad</th>\n",
              "      <th>Plan/Servicio</th>\n",
              "      <th>Sede</th>\n",
              "    </tr>\n",
              "  </thead>\n",
              "  <tbody>\n",
              "    <tr>\n",
              "      <th>0</th>\n",
              "      <td>26720</td>\n",
              "      <td>41453437</td>\n",
              "      <td>30/09/1949</td>\n",
              "      <td>72</td>\n",
              "      <td>F</td>\n",
              "      <td>BOGOTÁ D.C.</td>\n",
              "      <td>(OSTEO)ARTROSIS PRIMARIAGENERALIZADA</td>\n",
              "      <td>M150</td>\n",
              "      <td>PLAN PARTICULAR</td>\n",
              "      <td>Particular</td>\n",
              "      <td>2020-03-19</td>\n",
              "      <td>2020-03-19</td>\n",
              "      <td>fm001</td>\n",
              "      <td>1</td>\n",
              "      <td>53013811</td>\n",
              "      <td>LENIS  RIVERA</td>\n",
              "      <td>Algesiólogo</td>\n",
              "      <td>Consulta Dolor y Cuidados Paliativos</td>\n",
              "      <td>ZERENIA</td>\n",
              "    </tr>\n",
              "    <tr>\n",
              "      <th>1</th>\n",
              "      <td>26793</td>\n",
              "      <td>13352962</td>\n",
              "      <td>10/11/1960</td>\n",
              "      <td>61</td>\n",
              "      <td>M</td>\n",
              "      <td>BOGOTÁ D.C.</td>\n",
              "      <td>TRASTORNO DE DISCO LUMBAR YOTROS, CON RADICULO...</td>\n",
              "      <td>M511</td>\n",
              "      <td>PLAN PARTICULAR</td>\n",
              "      <td>Particular</td>\n",
              "      <td>2020-03-19</td>\n",
              "      <td>2020-03-19</td>\n",
              "      <td>fm001</td>\n",
              "      <td>1</td>\n",
              "      <td>53013811</td>\n",
              "      <td>LENIS  RIVERA</td>\n",
              "      <td>Algesiólogo</td>\n",
              "      <td>Consulta Dolor y Cuidados Paliativos</td>\n",
              "      <td>ZERENIA</td>\n",
              "    </tr>\n",
              "    <tr>\n",
              "      <th>2</th>\n",
              "      <td>26806</td>\n",
              "      <td>390646</td>\n",
              "      <td>1/08/1934</td>\n",
              "      <td>87</td>\n",
              "      <td>M</td>\n",
              "      <td>BOGOTÁ D.C.</td>\n",
              "      <td>NEURALGIA POSTHERPES ZOSTER(B02.2†)</td>\n",
              "      <td>G530</td>\n",
              "      <td>PLAN PARTICULAR</td>\n",
              "      <td>Particular</td>\n",
              "      <td>2020-03-19</td>\n",
              "      <td>2020-03-19</td>\n",
              "      <td>fm001</td>\n",
              "      <td>1</td>\n",
              "      <td>53013811</td>\n",
              "      <td>LENIS  RIVERA</td>\n",
              "      <td>Algesiólogo</td>\n",
              "      <td>Consulta Dolor y Cuidados Paliativos</td>\n",
              "      <td>ZERENIA</td>\n",
              "    </tr>\n",
              "    <tr>\n",
              "      <th>3</th>\n",
              "      <td>26928</td>\n",
              "      <td>19059029</td>\n",
              "      <td>13/09/1948</td>\n",
              "      <td>73</td>\n",
              "      <td>M</td>\n",
              "      <td>BOGOTÁ D.C.</td>\n",
              "      <td>NaN</td>\n",
              "      <td>NaN</td>\n",
              "      <td>PLAN PARTICULAR</td>\n",
              "      <td>Particular</td>\n",
              "      <td>2020-03-19</td>\n",
              "      <td>2020-03-19</td>\n",
              "      <td>fm001</td>\n",
              "      <td>1</td>\n",
              "      <td>53007921</td>\n",
              "      <td>XIOMARA  GARCIA</td>\n",
              "      <td>Neurologia</td>\n",
              "      <td>Neurologia</td>\n",
              "      <td>ZERENIA</td>\n",
              "    </tr>\n",
              "    <tr>\n",
              "      <th>4</th>\n",
              "      <td>26846</td>\n",
              "      <td>41595666</td>\n",
              "      <td>20/09/1953</td>\n",
              "      <td>68</td>\n",
              "      <td>F</td>\n",
              "      <td>CAJICÁ</td>\n",
              "      <td>NaN</td>\n",
              "      <td>NaN</td>\n",
              "      <td>PLAN PARTICULAR</td>\n",
              "      <td>Particular</td>\n",
              "      <td>2020-03-19</td>\n",
              "      <td>2020-03-19</td>\n",
              "      <td>fm001</td>\n",
              "      <td>1</td>\n",
              "      <td>53007921</td>\n",
              "      <td>XIOMARA  GARCIA</td>\n",
              "      <td>Neurologia</td>\n",
              "      <td>Neurologia</td>\n",
              "      <td>ZERENIA</td>\n",
              "    </tr>\n",
              "  </tbody>\n",
              "</table>\n",
              "</div>"
            ],
            "text/plain": [
              "   Ingreso DocPaciente  ...                         Plan/Servicio     Sede\n",
              "0    26720    41453437  ...  Consulta Dolor y Cuidados Paliativos  ZERENIA\n",
              "1    26793    13352962  ...  Consulta Dolor y Cuidados Paliativos  ZERENIA\n",
              "2    26806      390646  ...  Consulta Dolor y Cuidados Paliativos  ZERENIA\n",
              "3    26928    19059029  ...                            Neurologia  ZERENIA\n",
              "4    26846    41595666  ...                            Neurologia  ZERENIA\n",
              "\n",
              "[5 rows x 19 columns]"
            ]
          },
          "metadata": {},
          "execution_count": 3
        }
      ]
    },
    {
      "cell_type": "code",
      "metadata": {
        "id": "Dh7XFg3-rhah",
        "colab": {
          "base_uri": "https://localhost:8080/",
          "height": 206
        },
        "outputId": "0b7bc52c-915f-461e-dc5c-1337cb835686"
      },
      "source": [
        "# check sales df\n",
        "df_sales.head()"
      ],
      "execution_count": 4,
      "outputs": [
        {
          "output_type": "execute_result",
          "data": {
            "text/html": [
              "<div>\n",
              "<style scoped>\n",
              "    .dataframe tbody tr th:only-of-type {\n",
              "        vertical-align: middle;\n",
              "    }\n",
              "\n",
              "    .dataframe tbody tr th {\n",
              "        vertical-align: top;\n",
              "    }\n",
              "\n",
              "    .dataframe thead th {\n",
              "        text-align: right;\n",
              "    }\n",
              "</style>\n",
              "<table border=\"1\" class=\"dataframe\">\n",
              "  <thead>\n",
              "    <tr style=\"text-align: right;\">\n",
              "      <th></th>\n",
              "      <th>ingreso</th>\n",
              "      <th>cedula</th>\n",
              "      <th>fecha_oc</th>\n",
              "    </tr>\n",
              "  </thead>\n",
              "  <tbody>\n",
              "    <tr>\n",
              "      <th>0</th>\n",
              "      <td>26806</td>\n",
              "      <td>390646</td>\n",
              "      <td>2020-03-19</td>\n",
              "    </tr>\n",
              "    <tr>\n",
              "      <th>1</th>\n",
              "      <td>26793</td>\n",
              "      <td>13352962</td>\n",
              "      <td>2020-03-19</td>\n",
              "    </tr>\n",
              "    <tr>\n",
              "      <th>2</th>\n",
              "      <td>26928</td>\n",
              "      <td>19059029</td>\n",
              "      <td>2020-03-19</td>\n",
              "    </tr>\n",
              "    <tr>\n",
              "      <th>3</th>\n",
              "      <td>26891</td>\n",
              "      <td>31259698</td>\n",
              "      <td>2020-03-19</td>\n",
              "    </tr>\n",
              "    <tr>\n",
              "      <th>4</th>\n",
              "      <td>26720</td>\n",
              "      <td>41453437</td>\n",
              "      <td>2020-03-19</td>\n",
              "    </tr>\n",
              "  </tbody>\n",
              "</table>\n",
              "</div>"
            ],
            "text/plain": [
              "   ingreso    cedula    fecha_oc\n",
              "0    26806    390646  2020-03-19\n",
              "1    26793  13352962  2020-03-19\n",
              "2    26928  19059029  2020-03-19\n",
              "3    26891  31259698  2020-03-19\n",
              "4    26720  41453437  2020-03-19"
            ]
          },
          "metadata": {},
          "execution_count": 4
        }
      ]
    },
    {
      "cell_type": "markdown",
      "metadata": {
        "id": "Rvqdvrzpv2jY"
      },
      "source": [
        "![purple-divider](https://user-images.githubusercontent.com/7065401/52071927-c1cd7100-2562-11e9-908a-dde91ba14e59.png)"
      ]
    },
    {
      "cell_type": "markdown",
      "metadata": {
        "id": "d02slko9v77v"
      },
      "source": [
        "## Procedures FMs"
      ]
    },
    {
      "cell_type": "code",
      "metadata": {
        "id": "Xid2wi95wAEG",
        "colab": {
          "base_uri": "https://localhost:8080/",
          "height": 382
        },
        "outputId": "72637dca-5730-4374-e861-d62c72a8e7f0"
      },
      "source": [
        "# procedures df\n",
        "df_procedures.head()"
      ],
      "execution_count": 5,
      "outputs": [
        {
          "output_type": "execute_result",
          "data": {
            "text/html": [
              "<div>\n",
              "<style scoped>\n",
              "    .dataframe tbody tr th:only-of-type {\n",
              "        vertical-align: middle;\n",
              "    }\n",
              "\n",
              "    .dataframe tbody tr th {\n",
              "        vertical-align: top;\n",
              "    }\n",
              "\n",
              "    .dataframe thead th {\n",
              "        text-align: right;\n",
              "    }\n",
              "</style>\n",
              "<table border=\"1\" class=\"dataframe\">\n",
              "  <thead>\n",
              "    <tr style=\"text-align: right;\">\n",
              "      <th></th>\n",
              "      <th>Ingreso</th>\n",
              "      <th>DocPaciente</th>\n",
              "      <th>Fecha Nacimiento</th>\n",
              "      <th>Edad</th>\n",
              "      <th>Sexo</th>\n",
              "      <th>CiudadMunicipio</th>\n",
              "      <th>Diagnostico</th>\n",
              "      <th>CodigoDiagnostico</th>\n",
              "      <th>Plan</th>\n",
              "      <th>Tipo Plan</th>\n",
              "      <th>FechaIngreso</th>\n",
              "      <th>FechaFormulacion</th>\n",
              "      <th>CodProducto</th>\n",
              "      <th>Cantidad</th>\n",
              "      <th>DocMedico</th>\n",
              "      <th>NombreMedico</th>\n",
              "      <th>Especialidad</th>\n",
              "      <th>Plan/Servicio</th>\n",
              "      <th>Sede</th>\n",
              "    </tr>\n",
              "  </thead>\n",
              "  <tbody>\n",
              "    <tr>\n",
              "      <th>0</th>\n",
              "      <td>26720</td>\n",
              "      <td>41453437</td>\n",
              "      <td>30/09/1949</td>\n",
              "      <td>72</td>\n",
              "      <td>F</td>\n",
              "      <td>BOGOTÁ D.C.</td>\n",
              "      <td>(OSTEO)ARTROSIS PRIMARIAGENERALIZADA</td>\n",
              "      <td>M150</td>\n",
              "      <td>PLAN PARTICULAR</td>\n",
              "      <td>Particular</td>\n",
              "      <td>2020-03-19</td>\n",
              "      <td>2020-03-19</td>\n",
              "      <td>fm001</td>\n",
              "      <td>1</td>\n",
              "      <td>53013811</td>\n",
              "      <td>LENIS  RIVERA</td>\n",
              "      <td>Algesiólogo</td>\n",
              "      <td>Consulta Dolor y Cuidados Paliativos</td>\n",
              "      <td>ZERENIA</td>\n",
              "    </tr>\n",
              "    <tr>\n",
              "      <th>1</th>\n",
              "      <td>26793</td>\n",
              "      <td>13352962</td>\n",
              "      <td>10/11/1960</td>\n",
              "      <td>61</td>\n",
              "      <td>M</td>\n",
              "      <td>BOGOTÁ D.C.</td>\n",
              "      <td>TRASTORNO DE DISCO LUMBAR YOTROS, CON RADICULO...</td>\n",
              "      <td>M511</td>\n",
              "      <td>PLAN PARTICULAR</td>\n",
              "      <td>Particular</td>\n",
              "      <td>2020-03-19</td>\n",
              "      <td>2020-03-19</td>\n",
              "      <td>fm001</td>\n",
              "      <td>1</td>\n",
              "      <td>53013811</td>\n",
              "      <td>LENIS  RIVERA</td>\n",
              "      <td>Algesiólogo</td>\n",
              "      <td>Consulta Dolor y Cuidados Paliativos</td>\n",
              "      <td>ZERENIA</td>\n",
              "    </tr>\n",
              "    <tr>\n",
              "      <th>2</th>\n",
              "      <td>26806</td>\n",
              "      <td>390646</td>\n",
              "      <td>1/08/1934</td>\n",
              "      <td>87</td>\n",
              "      <td>M</td>\n",
              "      <td>BOGOTÁ D.C.</td>\n",
              "      <td>NEURALGIA POSTHERPES ZOSTER(B02.2†)</td>\n",
              "      <td>G530</td>\n",
              "      <td>PLAN PARTICULAR</td>\n",
              "      <td>Particular</td>\n",
              "      <td>2020-03-19</td>\n",
              "      <td>2020-03-19</td>\n",
              "      <td>fm001</td>\n",
              "      <td>1</td>\n",
              "      <td>53013811</td>\n",
              "      <td>LENIS  RIVERA</td>\n",
              "      <td>Algesiólogo</td>\n",
              "      <td>Consulta Dolor y Cuidados Paliativos</td>\n",
              "      <td>ZERENIA</td>\n",
              "    </tr>\n",
              "    <tr>\n",
              "      <th>3</th>\n",
              "      <td>26928</td>\n",
              "      <td>19059029</td>\n",
              "      <td>13/09/1948</td>\n",
              "      <td>73</td>\n",
              "      <td>M</td>\n",
              "      <td>BOGOTÁ D.C.</td>\n",
              "      <td>NaN</td>\n",
              "      <td>NaN</td>\n",
              "      <td>PLAN PARTICULAR</td>\n",
              "      <td>Particular</td>\n",
              "      <td>2020-03-19</td>\n",
              "      <td>2020-03-19</td>\n",
              "      <td>fm001</td>\n",
              "      <td>1</td>\n",
              "      <td>53007921</td>\n",
              "      <td>XIOMARA  GARCIA</td>\n",
              "      <td>Neurologia</td>\n",
              "      <td>Neurologia</td>\n",
              "      <td>ZERENIA</td>\n",
              "    </tr>\n",
              "    <tr>\n",
              "      <th>4</th>\n",
              "      <td>26846</td>\n",
              "      <td>41595666</td>\n",
              "      <td>20/09/1953</td>\n",
              "      <td>68</td>\n",
              "      <td>F</td>\n",
              "      <td>CAJICÁ</td>\n",
              "      <td>NaN</td>\n",
              "      <td>NaN</td>\n",
              "      <td>PLAN PARTICULAR</td>\n",
              "      <td>Particular</td>\n",
              "      <td>2020-03-19</td>\n",
              "      <td>2020-03-19</td>\n",
              "      <td>fm001</td>\n",
              "      <td>1</td>\n",
              "      <td>53007921</td>\n",
              "      <td>XIOMARA  GARCIA</td>\n",
              "      <td>Neurologia</td>\n",
              "      <td>Neurologia</td>\n",
              "      <td>ZERENIA</td>\n",
              "    </tr>\n",
              "  </tbody>\n",
              "</table>\n",
              "</div>"
            ],
            "text/plain": [
              "   Ingreso DocPaciente  ...                         Plan/Servicio     Sede\n",
              "0    26720    41453437  ...  Consulta Dolor y Cuidados Paliativos  ZERENIA\n",
              "1    26793    13352962  ...  Consulta Dolor y Cuidados Paliativos  ZERENIA\n",
              "2    26806      390646  ...  Consulta Dolor y Cuidados Paliativos  ZERENIA\n",
              "3    26928    19059029  ...                            Neurologia  ZERENIA\n",
              "4    26846    41595666  ...                            Neurologia  ZERENIA\n",
              "\n",
              "[5 rows x 19 columns]"
            ]
          },
          "metadata": {},
          "execution_count": 5
        }
      ]
    },
    {
      "cell_type": "code",
      "metadata": {
        "colab": {
          "base_uri": "https://localhost:8080/"
        },
        "id": "M3HmYQ8GP_Ca",
        "outputId": "1357a8ec-6be8-430f-8ccc-9c91824b9b25"
      },
      "source": [
        "# check shape of df\n",
        "df_procedures.shape"
      ],
      "execution_count": 6,
      "outputs": [
        {
          "output_type": "execute_result",
          "data": {
            "text/plain": [
              "(35187, 19)"
            ]
          },
          "metadata": {},
          "execution_count": 6
        }
      ]
    },
    {
      "cell_type": "code",
      "metadata": {
        "colab": {
          "base_uri": "https://localhost:8080/"
        },
        "id": "j0JWwTRgQG4h",
        "outputId": "de33234f-d7f1-417c-8cec-0fb744b3855b"
      },
      "source": [
        "# check column types\n",
        "df_procedures.dtypes"
      ],
      "execution_count": 7,
      "outputs": [
        {
          "output_type": "execute_result",
          "data": {
            "text/plain": [
              "Ingreso               int64\n",
              "DocPaciente          object\n",
              "Fecha Nacimiento     object\n",
              "Edad                  int64\n",
              "Sexo                 object\n",
              "CiudadMunicipio      object\n",
              "Diagnostico          object\n",
              "CodigoDiagnostico    object\n",
              "Plan                 object\n",
              "Tipo Plan            object\n",
              "FechaIngreso         object\n",
              "FechaFormulacion     object\n",
              "CodProducto          object\n",
              "Cantidad              int64\n",
              "DocMedico             int64\n",
              "NombreMedico         object\n",
              "Especialidad         object\n",
              "Plan/Servicio        object\n",
              "Sede                 object\n",
              "dtype: object"
            ]
          },
          "metadata": {},
          "execution_count": 7
        }
      ]
    },
    {
      "cell_type": "code",
      "metadata": {
        "colab": {
          "base_uri": "https://localhost:8080/",
          "height": 510
        },
        "id": "1vKErZ2eQPbg",
        "outputId": "6e0d661a-86ce-47a9-a578-7cdc990aa752"
      },
      "source": [
        "# check for missing values\n",
        "import missingno as msg\n",
        "\n",
        "msg.matrix(df_procedures, figsize=(12, 6))"
      ],
      "execution_count": 8,
      "outputs": [
        {
          "output_type": "execute_result",
          "data": {
            "text/plain": [
              "<matplotlib.axes._subplots.AxesSubplot at 0x7fcd8d1a6810>"
            ]
          },
          "metadata": {},
          "execution_count": 8
        },
        {
          "output_type": "display_data",
          "data": {
            "image/png": "[encoded data removed]",
            "text/plain": [
              "<Figure size 864x432 with 2 Axes>"
            ]
          },
          "metadata": {
            "needs_background": "light"
          }
        }
      ]
    },
    {
      "cell_type": "code",
      "metadata": {
        "colab": {
          "base_uri": "https://localhost:8080/"
        },
        "id": "zqd1byUzQet-",
        "outputId": "649aeeb3-03ea-4e93-a178-9752870f2104"
      },
      "source": [
        "# find number of missing values in 'Diagnostico'\n",
        "\n",
        "na_diagnostic = df_procedures['Diagnostico'].isna().sum()\n",
        "na_city = df_procedures['CiudadMunicipio'].isna().sum()\n",
        "\n",
        "print(f'Missing Values in Diagnostico: {na_diagnostic}')\n",
        "print(f'Missing values in CiudadMunicipio: {na_city}')"
      ],
      "execution_count": 9,
      "outputs": [
        {
          "output_type": "stream",
          "name": "stdout",
          "text": [
            "Missing Values in Diagnostico: 6426\n",
            "Missing values in CiudadMunicipio: 20\n"
          ]
        }
      ]
    },
    {
      "cell_type": "code",
      "metadata": {
        "colab": {
          "base_uri": "https://localhost:8080/"
        },
        "id": "SJrYAEDBRQY3",
        "outputId": "91957e95-a4e1-4117-cd6a-331a47779ff7"
      },
      "source": [
        "# drop na values of CiudadMunicipio\n",
        "df_procedures = df_procedures.dropna(subset=['CiudadMunicipio'])\n",
        "\n",
        "# check shape\n",
        "df_procedures.shape"
      ],
      "execution_count": 10,
      "outputs": [
        {
          "output_type": "execute_result",
          "data": {
            "text/plain": [
              "(35167, 19)"
            ]
          },
          "metadata": {},
          "execution_count": 10
        }
      ]
    },
    {
      "cell_type": "markdown",
      "metadata": {
        "id": "9XxpgYVwYEK5"
      },
      "source": [
        "![green-divider](https://user-images.githubusercontent.com/7065401/52071924-c003ad80-2562-11e9-8297-1c6595f8a7ff.png)"
      ]
    },
    {
      "cell_type": "markdown",
      "metadata": {
        "id": "GxA9ms-XYKhA"
      },
      "source": [
        "### GroupBy of Relevant Features\n"
      ]
    },
    {
      "cell_type": "code",
      "metadata": {
        "colab": {
          "base_uri": "https://localhost:8080/",
          "height": 300
        },
        "id": "IMslvsgkqnu6",
        "outputId": "d90048c2-810b-46fc-a8be-5740e4d00dae"
      },
      "source": [
        "# descriptive statistics\n",
        "df_procedures.describe()"
      ],
      "execution_count": 11,
      "outputs": [
        {
          "output_type": "execute_result",
          "data": {
            "text/html": [
              "<div>\n",
              "<style scoped>\n",
              "    .dataframe tbody tr th:only-of-type {\n",
              "        vertical-align: middle;\n",
              "    }\n",
              "\n",
              "    .dataframe tbody tr th {\n",
              "        vertical-align: top;\n",
              "    }\n",
              "\n",
              "    .dataframe thead th {\n",
              "        text-align: right;\n",
              "    }\n",
              "</style>\n",
              "<table border=\"1\" class=\"dataframe\">\n",
              "  <thead>\n",
              "    <tr style=\"text-align: right;\">\n",
              "      <th></th>\n",
              "      <th>Ingreso</th>\n",
              "      <th>Edad</th>\n",
              "      <th>Cantidad</th>\n",
              "      <th>DocMedico</th>\n",
              "    </tr>\n",
              "  </thead>\n",
              "  <tbody>\n",
              "    <tr>\n",
              "      <th>count</th>\n",
              "      <td>35167.000000</td>\n",
              "      <td>35167.000000</td>\n",
              "      <td>35167.000000</td>\n",
              "      <td>3.516700e+04</td>\n",
              "    </tr>\n",
              "    <tr>\n",
              "      <th>mean</th>\n",
              "      <td>152045.264396</td>\n",
              "      <td>58.010351</td>\n",
              "      <td>1.349362</td>\n",
              "      <td>3.059599e+08</td>\n",
              "    </tr>\n",
              "    <tr>\n",
              "      <th>std</th>\n",
              "      <td>47766.591744</td>\n",
              "      <td>15.819550</td>\n",
              "      <td>0.754741</td>\n",
              "      <td>4.446890e+08</td>\n",
              "    </tr>\n",
              "    <tr>\n",
              "      <th>min</th>\n",
              "      <td>26720.000000</td>\n",
              "      <td>1.000000</td>\n",
              "      <td>1.000000</td>\n",
              "      <td>1.374997e+07</td>\n",
              "    </tr>\n",
              "    <tr>\n",
              "      <th>25%</th>\n",
              "      <td>117779.500000</td>\n",
              "      <td>48.000000</td>\n",
              "      <td>1.000000</td>\n",
              "      <td>1.906250e+07</td>\n",
              "    </tr>\n",
              "    <tr>\n",
              "      <th>50%</th>\n",
              "      <td>157990.000000</td>\n",
              "      <td>58.000000</td>\n",
              "      <td>1.000000</td>\n",
              "      <td>7.226080e+07</td>\n",
              "    </tr>\n",
              "    <tr>\n",
              "      <th>75%</th>\n",
              "      <td>191695.500000</td>\n",
              "      <td>69.000000</td>\n",
              "      <td>2.000000</td>\n",
              "      <td>1.017171e+09</td>\n",
              "    </tr>\n",
              "    <tr>\n",
              "      <th>max</th>\n",
              "      <td>225591.000000</td>\n",
              "      <td>101.000000</td>\n",
              "      <td>30.000000</td>\n",
              "      <td>1.235245e+09</td>\n",
              "    </tr>\n",
              "  </tbody>\n",
              "</table>\n",
              "</div>"
            ],
            "text/plain": [
              "             Ingreso          Edad      Cantidad     DocMedico\n",
              "count   35167.000000  35167.000000  35167.000000  3.516700e+04\n",
              "mean   152045.264396     58.010351      1.349362  3.059599e+08\n",
              "std     47766.591744     15.819550      0.754741  4.446890e+08\n",
              "min     26720.000000      1.000000      1.000000  1.374997e+07\n",
              "25%    117779.500000     48.000000      1.000000  1.906250e+07\n",
              "50%    157990.000000     58.000000      1.000000  7.226080e+07\n",
              "75%    191695.500000     69.000000      2.000000  1.017171e+09\n",
              "max    225591.000000    101.000000     30.000000  1.235245e+09"
            ]
          },
          "metadata": {},
          "execution_count": 11
        }
      ]
    },
    {
      "cell_type": "markdown",
      "metadata": {
        "id": "qXAB52j9mNUI"
      },
      "source": [
        "#### Number of FMs Prescriptions by Site"
      ]
    },
    {
      "cell_type": "code",
      "metadata": {
        "colab": {
          "base_uri": "https://localhost:8080/",
          "height": 426
        },
        "id": "pEDGwm8tYOWB",
        "outputId": "3b707c8b-b5a3-4600-e941-0e64df05c938"
      },
      "source": [
        "# FM procedures by sede\n",
        "fm_proced_sede = df_procedures.groupby(['Sede']).Cantidad.sum().reset_index()\n",
        "\n",
        "fm_proced_sede['%_Prescripciones'] = (fm_proced_sede.Cantidad / fm_proced_sede.Cantidad.sum()) * 100\n",
        "fm_proced_sede"
      ],
      "execution_count": 12,
      "outputs": [
        {
          "output_type": "execute_result",
          "data": {
            "text/html": [
              "<div>\n",
              "<style scoped>\n",
              "    .dataframe tbody tr th:only-of-type {\n",
              "        vertical-align: middle;\n",
              "    }\n",
              "\n",
              "    .dataframe tbody tr th {\n",
              "        vertical-align: top;\n",
              "    }\n",
              "\n",
              "    .dataframe thead th {\n",
              "        text-align: right;\n",
              "    }\n",
              "</style>\n",
              "<table border=\"1\" class=\"dataframe\">\n",
              "  <thead>\n",
              "    <tr style=\"text-align: right;\">\n",
              "      <th></th>\n",
              "      <th>Sede</th>\n",
              "      <th>Cantidad</th>\n",
              "      <th>%_Prescripciones</th>\n",
              "    </tr>\n",
              "  </thead>\n",
              "  <tbody>\n",
              "    <tr>\n",
              "      <th>0</th>\n",
              "      <td>COUNTRY</td>\n",
              "      <td>3952</td>\n",
              "      <td>8.328241</td>\n",
              "    </tr>\n",
              "    <tr>\n",
              "      <th>1</th>\n",
              "      <td>PARKWAY</td>\n",
              "      <td>922</td>\n",
              "      <td>1.942975</td>\n",
              "    </tr>\n",
              "    <tr>\n",
              "      <th>2</th>\n",
              "      <td>ZERENIA</td>\n",
              "      <td>41349</td>\n",
              "      <td>87.136746</td>\n",
              "    </tr>\n",
              "    <tr>\n",
              "      <th>3</th>\n",
              "      <td>ZERENIA  - IBAGUE</td>\n",
              "      <td>106</td>\n",
              "      <td>0.223379</td>\n",
              "    </tr>\n",
              "    <tr>\n",
              "      <th>4</th>\n",
              "      <td>ZERENIA  - MEDELLÍN</td>\n",
              "      <td>420</td>\n",
              "      <td>0.885086</td>\n",
              "    </tr>\n",
              "    <tr>\n",
              "      <th>5</th>\n",
              "      <td>ZERENIA - ARMENIA</td>\n",
              "      <td>61</td>\n",
              "      <td>0.128548</td>\n",
              "    </tr>\n",
              "    <tr>\n",
              "      <th>6</th>\n",
              "      <td>ZERENIA - BARRANQUILLA</td>\n",
              "      <td>89</td>\n",
              "      <td>0.187554</td>\n",
              "    </tr>\n",
              "    <tr>\n",
              "      <th>7</th>\n",
              "      <td>ZERENIA - BUCARAMANGA</td>\n",
              "      <td>177</td>\n",
              "      <td>0.373001</td>\n",
              "    </tr>\n",
              "    <tr>\n",
              "      <th>8</th>\n",
              "      <td>ZERENIA - CALI</td>\n",
              "      <td>256</td>\n",
              "      <td>0.539481</td>\n",
              "    </tr>\n",
              "    <tr>\n",
              "      <th>9</th>\n",
              "      <td>ZERENIA - MANIZALES</td>\n",
              "      <td>3</td>\n",
              "      <td>0.006322</td>\n",
              "    </tr>\n",
              "    <tr>\n",
              "      <th>10</th>\n",
              "      <td>ZERENIA - PEREIRA</td>\n",
              "      <td>114</td>\n",
              "      <td>0.240238</td>\n",
              "    </tr>\n",
              "    <tr>\n",
              "      <th>11</th>\n",
              "      <td>ZERENIA - VALLEDUPAR</td>\n",
              "      <td>4</td>\n",
              "      <td>0.008429</td>\n",
              "    </tr>\n",
              "  </tbody>\n",
              "</table>\n",
              "</div>"
            ],
            "text/plain": [
              "                      Sede  Cantidad  %_Prescripciones\n",
              "0                  COUNTRY      3952          8.328241\n",
              "1                  PARKWAY       922          1.942975\n",
              "2                  ZERENIA     41349         87.136746\n",
              "3       ZERENIA  - IBAGUE        106          0.223379\n",
              "4      ZERENIA  - MEDELLÍN       420          0.885086\n",
              "5        ZERENIA - ARMENIA        61          0.128548\n",
              "6   ZERENIA - BARRANQUILLA        89          0.187554\n",
              "7    ZERENIA - BUCARAMANGA       177          0.373001\n",
              "8           ZERENIA - CALI       256          0.539481\n",
              "9      ZERENIA - MANIZALES         3          0.006322\n",
              "10       ZERENIA - PEREIRA       114          0.240238\n",
              "11    ZERENIA - VALLEDUPAR         4          0.008429"
            ]
          },
          "metadata": {},
          "execution_count": 12
        }
      ]
    },
    {
      "cell_type": "markdown",
      "metadata": {
        "id": "uDcTdlDWma-C"
      },
      "source": [
        "is_Zerenia is a relevant feature since 87.13% of FMs prescribed come from this clinic"
      ]
    },
    {
      "cell_type": "code",
      "metadata": {
        "colab": {
          "base_uri": "https://localhost:8080/",
          "height": 501
        },
        "id": "E85gmbCjbLw3",
        "outputId": "f8b8d59e-92ea-4cd1-941f-7dea1b557395"
      },
      "source": [
        "# barplot of prescribed FMs per Sede\n",
        "\n",
        "f, ax = plt.subplots(figsize=(20,6))\n",
        "\n",
        "sns.barplot(x=fm_proced_sede.Sede, y=fm_proced_sede.Cantidad)\n",
        "# rotate x labels\n",
        "plt.xticks(rotation=45)\n",
        "plt.ylabel('Cantidad de FMs')\n",
        "\n",
        "plt.title('Cantidad de FMs Prescritas por Sede - Marzo 2020 a Septiembre 2021', pad=12)\n",
        "plt.show()"
      ],
      "execution_count": 13,
      "outputs": [
        {
          "output_type": "display_data",
          "data": {
            "image/png": "[encoded data removed]",
            "text/plain": [
              "<Figure size 1440x432 with 1 Axes>"
            ]
          },
          "metadata": {
            "needs_background": "light"
          }
        }
      ]
    },
    {
      "cell_type": "markdown",
      "metadata": {
        "id": "Ml2Bt2dNmVsR"
      },
      "source": [
        "![green-divider](https://user-images.githubusercontent.com/7065401/52071924-c003ad80-2562-11e9-8297-1c6595f8a7ff.png)"
      ]
    },
    {
      "cell_type": "markdown",
      "metadata": {
        "id": "TKdZN_vpnQzw"
      },
      "source": [
        "#### Number of FMs Prescribed by Sex"
      ]
    },
    {
      "cell_type": "code",
      "metadata": {
        "colab": {
          "base_uri": "https://localhost:8080/",
          "height": 143
        },
        "id": "kYQWM6AQZ9Eu",
        "outputId": "fccbcbe4-f3e2-439c-c982-3f5e60d90961"
      },
      "source": [
        "# FM procedures by sexo\n",
        "fm_proced_sex = df_procedures.groupby(['Sexo']).Cantidad.sum().reset_index()\n",
        "\n",
        "fm_proced_sex['%_Prescripciones'] = (fm_proced_sex.Cantidad / fm_proced_sex.Cantidad.sum()) * 100\n",
        "fm_proced_sex"
      ],
      "execution_count": 14,
      "outputs": [
        {
          "output_type": "execute_result",
          "data": {
            "text/html": [
              "<div>\n",
              "<style scoped>\n",
              "    .dataframe tbody tr th:only-of-type {\n",
              "        vertical-align: middle;\n",
              "    }\n",
              "\n",
              "    .dataframe tbody tr th {\n",
              "        vertical-align: top;\n",
              "    }\n",
              "\n",
              "    .dataframe thead th {\n",
              "        text-align: right;\n",
              "    }\n",
              "</style>\n",
              "<table border=\"1\" class=\"dataframe\">\n",
              "  <thead>\n",
              "    <tr style=\"text-align: right;\">\n",
              "      <th></th>\n",
              "      <th>Sexo</th>\n",
              "      <th>Cantidad</th>\n",
              "      <th>%_Prescripciones</th>\n",
              "    </tr>\n",
              "  </thead>\n",
              "  <tbody>\n",
              "    <tr>\n",
              "      <th>0</th>\n",
              "      <td>F</td>\n",
              "      <td>33715</td>\n",
              "      <td>71.049249</td>\n",
              "    </tr>\n",
              "    <tr>\n",
              "      <th>1</th>\n",
              "      <td>I</td>\n",
              "      <td>1</td>\n",
              "      <td>0.002107</td>\n",
              "    </tr>\n",
              "    <tr>\n",
              "      <th>2</th>\n",
              "      <td>M</td>\n",
              "      <td>13737</td>\n",
              "      <td>28.948644</td>\n",
              "    </tr>\n",
              "  </tbody>\n",
              "</table>\n",
              "</div>"
            ],
            "text/plain": [
              "  Sexo  Cantidad  %_Prescripciones\n",
              "0    F     33715         71.049249\n",
              "1    I         1          0.002107\n",
              "2    M     13737         28.948644"
            ]
          },
          "metadata": {},
          "execution_count": 14
        }
      ]
    },
    {
      "cell_type": "markdown",
      "metadata": {
        "id": "3Ma1hQsRm5tj"
      },
      "source": [
        "The category 'I' of Sex is not going to be taken into account since Male(M) and Female(F) correspond to 99% of all patients prescribed "
      ]
    },
    {
      "cell_type": "code",
      "metadata": {
        "colab": {
          "base_uri": "https://localhost:8080/"
        },
        "id": "CZI-Kpz9luUN",
        "outputId": "fcad5924-fab7-4255-9cf3-eb94acaa601c"
      },
      "source": [
        "# make dataframe without Sexo == I\n",
        "df_procedures = df_procedures[df_procedures['Sexo'] != 'I']\n",
        "\n",
        "df_procedures.Sexo.unique()"
      ],
      "execution_count": 15,
      "outputs": [
        {
          "output_type": "execute_result",
          "data": {
            "text/plain": [
              "array(['F', 'M'], dtype=object)"
            ]
          },
          "metadata": {},
          "execution_count": 15
        }
      ]
    },
    {
      "cell_type": "code",
      "metadata": {
        "colab": {
          "base_uri": "https://localhost:8080/",
          "height": 404
        },
        "id": "t_PFf3bOc10a",
        "outputId": "2a6c6d5e-f877-4d53-c839-8c622b51cc72"
      },
      "source": [
        "# barplot of prescribed FMs per Sexo\n",
        "\n",
        "f, ax = plt.subplots(figsize=(12, 6))\n",
        "\n",
        "sns.barplot(x=fm_proced_sex.Sexo, y=fm_proced_sex.Cantidad)\n",
        "plt.ylabel('Cantidad de FMs')\n",
        "\n",
        "plt.title('Cantidad de FMs Prescritas por Sexo - Marzo 2020 a Septiembre 2021')\n",
        "plt.show()"
      ],
      "execution_count": 16,
      "outputs": [
        {
          "output_type": "display_data",
          "data": {
            "image/png": "[encoded data removed]",
            "text/plain": [
              "<Figure size 864x432 with 1 Axes>"
            ]
          },
          "metadata": {
            "needs_background": "light"
          }
        }
      ]
    },
    {
      "cell_type": "markdown",
      "metadata": {
        "id": "HlAz4FIgnvpE"
      },
      "source": [
        "![green-divider](https://user-images.githubusercontent.com/7065401/52071924-c003ad80-2562-11e9-8297-1c6595f8a7ff.png)"
      ]
    },
    {
      "cell_type": "markdown",
      "metadata": {
        "id": "lHm-HBl_oxND"
      },
      "source": [
        "#### Number of FMs Prescribed by Service/Plan"
      ]
    },
    {
      "cell_type": "code",
      "metadata": {
        "colab": {
          "base_uri": "https://localhost:8080/",
          "height": 645
        },
        "id": "LC8nBGqgn1MJ",
        "outputId": "6f1194a6-ea38-4593-d31b-459540e68271"
      },
      "source": [
        "# FMs prescribed by Plan/Servicio\n",
        "fm_proced_plan = df_procedures.groupby(['Plan/Servicio']).Cantidad.sum().reset_index()\n",
        "\n",
        "fm_proced_plan['%'] = (fm_proced_plan.Cantidad / fm_proced_plan.Cantidad.sum()) * 100\n",
        "fm_proced_plan"
      ],
      "execution_count": 17,
      "outputs": [
        {
          "output_type": "execute_result",
          "data": {
            "text/html": [
              "<div>\n",
              "<style scoped>\n",
              "    .dataframe tbody tr th:only-of-type {\n",
              "        vertical-align: middle;\n",
              "    }\n",
              "\n",
              "    .dataframe tbody tr th {\n",
              "        vertical-align: top;\n",
              "    }\n",
              "\n",
              "    .dataframe thead th {\n",
              "        text-align: right;\n",
              "    }\n",
              "</style>\n",
              "<table border=\"1\" class=\"dataframe\">\n",
              "  <thead>\n",
              "    <tr style=\"text-align: right;\">\n",
              "      <th></th>\n",
              "      <th>Plan/Servicio</th>\n",
              "      <th>Cantidad</th>\n",
              "      <th>%</th>\n",
              "    </tr>\n",
              "  </thead>\n",
              "  <tbody>\n",
              "    <tr>\n",
              "      <th>0</th>\n",
              "      <td>Cannabis Medicinal</td>\n",
              "      <td>3068</td>\n",
              "      <td>6.465481</td>\n",
              "    </tr>\n",
              "    <tr>\n",
              "      <th>1</th>\n",
              "      <td>Consulta Dolor y Cuidados Paliativos</td>\n",
              "      <td>34436</td>\n",
              "      <td>72.570176</td>\n",
              "    </tr>\n",
              "    <tr>\n",
              "      <th>2</th>\n",
              "      <td>Dolor y Cuidados Paliativos Bloqueos</td>\n",
              "      <td>14</td>\n",
              "      <td>0.029503</td>\n",
              "    </tr>\n",
              "    <tr>\n",
              "      <th>3</th>\n",
              "      <td>Dolor y Cuidados Paliativos Lisis</td>\n",
              "      <td>1</td>\n",
              "      <td>0.002107</td>\n",
              "    </tr>\n",
              "    <tr>\n",
              "      <th>4</th>\n",
              "      <td>Fisioterapia</td>\n",
              "      <td>1</td>\n",
              "      <td>0.002107</td>\n",
              "    </tr>\n",
              "    <tr>\n",
              "      <th>5</th>\n",
              "      <td>Flete Formula Magistral</td>\n",
              "      <td>8</td>\n",
              "      <td>0.016859</td>\n",
              "    </tr>\n",
              "    <tr>\n",
              "      <th>6</th>\n",
              "      <td>Juntas Médicas</td>\n",
              "      <td>119</td>\n",
              "      <td>0.250780</td>\n",
              "    </tr>\n",
              "    <tr>\n",
              "      <th>7</th>\n",
              "      <td>Medicina Fisica y Rehabilitacion</td>\n",
              "      <td>6</td>\n",
              "      <td>0.012644</td>\n",
              "    </tr>\n",
              "    <tr>\n",
              "      <th>8</th>\n",
              "      <td>Medicina General</td>\n",
              "      <td>1</td>\n",
              "      <td>0.002107</td>\n",
              "    </tr>\n",
              "    <tr>\n",
              "      <th>9</th>\n",
              "      <td>Medicina General.</td>\n",
              "      <td>1495</td>\n",
              "      <td>3.150552</td>\n",
              "    </tr>\n",
              "    <tr>\n",
              "      <th>10</th>\n",
              "      <td>Medicina Interna</td>\n",
              "      <td>1</td>\n",
              "      <td>0.002107</td>\n",
              "    </tr>\n",
              "    <tr>\n",
              "      <th>11</th>\n",
              "      <td>Neurocirugia</td>\n",
              "      <td>233</td>\n",
              "      <td>0.491023</td>\n",
              "    </tr>\n",
              "    <tr>\n",
              "      <th>12</th>\n",
              "      <td>Neurologia</td>\n",
              "      <td>1697</td>\n",
              "      <td>3.576245</td>\n",
              "    </tr>\n",
              "    <tr>\n",
              "      <th>13</th>\n",
              "      <td>Neurología  Epilepsia</td>\n",
              "      <td>161</td>\n",
              "      <td>0.339290</td>\n",
              "    </tr>\n",
              "    <tr>\n",
              "      <th>14</th>\n",
              "      <td>Neurología  Movimientos Anormales</td>\n",
              "      <td>534</td>\n",
              "      <td>1.125348</td>\n",
              "    </tr>\n",
              "    <tr>\n",
              "      <th>15</th>\n",
              "      <td>Neurología Programación y Re programación de E...</td>\n",
              "      <td>30</td>\n",
              "      <td>0.063222</td>\n",
              "    </tr>\n",
              "    <tr>\n",
              "      <th>16</th>\n",
              "      <td>Neuropediatria</td>\n",
              "      <td>150</td>\n",
              "      <td>0.316109</td>\n",
              "    </tr>\n",
              "    <tr>\n",
              "      <th>17</th>\n",
              "      <td>Psiquiatria</td>\n",
              "      <td>5495</td>\n",
              "      <td>11.580123</td>\n",
              "    </tr>\n",
              "    <tr>\n",
              "      <th>18</th>\n",
              "      <td>Psiquiatria o Unidad de Salud Mental</td>\n",
              "      <td>2</td>\n",
              "      <td>0.004215</td>\n",
              "    </tr>\n",
              "  </tbody>\n",
              "</table>\n",
              "</div>"
            ],
            "text/plain": [
              "                                        Plan/Servicio  Cantidad          %\n",
              "0                                  Cannabis Medicinal      3068   6.465481\n",
              "1                Consulta Dolor y Cuidados Paliativos     34436  72.570176\n",
              "2                Dolor y Cuidados Paliativos Bloqueos        14   0.029503\n",
              "3                  Dolor y Cuidados Paliativos Lisis          1   0.002107\n",
              "4                                        Fisioterapia         1   0.002107\n",
              "5                             Flete Formula Magistral         8   0.016859\n",
              "6                                      Juntas Médicas       119   0.250780\n",
              "7                    Medicina Fisica y Rehabilitacion         6   0.012644\n",
              "8                                    Medicina General         1   0.002107\n",
              "9                                   Medicina General.      1495   3.150552\n",
              "10                                   Medicina Interna         1   0.002107\n",
              "11                                       Neurocirugia       233   0.491023\n",
              "12                                         Neurologia      1697   3.576245\n",
              "13                              Neurología  Epilepsia       161   0.339290\n",
              "14                  Neurología  Movimientos Anormales       534   1.125348\n",
              "15  Neurología Programación y Re programación de E...        30   0.063222\n",
              "16                                     Neuropediatria       150   0.316109\n",
              "17                                        Psiquiatria      5495  11.580123\n",
              "18               Psiquiatria o Unidad de Salud Mental         2   0.004215"
            ]
          },
          "metadata": {},
          "execution_count": 17
        }
      ]
    },
    {
      "cell_type": "markdown",
      "metadata": {
        "id": "rxCOuMfmq_pU"
      },
      "source": [
        " The most relevant Services on the number of FMs prescribed are:\n",
        " - is_Dolor_Paliativo >> 72.57% of FMs prescribed\n",
        " - is_Psiquiatria >> 11.58% of FMs prescribed\n",
        " - is_Cannabis >> 6.46% of FMs prescribed\n",
        " - is_Neurology >> 3.57% of FMs prescribed\n",
        "\n",
        "These Services correspond to 97.1% of FMs prescribed"
      ]
    },
    {
      "cell_type": "markdown",
      "metadata": {
        "id": "b1I58X8wwYIA"
      },
      "source": [
        "![green-divider](https://user-images.githubusercontent.com/7065401/52071924-c003ad80-2562-11e9-8297-1c6595f8a7ff.png)"
      ]
    },
    {
      "cell_type": "markdown",
      "metadata": {
        "id": "V7trZXziw0gT"
      },
      "source": [
        "#### Number of FMs Prescribed by Product Type"
      ]
    },
    {
      "cell_type": "code",
      "metadata": {
        "colab": {
          "base_uri": "https://localhost:8080/",
          "height": 206
        },
        "id": "-qYYRPSVxAsy",
        "outputId": "e8132b8c-3929-4462-cd0e-3c0b6e26b2c4"
      },
      "source": [
        "# FMs prescribed by CodProducto\n",
        "fm_proced_prod = df_procedures.groupby(['CodProducto']).Cantidad.sum().reset_index()\n",
        "\n",
        "fm_proced_prod['%'] = (fm_proced_prod.Cantidad / fm_proced_prod.Cantidad.sum()) * 100\n",
        "fm_proced_prod"
      ],
      "execution_count": 18,
      "outputs": [
        {
          "output_type": "execute_result",
          "data": {
            "text/html": [
              "<div>\n",
              "<style scoped>\n",
              "    .dataframe tbody tr th:only-of-type {\n",
              "        vertical-align: middle;\n",
              "    }\n",
              "\n",
              "    .dataframe tbody tr th {\n",
              "        vertical-align: top;\n",
              "    }\n",
              "\n",
              "    .dataframe thead th {\n",
              "        text-align: right;\n",
              "    }\n",
              "</style>\n",
              "<table border=\"1\" class=\"dataframe\">\n",
              "  <thead>\n",
              "    <tr style=\"text-align: right;\">\n",
              "      <th></th>\n",
              "      <th>CodProducto</th>\n",
              "      <th>Cantidad</th>\n",
              "      <th>%</th>\n",
              "    </tr>\n",
              "  </thead>\n",
              "  <tbody>\n",
              "    <tr>\n",
              "      <th>0</th>\n",
              "      <td>fm001</td>\n",
              "      <td>26989</td>\n",
              "      <td>56.876422</td>\n",
              "    </tr>\n",
              "    <tr>\n",
              "      <th>1</th>\n",
              "      <td>fm002</td>\n",
              "      <td>722</td>\n",
              "      <td>1.521538</td>\n",
              "    </tr>\n",
              "    <tr>\n",
              "      <th>2</th>\n",
              "      <td>fm003</td>\n",
              "      <td>17773</td>\n",
              "      <td>37.454691</td>\n",
              "    </tr>\n",
              "    <tr>\n",
              "      <th>3</th>\n",
              "      <td>fm004</td>\n",
              "      <td>1816</td>\n",
              "      <td>3.827025</td>\n",
              "    </tr>\n",
              "    <tr>\n",
              "      <th>4</th>\n",
              "      <td>fm005</td>\n",
              "      <td>152</td>\n",
              "      <td>0.320324</td>\n",
              "    </tr>\n",
              "  </tbody>\n",
              "</table>\n",
              "</div>"
            ],
            "text/plain": [
              "  CodProducto  Cantidad          %\n",
              "0       fm001     26989  56.876422\n",
              "1       fm002       722   1.521538\n",
              "2       fm003     17773  37.454691\n",
              "3       fm004      1816   3.827025\n",
              "4       fm005       152   0.320324"
            ]
          },
          "metadata": {},
          "execution_count": 18
        }
      ]
    },
    {
      "cell_type": "markdown",
      "metadata": {
        "id": "SAnRDRBFh4Cy"
      },
      "source": [
        "The most relevant product types on the number of FMs prescribed are:\n",
        "- fm001 >> 56.87% of FMs prescribed\n",
        "- fm003 >> 37.45% of FMs prescribed\n",
        "\n",
        "These two product types correspond to 94.3% of FMs prescribed"
      ]
    },
    {
      "cell_type": "markdown",
      "metadata": {
        "id": "SKZRvbBTiZDJ"
      },
      "source": [
        "![green-divider](https://user-images.githubusercontent.com/7065401/52071924-c003ad80-2562-11e9-8297-1c6595f8a7ff.png)"
      ]
    },
    {
      "cell_type": "markdown",
      "metadata": {
        "id": "Bou-SDhSi5Iz"
      },
      "source": [
        "#### Number of FMs Prescribed by FechaFormulacion"
      ]
    },
    {
      "cell_type": "code",
      "metadata": {
        "colab": {
          "base_uri": "https://localhost:8080/"
        },
        "id": "mY9FGSTvibm5",
        "outputId": "7ec5c171-bbd9-4b7d-cfd3-18caa8489a82"
      },
      "source": [
        "# convert FechaFormulacion to datetime\n",
        "df_procedures['FechaFormulacion'] = pd.to_datetime(df_procedures['FechaFormulacion'])\n",
        "\n",
        "# check that the change was made\n",
        "df_procedures.dtypes"
      ],
      "execution_count": 19,
      "outputs": [
        {
          "output_type": "execute_result",
          "data": {
            "text/plain": [
              "Ingreso                       int64\n",
              "DocPaciente                  object\n",
              "Fecha Nacimiento             object\n",
              "Edad                          int64\n",
              "Sexo                         object\n",
              "CiudadMunicipio              object\n",
              "Diagnostico                  object\n",
              "CodigoDiagnostico            object\n",
              "Plan                         object\n",
              "Tipo Plan                    object\n",
              "FechaIngreso                 object\n",
              "FechaFormulacion     datetime64[ns]\n",
              "CodProducto                  object\n",
              "Cantidad                      int64\n",
              "DocMedico                     int64\n",
              "NombreMedico                 object\n",
              "Especialidad                 object\n",
              "Plan/Servicio                object\n",
              "Sede                         object\n",
              "dtype: object"
            ]
          },
          "metadata": {},
          "execution_count": 19
        }
      ]
    },
    {
      "cell_type": "code",
      "metadata": {
        "colab": {
          "base_uri": "https://localhost:8080/",
          "height": 382
        },
        "id": "2zQBeG1tjpcR",
        "outputId": "fb88b287-ce9e-49d7-d91c-ebf2fa136a7c"
      },
      "source": [
        "# create month and year column >> using pd.DatetimeIndex()\n",
        "df_procedures['Month'] = pd.DatetimeIndex(df_procedures['FechaFormulacion']).month\n",
        "df_procedures['Year'] = pd.DatetimeIndex(df_procedures['FechaFormulacion']).year\n",
        "\n",
        "df_procedures.head()"
      ],
      "execution_count": 20,
      "outputs": [
        {
          "output_type": "execute_result",
          "data": {
            "text/html": [
              "<div>\n",
              "<style scoped>\n",
              "    .dataframe tbody tr th:only-of-type {\n",
              "        vertical-align: middle;\n",
              "    }\n",
              "\n",
              "    .dataframe tbody tr th {\n",
              "        vertical-align: top;\n",
              "    }\n",
              "\n",
              "    .dataframe thead th {\n",
              "        text-align: right;\n",
              "    }\n",
              "</style>\n",
              "<table border=\"1\" class=\"dataframe\">\n",
              "  <thead>\n",
              "    <tr style=\"text-align: right;\">\n",
              "      <th></th>\n",
              "      <th>Ingreso</th>\n",
              "      <th>DocPaciente</th>\n",
              "      <th>Fecha Nacimiento</th>\n",
              "      <th>Edad</th>\n",
              "      <th>Sexo</th>\n",
              "      <th>CiudadMunicipio</th>\n",
              "      <th>Diagnostico</th>\n",
              "      <th>CodigoDiagnostico</th>\n",
              "      <th>Plan</th>\n",
              "      <th>Tipo Plan</th>\n",
              "      <th>FechaIngreso</th>\n",
              "      <th>FechaFormulacion</th>\n",
              "      <th>CodProducto</th>\n",
              "      <th>Cantidad</th>\n",
              "      <th>DocMedico</th>\n",
              "      <th>NombreMedico</th>\n",
              "      <th>Especialidad</th>\n",
              "      <th>Plan/Servicio</th>\n",
              "      <th>Sede</th>\n",
              "      <th>Month</th>\n",
              "      <th>Year</th>\n",
              "    </tr>\n",
              "  </thead>\n",
              "  <tbody>\n",
              "    <tr>\n",
              "      <th>0</th>\n",
              "      <td>26720</td>\n",
              "      <td>41453437</td>\n",
              "      <td>30/09/1949</td>\n",
              "      <td>72</td>\n",
              "      <td>F</td>\n",
              "      <td>BOGOTÁ D.C.</td>\n",
              "      <td>(OSTEO)ARTROSIS PRIMARIAGENERALIZADA</td>\n",
              "      <td>M150</td>\n",
              "      <td>PLAN PARTICULAR</td>\n",
              "      <td>Particular</td>\n",
              "      <td>2020-03-19</td>\n",
              "      <td>2020-03-19</td>\n",
              "      <td>fm001</td>\n",
              "      <td>1</td>\n",
              "      <td>53013811</td>\n",
              "      <td>LENIS  RIVERA</td>\n",
              "      <td>Algesiólogo</td>\n",
              "      <td>Consulta Dolor y Cuidados Paliativos</td>\n",
              "      <td>ZERENIA</td>\n",
              "      <td>3</td>\n",
              "      <td>2020</td>\n",
              "    </tr>\n",
              "    <tr>\n",
              "      <th>1</th>\n",
              "      <td>26793</td>\n",
              "      <td>13352962</td>\n",
              "      <td>10/11/1960</td>\n",
              "      <td>61</td>\n",
              "      <td>M</td>\n",
              "      <td>BOGOTÁ D.C.</td>\n",
              "      <td>TRASTORNO DE DISCO LUMBAR YOTROS, CON RADICULO...</td>\n",
              "      <td>M511</td>\n",
              "      <td>PLAN PARTICULAR</td>\n",
              "      <td>Particular</td>\n",
              "      <td>2020-03-19</td>\n",
              "      <td>2020-03-19</td>\n",
              "      <td>fm001</td>\n",
              "      <td>1</td>\n",
              "      <td>53013811</td>\n",
              "      <td>LENIS  RIVERA</td>\n",
              "      <td>Algesiólogo</td>\n",
              "      <td>Consulta Dolor y Cuidados Paliativos</td>\n",
              "      <td>ZERENIA</td>\n",
              "      <td>3</td>\n",
              "      <td>2020</td>\n",
              "    </tr>\n",
              "    <tr>\n",
              "      <th>2</th>\n",
              "      <td>26806</td>\n",
              "      <td>390646</td>\n",
              "      <td>1/08/1934</td>\n",
              "      <td>87</td>\n",
              "      <td>M</td>\n",
              "      <td>BOGOTÁ D.C.</td>\n",
              "      <td>NEURALGIA POSTHERPES ZOSTER(B02.2†)</td>\n",
              "      <td>G530</td>\n",
              "      <td>PLAN PARTICULAR</td>\n",
              "      <td>Particular</td>\n",
              "      <td>2020-03-19</td>\n",
              "      <td>2020-03-19</td>\n",
              "      <td>fm001</td>\n",
              "      <td>1</td>\n",
              "      <td>53013811</td>\n",
              "      <td>LENIS  RIVERA</td>\n",
              "      <td>Algesiólogo</td>\n",
              "      <td>Consulta Dolor y Cuidados Paliativos</td>\n",
              "      <td>ZERENIA</td>\n",
              "      <td>3</td>\n",
              "      <td>2020</td>\n",
              "    </tr>\n",
              "    <tr>\n",
              "      <th>3</th>\n",
              "      <td>26928</td>\n",
              "      <td>19059029</td>\n",
              "      <td>13/09/1948</td>\n",
              "      <td>73</td>\n",
              "      <td>M</td>\n",
              "      <td>BOGOTÁ D.C.</td>\n",
              "      <td>NaN</td>\n",
              "      <td>NaN</td>\n",
              "      <td>PLAN PARTICULAR</td>\n",
              "      <td>Particular</td>\n",
              "      <td>2020-03-19</td>\n",
              "      <td>2020-03-19</td>\n",
              "      <td>fm001</td>\n",
              "      <td>1</td>\n",
              "      <td>53007921</td>\n",
              "      <td>XIOMARA  GARCIA</td>\n",
              "      <td>Neurologia</td>\n",
              "      <td>Neurologia</td>\n",
              "      <td>ZERENIA</td>\n",
              "      <td>3</td>\n",
              "      <td>2020</td>\n",
              "    </tr>\n",
              "    <tr>\n",
              "      <th>4</th>\n",
              "      <td>26846</td>\n",
              "      <td>41595666</td>\n",
              "      <td>20/09/1953</td>\n",
              "      <td>68</td>\n",
              "      <td>F</td>\n",
              "      <td>CAJICÁ</td>\n",
              "      <td>NaN</td>\n",
              "      <td>NaN</td>\n",
              "      <td>PLAN PARTICULAR</td>\n",
              "      <td>Particular</td>\n",
              "      <td>2020-03-19</td>\n",
              "      <td>2020-03-19</td>\n",
              "      <td>fm001</td>\n",
              "      <td>1</td>\n",
              "      <td>53007921</td>\n",
              "      <td>XIOMARA  GARCIA</td>\n",
              "      <td>Neurologia</td>\n",
              "      <td>Neurologia</td>\n",
              "      <td>ZERENIA</td>\n",
              "      <td>3</td>\n",
              "      <td>2020</td>\n",
              "    </tr>\n",
              "  </tbody>\n",
              "</table>\n",
              "</div>"
            ],
            "text/plain": [
              "   Ingreso DocPaciente Fecha Nacimiento  ...     Sede Month  Year\n",
              "0    26720    41453437       30/09/1949  ...  ZERENIA     3  2020\n",
              "1    26793    13352962       10/11/1960  ...  ZERENIA     3  2020\n",
              "2    26806      390646        1/08/1934  ...  ZERENIA     3  2020\n",
              "3    26928    19059029       13/09/1948  ...  ZERENIA     3  2020\n",
              "4    26846    41595666       20/09/1953  ...  ZERENIA     3  2020\n",
              "\n",
              "[5 rows x 21 columns]"
            ]
          },
          "metadata": {},
          "execution_count": 20
        }
      ]
    },
    {
      "cell_type": "code",
      "metadata": {
        "id": "xyobfAZDmgE4"
      },
      "source": [
        "# function to calcultate number of presribed FMs\n",
        "def sum_avg_fm(df):\n",
        "  calc={}\n",
        "  calc['Numero_Prescripciones'] = len(df)\n",
        "  calc['Cantidad_FMs'] = df['Cantidad'].sum()\n",
        "\n",
        "\n",
        "  return pd.Series(calc, index=['Numero_Prescripciones', 'Cantidad_FMs', ])"
      ],
      "execution_count": 21,
      "outputs": []
    },
    {
      "cell_type": "code",
      "metadata": {
        "colab": {
          "base_uri": "https://localhost:8080/",
          "height": 645
        },
        "id": "V_v4btZtoDfn",
        "outputId": "e5d94d27-e373-40f2-fd70-9eada7b7d80e"
      },
      "source": [
        "# FMs prescribed by month/year\n",
        "fm_proced_month = df_procedures.groupby(['Year', 'Month']).apply(sum_avg_fm).reset_index()\n",
        "\n",
        "fm_proced_month['%_Cantidad'] = (fm_proced_month['Cantidad_FMs'] / fm_proced_month['Cantidad_FMs'].sum()) * 100\n",
        "fm_proced_month"
      ],
      "execution_count": 22,
      "outputs": [
        {
          "output_type": "execute_result",
          "data": {
            "text/html": [
              "<div>\n",
              "<style scoped>\n",
              "    .dataframe tbody tr th:only-of-type {\n",
              "        vertical-align: middle;\n",
              "    }\n",
              "\n",
              "    .dataframe tbody tr th {\n",
              "        vertical-align: top;\n",
              "    }\n",
              "\n",
              "    .dataframe thead th {\n",
              "        text-align: right;\n",
              "    }\n",
              "</style>\n",
              "<table border=\"1\" class=\"dataframe\">\n",
              "  <thead>\n",
              "    <tr style=\"text-align: right;\">\n",
              "      <th></th>\n",
              "      <th>Year</th>\n",
              "      <th>Month</th>\n",
              "      <th>Numero_Prescripciones</th>\n",
              "      <th>Cantidad_FMs</th>\n",
              "      <th>%_Cantidad</th>\n",
              "    </tr>\n",
              "  </thead>\n",
              "  <tbody>\n",
              "    <tr>\n",
              "      <th>0</th>\n",
              "      <td>2020</td>\n",
              "      <td>3</td>\n",
              "      <td>8</td>\n",
              "      <td>9</td>\n",
              "      <td>0.018967</td>\n",
              "    </tr>\n",
              "    <tr>\n",
              "      <th>1</th>\n",
              "      <td>2020</td>\n",
              "      <td>4</td>\n",
              "      <td>85</td>\n",
              "      <td>88</td>\n",
              "      <td>0.185451</td>\n",
              "    </tr>\n",
              "    <tr>\n",
              "      <th>2</th>\n",
              "      <td>2020</td>\n",
              "      <td>5</td>\n",
              "      <td>127</td>\n",
              "      <td>131</td>\n",
              "      <td>0.276068</td>\n",
              "    </tr>\n",
              "    <tr>\n",
              "      <th>3</th>\n",
              "      <td>2020</td>\n",
              "      <td>6</td>\n",
              "      <td>357</td>\n",
              "      <td>381</td>\n",
              "      <td>0.802917</td>\n",
              "    </tr>\n",
              "    <tr>\n",
              "      <th>4</th>\n",
              "      <td>2020</td>\n",
              "      <td>7</td>\n",
              "      <td>600</td>\n",
              "      <td>614</td>\n",
              "      <td>1.293939</td>\n",
              "    </tr>\n",
              "    <tr>\n",
              "      <th>5</th>\n",
              "      <td>2020</td>\n",
              "      <td>8</td>\n",
              "      <td>953</td>\n",
              "      <td>978</td>\n",
              "      <td>2.061030</td>\n",
              "    </tr>\n",
              "    <tr>\n",
              "      <th>6</th>\n",
              "      <td>2020</td>\n",
              "      <td>9</td>\n",
              "      <td>1237</td>\n",
              "      <td>1295</td>\n",
              "      <td>2.729074</td>\n",
              "    </tr>\n",
              "    <tr>\n",
              "      <th>7</th>\n",
              "      <td>2020</td>\n",
              "      <td>10</td>\n",
              "      <td>1306</td>\n",
              "      <td>1439</td>\n",
              "      <td>3.032538</td>\n",
              "    </tr>\n",
              "    <tr>\n",
              "      <th>8</th>\n",
              "      <td>2020</td>\n",
              "      <td>11</td>\n",
              "      <td>1256</td>\n",
              "      <td>1447</td>\n",
              "      <td>3.049397</td>\n",
              "    </tr>\n",
              "    <tr>\n",
              "      <th>9</th>\n",
              "      <td>2020</td>\n",
              "      <td>12</td>\n",
              "      <td>1371</td>\n",
              "      <td>1602</td>\n",
              "      <td>3.376043</td>\n",
              "    </tr>\n",
              "    <tr>\n",
              "      <th>10</th>\n",
              "      <td>2021</td>\n",
              "      <td>1</td>\n",
              "      <td>1755</td>\n",
              "      <td>2127</td>\n",
              "      <td>4.482424</td>\n",
              "    </tr>\n",
              "    <tr>\n",
              "      <th>11</th>\n",
              "      <td>2021</td>\n",
              "      <td>2</td>\n",
              "      <td>2537</td>\n",
              "      <td>3147</td>\n",
              "      <td>6.631965</td>\n",
              "    </tr>\n",
              "    <tr>\n",
              "      <th>12</th>\n",
              "      <td>2021</td>\n",
              "      <td>3</td>\n",
              "      <td>3083</td>\n",
              "      <td>3931</td>\n",
              "      <td>8.284161</td>\n",
              "    </tr>\n",
              "    <tr>\n",
              "      <th>13</th>\n",
              "      <td>2021</td>\n",
              "      <td>4</td>\n",
              "      <td>2615</td>\n",
              "      <td>3735</td>\n",
              "      <td>7.871112</td>\n",
              "    </tr>\n",
              "    <tr>\n",
              "      <th>14</th>\n",
              "      <td>2021</td>\n",
              "      <td>5</td>\n",
              "      <td>2771</td>\n",
              "      <td>4029</td>\n",
              "      <td>8.490685</td>\n",
              "    </tr>\n",
              "    <tr>\n",
              "      <th>15</th>\n",
              "      <td>2021</td>\n",
              "      <td>6</td>\n",
              "      <td>3892</td>\n",
              "      <td>5495</td>\n",
              "      <td>11.580123</td>\n",
              "    </tr>\n",
              "    <tr>\n",
              "      <th>16</th>\n",
              "      <td>2021</td>\n",
              "      <td>7</td>\n",
              "      <td>3520</td>\n",
              "      <td>5069</td>\n",
              "      <td>10.682374</td>\n",
              "    </tr>\n",
              "    <tr>\n",
              "      <th>17</th>\n",
              "      <td>2021</td>\n",
              "      <td>8</td>\n",
              "      <td>3948</td>\n",
              "      <td>6160</td>\n",
              "      <td>12.981539</td>\n",
              "    </tr>\n",
              "    <tr>\n",
              "      <th>18</th>\n",
              "      <td>2021</td>\n",
              "      <td>9</td>\n",
              "      <td>3745</td>\n",
              "      <td>5775</td>\n",
              "      <td>12.170193</td>\n",
              "    </tr>\n",
              "  </tbody>\n",
              "</table>\n",
              "</div>"
            ],
            "text/plain": [
              "    Year  Month  Numero_Prescripciones  Cantidad_FMs  %_Cantidad\n",
              "0   2020      3                      8             9    0.018967\n",
              "1   2020      4                     85            88    0.185451\n",
              "2   2020      5                    127           131    0.276068\n",
              "3   2020      6                    357           381    0.802917\n",
              "4   2020      7                    600           614    1.293939\n",
              "5   2020      8                    953           978    2.061030\n",
              "6   2020      9                   1237          1295    2.729074\n",
              "7   2020     10                   1306          1439    3.032538\n",
              "8   2020     11                   1256          1447    3.049397\n",
              "9   2020     12                   1371          1602    3.376043\n",
              "10  2021      1                   1755          2127    4.482424\n",
              "11  2021      2                   2537          3147    6.631965\n",
              "12  2021      3                   3083          3931    8.284161\n",
              "13  2021      4                   2615          3735    7.871112\n",
              "14  2021      5                   2771          4029    8.490685\n",
              "15  2021      6                   3892          5495   11.580123\n",
              "16  2021      7                   3520          5069   10.682374\n",
              "17  2021      8                   3948          6160   12.981539\n",
              "18  2021      9                   3745          5775   12.170193"
            ]
          },
          "metadata": {},
          "execution_count": 22
        }
      ]
    },
    {
      "cell_type": "code",
      "metadata": {
        "colab": {
          "base_uri": "https://localhost:8080/",
          "height": 410
        },
        "id": "KQel_BHb9p42",
        "outputId": "79af64d4-4919-47bd-ee4b-3d24a9500260"
      },
      "source": [
        "# lineplot of number of prescriptions by month\n",
        "\n",
        "f, ax = plt.subplots(figsize=(12, 6))\n",
        "\n",
        "sns.lineplot(x=fm_proced_month['Month'], y=fm_proced_month['Cantidad_FMs'], hue=fm_proced_month['Year'], palette=['red', 'blue'])\n",
        "ax.set_xticks([1,2,3,4,5,6,7,8,9,10,11,12])\n",
        "ax.set_xticklabels(['Ene', 'Feb', 'Mar', 'Apr', 'May', 'Jun', 'Jul', 'Ago', 'Sept', 'Oct', 'Nov', 'Dec'])\n",
        "\n",
        "plt.xlabel('Mes')\n",
        "plt.title('Cantidad de FMs Prescritas por Mes y Año', pad=12)\n",
        "plt.show()"
      ],
      "execution_count": 23,
      "outputs": [
        {
          "output_type": "display_data",
          "data": {
            "image/png": "[encoded data removed]",
            "text/plain": [
              "<Figure size 864x432 with 1 Axes>"
            ]
          },
          "metadata": {
            "needs_background": "light"
          }
        }
      ]
    },
    {
      "cell_type": "markdown",
      "metadata": {
        "id": "29PsUxFKMxwh"
      },
      "source": [
        "![green-divider](https://user-images.githubusercontent.com/7065401/52071924-c003ad80-2562-11e9-8297-1c6595f8a7ff.png)"
      ]
    },
    {
      "cell_type": "markdown",
      "metadata": {
        "id": "GafpaDuzM1UX"
      },
      "source": [
        "#### Number of Prescribed FMs by Tipo Plan"
      ]
    },
    {
      "cell_type": "code",
      "metadata": {
        "colab": {
          "base_uri": "https://localhost:8080/",
          "height": 143
        },
        "id": "kgLEKiFTMydG",
        "outputId": "9779babd-c859-4b70-c988-be3a10e0c363"
      },
      "source": [
        "# FMs prescribed by Tipo Plan\n",
        "fm_proced_plan = df_procedures.groupby(['Tipo Plan']).Cantidad.sum().reset_index()\n",
        "\n",
        "fm_proced_plan['%'] = (fm_proced_plan.Cantidad / fm_proced_plan.Cantidad.sum()) * 100\n",
        "fm_proced_plan"
      ],
      "execution_count": 24,
      "outputs": [
        {
          "output_type": "execute_result",
          "data": {
            "text/html": [
              "<div>\n",
              "<style scoped>\n",
              "    .dataframe tbody tr th:only-of-type {\n",
              "        vertical-align: middle;\n",
              "    }\n",
              "\n",
              "    .dataframe tbody tr th {\n",
              "        vertical-align: top;\n",
              "    }\n",
              "\n",
              "    .dataframe thead th {\n",
              "        text-align: right;\n",
              "    }\n",
              "</style>\n",
              "<table border=\"1\" class=\"dataframe\">\n",
              "  <thead>\n",
              "    <tr style=\"text-align: right;\">\n",
              "      <th></th>\n",
              "      <th>Tipo Plan</th>\n",
              "      <th>Cantidad</th>\n",
              "      <th>%</th>\n",
              "    </tr>\n",
              "  </thead>\n",
              "  <tbody>\n",
              "    <tr>\n",
              "      <th>0</th>\n",
              "      <td>ARL</td>\n",
              "      <td>38</td>\n",
              "      <td>0.080081</td>\n",
              "    </tr>\n",
              "    <tr>\n",
              "      <th>1</th>\n",
              "      <td>EPS</td>\n",
              "      <td>31992</td>\n",
              "      <td>67.419708</td>\n",
              "    </tr>\n",
              "    <tr>\n",
              "      <th>2</th>\n",
              "      <td>Particular</td>\n",
              "      <td>15422</td>\n",
              "      <td>32.500211</td>\n",
              "    </tr>\n",
              "  </tbody>\n",
              "</table>\n",
              "</div>"
            ],
            "text/plain": [
              "    Tipo Plan  Cantidad          %\n",
              "0         ARL        38   0.080081\n",
              "1         EPS     31992  67.419708\n",
              "2  Particular     15422  32.500211"
            ]
          },
          "metadata": {},
          "execution_count": 24
        }
      ]
    },
    {
      "cell_type": "markdown",
      "metadata": {
        "id": "HCK-nAfyNnRw"
      },
      "source": [
        "The most relevant Tipo Plan on the number of FMs prescribed are:\n",
        "- EPS >> 67.41% of FMs prescribed\n",
        "- Particular >> 32.5% of FMs prescribed\n",
        "\n",
        "These two Plans correspond to 99.91% of FMs prescribed. Plans with plan ARL are going to be removed from the df"
      ]
    },
    {
      "cell_type": "code",
      "metadata": {
        "colab": {
          "base_uri": "https://localhost:8080/"
        },
        "id": "Cbc2arjHOIzS",
        "outputId": "d5b9b4b7-594a-411e-9177-8bb09c8e42e5"
      },
      "source": [
        "# remove rows with type of plan == 'ARL'\n",
        "df_procedures = df_procedures[df_procedures['Tipo Plan'] != 'ARL']\n",
        "\n",
        "df_procedures['Tipo Plan'].unique()"
      ],
      "execution_count": 25,
      "outputs": [
        {
          "output_type": "execute_result",
          "data": {
            "text/plain": [
              "array(['Particular', 'EPS'], dtype=object)"
            ]
          },
          "metadata": {},
          "execution_count": 25
        }
      ]
    },
    {
      "cell_type": "markdown",
      "metadata": {
        "id": "4S8vmbqLOmVb"
      },
      "source": [
        "![green-divider](https://user-images.githubusercontent.com/7065401/52071924-c003ad80-2562-11e9-8297-1c6595f8a7ff.png)"
      ]
    },
    {
      "cell_type": "markdown",
      "metadata": {
        "id": "BTcvQuTOOqhy"
      },
      "source": [
        "#### Number of Prescribed FMs by Diagnostico"
      ]
    },
    {
      "cell_type": "code",
      "metadata": {
        "colab": {
          "base_uri": "https://localhost:8080/",
          "height": 363
        },
        "id": "xa-l4QtoOph6",
        "outputId": "d6193d13-f6a7-4df2-b75a-aa6307496133"
      },
      "source": [
        "# FMs prescribed by Diagnostico\n",
        "fm_proced_diag = df_procedures.groupby(['Diagnostico']).Cantidad.sum().reset_index()\n",
        "\n",
        "# sort values in descending order\n",
        "fm_proced_diag = fm_proced_diag.sort_values(['Cantidad'], ascending=False)\n",
        "\n",
        "fm_proced_diag['%'] = (fm_proced_diag.Cantidad / fm_proced_diag.Cantidad.sum()) * 100\n",
        "\n",
        "# show 10 diagnostics with the most number of FMs prescribed\n",
        "fm_proced_diag.head(10)"
      ],
      "execution_count": 26,
      "outputs": [
        {
          "output_type": "execute_result",
          "data": {
            "text/html": [
              "<div>\n",
              "<style scoped>\n",
              "    .dataframe tbody tr th:only-of-type {\n",
              "        vertical-align: middle;\n",
              "    }\n",
              "\n",
              "    .dataframe tbody tr th {\n",
              "        vertical-align: top;\n",
              "    }\n",
              "\n",
              "    .dataframe thead th {\n",
              "        text-align: right;\n",
              "    }\n",
              "</style>\n",
              "<table border=\"1\" class=\"dataframe\">\n",
              "  <thead>\n",
              "    <tr style=\"text-align: right;\">\n",
              "      <th></th>\n",
              "      <th>Diagnostico</th>\n",
              "      <th>Cantidad</th>\n",
              "      <th>%</th>\n",
              "    </tr>\n",
              "  </thead>\n",
              "  <tbody>\n",
              "    <tr>\n",
              "      <th>324</th>\n",
              "      <td>OTRO DOLOR CRONICO</td>\n",
              "      <td>16582</td>\n",
              "      <td>42.007397</td>\n",
              "    </tr>\n",
              "    <tr>\n",
              "      <th>118</th>\n",
              "      <td>DOLOR CRONICO INTRATABLE</td>\n",
              "      <td>9098</td>\n",
              "      <td>23.048082</td>\n",
              "    </tr>\n",
              "    <tr>\n",
              "      <th>463</th>\n",
              "      <td>TRASTORNO MIXTO DE ANSIEDAD YDEPRESION</td>\n",
              "      <td>2467</td>\n",
              "      <td>6.249683</td>\n",
              "    </tr>\n",
              "    <tr>\n",
              "      <th>475</th>\n",
              "      <td>TRASTORNOS DEL INICIO Y DELMANTENIMIENTO DEL S...</td>\n",
              "      <td>1679</td>\n",
              "      <td>4.253433</td>\n",
              "    </tr>\n",
              "    <tr>\n",
              "      <th>184</th>\n",
              "      <td>FIBROMIALGIA</td>\n",
              "      <td>1296</td>\n",
              "      <td>3.283174</td>\n",
              "    </tr>\n",
              "    <tr>\n",
              "      <th>2</th>\n",
              "      <td>(OSTEO)ARTROSIS PRIMARIAGENERALIZADA</td>\n",
              "      <td>1157</td>\n",
              "      <td>2.931043</td>\n",
              "    </tr>\n",
              "    <tr>\n",
              "      <th>141</th>\n",
              "      <td>ENFERMEDAD DE PARKINSON</td>\n",
              "      <td>730</td>\n",
              "      <td>1.849319</td>\n",
              "    </tr>\n",
              "    <tr>\n",
              "      <th>437</th>\n",
              "      <td>TRASTORNO DE ANSIEDAD , NOESPECIFICADO</td>\n",
              "      <td>654</td>\n",
              "      <td>1.656787</td>\n",
              "    </tr>\n",
              "    <tr>\n",
              "      <th>241</th>\n",
              "      <td>LUMBAGO NO ESPECIFICADO</td>\n",
              "      <td>369</td>\n",
              "      <td>0.934793</td>\n",
              "    </tr>\n",
              "    <tr>\n",
              "      <th>439</th>\n",
              "      <td>TRASTORNO DE ANSIEDADGENERALIZADA</td>\n",
              "      <td>355</td>\n",
              "      <td>0.899326</td>\n",
              "    </tr>\n",
              "  </tbody>\n",
              "</table>\n",
              "</div>"
            ],
            "text/plain": [
              "                                           Diagnostico  Cantidad          %\n",
              "324                                 OTRO DOLOR CRONICO     16582  42.007397\n",
              "118                           DOLOR CRONICO INTRATABLE      9098  23.048082\n",
              "463             TRASTORNO MIXTO DE ANSIEDAD YDEPRESION      2467   6.249683\n",
              "475  TRASTORNOS DEL INICIO Y DELMANTENIMIENTO DEL S...      1679   4.253433\n",
              "184                                       FIBROMIALGIA      1296   3.283174\n",
              "2                 (OSTEO)ARTROSIS PRIMARIAGENERALIZADA      1157   2.931043\n",
              "141                            ENFERMEDAD DE PARKINSON       730   1.849319\n",
              "437             TRASTORNO DE ANSIEDAD , NOESPECIFICADO       654   1.656787\n",
              "241                            LUMBAGO NO ESPECIFICADO       369   0.934793\n",
              "439                  TRASTORNO DE ANSIEDADGENERALIZADA       355   0.899326"
            ]
          },
          "metadata": {},
          "execution_count": 26
        }
      ]
    },
    {
      "cell_type": "markdown",
      "metadata": {
        "id": "_Xr6ZDUnQtmK"
      },
      "source": [
        "The most relevant Diagnosticos on the number of FMs prescribed are:  \n",
        "- Otro Dolor Cronico >> 42.00% of FMs prescribed\n",
        "- Dolor Cronico Intratable >> 23.04% of FMs prescribed\n",
        "- Trastorno Mixto de Ansiedad y Depresion >> 6.24% of FMs prescribed\n",
        "- Insomnio >> 4.25% of FMs prescribed\n",
        "- Fibromialgia >> 3.28% of FMs prescribed\n",
        "\n",
        "These Diagnostics correspond to 78.81% of FMs prescribed which is more than the Q3 of the dataset"
      ]
    },
    {
      "cell_type": "markdown",
      "metadata": {
        "id": "dKMTWRTjSXOi"
      },
      "source": [
        "![green-divider](https://user-images.githubusercontent.com/7065401/52071924-c003ad80-2562-11e9-8297-1c6595f8a7ff.png)"
      ]
    },
    {
      "cell_type": "markdown",
      "metadata": {
        "id": "r3vv7uFdScpM"
      },
      "source": [
        "#### Histogram of FMs Prescribed by Edad"
      ]
    },
    {
      "cell_type": "code",
      "metadata": {
        "colab": {
          "base_uri": "https://localhost:8080/",
          "height": 465
        },
        "id": "WxEWA03YSk6i",
        "outputId": "cb57acd1-45c2-4f47-fa49-81177be70e7a"
      },
      "source": [
        "# plot histogram\n",
        "\n",
        "f, ax = plt.subplots(figsize=(12, 6))\n",
        "\n",
        "sns.histplot(data=df_procedures, x='Edad', color='salmon')\n",
        "plt.axvline(df_procedures['Edad'].mean(), linestyle='dashed', linewidth=2, color='black', label='Mean')\n",
        "\n",
        "plt.title('Distribution of the Age of Patients Prescribed with FMs - March 2020 to Sept 2021', pad=12)\n",
        "plt.legend()\n",
        "plt.show()\n",
        "\n",
        "print(f'Skewness of Distribution: {df_procedures.Edad.skew()}')\n",
        "print(f'Mean of Patients Prescribed: {df_procedures.Edad.mean()}')\n",
        "print(f'Medeian of Patients prescribed: {df_procedures.Edad.median()}')"
      ],
      "execution_count": 27,
      "outputs": [
        {
          "output_type": "display_data",
          "data": {
            "image/png": "[encoded data removed]",
            "text/plain": [
              "<Figure size 864x432 with 1 Axes>"
            ]
          },
          "metadata": {
            "needs_background": "light"
          }
        },
        {
          "output_type": "stream",
          "name": "stdout",
          "text": [
            "Skewness of Distribution: -0.14676919429814095\n",
            "Mean of Patients Prescribed: 58.0236191343445\n",
            "Medeian of Patients prescribed: 58.0\n"
          ]
        }
      ]
    },
    {
      "cell_type": "markdown",
      "metadata": {
        "id": "n3KxFfwaYpn4"
      },
      "source": [
        "![green-divider](https://user-images.githubusercontent.com/7065401/52071924-c003ad80-2562-11e9-8297-1c6595f8a7ff.png)"
      ]
    },
    {
      "cell_type": "markdown",
      "metadata": {
        "id": "NnSmm8RTYtZ-"
      },
      "source": [
        "#### Number of Prescribed FMs by age_group"
      ]
    },
    {
      "cell_type": "code",
      "metadata": {
        "colab": {
          "base_uri": "https://localhost:8080/",
          "height": 382
        },
        "id": "macVlnEBX72k",
        "outputId": "51d44f59-9b11-4e47-f6a5-93ad9a81c360"
      },
      "source": [
        "# bin Edad into age groups >> using pd.cut(df, bins=??)\n",
        "df_procedures['age_group'] = pd.cut(df_procedures['Edad'], bins=4)\n",
        "\n",
        "# check age_group\n",
        "df_procedures.head()"
      ],
      "execution_count": 28,
      "outputs": [
        {
          "output_type": "execute_result",
          "data": {
            "text/html": [
              "<div>\n",
              "<style scoped>\n",
              "    .dataframe tbody tr th:only-of-type {\n",
              "        vertical-align: middle;\n",
              "    }\n",
              "\n",
              "    .dataframe tbody tr th {\n",
              "        vertical-align: top;\n",
              "    }\n",
              "\n",
              "    .dataframe thead th {\n",
              "        text-align: right;\n",
              "    }\n",
              "</style>\n",
              "<table border=\"1\" class=\"dataframe\">\n",
              "  <thead>\n",
              "    <tr style=\"text-align: right;\">\n",
              "      <th></th>\n",
              "      <th>Ingreso</th>\n",
              "      <th>DocPaciente</th>\n",
              "      <th>Fecha Nacimiento</th>\n",
              "      <th>Edad</th>\n",
              "      <th>Sexo</th>\n",
              "      <th>CiudadMunicipio</th>\n",
              "      <th>Diagnostico</th>\n",
              "      <th>CodigoDiagnostico</th>\n",
              "      <th>Plan</th>\n",
              "      <th>Tipo Plan</th>\n",
              "      <th>FechaIngreso</th>\n",
              "      <th>FechaFormulacion</th>\n",
              "      <th>CodProducto</th>\n",
              "      <th>Cantidad</th>\n",
              "      <th>DocMedico</th>\n",
              "      <th>NombreMedico</th>\n",
              "      <th>Especialidad</th>\n",
              "      <th>Plan/Servicio</th>\n",
              "      <th>Sede</th>\n",
              "      <th>Month</th>\n",
              "      <th>Year</th>\n",
              "      <th>age_group</th>\n",
              "    </tr>\n",
              "  </thead>\n",
              "  <tbody>\n",
              "    <tr>\n",
              "      <th>0</th>\n",
              "      <td>26720</td>\n",
              "      <td>41453437</td>\n",
              "      <td>30/09/1949</td>\n",
              "      <td>72</td>\n",
              "      <td>F</td>\n",
              "      <td>BOGOTÁ D.C.</td>\n",
              "      <td>(OSTEO)ARTROSIS PRIMARIAGENERALIZADA</td>\n",
              "      <td>M150</td>\n",
              "      <td>PLAN PARTICULAR</td>\n",
              "      <td>Particular</td>\n",
              "      <td>2020-03-19</td>\n",
              "      <td>2020-03-19</td>\n",
              "      <td>fm001</td>\n",
              "      <td>1</td>\n",
              "      <td>53013811</td>\n",
              "      <td>LENIS  RIVERA</td>\n",
              "      <td>Algesiólogo</td>\n",
              "      <td>Consulta Dolor y Cuidados Paliativos</td>\n",
              "      <td>ZERENIA</td>\n",
              "      <td>3</td>\n",
              "      <td>2020</td>\n",
              "      <td>(51.0, 76.0]</td>\n",
              "    </tr>\n",
              "    <tr>\n",
              "      <th>1</th>\n",
              "      <td>26793</td>\n",
              "      <td>13352962</td>\n",
              "      <td>10/11/1960</td>\n",
              "      <td>61</td>\n",
              "      <td>M</td>\n",
              "      <td>BOGOTÁ D.C.</td>\n",
              "      <td>TRASTORNO DE DISCO LUMBAR YOTROS, CON RADICULO...</td>\n",
              "      <td>M511</td>\n",
              "      <td>PLAN PARTICULAR</td>\n",
              "      <td>Particular</td>\n",
              "      <td>2020-03-19</td>\n",
              "      <td>2020-03-19</td>\n",
              "      <td>fm001</td>\n",
              "      <td>1</td>\n",
              "      <td>53013811</td>\n",
              "      <td>LENIS  RIVERA</td>\n",
              "      <td>Algesiólogo</td>\n",
              "      <td>Consulta Dolor y Cuidados Paliativos</td>\n",
              "      <td>ZERENIA</td>\n",
              "      <td>3</td>\n",
              "      <td>2020</td>\n",
              "      <td>(51.0, 76.0]</td>\n",
              "    </tr>\n",
              "    <tr>\n",
              "      <th>2</th>\n",
              "      <td>26806</td>\n",
              "      <td>390646</td>\n",
              "      <td>1/08/1934</td>\n",
              "      <td>87</td>\n",
              "      <td>M</td>\n",
              "      <td>BOGOTÁ D.C.</td>\n",
              "      <td>NEURALGIA POSTHERPES ZOSTER(B02.2†)</td>\n",
              "      <td>G530</td>\n",
              "      <td>PLAN PARTICULAR</td>\n",
              "      <td>Particular</td>\n",
              "      <td>2020-03-19</td>\n",
              "      <td>2020-03-19</td>\n",
              "      <td>fm001</td>\n",
              "      <td>1</td>\n",
              "      <td>53013811</td>\n",
              "      <td>LENIS  RIVERA</td>\n",
              "      <td>Algesiólogo</td>\n",
              "      <td>Consulta Dolor y Cuidados Paliativos</td>\n",
              "      <td>ZERENIA</td>\n",
              "      <td>3</td>\n",
              "      <td>2020</td>\n",
              "      <td>(76.0, 101.0]</td>\n",
              "    </tr>\n",
              "    <tr>\n",
              "      <th>3</th>\n",
              "      <td>26928</td>\n",
              "      <td>19059029</td>\n",
              "      <td>13/09/1948</td>\n",
              "      <td>73</td>\n",
              "      <td>M</td>\n",
              "      <td>BOGOTÁ D.C.</td>\n",
              "      <td>NaN</td>\n",
              "      <td>NaN</td>\n",
              "      <td>PLAN PARTICULAR</td>\n",
              "      <td>Particular</td>\n",
              "      <td>2020-03-19</td>\n",
              "      <td>2020-03-19</td>\n",
              "      <td>fm001</td>\n",
              "      <td>1</td>\n",
              "      <td>53007921</td>\n",
              "      <td>XIOMARA  GARCIA</td>\n",
              "      <td>Neurologia</td>\n",
              "      <td>Neurologia</td>\n",
              "      <td>ZERENIA</td>\n",
              "      <td>3</td>\n",
              "      <td>2020</td>\n",
              "      <td>(51.0, 76.0]</td>\n",
              "    </tr>\n",
              "    <tr>\n",
              "      <th>4</th>\n",
              "      <td>26846</td>\n",
              "      <td>41595666</td>\n",
              "      <td>20/09/1953</td>\n",
              "      <td>68</td>\n",
              "      <td>F</td>\n",
              "      <td>CAJICÁ</td>\n",
              "      <td>NaN</td>\n",
              "      <td>NaN</td>\n",
              "      <td>PLAN PARTICULAR</td>\n",
              "      <td>Particular</td>\n",
              "      <td>2020-03-19</td>\n",
              "      <td>2020-03-19</td>\n",
              "      <td>fm001</td>\n",
              "      <td>1</td>\n",
              "      <td>53007921</td>\n",
              "      <td>XIOMARA  GARCIA</td>\n",
              "      <td>Neurologia</td>\n",
              "      <td>Neurologia</td>\n",
              "      <td>ZERENIA</td>\n",
              "      <td>3</td>\n",
              "      <td>2020</td>\n",
              "      <td>(51.0, 76.0]</td>\n",
              "    </tr>\n",
              "  </tbody>\n",
              "</table>\n",
              "</div>"
            ],
            "text/plain": [
              "   Ingreso DocPaciente Fecha Nacimiento  ...  Month  Year      age_group\n",
              "0    26720    41453437       30/09/1949  ...      3  2020   (51.0, 76.0]\n",
              "1    26793    13352962       10/11/1960  ...      3  2020   (51.0, 76.0]\n",
              "2    26806      390646        1/08/1934  ...      3  2020  (76.0, 101.0]\n",
              "3    26928    19059029       13/09/1948  ...      3  2020   (51.0, 76.0]\n",
              "4    26846    41595666       20/09/1953  ...      3  2020   (51.0, 76.0]\n",
              "\n",
              "[5 rows x 22 columns]"
            ]
          },
          "metadata": {},
          "execution_count": 28
        }
      ]
    },
    {
      "cell_type": "code",
      "metadata": {
        "colab": {
          "base_uri": "https://localhost:8080/",
          "height": 175
        },
        "id": "XUo0BA_FY1Q2",
        "outputId": "98e031d6-1575-4596-df9c-e662042e9c0c"
      },
      "source": [
        "# FMs prescribed by age_group\n",
        "fm_proced_age = df_procedures.groupby(['age_group']).Cantidad.sum().reset_index()\n",
        "\n",
        "fm_proced_age['%'] = (fm_proced_age.Cantidad / fm_proced_age.Cantidad.sum()) * 100\n",
        "fm_proced_age"
      ],
      "execution_count": 29,
      "outputs": [
        {
          "output_type": "execute_result",
          "data": {
            "text/html": [
              "<div>\n",
              "<style scoped>\n",
              "    .dataframe tbody tr th:only-of-type {\n",
              "        vertical-align: middle;\n",
              "    }\n",
              "\n",
              "    .dataframe tbody tr th {\n",
              "        vertical-align: top;\n",
              "    }\n",
              "\n",
              "    .dataframe thead th {\n",
              "        text-align: right;\n",
              "    }\n",
              "</style>\n",
              "<table border=\"1\" class=\"dataframe\">\n",
              "  <thead>\n",
              "    <tr style=\"text-align: right;\">\n",
              "      <th></th>\n",
              "      <th>age_group</th>\n",
              "      <th>Cantidad</th>\n",
              "      <th>%</th>\n",
              "    </tr>\n",
              "  </thead>\n",
              "  <tbody>\n",
              "    <tr>\n",
              "      <th>0</th>\n",
              "      <td>(0.9, 26.0]</td>\n",
              "      <td>1316</td>\n",
              "      <td>2.775552</td>\n",
              "    </tr>\n",
              "    <tr>\n",
              "      <th>1</th>\n",
              "      <td>(26.0, 51.0]</td>\n",
              "      <td>15520</td>\n",
              "      <td>32.732948</td>\n",
              "    </tr>\n",
              "    <tr>\n",
              "      <th>2</th>\n",
              "      <td>(51.0, 76.0]</td>\n",
              "      <td>24895</td>\n",
              "      <td>52.505589</td>\n",
              "    </tr>\n",
              "    <tr>\n",
              "      <th>3</th>\n",
              "      <td>(76.0, 101.0]</td>\n",
              "      <td>5683</td>\n",
              "      <td>11.985911</td>\n",
              "    </tr>\n",
              "  </tbody>\n",
              "</table>\n",
              "</div>"
            ],
            "text/plain": [
              "       age_group  Cantidad          %\n",
              "0    (0.9, 26.0]      1316   2.775552\n",
              "1   (26.0, 51.0]     15520  32.732948\n",
              "2   (51.0, 76.0]     24895  52.505589\n",
              "3  (76.0, 101.0]      5683  11.985911"
            ]
          },
          "metadata": {},
          "execution_count": 29
        }
      ]
    },
    {
      "cell_type": "markdown",
      "metadata": {
        "id": "RLDjTkAfZS6t"
      },
      "source": [
        "The most relevant Age Groups on the number of FMs prescribed are:   \n",
        "\n",
        "- 51 to 76 years >> 52.5% of FMs prescribed\n",
        "- 26 to 51 years >> 32.7% of FMs prescribed\n",
        "- 76 to 101 years >> 11.9% of \n",
        "\n",
        "These three age groups correspond to 85.2% of FMs prescribed"
      ]
    },
    {
      "cell_type": "markdown",
      "metadata": {
        "id": "nq2qdw8cNwUV"
      },
      "source": [
        "![green-divider](https://user-images.githubusercontent.com/7065401/52071924-c003ad80-2562-11e9-8297-1c6595f8a7ff.png)"
      ]
    },
    {
      "cell_type": "markdown",
      "metadata": {
        "id": "t10ZyeCINy4J"
      },
      "source": [
        "#### Number of Prescribed FMs by Ciudad"
      ]
    },
    {
      "cell_type": "code",
      "metadata": {
        "colab": {
          "base_uri": "https://localhost:8080/",
          "height": 363
        },
        "id": "KCsFG1s0N4zw",
        "outputId": "1a01ca97-1e9c-42a6-c75e-a3273fcc7fed"
      },
      "source": [
        "# FMs prescribed by city/location\n",
        "fm_proced_city = df_procedures.groupby(['CiudadMunicipio']).Cantidad.sum().reset_index()\n",
        "# sort values in descending order\n",
        "fm_proced_city = fm_proced_city.sort_values('Cantidad', ascending=False)\n",
        "\n",
        "fm_proced_city['%'] = (fm_proced_city.Cantidad / fm_proced_city.Cantidad.sum()) * 100\n",
        "fm_proced_city.head(10)"
      ],
      "execution_count": 30,
      "outputs": [
        {
          "output_type": "execute_result",
          "data": {
            "text/html": [
              "<div>\n",
              "<style scoped>\n",
              "    .dataframe tbody tr th:only-of-type {\n",
              "        vertical-align: middle;\n",
              "    }\n",
              "\n",
              "    .dataframe tbody tr th {\n",
              "        vertical-align: top;\n",
              "    }\n",
              "\n",
              "    .dataframe thead th {\n",
              "        text-align: right;\n",
              "    }\n",
              "</style>\n",
              "<table border=\"1\" class=\"dataframe\">\n",
              "  <thead>\n",
              "    <tr style=\"text-align: right;\">\n",
              "      <th></th>\n",
              "      <th>CiudadMunicipio</th>\n",
              "      <th>Cantidad</th>\n",
              "      <th>%</th>\n",
              "    </tr>\n",
              "  </thead>\n",
              "  <tbody>\n",
              "    <tr>\n",
              "      <th>48</th>\n",
              "      <td>BOGOTÁ D.C.</td>\n",
              "      <td>32837</td>\n",
              "      <td>69.255916</td>\n",
              "    </tr>\n",
              "    <tr>\n",
              "      <th>401</th>\n",
              "      <td>SOACHA</td>\n",
              "      <td>2118</td>\n",
              "      <td>4.467035</td>\n",
              "    </tr>\n",
              "    <tr>\n",
              "      <th>244</th>\n",
              "      <td>MEDELLÍN</td>\n",
              "      <td>986</td>\n",
              "      <td>2.079555</td>\n",
              "    </tr>\n",
              "    <tr>\n",
              "      <th>235</th>\n",
              "      <td>MADRID</td>\n",
              "      <td>892</td>\n",
              "      <td>1.881301</td>\n",
              "    </tr>\n",
              "    <tr>\n",
              "      <th>261</th>\n",
              "      <td>MOSQUERA</td>\n",
              "      <td>580</td>\n",
              "      <td>1.223267</td>\n",
              "    </tr>\n",
              "    <tr>\n",
              "      <th>162</th>\n",
              "      <td>FUNZA</td>\n",
              "      <td>573</td>\n",
              "      <td>1.208504</td>\n",
              "    </tr>\n",
              "    <tr>\n",
              "      <th>149</th>\n",
              "      <td>FACATATIVÁ</td>\n",
              "      <td>548</td>\n",
              "      <td>1.155777</td>\n",
              "    </tr>\n",
              "    <tr>\n",
              "      <th>389</th>\n",
              "      <td>SANTIAGO DE CALI</td>\n",
              "      <td>546</td>\n",
              "      <td>1.151559</td>\n",
              "    </tr>\n",
              "    <tr>\n",
              "      <th>472</th>\n",
              "      <td>ZIPAQUIRÁ</td>\n",
              "      <td>545</td>\n",
              "      <td>1.149450</td>\n",
              "    </tr>\n",
              "    <tr>\n",
              "      <th>96</th>\n",
              "      <td>CHÍA</td>\n",
              "      <td>379</td>\n",
              "      <td>0.799342</td>\n",
              "    </tr>\n",
              "  </tbody>\n",
              "</table>\n",
              "</div>"
            ],
            "text/plain": [
              "      CiudadMunicipio  Cantidad          %\n",
              "48        BOGOTÁ D.C.     32837  69.255916\n",
              "401            SOACHA      2118   4.467035\n",
              "244          MEDELLÍN       986   2.079555\n",
              "235            MADRID       892   1.881301\n",
              "261          MOSQUERA       580   1.223267\n",
              "162             FUNZA       573   1.208504\n",
              "149        FACATATIVÁ       548   1.155777\n",
              "389  SANTIAGO DE CALI       546   1.151559\n",
              "472         ZIPAQUIRÁ       545   1.149450\n",
              "96               CHÍA       379   0.799342"
            ]
          },
          "metadata": {},
          "execution_count": 30
        }
      ]
    },
    {
      "cell_type": "markdown",
      "metadata": {
        "id": "bpPfGYaxO8wG"
      },
      "source": [
        "The most relevant Cities on the number of FMs prescribed are:    \n",
        "- Bogota >> 69.25% of FMs prescribed\n",
        "- Soacha >> 4.46% of FMs prescribed\n",
        "- Medellin >> 2.07% of FMs prescribed\n",
        "- Madrid >> 1.88% of FMs prescribed\n",
        "- Mosquera >> 1.22% of FMs prescribed\n",
        "\n",
        "These cities correspond to 78.88% of the locations where FMs are prescribed, more than the Q3 of all the data"
      ]
    },
    {
      "cell_type": "markdown",
      "metadata": {
        "id": "LIzP25PzaDA5"
      },
      "source": [
        "![purple-divider](https://user-images.githubusercontent.com/7065401/52071927-c1cd7100-2562-11e9-908a-dde91ba14e59.png)"
      ]
    },
    {
      "cell_type": "markdown",
      "metadata": {
        "id": "YAwkjP3KP6GZ"
      },
      "source": [
        "## Sales FMs"
      ]
    },
    {
      "cell_type": "code",
      "metadata": {
        "colab": {
          "base_uri": "https://localhost:8080/",
          "height": 206
        },
        "id": "ttz03E7tP8dO",
        "outputId": "0b35754e-2ce1-4e09-eb4f-57f11d4b9361"
      },
      "source": [
        "# check df\n",
        "df_sales.head()"
      ],
      "execution_count": 31,
      "outputs": [
        {
          "output_type": "execute_result",
          "data": {
            "text/html": [
              "<div>\n",
              "<style scoped>\n",
              "    .dataframe tbody tr th:only-of-type {\n",
              "        vertical-align: middle;\n",
              "    }\n",
              "\n",
              "    .dataframe tbody tr th {\n",
              "        vertical-align: top;\n",
              "    }\n",
              "\n",
              "    .dataframe thead th {\n",
              "        text-align: right;\n",
              "    }\n",
              "</style>\n",
              "<table border=\"1\" class=\"dataframe\">\n",
              "  <thead>\n",
              "    <tr style=\"text-align: right;\">\n",
              "      <th></th>\n",
              "      <th>ingreso</th>\n",
              "      <th>cedula</th>\n",
              "      <th>fecha_oc</th>\n",
              "    </tr>\n",
              "  </thead>\n",
              "  <tbody>\n",
              "    <tr>\n",
              "      <th>0</th>\n",
              "      <td>26806</td>\n",
              "      <td>390646</td>\n",
              "      <td>2020-03-19</td>\n",
              "    </tr>\n",
              "    <tr>\n",
              "      <th>1</th>\n",
              "      <td>26793</td>\n",
              "      <td>13352962</td>\n",
              "      <td>2020-03-19</td>\n",
              "    </tr>\n",
              "    <tr>\n",
              "      <th>2</th>\n",
              "      <td>26928</td>\n",
              "      <td>19059029</td>\n",
              "      <td>2020-03-19</td>\n",
              "    </tr>\n",
              "    <tr>\n",
              "      <th>3</th>\n",
              "      <td>26891</td>\n",
              "      <td>31259698</td>\n",
              "      <td>2020-03-19</td>\n",
              "    </tr>\n",
              "    <tr>\n",
              "      <th>4</th>\n",
              "      <td>26720</td>\n",
              "      <td>41453437</td>\n",
              "      <td>2020-03-19</td>\n",
              "    </tr>\n",
              "  </tbody>\n",
              "</table>\n",
              "</div>"
            ],
            "text/plain": [
              "   ingreso    cedula    fecha_oc\n",
              "0    26806    390646  2020-03-19\n",
              "1    26793  13352962  2020-03-19\n",
              "2    26928  19059029  2020-03-19\n",
              "3    26891  31259698  2020-03-19\n",
              "4    26720  41453437  2020-03-19"
            ]
          },
          "metadata": {},
          "execution_count": 31
        }
      ]
    },
    {
      "cell_type": "code",
      "metadata": {
        "colab": {
          "base_uri": "https://localhost:8080/",
          "height": 206
        },
        "id": "BybjReIWbYSR",
        "outputId": "243f01a6-c758-4613-d1d7-70e1ed46208b"
      },
      "source": [
        "# rename ingreso to Ingreso\n",
        "df_sales.rename(columns={'ingreso': 'Ingreso'}, inplace=True)\n",
        "\n",
        "df_sales.head()"
      ],
      "execution_count": 32,
      "outputs": [
        {
          "output_type": "execute_result",
          "data": {
            "text/html": [
              "<div>\n",
              "<style scoped>\n",
              "    .dataframe tbody tr th:only-of-type {\n",
              "        vertical-align: middle;\n",
              "    }\n",
              "\n",
              "    .dataframe tbody tr th {\n",
              "        vertical-align: top;\n",
              "    }\n",
              "\n",
              "    .dataframe thead th {\n",
              "        text-align: right;\n",
              "    }\n",
              "</style>\n",
              "<table border=\"1\" class=\"dataframe\">\n",
              "  <thead>\n",
              "    <tr style=\"text-align: right;\">\n",
              "      <th></th>\n",
              "      <th>Ingreso</th>\n",
              "      <th>cedula</th>\n",
              "      <th>fecha_oc</th>\n",
              "    </tr>\n",
              "  </thead>\n",
              "  <tbody>\n",
              "    <tr>\n",
              "      <th>0</th>\n",
              "      <td>26806</td>\n",
              "      <td>390646</td>\n",
              "      <td>2020-03-19</td>\n",
              "    </tr>\n",
              "    <tr>\n",
              "      <th>1</th>\n",
              "      <td>26793</td>\n",
              "      <td>13352962</td>\n",
              "      <td>2020-03-19</td>\n",
              "    </tr>\n",
              "    <tr>\n",
              "      <th>2</th>\n",
              "      <td>26928</td>\n",
              "      <td>19059029</td>\n",
              "      <td>2020-03-19</td>\n",
              "    </tr>\n",
              "    <tr>\n",
              "      <th>3</th>\n",
              "      <td>26891</td>\n",
              "      <td>31259698</td>\n",
              "      <td>2020-03-19</td>\n",
              "    </tr>\n",
              "    <tr>\n",
              "      <th>4</th>\n",
              "      <td>26720</td>\n",
              "      <td>41453437</td>\n",
              "      <td>2020-03-19</td>\n",
              "    </tr>\n",
              "  </tbody>\n",
              "</table>\n",
              "</div>"
            ],
            "text/plain": [
              "   Ingreso    cedula    fecha_oc\n",
              "0    26806    390646  2020-03-19\n",
              "1    26793  13352962  2020-03-19\n",
              "2    26928  19059029  2020-03-19\n",
              "3    26891  31259698  2020-03-19\n",
              "4    26720  41453437  2020-03-19"
            ]
          },
          "metadata": {},
          "execution_count": 32
        }
      ]
    },
    {
      "cell_type": "code",
      "metadata": {
        "colab": {
          "base_uri": "https://localhost:8080/"
        },
        "id": "A5diuY28QD0y",
        "outputId": "85e6b538-4155-4ba2-d274-5d36f8088d84"
      },
      "source": [
        "# check shape\n",
        "df_sales.shape"
      ],
      "execution_count": 33,
      "outputs": [
        {
          "output_type": "execute_result",
          "data": {
            "text/plain": [
              "(28003, 3)"
            ]
          },
          "metadata": {},
          "execution_count": 33
        }
      ]
    },
    {
      "cell_type": "code",
      "metadata": {
        "colab": {
          "base_uri": "https://localhost:8080/"
        },
        "id": "UAHVjJBgQNWP",
        "outputId": "834c9ae0-9079-4bb8-d462-4ec7a149cbe4"
      },
      "source": [
        "# check column types\n",
        "df_sales.dtypes"
      ],
      "execution_count": 34,
      "outputs": [
        {
          "output_type": "execute_result",
          "data": {
            "text/plain": [
              "Ingreso      int64\n",
              "cedula      object\n",
              "fecha_oc    object\n",
              "dtype: object"
            ]
          },
          "metadata": {},
          "execution_count": 34
        }
      ]
    },
    {
      "cell_type": "code",
      "metadata": {
        "colab": {
          "base_uri": "https://localhost:8080/",
          "height": 346
        },
        "id": "4GKzW0giQQ8Z",
        "outputId": "f34a157d-4534-4527-bbf7-77d38ddbf558"
      },
      "source": [
        "# check for missing values\n",
        "msg.matrix(df_sales, figsize=(12,4))"
      ],
      "execution_count": 35,
      "outputs": [
        {
          "output_type": "execute_result",
          "data": {
            "text/plain": [
              "<matplotlib.axes._subplots.AxesSubplot at 0x7fcd8363c090>"
            ]
          },
          "metadata": {},
          "execution_count": 35
        },
        {
          "output_type": "display_data",
          "data": {
            "image/png": "[encoded data removed]",
            "text/plain": [
              "<Figure size 864x288 with 2 Axes>"
            ]
          },
          "metadata": {
            "needs_background": "light"
          }
        }
      ]
    },
    {
      "cell_type": "markdown",
      "metadata": {
        "id": "5n6N8roMQhop"
      },
      "source": [
        "![green-divider](https://user-images.githubusercontent.com/7065401/52071924-c003ad80-2562-11e9-8297-1c6595f8a7ff.png)"
      ]
    },
    {
      "cell_type": "markdown",
      "metadata": {
        "id": "agh1v9Y7QjP5"
      },
      "source": [
        "### Number of Prescriptions Sold by Year/Month "
      ]
    },
    {
      "cell_type": "code",
      "metadata": {
        "id": "LwxcsNQgQieQ"
      },
      "source": [
        "# change fecha_oc type to datetime\n",
        "df_sales['fecha_oc'] = pd.to_datetime(df_sales['fecha_oc'])"
      ],
      "execution_count": 36,
      "outputs": []
    },
    {
      "cell_type": "code",
      "metadata": {
        "colab": {
          "base_uri": "https://localhost:8080/"
        },
        "id": "UL_kOX1lRMiZ",
        "outputId": "7cbbb6cb-d860-47f5-e7d8-12625a45db6c"
      },
      "source": [
        "# check changes\n",
        "df_sales.dtypes"
      ],
      "execution_count": 37,
      "outputs": [
        {
          "output_type": "execute_result",
          "data": {
            "text/plain": [
              "Ingreso              int64\n",
              "cedula              object\n",
              "fecha_oc    datetime64[ns]\n",
              "dtype: object"
            ]
          },
          "metadata": {},
          "execution_count": 37
        }
      ]
    },
    {
      "cell_type": "code",
      "metadata": {
        "colab": {
          "base_uri": "https://localhost:8080/",
          "height": 206
        },
        "id": "6wTgUq3vRSPQ",
        "outputId": "15541409-598b-4a3d-d1d3-2bfda2472f71"
      },
      "source": [
        "# create a month and year column\n",
        "df_sales['month_sold'] = pd.DatetimeIndex(df_sales['fecha_oc']).month\n",
        "df_sales['year_sold'] = pd.DatetimeIndex(df_sales['fecha_oc']).year \n",
        "\n",
        "df_sales.head()"
      ],
      "execution_count": 38,
      "outputs": [
        {
          "output_type": "execute_result",
          "data": {
            "text/html": [
              "<div>\n",
              "<style scoped>\n",
              "    .dataframe tbody tr th:only-of-type {\n",
              "        vertical-align: middle;\n",
              "    }\n",
              "\n",
              "    .dataframe tbody tr th {\n",
              "        vertical-align: top;\n",
              "    }\n",
              "\n",
              "    .dataframe thead th {\n",
              "        text-align: right;\n",
              "    }\n",
              "</style>\n",
              "<table border=\"1\" class=\"dataframe\">\n",
              "  <thead>\n",
              "    <tr style=\"text-align: right;\">\n",
              "      <th></th>\n",
              "      <th>Ingreso</th>\n",
              "      <th>cedula</th>\n",
              "      <th>fecha_oc</th>\n",
              "      <th>month_sold</th>\n",
              "      <th>year_sold</th>\n",
              "    </tr>\n",
              "  </thead>\n",
              "  <tbody>\n",
              "    <tr>\n",
              "      <th>0</th>\n",
              "      <td>26806</td>\n",
              "      <td>390646</td>\n",
              "      <td>2020-03-19</td>\n",
              "      <td>3</td>\n",
              "      <td>2020</td>\n",
              "    </tr>\n",
              "    <tr>\n",
              "      <th>1</th>\n",
              "      <td>26793</td>\n",
              "      <td>13352962</td>\n",
              "      <td>2020-03-19</td>\n",
              "      <td>3</td>\n",
              "      <td>2020</td>\n",
              "    </tr>\n",
              "    <tr>\n",
              "      <th>2</th>\n",
              "      <td>26928</td>\n",
              "      <td>19059029</td>\n",
              "      <td>2020-03-19</td>\n",
              "      <td>3</td>\n",
              "      <td>2020</td>\n",
              "    </tr>\n",
              "    <tr>\n",
              "      <th>3</th>\n",
              "      <td>26891</td>\n",
              "      <td>31259698</td>\n",
              "      <td>2020-03-19</td>\n",
              "      <td>3</td>\n",
              "      <td>2020</td>\n",
              "    </tr>\n",
              "    <tr>\n",
              "      <th>4</th>\n",
              "      <td>26720</td>\n",
              "      <td>41453437</td>\n",
              "      <td>2020-03-19</td>\n",
              "      <td>3</td>\n",
              "      <td>2020</td>\n",
              "    </tr>\n",
              "  </tbody>\n",
              "</table>\n",
              "</div>"
            ],
            "text/plain": [
              "   Ingreso    cedula   fecha_oc  month_sold  year_sold\n",
              "0    26806    390646 2020-03-19           3       2020\n",
              "1    26793  13352962 2020-03-19           3       2020\n",
              "2    26928  19059029 2020-03-19           3       2020\n",
              "3    26891  31259698 2020-03-19           3       2020\n",
              "4    26720  41453437 2020-03-19           3       2020"
            ]
          },
          "metadata": {},
          "execution_count": 38
        }
      ]
    },
    {
      "cell_type": "code",
      "metadata": {
        "id": "MSF05Y1RSBhL"
      },
      "source": [
        "# function to calculate number of prescriptions sold\n",
        "def num_sold(df):\n",
        "  calc = {}\n",
        "  calc['prescriptions_sold'] = len(df)\n",
        "\n",
        "  return pd.Series(calc, index=['prescriptions_sold'])"
      ],
      "execution_count": 39,
      "outputs": []
    },
    {
      "cell_type": "code",
      "metadata": {
        "colab": {
          "base_uri": "https://localhost:8080/",
          "height": 645
        },
        "id": "5tRCWBTAR3lb",
        "outputId": "4f1d305c-d40d-4d0d-ac81-519e80c90382"
      },
      "source": [
        "# prescriptions sold by year /month\n",
        "presc_sold_month = df_sales.groupby(['year_sold', 'month_sold']).apply(num_sold).reset_index()\n",
        "\n",
        "presc_sold_month['%'] = (presc_sold_month.prescriptions_sold / presc_sold_month.prescriptions_sold.sum()) * 100\n",
        "presc_sold_month"
      ],
      "execution_count": 40,
      "outputs": [
        {
          "output_type": "execute_result",
          "data": {
            "text/html": [
              "<div>\n",
              "<style scoped>\n",
              "    .dataframe tbody tr th:only-of-type {\n",
              "        vertical-align: middle;\n",
              "    }\n",
              "\n",
              "    .dataframe tbody tr th {\n",
              "        vertical-align: top;\n",
              "    }\n",
              "\n",
              "    .dataframe thead th {\n",
              "        text-align: right;\n",
              "    }\n",
              "</style>\n",
              "<table border=\"1\" class=\"dataframe\">\n",
              "  <thead>\n",
              "    <tr style=\"text-align: right;\">\n",
              "      <th></th>\n",
              "      <th>year_sold</th>\n",
              "      <th>month_sold</th>\n",
              "      <th>prescriptions_sold</th>\n",
              "      <th>%</th>\n",
              "    </tr>\n",
              "  </thead>\n",
              "  <tbody>\n",
              "    <tr>\n",
              "      <th>0</th>\n",
              "      <td>2020</td>\n",
              "      <td>3</td>\n",
              "      <td>7</td>\n",
              "      <td>0.024997</td>\n",
              "    </tr>\n",
              "    <tr>\n",
              "      <th>1</th>\n",
              "      <td>2020</td>\n",
              "      <td>4</td>\n",
              "      <td>50</td>\n",
              "      <td>0.178552</td>\n",
              "    </tr>\n",
              "    <tr>\n",
              "      <th>2</th>\n",
              "      <td>2020</td>\n",
              "      <td>5</td>\n",
              "      <td>118</td>\n",
              "      <td>0.421383</td>\n",
              "    </tr>\n",
              "    <tr>\n",
              "      <th>3</th>\n",
              "      <td>2020</td>\n",
              "      <td>6</td>\n",
              "      <td>195</td>\n",
              "      <td>0.696354</td>\n",
              "    </tr>\n",
              "    <tr>\n",
              "      <th>4</th>\n",
              "      <td>2020</td>\n",
              "      <td>7</td>\n",
              "      <td>321</td>\n",
              "      <td>1.146306</td>\n",
              "    </tr>\n",
              "    <tr>\n",
              "      <th>5</th>\n",
              "      <td>2020</td>\n",
              "      <td>8</td>\n",
              "      <td>558</td>\n",
              "      <td>1.992644</td>\n",
              "    </tr>\n",
              "    <tr>\n",
              "      <th>6</th>\n",
              "      <td>2020</td>\n",
              "      <td>9</td>\n",
              "      <td>885</td>\n",
              "      <td>3.160376</td>\n",
              "    </tr>\n",
              "    <tr>\n",
              "      <th>7</th>\n",
              "      <td>2020</td>\n",
              "      <td>10</td>\n",
              "      <td>876</td>\n",
              "      <td>3.128236</td>\n",
              "    </tr>\n",
              "    <tr>\n",
              "      <th>8</th>\n",
              "      <td>2020</td>\n",
              "      <td>11</td>\n",
              "      <td>873</td>\n",
              "      <td>3.117523</td>\n",
              "    </tr>\n",
              "    <tr>\n",
              "      <th>9</th>\n",
              "      <td>2020</td>\n",
              "      <td>12</td>\n",
              "      <td>1096</td>\n",
              "      <td>3.913866</td>\n",
              "    </tr>\n",
              "    <tr>\n",
              "      <th>10</th>\n",
              "      <td>2021</td>\n",
              "      <td>1</td>\n",
              "      <td>1419</td>\n",
              "      <td>5.067314</td>\n",
              "    </tr>\n",
              "    <tr>\n",
              "      <th>11</th>\n",
              "      <td>2021</td>\n",
              "      <td>2</td>\n",
              "      <td>2024</td>\n",
              "      <td>7.227797</td>\n",
              "    </tr>\n",
              "    <tr>\n",
              "      <th>12</th>\n",
              "      <td>2021</td>\n",
              "      <td>3</td>\n",
              "      <td>2418</td>\n",
              "      <td>8.634789</td>\n",
              "    </tr>\n",
              "    <tr>\n",
              "      <th>13</th>\n",
              "      <td>2021</td>\n",
              "      <td>4</td>\n",
              "      <td>2365</td>\n",
              "      <td>8.445524</td>\n",
              "    </tr>\n",
              "    <tr>\n",
              "      <th>14</th>\n",
              "      <td>2021</td>\n",
              "      <td>5</td>\n",
              "      <td>2349</td>\n",
              "      <td>8.388387</td>\n",
              "    </tr>\n",
              "    <tr>\n",
              "      <th>15</th>\n",
              "      <td>2021</td>\n",
              "      <td>6</td>\n",
              "      <td>2732</td>\n",
              "      <td>9.756098</td>\n",
              "    </tr>\n",
              "    <tr>\n",
              "      <th>16</th>\n",
              "      <td>2021</td>\n",
              "      <td>7</td>\n",
              "      <td>3073</td>\n",
              "      <td>10.973824</td>\n",
              "    </tr>\n",
              "    <tr>\n",
              "      <th>17</th>\n",
              "      <td>2021</td>\n",
              "      <td>8</td>\n",
              "      <td>3100</td>\n",
              "      <td>11.070242</td>\n",
              "    </tr>\n",
              "    <tr>\n",
              "      <th>18</th>\n",
              "      <td>2021</td>\n",
              "      <td>9</td>\n",
              "      <td>3544</td>\n",
              "      <td>12.655787</td>\n",
              "    </tr>\n",
              "  </tbody>\n",
              "</table>\n",
              "</div>"
            ],
            "text/plain": [
              "    year_sold  month_sold  prescriptions_sold          %\n",
              "0        2020           3                   7   0.024997\n",
              "1        2020           4                  50   0.178552\n",
              "2        2020           5                 118   0.421383\n",
              "3        2020           6                 195   0.696354\n",
              "4        2020           7                 321   1.146306\n",
              "5        2020           8                 558   1.992644\n",
              "6        2020           9                 885   3.160376\n",
              "7        2020          10                 876   3.128236\n",
              "8        2020          11                 873   3.117523\n",
              "9        2020          12                1096   3.913866\n",
              "10       2021           1                1419   5.067314\n",
              "11       2021           2                2024   7.227797\n",
              "12       2021           3                2418   8.634789\n",
              "13       2021           4                2365   8.445524\n",
              "14       2021           5                2349   8.388387\n",
              "15       2021           6                2732   9.756098\n",
              "16       2021           7                3073  10.973824\n",
              "17       2021           8                3100  11.070242\n",
              "18       2021           9                3544  12.655787"
            ]
          },
          "metadata": {},
          "execution_count": 40
        }
      ]
    },
    {
      "cell_type": "code",
      "metadata": {
        "colab": {
          "base_uri": "https://localhost:8080/",
          "height": 411
        },
        "id": "S9CYJooYS92F",
        "outputId": "292debe9-5d47-4942-bd4d-d4e75392a08b"
      },
      "source": [
        "# lineplot of prescriptions sold by year / month\n",
        "\n",
        "f, ax = plt.subplots(figsize=(12, 6))\n",
        "\n",
        "sns.lineplot(x=presc_sold_month.month_sold, y=presc_sold_month.prescriptions_sold,\\\n",
        "             hue=presc_sold_month.year_sold, palette=['olive', 'orchid'])\n",
        "\n",
        "ax.set_xticks([1,2,3,4,5,6,7,8,9,10,11,12])\n",
        "ax.set_xticklabels(['Ene', 'Feb', 'Mar', 'Abr', 'May', 'Jun', 'Jul', 'Ago', 'Sep', 'Oct', 'Nov', 'Dic'])\n",
        "\n",
        "plt.title('Number of FMs Prescriptions Sold - March 2020 to Sept 2021', pad=12)\n",
        "plt.legend()\n",
        "plt.show()"
      ],
      "execution_count": 41,
      "outputs": [
        {
          "output_type": "display_data",
          "data": {
            "image/png": "[encoded data removed]",
            "text/plain": [
              "<Figure size 864x432 with 1 Axes>"
            ]
          },
          "metadata": {
            "needs_background": "light"
          }
        }
      ]
    },
    {
      "cell_type": "markdown",
      "metadata": {
        "id": "ITqkny1gVPvn"
      },
      "source": [
        "![purple-divider](https://user-images.githubusercontent.com/7065401/52071927-c1cd7100-2562-11e9-908a-dde91ba14e59.png)"
      ]
    },
    {
      "cell_type": "markdown",
      "metadata": {
        "id": "v1PdMIBrVXz8"
      },
      "source": [
        "## DFs Merging"
      ]
    },
    {
      "cell_type": "code",
      "metadata": {
        "colab": {
          "base_uri": "https://localhost:8080/"
        },
        "id": "mGCkxJiCVZYY",
        "outputId": "137fe6bb-2f9f-49a8-c28f-c4b2d86675a0"
      },
      "source": [
        " # check size of df_procedures\n",
        " df_procedures.shape"
      ],
      "execution_count": 42,
      "outputs": [
        {
          "output_type": "execute_result",
          "data": {
            "text/plain": [
              "(35141, 22)"
            ]
          },
          "metadata": {},
          "execution_count": 42
        }
      ]
    },
    {
      "cell_type": "code",
      "metadata": {
        "colab": {
          "base_uri": "https://localhost:8080/",
          "height": 452
        },
        "id": "s1AN5ec-a2nz",
        "outputId": "4c88550a-9b43-48b0-c8e2-79403764e1fc"
      },
      "source": [
        "# left join of df_procedures and df_sales on ingreso\n",
        "df_merged = df_procedures.merge(df_sales, on='Ingreso', how='left')\n",
        "\n",
        "df_merged.tail()"
      ],
      "execution_count": 43,
      "outputs": [
        {
          "output_type": "execute_result",
          "data": {
            "text/html": [
              "<div>\n",
              "<style scoped>\n",
              "    .dataframe tbody tr th:only-of-type {\n",
              "        vertical-align: middle;\n",
              "    }\n",
              "\n",
              "    .dataframe tbody tr th {\n",
              "        vertical-align: top;\n",
              "    }\n",
              "\n",
              "    .dataframe thead th {\n",
              "        text-align: right;\n",
              "    }\n",
              "</style>\n",
              "<table border=\"1\" class=\"dataframe\">\n",
              "  <thead>\n",
              "    <tr style=\"text-align: right;\">\n",
              "      <th></th>\n",
              "      <th>Ingreso</th>\n",
              "      <th>DocPaciente</th>\n",
              "      <th>Fecha Nacimiento</th>\n",
              "      <th>Edad</th>\n",
              "      <th>Sexo</th>\n",
              "      <th>CiudadMunicipio</th>\n",
              "      <th>Diagnostico</th>\n",
              "      <th>CodigoDiagnostico</th>\n",
              "      <th>Plan</th>\n",
              "      <th>Tipo Plan</th>\n",
              "      <th>FechaIngreso</th>\n",
              "      <th>FechaFormulacion</th>\n",
              "      <th>CodProducto</th>\n",
              "      <th>Cantidad</th>\n",
              "      <th>DocMedico</th>\n",
              "      <th>NombreMedico</th>\n",
              "      <th>Especialidad</th>\n",
              "      <th>Plan/Servicio</th>\n",
              "      <th>Sede</th>\n",
              "      <th>Month</th>\n",
              "      <th>Year</th>\n",
              "      <th>age_group</th>\n",
              "      <th>cedula</th>\n",
              "      <th>fecha_oc</th>\n",
              "      <th>month_sold</th>\n",
              "      <th>year_sold</th>\n",
              "    </tr>\n",
              "  </thead>\n",
              "  <tbody>\n",
              "    <tr>\n",
              "      <th>35136</th>\n",
              "      <td>225510</td>\n",
              "      <td>41726681</td>\n",
              "      <td>24/06/1948</td>\n",
              "      <td>73</td>\n",
              "      <td>F</td>\n",
              "      <td>BOGOTÁ D.C.</td>\n",
              "      <td>DOLOR CRONICO INTRATABLE</td>\n",
              "      <td>R521</td>\n",
              "      <td>FAMISANAR EPS - SUBSIDIADO</td>\n",
              "      <td>EPS</td>\n",
              "      <td>2021-09-29</td>\n",
              "      <td>2021-09-29</td>\n",
              "      <td>fm001</td>\n",
              "      <td>1</td>\n",
              "      <td>19062502</td>\n",
              "      <td>JORGE  PATIÑO</td>\n",
              "      <td>Algesiólogo</td>\n",
              "      <td>Consulta Dolor y Cuidados Paliativos</td>\n",
              "      <td>ZERENIA</td>\n",
              "      <td>9</td>\n",
              "      <td>2021</td>\n",
              "      <td>(51.0, 76.0]</td>\n",
              "      <td>NaN</td>\n",
              "      <td>NaT</td>\n",
              "      <td>NaN</td>\n",
              "      <td>NaN</td>\n",
              "    </tr>\n",
              "    <tr>\n",
              "      <th>35137</th>\n",
              "      <td>225514</td>\n",
              "      <td>51866868</td>\n",
              "      <td>15/12/1966</td>\n",
              "      <td>55</td>\n",
              "      <td>F</td>\n",
              "      <td>BOGOTÁ D.C.</td>\n",
              "      <td>DOLOR CRONICO INTRATABLE</td>\n",
              "      <td>R521</td>\n",
              "      <td>FAMISANAR EPS - CONTRIBUTIVO</td>\n",
              "      <td>EPS</td>\n",
              "      <td>2021-09-29</td>\n",
              "      <td>2021-09-29</td>\n",
              "      <td>fm001</td>\n",
              "      <td>1</td>\n",
              "      <td>19062502</td>\n",
              "      <td>JORGE  PATIÑO</td>\n",
              "      <td>Algesiólogo</td>\n",
              "      <td>Consulta Dolor y Cuidados Paliativos</td>\n",
              "      <td>ZERENIA</td>\n",
              "      <td>9</td>\n",
              "      <td>2021</td>\n",
              "      <td>(51.0, 76.0]</td>\n",
              "      <td>NaN</td>\n",
              "      <td>NaT</td>\n",
              "      <td>NaN</td>\n",
              "      <td>NaN</td>\n",
              "    </tr>\n",
              "    <tr>\n",
              "      <th>35138</th>\n",
              "      <td>225515</td>\n",
              "      <td>51811731</td>\n",
              "      <td>22/01/1966</td>\n",
              "      <td>55</td>\n",
              "      <td>F</td>\n",
              "      <td>BOGOTÁ D.C.</td>\n",
              "      <td>OTRO DOLOR CRONICO</td>\n",
              "      <td>R522</td>\n",
              "      <td>FAMISANAR EPS - SUBSIDIADO</td>\n",
              "      <td>EPS</td>\n",
              "      <td>2021-09-29</td>\n",
              "      <td>2021-09-29</td>\n",
              "      <td>fm003</td>\n",
              "      <td>1</td>\n",
              "      <td>19062502</td>\n",
              "      <td>JORGE  PATIÑO</td>\n",
              "      <td>Algesiólogo</td>\n",
              "      <td>Consulta Dolor y Cuidados Paliativos</td>\n",
              "      <td>ZERENIA</td>\n",
              "      <td>9</td>\n",
              "      <td>2021</td>\n",
              "      <td>(51.0, 76.0]</td>\n",
              "      <td>NaN</td>\n",
              "      <td>NaT</td>\n",
              "      <td>NaN</td>\n",
              "      <td>NaN</td>\n",
              "    </tr>\n",
              "    <tr>\n",
              "      <th>35139</th>\n",
              "      <td>225558</td>\n",
              "      <td>53063429</td>\n",
              "      <td>15/05/1984</td>\n",
              "      <td>37</td>\n",
              "      <td>F</td>\n",
              "      <td>MADRID</td>\n",
              "      <td>NaN</td>\n",
              "      <td>NaN</td>\n",
              "      <td>FAMISANAR EPS - SUBSIDIADO</td>\n",
              "      <td>EPS</td>\n",
              "      <td>2021-09-29</td>\n",
              "      <td>2021-09-29</td>\n",
              "      <td>fm001</td>\n",
              "      <td>4</td>\n",
              "      <td>55303292</td>\n",
              "      <td>MARIA ANGELICA SOLANO MANZANO</td>\n",
              "      <td>Medicina General</td>\n",
              "      <td>Consulta Dolor y Cuidados Paliativos</td>\n",
              "      <td>ZERENIA</td>\n",
              "      <td>9</td>\n",
              "      <td>2021</td>\n",
              "      <td>(26.0, 51.0]</td>\n",
              "      <td>NaN</td>\n",
              "      <td>NaT</td>\n",
              "      <td>NaN</td>\n",
              "      <td>NaN</td>\n",
              "    </tr>\n",
              "    <tr>\n",
              "      <th>35140</th>\n",
              "      <td>225559</td>\n",
              "      <td>1070304763</td>\n",
              "      <td>19/06/1988</td>\n",
              "      <td>33</td>\n",
              "      <td>F</td>\n",
              "      <td>ZIPAQUIRÁ</td>\n",
              "      <td>NaN</td>\n",
              "      <td>NaN</td>\n",
              "      <td>FAMISANAR EPS - CONTRIBUTIVO</td>\n",
              "      <td>EPS</td>\n",
              "      <td>2021-09-29</td>\n",
              "      <td>2021-09-29</td>\n",
              "      <td>fm001</td>\n",
              "      <td>1</td>\n",
              "      <td>55303292</td>\n",
              "      <td>MARIA ANGELICA SOLANO MANZANO</td>\n",
              "      <td>Medicina General</td>\n",
              "      <td>Consulta Dolor y Cuidados Paliativos</td>\n",
              "      <td>ZERENIA</td>\n",
              "      <td>9</td>\n",
              "      <td>2021</td>\n",
              "      <td>(26.0, 51.0]</td>\n",
              "      <td>NaN</td>\n",
              "      <td>NaT</td>\n",
              "      <td>NaN</td>\n",
              "      <td>NaN</td>\n",
              "    </tr>\n",
              "  </tbody>\n",
              "</table>\n",
              "</div>"
            ],
            "text/plain": [
              "       Ingreso DocPaciente Fecha Nacimiento  ...  fecha_oc month_sold year_sold\n",
              "35136   225510    41726681       24/06/1948  ...       NaT        NaN       NaN\n",
              "35137   225514    51866868       15/12/1966  ...       NaT        NaN       NaN\n",
              "35138   225515    51811731       22/01/1966  ...       NaT        NaN       NaN\n",
              "35139   225558    53063429       15/05/1984  ...       NaT        NaN       NaN\n",
              "35140   225559  1070304763       19/06/1988  ...       NaT        NaN       NaN\n",
              "\n",
              "[5 rows x 26 columns]"
            ]
          },
          "metadata": {},
          "execution_count": 43
        }
      ]
    },
    {
      "cell_type": "code",
      "metadata": {
        "colab": {
          "base_uri": "https://localhost:8080/"
        },
        "id": "eDClmzSedyBX",
        "outputId": "dd4f6b3f-f9ea-435a-efec-8529111981e0"
      },
      "source": [
        "# check merge df size\n",
        "df_merged.shape"
      ],
      "execution_count": 44,
      "outputs": [
        {
          "output_type": "execute_result",
          "data": {
            "text/plain": [
              "(35141, 26)"
            ]
          },
          "metadata": {},
          "execution_count": 44
        }
      ]
    },
    {
      "cell_type": "markdown",
      "metadata": {
        "id": "jW--eOoAFWLR"
      },
      "source": [
        "![green-divider](https://user-images.githubusercontent.com/7065401/52071924-c003ad80-2562-11e9-8297-1c6595f8a7ff.png)"
      ]
    },
    {
      "cell_type": "markdown",
      "metadata": {
        "id": "MyF4zGxpFOVS"
      },
      "source": [
        "### Selection Features & label in DF"
      ]
    },
    {
      "cell_type": "code",
      "metadata": {
        "id": "CdTsU9US-2AE"
      },
      "source": [
        "# create column not_buyer >> if the column 'cedula' isna() >> True\n",
        "df_merged['not_buyer'] = df_merged.cedula.isna()\n",
        "\n",
        "# create column 'FM_buyer >> 1 if its not_buyer == False \n",
        "df_merged['FM_buyer'] = [1 if df_merged.iloc[index].not_buyer == False else 0 for index in df_merged.index]"
      ],
      "execution_count": 45,
      "outputs": []
    },
    {
      "cell_type": "code",
      "metadata": {
        "colab": {
          "base_uri": "https://localhost:8080/",
          "height": 320
        },
        "id": "XLjO-37EBe1S",
        "outputId": "e1bee3d1-f34e-4ee7-e8d6-bd1bcdd0eea5"
      },
      "source": [
        "df_merged.tail(3)"
      ],
      "execution_count": 46,
      "outputs": [
        {
          "output_type": "execute_result",
          "data": {
            "text/html": [
              "<div>\n",
              "<style scoped>\n",
              "    .dataframe tbody tr th:only-of-type {\n",
              "        vertical-align: middle;\n",
              "    }\n",
              "\n",
              "    .dataframe tbody tr th {\n",
              "        vertical-align: top;\n",
              "    }\n",
              "\n",
              "    .dataframe thead th {\n",
              "        text-align: right;\n",
              "    }\n",
              "</style>\n",
              "<table border=\"1\" class=\"dataframe\">\n",
              "  <thead>\n",
              "    <tr style=\"text-align: right;\">\n",
              "      <th></th>\n",
              "      <th>Ingreso</th>\n",
              "      <th>DocPaciente</th>\n",
              "      <th>Fecha Nacimiento</th>\n",
              "      <th>Edad</th>\n",
              "      <th>Sexo</th>\n",
              "      <th>CiudadMunicipio</th>\n",
              "      <th>Diagnostico</th>\n",
              "      <th>CodigoDiagnostico</th>\n",
              "      <th>Plan</th>\n",
              "      <th>Tipo Plan</th>\n",
              "      <th>FechaIngreso</th>\n",
              "      <th>FechaFormulacion</th>\n",
              "      <th>CodProducto</th>\n",
              "      <th>Cantidad</th>\n",
              "      <th>DocMedico</th>\n",
              "      <th>NombreMedico</th>\n",
              "      <th>Especialidad</th>\n",
              "      <th>Plan/Servicio</th>\n",
              "      <th>Sede</th>\n",
              "      <th>Month</th>\n",
              "      <th>Year</th>\n",
              "      <th>age_group</th>\n",
              "      <th>cedula</th>\n",
              "      <th>fecha_oc</th>\n",
              "      <th>month_sold</th>\n",
              "      <th>year_sold</th>\n",
              "      <th>not_buyer</th>\n",
              "      <th>FM_buyer</th>\n",
              "    </tr>\n",
              "  </thead>\n",
              "  <tbody>\n",
              "    <tr>\n",
              "      <th>35138</th>\n",
              "      <td>225515</td>\n",
              "      <td>51811731</td>\n",
              "      <td>22/01/1966</td>\n",
              "      <td>55</td>\n",
              "      <td>F</td>\n",
              "      <td>BOGOTÁ D.C.</td>\n",
              "      <td>OTRO DOLOR CRONICO</td>\n",
              "      <td>R522</td>\n",
              "      <td>FAMISANAR EPS - SUBSIDIADO</td>\n",
              "      <td>EPS</td>\n",
              "      <td>2021-09-29</td>\n",
              "      <td>2021-09-29</td>\n",
              "      <td>fm003</td>\n",
              "      <td>1</td>\n",
              "      <td>19062502</td>\n",
              "      <td>JORGE  PATIÑO</td>\n",
              "      <td>Algesiólogo</td>\n",
              "      <td>Consulta Dolor y Cuidados Paliativos</td>\n",
              "      <td>ZERENIA</td>\n",
              "      <td>9</td>\n",
              "      <td>2021</td>\n",
              "      <td>(51.0, 76.0]</td>\n",
              "      <td>NaN</td>\n",
              "      <td>NaT</td>\n",
              "      <td>NaN</td>\n",
              "      <td>NaN</td>\n",
              "      <td>True</td>\n",
              "      <td>0</td>\n",
              "    </tr>\n",
              "    <tr>\n",
              "      <th>35139</th>\n",
              "      <td>225558</td>\n",
              "      <td>53063429</td>\n",
              "      <td>15/05/1984</td>\n",
              "      <td>37</td>\n",
              "      <td>F</td>\n",
              "      <td>MADRID</td>\n",
              "      <td>NaN</td>\n",
              "      <td>NaN</td>\n",
              "      <td>FAMISANAR EPS - SUBSIDIADO</td>\n",
              "      <td>EPS</td>\n",
              "      <td>2021-09-29</td>\n",
              "      <td>2021-09-29</td>\n",
              "      <td>fm001</td>\n",
              "      <td>4</td>\n",
              "      <td>55303292</td>\n",
              "      <td>MARIA ANGELICA SOLANO MANZANO</td>\n",
              "      <td>Medicina General</td>\n",
              "      <td>Consulta Dolor y Cuidados Paliativos</td>\n",
              "      <td>ZERENIA</td>\n",
              "      <td>9</td>\n",
              "      <td>2021</td>\n",
              "      <td>(26.0, 51.0]</td>\n",
              "      <td>NaN</td>\n",
              "      <td>NaT</td>\n",
              "      <td>NaN</td>\n",
              "      <td>NaN</td>\n",
              "      <td>True</td>\n",
              "      <td>0</td>\n",
              "    </tr>\n",
              "    <tr>\n",
              "      <th>35140</th>\n",
              "      <td>225559</td>\n",
              "      <td>1070304763</td>\n",
              "      <td>19/06/1988</td>\n",
              "      <td>33</td>\n",
              "      <td>F</td>\n",
              "      <td>ZIPAQUIRÁ</td>\n",
              "      <td>NaN</td>\n",
              "      <td>NaN</td>\n",
              "      <td>FAMISANAR EPS - CONTRIBUTIVO</td>\n",
              "      <td>EPS</td>\n",
              "      <td>2021-09-29</td>\n",
              "      <td>2021-09-29</td>\n",
              "      <td>fm001</td>\n",
              "      <td>1</td>\n",
              "      <td>55303292</td>\n",
              "      <td>MARIA ANGELICA SOLANO MANZANO</td>\n",
              "      <td>Medicina General</td>\n",
              "      <td>Consulta Dolor y Cuidados Paliativos</td>\n",
              "      <td>ZERENIA</td>\n",
              "      <td>9</td>\n",
              "      <td>2021</td>\n",
              "      <td>(26.0, 51.0]</td>\n",
              "      <td>NaN</td>\n",
              "      <td>NaT</td>\n",
              "      <td>NaN</td>\n",
              "      <td>NaN</td>\n",
              "      <td>True</td>\n",
              "      <td>0</td>\n",
              "    </tr>\n",
              "  </tbody>\n",
              "</table>\n",
              "</div>"
            ],
            "text/plain": [
              "       Ingreso DocPaciente Fecha Nacimiento  ...  year_sold not_buyer FM_buyer\n",
              "35138   225515    51811731       22/01/1966  ...        NaN      True        0\n",
              "35139   225558    53063429       15/05/1984  ...        NaN      True        0\n",
              "35140   225559  1070304763       19/06/1988  ...        NaN      True        0\n",
              "\n",
              "[3 rows x 28 columns]"
            ]
          },
          "metadata": {},
          "execution_count": 46
        }
      ]
    },
    {
      "cell_type": "code",
      "metadata": {
        "colab": {
          "base_uri": "https://localhost:8080/",
          "height": 348
        },
        "id": "iHwkXjrnCUsx",
        "outputId": "9cb779f1-4cbc-45a5-ca85-922307b933c2"
      },
      "source": [
        "# selection of relevant features & label on new df\n",
        "df_proced_sales = df_merged[['Ingreso', 'DocPaciente', 'age_group', 'Sexo', 'CiudadMunicipio', 'Diagnostico',\\\n",
        "                             'Tipo Plan', 'FechaFormulacion', 'CodProducto', 'Cantidad', 'Plan/Servicio', 'Sede',\\\n",
        "                             'Month', 'Year', 'month_sold', 'year_sold', 'FM_buyer']]\n",
        "\n",
        "df_proced_sales.head()"
      ],
      "execution_count": 47,
      "outputs": [
        {
          "output_type": "execute_result",
          "data": {
            "text/html": [
              "<div>\n",
              "<style scoped>\n",
              "    .dataframe tbody tr th:only-of-type {\n",
              "        vertical-align: middle;\n",
              "    }\n",
              "\n",
              "    .dataframe tbody tr th {\n",
              "        vertical-align: top;\n",
              "    }\n",
              "\n",
              "    .dataframe thead th {\n",
              "        text-align: right;\n",
              "    }\n",
              "</style>\n",
              "<table border=\"1\" class=\"dataframe\">\n",
              "  <thead>\n",
              "    <tr style=\"text-align: right;\">\n",
              "      <th></th>\n",
              "      <th>Ingreso</th>\n",
              "      <th>DocPaciente</th>\n",
              "      <th>age_group</th>\n",
              "      <th>Sexo</th>\n",
              "      <th>CiudadMunicipio</th>\n",
              "      <th>Diagnostico</th>\n",
              "      <th>Tipo Plan</th>\n",
              "      <th>FechaFormulacion</th>\n",
              "      <th>CodProducto</th>\n",
              "      <th>Cantidad</th>\n",
              "      <th>Plan/Servicio</th>\n",
              "      <th>Sede</th>\n",
              "      <th>Month</th>\n",
              "      <th>Year</th>\n",
              "      <th>month_sold</th>\n",
              "      <th>year_sold</th>\n",
              "      <th>FM_buyer</th>\n",
              "    </tr>\n",
              "  </thead>\n",
              "  <tbody>\n",
              "    <tr>\n",
              "      <th>0</th>\n",
              "      <td>26720</td>\n",
              "      <td>41453437</td>\n",
              "      <td>(51.0, 76.0]</td>\n",
              "      <td>F</td>\n",
              "      <td>BOGOTÁ D.C.</td>\n",
              "      <td>(OSTEO)ARTROSIS PRIMARIAGENERALIZADA</td>\n",
              "      <td>Particular</td>\n",
              "      <td>2020-03-19</td>\n",
              "      <td>fm001</td>\n",
              "      <td>1</td>\n",
              "      <td>Consulta Dolor y Cuidados Paliativos</td>\n",
              "      <td>ZERENIA</td>\n",
              "      <td>3</td>\n",
              "      <td>2020</td>\n",
              "      <td>3.0</td>\n",
              "      <td>2020.0</td>\n",
              "      <td>1</td>\n",
              "    </tr>\n",
              "    <tr>\n",
              "      <th>1</th>\n",
              "      <td>26793</td>\n",
              "      <td>13352962</td>\n",
              "      <td>(51.0, 76.0]</td>\n",
              "      <td>M</td>\n",
              "      <td>BOGOTÁ D.C.</td>\n",
              "      <td>TRASTORNO DE DISCO LUMBAR YOTROS, CON RADICULO...</td>\n",
              "      <td>Particular</td>\n",
              "      <td>2020-03-19</td>\n",
              "      <td>fm001</td>\n",
              "      <td>1</td>\n",
              "      <td>Consulta Dolor y Cuidados Paliativos</td>\n",
              "      <td>ZERENIA</td>\n",
              "      <td>3</td>\n",
              "      <td>2020</td>\n",
              "      <td>3.0</td>\n",
              "      <td>2020.0</td>\n",
              "      <td>1</td>\n",
              "    </tr>\n",
              "    <tr>\n",
              "      <th>2</th>\n",
              "      <td>26806</td>\n",
              "      <td>390646</td>\n",
              "      <td>(76.0, 101.0]</td>\n",
              "      <td>M</td>\n",
              "      <td>BOGOTÁ D.C.</td>\n",
              "      <td>NEURALGIA POSTHERPES ZOSTER(B02.2†)</td>\n",
              "      <td>Particular</td>\n",
              "      <td>2020-03-19</td>\n",
              "      <td>fm001</td>\n",
              "      <td>1</td>\n",
              "      <td>Consulta Dolor y Cuidados Paliativos</td>\n",
              "      <td>ZERENIA</td>\n",
              "      <td>3</td>\n",
              "      <td>2020</td>\n",
              "      <td>3.0</td>\n",
              "      <td>2020.0</td>\n",
              "      <td>1</td>\n",
              "    </tr>\n",
              "    <tr>\n",
              "      <th>3</th>\n",
              "      <td>26928</td>\n",
              "      <td>19059029</td>\n",
              "      <td>(51.0, 76.0]</td>\n",
              "      <td>M</td>\n",
              "      <td>BOGOTÁ D.C.</td>\n",
              "      <td>NaN</td>\n",
              "      <td>Particular</td>\n",
              "      <td>2020-03-19</td>\n",
              "      <td>fm001</td>\n",
              "      <td>1</td>\n",
              "      <td>Neurologia</td>\n",
              "      <td>ZERENIA</td>\n",
              "      <td>3</td>\n",
              "      <td>2020</td>\n",
              "      <td>3.0</td>\n",
              "      <td>2020.0</td>\n",
              "      <td>1</td>\n",
              "    </tr>\n",
              "    <tr>\n",
              "      <th>4</th>\n",
              "      <td>26846</td>\n",
              "      <td>41595666</td>\n",
              "      <td>(51.0, 76.0]</td>\n",
              "      <td>F</td>\n",
              "      <td>CAJICÁ</td>\n",
              "      <td>NaN</td>\n",
              "      <td>Particular</td>\n",
              "      <td>2020-03-19</td>\n",
              "      <td>fm001</td>\n",
              "      <td>1</td>\n",
              "      <td>Neurologia</td>\n",
              "      <td>ZERENIA</td>\n",
              "      <td>3</td>\n",
              "      <td>2020</td>\n",
              "      <td>3.0</td>\n",
              "      <td>2020.0</td>\n",
              "      <td>1</td>\n",
              "    </tr>\n",
              "  </tbody>\n",
              "</table>\n",
              "</div>"
            ],
            "text/plain": [
              "   Ingreso DocPaciente      age_group  ... month_sold year_sold FM_buyer\n",
              "0    26720    41453437   (51.0, 76.0]  ...        3.0    2020.0        1\n",
              "1    26793    13352962   (51.0, 76.0]  ...        3.0    2020.0        1\n",
              "2    26806      390646  (76.0, 101.0]  ...        3.0    2020.0        1\n",
              "3    26928    19059029   (51.0, 76.0]  ...        3.0    2020.0        1\n",
              "4    26846    41595666   (51.0, 76.0]  ...        3.0    2020.0        1\n",
              "\n",
              "[5 rows x 17 columns]"
            ]
          },
          "metadata": {},
          "execution_count": 47
        }
      ]
    },
    {
      "cell_type": "markdown",
      "metadata": {
        "id": "4zkIyCWNFeH4"
      },
      "source": [
        "![green-divider](https://user-images.githubusercontent.com/7065401/52071924-c003ad80-2562-11e9-8297-1c6595f8a7ff.png)"
      ]
    },
    {
      "cell_type": "markdown",
      "metadata": {
        "id": "z6nIar_SFhK1"
      },
      "source": [
        "### Features Comparison Between Buyers & Not Buyers"
      ]
    },
    {
      "cell_type": "markdown",
      "metadata": {
        "id": "f4U9r7_ylNIt"
      },
      "source": [
        "#### FMs Bought Vs FMs Prescribed"
      ]
    },
    {
      "cell_type": "code",
      "metadata": {
        "colab": {
          "base_uri": "https://localhost:8080/",
          "height": 112
        },
        "id": "CMRUBYHEkmkv",
        "outputId": "0d1ad7b6-7810-4f46-9239-368b9dc07c4e"
      },
      "source": [
        "# groupby 'FM_buyer'\n",
        "fm_buyers = df_proced_sales.groupby(['FM_buyer']).Cantidad.sum().reset_index()\n",
        "\n",
        "fm_buyers"
      ],
      "execution_count": 48,
      "outputs": [
        {
          "output_type": "execute_result",
          "data": {
            "text/html": [
              "<div>\n",
              "<style scoped>\n",
              "    .dataframe tbody tr th:only-of-type {\n",
              "        vertical-align: middle;\n",
              "    }\n",
              "\n",
              "    .dataframe tbody tr th {\n",
              "        vertical-align: top;\n",
              "    }\n",
              "\n",
              "    .dataframe thead th {\n",
              "        text-align: right;\n",
              "    }\n",
              "</style>\n",
              "<table border=\"1\" class=\"dataframe\">\n",
              "  <thead>\n",
              "    <tr style=\"text-align: right;\">\n",
              "      <th></th>\n",
              "      <th>FM_buyer</th>\n",
              "      <th>Cantidad</th>\n",
              "    </tr>\n",
              "  </thead>\n",
              "  <tbody>\n",
              "    <tr>\n",
              "      <th>0</th>\n",
              "      <td>0</td>\n",
              "      <td>9227</td>\n",
              "    </tr>\n",
              "    <tr>\n",
              "      <th>1</th>\n",
              "      <td>1</td>\n",
              "      <td>38187</td>\n",
              "    </tr>\n",
              "  </tbody>\n",
              "</table>\n",
              "</div>"
            ],
            "text/plain": [
              "   FM_buyer  Cantidad\n",
              "0         0      9227\n",
              "1         1     38187"
            ]
          },
          "metadata": {},
          "execution_count": 48
        }
      ]
    },
    {
      "cell_type": "code",
      "metadata": {
        "colab": {
          "base_uri": "https://localhost:8080/"
        },
        "id": "EkdzpO4wpWon",
        "outputId": "aa16fb46-e92c-42f9-a3a4-4d6cbd8a772c"
      },
      "source": [
        "# Total # of FMs prescribed\n",
        "print(f'Total # of FMs prescribed from March 2020 to September 2021: {df_proced_sales.Cantidad.sum()}')\n",
        "\n",
        "# Total # of FMs bought\n",
        "print(f'Total # of FMs bought from March 2020 to September 2021: {38187}')\n",
        "\n",
        "# Rate of Purchase\n",
        "print(f'Rate of Purchase of FMs prescribed: {(round((38187/47414)*100, 2))}%')"
      ],
      "execution_count": 49,
      "outputs": [
        {
          "output_type": "stream",
          "name": "stdout",
          "text": [
            "Total # of FMs prescribed from March 2020 to September 2021: 47414\n",
            "Total # of FMs bought from March 2020 to September 2021: 38187\n",
            "Rate of Purchase of FMs prescribed: 80.54%\n"
          ]
        }
      ]
    },
    {
      "cell_type": "markdown",
      "metadata": {
        "id": "vxeC39lFrx1g"
      },
      "source": [
        "The Rate of Purchase of FMs prescribed from March 2020 to September 2021 is **80.54%**"
      ]
    },
    {
      "cell_type": "markdown",
      "metadata": {
        "id": "K5VsZCRnrswR"
      },
      "source": [
        "![green-divider](https://user-images.githubusercontent.com/7065401/52071924-c003ad80-2562-11e9-8297-1c6595f8a7ff.png)"
      ]
    },
    {
      "cell_type": "markdown",
      "metadata": {
        "id": "RZwZYe3MKUMi"
      },
      "source": [
        "#### FMs Bought by Sex"
      ]
    },
    {
      "cell_type": "code",
      "metadata": {
        "colab": {
          "base_uri": "https://localhost:8080/",
          "height": 175
        },
        "id": "spgJPq8fFnXW",
        "outputId": "763ea9ca-374e-4949-ebd0-9b0a15b014a5"
      },
      "source": [
        "# groupby FM_buyer and sexo\n",
        "fm_sex = df_proced_sales.groupby(['FM_buyer', 'Sexo']).Cantidad.sum().reset_index()\n",
        "\n",
        "fm_sex"
      ],
      "execution_count": 50,
      "outputs": [
        {
          "output_type": "execute_result",
          "data": {
            "text/html": [
              "<div>\n",
              "<style scoped>\n",
              "    .dataframe tbody tr th:only-of-type {\n",
              "        vertical-align: middle;\n",
              "    }\n",
              "\n",
              "    .dataframe tbody tr th {\n",
              "        vertical-align: top;\n",
              "    }\n",
              "\n",
              "    .dataframe thead th {\n",
              "        text-align: right;\n",
              "    }\n",
              "</style>\n",
              "<table border=\"1\" class=\"dataframe\">\n",
              "  <thead>\n",
              "    <tr style=\"text-align: right;\">\n",
              "      <th></th>\n",
              "      <th>FM_buyer</th>\n",
              "      <th>Sexo</th>\n",
              "      <th>Cantidad</th>\n",
              "    </tr>\n",
              "  </thead>\n",
              "  <tbody>\n",
              "    <tr>\n",
              "      <th>0</th>\n",
              "      <td>0</td>\n",
              "      <td>F</td>\n",
              "      <td>6497</td>\n",
              "    </tr>\n",
              "    <tr>\n",
              "      <th>1</th>\n",
              "      <td>0</td>\n",
              "      <td>M</td>\n",
              "      <td>2730</td>\n",
              "    </tr>\n",
              "    <tr>\n",
              "      <th>2</th>\n",
              "      <td>1</td>\n",
              "      <td>F</td>\n",
              "      <td>27208</td>\n",
              "    </tr>\n",
              "    <tr>\n",
              "      <th>3</th>\n",
              "      <td>1</td>\n",
              "      <td>M</td>\n",
              "      <td>10979</td>\n",
              "    </tr>\n",
              "  </tbody>\n",
              "</table>\n",
              "</div>"
            ],
            "text/plain": [
              "   FM_buyer Sexo  Cantidad\n",
              "0         0    F      6497\n",
              "1         0    M      2730\n",
              "2         1    F     27208\n",
              "3         1    M     10979"
            ]
          },
          "metadata": {},
          "execution_count": 50
        }
      ]
    },
    {
      "cell_type": "code",
      "metadata": {
        "colab": {
          "base_uri": "https://localhost:8080/",
          "height": 112
        },
        "id": "7dhHWJTtH0cn",
        "outputId": "ee691b51-18bf-42d7-b974-faef86692e45"
      },
      "source": [
        "# pivot table >> columns, index=rows, values\n",
        "fm_sex = fm_sex.pivot(\n",
        "    columns='FM_buyer',\n",
        "    index='Sexo',\n",
        "    values='Cantidad').reset_index()\n",
        "\n",
        "# change column names\n",
        "fm_sex.columns = ['sex', 'FMs_non_bought', 'FMs_bought']\n",
        "\n",
        "fm_sex"
      ],
      "execution_count": 51,
      "outputs": [
        {
          "output_type": "execute_result",
          "data": {
            "text/html": [
              "<div>\n",
              "<style scoped>\n",
              "    .dataframe tbody tr th:only-of-type {\n",
              "        vertical-align: middle;\n",
              "    }\n",
              "\n",
              "    .dataframe tbody tr th {\n",
              "        vertical-align: top;\n",
              "    }\n",
              "\n",
              "    .dataframe thead th {\n",
              "        text-align: right;\n",
              "    }\n",
              "</style>\n",
              "<table border=\"1\" class=\"dataframe\">\n",
              "  <thead>\n",
              "    <tr style=\"text-align: right;\">\n",
              "      <th></th>\n",
              "      <th>sex</th>\n",
              "      <th>FMs_non_bought</th>\n",
              "      <th>FMs_bought</th>\n",
              "    </tr>\n",
              "  </thead>\n",
              "  <tbody>\n",
              "    <tr>\n",
              "      <th>0</th>\n",
              "      <td>F</td>\n",
              "      <td>6497</td>\n",
              "      <td>27208</td>\n",
              "    </tr>\n",
              "    <tr>\n",
              "      <th>1</th>\n",
              "      <td>M</td>\n",
              "      <td>2730</td>\n",
              "      <td>10979</td>\n",
              "    </tr>\n",
              "  </tbody>\n",
              "</table>\n",
              "</div>"
            ],
            "text/plain": [
              "  sex  FMs_non_bought  FMs_bought\n",
              "0   F            6497       27208\n",
              "1   M            2730       10979"
            ]
          },
          "metadata": {},
          "execution_count": 51
        }
      ]
    },
    {
      "cell_type": "code",
      "metadata": {
        "colab": {
          "base_uri": "https://localhost:8080/",
          "height": 112
        },
        "id": "AuaEbdA5JDpN",
        "outputId": "061ee92f-3824-4bb4-8df3-75629b8f5a29"
      },
      "source": [
        "# total number of prescriptions\n",
        "fm_sex['FMs_prescribed'] = fm_sex.FMs_bought + fm_sex.FMs_non_bought\n",
        "\n",
        "# % of quantity of FMs prescribed bought\n",
        "fm_sex['%_purchase'] = (fm_sex.FMs_bought / fm_sex.FMs_prescribed) * 100\n",
        "\n",
        "# sort values\n",
        "fm_sex = fm_sex.sort_values('%_purchase', ascending=False)\n",
        "fm_sex"
      ],
      "execution_count": 52,
      "outputs": [
        {
          "output_type": "execute_result",
          "data": {
            "text/html": [
              "<div>\n",
              "<style scoped>\n",
              "    .dataframe tbody tr th:only-of-type {\n",
              "        vertical-align: middle;\n",
              "    }\n",
              "\n",
              "    .dataframe tbody tr th {\n",
              "        vertical-align: top;\n",
              "    }\n",
              "\n",
              "    .dataframe thead th {\n",
              "        text-align: right;\n",
              "    }\n",
              "</style>\n",
              "<table border=\"1\" class=\"dataframe\">\n",
              "  <thead>\n",
              "    <tr style=\"text-align: right;\">\n",
              "      <th></th>\n",
              "      <th>sex</th>\n",
              "      <th>FMs_non_bought</th>\n",
              "      <th>FMs_bought</th>\n",
              "      <th>FMs_prescribed</th>\n",
              "      <th>%_purchase</th>\n",
              "    </tr>\n",
              "  </thead>\n",
              "  <tbody>\n",
              "    <tr>\n",
              "      <th>0</th>\n",
              "      <td>F</td>\n",
              "      <td>6497</td>\n",
              "      <td>27208</td>\n",
              "      <td>33705</td>\n",
              "      <td>80.723928</td>\n",
              "    </tr>\n",
              "    <tr>\n",
              "      <th>1</th>\n",
              "      <td>M</td>\n",
              "      <td>2730</td>\n",
              "      <td>10979</td>\n",
              "      <td>13709</td>\n",
              "      <td>80.086075</td>\n",
              "    </tr>\n",
              "  </tbody>\n",
              "</table>\n",
              "</div>"
            ],
            "text/plain": [
              "  sex  FMs_non_bought  FMs_bought  FMs_prescribed  %_purchase\n",
              "0   F            6497       27208           33705   80.723928\n",
              "1   M            2730       10979           13709   80.086075"
            ]
          },
          "metadata": {},
          "execution_count": 52
        }
      ]
    },
    {
      "cell_type": "markdown",
      "metadata": {
        "id": "PKwpmN5sdFUp"
      },
      "source": [
        "Even though females have bought 16,229 FMs more than males during the period \n",
        "of March 2020 to September 2021, their purchase rate by gender is both in 80%"
      ]
    },
    {
      "cell_type": "markdown",
      "metadata": {
        "id": "eBi8_4MeKYNm"
      },
      "source": [
        "![green-divider](https://user-images.githubusercontent.com/7065401/52071924-c003ad80-2562-11e9-8297-1c6595f8a7ff.png)"
      ]
    },
    {
      "cell_type": "markdown",
      "metadata": {
        "id": "HwrLzGMdd5S2"
      },
      "source": [
        "#### FMs Bougth by Age Group"
      ]
    },
    {
      "cell_type": "code",
      "metadata": {
        "colab": {
          "base_uri": "https://localhost:8080/",
          "height": 300
        },
        "id": "B__857qjd9bX",
        "outputId": "1ca431a0-957a-4371-e298-c9cada0bc7cd"
      },
      "source": [
        "# groupby FM_buyer and age_group\n",
        "fm_age = df_proced_sales.groupby(['FM_buyer', 'age_group']).Cantidad.sum().reset_index()\n",
        "\n",
        "fm_age"
      ],
      "execution_count": 53,
      "outputs": [
        {
          "output_type": "execute_result",
          "data": {
            "text/html": [
              "<div>\n",
              "<style scoped>\n",
              "    .dataframe tbody tr th:only-of-type {\n",
              "        vertical-align: middle;\n",
              "    }\n",
              "\n",
              "    .dataframe tbody tr th {\n",
              "        vertical-align: top;\n",
              "    }\n",
              "\n",
              "    .dataframe thead th {\n",
              "        text-align: right;\n",
              "    }\n",
              "</style>\n",
              "<table border=\"1\" class=\"dataframe\">\n",
              "  <thead>\n",
              "    <tr style=\"text-align: right;\">\n",
              "      <th></th>\n",
              "      <th>FM_buyer</th>\n",
              "      <th>age_group</th>\n",
              "      <th>Cantidad</th>\n",
              "    </tr>\n",
              "  </thead>\n",
              "  <tbody>\n",
              "    <tr>\n",
              "      <th>0</th>\n",
              "      <td>0</td>\n",
              "      <td>(0.9, 26.0]</td>\n",
              "      <td>342</td>\n",
              "    </tr>\n",
              "    <tr>\n",
              "      <th>1</th>\n",
              "      <td>0</td>\n",
              "      <td>(26.0, 51.0]</td>\n",
              "      <td>3734</td>\n",
              "    </tr>\n",
              "    <tr>\n",
              "      <th>2</th>\n",
              "      <td>0</td>\n",
              "      <td>(51.0, 76.0]</td>\n",
              "      <td>4341</td>\n",
              "    </tr>\n",
              "    <tr>\n",
              "      <th>3</th>\n",
              "      <td>0</td>\n",
              "      <td>(76.0, 101.0]</td>\n",
              "      <td>810</td>\n",
              "    </tr>\n",
              "    <tr>\n",
              "      <th>4</th>\n",
              "      <td>1</td>\n",
              "      <td>(0.9, 26.0]</td>\n",
              "      <td>974</td>\n",
              "    </tr>\n",
              "    <tr>\n",
              "      <th>5</th>\n",
              "      <td>1</td>\n",
              "      <td>(26.0, 51.0]</td>\n",
              "      <td>11786</td>\n",
              "    </tr>\n",
              "    <tr>\n",
              "      <th>6</th>\n",
              "      <td>1</td>\n",
              "      <td>(51.0, 76.0]</td>\n",
              "      <td>20554</td>\n",
              "    </tr>\n",
              "    <tr>\n",
              "      <th>7</th>\n",
              "      <td>1</td>\n",
              "      <td>(76.0, 101.0]</td>\n",
              "      <td>4873</td>\n",
              "    </tr>\n",
              "  </tbody>\n",
              "</table>\n",
              "</div>"
            ],
            "text/plain": [
              "   FM_buyer      age_group  Cantidad\n",
              "0         0    (0.9, 26.0]       342\n",
              "1         0   (26.0, 51.0]      3734\n",
              "2         0   (51.0, 76.0]      4341\n",
              "3         0  (76.0, 101.0]       810\n",
              "4         1    (0.9, 26.0]       974\n",
              "5         1   (26.0, 51.0]     11786\n",
              "6         1   (51.0, 76.0]     20554\n",
              "7         1  (76.0, 101.0]      4873"
            ]
          },
          "metadata": {},
          "execution_count": 53
        }
      ]
    },
    {
      "cell_type": "code",
      "metadata": {
        "colab": {
          "base_uri": "https://localhost:8080/",
          "height": 175
        },
        "id": "yM_VbbO9ejNi",
        "outputId": "e2b81387-ec2b-4db3-a465-5460c01d261b"
      },
      "source": [
        "# pivot table \n",
        "fm_age = fm_age.pivot(\n",
        "    columns='FM_buyer',\n",
        "    index='age_group',\n",
        "    values='Cantidad').reset_index()\n",
        "\n",
        "# set column names\n",
        "fm_age.columns = ['age_group', 'FMs_non_bought', 'FMs_bought']\n",
        "\n",
        "fm_age"
      ],
      "execution_count": 54,
      "outputs": [
        {
          "output_type": "execute_result",
          "data": {
            "text/html": [
              "<div>\n",
              "<style scoped>\n",
              "    .dataframe tbody tr th:only-of-type {\n",
              "        vertical-align: middle;\n",
              "    }\n",
              "\n",
              "    .dataframe tbody tr th {\n",
              "        vertical-align: top;\n",
              "    }\n",
              "\n",
              "    .dataframe thead th {\n",
              "        text-align: right;\n",
              "    }\n",
              "</style>\n",
              "<table border=\"1\" class=\"dataframe\">\n",
              "  <thead>\n",
              "    <tr style=\"text-align: right;\">\n",
              "      <th></th>\n",
              "      <th>age_group</th>\n",
              "      <th>FMs_non_bought</th>\n",
              "      <th>FMs_bought</th>\n",
              "    </tr>\n",
              "  </thead>\n",
              "  <tbody>\n",
              "    <tr>\n",
              "      <th>0</th>\n",
              "      <td>(0.9, 26.0]</td>\n",
              "      <td>342</td>\n",
              "      <td>974</td>\n",
              "    </tr>\n",
              "    <tr>\n",
              "      <th>1</th>\n",
              "      <td>(26.0, 51.0]</td>\n",
              "      <td>3734</td>\n",
              "      <td>11786</td>\n",
              "    </tr>\n",
              "    <tr>\n",
              "      <th>2</th>\n",
              "      <td>(51.0, 76.0]</td>\n",
              "      <td>4341</td>\n",
              "      <td>20554</td>\n",
              "    </tr>\n",
              "    <tr>\n",
              "      <th>3</th>\n",
              "      <td>(76.0, 101.0]</td>\n",
              "      <td>810</td>\n",
              "      <td>4873</td>\n",
              "    </tr>\n",
              "  </tbody>\n",
              "</table>\n",
              "</div>"
            ],
            "text/plain": [
              "       age_group  FMs_non_bought  FMs_bought\n",
              "0    (0.9, 26.0]             342         974\n",
              "1   (26.0, 51.0]            3734       11786\n",
              "2   (51.0, 76.0]            4341       20554\n",
              "3  (76.0, 101.0]             810        4873"
            ]
          },
          "metadata": {},
          "execution_count": 54
        }
      ]
    },
    {
      "cell_type": "code",
      "metadata": {
        "colab": {
          "base_uri": "https://localhost:8080/",
          "height": 175
        },
        "id": "ZdsCCS-xfTwW",
        "outputId": "e6dec3e1-552a-428b-f8dc-c25540c9d69d"
      },
      "source": [
        "# create column FMs_prescribed\n",
        "fm_age['FMs_prescribed'] = fm_age.FMs_non_bought + fm_age.FMs_bought\n",
        "\n",
        "# create column %_purchase\n",
        "fm_age['%_purchase'] = (fm_age.FMs_bought / fm_age.FMs_prescribed) * 100\n",
        "\n",
        "# sort values\n",
        "fm_age = fm_age.sort_values('%_purchase', ascending=False)\n",
        "fm_age"
      ],
      "execution_count": 55,
      "outputs": [
        {
          "output_type": "execute_result",
          "data": {
            "text/html": [
              "<div>\n",
              "<style scoped>\n",
              "    .dataframe tbody tr th:only-of-type {\n",
              "        vertical-align: middle;\n",
              "    }\n",
              "\n",
              "    .dataframe tbody tr th {\n",
              "        vertical-align: top;\n",
              "    }\n",
              "\n",
              "    .dataframe thead th {\n",
              "        text-align: right;\n",
              "    }\n",
              "</style>\n",
              "<table border=\"1\" class=\"dataframe\">\n",
              "  <thead>\n",
              "    <tr style=\"text-align: right;\">\n",
              "      <th></th>\n",
              "      <th>age_group</th>\n",
              "      <th>FMs_non_bought</th>\n",
              "      <th>FMs_bought</th>\n",
              "      <th>FMs_prescribed</th>\n",
              "      <th>%_purchase</th>\n",
              "    </tr>\n",
              "  </thead>\n",
              "  <tbody>\n",
              "    <tr>\n",
              "      <th>3</th>\n",
              "      <td>(76.0, 101.0]</td>\n",
              "      <td>810</td>\n",
              "      <td>4873</td>\n",
              "      <td>5683</td>\n",
              "      <td>85.746965</td>\n",
              "    </tr>\n",
              "    <tr>\n",
              "      <th>2</th>\n",
              "      <td>(51.0, 76.0]</td>\n",
              "      <td>4341</td>\n",
              "      <td>20554</td>\n",
              "      <td>24895</td>\n",
              "      <td>82.562764</td>\n",
              "    </tr>\n",
              "    <tr>\n",
              "      <th>1</th>\n",
              "      <td>(26.0, 51.0]</td>\n",
              "      <td>3734</td>\n",
              "      <td>11786</td>\n",
              "      <td>15520</td>\n",
              "      <td>75.940722</td>\n",
              "    </tr>\n",
              "    <tr>\n",
              "      <th>0</th>\n",
              "      <td>(0.9, 26.0]</td>\n",
              "      <td>342</td>\n",
              "      <td>974</td>\n",
              "      <td>1316</td>\n",
              "      <td>74.012158</td>\n",
              "    </tr>\n",
              "  </tbody>\n",
              "</table>\n",
              "</div>"
            ],
            "text/plain": [
              "       age_group  FMs_non_bought  FMs_bought  FMs_prescribed  %_purchase\n",
              "3  (76.0, 101.0]             810        4873            5683   85.746965\n",
              "2   (51.0, 76.0]            4341       20554           24895   82.562764\n",
              "1   (26.0, 51.0]            3734       11786           15520   75.940722\n",
              "0    (0.9, 26.0]             342         974            1316   74.012158"
            ]
          },
          "metadata": {},
          "execution_count": 55
        }
      ]
    },
    {
      "cell_type": "markdown",
      "metadata": {
        "id": "RIpPAY6aKDMV"
      },
      "source": [
        "Even though the age group between 76 to 101 years have just 5683 FMs prescribed between March 2020 and September 2021 they have the highest rate of purchase with 85.7%.\n",
        "\n",
        "They are followed by the age group of 51 to 76 years with a rate of purchase of 82.5% and the age group of 26 to 51 years old with 75.9% of FMs bought"
      ]
    },
    {
      "cell_type": "markdown",
      "metadata": {
        "id": "JRSF0iH_K1W1"
      },
      "source": [
        "![green-divider](https://user-images.githubusercontent.com/7065401/52071924-c003ad80-2562-11e9-8297-1c6595f8a7ff.png)"
      ]
    },
    {
      "cell_type": "markdown",
      "metadata": {
        "id": "KePlvIaPK42T"
      },
      "source": [
        "#### FMs Bought by Plan Type"
      ]
    },
    {
      "cell_type": "code",
      "metadata": {
        "colab": {
          "base_uri": "https://localhost:8080/",
          "height": 175
        },
        "id": "hBkv4VP8LDah",
        "outputId": "40135d32-3750-4897-d784-4b9467871b89"
      },
      "source": [
        "# groupby FM_buyer and Tipo Plan\n",
        "fm_plan = df_proced_sales.groupby(['FM_buyer', 'Tipo Plan']).Cantidad.sum().reset_index()\n",
        "fm_plan"
      ],
      "execution_count": 56,
      "outputs": [
        {
          "output_type": "execute_result",
          "data": {
            "text/html": [
              "<div>\n",
              "<style scoped>\n",
              "    .dataframe tbody tr th:only-of-type {\n",
              "        vertical-align: middle;\n",
              "    }\n",
              "\n",
              "    .dataframe tbody tr th {\n",
              "        vertical-align: top;\n",
              "    }\n",
              "\n",
              "    .dataframe thead th {\n",
              "        text-align: right;\n",
              "    }\n",
              "</style>\n",
              "<table border=\"1\" class=\"dataframe\">\n",
              "  <thead>\n",
              "    <tr style=\"text-align: right;\">\n",
              "      <th></th>\n",
              "      <th>FM_buyer</th>\n",
              "      <th>Tipo Plan</th>\n",
              "      <th>Cantidad</th>\n",
              "    </tr>\n",
              "  </thead>\n",
              "  <tbody>\n",
              "    <tr>\n",
              "      <th>0</th>\n",
              "      <td>0</td>\n",
              "      <td>EPS</td>\n",
              "      <td>6883</td>\n",
              "    </tr>\n",
              "    <tr>\n",
              "      <th>1</th>\n",
              "      <td>0</td>\n",
              "      <td>Particular</td>\n",
              "      <td>2344</td>\n",
              "    </tr>\n",
              "    <tr>\n",
              "      <th>2</th>\n",
              "      <td>1</td>\n",
              "      <td>EPS</td>\n",
              "      <td>25109</td>\n",
              "    </tr>\n",
              "    <tr>\n",
              "      <th>3</th>\n",
              "      <td>1</td>\n",
              "      <td>Particular</td>\n",
              "      <td>13078</td>\n",
              "    </tr>\n",
              "  </tbody>\n",
              "</table>\n",
              "</div>"
            ],
            "text/plain": [
              "   FM_buyer   Tipo Plan  Cantidad\n",
              "0         0         EPS      6883\n",
              "1         0  Particular      2344\n",
              "2         1         EPS     25109\n",
              "3         1  Particular     13078"
            ]
          },
          "metadata": {},
          "execution_count": 56
        }
      ]
    },
    {
      "cell_type": "code",
      "metadata": {
        "colab": {
          "base_uri": "https://localhost:8080/",
          "height": 112
        },
        "id": "PrP-dt_2LXQE",
        "outputId": "1a5d5315-4fed-4d69-bd1e-63572533909a"
      },
      "source": [
        "# pivot table >> columns are FMs_non_bought & FMs_bought\n",
        "fm_plan = fm_plan.pivot(\n",
        "    columns='FM_buyer',\n",
        "    index='Tipo Plan',\n",
        "    values='Cantidad').reset_index()\n",
        "\n",
        "# set columns\n",
        "fm_plan.columns = ['Plan_type', 'FMs_non_bought', 'FMs_bought']\n",
        "\n",
        "fm_plan"
      ],
      "execution_count": 57,
      "outputs": [
        {
          "output_type": "execute_result",
          "data": {
            "text/html": [
              "<div>\n",
              "<style scoped>\n",
              "    .dataframe tbody tr th:only-of-type {\n",
              "        vertical-align: middle;\n",
              "    }\n",
              "\n",
              "    .dataframe tbody tr th {\n",
              "        vertical-align: top;\n",
              "    }\n",
              "\n",
              "    .dataframe thead th {\n",
              "        text-align: right;\n",
              "    }\n",
              "</style>\n",
              "<table border=\"1\" class=\"dataframe\">\n",
              "  <thead>\n",
              "    <tr style=\"text-align: right;\">\n",
              "      <th></th>\n",
              "      <th>Plan_type</th>\n",
              "      <th>FMs_non_bought</th>\n",
              "      <th>FMs_bought</th>\n",
              "    </tr>\n",
              "  </thead>\n",
              "  <tbody>\n",
              "    <tr>\n",
              "      <th>0</th>\n",
              "      <td>EPS</td>\n",
              "      <td>6883</td>\n",
              "      <td>25109</td>\n",
              "    </tr>\n",
              "    <tr>\n",
              "      <th>1</th>\n",
              "      <td>Particular</td>\n",
              "      <td>2344</td>\n",
              "      <td>13078</td>\n",
              "    </tr>\n",
              "  </tbody>\n",
              "</table>\n",
              "</div>"
            ],
            "text/plain": [
              "    Plan_type  FMs_non_bought  FMs_bought\n",
              "0         EPS            6883       25109\n",
              "1  Particular            2344       13078"
            ]
          },
          "metadata": {},
          "execution_count": 57
        }
      ]
    },
    {
      "cell_type": "code",
      "metadata": {
        "colab": {
          "base_uri": "https://localhost:8080/",
          "height": 112
        },
        "id": "TpZYMBtHMCMs",
        "outputId": "d26401f1-cb79-488e-d9ee-85f6a22c9e78"
      },
      "source": [
        "# create column FMs_prescribed\n",
        "fm_plan['FMs_prescribed'] = fm_plan.FMs_non_bought + fm_plan.FMs_bought\n",
        "\n",
        "# create column %_purchase\n",
        "fm_plan['%_purchase'] = (fm_plan.FMs_bought / fm_plan.FMs_prescribed) * 100\n",
        "\n",
        "# sort values\n",
        "fm_plan = fm_plan.sort_values('%_purchase', ascending=False)\n",
        "fm_plan"
      ],
      "execution_count": 58,
      "outputs": [
        {
          "output_type": "execute_result",
          "data": {
            "text/html": [
              "<div>\n",
              "<style scoped>\n",
              "    .dataframe tbody tr th:only-of-type {\n",
              "        vertical-align: middle;\n",
              "    }\n",
              "\n",
              "    .dataframe tbody tr th {\n",
              "        vertical-align: top;\n",
              "    }\n",
              "\n",
              "    .dataframe thead th {\n",
              "        text-align: right;\n",
              "    }\n",
              "</style>\n",
              "<table border=\"1\" class=\"dataframe\">\n",
              "  <thead>\n",
              "    <tr style=\"text-align: right;\">\n",
              "      <th></th>\n",
              "      <th>Plan_type</th>\n",
              "      <th>FMs_non_bought</th>\n",
              "      <th>FMs_bought</th>\n",
              "      <th>FMs_prescribed</th>\n",
              "      <th>%_purchase</th>\n",
              "    </tr>\n",
              "  </thead>\n",
              "  <tbody>\n",
              "    <tr>\n",
              "      <th>1</th>\n",
              "      <td>Particular</td>\n",
              "      <td>2344</td>\n",
              "      <td>13078</td>\n",
              "      <td>15422</td>\n",
              "      <td>84.800934</td>\n",
              "    </tr>\n",
              "    <tr>\n",
              "      <th>0</th>\n",
              "      <td>EPS</td>\n",
              "      <td>6883</td>\n",
              "      <td>25109</td>\n",
              "      <td>31992</td>\n",
              "      <td>78.485246</td>\n",
              "    </tr>\n",
              "  </tbody>\n",
              "</table>\n",
              "</div>"
            ],
            "text/plain": [
              "    Plan_type  FMs_non_bought  FMs_bought  FMs_prescribed  %_purchase\n",
              "1  Particular            2344       13078           15422   84.800934\n",
              "0         EPS            6883       25109           31992   78.485246"
            ]
          },
          "metadata": {},
          "execution_count": 58
        }
      ]
    },
    {
      "cell_type": "markdown",
      "metadata": {
        "id": "iYGTCmHXNPdT"
      },
      "source": [
        "Even though the number of FMs prescribed by *EPS* exceeds in 107% the number of FMs prescribed by *Particular*, the rate of purchase of the latter (84.8%) is 6.4% greater than the former (78.4%)."
      ]
    },
    {
      "cell_type": "markdown",
      "metadata": {
        "id": "40inQQXTICar"
      },
      "source": [
        "![green-divider](https://user-images.githubusercontent.com/7065401/52071924-c003ad80-2562-11e9-8297-1c6595f8a7ff.png)"
      ]
    },
    {
      "cell_type": "markdown",
      "metadata": {
        "id": "bJ3-jeAZUNmc"
      },
      "source": [
        "#### FMs Bought by City"
      ]
    },
    {
      "cell_type": "code",
      "metadata": {
        "colab": {
          "base_uri": "https://localhost:8080/",
          "height": 206
        },
        "id": "tRNomqZQURx8",
        "outputId": "ea52b200-bb76-468d-becb-6e5e0a556e7e"
      },
      "source": [
        "# groupby FM_buyer and CiudadMunicipio\n",
        "fm_city = df_proced_sales.groupby(['FM_buyer', 'CiudadMunicipio']).Cantidad.sum().reset_index()\n",
        "\n",
        "fm_city.head()"
      ],
      "execution_count": 59,
      "outputs": [
        {
          "output_type": "execute_result",
          "data": {
            "text/html": [
              "<div>\n",
              "<style scoped>\n",
              "    .dataframe tbody tr th:only-of-type {\n",
              "        vertical-align: middle;\n",
              "    }\n",
              "\n",
              "    .dataframe tbody tr th {\n",
              "        vertical-align: top;\n",
              "    }\n",
              "\n",
              "    .dataframe thead th {\n",
              "        text-align: right;\n",
              "    }\n",
              "</style>\n",
              "<table border=\"1\" class=\"dataframe\">\n",
              "  <thead>\n",
              "    <tr style=\"text-align: right;\">\n",
              "      <th></th>\n",
              "      <th>FM_buyer</th>\n",
              "      <th>CiudadMunicipio</th>\n",
              "      <th>Cantidad</th>\n",
              "    </tr>\n",
              "  </thead>\n",
              "  <tbody>\n",
              "    <tr>\n",
              "      <th>0</th>\n",
              "      <td>0</td>\n",
              "      <td>ACACÍAS</td>\n",
              "      <td>1</td>\n",
              "    </tr>\n",
              "    <tr>\n",
              "      <th>1</th>\n",
              "      <td>0</td>\n",
              "      <td>ACAPULCO</td>\n",
              "      <td>1</td>\n",
              "    </tr>\n",
              "    <tr>\n",
              "      <th>2</th>\n",
              "      <td>0</td>\n",
              "      <td>AGUA DE DIOS</td>\n",
              "      <td>2</td>\n",
              "    </tr>\n",
              "    <tr>\n",
              "      <th>3</th>\n",
              "      <td>0</td>\n",
              "      <td>AGUACHICA</td>\n",
              "      <td>1</td>\n",
              "    </tr>\n",
              "    <tr>\n",
              "      <th>4</th>\n",
              "      <td>0</td>\n",
              "      <td>AGUAS FRÍAS - MEDELLÍN</td>\n",
              "      <td>1</td>\n",
              "    </tr>\n",
              "  </tbody>\n",
              "</table>\n",
              "</div>"
            ],
            "text/plain": [
              "   FM_buyer         CiudadMunicipio  Cantidad\n",
              "0         0                 ACACÍAS         1\n",
              "1         0                ACAPULCO         1\n",
              "2         0            AGUA DE DIOS         2\n",
              "3         0               AGUACHICA         1\n",
              "4         0  AGUAS FRÍAS - MEDELLÍN         1"
            ]
          },
          "metadata": {},
          "execution_count": 59
        }
      ]
    },
    {
      "cell_type": "code",
      "metadata": {
        "id": "WujkZn0XUlhM"
      },
      "source": [
        "# pivot table\n",
        "fm_city = fm_city.pivot(\n",
        "    columns='FM_buyer',\n",
        "    index='CiudadMunicipio',\n",
        "    values='Cantidad').reset_index()\n",
        "\n",
        "# set column names\n",
        "fm_city.columns = ['City', 'FMs_non_bought', 'FMs_bought']"
      ],
      "execution_count": 60,
      "outputs": []
    },
    {
      "cell_type": "code",
      "metadata": {
        "colab": {
          "base_uri": "https://localhost:8080/",
          "height": 206
        },
        "id": "8VmqoqGuVGLU",
        "outputId": "db82bd7c-0404-4470-f900-10916213ed23"
      },
      "source": [
        "# create FMs_prescribed\n",
        "fm_city['FMs_prescribed'] = fm_city.FMs_bought + fm_city.FMs_non_bought\n",
        "\n",
        "# create %_purchase\n",
        "fm_city['%_purchase'] = (fm_city.FMs_bought / fm_city.FMs_prescribed) * 100\n",
        "\n",
        "# sort values\n",
        "fm_city = fm_city.sort_values(by='FMs_prescribed', ascending=False)\n",
        "\n",
        "fm_city.head()"
      ],
      "execution_count": 61,
      "outputs": [
        {
          "output_type": "execute_result",
          "data": {
            "text/html": [
              "<div>\n",
              "<style scoped>\n",
              "    .dataframe tbody tr th:only-of-type {\n",
              "        vertical-align: middle;\n",
              "    }\n",
              "\n",
              "    .dataframe tbody tr th {\n",
              "        vertical-align: top;\n",
              "    }\n",
              "\n",
              "    .dataframe thead th {\n",
              "        text-align: right;\n",
              "    }\n",
              "</style>\n",
              "<table border=\"1\" class=\"dataframe\">\n",
              "  <thead>\n",
              "    <tr style=\"text-align: right;\">\n",
              "      <th></th>\n",
              "      <th>City</th>\n",
              "      <th>FMs_non_bought</th>\n",
              "      <th>FMs_bought</th>\n",
              "      <th>FMs_prescribed</th>\n",
              "      <th>%_purchase</th>\n",
              "    </tr>\n",
              "  </thead>\n",
              "  <tbody>\n",
              "    <tr>\n",
              "      <th>48</th>\n",
              "      <td>BOGOTÁ D.C.</td>\n",
              "      <td>6045.0</td>\n",
              "      <td>26792.0</td>\n",
              "      <td>32837.0</td>\n",
              "      <td>81.590888</td>\n",
              "    </tr>\n",
              "    <tr>\n",
              "      <th>401</th>\n",
              "      <td>SOACHA</td>\n",
              "      <td>469.0</td>\n",
              "      <td>1649.0</td>\n",
              "      <td>2118.0</td>\n",
              "      <td>77.856468</td>\n",
              "    </tr>\n",
              "    <tr>\n",
              "      <th>244</th>\n",
              "      <td>MEDELLÍN</td>\n",
              "      <td>168.0</td>\n",
              "      <td>818.0</td>\n",
              "      <td>986.0</td>\n",
              "      <td>82.961460</td>\n",
              "    </tr>\n",
              "    <tr>\n",
              "      <th>235</th>\n",
              "      <td>MADRID</td>\n",
              "      <td>202.0</td>\n",
              "      <td>690.0</td>\n",
              "      <td>892.0</td>\n",
              "      <td>77.354260</td>\n",
              "    </tr>\n",
              "    <tr>\n",
              "      <th>261</th>\n",
              "      <td>MOSQUERA</td>\n",
              "      <td>95.0</td>\n",
              "      <td>485.0</td>\n",
              "      <td>580.0</td>\n",
              "      <td>83.620690</td>\n",
              "    </tr>\n",
              "  </tbody>\n",
              "</table>\n",
              "</div>"
            ],
            "text/plain": [
              "            City  FMs_non_bought  FMs_bought  FMs_prescribed  %_purchase\n",
              "48   BOGOTÁ D.C.          6045.0     26792.0         32837.0   81.590888\n",
              "401       SOACHA           469.0      1649.0          2118.0   77.856468\n",
              "244     MEDELLÍN           168.0       818.0           986.0   82.961460\n",
              "235       MADRID           202.0       690.0           892.0   77.354260\n",
              "261     MOSQUERA            95.0       485.0           580.0   83.620690"
            ]
          },
          "metadata": {},
          "execution_count": 61
        }
      ]
    },
    {
      "cell_type": "markdown",
      "metadata": {
        "id": "4iZ3irarXMCk"
      },
      "source": [
        "Of the 5 cities/towns with the highest number of FMs prescribed Mosquera has the highest purchase rate with 83.6%, followed by Medellin and Bogotá with 82.9% and 81.5% respectively. "
      ]
    },
    {
      "cell_type": "markdown",
      "metadata": {
        "id": "tRsaH6udY-Fu"
      },
      "source": [
        "![green-divider](https://user-images.githubusercontent.com/7065401/52071924-c003ad80-2562-11e9-8297-1c6595f8a7ff.png)"
      ]
    },
    {
      "cell_type": "markdown",
      "metadata": {
        "id": "yrPEHfCwZAnD"
      },
      "source": [
        "#### FMs Bought by Diagnostic"
      ]
    },
    {
      "cell_type": "code",
      "metadata": {
        "colab": {
          "base_uri": "https://localhost:8080/",
          "height": 206
        },
        "id": "ezkkgO_dZEaF",
        "outputId": "32fef6da-e86e-4aef-8f30-a4ac7a9e1732"
      },
      "source": [
        "# groupby 'FM_buyer' and 'Diagnostico'\n",
        "fm_diagnostic = df_proced_sales.groupby(['FM_buyer', 'Diagnostico']).Cantidad.sum().reset_index()\n",
        "\n",
        "fm_diagnostic.head()"
      ],
      "execution_count": 62,
      "outputs": [
        {
          "output_type": "execute_result",
          "data": {
            "text/html": [
              "<div>\n",
              "<style scoped>\n",
              "    .dataframe tbody tr th:only-of-type {\n",
              "        vertical-align: middle;\n",
              "    }\n",
              "\n",
              "    .dataframe tbody tr th {\n",
              "        vertical-align: top;\n",
              "    }\n",
              "\n",
              "    .dataframe thead th {\n",
              "        text-align: right;\n",
              "    }\n",
              "</style>\n",
              "<table border=\"1\" class=\"dataframe\">\n",
              "  <thead>\n",
              "    <tr style=\"text-align: right;\">\n",
              "      <th></th>\n",
              "      <th>FM_buyer</th>\n",
              "      <th>Diagnostico</th>\n",
              "      <th>Cantidad</th>\n",
              "    </tr>\n",
              "  </thead>\n",
              "  <tbody>\n",
              "    <tr>\n",
              "      <th>0</th>\n",
              "      <td>0</td>\n",
              "      <td>(OSTEO)ARTROSIS EROSIVA</td>\n",
              "      <td>3</td>\n",
              "    </tr>\n",
              "    <tr>\n",
              "      <th>1</th>\n",
              "      <td>0</td>\n",
              "      <td>(OSTEO)ARTROSIS PRIMARIAGENERALIZADA</td>\n",
              "      <td>164</td>\n",
              "    </tr>\n",
              "    <tr>\n",
              "      <th>2</th>\n",
              "      <td>0</td>\n",
              "      <td>ALCOHOLISMO, NIVEL DE INTOXICACIONNO ESPECIFICADO</td>\n",
              "      <td>2</td>\n",
              "    </tr>\n",
              "    <tr>\n",
              "      <th>3</th>\n",
              "      <td>0</td>\n",
              "      <td>AMPUTACION DE MIEMBRO(S)</td>\n",
              "      <td>2</td>\n",
              "    </tr>\n",
              "    <tr>\n",
              "      <th>4</th>\n",
              "      <td>0</td>\n",
              "      <td>AMPUTACION TRAUMATICA DE LAPIERNA, NIVEL NO ES...</td>\n",
              "      <td>1</td>\n",
              "    </tr>\n",
              "  </tbody>\n",
              "</table>\n",
              "</div>"
            ],
            "text/plain": [
              "   FM_buyer                                        Diagnostico  Cantidad\n",
              "0         0                            (OSTEO)ARTROSIS EROSIVA         3\n",
              "1         0               (OSTEO)ARTROSIS PRIMARIAGENERALIZADA       164\n",
              "2         0  ALCOHOLISMO, NIVEL DE INTOXICACIONNO ESPECIFICADO         2\n",
              "3         0                           AMPUTACION DE MIEMBRO(S)         2\n",
              "4         0  AMPUTACION TRAUMATICA DE LAPIERNA, NIVEL NO ES...         1"
            ]
          },
          "metadata": {},
          "execution_count": 62
        }
      ]
    },
    {
      "cell_type": "code",
      "metadata": {
        "id": "FI-e0tZwZYh1"
      },
      "source": [
        "# pivot table\n",
        "fm_diagnostic = fm_diagnostic.pivot(\n",
        "    columns='FM_buyer',\n",
        "    index='Diagnostico',\n",
        "    values='Cantidad').reset_index()\n",
        "\n",
        "# set column names\n",
        "fm_diagnostic.columns = ['Diagnostic', 'FMs_non_bought', 'FMs_bought']"
      ],
      "execution_count": 63,
      "outputs": []
    },
    {
      "cell_type": "code",
      "metadata": {
        "colab": {
          "base_uri": "https://localhost:8080/",
          "height": 206
        },
        "id": "APaqIwTQZvU-",
        "outputId": "b1af096c-dc90-4cc8-9dc0-d87be89f6225"
      },
      "source": [
        "# create 'FMs_prescribed'\n",
        "fm_diagnostic['FMs_precribed'] = fm_diagnostic.FMs_bought + fm_diagnostic.FMs_non_bought\n",
        "\n",
        "# craete '%_purchase'\n",
        "fm_diagnostic['%_purchase'] = (fm_diagnostic.FMs_bought / fm_diagnostic.FMs_precribed) * 100\n",
        "\n",
        "# sort values\n",
        "fm_diagnostic = fm_diagnostic.sort_values(by='FMs_precribed', ascending=False)\n",
        "\n",
        "fm_diagnostic.head()"
      ],
      "execution_count": 64,
      "outputs": [
        {
          "output_type": "execute_result",
          "data": {
            "text/html": [
              "<div>\n",
              "<style scoped>\n",
              "    .dataframe tbody tr th:only-of-type {\n",
              "        vertical-align: middle;\n",
              "    }\n",
              "\n",
              "    .dataframe tbody tr th {\n",
              "        vertical-align: top;\n",
              "    }\n",
              "\n",
              "    .dataframe thead th {\n",
              "        text-align: right;\n",
              "    }\n",
              "</style>\n",
              "<table border=\"1\" class=\"dataframe\">\n",
              "  <thead>\n",
              "    <tr style=\"text-align: right;\">\n",
              "      <th></th>\n",
              "      <th>Diagnostic</th>\n",
              "      <th>FMs_non_bought</th>\n",
              "      <th>FMs_bought</th>\n",
              "      <th>FMs_precribed</th>\n",
              "      <th>%_purchase</th>\n",
              "    </tr>\n",
              "  </thead>\n",
              "  <tbody>\n",
              "    <tr>\n",
              "      <th>324</th>\n",
              "      <td>OTRO DOLOR CRONICO</td>\n",
              "      <td>2759.0</td>\n",
              "      <td>13823.0</td>\n",
              "      <td>16582.0</td>\n",
              "      <td>83.361476</td>\n",
              "    </tr>\n",
              "    <tr>\n",
              "      <th>118</th>\n",
              "      <td>DOLOR CRONICO INTRATABLE</td>\n",
              "      <td>1744.0</td>\n",
              "      <td>7354.0</td>\n",
              "      <td>9098.0</td>\n",
              "      <td>80.830952</td>\n",
              "    </tr>\n",
              "    <tr>\n",
              "      <th>463</th>\n",
              "      <td>TRASTORNO MIXTO DE ANSIEDAD YDEPRESION</td>\n",
              "      <td>449.0</td>\n",
              "      <td>2018.0</td>\n",
              "      <td>2467.0</td>\n",
              "      <td>81.799757</td>\n",
              "    </tr>\n",
              "    <tr>\n",
              "      <th>475</th>\n",
              "      <td>TRASTORNOS DEL INICIO Y DELMANTENIMIENTO DEL S...</td>\n",
              "      <td>308.0</td>\n",
              "      <td>1371.0</td>\n",
              "      <td>1679.0</td>\n",
              "      <td>81.655747</td>\n",
              "    </tr>\n",
              "    <tr>\n",
              "      <th>184</th>\n",
              "      <td>FIBROMIALGIA</td>\n",
              "      <td>256.0</td>\n",
              "      <td>1040.0</td>\n",
              "      <td>1296.0</td>\n",
              "      <td>80.246914</td>\n",
              "    </tr>\n",
              "  </tbody>\n",
              "</table>\n",
              "</div>"
            ],
            "text/plain": [
              "                                            Diagnostic  ...  %_purchase\n",
              "324                                 OTRO DOLOR CRONICO  ...   83.361476\n",
              "118                           DOLOR CRONICO INTRATABLE  ...   80.830952\n",
              "463             TRASTORNO MIXTO DE ANSIEDAD YDEPRESION  ...   81.799757\n",
              "475  TRASTORNOS DEL INICIO Y DELMANTENIMIENTO DEL S...  ...   81.655747\n",
              "184                                       FIBROMIALGIA  ...   80.246914\n",
              "\n",
              "[5 rows x 5 columns]"
            ]
          },
          "metadata": {},
          "execution_count": 64
        }
      ]
    },
    {
      "cell_type": "markdown",
      "metadata": {
        "id": "SjUqXJQBasJK"
      },
      "source": [
        "Of the 5 Diagnostics with the most FMs precribed the one with the highest purchase rate is 'OTRO DOLOR CRONICO' with 83.3% followed by 'TRASTORNO MIXTO DE ANSIEDAD Y DEPRESION' and 'DOLOR CRONICO INTRATABLE' with 81.7% and 80.8%"
      ]
    },
    {
      "cell_type": "markdown",
      "metadata": {
        "id": "_wca5uFTIGJ8"
      },
      "source": [
        "#### FMs Bought by Product"
      ]
    },
    {
      "cell_type": "code",
      "metadata": {
        "colab": {
          "base_uri": "https://localhost:8080/",
          "height": 363
        },
        "id": "Ix6kYb3eIB9Y",
        "outputId": "df176edc-01bd-4504-b713-7696dba7d9c2"
      },
      "source": [
        "# groupby FM_buyer and CodProducto\n",
        "fm_product = df_proced_sales.groupby(['FM_buyer', 'CodProducto']).Cantidad.sum().reset_index()\n",
        "\n",
        "fm_product"
      ],
      "execution_count": 65,
      "outputs": [
        {
          "output_type": "execute_result",
          "data": {
            "text/html": [
              "<div>\n",
              "<style scoped>\n",
              "    .dataframe tbody tr th:only-of-type {\n",
              "        vertical-align: middle;\n",
              "    }\n",
              "\n",
              "    .dataframe tbody tr th {\n",
              "        vertical-align: top;\n",
              "    }\n",
              "\n",
              "    .dataframe thead th {\n",
              "        text-align: right;\n",
              "    }\n",
              "</style>\n",
              "<table border=\"1\" class=\"dataframe\">\n",
              "  <thead>\n",
              "    <tr style=\"text-align: right;\">\n",
              "      <th></th>\n",
              "      <th>FM_buyer</th>\n",
              "      <th>CodProducto</th>\n",
              "      <th>Cantidad</th>\n",
              "    </tr>\n",
              "  </thead>\n",
              "  <tbody>\n",
              "    <tr>\n",
              "      <th>0</th>\n",
              "      <td>0</td>\n",
              "      <td>fm001</td>\n",
              "      <td>5429</td>\n",
              "    </tr>\n",
              "    <tr>\n",
              "      <th>1</th>\n",
              "      <td>0</td>\n",
              "      <td>fm002</td>\n",
              "      <td>113</td>\n",
              "    </tr>\n",
              "    <tr>\n",
              "      <th>2</th>\n",
              "      <td>0</td>\n",
              "      <td>fm003</td>\n",
              "      <td>3331</td>\n",
              "    </tr>\n",
              "    <tr>\n",
              "      <th>3</th>\n",
              "      <td>0</td>\n",
              "      <td>fm004</td>\n",
              "      <td>334</td>\n",
              "    </tr>\n",
              "    <tr>\n",
              "      <th>4</th>\n",
              "      <td>0</td>\n",
              "      <td>fm005</td>\n",
              "      <td>20</td>\n",
              "    </tr>\n",
              "    <tr>\n",
              "      <th>5</th>\n",
              "      <td>1</td>\n",
              "      <td>fm001</td>\n",
              "      <td>21531</td>\n",
              "    </tr>\n",
              "    <tr>\n",
              "      <th>6</th>\n",
              "      <td>1</td>\n",
              "      <td>fm002</td>\n",
              "      <td>608</td>\n",
              "    </tr>\n",
              "    <tr>\n",
              "      <th>7</th>\n",
              "      <td>1</td>\n",
              "      <td>fm003</td>\n",
              "      <td>14434</td>\n",
              "    </tr>\n",
              "    <tr>\n",
              "      <th>8</th>\n",
              "      <td>1</td>\n",
              "      <td>fm004</td>\n",
              "      <td>1482</td>\n",
              "    </tr>\n",
              "    <tr>\n",
              "      <th>9</th>\n",
              "      <td>1</td>\n",
              "      <td>fm005</td>\n",
              "      <td>132</td>\n",
              "    </tr>\n",
              "  </tbody>\n",
              "</table>\n",
              "</div>"
            ],
            "text/plain": [
              "   FM_buyer CodProducto  Cantidad\n",
              "0         0       fm001      5429\n",
              "1         0       fm002       113\n",
              "2         0       fm003      3331\n",
              "3         0       fm004       334\n",
              "4         0       fm005        20\n",
              "5         1       fm001     21531\n",
              "6         1       fm002       608\n",
              "7         1       fm003     14434\n",
              "8         1       fm004      1482\n",
              "9         1       fm005       132"
            ]
          },
          "metadata": {},
          "execution_count": 65
        }
      ]
    },
    {
      "cell_type": "code",
      "metadata": {
        "colab": {
          "base_uri": "https://localhost:8080/",
          "height": 206
        },
        "id": "3Ym0w7eEIwWd",
        "outputId": "62844bdd-3757-420c-d8ef-fc97802c8b4c"
      },
      "source": [
        "# pivot table\n",
        "fm_product = fm_product.pivot(\n",
        "    columns='FM_buyer',\n",
        "    index='CodProducto',\n",
        "    values='Cantidad').reset_index()\n",
        "\n",
        "# set column names\n",
        "fm_product.columns = ['Product', 'FMs_non_bought', 'FMs_bought']\n",
        "fm_product"
      ],
      "execution_count": 66,
      "outputs": [
        {
          "output_type": "execute_result",
          "data": {
            "text/html": [
              "<div>\n",
              "<style scoped>\n",
              "    .dataframe tbody tr th:only-of-type {\n",
              "        vertical-align: middle;\n",
              "    }\n",
              "\n",
              "    .dataframe tbody tr th {\n",
              "        vertical-align: top;\n",
              "    }\n",
              "\n",
              "    .dataframe thead th {\n",
              "        text-align: right;\n",
              "    }\n",
              "</style>\n",
              "<table border=\"1\" class=\"dataframe\">\n",
              "  <thead>\n",
              "    <tr style=\"text-align: right;\">\n",
              "      <th></th>\n",
              "      <th>Product</th>\n",
              "      <th>FMs_non_bought</th>\n",
              "      <th>FMs_bought</th>\n",
              "    </tr>\n",
              "  </thead>\n",
              "  <tbody>\n",
              "    <tr>\n",
              "      <th>0</th>\n",
              "      <td>fm001</td>\n",
              "      <td>5429</td>\n",
              "      <td>21531</td>\n",
              "    </tr>\n",
              "    <tr>\n",
              "      <th>1</th>\n",
              "      <td>fm002</td>\n",
              "      <td>113</td>\n",
              "      <td>608</td>\n",
              "    </tr>\n",
              "    <tr>\n",
              "      <th>2</th>\n",
              "      <td>fm003</td>\n",
              "      <td>3331</td>\n",
              "      <td>14434</td>\n",
              "    </tr>\n",
              "    <tr>\n",
              "      <th>3</th>\n",
              "      <td>fm004</td>\n",
              "      <td>334</td>\n",
              "      <td>1482</td>\n",
              "    </tr>\n",
              "    <tr>\n",
              "      <th>4</th>\n",
              "      <td>fm005</td>\n",
              "      <td>20</td>\n",
              "      <td>132</td>\n",
              "    </tr>\n",
              "  </tbody>\n",
              "</table>\n",
              "</div>"
            ],
            "text/plain": [
              "  Product  FMs_non_bought  FMs_bought\n",
              "0   fm001            5429       21531\n",
              "1   fm002             113         608\n",
              "2   fm003            3331       14434\n",
              "3   fm004             334        1482\n",
              "4   fm005              20         132"
            ]
          },
          "metadata": {},
          "execution_count": 66
        }
      ]
    },
    {
      "cell_type": "code",
      "metadata": {
        "colab": {
          "base_uri": "https://localhost:8080/",
          "height": 206
        },
        "id": "ClkispPFJX6h",
        "outputId": "dc82e265-8a75-4670-c90f-9cfc1f1cb66a"
      },
      "source": [
        "# create column 'FMs_prescribed'\n",
        "fm_product['FMs_prescribed'] = fm_product.FMs_bought + fm_product.FMs_non_bought\n",
        "\n",
        "# create column '%_purchase'\n",
        "fm_product['%_purchase'] = (fm_product.FMs_bought / fm_product.FMs_prescribed) * 100\n",
        "\n",
        "# sort values\n",
        "fm_product.sort_values('%_purchase', ascending=False)\n",
        "\n",
        "fm_product"
      ],
      "execution_count": 67,
      "outputs": [
        {
          "output_type": "execute_result",
          "data": {
            "text/html": [
              "<div>\n",
              "<style scoped>\n",
              "    .dataframe tbody tr th:only-of-type {\n",
              "        vertical-align: middle;\n",
              "    }\n",
              "\n",
              "    .dataframe tbody tr th {\n",
              "        vertical-align: top;\n",
              "    }\n",
              "\n",
              "    .dataframe thead th {\n",
              "        text-align: right;\n",
              "    }\n",
              "</style>\n",
              "<table border=\"1\" class=\"dataframe\">\n",
              "  <thead>\n",
              "    <tr style=\"text-align: right;\">\n",
              "      <th></th>\n",
              "      <th>Product</th>\n",
              "      <th>FMs_non_bought</th>\n",
              "      <th>FMs_bought</th>\n",
              "      <th>FMs_prescribed</th>\n",
              "      <th>%_purchase</th>\n",
              "    </tr>\n",
              "  </thead>\n",
              "  <tbody>\n",
              "    <tr>\n",
              "      <th>0</th>\n",
              "      <td>fm001</td>\n",
              "      <td>5429</td>\n",
              "      <td>21531</td>\n",
              "      <td>26960</td>\n",
              "      <td>79.862760</td>\n",
              "    </tr>\n",
              "    <tr>\n",
              "      <th>1</th>\n",
              "      <td>fm002</td>\n",
              "      <td>113</td>\n",
              "      <td>608</td>\n",
              "      <td>721</td>\n",
              "      <td>84.327323</td>\n",
              "    </tr>\n",
              "    <tr>\n",
              "      <th>2</th>\n",
              "      <td>fm003</td>\n",
              "      <td>3331</td>\n",
              "      <td>14434</td>\n",
              "      <td>17765</td>\n",
              "      <td>81.249648</td>\n",
              "    </tr>\n",
              "    <tr>\n",
              "      <th>3</th>\n",
              "      <td>fm004</td>\n",
              "      <td>334</td>\n",
              "      <td>1482</td>\n",
              "      <td>1816</td>\n",
              "      <td>81.607930</td>\n",
              "    </tr>\n",
              "    <tr>\n",
              "      <th>4</th>\n",
              "      <td>fm005</td>\n",
              "      <td>20</td>\n",
              "      <td>132</td>\n",
              "      <td>152</td>\n",
              "      <td>86.842105</td>\n",
              "    </tr>\n",
              "  </tbody>\n",
              "</table>\n",
              "</div>"
            ],
            "text/plain": [
              "  Product  FMs_non_bought  FMs_bought  FMs_prescribed  %_purchase\n",
              "0   fm001            5429       21531           26960   79.862760\n",
              "1   fm002             113         608             721   84.327323\n",
              "2   fm003            3331       14434           17765   81.249648\n",
              "3   fm004             334        1482            1816   81.607930\n",
              "4   fm005              20         132             152   86.842105"
            ]
          },
          "metadata": {},
          "execution_count": 67
        }
      ]
    },
    {
      "cell_type": "markdown",
      "metadata": {
        "id": "-jer13GzMdia"
      },
      "source": [
        "Even though fm001 is the type of product which has the highest number of FMs prescribed it has the lowest rate of purchase of the 5 products with 79.8%. Interestingly enough, fm005 and fm002 the two products which have the highest concentration of THC also have the highest rate of purchase with 86.8% and 84.32% respectively. \n",
        "\n",
        "Below you will find a chi-square test to see if the different type of products have statistically significant differences in the purchase rate"
      ]
    },
    {
      "cell_type": "markdown",
      "metadata": {
        "id": "nDOPx2P6OBAE"
      },
      "source": [
        "![purple-divider](https://user-images.githubusercontent.com/7065401/52071927-c1cd7100-2562-11e9-908a-dde91ba14e59.png)"
      ]
    },
    {
      "cell_type": "markdown",
      "metadata": {
        "id": "c6k7kmDMOHg1"
      },
      "source": [
        "## Statistical Significance - Product Type & Purchase Rate\n",
        "\n",
        "- A Chi-Square test will be run to see if the different type of products have statiscally significant differences in the purchase rate\n",
        "\n",
        "||FMs_bought|FMs_non_bought|\n",
        "|-|-|-|\n",
        "|fm001|?|?|\n",
        "|fm002|?|?|\n",
        "\n"
      ]
    },
    {
      "cell_type": "code",
      "metadata": {
        "id": "R-MTApyqOs6F"
      },
      "source": [
        "# import chi-square package\n",
        "from scipy.stats import chi2_contingency"
      ],
      "execution_count": 68,
      "outputs": []
    },
    {
      "cell_type": "code",
      "metadata": {
        "colab": {
          "base_uri": "https://localhost:8080/",
          "height": 206
        },
        "id": "4DfutLTSPY4U",
        "outputId": "ae6bd1b0-7134-4f15-e3f2-085af4b0497a"
      },
      "source": [
        "# fm_product\n",
        "fm_product"
      ],
      "execution_count": 69,
      "outputs": [
        {
          "output_type": "execute_result",
          "data": {
            "text/html": [
              "<div>\n",
              "<style scoped>\n",
              "    .dataframe tbody tr th:only-of-type {\n",
              "        vertical-align: middle;\n",
              "    }\n",
              "\n",
              "    .dataframe tbody tr th {\n",
              "        vertical-align: top;\n",
              "    }\n",
              "\n",
              "    .dataframe thead th {\n",
              "        text-align: right;\n",
              "    }\n",
              "</style>\n",
              "<table border=\"1\" class=\"dataframe\">\n",
              "  <thead>\n",
              "    <tr style=\"text-align: right;\">\n",
              "      <th></th>\n",
              "      <th>Product</th>\n",
              "      <th>FMs_non_bought</th>\n",
              "      <th>FMs_bought</th>\n",
              "      <th>FMs_prescribed</th>\n",
              "      <th>%_purchase</th>\n",
              "    </tr>\n",
              "  </thead>\n",
              "  <tbody>\n",
              "    <tr>\n",
              "      <th>0</th>\n",
              "      <td>fm001</td>\n",
              "      <td>5429</td>\n",
              "      <td>21531</td>\n",
              "      <td>26960</td>\n",
              "      <td>79.862760</td>\n",
              "    </tr>\n",
              "    <tr>\n",
              "      <th>1</th>\n",
              "      <td>fm002</td>\n",
              "      <td>113</td>\n",
              "      <td>608</td>\n",
              "      <td>721</td>\n",
              "      <td>84.327323</td>\n",
              "    </tr>\n",
              "    <tr>\n",
              "      <th>2</th>\n",
              "      <td>fm003</td>\n",
              "      <td>3331</td>\n",
              "      <td>14434</td>\n",
              "      <td>17765</td>\n",
              "      <td>81.249648</td>\n",
              "    </tr>\n",
              "    <tr>\n",
              "      <th>3</th>\n",
              "      <td>fm004</td>\n",
              "      <td>334</td>\n",
              "      <td>1482</td>\n",
              "      <td>1816</td>\n",
              "      <td>81.607930</td>\n",
              "    </tr>\n",
              "    <tr>\n",
              "      <th>4</th>\n",
              "      <td>fm005</td>\n",
              "      <td>20</td>\n",
              "      <td>132</td>\n",
              "      <td>152</td>\n",
              "      <td>86.842105</td>\n",
              "    </tr>\n",
              "  </tbody>\n",
              "</table>\n",
              "</div>"
            ],
            "text/plain": [
              "  Product  FMs_non_bought  FMs_bought  FMs_prescribed  %_purchase\n",
              "0   fm001            5429       21531           26960   79.862760\n",
              "1   fm002             113         608             721   84.327323\n",
              "2   fm003            3331       14434           17765   81.249648\n",
              "3   fm004             334        1482            1816   81.607930\n",
              "4   fm005              20         132             152   86.842105"
            ]
          },
          "metadata": {},
          "execution_count": 69
        }
      ]
    },
    {
      "cell_type": "code",
      "metadata": {
        "colab": {
          "base_uri": "https://localhost:8080/"
        },
        "id": "TJOs_PByPfaW",
        "outputId": "6cbadf16-e959-4668-b363-0c0ff6bcd82b"
      },
      "source": [
        "# contingency table fm001 & fm002\n",
        "contingency_prod = [[21531, 5429],\n",
        "                    [608, 113]]\n",
        "\n",
        "# Hypothesis\n",
        "print('Ho >> No association between fm001 and fm002 purchase rates')\n",
        "print('H1 >> There is an association between fm001 and fm002 purchase rates', '\\n')\n",
        "\n",
        "chi2, pval, dof, expected = chi2_contingency(contingency_prod)\n",
        "\n",
        "print('Expected values if there was NO Association:')\n",
        "print(expected, '\\n')\n",
        "\n",
        "print(f'P-Value: {pval}')\n",
        "print('Significant Threshold: 0.05', '\\n')\n",
        "\n",
        "print('We can conclude with a 95% confidence that there IS an association between fm001 and fm002 purchase rates')\n",
        "print('fm002 are shown to have a statiscally significant higher purchase rate than fm001')\n",
        "print('This can be because FMs with THC allows to aliviate pain on the patients with higher degree pathologies')"
      ],
      "execution_count": 70,
      "outputs": [
        {
          "output_type": "stream",
          "name": "stdout",
          "text": [
            "Ho >> No association between fm001 and fm002 purchase rates\n",
            "H1 >> There is an association between fm001 and fm002 purchase rates \n",
            "\n",
            "Expected values if there was NO Association:\n",
            "[[21562.35107113  5397.64892887]\n",
            " [  576.64892887   144.35107113]] \n",
            "\n",
            "P-Value: 0.003621260199950411\n",
            "Significant Threshold: 0.05 \n",
            "\n",
            "We can conclude with a 95% confidence that there IS an association between fm001 and fm002 purchase rates\n",
            "fm002 are shown to have a statiscally significant higher purchase rate than fm001\n",
            "This can be because FMs with THC allows to aliviate pain on the patients with higher degree pathologies\n"
          ]
        }
      ]
    },
    {
      "cell_type": "markdown",
      "metadata": {
        "id": "WLyy26VfTGt_"
      },
      "source": [
        "![green-divider](https://user-images.githubusercontent.com/7065401/52071924-c003ad80-2562-11e9-8297-1c6595f8a7ff.png)"
      ]
    },
    {
      "cell_type": "markdown",
      "metadata": {
        "id": "sIKAtBzQTKiX"
      },
      "source": [
        "## Statistical Significance - Age Group & Purchase Rate\n",
        "\n",
        "- A Chi-Square test will be run to see if the age groups have statiscally significant differences in the purchase rate\n",
        "\n",
        "||FMs_bought|FMs_non_bought|\n",
        "|-|-|-|\n",
        "|76-101|?|?|\n",
        "|26-51|?|?|"
      ]
    },
    {
      "cell_type": "code",
      "metadata": {
        "colab": {
          "base_uri": "https://localhost:8080/",
          "height": 175
        },
        "id": "fKOblvSXTKDZ",
        "outputId": "a3218d57-c14d-446e-91b1-fab1aeb78815"
      },
      "source": [
        "fm_age"
      ],
      "execution_count": 71,
      "outputs": [
        {
          "output_type": "execute_result",
          "data": {
            "text/html": [
              "<div>\n",
              "<style scoped>\n",
              "    .dataframe tbody tr th:only-of-type {\n",
              "        vertical-align: middle;\n",
              "    }\n",
              "\n",
              "    .dataframe tbody tr th {\n",
              "        vertical-align: top;\n",
              "    }\n",
              "\n",
              "    .dataframe thead th {\n",
              "        text-align: right;\n",
              "    }\n",
              "</style>\n",
              "<table border=\"1\" class=\"dataframe\">\n",
              "  <thead>\n",
              "    <tr style=\"text-align: right;\">\n",
              "      <th></th>\n",
              "      <th>age_group</th>\n",
              "      <th>FMs_non_bought</th>\n",
              "      <th>FMs_bought</th>\n",
              "      <th>FMs_prescribed</th>\n",
              "      <th>%_purchase</th>\n",
              "    </tr>\n",
              "  </thead>\n",
              "  <tbody>\n",
              "    <tr>\n",
              "      <th>3</th>\n",
              "      <td>(76.0, 101.0]</td>\n",
              "      <td>810</td>\n",
              "      <td>4873</td>\n",
              "      <td>5683</td>\n",
              "      <td>85.746965</td>\n",
              "    </tr>\n",
              "    <tr>\n",
              "      <th>2</th>\n",
              "      <td>(51.0, 76.0]</td>\n",
              "      <td>4341</td>\n",
              "      <td>20554</td>\n",
              "      <td>24895</td>\n",
              "      <td>82.562764</td>\n",
              "    </tr>\n",
              "    <tr>\n",
              "      <th>1</th>\n",
              "      <td>(26.0, 51.0]</td>\n",
              "      <td>3734</td>\n",
              "      <td>11786</td>\n",
              "      <td>15520</td>\n",
              "      <td>75.940722</td>\n",
              "    </tr>\n",
              "    <tr>\n",
              "      <th>0</th>\n",
              "      <td>(0.9, 26.0]</td>\n",
              "      <td>342</td>\n",
              "      <td>974</td>\n",
              "      <td>1316</td>\n",
              "      <td>74.012158</td>\n",
              "    </tr>\n",
              "  </tbody>\n",
              "</table>\n",
              "</div>"
            ],
            "text/plain": [
              "       age_group  FMs_non_bought  FMs_bought  FMs_prescribed  %_purchase\n",
              "3  (76.0, 101.0]             810        4873            5683   85.746965\n",
              "2   (51.0, 76.0]            4341       20554           24895   82.562764\n",
              "1   (26.0, 51.0]            3734       11786           15520   75.940722\n",
              "0    (0.9, 26.0]             342         974            1316   74.012158"
            ]
          },
          "metadata": {},
          "execution_count": 71
        }
      ]
    },
    {
      "cell_type": "code",
      "metadata": {
        "colab": {
          "base_uri": "https://localhost:8080/"
        },
        "id": "waedUKUwdZ4i",
        "outputId": "a7d8e946-a0f8-4430-e872-6e32ea5ce097"
      },
      "source": [
        "# contingency table\n",
        "contingency_age = [[4873, 810],\n",
        "                   [11786, 3734]]\n",
        "\n",
        "# Hypothesis\n",
        "print('Ho >> No association between the age groups [76-101] and [26-51] purchase rates')\n",
        "print('H1 >> There is an association between the age groups [76-101] and [26-51] purchase rates', '\\n')\n",
        "\n",
        "chi2, pval, dof, expected = chi2_contingency(contingency_age)\n",
        "\n",
        "print('Expected values if there is NO Association:')\n",
        "print(expected, '\\n')\n",
        "\n",
        "print(f'P-Value: {pval}')\n",
        "print('Significant Threshold: 0.05', '\\n')\n",
        "\n",
        "print('We can conclude with a 95% confidence that there IS an association between the age groups [76-101] and [26-51]purchase rates')\n",
        "print('Even though the age group [26-51] have been the least prescribed of the two, they are shown to have a statiscally \\nhigher purchase rate than the age group of [76-101]')"
      ],
      "execution_count": 72,
      "outputs": [
        {
          "output_type": "stream",
          "name": "stdout",
          "text": [
            "Ho >> No association between the age groups [76-101] and [26-51] purchase rates\n",
            "H1 >> There is an association between the age groups [76-101] and [26-51] purchase rates \n",
            "\n",
            "Expected values if there is NO Association:\n",
            "[[ 4465.08027166  1217.91972834]\n",
            " [12193.91972834  3326.08027166]] \n",
            "\n",
            "P-Value: 1.7877118355990216e-53\n",
            "Significant Threshold: 0.05 \n",
            "\n",
            "We can conclude with a 95% confidence that there IS an association between the age groups [76-101] and [26-51]purchase rates\n",
            "Even though the age group [26-51] have been the least prescribed of the two, they are shown to have a statiscally \n",
            "higher purchase rate than the age group of [76-101]\n"
          ]
        }
      ]
    },
    {
      "cell_type": "markdown",
      "metadata": {
        "id": "FcM_wZP7f7Dx"
      },
      "source": [
        "![purple-divider](https://user-images.githubusercontent.com/7065401/52071927-c1cd7100-2562-11e9-908a-dde91ba14e59.png)"
      ]
    },
    {
      "cell_type": "markdown",
      "metadata": {
        "id": "M1yGBMwWf_V8"
      },
      "source": [
        "## Feature Encoding"
      ]
    },
    {
      "cell_type": "markdown",
      "metadata": {
        "id": "UbNiE70ucHaa"
      },
      "source": [
        "#### Sex Encoding \n",
        "- F >> female will be mapped to 0 >> 80.7% purchase rate\n",
        "- M >> male will be mapped to 1 >> 80 % purchase rate\n",
        "\n",
        "\n",
        "\n",
        "#### Age Encoding\n",
        "- is_51_76 >> 1 if True >> 82.5% purchase rate\n",
        "- is_76_101 >> 1 if True >> 85.74% purchase rate\n",
        "\n",
        "#### Plan Type Encoding is_plan_particular\n",
        "- EPS >> will be mapped to 0 >> 78.48% purchase rate\n",
        "- Particular >> will be mapped to 1 >> 84.8% purchase rate\n",
        "\n",
        "#### Product Type Encoding \n",
        "- is_fm002 (THC) >> 1 >> 84.3% purchase rate\n",
        "- is_fm001 (CBD) >> 1 >> 79.8% purchase rate\n",
        "\n",
        "#### City/Town Encoding\n",
        "- is_Mosquera >> 1 >> 83.6% purchase rate \n",
        "- is_Medellin >> 1 >> 82.9% purchase rate\n",
        "- is_Bogota >> 1 >> 81.5% purchase rate\n",
        "\n",
        "#### Diagnostic Encoding\n",
        "- other cronic_pain >> 1 >> 83.3% purchase rate\n",
        "- is_anxiety_depression >> 1 >> 81.7% purchase rate\n",
        "- is_cronic_pain_uncu >> 1 >> 80.8% purchase rate\n",
        "\n",
        "\n"
      ]
    },
    {
      "cell_type": "code",
      "metadata": {
        "id": "w0rSy-rkcFP3"
      },
      "source": [
        "# create sex column\n",
        "df_proced_sales['Sex'] = [0 if df_proced_sales.loc[index, 'Sexo'] == 'F' else 1 for index in df_proced_sales.index]\n",
        "\n",
        "# create is_51_76\n",
        "df_proced_sales['is_51_76'] = [1 if df_proced_sales.loc[index, 'age_group'] == pd.Interval(51.0, 76.0) else 0\\\n",
        "                              for index in df_proced_sales.index]\n",
        "\n",
        "# create is_76_101\n",
        "df_proced_sales['is_76_101'] = [1 if df_proced_sales.loc[index, 'age_group'] == pd.Interval(76.0, 101.0) else 0\\\n",
        "                                for index in df_proced_sales.index]\n",
        "\n",
        "# create is_plan_particular\n",
        "df_proced_sales['is_plan_particular'] = [1 if df_proced_sales.loc[index, 'Tipo Plan'] == 'Particular' else 0\\\n",
        "                                         for index in df_proced_sales.index]\n",
        "\n",
        "# create is_fm002\n",
        "df_proced_sales['is_fm002'] = [1 if df_proced_sales.loc[index, 'CodProducto'] == 'fm002' else 0\\\n",
        "                               for index in df_proced_sales.index]\n",
        "\n",
        "# create is_fm001\n",
        "df_proced_sales['is_fm001'] = [1 if df_proced_sales.loc[index, 'CodProducto'] == 'fm001' else 0\\\n",
        "                              for index in df_proced_sales.index]\n",
        "\n",
        "# create is_Medellin\n",
        "df_proced_sales['is_Medellin'] = [1 if df_proced_sales.loc[index, 'CiudadMunicipio'] == 'MEDELLÍN' else 0\\\n",
        "                                  for index in df_proced_sales.index]\n",
        "\n",
        "# create is_Mosquera\n",
        "df_proced_sales['is_Mosquera'] = [1 if df_proced_sales.loc[index, 'CiudadMunicipio'] == 'MOSQUERA' else 0\\\n",
        "                                  for index in df_proced_sales.index]\n",
        "\n",
        "# create is_Bogota\n",
        "df_proced_sales['is_Bogota'] = [1 if df_proced_sales.loc[index, 'CiudadMunicipio'] == 'BOGOTÁ D.C.' else 0\\\n",
        "                                for index in df_proced_sales.index]\n",
        "\n",
        "# create other_cronic_pain\n",
        "df_proced_sales['is_cronic_pain'] = [1 if df_proced_sales.loc[index, 'Diagnostico'] == 'OTRO DOLOR CRONICO' else 0\\\n",
        "                                     for index in df_proced_sales.index]\n",
        "# create anxiety_depression\n",
        "df_proced_sales['is_anxiety_depres'] = [1 if df_proced_sales.loc[index, 'Diagnostico'] == 'TRASTORNO MIXTO DE ANSIEDAD YDEPRESION'\\\n",
        "                                        else 0 for index in df_proced_sales.index]\n",
        "\n",
        "# create cronic_pain_uncu\n",
        "df_proced_sales['is_cronic_pain_uncu'] = [1 if df_proced_sales.loc[index, 'Diagnostico'] == 'DOLOR CRONICO INTRATABLE' else 0\\\n",
        "                                       for index in df_proced_sales.index]\n",
        "\n"
      ],
      "execution_count": null,
      "outputs": []
    },
    {
      "cell_type": "code",
      "metadata": {
        "colab": {
          "base_uri": "https://localhost:8080/",
          "height": 348
        },
        "id": "P0_92zA3e-QD",
        "outputId": "68be5e89-e165-4941-d1d0-8bd7de6a84f8"
      },
      "source": [
        "# check column creation\n",
        "df_proced_sales.head()"
      ],
      "execution_count": 74,
      "outputs": [
        {
          "output_type": "execute_result",
          "data": {
            "text/html": [
              "<div>\n",
              "<style scoped>\n",
              "    .dataframe tbody tr th:only-of-type {\n",
              "        vertical-align: middle;\n",
              "    }\n",
              "\n",
              "    .dataframe tbody tr th {\n",
              "        vertical-align: top;\n",
              "    }\n",
              "\n",
              "    .dataframe thead th {\n",
              "        text-align: right;\n",
              "    }\n",
              "</style>\n",
              "<table border=\"1\" class=\"dataframe\">\n",
              "  <thead>\n",
              "    <tr style=\"text-align: right;\">\n",
              "      <th></th>\n",
              "      <th>Ingreso</th>\n",
              "      <th>DocPaciente</th>\n",
              "      <th>age_group</th>\n",
              "      <th>Sexo</th>\n",
              "      <th>CiudadMunicipio</th>\n",
              "      <th>Diagnostico</th>\n",
              "      <th>Tipo Plan</th>\n",
              "      <th>FechaFormulacion</th>\n",
              "      <th>CodProducto</th>\n",
              "      <th>Cantidad</th>\n",
              "      <th>Plan/Servicio</th>\n",
              "      <th>Sede</th>\n",
              "      <th>Month</th>\n",
              "      <th>Year</th>\n",
              "      <th>month_sold</th>\n",
              "      <th>year_sold</th>\n",
              "      <th>FM_buyer</th>\n",
              "      <th>Sex</th>\n",
              "      <th>is_51_76</th>\n",
              "      <th>is_76_101</th>\n",
              "      <th>is_plan_particular</th>\n",
              "      <th>is_fm002</th>\n",
              "      <th>is_fm001</th>\n",
              "      <th>is_Medellin</th>\n",
              "      <th>is_Mosquera</th>\n",
              "      <th>is_Bogota</th>\n",
              "      <th>is_cronic_pain</th>\n",
              "      <th>is_anxiety_depres</th>\n",
              "      <th>is_cronic_pain_uncu</th>\n",
              "    </tr>\n",
              "  </thead>\n",
              "  <tbody>\n",
              "    <tr>\n",
              "      <th>0</th>\n",
              "      <td>26720</td>\n",
              "      <td>41453437</td>\n",
              "      <td>(51.0, 76.0]</td>\n",
              "      <td>F</td>\n",
              "      <td>BOGOTÁ D.C.</td>\n",
              "      <td>(OSTEO)ARTROSIS PRIMARIAGENERALIZADA</td>\n",
              "      <td>Particular</td>\n",
              "      <td>2020-03-19</td>\n",
              "      <td>fm001</td>\n",
              "      <td>1</td>\n",
              "      <td>Consulta Dolor y Cuidados Paliativos</td>\n",
              "      <td>ZERENIA</td>\n",
              "      <td>3</td>\n",
              "      <td>2020</td>\n",
              "      <td>3.0</td>\n",
              "      <td>2020.0</td>\n",
              "      <td>1</td>\n",
              "      <td>0</td>\n",
              "      <td>1</td>\n",
              "      <td>0</td>\n",
              "      <td>1</td>\n",
              "      <td>0</td>\n",
              "      <td>1</td>\n",
              "      <td>0</td>\n",
              "      <td>0</td>\n",
              "      <td>1</td>\n",
              "      <td>0</td>\n",
              "      <td>0</td>\n",
              "      <td>0</td>\n",
              "    </tr>\n",
              "    <tr>\n",
              "      <th>1</th>\n",
              "      <td>26793</td>\n",
              "      <td>13352962</td>\n",
              "      <td>(51.0, 76.0]</td>\n",
              "      <td>M</td>\n",
              "      <td>BOGOTÁ D.C.</td>\n",
              "      <td>TRASTORNO DE DISCO LUMBAR YOTROS, CON RADICULO...</td>\n",
              "      <td>Particular</td>\n",
              "      <td>2020-03-19</td>\n",
              "      <td>fm001</td>\n",
              "      <td>1</td>\n",
              "      <td>Consulta Dolor y Cuidados Paliativos</td>\n",
              "      <td>ZERENIA</td>\n",
              "      <td>3</td>\n",
              "      <td>2020</td>\n",
              "      <td>3.0</td>\n",
              "      <td>2020.0</td>\n",
              "      <td>1</td>\n",
              "      <td>1</td>\n",
              "      <td>1</td>\n",
              "      <td>0</td>\n",
              "      <td>1</td>\n",
              "      <td>0</td>\n",
              "      <td>1</td>\n",
              "      <td>0</td>\n",
              "      <td>0</td>\n",
              "      <td>1</td>\n",
              "      <td>0</td>\n",
              "      <td>0</td>\n",
              "      <td>0</td>\n",
              "    </tr>\n",
              "    <tr>\n",
              "      <th>2</th>\n",
              "      <td>26806</td>\n",
              "      <td>390646</td>\n",
              "      <td>(76.0, 101.0]</td>\n",
              "      <td>M</td>\n",
              "      <td>BOGOTÁ D.C.</td>\n",
              "      <td>NEURALGIA POSTHERPES ZOSTER(B02.2†)</td>\n",
              "      <td>Particular</td>\n",
              "      <td>2020-03-19</td>\n",
              "      <td>fm001</td>\n",
              "      <td>1</td>\n",
              "      <td>Consulta Dolor y Cuidados Paliativos</td>\n",
              "      <td>ZERENIA</td>\n",
              "      <td>3</td>\n",
              "      <td>2020</td>\n",
              "      <td>3.0</td>\n",
              "      <td>2020.0</td>\n",
              "      <td>1</td>\n",
              "      <td>1</td>\n",
              "      <td>0</td>\n",
              "      <td>1</td>\n",
              "      <td>1</td>\n",
              "      <td>0</td>\n",
              "      <td>1</td>\n",
              "      <td>0</td>\n",
              "      <td>0</td>\n",
              "      <td>1</td>\n",
              "      <td>0</td>\n",
              "      <td>0</td>\n",
              "      <td>0</td>\n",
              "    </tr>\n",
              "    <tr>\n",
              "      <th>3</th>\n",
              "      <td>26928</td>\n",
              "      <td>19059029</td>\n",
              "      <td>(51.0, 76.0]</td>\n",
              "      <td>M</td>\n",
              "      <td>BOGOTÁ D.C.</td>\n",
              "      <td>NaN</td>\n",
              "      <td>Particular</td>\n",
              "      <td>2020-03-19</td>\n",
              "      <td>fm001</td>\n",
              "      <td>1</td>\n",
              "      <td>Neurologia</td>\n",
              "      <td>ZERENIA</td>\n",
              "      <td>3</td>\n",
              "      <td>2020</td>\n",
              "      <td>3.0</td>\n",
              "      <td>2020.0</td>\n",
              "      <td>1</td>\n",
              "      <td>1</td>\n",
              "      <td>1</td>\n",
              "      <td>0</td>\n",
              "      <td>1</td>\n",
              "      <td>0</td>\n",
              "      <td>1</td>\n",
              "      <td>0</td>\n",
              "      <td>0</td>\n",
              "      <td>1</td>\n",
              "      <td>0</td>\n",
              "      <td>0</td>\n",
              "      <td>0</td>\n",
              "    </tr>\n",
              "    <tr>\n",
              "      <th>4</th>\n",
              "      <td>26846</td>\n",
              "      <td>41595666</td>\n",
              "      <td>(51.0, 76.0]</td>\n",
              "      <td>F</td>\n",
              "      <td>CAJICÁ</td>\n",
              "      <td>NaN</td>\n",
              "      <td>Particular</td>\n",
              "      <td>2020-03-19</td>\n",
              "      <td>fm001</td>\n",
              "      <td>1</td>\n",
              "      <td>Neurologia</td>\n",
              "      <td>ZERENIA</td>\n",
              "      <td>3</td>\n",
              "      <td>2020</td>\n",
              "      <td>3.0</td>\n",
              "      <td>2020.0</td>\n",
              "      <td>1</td>\n",
              "      <td>0</td>\n",
              "      <td>1</td>\n",
              "      <td>0</td>\n",
              "      <td>1</td>\n",
              "      <td>0</td>\n",
              "      <td>1</td>\n",
              "      <td>0</td>\n",
              "      <td>0</td>\n",
              "      <td>0</td>\n",
              "      <td>0</td>\n",
              "      <td>0</td>\n",
              "      <td>0</td>\n",
              "    </tr>\n",
              "  </tbody>\n",
              "</table>\n",
              "</div>"
            ],
            "text/plain": [
              "   Ingreso DocPaciente  ... is_anxiety_depres is_cronic_pain_uncu\n",
              "0    26720    41453437  ...                 0                   0\n",
              "1    26793    13352962  ...                 0                   0\n",
              "2    26806      390646  ...                 0                   0\n",
              "3    26928    19059029  ...                 0                   0\n",
              "4    26846    41595666  ...                 0                   0\n",
              "\n",
              "[5 rows x 29 columns]"
            ]
          },
          "metadata": {},
          "execution_count": 74
        }
      ]
    },
    {
      "cell_type": "code",
      "metadata": {
        "colab": {
          "base_uri": "https://localhost:8080/",
          "height": 226
        },
        "id": "KSTUK6tTirZI",
        "outputId": "06425544-9c53-4054-9a50-b3d5038007eb"
      },
      "source": [
        "# features & label df\n",
        "df_features_labels = df_proced_sales[['Ingreso', 'Sex', 'is_51_76', 'is_76_101', 'is_plan_particular', 'is_fm002',\\\n",
        "                                      'is_fm001', 'is_Medellin', 'is_Mosquera', 'is_Bogota', 'is_cronic_pain',\\\n",
        "                                      'is_anxiety_depres', 'is_cronic_pain_uncu', 'FM_buyer']]\n",
        "\n",
        "df_features_labels.head()"
      ],
      "execution_count": 75,
      "outputs": [
        {
          "output_type": "execute_result",
          "data": {
            "text/html": [
              "<div>\n",
              "<style scoped>\n",
              "    .dataframe tbody tr th:only-of-type {\n",
              "        vertical-align: middle;\n",
              "    }\n",
              "\n",
              "    .dataframe tbody tr th {\n",
              "        vertical-align: top;\n",
              "    }\n",
              "\n",
              "    .dataframe thead th {\n",
              "        text-align: right;\n",
              "    }\n",
              "</style>\n",
              "<table border=\"1\" class=\"dataframe\">\n",
              "  <thead>\n",
              "    <tr style=\"text-align: right;\">\n",
              "      <th></th>\n",
              "      <th>Ingreso</th>\n",
              "      <th>Sex</th>\n",
              "      <th>is_51_76</th>\n",
              "      <th>is_76_101</th>\n",
              "      <th>is_plan_particular</th>\n",
              "      <th>is_fm002</th>\n",
              "      <th>is_fm001</th>\n",
              "      <th>is_Medellin</th>\n",
              "      <th>is_Mosquera</th>\n",
              "      <th>is_Bogota</th>\n",
              "      <th>is_cronic_pain</th>\n",
              "      <th>is_anxiety_depres</th>\n",
              "      <th>is_cronic_pain_uncu</th>\n",
              "      <th>FM_buyer</th>\n",
              "    </tr>\n",
              "  </thead>\n",
              "  <tbody>\n",
              "    <tr>\n",
              "      <th>0</th>\n",
              "      <td>26720</td>\n",
              "      <td>0</td>\n",
              "      <td>1</td>\n",
              "      <td>0</td>\n",
              "      <td>1</td>\n",
              "      <td>0</td>\n",
              "      <td>1</td>\n",
              "      <td>0</td>\n",
              "      <td>0</td>\n",
              "      <td>1</td>\n",
              "      <td>0</td>\n",
              "      <td>0</td>\n",
              "      <td>0</td>\n",
              "      <td>1</td>\n",
              "    </tr>\n",
              "    <tr>\n",
              "      <th>1</th>\n",
              "      <td>26793</td>\n",
              "      <td>1</td>\n",
              "      <td>1</td>\n",
              "      <td>0</td>\n",
              "      <td>1</td>\n",
              "      <td>0</td>\n",
              "      <td>1</td>\n",
              "      <td>0</td>\n",
              "      <td>0</td>\n",
              "      <td>1</td>\n",
              "      <td>0</td>\n",
              "      <td>0</td>\n",
              "      <td>0</td>\n",
              "      <td>1</td>\n",
              "    </tr>\n",
              "    <tr>\n",
              "      <th>2</th>\n",
              "      <td>26806</td>\n",
              "      <td>1</td>\n",
              "      <td>0</td>\n",
              "      <td>1</td>\n",
              "      <td>1</td>\n",
              "      <td>0</td>\n",
              "      <td>1</td>\n",
              "      <td>0</td>\n",
              "      <td>0</td>\n",
              "      <td>1</td>\n",
              "      <td>0</td>\n",
              "      <td>0</td>\n",
              "      <td>0</td>\n",
              "      <td>1</td>\n",
              "    </tr>\n",
              "    <tr>\n",
              "      <th>3</th>\n",
              "      <td>26928</td>\n",
              "      <td>1</td>\n",
              "      <td>1</td>\n",
              "      <td>0</td>\n",
              "      <td>1</td>\n",
              "      <td>0</td>\n",
              "      <td>1</td>\n",
              "      <td>0</td>\n",
              "      <td>0</td>\n",
              "      <td>1</td>\n",
              "      <td>0</td>\n",
              "      <td>0</td>\n",
              "      <td>0</td>\n",
              "      <td>1</td>\n",
              "    </tr>\n",
              "    <tr>\n",
              "      <th>4</th>\n",
              "      <td>26846</td>\n",
              "      <td>0</td>\n",
              "      <td>1</td>\n",
              "      <td>0</td>\n",
              "      <td>1</td>\n",
              "      <td>0</td>\n",
              "      <td>1</td>\n",
              "      <td>0</td>\n",
              "      <td>0</td>\n",
              "      <td>0</td>\n",
              "      <td>0</td>\n",
              "      <td>0</td>\n",
              "      <td>0</td>\n",
              "      <td>1</td>\n",
              "    </tr>\n",
              "  </tbody>\n",
              "</table>\n",
              "</div>"
            ],
            "text/plain": [
              "   Ingreso  Sex  is_51_76  ...  is_anxiety_depres  is_cronic_pain_uncu  FM_buyer\n",
              "0    26720    0         1  ...                  0                    0         1\n",
              "1    26793    1         1  ...                  0                    0         1\n",
              "2    26806    1         0  ...                  0                    0         1\n",
              "3    26928    1         1  ...                  0                    0         1\n",
              "4    26846    0         1  ...                  0                    0         1\n",
              "\n",
              "[5 rows x 14 columns]"
            ]
          },
          "metadata": {},
          "execution_count": 75
        }
      ]
    },
    {
      "cell_type": "markdown",
      "metadata": {
        "id": "lsTC1QhULOYd"
      },
      "source": [
        "![green-divider](https://user-images.githubusercontent.com/7065401/52071924-c003ad80-2562-11e9-8297-1c6595f8a7ff.png)\n",
        "\n"
      ]
    },
    {
      "cell_type": "markdown",
      "metadata": {
        "id": "A1QYSbf6LaVw"
      },
      "source": [
        "### Features Correlation"
      ]
    },
    {
      "cell_type": "code",
      "metadata": {
        "colab": {
          "base_uri": "https://localhost:8080/",
          "height": 812
        },
        "id": "XB72BSb9Lcvn",
        "outputId": "7ea23d70-b0c9-46df-f479-0df243e536f2"
      },
      "source": [
        "# heatmap of features correlation\n",
        "\n",
        "f, ax = plt.subplots(figsize=(14, 12))\n",
        "\n",
        "# df of only features\n",
        "df_corr = df_features_labels[df_features_labels.columns[:-1]]\n",
        "sns.heatmap(df_corr.corr(), vmin=-1, vmax=1, annot=True, cmap='YlGnBu_r')\n",
        "\n",
        "plt.title('Features Correlation Heatmap', pad=12)\n",
        "\n",
        "plt.show()"
      ],
      "execution_count": 113,
      "outputs": [
        {
          "output_type": "display_data",
          "data": {
            "image/png": "[encoded data removed]",
            "text/plain": [
              "<Figure size 1008x864 with 2 Axes>"
            ]
          },
          "metadata": {
            "needs_background": "light"
          }
        }
      ]
    },
    {
      "cell_type": "markdown",
      "metadata": {
        "id": "GPXCR98EONez"
      },
      "source": [
        "As can be seen in the Correlation Heatmap above, there is none or little *Multicolinearity* between the features, which makes it suitable for a Logistic Regression Model."
      ]
    },
    {
      "cell_type": "markdown",
      "metadata": {
        "id": "yYeZeIT4OyJb"
      },
      "source": [
        "![purple-divider](https://user-images.githubusercontent.com/7065401/52071927-c1cd7100-2562-11e9-908a-dde91ba14e59.png)"
      ]
    },
    {
      "cell_type": "markdown",
      "metadata": {
        "id": "9CCRF5dlO49q"
      },
      "source": [
        "## Logistic Regression Model\n",
        "\n",
        "Supervised Classification Algorithm that uses regression to predict if a data sample belongs to a specific category or class. For this case it will classify a patient prescribed with FM as a buyer(1) or non_buyer(0)\n",
        "\n",
        "- Calculate Log Odds >> the probability of a sample belonging to the positive class (patient bought FM precribed)\n",
        "  - odds = P(event occurring) / P(event not occurring)\n",
        "  - Z = b0 + b1x1 + ... bnXn\n",
        "\n",
        "- Pass Log Odds to Sigmoid Function >> map Log Odds Z to the range [0, 1]\n",
        "  - h(Z) = 1 / (1 + exp**-Z) "
      ]
    },
    {
      "cell_type": "markdown",
      "metadata": {
        "id": "b2BvHv0lUypS"
      },
      "source": [
        "### Features for the Model"
      ]
    },
    {
      "cell_type": "code",
      "metadata": {
        "colab": {
          "base_uri": "https://localhost:8080/",
          "height": 206
        },
        "id": "P-k7EJkCVCgz",
        "outputId": "b62f24b6-9424-44d5-9460-a831ab8b3d54"
      },
      "source": [
        "# features df\n",
        "features = df_features_labels[['Sex', 'is_51_76', 'is_76_101', 'is_plan_particular', 'is_fm002',\\\n",
        "                               'is_fm001', 'is_Medellin', 'is_Mosquera', 'is_Bogota', 'is_cronic_pain',\\\n",
        "                               'is_anxiety_depres', 'is_cronic_pain_uncu']]\n",
        "features.head()"
      ],
      "execution_count": 77,
      "outputs": [
        {
          "output_type": "execute_result",
          "data": {
            "text/html": [
              "<div>\n",
              "<style scoped>\n",
              "    .dataframe tbody tr th:only-of-type {\n",
              "        vertical-align: middle;\n",
              "    }\n",
              "\n",
              "    .dataframe tbody tr th {\n",
              "        vertical-align: top;\n",
              "    }\n",
              "\n",
              "    .dataframe thead th {\n",
              "        text-align: right;\n",
              "    }\n",
              "</style>\n",
              "<table border=\"1\" class=\"dataframe\">\n",
              "  <thead>\n",
              "    <tr style=\"text-align: right;\">\n",
              "      <th></th>\n",
              "      <th>Sex</th>\n",
              "      <th>is_51_76</th>\n",
              "      <th>is_76_101</th>\n",
              "      <th>is_plan_particular</th>\n",
              "      <th>is_fm002</th>\n",
              "      <th>is_fm001</th>\n",
              "      <th>is_Medellin</th>\n",
              "      <th>is_Mosquera</th>\n",
              "      <th>is_Bogota</th>\n",
              "      <th>is_cronic_pain</th>\n",
              "      <th>is_anxiety_depres</th>\n",
              "      <th>is_cronic_pain_uncu</th>\n",
              "    </tr>\n",
              "  </thead>\n",
              "  <tbody>\n",
              "    <tr>\n",
              "      <th>0</th>\n",
              "      <td>0</td>\n",
              "      <td>1</td>\n",
              "      <td>0</td>\n",
              "      <td>1</td>\n",
              "      <td>0</td>\n",
              "      <td>1</td>\n",
              "      <td>0</td>\n",
              "      <td>0</td>\n",
              "      <td>1</td>\n",
              "      <td>0</td>\n",
              "      <td>0</td>\n",
              "      <td>0</td>\n",
              "    </tr>\n",
              "    <tr>\n",
              "      <th>1</th>\n",
              "      <td>1</td>\n",
              "      <td>1</td>\n",
              "      <td>0</td>\n",
              "      <td>1</td>\n",
              "      <td>0</td>\n",
              "      <td>1</td>\n",
              "      <td>0</td>\n",
              "      <td>0</td>\n",
              "      <td>1</td>\n",
              "      <td>0</td>\n",
              "      <td>0</td>\n",
              "      <td>0</td>\n",
              "    </tr>\n",
              "    <tr>\n",
              "      <th>2</th>\n",
              "      <td>1</td>\n",
              "      <td>0</td>\n",
              "      <td>1</td>\n",
              "      <td>1</td>\n",
              "      <td>0</td>\n",
              "      <td>1</td>\n",
              "      <td>0</td>\n",
              "      <td>0</td>\n",
              "      <td>1</td>\n",
              "      <td>0</td>\n",
              "      <td>0</td>\n",
              "      <td>0</td>\n",
              "    </tr>\n",
              "    <tr>\n",
              "      <th>3</th>\n",
              "      <td>1</td>\n",
              "      <td>1</td>\n",
              "      <td>0</td>\n",
              "      <td>1</td>\n",
              "      <td>0</td>\n",
              "      <td>1</td>\n",
              "      <td>0</td>\n",
              "      <td>0</td>\n",
              "      <td>1</td>\n",
              "      <td>0</td>\n",
              "      <td>0</td>\n",
              "      <td>0</td>\n",
              "    </tr>\n",
              "    <tr>\n",
              "      <th>4</th>\n",
              "      <td>0</td>\n",
              "      <td>1</td>\n",
              "      <td>0</td>\n",
              "      <td>1</td>\n",
              "      <td>0</td>\n",
              "      <td>1</td>\n",
              "      <td>0</td>\n",
              "      <td>0</td>\n",
              "      <td>0</td>\n",
              "      <td>0</td>\n",
              "      <td>0</td>\n",
              "      <td>0</td>\n",
              "    </tr>\n",
              "  </tbody>\n",
              "</table>\n",
              "</div>"
            ],
            "text/plain": [
              "   Sex  is_51_76  ...  is_anxiety_depres  is_cronic_pain_uncu\n",
              "0    0         1  ...                  0                    0\n",
              "1    1         1  ...                  0                    0\n",
              "2    1         0  ...                  0                    0\n",
              "3    1         1  ...                  0                    0\n",
              "4    0         1  ...                  0                    0\n",
              "\n",
              "[5 rows x 12 columns]"
            ]
          },
          "metadata": {},
          "execution_count": 77
        }
      ]
    },
    {
      "cell_type": "code",
      "metadata": {
        "colab": {
          "base_uri": "https://localhost:8080/",
          "height": 320
        },
        "id": "1rC_ie07V7eP",
        "outputId": "d328c8e9-cdca-48eb-a9b3-bbf87163639b"
      },
      "source": [
        "# descriptive statistics of features\n",
        "features.describe()"
      ],
      "execution_count": 78,
      "outputs": [
        {
          "output_type": "execute_result",
          "data": {
            "text/html": [
              "<div>\n",
              "<style scoped>\n",
              "    .dataframe tbody tr th:only-of-type {\n",
              "        vertical-align: middle;\n",
              "    }\n",
              "\n",
              "    .dataframe tbody tr th {\n",
              "        vertical-align: top;\n",
              "    }\n",
              "\n",
              "    .dataframe thead th {\n",
              "        text-align: right;\n",
              "    }\n",
              "</style>\n",
              "<table border=\"1\" class=\"dataframe\">\n",
              "  <thead>\n",
              "    <tr style=\"text-align: right;\">\n",
              "      <th></th>\n",
              "      <th>Sex</th>\n",
              "      <th>is_51_76</th>\n",
              "      <th>is_76_101</th>\n",
              "      <th>is_plan_particular</th>\n",
              "      <th>is_fm002</th>\n",
              "      <th>is_fm001</th>\n",
              "      <th>is_Medellin</th>\n",
              "      <th>is_Mosquera</th>\n",
              "      <th>is_Bogota</th>\n",
              "      <th>is_cronic_pain</th>\n",
              "      <th>is_anxiety_depres</th>\n",
              "      <th>is_cronic_pain_uncu</th>\n",
              "    </tr>\n",
              "  </thead>\n",
              "  <tbody>\n",
              "    <tr>\n",
              "      <th>count</th>\n",
              "      <td>35141.000000</td>\n",
              "      <td>35141.000000</td>\n",
              "      <td>35141.000000</td>\n",
              "      <td>35141.000000</td>\n",
              "      <td>35141.000000</td>\n",
              "      <td>35141.000000</td>\n",
              "      <td>35141.000000</td>\n",
              "      <td>35141.00000</td>\n",
              "      <td>35141.000000</td>\n",
              "      <td>35141.000000</td>\n",
              "      <td>35141.000000</td>\n",
              "      <td>35141.000000</td>\n",
              "    </tr>\n",
              "    <tr>\n",
              "      <th>mean</th>\n",
              "      <td>0.290515</td>\n",
              "      <td>0.534020</td>\n",
              "      <td>0.132466</td>\n",
              "      <td>0.386187</td>\n",
              "      <td>0.018952</td>\n",
              "      <td>0.561339</td>\n",
              "      <td>0.025810</td>\n",
              "      <td>0.01181</td>\n",
              "      <td>0.675080</td>\n",
              "      <td>0.326456</td>\n",
              "      <td>0.037648</td>\n",
              "      <td>0.193648</td>\n",
              "    </tr>\n",
              "    <tr>\n",
              "      <th>std</th>\n",
              "      <td>0.454007</td>\n",
              "      <td>0.498848</td>\n",
              "      <td>0.339002</td>\n",
              "      <td>0.486881</td>\n",
              "      <td>0.136358</td>\n",
              "      <td>0.496230</td>\n",
              "      <td>0.158571</td>\n",
              "      <td>0.10803</td>\n",
              "      <td>0.468351</td>\n",
              "      <td>0.468923</td>\n",
              "      <td>0.190347</td>\n",
              "      <td>0.395162</td>\n",
              "    </tr>\n",
              "    <tr>\n",
              "      <th>min</th>\n",
              "      <td>0.000000</td>\n",
              "      <td>0.000000</td>\n",
              "      <td>0.000000</td>\n",
              "      <td>0.000000</td>\n",
              "      <td>0.000000</td>\n",
              "      <td>0.000000</td>\n",
              "      <td>0.000000</td>\n",
              "      <td>0.00000</td>\n",
              "      <td>0.000000</td>\n",
              "      <td>0.000000</td>\n",
              "      <td>0.000000</td>\n",
              "      <td>0.000000</td>\n",
              "    </tr>\n",
              "    <tr>\n",
              "      <th>25%</th>\n",
              "      <td>0.000000</td>\n",
              "      <td>0.000000</td>\n",
              "      <td>0.000000</td>\n",
              "      <td>0.000000</td>\n",
              "      <td>0.000000</td>\n",
              "      <td>0.000000</td>\n",
              "      <td>0.000000</td>\n",
              "      <td>0.00000</td>\n",
              "      <td>0.000000</td>\n",
              "      <td>0.000000</td>\n",
              "      <td>0.000000</td>\n",
              "      <td>0.000000</td>\n",
              "    </tr>\n",
              "    <tr>\n",
              "      <th>50%</th>\n",
              "      <td>0.000000</td>\n",
              "      <td>1.000000</td>\n",
              "      <td>0.000000</td>\n",
              "      <td>0.000000</td>\n",
              "      <td>0.000000</td>\n",
              "      <td>1.000000</td>\n",
              "      <td>0.000000</td>\n",
              "      <td>0.00000</td>\n",
              "      <td>1.000000</td>\n",
              "      <td>0.000000</td>\n",
              "      <td>0.000000</td>\n",
              "      <td>0.000000</td>\n",
              "    </tr>\n",
              "    <tr>\n",
              "      <th>75%</th>\n",
              "      <td>1.000000</td>\n",
              "      <td>1.000000</td>\n",
              "      <td>0.000000</td>\n",
              "      <td>1.000000</td>\n",
              "      <td>0.000000</td>\n",
              "      <td>1.000000</td>\n",
              "      <td>0.000000</td>\n",
              "      <td>0.00000</td>\n",
              "      <td>1.000000</td>\n",
              "      <td>1.000000</td>\n",
              "      <td>0.000000</td>\n",
              "      <td>0.000000</td>\n",
              "    </tr>\n",
              "    <tr>\n",
              "      <th>max</th>\n",
              "      <td>1.000000</td>\n",
              "      <td>1.000000</td>\n",
              "      <td>1.000000</td>\n",
              "      <td>1.000000</td>\n",
              "      <td>1.000000</td>\n",
              "      <td>1.000000</td>\n",
              "      <td>1.000000</td>\n",
              "      <td>1.00000</td>\n",
              "      <td>1.000000</td>\n",
              "      <td>1.000000</td>\n",
              "      <td>1.000000</td>\n",
              "      <td>1.000000</td>\n",
              "    </tr>\n",
              "  </tbody>\n",
              "</table>\n",
              "</div>"
            ],
            "text/plain": [
              "                Sex      is_51_76  ...  is_anxiety_depres  is_cronic_pain_uncu\n",
              "count  35141.000000  35141.000000  ...       35141.000000         35141.000000\n",
              "mean       0.290515      0.534020  ...           0.037648             0.193648\n",
              "std        0.454007      0.498848  ...           0.190347             0.395162\n",
              "min        0.000000      0.000000  ...           0.000000             0.000000\n",
              "25%        0.000000      0.000000  ...           0.000000             0.000000\n",
              "50%        0.000000      1.000000  ...           0.000000             0.000000\n",
              "75%        1.000000      1.000000  ...           0.000000             0.000000\n",
              "max        1.000000      1.000000  ...           1.000000             1.000000\n",
              "\n",
              "[8 rows x 12 columns]"
            ]
          },
          "metadata": {},
          "execution_count": 78
        }
      ]
    },
    {
      "cell_type": "markdown",
      "metadata": {
        "id": "aWnA2pccWS_v"
      },
      "source": [
        "![green-divider](https://user-images.githubusercontent.com/7065401/52071924-c003ad80-2562-11e9-8297-1c6595f8a7ff.png)\n"
      ]
    },
    {
      "cell_type": "markdown",
      "metadata": {
        "id": "EROAcz2QWWd6"
      },
      "source": [
        "### Labels for the Model"
      ]
    },
    {
      "cell_type": "code",
      "metadata": {
        "colab": {
          "base_uri": "https://localhost:8080/",
          "height": 206
        },
        "id": "mP2Q6S-eWLAF",
        "outputId": "cdde75e4-d07f-4fea-897a-599d25c72dc3"
      },
      "source": [
        "# labels df\n",
        "labels = df_features_labels[['FM_buyer']]\n",
        "\n",
        "labels.head()"
      ],
      "execution_count": 79,
      "outputs": [
        {
          "output_type": "execute_result",
          "data": {
            "text/html": [
              "<div>\n",
              "<style scoped>\n",
              "    .dataframe tbody tr th:only-of-type {\n",
              "        vertical-align: middle;\n",
              "    }\n",
              "\n",
              "    .dataframe tbody tr th {\n",
              "        vertical-align: top;\n",
              "    }\n",
              "\n",
              "    .dataframe thead th {\n",
              "        text-align: right;\n",
              "    }\n",
              "</style>\n",
              "<table border=\"1\" class=\"dataframe\">\n",
              "  <thead>\n",
              "    <tr style=\"text-align: right;\">\n",
              "      <th></th>\n",
              "      <th>FM_buyer</th>\n",
              "    </tr>\n",
              "  </thead>\n",
              "  <tbody>\n",
              "    <tr>\n",
              "      <th>0</th>\n",
              "      <td>1</td>\n",
              "    </tr>\n",
              "    <tr>\n",
              "      <th>1</th>\n",
              "      <td>1</td>\n",
              "    </tr>\n",
              "    <tr>\n",
              "      <th>2</th>\n",
              "      <td>1</td>\n",
              "    </tr>\n",
              "    <tr>\n",
              "      <th>3</th>\n",
              "      <td>1</td>\n",
              "    </tr>\n",
              "    <tr>\n",
              "      <th>4</th>\n",
              "      <td>1</td>\n",
              "    </tr>\n",
              "  </tbody>\n",
              "</table>\n",
              "</div>"
            ],
            "text/plain": [
              "   FM_buyer\n",
              "0         1\n",
              "1         1\n",
              "2         1\n",
              "3         1\n",
              "4         1"
            ]
          },
          "metadata": {},
          "execution_count": 79
        }
      ]
    },
    {
      "cell_type": "code",
      "metadata": {
        "colab": {
          "base_uri": "https://localhost:8080/"
        },
        "id": "88npUAReYk-C",
        "outputId": "283ddd59-3b8d-4b26-c6c8-e702f1cea56f"
      },
      "source": [
        "# check labels shape\n",
        "labels.shape"
      ],
      "execution_count": 80,
      "outputs": [
        {
          "output_type": "execute_result",
          "data": {
            "text/plain": [
              "(35141, 1)"
            ]
          },
          "metadata": {},
          "execution_count": 80
        }
      ]
    },
    {
      "cell_type": "code",
      "metadata": {
        "colab": {
          "base_uri": "https://localhost:8080/"
        },
        "id": "o4yE6F2yYpuq",
        "outputId": "170bc91b-bbfc-42aa-f16e-9aaa97ed06d5"
      },
      "source": [
        "# turn labels into numpy array\n",
        "labels = np.array(labels)\n",
        "labels"
      ],
      "execution_count": 81,
      "outputs": [
        {
          "output_type": "execute_result",
          "data": {
            "text/plain": [
              "array([[1],\n",
              "       [1],\n",
              "       [1],\n",
              "       ...,\n",
              "       [0],\n",
              "       [0],\n",
              "       [0]])"
            ]
          },
          "metadata": {},
          "execution_count": 81
        }
      ]
    },
    {
      "cell_type": "code",
      "metadata": {
        "colab": {
          "base_uri": "https://localhost:8080/"
        },
        "id": "6F8_0kIZYxRf",
        "outputId": "e386c36e-38db-46ee-9eb4-ecac4776461e"
      },
      "source": [
        "# change shape to (-1,) so it can be fed to the model\n",
        "labels = labels.reshape(-1,)\n",
        "labels.shape"
      ],
      "execution_count": 82,
      "outputs": [
        {
          "output_type": "execute_result",
          "data": {
            "text/plain": [
              "(35141,)"
            ]
          },
          "metadata": {},
          "execution_count": 82
        }
      ]
    },
    {
      "cell_type": "markdown",
      "metadata": {
        "id": "747LL0RmXEuh"
      },
      "source": [
        "![green-divider](https://user-images.githubusercontent.com/7065401/52071924-c003ad80-2562-11e9-8297-1c6595f8a7ff.png)\n"
      ]
    },
    {
      "cell_type": "markdown",
      "metadata": {
        "id": "R8_bQxoXZGCK"
      },
      "source": [
        "### Train Test Split"
      ]
    },
    {
      "cell_type": "code",
      "metadata": {
        "colab": {
          "base_uri": "https://localhost:8080/"
        },
        "id": "9yaIn2JsZIXx",
        "outputId": "15c26954-fb1c-4a33-9507-50ab47cf441f"
      },
      "source": [
        "# split data into train and test\n",
        "from sklearn.model_selection import train_test_split\n",
        "\n",
        "features_train, features_test, labels_train, labels_test = train_test_split(features, labels, test_size=0.2, random_state=100)\n",
        "\n",
        "# check length of features_test and labels_test\n",
        "print(f'features_test length: {len(features_test)}')\n",
        "print(f'labels_test length: {len(labels_test)}')"
      ],
      "execution_count": 83,
      "outputs": [
        {
          "output_type": "stream",
          "name": "stdout",
          "text": [
            "features_test length: 7029\n",
            "labels_test length: 7029\n"
          ]
        }
      ]
    },
    {
      "cell_type": "markdown",
      "metadata": {
        "id": "CsUOHNTraUqS"
      },
      "source": [
        "![green-divider](https://user-images.githubusercontent.com/7065401/52071924-c003ad80-2562-11e9-8297-1c6595f8a7ff.png)"
      ]
    },
    {
      "cell_type": "markdown",
      "metadata": {
        "id": "gLeXqLpCaZMf"
      },
      "source": [
        "### Model Creation"
      ]
    },
    {
      "cell_type": "code",
      "metadata": {
        "colab": {
          "base_uri": "https://localhost:8080/"
        },
        "id": "5TSR6NZZaWZL",
        "outputId": "2b2c02bc-505f-4426-852a-b5e3dcc0ce38"
      },
      "source": [
        "from sklearn.linear_model import LogisticRegression\n",
        "\n",
        "# create model\n",
        "classifier = LogisticRegression()\n",
        "\n",
        "# train model\n",
        "classifier.fit(features_train, labels_train)"
      ],
      "execution_count": 84,
      "outputs": [
        {
          "output_type": "execute_result",
          "data": {
            "text/plain": [
              "LogisticRegression(C=1.0, class_weight=None, dual=False, fit_intercept=True,\n",
              "                   intercept_scaling=1, l1_ratio=None, max_iter=100,\n",
              "                   multi_class='auto', n_jobs=None, penalty='l2',\n",
              "                   random_state=None, solver='lbfgs', tol=0.0001, verbose=0,\n",
              "                   warm_start=False)"
            ]
          },
          "metadata": {},
          "execution_count": 84
        }
      ]
    },
    {
      "cell_type": "code",
      "metadata": {
        "colab": {
          "base_uri": "https://localhost:8080/"
        },
        "id": "3zPnw24-bhvk",
        "outputId": "0df622d2-2eb4-49c7-c00c-3ebb5e9f8d55"
      },
      "source": [
        "# get coefficients and intercept\n",
        "coefficients = classifier.coef_\n",
        "intercept = classifier.intercept_\n",
        "\n",
        "# print values\n",
        "print(f'Intercept: {intercept}')\n",
        "print(f'Coefficients: {coefficients}')"
      ],
      "execution_count": 85,
      "outputs": [
        {
          "output_type": "stream",
          "name": "stdout",
          "text": [
            "Intercept: [0.42506931]\n",
            "Coefficients: [[-0.05987961  0.40069427  0.64283813  0.84936957  0.02910549 -0.13491784\n",
            "   0.07972121  0.33604216  0.24590042  0.60200725  0.3013485   0.38185602]]\n"
          ]
        }
      ]
    },
    {
      "cell_type": "code",
      "metadata": {
        "colab": {
          "base_uri": "https://localhost:8080/"
        },
        "id": "_TZIybfNcHv2",
        "outputId": "86201062-3654-4d5b-f352-0a0b75631456"
      },
      "source": [
        "# zip coefficients to features\n",
        "list(zip(['Sex', 'is_51_76', 'is_76_101', 'is_plan_particular', 'is_fm002',\\\n",
        "         'is_fm001', 'is_Medellin', 'is_Mosquera', 'is_Bogota', 'is_cronic_pain',\\\n",
        "         'is_anxiety_depres', 'is_cronic_pain_uncu'], coefficients[0]))"
      ],
      "execution_count": 86,
      "outputs": [
        {
          "output_type": "execute_result",
          "data": {
            "text/plain": [
              "[('Sex', -0.05987961496955512),\n",
              " ('is_51_76', 0.4006942738793421),\n",
              " ('is_76_101', 0.642838126719041),\n",
              " ('is_plan_particular', 0.8493695727546604),\n",
              " ('is_fm002', 0.02910548551204522),\n",
              " ('is_fm001', -0.13491784280527663),\n",
              " ('is_Medellin', 0.07972121137729565),\n",
              " ('is_Mosquera', 0.33604215777316604),\n",
              " ('is_Bogota', 0.24590041643172478),\n",
              " ('is_cronic_pain', 0.6020072541830324),\n",
              " ('is_anxiety_depres', 0.3013485045694603),\n",
              " ('is_cronic_pain_uncu', 0.381856023784964)]"
            ]
          },
          "metadata": {},
          "execution_count": 86
        }
      ]
    },
    {
      "cell_type": "markdown",
      "metadata": {
        "id": "3YG7YSyhc7oT"
      },
      "source": [
        "The features with the highest influence in classifying a patient with FM prescribed as a buyer (1) is **is_plan_particular** with a coefficient of 0.84 followed by **is_76_101** and **is_cronic_pain** with coefficients of 0.64 and 0.60 respectively."
      ]
    },
    {
      "cell_type": "code",
      "metadata": {
        "colab": {
          "base_uri": "https://localhost:8080/"
        },
        "id": "DUJxHKXfddju",
        "outputId": "3c11a47f-36a7-4079-f5d5-252e77779813"
      },
      "source": [
        "# predict features_test buyers\n",
        "# threshold = 0.5 >> makes the decision on what class the sample belongs to\n",
        "prediction = classifier.predict(features_test)\n",
        "\n",
        "prediction"
      ],
      "execution_count": 87,
      "outputs": [
        {
          "output_type": "execute_result",
          "data": {
            "text/plain": [
              "array([1, 1, 1, ..., 1, 1, 1])"
            ]
          },
          "metadata": {},
          "execution_count": 87
        }
      ]
    },
    {
      "cell_type": "code",
      "metadata": {
        "id": "CDTg7Ddhd84i"
      },
      "source": [
        "# check to see if there are class 0 in prediction\n",
        "for el in prediction:\n",
        "  if el == 0:\n",
        "    print(el)"
      ],
      "execution_count": 88,
      "outputs": []
    },
    {
      "cell_type": "markdown",
      "metadata": {
        "id": "MT96_b5X2MVB"
      },
      "source": [
        "A threshold of p = 0.5 outputs all patients to class 1, this shows that the p is too small, the probability of a patient buying a prescribed FM must be higher"
      ]
    },
    {
      "cell_type": "code",
      "metadata": {
        "colab": {
          "base_uri": "https://localhost:8080/"
        },
        "id": "LR2kHIUbiUc6",
        "outputId": "071bcf77-cd7e-4415-ea85-60e46b7177c5"
      },
      "source": [
        "# model accuracy on training data\n",
        "train_score = classifier.score(features_train, labels_train)\n",
        "print(f'Train Score: {train_score}')\n",
        "\n",
        "# model accuracy on test data\n",
        "test_score = classifier.score(features_test, labels_test)\n",
        "print(f'Test score: {test_score}')"
      ],
      "execution_count": 89,
      "outputs": [
        {
          "output_type": "stream",
          "name": "stdout",
          "text": [
            "Train Score: 0.7942871371656233\n",
            "Test score: 0.7925736235595391\n"
          ]
        }
      ]
    },
    {
      "cell_type": "markdown",
      "metadata": {
        "id": "Cq3ql5B-jPsF"
      },
      "source": [
        "The model has an Accuracy of 0.7925. This means that on average 79.25% of the times the classifier will correctly classify a new patient prescribed with FM as a buyer(1) or non_buyer(0)"
      ]
    },
    {
      "cell_type": "markdown",
      "metadata": {
        "id": "GQuN3KCf2rBZ"
      },
      "source": [
        "![green-divider](https://user-images.githubusercontent.com/7065401/52071924-c003ad80-2562-11e9-8297-1c6595f8a7ff.png)"
      ]
    },
    {
      "cell_type": "markdown",
      "metadata": {
        "id": "XKYivLVX2n3n"
      },
      "source": [
        "### Model Adjustment"
      ]
    },
    {
      "cell_type": "code",
      "metadata": {
        "colab": {
          "base_uri": "https://localhost:8080/"
        },
        "id": "ZrMdv4Rnzmvu",
        "outputId": "c1c43bb0-d30b-44e4-d2a7-ee2d25ea2f01"
      },
      "source": [
        "# increase the threshold of classification to 0.7\n",
        "predict_new_threshold = (classifier.predict_proba(features_test)[:,1]>=0.7).astype(int)\n",
        "\n",
        "predict_new_threshold"
      ],
      "execution_count": 90,
      "outputs": [
        {
          "output_type": "execute_result",
          "data": {
            "text/plain": [
              "array([1, 0, 1, ..., 1, 1, 1])"
            ]
          },
          "metadata": {},
          "execution_count": 90
        }
      ]
    },
    {
      "cell_type": "code",
      "metadata": {
        "colab": {
          "base_uri": "https://localhost:8080/"
        },
        "id": "xAWSyv0U2_K1",
        "outputId": "ffb2aff1-1ee0-46f9-cb13-a351b04f3322"
      },
      "source": [
        "# calculate new accuracies with new threshold\n",
        "test_score = classifier.score(features_test, predict_new_threshold)\n",
        "print(f'Test Score: {test_score}')"
      ],
      "execution_count": 91,
      "outputs": [
        {
          "output_type": "stream",
          "name": "stdout",
          "text": [
            "Test Score: 0.9014084507042254\n"
          ]
        }
      ]
    },
    {
      "cell_type": "markdown",
      "metadata": {
        "id": "fEyGMp-n3w7x"
      },
      "source": [
        "After the adjustment of the model, it has an accuracy of 0.90. This means an increase of 0.11 in accuracy, after changing the threshold from 0.5 to 0.7. The model now, on average, will classify correctly 90% of the times a new patient prescribed with FM as a buyer(1) or non_buyer(0).\n"
      ]
    },
    {
      "cell_type": "code",
      "metadata": {
        "colab": {
          "base_uri": "https://localhost:8080/"
        },
        "id": "wbPqj7xlkdEE",
        "outputId": "9a1ab593-8b13-4065-952e-271d562ae887"
      },
      "source": [
        "# vector of probabilities\n",
        "probabilities  = classifier.predict_proba(features_test)\n",
        "\n",
        "print('  Non_Buyer  |  Buyer   ')\n",
        "# print first 20 probabilities\n",
        "for i in range(0, 21):\n",
        "  print(probabilities[i])\n"
      ],
      "execution_count": 92,
      "outputs": [
        {
          "output_type": "stream",
          "name": "stdout",
          "text": [
            "  Non_Buyer  |  Buyer   \n",
            "[0.0977585 0.9022415]\n",
            "[0.36910649 0.63089351]\n",
            "[0.07425863 0.92574137]\n",
            "[0.28245536 0.71754464]\n",
            "[0.29382753 0.70617247]\n",
            "[0.42796679 0.57203321]\n",
            "[0.13456861 0.86543139]\n",
            "[0.17650398 0.82349602]\n",
            "[0.19882722 0.80117278]\n",
            "[0.17671656 0.82328344]\n",
            "[0.05923478 0.94076522]\n",
            "[0.16606286 0.83393714]\n",
            "[0.21874807 0.78125193]\n",
            "[0.11626763 0.88373237]\n",
            "[0.21874807 0.78125193]\n",
            "[0.33827974 0.66172026]\n",
            "[0.122563 0.877437]\n",
            "[0.22119387 0.77880613]\n",
            "[0.29066454 0.70933546]\n",
            "[0.19344625 0.80655375]\n",
            "[0.36910649 0.63089351]\n"
          ]
        }
      ]
    },
    {
      "cell_type": "markdown",
      "metadata": {
        "id": "k1o7cyjbhuJr"
      },
      "source": [
        "![green-divider](https://user-images.githubusercontent.com/7065401/52071924-c003ad80-2562-11e9-8297-1c6595f8a7ff.png)"
      ]
    },
    {
      "cell_type": "markdown",
      "metadata": {
        "id": "wejolk9nhwju"
      },
      "source": [
        "### Confusion Matrix"
      ]
    },
    {
      "cell_type": "code",
      "metadata": {
        "colab": {
          "base_uri": "https://localhost:8080/",
          "height": 432
        },
        "id": "QgjCKDsZhzzV",
        "outputId": "53068711-dc12-465f-a367-f0e3a2142524"
      },
      "source": [
        "# confusion matrix to compare the test labels to the prediction\n",
        "from sklearn.metrics import confusion_matrix\n",
        "from mlxtend.plotting import plot_confusion_matrix\n",
        "\n",
        "cm = confusion_matrix(labels_test, predict_new_threshold)\n",
        "\n",
        "# plot confusion matrix\n",
        "fig, ax = plot_confusion_matrix(conf_mat=cm, figsize=(6, 6))\n",
        "plt.xlabel('Predictions', fontsize=18)\n",
        "plt.ylabel('Actuals', fontsize=18)\n",
        "\n",
        "# change color of occurences\n",
        "for i in range(2):\n",
        "  for e in range(2):\n",
        "    ax.text(e, i, cm[i, e], ha='center', va='center', color='crimson')\n",
        "\n",
        "\n",
        "plt.title('Confusion Matrix', fontsize=18)\n",
        "plt.show()"
      ],
      "execution_count": 93,
      "outputs": [
        {
          "output_type": "display_data",
          "data": {
            "image/png": "[encoded data removed]",
            "text/plain": [
              "<Figure size 432x432 with 1 Axes>"
            ]
          },
          "metadata": {
            "needs_background": "light"
          }
        }
      ]
    },
    {
      "cell_type": "markdown",
      "metadata": {
        "id": "8oWfR-z2olIx"
      },
      "source": [
        "- **True Positives >> 5135**\n",
        "  - Number of times the model predicted the patient will buy the FM prescribed and he bought it\n",
        "\n",
        "- **True Negatives >> 257**\n",
        "  - Number of times the model predicted the patient wouldn't buy the FM prescribed and he didn't\n",
        "\n",
        "- **False Positives >> 1201**\n",
        "  - Number of times the model predicted the patient would buy the FM prescribed and he didn't\n",
        "\n",
        "- **False Negatives >> 436**\n",
        "  - Number of times the model predicted the patient wouldn't buy the FM prescribed and he did"
      ]
    },
    {
      "cell_type": "markdown",
      "metadata": {
        "id": "wTTgbD7MqU3e"
      },
      "source": [
        "![green-divider](https://user-images.githubusercontent.com/7065401/52071924-c003ad80-2562-11e9-8297-1c6595f8a7ff.png)"
      ]
    },
    {
      "cell_type": "markdown",
      "metadata": {
        "id": "IdHiKvNsp2bt"
      },
      "source": [
        "#### Recall, Precision & F1 Score"
      ]
    },
    {
      "cell_type": "code",
      "metadata": {
        "colab": {
          "base_uri": "https://localhost:8080/"
        },
        "id": "p3OsCf-9qUQD",
        "outputId": "e3771a16-0267-4ffc-89c6-48dca0916496"
      },
      "source": [
        "# RECALL >> % of relevant items the classifier found\n",
        "# true positives / (true positive + false negative)\n",
        "\n",
        "recall = 5135 / (5135 + 436)\n",
        "print(f'Recall: {recall}')\n",
        "\n",
        "# PRECISION >> % of times the model predicted the patient will buy the FM presribed\n",
        "# true positives / (true positives  + false positives)\n",
        "\n",
        "precision = 5135 / (5135 + 1201)\n",
        "print(f'Precision: {precision}')\n",
        "\n",
        "# F1 SCORE >> shows the effectiveness of the classifier\n",
        "# harmonic mean of precision and recall >> 2 * (precision * recall) / (precision + recall)\n",
        "\n",
        "f1 = 2*(precision * recall) / (precision + recall)\n",
        "print(f'F1 Score: {f1}')\n"
      ],
      "execution_count": 94,
      "outputs": [
        {
          "output_type": "stream",
          "name": "stdout",
          "text": [
            "Recall: 0.9217375695566326\n",
            "Precision: 0.8104482323232324\n",
            "F1 Score: 0.8625178466448308\n"
          ]
        }
      ]
    },
    {
      "cell_type": "markdown",
      "metadata": {
        "id": "UwxBN2JutFcw"
      },
      "source": [
        "- The RECALL of the classifier shows that on average it will find 92% of the times relevant items (patients who bought the FM prescribed).\n",
        "\n",
        "- The PRECISION of the classifier shows that on average 81% of the times it will predict the patient will buy the prescribed FM\n",
        "\n",
        "- The F1 SCORES shows that the classifier has an effectiveness on average of 86% in classifying correctly a patient prescribed with FM as a buyer or non_buyer"
      ]
    },
    {
      "cell_type": "markdown",
      "metadata": {
        "id": "i9bkWbmauQTk"
      },
      "source": [
        "![purple-divider](https://user-images.githubusercontent.com/7065401/52071927-c1cd7100-2562-11e9-908a-dde91ba14e59.png)"
      ]
    },
    {
      "cell_type": "markdown",
      "metadata": {
        "id": "87akWUcdn7Gz"
      },
      "source": [
        "## Prediction of Future FM Buyers"
      ]
    },
    {
      "cell_type": "markdown",
      "metadata": {
        "id": "sMSzxwDjoAOm"
      },
      "source": [
        "### DB Connection"
      ]
    },
    {
      "cell_type": "code",
      "metadata": {
        "colab": {
          "base_uri": "https://localhost:8080/"
        },
        "id": "wk8laCHl-0vN",
        "outputId": "98b71221-41ea-4e04-968a-7fbf5a4502ad"
      },
      "source": [
        "# install ODBC driver\n",
        "%%sh\n",
        "curl https://packages.microsoft.com/keys/microsoft.asc | apt-key add -\n",
        "curl https://packages.microsoft.com/config/ubuntu/16.04/prod.list > /etc/apt/sources.list.d/mssql-release.list\n",
        "sudo apt-get update\n",
        "sudo ACCEPT_EULA=Y apt-get -q -y install msodbcsql17"
      ],
      "execution_count": 95,
      "outputs": [
        {
          "output_type": "stream",
          "name": "stdout",
          "text": [
            "OK\n",
            "Get:1 http://security.ubuntu.com/ubuntu bionic-security InRelease [88.7 kB]\n",
            "Get:2 https://packages.microsoft.com/ubuntu/16.04/prod xenial InRelease [4,003 B]\n",
            "Ign:3 https://developer.download.nvidia.com/compute/cuda/repos/ubuntu1804/x86_64  InRelease\n",
            "Get:4 https://cloud.r-project.org/bin/linux/ubuntu bionic-cran40/ InRelease [3,626 B]\n",
            "Get:5 http://ppa.launchpad.net/c2d4u.team/c2d4u4.0+/ubuntu bionic InRelease [15.9 kB]\n",
            "Ign:6 https://developer.download.nvidia.com/compute/machine-learning/repos/ubuntu1804/x86_64  InRelease\n",
            "Get:7 https://developer.download.nvidia.com/compute/cuda/repos/ubuntu1804/x86_64  Release [696 B]\n",
            "Hit:8 https://developer.download.nvidia.com/compute/machine-learning/repos/ubuntu1804/x86_64  Release\n",
            "Get:9 https://developer.download.nvidia.com/compute/cuda/repos/ubuntu1804/x86_64  Release.gpg [836 B]\n",
            "Get:10 https://packages.microsoft.com/ubuntu/16.04/prod xenial/main amd64 Packages [265 kB]\n",
            "Hit:11 http://archive.ubuntu.com/ubuntu bionic InRelease\n",
            "Get:12 http://security.ubuntu.com/ubuntu bionic-security/multiverse amd64 Packages [26.8 kB]\n",
            "Get:13 http://security.ubuntu.com/ubuntu bionic-security/universe amd64 Packages [1,439 kB]\n",
            "Get:14 http://archive.ubuntu.com/ubuntu bionic-updates InRelease [88.7 kB]\n",
            "Get:15 https://cloud.r-project.org/bin/linux/ubuntu bionic-cran40/ Packages [73.0 kB]\n",
            "Hit:16 http://ppa.launchpad.net/cran/libgit2/ubuntu bionic InRelease\n",
            "Get:17 http://security.ubuntu.com/ubuntu bionic-security/restricted amd64 Packages [666 kB]\n",
            "Get:18 http://security.ubuntu.com/ubuntu bionic-security/main amd64 Packages [2,430 kB]\n",
            "Hit:20 http://ppa.launchpad.net/deadsnakes/ppa/ubuntu bionic InRelease\n",
            "Get:21 http://archive.ubuntu.com/ubuntu bionic-backports InRelease [74.6 kB]\n",
            "Get:22 https://developer.download.nvidia.com/compute/cuda/repos/ubuntu1804/x86_64  Packages [808 kB]\n",
            "Hit:23 http://ppa.launchpad.net/graphics-drivers/ppa/ubuntu bionic InRelease\n",
            "Get:24 http://ppa.launchpad.net/c2d4u.team/c2d4u4.0+/ubuntu bionic/main Sources [1,812 kB]\n",
            "Get:25 http://archive.ubuntu.com/ubuntu bionic-updates/multiverse amd64 Packages [34.4 kB]\n",
            "Get:26 http://archive.ubuntu.com/ubuntu bionic-updates/restricted amd64 Packages [699 kB]\n",
            "Get:27 http://archive.ubuntu.com/ubuntu bionic-updates/universe amd64 Packages [2,219 kB]\n",
            "Get:28 http://archive.ubuntu.com/ubuntu bionic-updates/main amd64 Packages [2,867 kB]\n",
            "Get:29 http://ppa.launchpad.net/c2d4u.team/c2d4u4.0+/ubuntu bionic/main amd64 Packages [928 kB]\n",
            "Fetched 14.5 MB in 3s (5,414 kB/s)\n",
            "Reading package lists...\n",
            "Reading package lists...\n",
            "Building dependency tree...\n",
            "Reading state information...\n",
            "The following additional packages will be installed:\n",
            "  libodbc1 odbcinst odbcinst1debian2 unixodbc unixodbc-dev\n",
            "Suggested packages:\n",
            "  unixodbc-bin\n",
            "The following NEW packages will be installed:\n",
            "  msodbcsql17 unixodbc\n",
            "The following packages will be upgraded:\n",
            "  libodbc1 odbcinst odbcinst1debian2 unixodbc-dev\n",
            "4 upgraded, 2 newly installed, 0 to remove and 61 not upgraded.\n",
            "Need to get 1,458 kB of archives.\n",
            "After this operation, 152 kB of additional disk space will be used.\n",
            "Get:1 https://packages.microsoft.com/ubuntu/16.04/prod xenial/main amd64 odbcinst amd64 2.3.7 [12.0 kB]\n",
            "Get:2 https://packages.microsoft.com/ubuntu/16.04/prod xenial/main amd64 unixodbc-dev amd64 2.3.7 [37.1 kB]\n",
            "Get:3 https://packages.microsoft.com/ubuntu/16.04/prod xenial/main amd64 odbcinst1debian2 amd64 2.3.7 [135 kB]\n",
            "Get:4 https://packages.microsoft.com/ubuntu/16.04/prod xenial/main amd64 libodbc1 amd64 2.3.7 [511 kB]\n",
            "Get:5 https://packages.microsoft.com/ubuntu/16.04/prod xenial/main amd64 unixodbc amd64 2.3.7 [19.6 kB]\n",
            "Get:6 https://packages.microsoft.com/ubuntu/16.04/prod xenial/main amd64 msodbcsql17 amd64 17.8.1.1-1 [744 kB]\n",
            "Fetched 1,458 kB in 0s (3,687 kB/s)\n",
            "(Reading database ... \r(Reading database ... 5%\r(Reading database ... 10%\r(Reading database ... 15%\r(Reading database ... 20%\r(Reading database ... 25%\r(Reading database ... 30%\r(Reading database ... 35%\r(Reading database ... 40%\r(Reading database ... 45%\r(Reading database ... 50%\r(Reading database ... 55%\r(Reading database ... 60%\r(Reading database ... 65%\r(Reading database ... 70%\r(Reading database ... 75%\r(Reading database ... 80%\r(Reading database ... 85%\r(Reading database ... 90%\r(Reading database ... 95%\r(Reading database ... 100%\r(Reading database ... 155219 files and directories currently installed.)\r\n",
            "Preparing to unpack .../0-odbcinst_2.3.7_amd64.deb ...\r\n",
            "Unpacking odbcinst (2.3.7) over (2.3.4-1.1ubuntu3) ...\r\n",
            "Preparing to unpack .../1-unixodbc-dev_2.3.7_amd64.deb ...\r\n",
            "Unpacking unixodbc-dev (2.3.7) over (2.3.4-1.1ubuntu3) ...\r\n",
            "Preparing to unpack .../2-odbcinst1debian2_2.3.7_amd64.deb ...\r\n",
            "Unpacking odbcinst1debian2:amd64 (2.3.7) over (2.3.4-1.1ubuntu3) ...\r\n",
            "Preparing to unpack .../3-libodbc1_2.3.7_amd64.deb ...\r\n",
            "Unpacking libodbc1:amd64 (2.3.7) over (2.3.4-1.1ubuntu3) ...\r\n",
            "Selecting previously unselected package unixodbc.\r\n",
            "Preparing to unpack .../4-unixodbc_2.3.7_amd64.deb ...\r\n",
            "Unpacking unixodbc (2.3.7) ...\r\n",
            "Selecting previously unselected package msodbcsql17.\r\n",
            "Preparing to unpack .../5-msodbcsql17_17.8.1.1-1_amd64.deb ...\r\n",
            "debconf: unable to initialize frontend: Dialog\r\n",
            "debconf: (No usable dialog-like program is installed, so the dialog based frontend cannot be used. at /usr/share/perl5/Debconf/FrontEnd/Dialog.pm line 76.)\r\n",
            "debconf: falling back to frontend: Readline\r\n",
            "Unpacking msodbcsql17 (17.8.1.1-1) ...\r\n",
            "Setting up libodbc1:amd64 (2.3.7) ...\r\n",
            "Setting up odbcinst1debian2:amd64 (2.3.7) ...\r\n",
            "Setting up odbcinst (2.3.7) ...\r\n",
            "Setting up unixodbc (2.3.7) ...\r\n",
            "Setting up unixodbc-dev (2.3.7) ...\r\n",
            "Setting up msodbcsql17 (17.8.1.1-1) ...\r\n",
            "Processing triggers for libc-bin (2.27-3ubuntu1.3) ...\r\n",
            "/sbin/ldconfig.real: /usr/local/lib/python3.7/dist-packages/ideep4py/lib/libmkldnn.so.0 is not a symbolic link\r\n",
            "\r\n",
            "Processing triggers for man-db (2.8.3-2ubuntu0.1) ...\r\n"
          ]
        },
        {
          "output_type": "stream",
          "name": "stderr",
          "text": [
            "  % Total    % Received % Xferd  Average Speed   Time    Time     Time  Current\n",
            "                                 Dload  Upload   Total   Spent    Left  Speed\n",
            "\r  0     0    0     0    0     0      0      0 --:--:-- --:--:-- --:--:--     0Warning: apt-key output should not be parsed (stdout is not a terminal)\n",
            "\r  0     0    0     0    0     0      0      0 --:--:-- --:--:-- --:--:--     0\r100   983  100   983    0     0   4349      0 --:--:-- --:--:-- --:--:--  4330\n",
            "  % Total    % Received % Xferd  Average Speed   Time    Time     Time  Current\n",
            "                                 Dload  Upload   Total   Spent    Left  Speed\n",
            "\r  0     0    0     0    0     0      0      0 --:--:-- --:--:-- --:--:--     0\r100    79  100    79    0     0    831      0 --:--:-- --:--:-- --:--:--   831\n",
            "debconf: unable to initialize frontend: Dialog\n",
            "debconf: (No usable dialog-like program is installed, so the dialog based frontend cannot be used. at /usr/share/perl5/Debconf/FrontEnd/Dialog.pm line 76, <> line 6.)\n",
            "debconf: falling back to frontend: Readline\n",
            "debconf: unable to initialize frontend: Readline\n",
            "debconf: (This frontend requires a controlling tty.)\n",
            "debconf: falling back to frontend: Teletype\n",
            "dpkg-preconfigure: unable to re-open stdin: \n"
          ]
        }
      ]
    },
    {
      "cell_type": "code",
      "metadata": {
        "colab": {
          "base_uri": "https://localhost:8080/"
        },
        "id": "Wt_rIOrioCkf",
        "outputId": "35f9c38f-8bc9-4b5c-dc2f-25a8b47ec2ec"
      },
      "source": [
        "# install package to connect python to SQL server\n",
        "!pip install pyodbc"
      ],
      "execution_count": 96,
      "outputs": [
        {
          "output_type": "stream",
          "name": "stdout",
          "text": [
            "Collecting pyodbc\n",
            "  Downloading pyodbc-4.0.32.tar.gz (280 kB)\n",
            "\u001b[K     |████████████████████████████████| 280 kB 5.2 MB/s \n",
            "\u001b[?25hBuilding wheels for collected packages: pyodbc\n",
            "  Building wheel for pyodbc (setup.py) ... \u001b[?25l\u001b[?25hdone\n",
            "  Created wheel for pyodbc: filename=pyodbc-4.0.32-cp37-cp37m-linux_x86_64.whl size=287286 sha256=0fb41256fcf073160727beb891510e8745e13aabeb3b4b9cea9b10ce3afb6f47\n",
            "  Stored in directory: /root/.cache/pip/wheels/2e/9c/da/8652fd42e0f662015554f00a9e96fe4f438dfd1ef59787879e\n",
            "Successfully built pyodbc\n",
            "Installing collected packages: pyodbc\n",
            "Successfully installed pyodbc-4.0.32\n"
          ]
        }
      ]
    },
    {
      "cell_type": "code",
      "metadata": {
        "colab": {
          "base_uri": "https://localhost:8080/"
        },
        "id": "KMk0pxh-97cF",
        "outputId": "9d32f8f1-e602-43d0-9152-363fb3cc0694"
      },
      "source": [
        "# import package\n",
        "import pyodbc\n",
        "\n",
        "# check for driver\n",
        "pyodbc.drivers()"
      ],
      "execution_count": 97,
      "outputs": [
        {
          "output_type": "execute_result",
          "data": {
            "text/plain": [
              "['ODBC Driver 17 for SQL Server']"
            ]
          },
          "metadata": {},
          "execution_count": 97
        }
      ]
    },
    {
      "cell_type": "code",
      "metadata": {
        "id": "m3Lh540wpW2g"
      },
      "source": [
        "# save database info\n",
        "server = 'goreplica.database.windows.net'\n",
        "database = 'goMedisysCo_ILANS'\n",
        "username = 'godbexternalilans'\n",
        "password = 'G0ILANSExtern@l'\n",
        "\n",
        "# establish connection\n",
        "cnxn = pyodbc.connect('DRIVER={ODBC Driver 17 for SQL Server};SERVER='+server+';DATABASE='+database+';UID='+username+';PWD='+ password)\n",
        "cursor = cnxn.cursor()\n"
      ],
      "execution_count": 98,
      "outputs": []
    },
    {
      "cell_type": "code",
      "metadata": {
        "colab": {
          "base_uri": "https://localhost:8080/",
          "height": 206
        },
        "id": "TGxa_RzZ_d8I",
        "outputId": "48d8a352-ea38-4277-88ca-ac7c8cf82512"
      },
      "source": [
        "# test connection \n",
        "\n",
        "# cursor.execute('SELECT name, code FROM dbo.companyOffices')\n",
        "# for i in cursor:\n",
        "  # print(i)\n",
        "\n",
        "# to output query to DataFrame use >> pd.read_sql_query('query', cnxn)\n",
        "df_offices = pd.read_sql_query('SELECT name, code FROM dbo.companyOffices', cnxn)\n",
        "\n",
        "df_offices.head()"
      ],
      "execution_count": 99,
      "outputs": [
        {
          "output_type": "execute_result",
          "data": {
            "text/html": [
              "<div>\n",
              "<style scoped>\n",
              "    .dataframe tbody tr th:only-of-type {\n",
              "        vertical-align: middle;\n",
              "    }\n",
              "\n",
              "    .dataframe tbody tr th {\n",
              "        vertical-align: top;\n",
              "    }\n",
              "\n",
              "    .dataframe thead th {\n",
              "        text-align: right;\n",
              "    }\n",
              "</style>\n",
              "<table border=\"1\" class=\"dataframe\">\n",
              "  <thead>\n",
              "    <tr style=\"text-align: right;\">\n",
              "      <th></th>\n",
              "      <th>name</th>\n",
              "      <th>code</th>\n",
              "    </tr>\n",
              "  </thead>\n",
              "  <tbody>\n",
              "    <tr>\n",
              "      <th>0</th>\n",
              "      <td>Principal</td>\n",
              "      <td>001</td>\n",
              "    </tr>\n",
              "    <tr>\n",
              "      <th>1</th>\n",
              "      <td>COUNTRY</td>\n",
              "      <td>001</td>\n",
              "    </tr>\n",
              "    <tr>\n",
              "      <th>2</th>\n",
              "      <td>PARKWAY</td>\n",
              "      <td>002</td>\n",
              "    </tr>\n",
              "    <tr>\n",
              "      <th>3</th>\n",
              "      <td>ZERENIA</td>\n",
              "      <td>003</td>\n",
              "    </tr>\n",
              "    <tr>\n",
              "      <th>4</th>\n",
              "      <td>CALLE 134</td>\n",
              "      <td>004</td>\n",
              "    </tr>\n",
              "  </tbody>\n",
              "</table>\n",
              "</div>"
            ],
            "text/plain": [
              "        name code\n",
              "0  Principal  001\n",
              "1    COUNTRY  001\n",
              "2    PARKWAY  002\n",
              "3    ZERENIA  003\n",
              "4  CALLE 134  004"
            ]
          },
          "metadata": {},
          "execution_count": 99
        }
      ]
    },
    {
      "cell_type": "markdown",
      "metadata": {
        "id": "hsPr9RoplVNA"
      },
      "source": [
        "![green-divider](https://user-images.githubusercontent.com/7065401/52071924-c003ad80-2562-11e9-8297-1c6595f8a7ff.png)"
      ]
    },
    {
      "cell_type": "markdown",
      "metadata": {
        "id": "y9La3X0PlcRs"
      },
      "source": [
        "### Get *Procedimientos Ordenados* for a Specific Date"
      ]
    },
    {
      "cell_type": "code",
      "metadata": {
        "id": "FcO8g85klYmM"
      },
      "source": [
        "# function to get procedures\n",
        "def get_procedures(year, month, day):\n",
        "\n",
        "  # year >> in int form\n",
        "  # month >> [1, 2, 3, ... 12]\n",
        "  # day >> [1, 2, 3, ... 29, 30, 31]\n",
        "\n",
        "  query = f\"\"\"SELECT DISTINCT\n",
        "\tEnc.identifier AS [Ingreso],\n",
        "\t2021 - YEAR(PatP.birthDate) AS [Edad],\n",
        "\tPatS.code AS [Sexo],\n",
        "\tCity.name AS [CiudadMunicipio],\n",
        "\tDIAG.name AS [Diagnostico],\n",
        "\tCASE\n",
        "\t\tWHEN ContP.name LIKE '%ARL%' then 'ARL'\n",
        "\t\tWHEN ContP.name LIKE 'POLIC%' then 'Policia'\n",
        "\t\tWHEN ContP.name LIKE '%PLAN CORTESÍA%' then 'Cortesia'\n",
        "\t\tWHEN ContP.name LIKE '%PLAN MEMBRESÍA%' then 'Membresia'\n",
        "\t\tWHEN ContP.name LIKE '%PARTICULAR%' then 'Particular'\n",
        "\tELSE 'EPS' END AS [Tipo Plan],\n",
        "\tFORMAT(Ev.actionRecordedDate, 'yyyy-MM-dd')  AS [FechaFormulacion],\n",
        "\tProdG.code AS [CodProducto],\n",
        "\tEVForm.formulatedAmount AS [Cantidad]\n",
        "\n",
        "  FROM EHREventFormulation AS EVForm WITH(NOLOCK)\n",
        "    INNER JOIN EHREvents AS EV WITH(NOLOCK) ON EVForm.idEHREvent = EV.idEHREvent\n",
        "    INNER JOIN users AS Pro WITH(NOLOCK) ON EVForm.idUserPractitioner = Pro.idUser  \n",
        "    LEFT OUTER JOIN (userSystemSpecialities AS USpec WITH(NOLOCK) \n",
        "        INNER JOIN generalSpecialties AS Spec WITH(NOLOCK) ON USpec.idSpeciality = Spec.idSpecialty\n",
        "            ) ON Pro.idUser = USpec.idUser\n",
        "    LEFT OUTER JOIN (userSystemMRNumbers AS MR WITH(NOLOCK) \n",
        "        INNER JOIN generalInternalLists AS MRT WITH(NOLOCK) ON MR.idTypeMedicalRecord = MRT.idGeneralInternalList\n",
        "            AND MRT.itemValue = 'R.M.'\n",
        "            ) ON Pro.idUser = MR.idUser\n",
        "    INNER JOIN encounters AS Enc WITH(NOLOCK) ON EV.idEncounter = Enc.idEncounter\n",
        "    INNER JOIN users AS Pat WITH(NOLOCK) ON Enc.idUserPatient = Pat.idUser\n",
        "    INNER JOIN userPeople AS PatP WITH(NOLOCK) ON Pat.idUser = PatP.idUser\n",
        "\t  INNER JOIN userConfAdministrativeSex AS PatS WITH(NOLOCK) ON PatP.idAdministrativeSex = PatS.idAdministrativeSex\n",
        "    LEFT OUTER JOIN generalPoliticalDivisions AS City WITH(NOLOCK) ON PatP.idHomePlacePoliticalDivision = City.idPoliticalDivision\n",
        "    LEFT OUTER JOIN generalPoliticalDivisions AS Neig WITH(NOLOCK) ON PatP.idHomePoliticalDivisionNeighborhood = Neig.idPoliticalDivision\n",
        "    INNER JOIN userConfTypeDocuments AS DocT WITH(NOLOCK) ON Pat.idDocumentType = DocT.idTypeDocument\n",
        "    INNER JOIN companyOffices AS Office WITH(NOLOCK) ON Enc.idOffice = Office.idOffice\n",
        "    INNER JOIN encounterRecords AS EncR WITH(NOLOCK) ON Enc.idEncounter = EncR.idEncounter\n",
        "    INNER JOIN users AS Ins WITH(NOLOCK) ON EncR.idPrincipalCOntractee = Ins.idUser\n",
        "    INNER JOIN contracts AS Cont WITH(NOLOCK) ON EncR.idPrincipalContract = Cont.idContract\n",
        "    INNER JOIN contractPlans AS ContP WITH(NOLOCK) ON EncR.idPrincipalPlan = ContP.idPlan\n",
        "    INNER JOIN productGenerics AS ProdG WITH(NOLOCK) ON EVForm.idProductGeneric = ProdG.idGenericProduct\n",
        "\t  INNER JOIN productTypes AS PrType WITH(NOLOCK) ON ProdG.idProductType = prType.idProductType\n",
        "    LEFT OUTER JOIN productGenericDrugs AS Drug WITH(NOLOCK) ON ProdG.idGenericProduct = Drug.idGenericProduct\n",
        "    INNER JOIN generalMeasurementUnits AS GU WITH(NOLOCK) ON EVForm.idDoseUnit = GU.idUnit\n",
        "    INNER JOIN EHRConfFormulationPeriodicity AS Per WITH(NOLOCK) ON EVForm.idPeriodicity = Per.idPeriodicity\n",
        "    INNER JOIN productConfAdministrationRoute AS ARoute WITH(NOLOCK) ON EVForm.idAdministrationRoute = ARoute.idAdministrationRoute\n",
        "\t  INNER JOIN generalActions AS AC ON EV.idAction = AC.idAction\n",
        "\t  INNER JOIN dbo.encounters AS ENCO ON EV.idEncounter = ENCO.idEncounter\n",
        "\t  INNER JOIN dbo.encounterRecords AS ENCORE ON ENCO.idEncounter = ENCORE.idEncounter\n",
        "\t  LEFT OUTER JOIN dbo.diagnostics AS DIAG ON ENCORE.idFirstDiagnosis = DIAG.idDiagnostic\n",
        "\t  INNER JOIN dbo.healthServices AS HS ON ENCORE.idActualService = HS.idHealthService\n",
        "\t  LEFT OUTER JOIN generalMeasurementUnits AS AdminTime WITH(NOLOCK) ON EVForm.idAdministrationTime = AdminTime.idUnit AND AdminTime.type = 'T'\n",
        "\t  INNER JOIN userConfTypeDocuments AS DocType WITH(NOLOCK) ON Pro.idDocumentType = DocType.idTypeDocument\n",
        "\n",
        "  WHERE  ProdG.idGenericProduct  IN ( 38591 , 38711 , 38712 , 38796, 39696) AND Enc.identifier != 1 AND EVForm.isSuspended != 1 AND Ac.name = 'Orden Médica (Formula Magistral)'\n",
        "  AND YEAR(Ev.actionRecordedDate) = {year} AND MONTH(Ev.actionRecordedDate) = {month} AND DAY(Ev.actionRecordedDate) = {day}\n",
        "  \"\"\"\n",
        "\n",
        "  # query to df\n",
        "  df_proced = pd.read_sql_query(query, cnxn)\n",
        "\n",
        "  # save date\n",
        "  date = f'{year}-{month}-{day}'\n",
        "\n",
        "  return df_proced, date\n",
        "  "
      ],
      "execution_count": 100,
      "outputs": []
    },
    {
      "cell_type": "code",
      "metadata": {
        "id": "TgFPPzvBnGQr"
      },
      "source": [
        "# get procedures for 2021-??-??\n",
        "df_date, date = get_procedures(2021, 11, 11)"
      ],
      "execution_count": 101,
      "outputs": []
    },
    {
      "cell_type": "code",
      "metadata": {
        "colab": {
          "base_uri": "https://localhost:8080/",
          "height": 424
        },
        "id": "FDdASIk63kEU",
        "outputId": "22934892-0880-4518-ff1a-637cbfba6833"
      },
      "source": [
        "# check df\n",
        "df_date"
      ],
      "execution_count": 102,
      "outputs": [
        {
          "output_type": "execute_result",
          "data": {
            "text/html": [
              "<div>\n",
              "<style scoped>\n",
              "    .dataframe tbody tr th:only-of-type {\n",
              "        vertical-align: middle;\n",
              "    }\n",
              "\n",
              "    .dataframe tbody tr th {\n",
              "        vertical-align: top;\n",
              "    }\n",
              "\n",
              "    .dataframe thead th {\n",
              "        text-align: right;\n",
              "    }\n",
              "</style>\n",
              "<table border=\"1\" class=\"dataframe\">\n",
              "  <thead>\n",
              "    <tr style=\"text-align: right;\">\n",
              "      <th></th>\n",
              "      <th>Ingreso</th>\n",
              "      <th>Edad</th>\n",
              "      <th>Sexo</th>\n",
              "      <th>CiudadMunicipio</th>\n",
              "      <th>Diagnostico</th>\n",
              "      <th>Tipo Plan</th>\n",
              "      <th>FechaFormulacion</th>\n",
              "      <th>CodProducto</th>\n",
              "      <th>Cantidad</th>\n",
              "    </tr>\n",
              "  </thead>\n",
              "  <tbody>\n",
              "    <tr>\n",
              "      <th>0</th>\n",
              "      <td>231307</td>\n",
              "      <td>88</td>\n",
              "      <td>F</td>\n",
              "      <td>BOGOTÁ D.C.</td>\n",
              "      <td>None</td>\n",
              "      <td>EPS</td>\n",
              "      <td>2021-11-11</td>\n",
              "      <td>fm001</td>\n",
              "      <td>2</td>\n",
              "    </tr>\n",
              "    <tr>\n",
              "      <th>1</th>\n",
              "      <td>237625</td>\n",
              "      <td>56</td>\n",
              "      <td>F</td>\n",
              "      <td>BOGOTÁ D.C.</td>\n",
              "      <td>DOLOR CRONICO INTRATABLE</td>\n",
              "      <td>EPS</td>\n",
              "      <td>2021-11-11</td>\n",
              "      <td>fm001</td>\n",
              "      <td>1</td>\n",
              "    </tr>\n",
              "    <tr>\n",
              "      <th>2</th>\n",
              "      <td>241302</td>\n",
              "      <td>57</td>\n",
              "      <td>F</td>\n",
              "      <td>BOGOTÁ D.C.</td>\n",
              "      <td>None</td>\n",
              "      <td>EPS</td>\n",
              "      <td>2021-11-11</td>\n",
              "      <td>fm001</td>\n",
              "      <td>1</td>\n",
              "    </tr>\n",
              "    <tr>\n",
              "      <th>3</th>\n",
              "      <td>243880</td>\n",
              "      <td>59</td>\n",
              "      <td>F</td>\n",
              "      <td>BOGOTÁ D.C.</td>\n",
              "      <td>OTRO DOLOR CRONICO</td>\n",
              "      <td>EPS</td>\n",
              "      <td>2021-11-11</td>\n",
              "      <td>fm001</td>\n",
              "      <td>2</td>\n",
              "    </tr>\n",
              "    <tr>\n",
              "      <th>4</th>\n",
              "      <td>244497</td>\n",
              "      <td>79</td>\n",
              "      <td>F</td>\n",
              "      <td>BOGOTÁ D.C.</td>\n",
              "      <td>OTRO DOLOR CRONICO</td>\n",
              "      <td>Particular</td>\n",
              "      <td>2021-11-11</td>\n",
              "      <td>fm003</td>\n",
              "      <td>1</td>\n",
              "    </tr>\n",
              "    <tr>\n",
              "      <th>...</th>\n",
              "      <td>...</td>\n",
              "      <td>...</td>\n",
              "      <td>...</td>\n",
              "      <td>...</td>\n",
              "      <td>...</td>\n",
              "      <td>...</td>\n",
              "      <td>...</td>\n",
              "      <td>...</td>\n",
              "      <td>...</td>\n",
              "    </tr>\n",
              "    <tr>\n",
              "      <th>207</th>\n",
              "      <td>245188</td>\n",
              "      <td>65</td>\n",
              "      <td>F</td>\n",
              "      <td>BOGOTÁ D.C.</td>\n",
              "      <td>OTRO DOLOR CRONICO</td>\n",
              "      <td>EPS</td>\n",
              "      <td>2021-11-11</td>\n",
              "      <td>fm001</td>\n",
              "      <td>1</td>\n",
              "    </tr>\n",
              "    <tr>\n",
              "      <th>208</th>\n",
              "      <td>245190</td>\n",
              "      <td>60</td>\n",
              "      <td>F</td>\n",
              "      <td>BOGOTÁ D.C.</td>\n",
              "      <td>None</td>\n",
              "      <td>Particular</td>\n",
              "      <td>2021-11-11</td>\n",
              "      <td>fm001</td>\n",
              "      <td>1</td>\n",
              "    </tr>\n",
              "    <tr>\n",
              "      <th>209</th>\n",
              "      <td>245196</td>\n",
              "      <td>64</td>\n",
              "      <td>F</td>\n",
              "      <td>BOGOTÁ D.C.</td>\n",
              "      <td>None</td>\n",
              "      <td>EPS</td>\n",
              "      <td>2021-11-11</td>\n",
              "      <td>fm003</td>\n",
              "      <td>2</td>\n",
              "    </tr>\n",
              "    <tr>\n",
              "      <th>210</th>\n",
              "      <td>245197</td>\n",
              "      <td>58</td>\n",
              "      <td>F</td>\n",
              "      <td>BOGOTÁ D.C.</td>\n",
              "      <td>OTRO DOLOR CRONICO</td>\n",
              "      <td>EPS</td>\n",
              "      <td>2021-11-11</td>\n",
              "      <td>fm003</td>\n",
              "      <td>1</td>\n",
              "    </tr>\n",
              "    <tr>\n",
              "      <th>211</th>\n",
              "      <td>245206</td>\n",
              "      <td>56</td>\n",
              "      <td>F</td>\n",
              "      <td>BOGOTÁ D.C.</td>\n",
              "      <td>EPICONDILITIS LATERAL</td>\n",
              "      <td>EPS</td>\n",
              "      <td>2021-11-11</td>\n",
              "      <td>fm001</td>\n",
              "      <td>2</td>\n",
              "    </tr>\n",
              "  </tbody>\n",
              "</table>\n",
              "<p>212 rows × 9 columns</p>\n",
              "</div>"
            ],
            "text/plain": [
              "     Ingreso  Edad Sexo  ... FechaFormulacion CodProducto Cantidad\n",
              "0     231307    88    F  ...       2021-11-11       fm001        2\n",
              "1     237625    56    F  ...       2021-11-11       fm001        1\n",
              "2     241302    57    F  ...       2021-11-11       fm001        1\n",
              "3     243880    59    F  ...       2021-11-11       fm001        2\n",
              "4     244497    79    F  ...       2021-11-11       fm003        1\n",
              "..       ...   ...  ...  ...              ...         ...      ...\n",
              "207   245188    65    F  ...       2021-11-11       fm001        1\n",
              "208   245190    60    F  ...       2021-11-11       fm001        1\n",
              "209   245196    64    F  ...       2021-11-11       fm003        2\n",
              "210   245197    58    F  ...       2021-11-11       fm003        1\n",
              "211   245206    56    F  ...       2021-11-11       fm001        2\n",
              "\n",
              "[212 rows x 9 columns]"
            ]
          },
          "metadata": {},
          "execution_count": 102
        }
      ]
    },
    {
      "cell_type": "markdown",
      "metadata": {
        "id": "eN585uIPtdDO"
      },
      "source": [
        "![green-divider](https://user-images.githubusercontent.com/7065401/52071924-c003ad80-2562-11e9-8297-1c6595f8a7ff.png)"
      ]
    },
    {
      "cell_type": "markdown",
      "metadata": {
        "id": "HrpOSmu6tg57"
      },
      "source": [
        "### Function to Encode Features"
      ]
    },
    {
      "cell_type": "code",
      "metadata": {
        "id": "VTrOqZ3RtrSL"
      },
      "source": [
        "def feature_encoding(df):\n",
        "  # remove duplicates\n",
        "  df = df.drop_duplicates(subset=['Ingreso'])\n",
        "\n",
        "  # change FechaFormulacion to datetime\n",
        "  df['FechaFormulacion'] = pd.to_datetime(df['FechaFormulacion'])\n",
        "\n",
        "  # Sex encoding >> F=0, M=1\n",
        "  df['Sex'] = [1 if df.loc[index, 'Sexo'] == 'M' else 0 for index in df.index] \n",
        "\n",
        "  # is_plan_particular >> Particular=1\n",
        "  df['is_plan_particular'] = [1 if df.loc[index, 'Tipo Plan'] == 'Particular' else 0 for index in df.index]\n",
        "\n",
        "  # is_fm002 (THC)\n",
        "  df['is_fm002'] = [1 if df.loc[index, 'CodProducto'] == 'fm002' else 0 for index in df.index]\n",
        "  # is_fm001 (CBD)\n",
        "  df['is_fm001'] = [1 if df.loc[index, 'CodProducto'] == 'fm001' else 0 for index in df.index]\n",
        "\n",
        "  # is_Medellin\n",
        "  df['is_Medellin'] = [1 if df.loc[index, 'CiudadMunicipio'] == 'MEDELLÍN' else 0 for index in df.index]\n",
        "  # is_Mosquera\n",
        "  df['is_Mosquera'] = [1 if df.loc[index, 'CiudadMunicipio'] == 'MOSQUERA' else 0 for index in df.index]\n",
        "  # is_Bogota\n",
        "  df['is_Bogota'] = [1 if df.loc[index, 'CiudadMunicipio'] == 'BOGOTÁ D.C.' else 0 for index in df.index]\n",
        "\n",
        "  # other_cronic_pain\n",
        "  df['is_cronic_pain'] = [1 if df.loc[index, 'Diagnostico'] == 'OTRO DOLOR CRONICO' else 0 for index in df.index]\n",
        "  # is_anxiety_depression\n",
        "  df['is_anxiety_depres'] = [1 if df.loc[index, 'Diagnostico'] == 'TRASTORNO MIXTO DE ANSIEDAD YDEPRESION' else 0\\\n",
        "                                 for index in df.index]\n",
        "  # is_cronic_pain_uncu\n",
        "  df['is_cronic_pain_uncu'] = [1 if df.loc[index, 'Diagnostico'] == 'DOLOR CRONICO INTRATABLE' else 0 for index in df.index]\n",
        "\n",
        "\n",
        "  # is_51_76\n",
        "  df['is_51_76'] = [1 if df.loc[index, 'Edad'] >= 51 and df.loc[index, 'Edad'] <= 76 else 0 for index in df.index]\n",
        "  # is_76_101\n",
        "  df['is_76_101'] = [1 if df.loc[index, 'Edad'] >= 76 and df.loc[index, 'Edad'] <= 101 else 0 for index in df.index]\n",
        "\n",
        "  return df\n"
      ],
      "execution_count": 103,
      "outputs": []
    },
    {
      "cell_type": "code",
      "metadata": {
        "id": "ssfJLzaE2vVD"
      },
      "source": [
        "# return df for the specified date with the features encoded\n",
        "df_date_raw = feature_encoding(df_date)"
      ],
      "execution_count": null,
      "outputs": []
    },
    {
      "cell_type": "code",
      "metadata": {
        "colab": {
          "base_uri": "https://localhost:8080/",
          "height": 424
        },
        "id": "8cbR4kut85sE",
        "outputId": "a244b376-812a-4695-a365-d778289a27e3"
      },
      "source": [
        "# select only the encoded features\n",
        "features_encoded_date = df_date_raw[['Sex', 'is_51_76', 'is_76_101', 'is_plan_particular', 'is_fm002',\\\n",
        "                                     'is_fm001', 'is_Medellin', 'is_Mosquera', 'is_Bogota', 'is_cronic_pain',\\\n",
        "                                    'is_anxiety_depres', 'is_cronic_pain_uncu']]\n",
        "\n",
        "features_encoded_date"
      ],
      "execution_count": 105,
      "outputs": [
        {
          "output_type": "execute_result",
          "data": {
            "text/html": [
              "<div>\n",
              "<style scoped>\n",
              "    .dataframe tbody tr th:only-of-type {\n",
              "        vertical-align: middle;\n",
              "    }\n",
              "\n",
              "    .dataframe tbody tr th {\n",
              "        vertical-align: top;\n",
              "    }\n",
              "\n",
              "    .dataframe thead th {\n",
              "        text-align: right;\n",
              "    }\n",
              "</style>\n",
              "<table border=\"1\" class=\"dataframe\">\n",
              "  <thead>\n",
              "    <tr style=\"text-align: right;\">\n",
              "      <th></th>\n",
              "      <th>Sex</th>\n",
              "      <th>is_51_76</th>\n",
              "      <th>is_76_101</th>\n",
              "      <th>is_plan_particular</th>\n",
              "      <th>is_fm002</th>\n",
              "      <th>is_fm001</th>\n",
              "      <th>is_Medellin</th>\n",
              "      <th>is_Mosquera</th>\n",
              "      <th>is_Bogota</th>\n",
              "      <th>is_cronic_pain</th>\n",
              "      <th>is_anxiety_depres</th>\n",
              "      <th>is_cronic_pain_uncu</th>\n",
              "    </tr>\n",
              "  </thead>\n",
              "  <tbody>\n",
              "    <tr>\n",
              "      <th>0</th>\n",
              "      <td>0</td>\n",
              "      <td>0</td>\n",
              "      <td>1</td>\n",
              "      <td>0</td>\n",
              "      <td>0</td>\n",
              "      <td>1</td>\n",
              "      <td>0</td>\n",
              "      <td>0</td>\n",
              "      <td>1</td>\n",
              "      <td>0</td>\n",
              "      <td>0</td>\n",
              "      <td>0</td>\n",
              "    </tr>\n",
              "    <tr>\n",
              "      <th>1</th>\n",
              "      <td>0</td>\n",
              "      <td>1</td>\n",
              "      <td>0</td>\n",
              "      <td>0</td>\n",
              "      <td>0</td>\n",
              "      <td>1</td>\n",
              "      <td>0</td>\n",
              "      <td>0</td>\n",
              "      <td>1</td>\n",
              "      <td>0</td>\n",
              "      <td>0</td>\n",
              "      <td>1</td>\n",
              "    </tr>\n",
              "    <tr>\n",
              "      <th>2</th>\n",
              "      <td>0</td>\n",
              "      <td>1</td>\n",
              "      <td>0</td>\n",
              "      <td>0</td>\n",
              "      <td>0</td>\n",
              "      <td>1</td>\n",
              "      <td>0</td>\n",
              "      <td>0</td>\n",
              "      <td>1</td>\n",
              "      <td>0</td>\n",
              "      <td>0</td>\n",
              "      <td>0</td>\n",
              "    </tr>\n",
              "    <tr>\n",
              "      <th>3</th>\n",
              "      <td>0</td>\n",
              "      <td>1</td>\n",
              "      <td>0</td>\n",
              "      <td>0</td>\n",
              "      <td>0</td>\n",
              "      <td>1</td>\n",
              "      <td>0</td>\n",
              "      <td>0</td>\n",
              "      <td>1</td>\n",
              "      <td>1</td>\n",
              "      <td>0</td>\n",
              "      <td>0</td>\n",
              "    </tr>\n",
              "    <tr>\n",
              "      <th>4</th>\n",
              "      <td>0</td>\n",
              "      <td>0</td>\n",
              "      <td>1</td>\n",
              "      <td>1</td>\n",
              "      <td>0</td>\n",
              "      <td>0</td>\n",
              "      <td>0</td>\n",
              "      <td>0</td>\n",
              "      <td>1</td>\n",
              "      <td>1</td>\n",
              "      <td>0</td>\n",
              "      <td>0</td>\n",
              "    </tr>\n",
              "    <tr>\n",
              "      <th>...</th>\n",
              "      <td>...</td>\n",
              "      <td>...</td>\n",
              "      <td>...</td>\n",
              "      <td>...</td>\n",
              "      <td>...</td>\n",
              "      <td>...</td>\n",
              "      <td>...</td>\n",
              "      <td>...</td>\n",
              "      <td>...</td>\n",
              "      <td>...</td>\n",
              "      <td>...</td>\n",
              "      <td>...</td>\n",
              "    </tr>\n",
              "    <tr>\n",
              "      <th>207</th>\n",
              "      <td>0</td>\n",
              "      <td>1</td>\n",
              "      <td>0</td>\n",
              "      <td>0</td>\n",
              "      <td>0</td>\n",
              "      <td>1</td>\n",
              "      <td>0</td>\n",
              "      <td>0</td>\n",
              "      <td>1</td>\n",
              "      <td>1</td>\n",
              "      <td>0</td>\n",
              "      <td>0</td>\n",
              "    </tr>\n",
              "    <tr>\n",
              "      <th>208</th>\n",
              "      <td>0</td>\n",
              "      <td>1</td>\n",
              "      <td>0</td>\n",
              "      <td>1</td>\n",
              "      <td>0</td>\n",
              "      <td>1</td>\n",
              "      <td>0</td>\n",
              "      <td>0</td>\n",
              "      <td>1</td>\n",
              "      <td>0</td>\n",
              "      <td>0</td>\n",
              "      <td>0</td>\n",
              "    </tr>\n",
              "    <tr>\n",
              "      <th>209</th>\n",
              "      <td>0</td>\n",
              "      <td>1</td>\n",
              "      <td>0</td>\n",
              "      <td>0</td>\n",
              "      <td>0</td>\n",
              "      <td>0</td>\n",
              "      <td>0</td>\n",
              "      <td>0</td>\n",
              "      <td>1</td>\n",
              "      <td>0</td>\n",
              "      <td>0</td>\n",
              "      <td>0</td>\n",
              "    </tr>\n",
              "    <tr>\n",
              "      <th>210</th>\n",
              "      <td>0</td>\n",
              "      <td>1</td>\n",
              "      <td>0</td>\n",
              "      <td>0</td>\n",
              "      <td>0</td>\n",
              "      <td>0</td>\n",
              "      <td>0</td>\n",
              "      <td>0</td>\n",
              "      <td>1</td>\n",
              "      <td>1</td>\n",
              "      <td>0</td>\n",
              "      <td>0</td>\n",
              "    </tr>\n",
              "    <tr>\n",
              "      <th>211</th>\n",
              "      <td>0</td>\n",
              "      <td>1</td>\n",
              "      <td>0</td>\n",
              "      <td>0</td>\n",
              "      <td>0</td>\n",
              "      <td>1</td>\n",
              "      <td>0</td>\n",
              "      <td>0</td>\n",
              "      <td>1</td>\n",
              "      <td>0</td>\n",
              "      <td>0</td>\n",
              "      <td>0</td>\n",
              "    </tr>\n",
              "  </tbody>\n",
              "</table>\n",
              "<p>211 rows × 12 columns</p>\n",
              "</div>"
            ],
            "text/plain": [
              "     Sex  is_51_76  ...  is_anxiety_depres  is_cronic_pain_uncu\n",
              "0      0         0  ...                  0                    0\n",
              "1      0         1  ...                  0                    1\n",
              "2      0         1  ...                  0                    0\n",
              "3      0         1  ...                  0                    0\n",
              "4      0         0  ...                  0                    0\n",
              "..   ...       ...  ...                ...                  ...\n",
              "207    0         1  ...                  0                    0\n",
              "208    0         1  ...                  0                    0\n",
              "209    0         1  ...                  0                    0\n",
              "210    0         1  ...                  0                    0\n",
              "211    0         1  ...                  0                    0\n",
              "\n",
              "[211 rows x 12 columns]"
            ]
          },
          "metadata": {},
          "execution_count": 105
        }
      ]
    },
    {
      "cell_type": "markdown",
      "metadata": {
        "id": "ger1dbhtuEZM"
      },
      "source": [
        "![green-divider](https://user-images.githubusercontent.com/7065401/52071924-c003ad80-2562-11e9-8297-1c6595f8a7ff.png)"
      ]
    },
    {
      "cell_type": "markdown",
      "metadata": {
        "id": "5JvOfJ2k_aOB"
      },
      "source": [
        "### Prediction of Patients who are Going to Buy FMs Prescribed"
      ]
    },
    {
      "cell_type": "code",
      "metadata": {
        "colab": {
          "base_uri": "https://localhost:8080/"
        },
        "id": "zwOLVAoF_lP_",
        "outputId": "91aeb36a-3d5b-4fac-904e-c3deb7697bcd"
      },
      "source": [
        "# prediction with classification threshold >= 0.7\n",
        "  # 1 >> patient is classified as a buyer \n",
        "  # 0 >> patient is classified as a non_buyer\n",
        "prediction_new_date = (classifier.predict_proba(features_encoded_date)[:,1]>=0.7).astype(int)\n",
        "\n",
        "prediction_new_date"
      ],
      "execution_count": 106,
      "outputs": [
        {
          "output_type": "execute_result",
          "data": {
            "text/plain": [
              "array([1, 1, 1, 1, 1, 1, 1, 0, 1, 1, 1, 1, 1, 1, 1, 1, 0, 1, 1, 1, 1, 1,\n",
              "       1, 1, 0, 1, 1, 1, 1, 1, 1, 0, 1, 0, 1, 1, 1, 1, 1, 1, 1, 1, 1, 1,\n",
              "       1, 1, 1, 1, 1, 1, 1, 1, 1, 1, 1, 1, 1, 1, 1, 1, 1, 0, 0, 1, 1, 1,\n",
              "       1, 1, 1, 1, 1, 1, 1, 1, 1, 1, 1, 1, 1, 1, 1, 1, 1, 1, 0, 1, 1, 1,\n",
              "       1, 1, 1, 1, 0, 1, 1, 1, 1, 1, 1, 1, 1, 1, 1, 0, 1, 1, 1, 1, 1, 1,\n",
              "       1, 0, 0, 1, 0, 1, 1, 1, 1, 1, 1, 1, 0, 1, 1, 1, 1, 1, 1, 1, 1, 0,\n",
              "       1, 1, 0, 1, 1, 1, 1, 0, 1, 0, 1, 0, 0, 1, 1, 1, 1, 1, 1, 1, 1, 1,\n",
              "       1, 0, 1, 1, 0, 1, 0, 1, 1, 1, 0, 1, 0, 1, 1, 1, 1, 1, 1, 1, 1, 1,\n",
              "       1, 0, 1, 1, 1, 1, 1, 1, 1, 1, 1, 1, 1, 1, 1, 1, 1, 0, 1, 1, 1, 1,\n",
              "       1, 1, 1, 1, 1, 1, 1, 0, 1, 1, 1, 1, 1])"
            ]
          },
          "metadata": {},
          "execution_count": 106
        }
      ]
    },
    {
      "cell_type": "code",
      "metadata": {
        "colab": {
          "base_uri": "https://localhost:8080/"
        },
        "id": "gj9AGqyiAPT1",
        "outputId": "9c02cf15-860f-48d0-d821-830e875b34c6"
      },
      "source": [
        "# vector of probabilities for the procedures of the day\n",
        "probabilities = classifier.predict_proba(features_encoded_date)\n",
        "\n",
        "# print first 20 patients\n",
        "print(' Non_Buyer   |  Buyer   ')\n",
        "for i in range(0, 21):\n",
        "  print(probabilities[i])"
      ],
      "execution_count": 107,
      "outputs": [
        {
          "output_type": "stream",
          "name": "stdout",
          "text": [
            " Non_Buyer   |  Buyer   \n",
            "[0.23525183 0.76474817]\n",
            "[0.21105095 0.78894905]\n",
            "[0.28155807 0.71844193]\n",
            "[0.17671656 0.82328344]\n",
            "[0.05923478 0.94076522]\n",
            "[0.21874807 0.78125193]\n",
            "[0.29066454 0.70933546]\n",
            "[0.39530435 0.60469565]\n",
            "[0.15793532 0.84206468]\n",
            "[0.25508677 0.74491323]\n",
            "[0.19344625 0.80655375]\n",
            "[0.07106874 0.92893126]\n",
            "[0.21105095 0.78894905]\n",
            "[0.17671656 0.82328344]\n",
            "[0.17671656 0.82328344]\n",
            "[0.19882722 0.80117278]\n",
            "[0.30316338 0.69683662]\n",
            "[0.2153703 0.7846297]\n",
            "[0.15793532 0.84206468]\n",
            "[0.17671656 0.82328344]\n",
            "[0.25385068 0.74614932]\n"
          ]
        }
      ]
    },
    {
      "cell_type": "code",
      "metadata": {
        "colab": {
          "base_uri": "https://localhost:8080/",
          "height": 514
        },
        "id": "FNEv6d1lDEp2",
        "outputId": "ce746b9f-5d1a-4b67-c408-a6495b2598ce"
      },
      "source": [
        "# add the predictions to the df_date_raw procedures \n",
        "df_date_raw['FM_buyer'] = prediction_new_date\n",
        "# select un-encoded features\n",
        "df_date_raw = df_date_raw[['Ingreso', 'Edad', 'Sexo', 'CiudadMunicipio', 'Diagnostico', 'Tipo Plan',\\\n",
        "                           'FechaFormulacion', 'CodProducto', 'Cantidad', 'FM_buyer']]\n",
        "\n",
        "\n",
        "# number of prescriptions\n",
        "num_prescrip = len(df_date_raw)\n",
        "# predicted buyers\n",
        "num_buyers = len(df_date_raw[df_date_raw['FM_buyer'] == 1])\n",
        "# patient purchase rate\n",
        "patient_purchase_rate = round((num_buyers / num_prescrip) * 100, 2)\n",
        "\n",
        "# number of FMs prescribed\n",
        "fms_prescribed = sum(df_date_raw.Cantidad)\n",
        "# number of predicted FMs bought\n",
        "num_fms = sum(df_date_raw.Cantidad[df_date_raw['FM_buyer'] == 1])\n",
        "# FMs purchase rate\n",
        "fms_purchase_rate = round((num_fms / fms_prescribed) * 100, 2)\n",
        "\n",
        "print(f'Procedimientos Ordenados: {date}', '\\n')\n",
        "\n",
        "print(f'Number of Patient Prescriptions: {num_prescrip}')\n",
        "print(f'Number of Predicted Buyers: {num_buyers}')\n",
        "print(f'Patient Purchase Rate: {patient_purchase_rate}%', '\\n')\n",
        "\n",
        "\n",
        "print(f'Number of FMs prescribed: {fms_prescribed}')\n",
        "print(f'Number of Predicted FMs bought: {num_fms}')\n",
        "print(f'FMs Purchase Rate: {fms_purchase_rate}%', '\\n')\n",
        "\n",
        "df_date_raw.head(9)"
      ],
      "execution_count": 114,
      "outputs": [
        {
          "output_type": "stream",
          "name": "stdout",
          "text": [
            "Procedimientos Ordenados: 2021-11-11 \n",
            "\n",
            "Number of Patient Prescriptions: 211\n",
            "Number of Predicted Buyers: 183\n",
            "Patient Purchase Rate: 86.73% \n",
            "\n",
            "Number of FMs prescribed: 309\n",
            "Number of Predicted FMs bought: 253\n",
            "FMs Purchase Rate: 81.88% \n",
            "\n"
          ]
        },
        {
          "output_type": "execute_result",
          "data": {
            "text/html": [
              "<div>\n",
              "<style scoped>\n",
              "    .dataframe tbody tr th:only-of-type {\n",
              "        vertical-align: middle;\n",
              "    }\n",
              "\n",
              "    .dataframe tbody tr th {\n",
              "        vertical-align: top;\n",
              "    }\n",
              "\n",
              "    .dataframe thead th {\n",
              "        text-align: right;\n",
              "    }\n",
              "</style>\n",
              "<table border=\"1\" class=\"dataframe\">\n",
              "  <thead>\n",
              "    <tr style=\"text-align: right;\">\n",
              "      <th></th>\n",
              "      <th>Ingreso</th>\n",
              "      <th>Edad</th>\n",
              "      <th>Sexo</th>\n",
              "      <th>CiudadMunicipio</th>\n",
              "      <th>Diagnostico</th>\n",
              "      <th>Tipo Plan</th>\n",
              "      <th>FechaFormulacion</th>\n",
              "      <th>CodProducto</th>\n",
              "      <th>Cantidad</th>\n",
              "      <th>FM_buyer</th>\n",
              "    </tr>\n",
              "  </thead>\n",
              "  <tbody>\n",
              "    <tr>\n",
              "      <th>0</th>\n",
              "      <td>231307</td>\n",
              "      <td>88</td>\n",
              "      <td>F</td>\n",
              "      <td>BOGOTÁ D.C.</td>\n",
              "      <td>None</td>\n",
              "      <td>EPS</td>\n",
              "      <td>2021-11-11</td>\n",
              "      <td>fm001</td>\n",
              "      <td>2</td>\n",
              "      <td>1</td>\n",
              "    </tr>\n",
              "    <tr>\n",
              "      <th>1</th>\n",
              "      <td>237625</td>\n",
              "      <td>56</td>\n",
              "      <td>F</td>\n",
              "      <td>BOGOTÁ D.C.</td>\n",
              "      <td>DOLOR CRONICO INTRATABLE</td>\n",
              "      <td>EPS</td>\n",
              "      <td>2021-11-11</td>\n",
              "      <td>fm001</td>\n",
              "      <td>1</td>\n",
              "      <td>1</td>\n",
              "    </tr>\n",
              "    <tr>\n",
              "      <th>2</th>\n",
              "      <td>241302</td>\n",
              "      <td>57</td>\n",
              "      <td>F</td>\n",
              "      <td>BOGOTÁ D.C.</td>\n",
              "      <td>None</td>\n",
              "      <td>EPS</td>\n",
              "      <td>2021-11-11</td>\n",
              "      <td>fm001</td>\n",
              "      <td>1</td>\n",
              "      <td>1</td>\n",
              "    </tr>\n",
              "    <tr>\n",
              "      <th>3</th>\n",
              "      <td>243880</td>\n",
              "      <td>59</td>\n",
              "      <td>F</td>\n",
              "      <td>BOGOTÁ D.C.</td>\n",
              "      <td>OTRO DOLOR CRONICO</td>\n",
              "      <td>EPS</td>\n",
              "      <td>2021-11-11</td>\n",
              "      <td>fm001</td>\n",
              "      <td>2</td>\n",
              "      <td>1</td>\n",
              "    </tr>\n",
              "    <tr>\n",
              "      <th>4</th>\n",
              "      <td>244497</td>\n",
              "      <td>79</td>\n",
              "      <td>F</td>\n",
              "      <td>BOGOTÁ D.C.</td>\n",
              "      <td>OTRO DOLOR CRONICO</td>\n",
              "      <td>Particular</td>\n",
              "      <td>2021-11-11</td>\n",
              "      <td>fm003</td>\n",
              "      <td>1</td>\n",
              "      <td>1</td>\n",
              "    </tr>\n",
              "    <tr>\n",
              "      <th>5</th>\n",
              "      <td>244519</td>\n",
              "      <td>38</td>\n",
              "      <td>F</td>\n",
              "      <td>BOGOTÁ D.C.</td>\n",
              "      <td>OTRO DOLOR CRONICO</td>\n",
              "      <td>EPS</td>\n",
              "      <td>2021-11-11</td>\n",
              "      <td>fm003</td>\n",
              "      <td>1</td>\n",
              "      <td>1</td>\n",
              "    </tr>\n",
              "    <tr>\n",
              "      <th>6</th>\n",
              "      <td>244584</td>\n",
              "      <td>40</td>\n",
              "      <td>F</td>\n",
              "      <td>UBALÁ</td>\n",
              "      <td>OTRO DOLOR CRONICO</td>\n",
              "      <td>EPS</td>\n",
              "      <td>2021-11-11</td>\n",
              "      <td>fm001</td>\n",
              "      <td>2</td>\n",
              "      <td>1</td>\n",
              "    </tr>\n",
              "    <tr>\n",
              "      <th>7</th>\n",
              "      <td>244585</td>\n",
              "      <td>49</td>\n",
              "      <td>F</td>\n",
              "      <td>SOACHA</td>\n",
              "      <td>FIBROMIALGIA</td>\n",
              "      <td>EPS</td>\n",
              "      <td>2021-11-11</td>\n",
              "      <td>fm003</td>\n",
              "      <td>1</td>\n",
              "      <td>0</td>\n",
              "    </tr>\n",
              "    <tr>\n",
              "      <th>8</th>\n",
              "      <td>244588</td>\n",
              "      <td>66</td>\n",
              "      <td>F</td>\n",
              "      <td>BOGOTÁ D.C.</td>\n",
              "      <td>OTRO DOLOR CRONICO</td>\n",
              "      <td>EPS</td>\n",
              "      <td>2021-11-11</td>\n",
              "      <td>fm003</td>\n",
              "      <td>3</td>\n",
              "      <td>1</td>\n",
              "    </tr>\n",
              "  </tbody>\n",
              "</table>\n",
              "</div>"
            ],
            "text/plain": [
              "   Ingreso  Edad Sexo  ... CodProducto Cantidad FM_buyer\n",
              "0   231307    88    F  ...       fm001        2        1\n",
              "1   237625    56    F  ...       fm001        1        1\n",
              "2   241302    57    F  ...       fm001        1        1\n",
              "3   243880    59    F  ...       fm001        2        1\n",
              "4   244497    79    F  ...       fm003        1        1\n",
              "5   244519    38    F  ...       fm003        1        1\n",
              "6   244584    40    F  ...       fm001        2        1\n",
              "7   244585    49    F  ...       fm003        1        0\n",
              "8   244588    66    F  ...       fm003        3        1\n",
              "\n",
              "[9 rows x 10 columns]"
            ]
          },
          "metadata": {},
          "execution_count": 114
        }
      ]
    },
    {
      "cell_type": "code",
      "metadata": {
        "id": "KHMbdxPCuChG"
      },
      "source": [
        "# export df_date_raw to csv\n",
        "file_name = f'Next_Buyers_FMs_{date}'\n",
        "\n",
        "df_date_raw.to_csv(file_name, index=False)"
      ],
      "execution_count": 115,
      "outputs": []
    },
    {
      "cell_type": "markdown",
      "metadata": {
        "id": "f6mrZztAE8Xu"
      },
      "source": [
        "![purple-divider](https://user-images.githubusercontent.com/7065401/52071927-c1cd7100-2562-11e9-908a-dde91ba14e59.png)"
      ]
    }
  ]
}